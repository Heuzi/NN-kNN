{
  "cells": [
    {
      "cell_type": "markdown",
      "metadata": {
        "id": "view-in-github",
        "colab_type": "text"
      },
      "source": [
        "<a href=\"https://colab.research.google.com/github/Heuzi/NN-kNN/blob/main/nnknn.ipynb\" target=\"_parent\"><img src=\"https://colab.research.google.com/assets/colab-badge.svg\" alt=\"Open In Colab\"/></a>"
      ]
    },
    {
      "cell_type": "markdown",
      "source": [
        "#How to use this file\n",
        "\n",
        "Run everything in \"Module definitions\" section. This will set up all the classes needed.\n",
        "\n",
        "Run the section \"pydml\" to access knn using other distance metric learning algorithms.\n",
        "\n",
        "Run a subsection in \"Data Sets\" section to load the data set you want.\n",
        "\n",
        "If the data set is a regression data set, you may run \"Standardize Regression Data sets\". This may not be needed if your parameters are tuned.\n",
        "\n",
        "Run either \"classification\" or \"Regression\".\n",
        "Notice that at the beginning of these two sections, there are settings you can tune for NN-kNN\n",
        "\n",
        "Run \"Result look up\" section to check results.\n",
        "\n",
        "Good luck, future Ye or whoever reads this.\n",
        "\n",
        "--- Past Ye"
      ],
      "metadata": {
        "id": "OJDLyd_l9gP_"
      }
    },
    {
      "cell_type": "markdown",
      "source": [
        "##Important settings for best performance"
      ],
      "metadata": {
        "id": "ReXmju_QUAEA"
      }
    },
    {
      "cell_type": "markdown",
      "source": [
        "Regularizer like L2 REGULARIZATION WILL LOWER THE ACCURACY OF NNKNN!"
      ],
      "metadata": {
        "id": "SSmWpl7f9m7H"
      }
    },
    {
      "cell_type": "markdown",
      "source": [
        "default case activation layer's bias needs to be carefully set.\n",
        "\n",
        "```\n",
        "    # self.bias = torch.nn.Parameter(torch.ones(num_cases) * num_features/2 )\n",
        "    self.bias = torch.nn.Parameter(torch.ones(num_cases) )\n",
        "```\n",
        "These two choices depends on the number of features you have. If you have too many features and the feature distances are big, they might reduce your case activation to 0 and therefore no learning can occur. In that case, use the first one.\n",
        "\n",
        "Important note: you can tell if your model is trained properly. The model should at the very least, surpass k-nn. If you are having worse accuracy than a vanilla k-nn, then you will need to tune the parameters.\n"
      ],
      "metadata": {
        "id": "UBH03nbnUDQ9"
      }
    },
    {
      "cell_type": "markdown",
      "metadata": {
        "id": "8091XltONjJx"
      },
      "source": [
        "#Module definitions"
      ]
    },
    {
      "cell_type": "markdown",
      "metadata": {
        "id": "n2l83dT3OnGc"
      },
      "source": [
        "Boring imports"
      ]
    },
    {
      "cell_type": "code",
      "execution_count": null,
      "metadata": {
        "id": "J5zwSxqSOkaM"
      },
      "outputs": [],
      "source": [
        "import torch\n",
        "import torch.nn as nn\n",
        "import math\n",
        "import numpy as np\n",
        "import matplotlib.pyplot as plt\n",
        "from sklearn.model_selection import KFold\n",
        "import torch.optim as optim\n"
      ]
    },
    {
      "cell_type": "markdown",
      "metadata": {
        "id": "cxlGKTJXHTpq"
      },
      "source": [
        "##New Feature Act Layer"
      ]
    },
    {
      "cell_type": "code",
      "source": [
        "dropout_rate = 0.5"
      ],
      "metadata": {
        "id": "iw7AZFbHmpCh"
      },
      "execution_count": null,
      "outputs": []
    },
    {
      "cell_type": "code",
      "source": [
        "class Hidden_layers_1(nn.Module):\n",
        "  def __init__(self,num_features, hidden_dim = None, extract_dim = None):\n",
        "    if(hidden_dim == None):\n",
        "      hidden_dim = num_features * 2\n",
        "    if(extract_dim == None):\n",
        "      extract_dim = num_features\n",
        "    self.layer1 = nn.Linear(num_features, hidden_dim)\n",
        "    self.relu = nn.ReLU()\n",
        "    self.dropout = nn.Dropout(p=dropout_rate)\n",
        "    self.layer2 = nn.Linear(hidden_dim,extract_dim)\n",
        "  def forward(self, x):\n",
        "    x = self.layer1(x)\n",
        "    x = self.relu(x)\n",
        "    x = self.dropout(x)\n",
        "    x = self.layer2(x)\n",
        "    x = self.relu(x)\n",
        "    return x"
      ],
      "metadata": {
        "id": "8utMDzteZnQn"
      },
      "execution_count": null,
      "outputs": []
    },
    {
      "cell_type": "code",
      "execution_count": null,
      "metadata": {
        "id": "OxfVJTwmHSd6"
      },
      "outputs": [],
      "source": [
        "class FeatureActivationLayer(torch.nn.Module):\n",
        "  '''\n",
        "    measures the feature distance/activation between query and all cases\n",
        "  '''\n",
        "  def __init__(self, num_features, num_cases, cases, hidden_layers = None):\n",
        "    super().__init__()\n",
        "    #we assume feature weight sharing between segments\n",
        "    self.feature_matrix = cases\n",
        "    self.f1weight = torch.nn.Parameter(torch.ones(num_features))\n",
        "    # self.activation_func = torch.relu\n",
        "\n",
        "    self.hidden_layers = hidden_layers\n",
        "\n",
        "  def forward(self, query, cases):\n",
        "    '''\n",
        "      input: (m+1) cases * n features; where the first case is the query\n",
        "      output: m* n feature activations\n",
        "    '''\n",
        "    if self.hidden_layers != None:\n",
        "      query = self.hidden_layers(query)\n",
        "      cases = self.hidden_layers(cases)\n",
        "\n",
        "    query = query.unsqueeze(1)\n",
        "\n",
        "    #randomly select 10% of the rows of cases\n",
        "    # cases = cases[torch.randperm(cases.shape[0])[:int(cases.shape[0] * 0.1)]]\n",
        "    #lol\n",
        "    # cases = nn.Dropout(p=0.99)(cases);\n",
        "\n",
        "    # print(\"cool\")\n",
        "    # print(query.shape)\n",
        "    # print(self.f1weight.shape)\n",
        "    # print(cases.shape)\n",
        "    # print(query)\n",
        "    # print((query*self.f1weight).shape)\n",
        "    # print((query*self.f1weight))\n",
        "    # print(self.f1weight.shape)\n",
        "    # print(self.f1weight)\n",
        "    # print((cases*self.f1weight).shape)\n",
        "    # print((cases*self.f1weight))\n",
        "    # print((query*self.f1weight - cases*self.f1weight).shape)\n",
        "    # print((query*self.f1weight - cases*self.f1weight))\n",
        "    #the following utilize pytorch tensor broadcasting functionality\n",
        "    #if the below line does not make sense, uncomment lines above to debug and check values\n",
        "    return (query*self.f1weight - cases*self.f1weight)**2"
      ]
    },
    {
      "cell_type": "markdown",
      "metadata": {
        "id": "D2gojHNfJacB"
      },
      "source": [
        "###Old Feature Activation Layer\n",
        "Deprecated"
      ]
    },
    {
      "cell_type": "code",
      "execution_count": null,
      "metadata": {
        "id": "RPaUn0-Kf0ts"
      },
      "outputs": [],
      "source": [
        "class OldFeatureActivationLayer(torch.nn.Module):\n",
        "  '''\n",
        "    measures the feature distance/activation between query and all cases\n",
        "  '''\n",
        "  def __init__(self, num_features, num_cases, weight_sharing_within_segment=False, weight_sharing_between_segment= False, hidden_layers = False):\n",
        "    super().__init__()\n",
        "    self.weight_sharing_between_segment = weight_sharing_between_segment\n",
        "    if self.weight_sharing_between_segment:\n",
        "      self.segments = torch.nn.ModuleList([OldFeatureActivationSegment(num_features, weight_sharing_within_segment, hidden_layers)])\n",
        "    else:\n",
        "      self.segments = torch.nn.ModuleList([OldFeatureActivationSegment(num_features, weight_sharing_within_segment, hidden_layers) for _ in range(num_cases)])\n",
        "    # feature activation layer should not have its own activation function,\n",
        "    # instead, it should just reuse feature activation segments' activation function, which is called by OldFeatureActivationSegment\n",
        "    # self.activation_func = torch.nn.Identity()\n",
        "  def set_f_weight_for_all_segments(self, f):\n",
        "    for segment in self.segments:\n",
        "      segment.set_f1(f)\n",
        "      segment.set_f2(f)\n",
        "  def freeze_f_weight_for_all_segments(self):\n",
        "    for segment in self.segments:\n",
        "      segment.freeze_f1()\n",
        "      segment.freeze_f2()\n",
        "  def forward(self, query, cases):\n",
        "    '''\n",
        "      input: (m+1) cases * n features; where the first case is the query\n",
        "      output: m* n feature activations\n",
        "    '''\n",
        "    if self.weight_sharing_between_segment:\n",
        "      #only uses the first segment through out.\n",
        "      return torch.stack([self.segments[0](query, case) for case in cases], dim=1)\n",
        "    return torch.stack([segment(query, case) for segment, case in zip(self.segments, cases)], dim=1) ###OMG, colab is a great programmer."
      ]
    },
    {
      "cell_type": "markdown",
      "metadata": {
        "id": "wJvuUic5JPoP"
      },
      "source": [
        "###Old Feature Activation Segment\n",
        "\n",
        "Deprecated"
      ]
    },
    {
      "cell_type": "markdown",
      "metadata": {
        "id": "cAMlrLdaZK5p"
      },
      "source": [
        "assume there are m cases, n features for each case"
      ]
    },
    {
      "cell_type": "code",
      "execution_count": null,
      "metadata": {
        "id": "8VJRT4bxOqPr"
      },
      "outputs": [],
      "source": [
        "class OldFeatureActivationSegment(torch.nn.Module):\n",
        "  '''\n",
        "    measures the feature distance/activation between two cases\n",
        "\n",
        "    two features connect to one feature activation node\n",
        "\n",
        "    multiple feature activation layer only connects to one case node\n",
        "\n",
        "    num_features: number of features that f1 or f2 contains. f1 is a vector of features for one case.\n",
        "  '''\n",
        "  def __init__(self, num_features, weight_sharing=False, hidden_layers = False):\n",
        "    super().__init__()\n",
        "    self.weight_sharing = weight_sharing\n",
        "    ## IMPORTANT DESIGN DECISION:: start weights and biases with ones instead of randoms.\n",
        "    self.f1weight = torch.nn.Parameter(torch.ones(num_features))\n",
        "    self.f2weight = torch.nn.Parameter(torch.ones(num_features))\n",
        "    if weight_sharing:\n",
        "      self.f2weight = self.f1weight\n",
        "    #it does not make sense that the bias is non-zero.\n",
        "    # self.bias = torch.nn.Parameter(torch.zeros(num_features))\n",
        "    # self.activation_func = torch.nn.Identity()\n",
        "    self.activation_func = torch.relu\n",
        "\n",
        "    self.hidden_layers = hidden_layers\n",
        "    hidden_dim = num_features * 2\n",
        "    extract_dim = num_features\n",
        "    self.layer1 = nn.Linear(num_features, hidden_dim)\n",
        "    self.relu = nn.ReLU()\n",
        "    self.layer2 = nn.Linear(hidden_dim, extract_dim)\n",
        "\n",
        "  # maybe not needed\n",
        "  # def set_activation_func(self, activation_function):\n",
        "  #   self.activation_func = activation_function\n",
        "\n",
        "  def set_f1(self, f1):\n",
        "    self.f1weight = f1\n",
        "\n",
        "  def set_f2(self, f2):\n",
        "    self.f2weight = f2\n",
        "\n",
        "  def freeze_f1(self):\n",
        "    self.f1weight.requires_grad = False\n",
        "\n",
        "  def freeze_f2(self):\n",
        "    self.f2weight.requires_grad = False\n",
        "\n",
        "  def forward(self, f1, f2):\n",
        "    '''\n",
        "      input: f1 and f2, are both feature vectors of a case, shape n.\n",
        "      output: feature activation, shape n.\n",
        "    '''\n",
        "    if self.hidden_layers:\n",
        "      f1 = self.layer1(f1)\n",
        "      f1 = self.relu(f1)\n",
        "      f1 = self.layer2(f1)\n",
        "      f1 = self.relu(f1)\n",
        "\n",
        "      f2 = self.layer1(f2)\n",
        "      f2 = self.relu(f2)\n",
        "      f2 = self.layer2(f2)\n",
        "      f2 = self.relu(f2)\n",
        "\n",
        "\n",
        "    # return self.activation_func(self.f1weight * f1 + self.f2weight * f2 + self.bias)\n",
        "    # IMPORTANT DESIGN DECISION:: minus makes more sense here as in standard k-NN.\n",
        "    # feature_distance = self.f1weight * f1 - self.f2weight * f2\n",
        "    # feature_distance = (self.f1weight * f1 - self.f2weight * f2) ** 2\n",
        "    # feature_distance = torch.abs(self.f1weight * f1 - self.f2weight * f2)\n",
        "    feature_distance = (self.f1weight * f1 - self.f2weight * f2) ** 2\n",
        "    # feature_distance = torch.abs(self.f1weight * f1 - self.f2weight * f2)\n",
        "    # return self.activation_func(feature_distance + self.bias)\n",
        "    return self.activation_func(feature_distance)"
      ]
    },
    {
      "cell_type": "markdown",
      "metadata": {
        "id": "WvaZeqxwJeJ5"
      },
      "source": [
        "##Case Activation Layer"
      ]
    },
    {
      "cell_type": "markdown",
      "source": [
        "IMPORTANT.\n",
        "```\n",
        "    # self.bias = torch.nn.Parameter(torch.ones(num_cases) * num_features/2 )\n",
        "    self.bias = torch.nn.Parameter(torch.ones(num_cases) )\n",
        "```\n",
        "These two choices depends on the number of features you have. If you have too many features, may use the first one.\n"
      ],
      "metadata": {
        "id": "Cs_eTUGYRNnt"
      }
    },
    {
      "cell_type": "code",
      "execution_count": null,
      "metadata": {
        "id": "5OtiusY8HV8v"
      },
      "outputs": [],
      "source": [
        "class CaseActivationLayer(torch.nn.Module):\n",
        "  '''\n",
        "    measures the activation of a case given some feature activations\n",
        "\n",
        "    input:\n",
        "      m* n feature activations\n",
        "    output:\n",
        "      m case activations\n",
        "  '''\n",
        "  def __init__(self, num_features, num_cases, weight_sharing=False):\n",
        "    super().__init__()\n",
        "    self.weight_sharing = weight_sharing\n",
        "    self.fa_weight = torch.nn.Parameter(torch.ones((num_cases, num_features)))\n",
        "    if weight_sharing:\n",
        "      self.fa_weight = torch.nn.Parameter(torch.ones(num_features))\n",
        "\n",
        "    self.bias = torch.nn.Parameter(torch.ones(num_cases) * num_features/2 )\n",
        "    # self.bias = torch.nn.Parameter(torch.ones(num_cases) )\n",
        "    # self.bias = torch.nn.Parameter(torch.ones(num_cases) * num_features/10 )\n",
        "  def forward(self,input):\n",
        "    '''\n",
        "      input: m*n feature activations\n",
        "      output: m case activations\n",
        "    '''\n",
        "    input = - torch.sum(input * F.leaky_relu(self.fa_weight), dim=2) + self.bias\n",
        "    ## we don't want negative values in activations\n",
        "    ## they will mess up our top case selections because if the tops are negatives\n",
        "    ## then the filled 0s are actually bigger.\n",
        "    input = F.sigmoid(input)\n",
        "    # input = torch.relu(input)\n",
        "    return input"
      ]
    },
    {
      "cell_type": "markdown",
      "metadata": {
        "id": "DkPmMySVi3jN"
      },
      "source": [
        "##Top Case Selection Layer"
      ]
    },
    {
      "cell_type": "code",
      "execution_count": null,
      "metadata": {
        "id": "ne1tBxp6jEp9"
      },
      "outputs": [],
      "source": [
        "# prompt: define a class named TopCaseLayer inherited from torch.nn.Module. This class is used to select the top k activations of an input tensor (m case activations), and output a tensor of the same shape but only keep the top k activations, and other tensors zeroed out\n",
        "\n",
        "class TopCaseLayer(torch.nn.Module):\n",
        "  def __init__(self, k):\n",
        "    super().__init__()\n",
        "    self.k = k\n",
        "    self.training = True\n",
        "\n",
        "  def forward(self, input):\n",
        "    ##no behavior during training because we want to train for all.\n",
        "    if self.training:\n",
        "      return input\n",
        "    '''\n",
        "      input: m case activations\n",
        "      output: m case activations, the top k activations are kept and others are zeroed out\n",
        "    '''\n",
        "    # print(input)\n",
        "    vals, idx = torch.topk(input, self.k)\n",
        "\n",
        "    #if any of the vals is zero, it will mess things up, reverse them so that they becomes positive.\n",
        "\n",
        "    # print(input.shape)\n",
        "    # print(idx.shape)\n",
        "    # print(vals.shape)\n",
        "    # print(\"huh??\")\n",
        "    output = torch.zeros_like(input).scatter_(1,idx, vals)\n",
        "    #replace output values such that the top k is kept\n",
        "\n",
        "\n",
        "    # output[:, idx] = vals\n",
        "    return output\n"
      ]
    },
    {
      "cell_type": "markdown",
      "metadata": {
        "id": "ESrlZ3sTJhm4"
      },
      "source": [
        "##Class Activation Layer"
      ]
    },
    {
      "cell_type": "code",
      "execution_count": null,
      "metadata": {
        "id": "9Vg6cXb3rQi1"
      },
      "outputs": [],
      "source": [
        "# class ClassActivationLayer(torch.nn.Module):\n",
        "#   '''\n",
        "#     measures the activation of a class given some case activations\n",
        "\n",
        "#     input:\n",
        "#       m case_activations\n",
        "#     output:\n",
        "#       l class_activations\n",
        "#   '''\n",
        "#   def __init__(self, num_cases, case_labels, weight_sharing=False):\n",
        "#     super().__init__()\n",
        "#     self.constraints = []\n",
        "#     self.case_labels = case_labels\n",
        "#     self.num_classes = torch.unique(case_labels).shape[0]\n",
        "#     # self.weight_sharing = weight_sharing\n",
        "#     #weight sharing doesn't make sense here, some cases shouldn't contribute to a class while some should\n",
        "#     # they should not share weights.\n",
        "#     self.ca_weight = torch.nn.Parameter(torch.ones((num_cases, self.num_classes))) ## should I use randn here?\n",
        "#     # self.ca_weight = torch.nn.Parameter(torch.rand((num_cases, self.num_classes)))\n",
        "#     # if weight_sharing:\n",
        "#     #   self.ca_weight = torch.nn.Parameter(torch.randn(num_cases))\n",
        "#     # self.bias = torch.nn.Parameter(torch.randn(self.num_classes))\n",
        "#     self.bias = torch.nn.Parameter(torch.zeros(self.num_classes))\n",
        "\n",
        "#     print(\"self.ca_weight.shape\", self.ca_weight.shape)\n",
        "#   ##NOTE:: the following three constrain uses for loop, may not be the most efficient\n",
        "#   def case_class_constrain_v1(self):\n",
        "#     '''\n",
        "#       ensures that each case only positively activates their correct class label.\n",
        "#     '''\n",
        "#     self.constraints.append(\"case_pos_class\")\n",
        "\n",
        "\n",
        "#   ##NOTE:: if used, this should be called before the constrain_v1()\n",
        "#   def cases_share_weight_on_same_class(self):\n",
        "#     '''\n",
        "#       all cases of the same class share one weight for that class.\n",
        "#     '''\n",
        "#     self.constraints.append(\"case_share_weight_on_same_class\")\n",
        "\n",
        "\n",
        "#   def case_class_constrain_v2(self):\n",
        "#     '''\n",
        "#       ensures that each case does not contribute to incorrect classes.\n",
        "#     '''\n",
        "#     self.constraints.append(\"case_no_contribute_to_wrong_class\")\n",
        "#   def case_class_constrain_v3(self):\n",
        "#     '''\n",
        "#       ensures that each case only negatively contribute to incorrect classes.\n",
        "#     '''\n",
        "#     #TODO, needs revamping\n",
        "#     #The weight manipulation should only happen during forward()\n",
        "#     raise ValueError(\"error, needs revamping\")\n",
        "#     for i in range(self.ca_weight.shape[0]):\n",
        "#       for j in range(self.ca_weight.shape[1]):\n",
        "#         if j != case_labels[i]:\n",
        "#           self.ca_weight[i][j] = 0 - torch.relu(self.ca_weight[i][j])\n",
        "#   def forward(self, ca):\n",
        "#     constrained_weight = self.ca_weight.clone().detach()\n",
        "#     for i in range(constrained_weight.shape[0]):\n",
        "#       for j in range(constrained_weight.shape[1]):\n",
        "#         if(j == self.case_labels[i]):\n",
        "#           if(\"case_pos_class\" in self.constraints):\n",
        "#             constrained_weight[i][j] = torch.relu(self.ca_weight[i][j])\n",
        "#         else: # j != case_labels[i]\n",
        "#           if(\"case_no_contribute_to_wrong_class\" in self.constraints):\n",
        "#             constrained_weight[i][j] = torch.zeros(1)\n",
        "#     return torch.matmul(ca, constrained_weight) + self.bias #matrix multiplication will handle 1 dimension vector property"
      ]
    },
    {
      "cell_type": "markdown",
      "metadata": {
        "id": "4Il5qc6sq-3n"
      },
      "source": [
        "The below code is another implementation of ClassActivationLayer which use mask to reduce the amount of computations during the forward."
      ]
    },
    {
      "cell_type": "code",
      "execution_count": null,
      "metadata": {
        "id": "So4vm5Z_qwY0"
      },
      "outputs": [],
      "source": [
        "class ClassActivationLayer(torch.nn.Module):\n",
        "  '''\n",
        "    measures the activation of a class given some case activations\n",
        "\n",
        "    input:\n",
        "      m case_activations\n",
        "    output:\n",
        "      l class_activations\n",
        "  '''\n",
        "  def __init__(self, num_cases, case_labels, weight_sharing=False):\n",
        "    super().__init__()\n",
        "    self.constraints = []\n",
        "    self.case_labels = case_labels\n",
        "    self.num_classes = torch.unique(case_labels).shape[0]\n",
        "    # self.weight_sharing = weight_sharing\n",
        "    #weight sharing doesn't make sense here, some cases shouldn't contribute to a class while some should\n",
        "    # they should not share weights.\n",
        "    self.ca_weight = torch.nn.Parameter(torch.ones((num_cases, self.num_classes))) ## should I use randn here?\n",
        "    # self.ca_weight = torch.nn.Parameter(torch.rand((num_cases, self.num_classes)))\n",
        "    # if weight_sharing:\n",
        "    #   self.ca_weight = torch.nn.Parameter(torch.randn(num_cases))\n",
        "    # self.bias = torch.nn.Parameter(torch.randn(self.num_classes))\n",
        "    self.bias = torch.nn.Parameter(torch.ones(self.num_classes))\n",
        "\n",
        "    # create a mask\n",
        "    self.mask = torch.zeros_like(self.ca_weight)\n",
        "    print(\"self.ca_weight.shape\", self.ca_weight.shape)\n",
        "\n",
        "  def update_mask(self):\n",
        "    for i in range(self.mask.shape[0]):\n",
        "      for j in range(self.mask.shape[1]):\n",
        "        if(j == self.case_labels[i]):\n",
        "          if(\"case_pos_class\" in self.constraints):\n",
        "            self.mask[i][j] = torch.ones(1)\n",
        "        else: # j != case_labels[i]\n",
        "          if(\"case_no_contribute_to_wrong_class\" in self.constraints):\n",
        "            self.mask[i][j] = torch.zeros(1)\n",
        "\n",
        "\n",
        "  ##NOTE:: the following three constrain uses for loop, may not be the most efficient\n",
        "  def case_class_constrain_v1(self):\n",
        "    '''\n",
        "      ensures that each case only positively activates their correct class label.\n",
        "    '''\n",
        "    self.constraints.append(\"case_pos_class\")\n",
        "    self.update_mask()\n",
        "\n",
        "\n",
        "  ##NOTE:: if used, this should be called before the constrain_v1()\n",
        "  def cases_share_weight_on_same_class(self):\n",
        "    '''\n",
        "      all cases of the same class share one weight for that class.\n",
        "    '''\n",
        "    self.constraints.append(\"case_share_weight_on_same_class\")\n",
        "\n",
        "\n",
        "  def case_class_constrain_v2(self):\n",
        "    '''\n",
        "      ensures that each case does not contribute to incorrect classes.\n",
        "    '''\n",
        "    self.constraints.append(\"case_no_contribute_to_wrong_class\")\n",
        "    self.update_mask()\n",
        "\n",
        "  def case_class_constrain_v3(self):\n",
        "    '''\n",
        "      ensures that each case only negatively contribute to incorrect classes.\n",
        "    '''\n",
        "    #TODO, needs revamping\n",
        "    #The weight manipulation should only happen during forward()\n",
        "    raise ValueError(\"error, needs revamping\")\n",
        "    for i in range(self.ca_weight.shape[0]):\n",
        "      for j in range(self.ca_weight.shape[1]):\n",
        "        if j != case_labels[i]:\n",
        "          self.ca_weight[i][j] = 0 - torch.relu(self.ca_weight[i][j])\n",
        "  def get_constrained_weight(self):\n",
        "    constrained_weight = self.mask * torch.relu(self.ca_weight)\n",
        "    return constrained_weight;\n",
        "  def forward(self, ca):\n",
        "    constrained_weight = self.get_constrained_weight();\n",
        "    return torch.matmul(ca, constrained_weight) + self.bias #matrix multiplication will handle 1 dimension vector property"
      ]
    },
    {
      "cell_type": "markdown",
      "metadata": {
        "id": "Vgd-UBbdbU5N"
      },
      "source": [
        "##Regression Activation Layer"
      ]
    },
    {
      "cell_type": "code",
      "execution_count": null,
      "metadata": {
        "id": "BDmkcY7-rfHQ"
      },
      "outputs": [],
      "source": [
        "class CustomSoftmaxLayer(torch.nn.Module):\n",
        "  def __init__(self):\n",
        "    super(CustomSoftmaxLayer, self).__init__()\n",
        "\n",
        "  def forward(self, x):\n",
        "    total = torch.sum(x, dim=1, keepdim=True)\n",
        "    softmax_output = x / (total + 1e-10)\n",
        "\n",
        "    ##IMPORTANT, cannot use the softmax version below, because of dividing by 0 problem.\n",
        "\n",
        "    # # Apply the exponential function to the input tensor\n",
        "    # exp_x = torch.exp(x)\n",
        "\n",
        "    # # Apply a mask to set the output to 0 where the input is 0\n",
        "    # mask = (x != 0).float()  # Create a binary mask (1 where x is not 0, 0 where x is 0)\n",
        "\n",
        "    # # Apply the mask to the output\n",
        "    # softmax_output = exp_x * mask\n",
        "\n",
        "    # # Normalize the output by dividing by the sum along the same axis\n",
        "    # softmax_output = softmax_output / softmax_output.sum(dim=1, keepdim=True)\n",
        "\n",
        "    return softmax_output"
      ]
    },
    {
      "cell_type": "code",
      "execution_count": null,
      "metadata": {
        "id": "UbNCIgy0aqvW"
      },
      "outputs": [],
      "source": [
        "# prompt: Build a regression activation layer just like the class activation layer above, but for the purpose of regression now\n",
        "## right now this is essentially a linear layer, but somehow it's a lot slower than a linear layer,\n",
        "class RegressionActivation_1_Layer(torch.nn.Module):\n",
        "  '''\n",
        "    measures the activation of a class given some case activations\n",
        "\n",
        "    input:\n",
        "      m case_activations\n",
        "    output:\n",
        "      1 regression_activations\n",
        "  '''\n",
        "  def __init__(self, num_cases, case_labels, weight_sharing=False):\n",
        "    super().__init__()\n",
        "    self.constraints = []\n",
        "    self.num_classes = 1\n",
        "    self.case_labels = case_labels\n",
        "    self.ca_weight = torch.nn.Parameter(torch.randn((num_cases, self.num_classes))) ## should I use randn here?\n",
        "    self.bias = torch.nn.Parameter(torch.randn(self.num_classes))\n",
        "    print(\"self.ca_weight.shape\", self.ca_weight.shape)\n",
        "  def forward(self, ca):\n",
        "    ##IMPORTANT, newly added \"* case_labels\" here, so that case labels is now considered in\n",
        "    ##the last layer of NN-k-NN regressor.\n",
        "    # print(\"debugg msaafasdf\")\n",
        "    # print(ca.shape)\n",
        "    # print(self.ca_weight.shape)\n",
        "    # print(self.case_labels.shape)\n",
        "    # print((torch.matmul(ca * self.case_labels, self.ca_weight)).shape)\n",
        "    return torch.matmul(ca, self.ca_weight) + self.bias"
      ]
    },
    {
      "cell_type": "code",
      "execution_count": null,
      "metadata": {
        "id": "WDbeAaCorwYr"
      },
      "outputs": [],
      "source": [
        "class RegressionActivation_2_Layer(torch.nn.Module):\n",
        "  '''\n",
        "    measures the activation of a class given some case activations\n",
        "\n",
        "    input:\n",
        "      m case_activations\n",
        "    output:\n",
        "      1 regression_activations\n",
        "  '''\n",
        "  def __init__(self, num_cases, case_labels, weight_sharing=False):\n",
        "    super().__init__()\n",
        "    self.constraints = []\n",
        "    self.num_classes = 1\n",
        "    self.case_labels = case_labels\n",
        "    self.ca_weight = torch.nn.Parameter(torch.ones((num_cases, self.num_classes))) ## should I use randn here?\n",
        "    self.bias = torch.nn.Parameter(torch.randn(self.num_classes))\n",
        "    print(\"self.ca_weight.shape\", self.ca_weight.shape)\n",
        "  def forward(self, ca):\n",
        "    return torch.matmul(ca* self.case_labels, self.ca_weight) + self.bias"
      ]
    },
    {
      "cell_type": "code",
      "execution_count": null,
      "metadata": {
        "id": "kkoZwOlQwMlS"
      },
      "outputs": [],
      "source": [
        "class RegressionActivation_3_Layer(torch.nn.Module):\n",
        "  '''\n",
        "    measures the activation of a class given some case activations\n",
        "\n",
        "    input:\n",
        "      m case_activations\n",
        "    output:\n",
        "      1 regression_activations\n",
        "  '''\n",
        "  def __init__(self, num_cases, case_labels, weight_sharing=False):\n",
        "    super().__init__()\n",
        "    self.constraints = []\n",
        "    self.num_classes = 1\n",
        "    self.case_labels = case_labels\n",
        "  def forward(self, ca):\n",
        "    return torch.matmul(ca, self.case_labels) #+ self.bias"
      ]
    },
    {
      "cell_type": "code",
      "execution_count": null,
      "metadata": {
        "id": "G0LLPPXBsGFj"
      },
      "outputs": [],
      "source": [
        "ca = torch.Tensor([1 , 0.5, 0.3])"
      ]
    },
    {
      "cell_type": "code",
      "execution_count": null,
      "metadata": {
        "colab": {
          "base_uri": "https://localhost:8080/"
        },
        "id": "gfvItiQqsQdQ",
        "outputId": "6768b33a-bc33-475d-c6c9-4e070845dc5f"
      },
      "outputs": [
        {
          "output_type": "execute_result",
          "data": {
            "text/plain": [
              "torch.Size([3])"
            ]
          },
          "metadata": {},
          "execution_count": 16
        }
      ],
      "source": [
        "ca.shape"
      ]
    },
    {
      "cell_type": "code",
      "execution_count": null,
      "metadata": {
        "id": "kDvdr2TIsSMK"
      },
      "outputs": [],
      "source": [
        "case_labels = torch.Tensor([0,2,2])"
      ]
    },
    {
      "cell_type": "code",
      "execution_count": null,
      "metadata": {
        "colab": {
          "base_uri": "https://localhost:8080/"
        },
        "id": "clJvDPlLsfsq",
        "outputId": "02701c6d-b879-443d-ce02-3e443050a198"
      },
      "outputs": [
        {
          "output_type": "execute_result",
          "data": {
            "text/plain": [
              "tensor(1.6000)"
            ]
          },
          "metadata": {},
          "execution_count": 18
        }
      ],
      "source": [
        "torch.matmul(ca, case_labels)"
      ]
    },
    {
      "cell_type": "code",
      "execution_count": null,
      "metadata": {
        "id": "xo1F5P4s8Ed3"
      },
      "outputs": [],
      "source": [
        "class RegressionActivation_4_Layer(torch.nn.Module):\n",
        "  '''\n",
        "    measures the activation of a class given some case activations\n",
        "\n",
        "    input:\n",
        "      m case_activations\n",
        "    output:\n",
        "      1 regression_activations\n",
        "  '''\n",
        "  def __init__(self, num_cases, case_labels, weight_sharing=False):\n",
        "    super().__init__()\n",
        "    self.constraints = []\n",
        "    self.num_classes = 1\n",
        "    self.case_labels = case_labels\n",
        "    self.ca_weight = torch.nn.Parameter(torch.tensor(case_labels).reshape(num_cases, self.num_classes)) ## should I use randn here?\n",
        "    self.bias = torch.nn.Parameter(torch.randn(self.num_classes))\n",
        "    print(\"self.ca_weight.shape\", self.ca_weight.shape)\n",
        "  def forward(self, ca):\n",
        "    ##IMPORTANT, newly added \"* case_labels\" here, so that case labels is now considered in\n",
        "    ##the last layer of NN-k-NN regressor.\n",
        "    # print(\"debugg msaafasdf\")\n",
        "    # print(ca.shape)\n",
        "    # print(self.ca_weight.shape)\n",
        "    # print(self.case_labels.shape)\n",
        "    # print((torch.matmul(ca * self.case_labels, self.ca_weight)).shape)\n",
        "    return torch.matmul(ca, self.ca_weight) + self.bias"
      ]
    },
    {
      "cell_type": "code",
      "execution_count": null,
      "metadata": {
        "id": "EQgug4eSyKDv"
      },
      "outputs": [],
      "source": [
        "a = torch.ones((100, 8))\n",
        "b = torch.ones((1548, 8))\n",
        "c = torch.ones((1))"
      ]
    },
    {
      "cell_type": "code",
      "execution_count": null,
      "metadata": {
        "id": "VwaQh8NUNDLv"
      },
      "outputs": [],
      "source": [
        "# a-b"
      ]
    },
    {
      "cell_type": "code",
      "execution_count": null,
      "metadata": {
        "id": "p3afere_KfLO"
      },
      "outputs": [],
      "source": [
        "# (b*b).shape"
      ]
    },
    {
      "cell_type": "code",
      "execution_count": null,
      "metadata": {
        "id": "e5qqmJxXyQsd"
      },
      "outputs": [],
      "source": [
        "# (a*b).shape"
      ]
    },
    {
      "cell_type": "code",
      "execution_count": null,
      "metadata": {
        "id": "bITJLDhAySo8"
      },
      "outputs": [],
      "source": [
        "# torch.matmul(a, b).shape"
      ]
    },
    {
      "cell_type": "code",
      "execution_count": null,
      "metadata": {
        "id": "FvvVhcBW241Z"
      },
      "outputs": [],
      "source": [
        "# torch.matmul(a, b)"
      ]
    },
    {
      "cell_type": "code",
      "execution_count": null,
      "metadata": {
        "id": "RcM3JXmz26Cs"
      },
      "outputs": [],
      "source": [
        "# torch.matmul(a, b) + c"
      ]
    },
    {
      "cell_type": "markdown",
      "metadata": {
        "id": "KmhxrGP2Jj6T"
      },
      "source": [
        "## NN-k-NN"
      ]
    },
    {
      "cell_type": "code",
      "execution_count": null,
      "metadata": {
        "id": "u9HNVfwjPV8E"
      },
      "outputs": [],
      "source": [
        "import torch.nn.functional as F\n",
        "\n",
        "\n",
        "class NN_k_NN(torch.nn.Module):\n",
        "  def __init__(self, cases, case_labels,\n",
        "               fa_weight_sharing_within_segment,\n",
        "               fa_weight_sharing_between_segment,\n",
        "               ca_weight_sharing,\n",
        "               top_case_enabled, top_k,\n",
        "               class_weight_sharing, hidden_layers= None):\n",
        "    super().__init__()\n",
        "    self.cases = cases\n",
        "    num_cases = cases.shape[0]\n",
        "\n",
        "    num_features = cases.shape[1]\n",
        "    if not (hidden_layers is None):\n",
        "      num_features = hidden_layers(cases).shape[1]\n",
        "    # num_classes = torch.unique(case_labels).shape[0] # len(set(case_labels))\n",
        "    ##IMPORTANT:: CHECK THE WEIGHT_SHARING PARAMETERS!!\n",
        "    # self.fa_layer = FeatureActivationLayer(num_features, num_cases,\n",
        "    #                                        weight_sharing_within_segment= fa_weight_sharing_within_segment,\n",
        "    #                                        weight_sharing_between_segment= fa_weight_sharing_between_segment,\n",
        "    #                                        hidden_layers = hidden_layers)\n",
        "    self.fa_layer = FeatureActivationLayer(num_features, num_cases, self.cases, hidden_layers = hidden_layers)\n",
        "\n",
        "    self.ca_layer = CaseActivationLayer(num_features, num_cases,\n",
        "                                        weight_sharing= ca_weight_sharing)\n",
        "    self.top_case_enabled = top_case_enabled\n",
        "    self.selection_layer = TopCaseLayer(top_k)\n",
        "    self.class_layer = ClassActivationLayer(num_cases, case_labels,\n",
        "                                            weight_sharing=class_weight_sharing)\n",
        "    ## more preprocessing here needed to tie each case to their correct class\n",
        "    ## only one is turned on right now for testing purpose.\n",
        "    self.class_layer.case_class_constrain_v1()\n",
        "    self.class_layer.case_class_constrain_v2()\n",
        "\n",
        "    self.ca_dropout = torch.nn.Dropout(p=0.5)\n",
        "\n",
        "  def forward(self, query):\n",
        "    #repeat query so that it has the same shape as self.cases\n",
        "    # query = query.repeat(self.cases.shape[0], 1)\n",
        "    #no need to repeat the query, fa_layer's forward will handle it.\n",
        "    feature_activations = self.fa_layer(query, self.cases)\n",
        "    # print(\"feature_activations.shape\", feature_activations.shape)\n",
        "    ##tie the fa_segments with corresponding case in ca layer\n",
        "    #each segment should only tie to one case in ca_layer\n",
        "    case_activations = self.ca_layer(feature_activations)\n",
        "    # print(\"case_activations\" , case_activations.shape)\n",
        "    #uncomment to enable topk\n",
        "    if self.top_case_enabled:\n",
        "      case_activations = self.selection_layer(case_activations)\n",
        "\n",
        "    if self.training:\n",
        "      ##  case_activations = self.ca_dropout(case_activations)\n",
        "      ## print(\"dropout\")\n",
        "      ##==========#\n",
        "      ## expect the case_activations has the shape of (query_number, case_numer)\n",
        "      ## expect the query has the shape of (batch_size, feature_size)\n",
        "      ## expect the cases has the shape of (case_number, feature_size)\n",
        "      dquery = query.unsqueeze(1)\n",
        "      dcases = self.cases.unsqueeze(0)\n",
        "      difference = torch.sum(dquery - dcases, dim=-1)\n",
        "      masks = torch.where(difference == 0, 0., 1.)\n",
        "      case_activations = case_activations * masks\n",
        "\n",
        "\n",
        "    # print(\"case_activations\" , case_activations.shape)\n",
        "    class_ativations = self.class_layer(case_activations)\n",
        "    # print(\"class_ativations.shape\", class_ativations.shape)\n",
        "\n",
        "    # Softmax activation for classification\n",
        "    # output = F.softmax(class_ativations, dim=1)\n",
        "    output = class_ativations\n",
        "\n",
        "    # Get the class predictions (class with the highest probability)\n",
        "    ## TODO:: need debug here, am I using the right dim?\n",
        "    _, predicted_class = torch.max(output, 1)\n",
        "\n",
        "    return feature_activations, case_activations, output, predicted_class\n",
        "    # return self.class_layer(ca)"
      ]
    },
    {
      "cell_type": "markdown",
      "metadata": {
        "id": "ukjmB70eHr7a"
      },
      "source": [
        "##NN-k-NN regression"
      ]
    },
    {
      "cell_type": "code",
      "execution_count": null,
      "metadata": {
        "id": "aD1WpUjVHV58"
      },
      "outputs": [],
      "source": [
        "import torch.nn.functional as F\n",
        "\n",
        "##IMPORTANT, cannot use top case selection layer here like we do in for classification.\n",
        "## it has to be either enabled or disabled the whole time.\n",
        "class NN_k_NN_regression(torch.nn.Module):\n",
        "  def __init__(self, cases, case_labels,\n",
        "               fa_weight_sharing_within_segment,\n",
        "               fa_weight_sharing_between_segment,\n",
        "               ca_weight_sharing,\n",
        "               top_case_enabled, top_k,\n",
        "               class_weight_sharing, hidden_layers= None):\n",
        "    super().__init__()\n",
        "    self.cases = cases\n",
        "    num_cases = cases.shape[0]\n",
        "    num_features = cases.shape[1]\n",
        "    # num_classes = torch.unique(case_labels).shape[0] # len(set(case_labels))\n",
        "    ##IMPORTANT:: CHECK THE WEIGHT_SHARING PARAMETERS!!\n",
        "    # self.fa_layer = FeatureActivationLayer(num_features, num_cases,\n",
        "    #                                        weight_sharing_within_segment= fa_weight_sharing_within_segment,\n",
        "    #                                        weight_sharing_between_segment= fa_weight_sharing_between_segment,\n",
        "    #                                        hidden_layers = hidden_layers)\n",
        "    self.fa_layer = FeatureActivationLayer(num_features, num_cases, self.cases, hidden_layers = hidden_layers)\n",
        "    self.ca_layer = CaseActivationLayer(num_features, num_cases,\n",
        "                                        weight_sharing= ca_weight_sharing)\n",
        "    self.top_case_enabled = top_case_enabled\n",
        "    self.selection_layer = TopCaseLayer(top_k)\n",
        "\n",
        "    self.ca_dropout = torch.nn.Dropout(p=0.5)\n",
        "\n",
        "    self.softmax = CustomSoftmaxLayer()\n",
        "    # self.softmax = torch.nn.Softmax(dim=1)\n",
        "\n",
        "    self.class_layer = RegressionActivation_3_Layer(num_cases, case_labels,weight_sharing=class_weight_sharing)\n",
        "    # self.class_layer = torch.nn.Linear(num_cases, 1)\n",
        "\n",
        "\n",
        "  def forward(self, query):\n",
        "    feature_activations = self.fa_layer(query, self.cases)\n",
        "    # print(\"feature_activations.shape\", feature_activations.shape)\n",
        "    ##tie the fa_segments with corresponding case in ca layer\n",
        "    #each segment should only tie to one case in ca_layer\n",
        "    case_activations = self.ca_layer(feature_activations)\n",
        "    # print(\"case_activations\" , case_activations.shape)\n",
        "    #uncomment to enable topk\n",
        "    if self.top_case_enabled:\n",
        "      case_activations = self.selection_layer(case_activations)\n",
        "    # print(\"case_activations1\" , torch.sum(case_activations, dim= 1))\n",
        "\n",
        "    if self.training:\n",
        "      # case_activations = self.ca_dropout(case_activations)\n",
        "      # print(\"dropout\")\n",
        "      # ==========#\n",
        "      # expect the case_activations has the shape of (query_number, case_numer)\n",
        "      # expect the query has the shape of (batch_size, feature_size)\n",
        "      # expect the cases has the shape of (case_number, feature_size)\n",
        "      dquery = query.unsqueeze(1)\n",
        "      dcases = self.cases.unsqueeze(0)\n",
        "      difference = torch.sum(dquery - dcases, dim=-1)\n",
        "      masks = torch.where(difference == 0, 0., 1.)\n",
        "      case_activations = case_activations * masks\n",
        "\n",
        "    case_activations = self.softmax(case_activations)\n",
        "    #get top k of case_activations\n",
        "    values, indices = torch.topk(case_activations, k=self.selection_layer.k, dim=1)\n",
        "\n",
        "    output = torch.mean(self.class_layer.case_labels[indices], dim=1)\n",
        "    # print(\"case_activations\" , torch.sum(case_activations, dim= 1))\n",
        "    predicted_number = self.class_layer(case_activations)\n",
        "\n",
        "    # # Softmax activation for classification\n",
        "    # output = F.softmax(class_ativations, dim=1)\n",
        "    # # output = class_ativations\n",
        "    # _, predicted_class = torch.max(output, 1)\n",
        "    # print(\"predicted_class\", predicted_class)\n",
        "    # predicted_class = case_labels[predicted_class]\n",
        "    # print(\"predicted_class after label lookup\", predicted_class)\n",
        "    ##added feature activations here in output because they might be used for adaptation\n",
        "    ####VERY VERY IMPORTANT, the output format is different!!\n",
        "    return feature_activations, case_activations, output,  predicted_number\n"
      ]
    },
    {
      "cell_type": "code",
      "execution_count": null,
      "metadata": {
        "id": "EXaL3PmlBwg6"
      },
      "outputs": [],
      "source": [
        "# # prompt: a standard neural network with fully connected layers that has the same architecture as NN_k_NN_regression\n",
        "\n",
        "# class nn_regression(torch.nn.Module):\n",
        "#   def __init__(self, cases, case_labels,\n",
        "#                fa_weight_sharing_within_segment,\n",
        "#                fa_weight_sharing_between_segment,\n",
        "#                ca_weight_sharing,\n",
        "#                top_case_enabled, top_k,\n",
        "#                class_weight_sharing):\n",
        "#     super().__init__()\n",
        "#     ##WIP\n",
        "#     self.cases = torch.nn.parameters(torch.randn_like(cases))\n",
        "#     num_cases = cases.shape[0]\n",
        "#     num_features = cases.shape[1]\n",
        "#     # num_classes = torch.unique(case_labels).shape[0] # len(set(case_labels))\n",
        "#     ##IMPORTANT:: CHECK THE WEIGHT_SHARING PARAMETERS!!\n",
        "#     self.fa_layer = FeatureActivationLayer(num_features, num_cases, weight_sharing_within_segment= fa_weight_sharing_within_segment,\n",
        "#                                            weight_sharing_between_segment= fa_weight_sharing_between_segment)\n",
        "#     self.ca_layer = CaseActivationLayer(num_features, num_cases,\n",
        "#                                         weight_sharing= ca_weight_sharing)\n",
        "#     self.top_case_enabled = top_case_enabled\n",
        "#     self.selection_layer = TopCaseLayer(top_k)\n",
        "#     self.class_layer = RegressionActivationLayer(num_cases,weight_sharing=class_weight_sharing)\n",
        "\n",
        "\n",
        "#   def forward(self, query):\n",
        "#     feature_activations = self.fa_layer(query, self.cases)\n",
        "#     ##tie the fa_segments with corresponding case in ca layer\n",
        "#     #each segment should only tie to one case in ca_layer\n",
        "#     case_activations = self.ca_layer(feature_activations)\n",
        "\n",
        "#     #uncomment to enable topk\n",
        "#     if self.top_case_enabled:\n",
        "#       case_activations = self.selection_layer(case_activations)\n",
        "\n",
        "#     predicted_number = self.class_layer(case_activations)\n",
        "\n",
        "#     # # Softmax activation for classification\n",
        "#     # output = F.softmax(class_ativations, dim=1)\n",
        "#     # # output = class_ativations\n",
        "#     # _, predicted_class = torch.max(output, 1)\n",
        "#     # print(\"predicted_class\", predicted_class)\n",
        "#     # predicted_class = case_labels[predicted_class]\n",
        "#     # print(\"predicted_class after label lookup\", predicted_class)\n",
        "#     ##added feature activations here in output because they might be used for adaptation\n",
        "#     return feature_activations, case_activations, predicted_number\n"
      ]
    },
    {
      "cell_type": "code",
      "execution_count": null,
      "metadata": {
        "id": "DdFOP30kurhF"
      },
      "outputs": [],
      "source": [
        "def print_model_features(input_model):\n",
        "  for n, p in model.named_parameters():\n",
        "    print(n)\n",
        "    print(p.data)"
      ]
    },
    {
      "cell_type": "code",
      "execution_count": null,
      "metadata": {
        "id": "rJz8UivW3nYt"
      },
      "outputs": [],
      "source": [
        "m = nn.Softmax(dim=1)\n",
        "input = torch.randn(2, 3)\n",
        "output = m(input)"
      ]
    },
    {
      "cell_type": "markdown",
      "source": [
        "#pydml"
      ],
      "metadata": {
        "id": "aIg-EoJydTrL"
      }
    },
    {
      "cell_type": "code",
      "source": [
        "pip install metric-learn"
      ],
      "metadata": {
        "colab": {
          "base_uri": "https://localhost:8080/"
        },
        "id": "pzEt9iuYZvIy",
        "outputId": "cefe90ed-3b62-43a8-b8e2-baf1b1e75956"
      },
      "execution_count": null,
      "outputs": [
        {
          "output_type": "stream",
          "name": "stdout",
          "text": [
            "Collecting metric-learn\n",
            "  Downloading metric_learn-0.7.0-py2.py3-none-any.whl (67 kB)\n",
            "\u001b[?25l     \u001b[90m━━━━━━━━━━━━━━━━━━━━━━━━━━━━━━━━━━━━━━━━\u001b[0m \u001b[32m0.0/67.8 kB\u001b[0m \u001b[31m?\u001b[0m eta \u001b[36m-:--:--\u001b[0m\r\u001b[2K     \u001b[90m━━━━━━━━━━━━━━━━━━━━━━━━━━━━━━━━━━━━━━━━\u001b[0m \u001b[32m67.8/67.8 kB\u001b[0m \u001b[31m1.8 MB/s\u001b[0m eta \u001b[36m0:00:00\u001b[0m\n",
            "\u001b[?25hRequirement already satisfied: numpy>=1.11.0 in /usr/local/lib/python3.10/dist-packages (from metric-learn) (1.25.2)\n",
            "Requirement already satisfied: scipy>=0.17.0 in /usr/local/lib/python3.10/dist-packages (from metric-learn) (1.11.4)\n",
            "Requirement already satisfied: scikit-learn>=0.21.3 in /usr/local/lib/python3.10/dist-packages (from metric-learn) (1.2.2)\n",
            "Requirement already satisfied: joblib>=1.1.1 in /usr/local/lib/python3.10/dist-packages (from scikit-learn>=0.21.3->metric-learn) (1.4.0)\n",
            "Requirement already satisfied: threadpoolctl>=2.0.0 in /usr/local/lib/python3.10/dist-packages (from scikit-learn>=0.21.3->metric-learn) (3.4.0)\n",
            "Installing collected packages: metric-learn\n",
            "Successfully installed metric-learn-0.7.0\n"
          ]
        }
      ]
    },
    {
      "cell_type": "code",
      "source": [
        "import metric_learn"
      ],
      "metadata": {
        "id": "UpdWR_eh3c1R"
      },
      "execution_count": null,
      "outputs": []
    },
    {
      "cell_type": "markdown",
      "metadata": {
        "id": "vk_0mocIXjT0"
      },
      "source": [
        "#Data Sets"
      ]
    },
    {
      "cell_type": "markdown",
      "source": [
        "##Classification, depression\n",
        "\n",
        "From Zach Wilkerson, ICCBR challenge."
      ],
      "metadata": {
        "id": "j9FXMTYmttOE"
      }
    },
    {
      "cell_type": "code",
      "source": [
        "from google.colab import drive\n",
        "drive.mount('/content/drive')"
      ],
      "metadata": {
        "colab": {
          "base_uri": "https://localhost:8080/"
        },
        "id": "AQS5emSOU4Ga",
        "outputId": "c2e4929c-55dd-4676-cd10-bbc6603d79af"
      },
      "execution_count": null,
      "outputs": [
        {
          "output_type": "stream",
          "name": "stdout",
          "text": [
            "Mounted at /content/drive\n"
          ]
        }
      ]
    },
    {
      "cell_type": "code",
      "source": [
        "import pandas as pd\n",
        "df = pd.read_csv(\"/content/drive/MyDrive/2023 research/NN-kNN/Dataset_MO_ENG.csv\")"
      ],
      "metadata": {
        "id": "betH4sOCu1i5"
      },
      "execution_count": null,
      "outputs": []
    },
    {
      "cell_type": "code",
      "source": [
        "## eliminating physical-related questions\n",
        "df = df.drop(df.columns[102:-1], axis=1)\n",
        "\n",
        "\n",
        "## Creating classes 0-> Low risk, 1->Medium Risk, 2->High risk\n",
        "dic = { 1: 0 , 2: 0, 3:1, 4:2, 5:2}\n",
        "df['Target'] = df['Target'].map(dic)\n",
        "\n",
        "train_cols = df.columns[0:-1]\n",
        "label = df.columns[-1]\n",
        "X = df[train_cols]\n",
        "y = df[label]\n",
        "target_names=[\"Low\",\"Medium\",\"High\"]\n",
        "df"
      ],
      "metadata": {
        "colab": {
          "base_uri": "https://localhost:8080/",
          "height": 739
        },
        "id": "Ok5PiJQXu-qp",
        "outputId": "511642de-0c19-4275-e44e-e633b1bfcdc8"
      },
      "execution_count": null,
      "outputs": [
        {
          "output_type": "execute_result",
          "data": {
            "text/plain": [
              "     1. Most of the time I have difficulty concentrating on simple tasks  \\\n",
              "0                                                    1                     \n",
              "1                                                    1                     \n",
              "2                                                    0                     \n",
              "3                                                    0                     \n",
              "4                                                    1                     \n",
              "..                                                 ...                     \n",
              "99                                                   1                     \n",
              "100                                                  1                     \n",
              "101                                                  0                     \n",
              "102                                                  1                     \n",
              "103                                                  1                     \n",
              "\n",
              "     2. I don't feel like doing my daily duties  \\\n",
              "0                                             1   \n",
              "1                                             0   \n",
              "2                                             0   \n",
              "3                                             0   \n",
              "4                                             1   \n",
              "..                                          ...   \n",
              "99                                            1   \n",
              "100                                           1   \n",
              "101                                           0   \n",
              "102                                           0   \n",
              "103                                           1   \n",
              "\n",
              "     3. My friends or family have told me that I look different  \\\n",
              "0                                                    0            \n",
              "1                                                    1            \n",
              "2                                                    0            \n",
              "3                                                    0            \n",
              "4                                                    0            \n",
              "..                                                 ...            \n",
              "99                                                   1            \n",
              "100                                                  0            \n",
              "101                                                  1            \n",
              "102                                                  0            \n",
              "103                                                  0            \n",
              "\n",
              "     4. When I think about the future it is difficult for me to imagine it clearly  \\\n",
              "0                                                    1                               \n",
              "1                                                    1                               \n",
              "2                                                    0                               \n",
              "3                                                    1                               \n",
              "4                                                    1                               \n",
              "..                                                 ...                               \n",
              "99                                                   0                               \n",
              "100                                                  0                               \n",
              "101                                                  1                               \n",
              "102                                                  0                               \n",
              "103                                                  0                               \n",
              "\n",
              "     5. People around me often ask me how I feel  \\\n",
              "0                                              0   \n",
              "1                                              0   \n",
              "2                                              1   \n",
              "3                                              0   \n",
              "4                                              0   \n",
              "..                                           ...   \n",
              "99                                             0   \n",
              "100                                            1   \n",
              "101                                            1   \n",
              "102                                            1   \n",
              "103                                            0   \n",
              "\n",
              "     6. I consider that my life is full of good things  \\\n",
              "0                                                    1   \n",
              "1                                                    1   \n",
              "2                                                    1   \n",
              "3                                                    1   \n",
              "4                                                    1   \n",
              "..                                                 ...   \n",
              "99                                                   1   \n",
              "100                                                  1   \n",
              "101                                                  1   \n",
              "102                                                  1   \n",
              "103                                                  1   \n",
              "\n",
              "     7. My hobbies are still important to me  \\\n",
              "0                                          1   \n",
              "1                                          1   \n",
              "2                                          1   \n",
              "3                                          1   \n",
              "4                                          0   \n",
              "..                                       ...   \n",
              "99                                         1   \n",
              "100                                        1   \n",
              "101                                        1   \n",
              "102                                        1   \n",
              "103                                        1   \n",
              "\n",
              "     8. I'm still as punctual as I have always been  \\\n",
              "0                                                 1   \n",
              "1                                                 1   \n",
              "2                                                 0   \n",
              "3                                                 1   \n",
              "4                                                 1   \n",
              "..                                              ...   \n",
              "99                                                1   \n",
              "100                                               0   \n",
              "101                                               0   \n",
              "102                                               1   \n",
              "103                                               0   \n",
              "\n",
              "     9. If I had the chance, I would spend all day in my bed  \\\n",
              "0                                                    0         \n",
              "1                                                    0         \n",
              "2                                                    0         \n",
              "3                                                    1         \n",
              "4                                                    1         \n",
              "..                                                 ...         \n",
              "99                                                   0         \n",
              "100                                                  0         \n",
              "101                                                  1         \n",
              "102                                                  1         \n",
              "103                                                  0         \n",
              "\n",
              "     10. I have found that I can spend a lot of time scrolling the screen \\nof my cell phone without searching or stopping at anything in particular  \\\n",
              "0                                                    0                                                                                                 \n",
              "1                                                    0                                                                                                 \n",
              "2                                                    1                                                                                                 \n",
              "3                                                    0                                                                                                 \n",
              "4                                                    1                                                                                                 \n",
              "..                                                 ...                                                                                                 \n",
              "99                                                   1                                                                                                 \n",
              "100                                                  0                                                                                                 \n",
              "101                                                  1                                                                                                 \n",
              "102                                                  1                                                                                                 \n",
              "103                                                  1                                                                                                 \n",
              "\n",
              "     ...  94. I lose control easily  \\\n",
              "0    ...                          1   \n",
              "1    ...                          0   \n",
              "2    ...                          0   \n",
              "3    ...                          0   \n",
              "4    ...                          0   \n",
              "..   ...                        ...   \n",
              "99   ...                          0   \n",
              "100  ...                          0   \n",
              "101  ...                          0   \n",
              "102  ...                          0   \n",
              "103  ...                          0   \n",
              "\n",
              "     95. Neighbors must put up with each other's noises without complaining  \\\n",
              "0                                                    1                        \n",
              "1                                                    1                        \n",
              "2                                                    1                        \n",
              "3                                                    1                        \n",
              "4                                                    1                        \n",
              "..                                                 ...                        \n",
              "99                                                   1                        \n",
              "100                                                  1                        \n",
              "101                                                  1                        \n",
              "102                                                  1                        \n",
              "103                                                  1                        \n",
              "\n",
              "     96. Littering on public roads is wrong  \\\n",
              "0                                         0   \n",
              "1                                         0   \n",
              "2                                         0   \n",
              "3                                         0   \n",
              "4                                         0   \n",
              "..                                      ...   \n",
              "99                                        1   \n",
              "100                                       0   \n",
              "101                                       0   \n",
              "102                                       1   \n",
              "103                                       0   \n",
              "\n",
              "     97. People who commit crimes have their reasons for doing it  \\\n",
              "0                                                    0              \n",
              "1                                                    0              \n",
              "2                                                    0              \n",
              "3                                                    1              \n",
              "4                                                    0              \n",
              "..                                                 ...              \n",
              "99                                                   1              \n",
              "100                                                  1              \n",
              "101                                                  0              \n",
              "102                                                  0              \n",
              "103                                                  0              \n",
              "\n",
              "     98. It is normal to change jobs several times a year  \\\n",
              "0                                                    1      \n",
              "1                                                    1      \n",
              "2                                                    1      \n",
              "3                                                    1      \n",
              "4                                                    1      \n",
              "..                                                 ...      \n",
              "99                                                   1      \n",
              "100                                                  1      \n",
              "101                                                  1      \n",
              "102                                                  1      \n",
              "103                                                  1      \n",
              "\n",
              "     99. It is important to respect turns  \\\n",
              "0                                       0   \n",
              "1                                       0   \n",
              "2                                       0   \n",
              "3                                       0   \n",
              "4                                       0   \n",
              "..                                    ...   \n",
              "99                                      1   \n",
              "100                                     0   \n",
              "101                                     1   \n",
              "102                                     0   \n",
              "103                                     0   \n",
              "\n",
              "     100. I could pretend to be someone else to achieve what I want  \\\n",
              "0                                                    1                \n",
              "1                                                    1                \n",
              "2                                                    1                \n",
              "3                                                    1                \n",
              "4                                                    1                \n",
              "..                                                 ...                \n",
              "99                                                   1                \n",
              "100                                                  0                \n",
              "101                                                  1                \n",
              "102                                                  1                \n",
              "103                                                  1                \n",
              "\n",
              "     101. I consider it important that all people have the same rights  \\\n",
              "0                                                    0                   \n",
              "1                                                    1                   \n",
              "2                                                    0                   \n",
              "3                                                    0                   \n",
              "4                                                    0                   \n",
              "..                                                 ...                   \n",
              "99                                                   0                   \n",
              "100                                                  0                   \n",
              "101                                                  1                   \n",
              "102                                                  1                   \n",
              "103                                                  0                   \n",
              "\n",
              "     102. I have a hard time taking  \"no\" for an answer  Target  \n",
              "0                                                    1        0  \n",
              "1                                                    0        0  \n",
              "2                                                    1        1  \n",
              "3                                                    1        2  \n",
              "4                                                    0        0  \n",
              "..                                                 ...      ...  \n",
              "99                                                   1        2  \n",
              "100                                                  0        1  \n",
              "101                                                  1        0  \n",
              "102                                                  0        2  \n",
              "103                                                  1        2  \n",
              "\n",
              "[104 rows x 103 columns]"
            ],
            "text/html": [
              "\n",
              "  <div id=\"df-eea65e68-3c4a-4053-986d-48fbcd38641b\" class=\"colab-df-container\">\n",
              "    <div>\n",
              "<style scoped>\n",
              "    .dataframe tbody tr th:only-of-type {\n",
              "        vertical-align: middle;\n",
              "    }\n",
              "\n",
              "    .dataframe tbody tr th {\n",
              "        vertical-align: top;\n",
              "    }\n",
              "\n",
              "    .dataframe thead th {\n",
              "        text-align: right;\n",
              "    }\n",
              "</style>\n",
              "<table border=\"1\" class=\"dataframe\">\n",
              "  <thead>\n",
              "    <tr style=\"text-align: right;\">\n",
              "      <th></th>\n",
              "      <th>1. Most of the time I have difficulty concentrating on simple tasks</th>\n",
              "      <th>2. I don't feel like doing my daily duties</th>\n",
              "      <th>3. My friends or family have told me that I look different</th>\n",
              "      <th>4. When I think about the future it is difficult for me to imagine it clearly</th>\n",
              "      <th>5. People around me often ask me how I feel</th>\n",
              "      <th>6. I consider that my life is full of good things</th>\n",
              "      <th>7. My hobbies are still important to me</th>\n",
              "      <th>8. I'm still as punctual as I have always been</th>\n",
              "      <th>9. If I had the chance, I would spend all day in my bed</th>\n",
              "      <th>10. I have found that I can spend a lot of time scrolling the screen \\nof my cell phone without searching or stopping at anything in particular</th>\n",
              "      <th>...</th>\n",
              "      <th>94. I lose control easily</th>\n",
              "      <th>95. Neighbors must put up with each other's noises without complaining</th>\n",
              "      <th>96. Littering on public roads is wrong</th>\n",
              "      <th>97. People who commit crimes have their reasons for doing it</th>\n",
              "      <th>98. It is normal to change jobs several times a year</th>\n",
              "      <th>99. It is important to respect turns</th>\n",
              "      <th>100. I could pretend to be someone else to achieve what I want</th>\n",
              "      <th>101. I consider it important that all people have the same rights</th>\n",
              "      <th>102. I have a hard time taking  \"no\" for an answer</th>\n",
              "      <th>Target</th>\n",
              "    </tr>\n",
              "  </thead>\n",
              "  <tbody>\n",
              "    <tr>\n",
              "      <th>0</th>\n",
              "      <td>1</td>\n",
              "      <td>1</td>\n",
              "      <td>0</td>\n",
              "      <td>1</td>\n",
              "      <td>0</td>\n",
              "      <td>1</td>\n",
              "      <td>1</td>\n",
              "      <td>1</td>\n",
              "      <td>0</td>\n",
              "      <td>0</td>\n",
              "      <td>...</td>\n",
              "      <td>1</td>\n",
              "      <td>1</td>\n",
              "      <td>0</td>\n",
              "      <td>0</td>\n",
              "      <td>1</td>\n",
              "      <td>0</td>\n",
              "      <td>1</td>\n",
              "      <td>0</td>\n",
              "      <td>1</td>\n",
              "      <td>0</td>\n",
              "    </tr>\n",
              "    <tr>\n",
              "      <th>1</th>\n",
              "      <td>1</td>\n",
              "      <td>0</td>\n",
              "      <td>1</td>\n",
              "      <td>1</td>\n",
              "      <td>0</td>\n",
              "      <td>1</td>\n",
              "      <td>1</td>\n",
              "      <td>1</td>\n",
              "      <td>0</td>\n",
              "      <td>0</td>\n",
              "      <td>...</td>\n",
              "      <td>0</td>\n",
              "      <td>1</td>\n",
              "      <td>0</td>\n",
              "      <td>0</td>\n",
              "      <td>1</td>\n",
              "      <td>0</td>\n",
              "      <td>1</td>\n",
              "      <td>1</td>\n",
              "      <td>0</td>\n",
              "      <td>0</td>\n",
              "    </tr>\n",
              "    <tr>\n",
              "      <th>2</th>\n",
              "      <td>0</td>\n",
              "      <td>0</td>\n",
              "      <td>0</td>\n",
              "      <td>0</td>\n",
              "      <td>1</td>\n",
              "      <td>1</td>\n",
              "      <td>1</td>\n",
              "      <td>0</td>\n",
              "      <td>0</td>\n",
              "      <td>1</td>\n",
              "      <td>...</td>\n",
              "      <td>0</td>\n",
              "      <td>1</td>\n",
              "      <td>0</td>\n",
              "      <td>0</td>\n",
              "      <td>1</td>\n",
              "      <td>0</td>\n",
              "      <td>1</td>\n",
              "      <td>0</td>\n",
              "      <td>1</td>\n",
              "      <td>1</td>\n",
              "    </tr>\n",
              "    <tr>\n",
              "      <th>3</th>\n",
              "      <td>0</td>\n",
              "      <td>0</td>\n",
              "      <td>0</td>\n",
              "      <td>1</td>\n",
              "      <td>0</td>\n",
              "      <td>1</td>\n",
              "      <td>1</td>\n",
              "      <td>1</td>\n",
              "      <td>1</td>\n",
              "      <td>0</td>\n",
              "      <td>...</td>\n",
              "      <td>0</td>\n",
              "      <td>1</td>\n",
              "      <td>0</td>\n",
              "      <td>1</td>\n",
              "      <td>1</td>\n",
              "      <td>0</td>\n",
              "      <td>1</td>\n",
              "      <td>0</td>\n",
              "      <td>1</td>\n",
              "      <td>2</td>\n",
              "    </tr>\n",
              "    <tr>\n",
              "      <th>4</th>\n",
              "      <td>1</td>\n",
              "      <td>1</td>\n",
              "      <td>0</td>\n",
              "      <td>1</td>\n",
              "      <td>0</td>\n",
              "      <td>1</td>\n",
              "      <td>0</td>\n",
              "      <td>1</td>\n",
              "      <td>1</td>\n",
              "      <td>1</td>\n",
              "      <td>...</td>\n",
              "      <td>0</td>\n",
              "      <td>1</td>\n",
              "      <td>0</td>\n",
              "      <td>0</td>\n",
              "      <td>1</td>\n",
              "      <td>0</td>\n",
              "      <td>1</td>\n",
              "      <td>0</td>\n",
              "      <td>0</td>\n",
              "      <td>0</td>\n",
              "    </tr>\n",
              "    <tr>\n",
              "      <th>...</th>\n",
              "      <td>...</td>\n",
              "      <td>...</td>\n",
              "      <td>...</td>\n",
              "      <td>...</td>\n",
              "      <td>...</td>\n",
              "      <td>...</td>\n",
              "      <td>...</td>\n",
              "      <td>...</td>\n",
              "      <td>...</td>\n",
              "      <td>...</td>\n",
              "      <td>...</td>\n",
              "      <td>...</td>\n",
              "      <td>...</td>\n",
              "      <td>...</td>\n",
              "      <td>...</td>\n",
              "      <td>...</td>\n",
              "      <td>...</td>\n",
              "      <td>...</td>\n",
              "      <td>...</td>\n",
              "      <td>...</td>\n",
              "      <td>...</td>\n",
              "    </tr>\n",
              "    <tr>\n",
              "      <th>99</th>\n",
              "      <td>1</td>\n",
              "      <td>1</td>\n",
              "      <td>1</td>\n",
              "      <td>0</td>\n",
              "      <td>0</td>\n",
              "      <td>1</td>\n",
              "      <td>1</td>\n",
              "      <td>1</td>\n",
              "      <td>0</td>\n",
              "      <td>1</td>\n",
              "      <td>...</td>\n",
              "      <td>0</td>\n",
              "      <td>1</td>\n",
              "      <td>1</td>\n",
              "      <td>1</td>\n",
              "      <td>1</td>\n",
              "      <td>1</td>\n",
              "      <td>1</td>\n",
              "      <td>0</td>\n",
              "      <td>1</td>\n",
              "      <td>2</td>\n",
              "    </tr>\n",
              "    <tr>\n",
              "      <th>100</th>\n",
              "      <td>1</td>\n",
              "      <td>1</td>\n",
              "      <td>0</td>\n",
              "      <td>0</td>\n",
              "      <td>1</td>\n",
              "      <td>1</td>\n",
              "      <td>1</td>\n",
              "      <td>0</td>\n",
              "      <td>0</td>\n",
              "      <td>0</td>\n",
              "      <td>...</td>\n",
              "      <td>0</td>\n",
              "      <td>1</td>\n",
              "      <td>0</td>\n",
              "      <td>1</td>\n",
              "      <td>1</td>\n",
              "      <td>0</td>\n",
              "      <td>0</td>\n",
              "      <td>0</td>\n",
              "      <td>0</td>\n",
              "      <td>1</td>\n",
              "    </tr>\n",
              "    <tr>\n",
              "      <th>101</th>\n",
              "      <td>0</td>\n",
              "      <td>0</td>\n",
              "      <td>1</td>\n",
              "      <td>1</td>\n",
              "      <td>1</td>\n",
              "      <td>1</td>\n",
              "      <td>1</td>\n",
              "      <td>0</td>\n",
              "      <td>1</td>\n",
              "      <td>1</td>\n",
              "      <td>...</td>\n",
              "      <td>0</td>\n",
              "      <td>1</td>\n",
              "      <td>0</td>\n",
              "      <td>0</td>\n",
              "      <td>1</td>\n",
              "      <td>1</td>\n",
              "      <td>1</td>\n",
              "      <td>1</td>\n",
              "      <td>1</td>\n",
              "      <td>0</td>\n",
              "    </tr>\n",
              "    <tr>\n",
              "      <th>102</th>\n",
              "      <td>1</td>\n",
              "      <td>0</td>\n",
              "      <td>0</td>\n",
              "      <td>0</td>\n",
              "      <td>1</td>\n",
              "      <td>1</td>\n",
              "      <td>1</td>\n",
              "      <td>1</td>\n",
              "      <td>1</td>\n",
              "      <td>1</td>\n",
              "      <td>...</td>\n",
              "      <td>0</td>\n",
              "      <td>1</td>\n",
              "      <td>1</td>\n",
              "      <td>0</td>\n",
              "      <td>1</td>\n",
              "      <td>0</td>\n",
              "      <td>1</td>\n",
              "      <td>1</td>\n",
              "      <td>0</td>\n",
              "      <td>2</td>\n",
              "    </tr>\n",
              "    <tr>\n",
              "      <th>103</th>\n",
              "      <td>1</td>\n",
              "      <td>1</td>\n",
              "      <td>0</td>\n",
              "      <td>0</td>\n",
              "      <td>0</td>\n",
              "      <td>1</td>\n",
              "      <td>1</td>\n",
              "      <td>0</td>\n",
              "      <td>0</td>\n",
              "      <td>1</td>\n",
              "      <td>...</td>\n",
              "      <td>0</td>\n",
              "      <td>1</td>\n",
              "      <td>0</td>\n",
              "      <td>0</td>\n",
              "      <td>1</td>\n",
              "      <td>0</td>\n",
              "      <td>1</td>\n",
              "      <td>0</td>\n",
              "      <td>1</td>\n",
              "      <td>2</td>\n",
              "    </tr>\n",
              "  </tbody>\n",
              "</table>\n",
              "<p>104 rows × 103 columns</p>\n",
              "</div>\n",
              "    <div class=\"colab-df-buttons\">\n",
              "\n",
              "  <div class=\"colab-df-container\">\n",
              "    <button class=\"colab-df-convert\" onclick=\"convertToInteractive('df-eea65e68-3c4a-4053-986d-48fbcd38641b')\"\n",
              "            title=\"Convert this dataframe to an interactive table.\"\n",
              "            style=\"display:none;\">\n",
              "\n",
              "  <svg xmlns=\"http://www.w3.org/2000/svg\" height=\"24px\" viewBox=\"0 -960 960 960\">\n",
              "    <path d=\"M120-120v-720h720v720H120Zm60-500h600v-160H180v160Zm220 220h160v-160H400v160Zm0 220h160v-160H400v160ZM180-400h160v-160H180v160Zm440 0h160v-160H620v160ZM180-180h160v-160H180v160Zm440 0h160v-160H620v160Z\"/>\n",
              "  </svg>\n",
              "    </button>\n",
              "\n",
              "  <style>\n",
              "    .colab-df-container {\n",
              "      display:flex;\n",
              "      gap: 12px;\n",
              "    }\n",
              "\n",
              "    .colab-df-convert {\n",
              "      background-color: #E8F0FE;\n",
              "      border: none;\n",
              "      border-radius: 50%;\n",
              "      cursor: pointer;\n",
              "      display: none;\n",
              "      fill: #1967D2;\n",
              "      height: 32px;\n",
              "      padding: 0 0 0 0;\n",
              "      width: 32px;\n",
              "    }\n",
              "\n",
              "    .colab-df-convert:hover {\n",
              "      background-color: #E2EBFA;\n",
              "      box-shadow: 0px 1px 2px rgba(60, 64, 67, 0.3), 0px 1px 3px 1px rgba(60, 64, 67, 0.15);\n",
              "      fill: #174EA6;\n",
              "    }\n",
              "\n",
              "    .colab-df-buttons div {\n",
              "      margin-bottom: 4px;\n",
              "    }\n",
              "\n",
              "    [theme=dark] .colab-df-convert {\n",
              "      background-color: #3B4455;\n",
              "      fill: #D2E3FC;\n",
              "    }\n",
              "\n",
              "    [theme=dark] .colab-df-convert:hover {\n",
              "      background-color: #434B5C;\n",
              "      box-shadow: 0px 1px 3px 1px rgba(0, 0, 0, 0.15);\n",
              "      filter: drop-shadow(0px 1px 2px rgba(0, 0, 0, 0.3));\n",
              "      fill: #FFFFFF;\n",
              "    }\n",
              "  </style>\n",
              "\n",
              "    <script>\n",
              "      const buttonEl =\n",
              "        document.querySelector('#df-eea65e68-3c4a-4053-986d-48fbcd38641b button.colab-df-convert');\n",
              "      buttonEl.style.display =\n",
              "        google.colab.kernel.accessAllowed ? 'block' : 'none';\n",
              "\n",
              "      async function convertToInteractive(key) {\n",
              "        const element = document.querySelector('#df-eea65e68-3c4a-4053-986d-48fbcd38641b');\n",
              "        const dataTable =\n",
              "          await google.colab.kernel.invokeFunction('convertToInteractive',\n",
              "                                                    [key], {});\n",
              "        if (!dataTable) return;\n",
              "\n",
              "        const docLinkHtml = 'Like what you see? Visit the ' +\n",
              "          '<a target=\"_blank\" href=https://colab.research.google.com/notebooks/data_table.ipynb>data table notebook</a>'\n",
              "          + ' to learn more about interactive tables.';\n",
              "        element.innerHTML = '';\n",
              "        dataTable['output_type'] = 'display_data';\n",
              "        await google.colab.output.renderOutput(dataTable, element);\n",
              "        const docLink = document.createElement('div');\n",
              "        docLink.innerHTML = docLinkHtml;\n",
              "        element.appendChild(docLink);\n",
              "      }\n",
              "    </script>\n",
              "  </div>\n",
              "\n",
              "\n",
              "<div id=\"df-12b43f7f-1e23-4ee1-ba37-c292624db7dc\">\n",
              "  <button class=\"colab-df-quickchart\" onclick=\"quickchart('df-12b43f7f-1e23-4ee1-ba37-c292624db7dc')\"\n",
              "            title=\"Suggest charts\"\n",
              "            style=\"display:none;\">\n",
              "\n",
              "<svg xmlns=\"http://www.w3.org/2000/svg\" height=\"24px\"viewBox=\"0 0 24 24\"\n",
              "     width=\"24px\">\n",
              "    <g>\n",
              "        <path d=\"M19 3H5c-1.1 0-2 .9-2 2v14c0 1.1.9 2 2 2h14c1.1 0 2-.9 2-2V5c0-1.1-.9-2-2-2zM9 17H7v-7h2v7zm4 0h-2V7h2v10zm4 0h-2v-4h2v4z\"/>\n",
              "    </g>\n",
              "</svg>\n",
              "  </button>\n",
              "\n",
              "<style>\n",
              "  .colab-df-quickchart {\n",
              "      --bg-color: #E8F0FE;\n",
              "      --fill-color: #1967D2;\n",
              "      --hover-bg-color: #E2EBFA;\n",
              "      --hover-fill-color: #174EA6;\n",
              "      --disabled-fill-color: #AAA;\n",
              "      --disabled-bg-color: #DDD;\n",
              "  }\n",
              "\n",
              "  [theme=dark] .colab-df-quickchart {\n",
              "      --bg-color: #3B4455;\n",
              "      --fill-color: #D2E3FC;\n",
              "      --hover-bg-color: #434B5C;\n",
              "      --hover-fill-color: #FFFFFF;\n",
              "      --disabled-bg-color: #3B4455;\n",
              "      --disabled-fill-color: #666;\n",
              "  }\n",
              "\n",
              "  .colab-df-quickchart {\n",
              "    background-color: var(--bg-color);\n",
              "    border: none;\n",
              "    border-radius: 50%;\n",
              "    cursor: pointer;\n",
              "    display: none;\n",
              "    fill: var(--fill-color);\n",
              "    height: 32px;\n",
              "    padding: 0;\n",
              "    width: 32px;\n",
              "  }\n",
              "\n",
              "  .colab-df-quickchart:hover {\n",
              "    background-color: var(--hover-bg-color);\n",
              "    box-shadow: 0 1px 2px rgba(60, 64, 67, 0.3), 0 1px 3px 1px rgba(60, 64, 67, 0.15);\n",
              "    fill: var(--button-hover-fill-color);\n",
              "  }\n",
              "\n",
              "  .colab-df-quickchart-complete:disabled,\n",
              "  .colab-df-quickchart-complete:disabled:hover {\n",
              "    background-color: var(--disabled-bg-color);\n",
              "    fill: var(--disabled-fill-color);\n",
              "    box-shadow: none;\n",
              "  }\n",
              "\n",
              "  .colab-df-spinner {\n",
              "    border: 2px solid var(--fill-color);\n",
              "    border-color: transparent;\n",
              "    border-bottom-color: var(--fill-color);\n",
              "    animation:\n",
              "      spin 1s steps(1) infinite;\n",
              "  }\n",
              "\n",
              "  @keyframes spin {\n",
              "    0% {\n",
              "      border-color: transparent;\n",
              "      border-bottom-color: var(--fill-color);\n",
              "      border-left-color: var(--fill-color);\n",
              "    }\n",
              "    20% {\n",
              "      border-color: transparent;\n",
              "      border-left-color: var(--fill-color);\n",
              "      border-top-color: var(--fill-color);\n",
              "    }\n",
              "    30% {\n",
              "      border-color: transparent;\n",
              "      border-left-color: var(--fill-color);\n",
              "      border-top-color: var(--fill-color);\n",
              "      border-right-color: var(--fill-color);\n",
              "    }\n",
              "    40% {\n",
              "      border-color: transparent;\n",
              "      border-right-color: var(--fill-color);\n",
              "      border-top-color: var(--fill-color);\n",
              "    }\n",
              "    60% {\n",
              "      border-color: transparent;\n",
              "      border-right-color: var(--fill-color);\n",
              "    }\n",
              "    80% {\n",
              "      border-color: transparent;\n",
              "      border-right-color: var(--fill-color);\n",
              "      border-bottom-color: var(--fill-color);\n",
              "    }\n",
              "    90% {\n",
              "      border-color: transparent;\n",
              "      border-bottom-color: var(--fill-color);\n",
              "    }\n",
              "  }\n",
              "</style>\n",
              "\n",
              "  <script>\n",
              "    async function quickchart(key) {\n",
              "      const quickchartButtonEl =\n",
              "        document.querySelector('#' + key + ' button');\n",
              "      quickchartButtonEl.disabled = true;  // To prevent multiple clicks.\n",
              "      quickchartButtonEl.classList.add('colab-df-spinner');\n",
              "      try {\n",
              "        const charts = await google.colab.kernel.invokeFunction(\n",
              "            'suggestCharts', [key], {});\n",
              "      } catch (error) {\n",
              "        console.error('Error during call to suggestCharts:', error);\n",
              "      }\n",
              "      quickchartButtonEl.classList.remove('colab-df-spinner');\n",
              "      quickchartButtonEl.classList.add('colab-df-quickchart-complete');\n",
              "    }\n",
              "    (() => {\n",
              "      let quickchartButtonEl =\n",
              "        document.querySelector('#df-12b43f7f-1e23-4ee1-ba37-c292624db7dc button');\n",
              "      quickchartButtonEl.style.display =\n",
              "        google.colab.kernel.accessAllowed ? 'block' : 'none';\n",
              "    })();\n",
              "  </script>\n",
              "</div>\n",
              "\n",
              "  <div id=\"id_306affc4-1439-458e-8f60-64fe9549efec\">\n",
              "    <style>\n",
              "      .colab-df-generate {\n",
              "        background-color: #E8F0FE;\n",
              "        border: none;\n",
              "        border-radius: 50%;\n",
              "        cursor: pointer;\n",
              "        display: none;\n",
              "        fill: #1967D2;\n",
              "        height: 32px;\n",
              "        padding: 0 0 0 0;\n",
              "        width: 32px;\n",
              "      }\n",
              "\n",
              "      .colab-df-generate:hover {\n",
              "        background-color: #E2EBFA;\n",
              "        box-shadow: 0px 1px 2px rgba(60, 64, 67, 0.3), 0px 1px 3px 1px rgba(60, 64, 67, 0.15);\n",
              "        fill: #174EA6;\n",
              "      }\n",
              "\n",
              "      [theme=dark] .colab-df-generate {\n",
              "        background-color: #3B4455;\n",
              "        fill: #D2E3FC;\n",
              "      }\n",
              "\n",
              "      [theme=dark] .colab-df-generate:hover {\n",
              "        background-color: #434B5C;\n",
              "        box-shadow: 0px 1px 3px 1px rgba(0, 0, 0, 0.15);\n",
              "        filter: drop-shadow(0px 1px 2px rgba(0, 0, 0, 0.3));\n",
              "        fill: #FFFFFF;\n",
              "      }\n",
              "    </style>\n",
              "    <button class=\"colab-df-generate\" onclick=\"generateWithVariable('df')\"\n",
              "            title=\"Generate code using this dataframe.\"\n",
              "            style=\"display:none;\">\n",
              "\n",
              "  <svg xmlns=\"http://www.w3.org/2000/svg\" height=\"24px\"viewBox=\"0 0 24 24\"\n",
              "       width=\"24px\">\n",
              "    <path d=\"M7,19H8.4L18.45,9,17,7.55,7,17.6ZM5,21V16.75L18.45,3.32a2,2,0,0,1,2.83,0l1.4,1.43a1.91,1.91,0,0,1,.58,1.4,1.91,1.91,0,0,1-.58,1.4L9.25,21ZM18.45,9,17,7.55Zm-12,3A5.31,5.31,0,0,0,4.9,8.1,5.31,5.31,0,0,0,1,6.5,5.31,5.31,0,0,0,4.9,4.9,5.31,5.31,0,0,0,6.5,1,5.31,5.31,0,0,0,8.1,4.9,5.31,5.31,0,0,0,12,6.5,5.46,5.46,0,0,0,6.5,12Z\"/>\n",
              "  </svg>\n",
              "    </button>\n",
              "    <script>\n",
              "      (() => {\n",
              "      const buttonEl =\n",
              "        document.querySelector('#id_306affc4-1439-458e-8f60-64fe9549efec button.colab-df-generate');\n",
              "      buttonEl.style.display =\n",
              "        google.colab.kernel.accessAllowed ? 'block' : 'none';\n",
              "\n",
              "      buttonEl.onclick = () => {\n",
              "        google.colab.notebook.generateWithVariable('df');\n",
              "      }\n",
              "      })();\n",
              "    </script>\n",
              "  </div>\n",
              "\n",
              "    </div>\n",
              "  </div>\n"
            ],
            "application/vnd.google.colaboratory.intrinsic+json": {
              "type": "dataframe",
              "variable_name": "df"
            }
          },
          "metadata": {},
          "execution_count": 90
        }
      ]
    },
    {
      "cell_type": "code",
      "source": [
        "y.value_counts()"
      ],
      "metadata": {
        "colab": {
          "base_uri": "https://localhost:8080/"
        },
        "id": "M_OxX3zJvI7t",
        "outputId": "5862b7c8-1415-4e27-c711-bfbe071bf391"
      },
      "execution_count": null,
      "outputs": [
        {
          "output_type": "execute_result",
          "data": {
            "text/plain": [
              "Target\n",
              "0    39\n",
              "1    35\n",
              "2    30\n",
              "Name: count, dtype: int64"
            ]
          },
          "metadata": {},
          "execution_count": 91
        }
      ]
    },
    {
      "cell_type": "code",
      "source": [
        "random_state = 13\n",
        "from imblearn.over_sampling import SMOTE\n",
        "oversample = SMOTE(random_state=random_state, k_neighbors=3)\n",
        "X, y = oversample.fit_resample(X, y)"
      ],
      "metadata": {
        "id": "_u_ljx8mvChF"
      },
      "execution_count": null,
      "outputs": []
    },
    {
      "cell_type": "code",
      "source": [
        "y.value_counts()"
      ],
      "metadata": {
        "colab": {
          "base_uri": "https://localhost:8080/"
        },
        "id": "Zxo6BfGFvGbk",
        "outputId": "da243f3b-5b84-46e2-8cd2-5b5ab55876ab"
      },
      "execution_count": null,
      "outputs": [
        {
          "output_type": "execute_result",
          "data": {
            "text/plain": [
              "Target\n",
              "0    39\n",
              "1    39\n",
              "2    39\n",
              "Name: count, dtype: int64"
            ]
          },
          "metadata": {},
          "execution_count": 93
        }
      ]
    },
    {
      "cell_type": "code",
      "source": [
        "# prompt: convert X and y into tensors\n",
        "\n",
        "Xs = torch.tensor(X.values).float()\n",
        "ys = torch.tensor(y.values).long()\n"
      ],
      "metadata": {
        "id": "kbF8eKpEVZqb"
      },
      "execution_count": null,
      "outputs": []
    },
    {
      "cell_type": "markdown",
      "source": [
        "##Regression, depression\n",
        "\n",
        "From Zach Wilkerson, ICCBR challenge."
      ],
      "metadata": {
        "id": "Hvx2FEVOTufl"
      }
    },
    {
      "cell_type": "code",
      "source": [
        "from google.colab import drive\n",
        "drive.mount('/content/drive')"
      ],
      "metadata": {
        "colab": {
          "base_uri": "https://localhost:8080/"
        },
        "outputId": "301bb4a5-a965-495c-dff9-4fc2ade6e701",
        "id": "hEhreZZMTufr"
      },
      "execution_count": null,
      "outputs": [
        {
          "output_type": "stream",
          "name": "stdout",
          "text": [
            "Drive already mounted at /content/drive; to attempt to forcibly remount, call drive.mount(\"/content/drive\", force_remount=True).\n"
          ]
        }
      ]
    },
    {
      "cell_type": "code",
      "source": [
        "import pandas as pd\n",
        "df = pd.read_csv(\"/content/drive/MyDrive/2023 research/NN-kNN/Dataset_MO_ENG.csv\")"
      ],
      "metadata": {
        "id": "zYC9NbrxTufs"
      },
      "execution_count": null,
      "outputs": []
    },
    {
      "cell_type": "code",
      "source": [
        "## eliminating physical-related questions\n",
        "df = df.drop(df.columns[102:-1], axis=1)\n",
        "\n",
        "\n",
        "## Creating classes 0-> Low risk, 1->Medium Risk, 2->High risk\n",
        "# dic = { 1: 0 , 2: 0, 3:1, 4:2, 5:2}\n",
        "# df['Target'] = df['Target'].map(dic)\n",
        "\n",
        "train_cols = df.columns[0:-1]\n",
        "label = df.columns[-1]\n",
        "X = df[train_cols]\n",
        "y = df[label]\n",
        "target_names=[\"Low\",\"Medium\",\"High\"]\n",
        "df"
      ],
      "metadata": {
        "colab": {
          "base_uri": "https://localhost:8080/"
        },
        "outputId": "b5d45266-acfe-48ce-88cf-91bc614f3349",
        "id": "OL_0h2MYTufs"
      },
      "execution_count": null,
      "outputs": [
        {
          "output_type": "execute_result",
          "data": {
            "text/plain": [
              "     1. Most of the time I have difficulty concentrating on simple tasks  \\\n",
              "0                                                    1                     \n",
              "1                                                    1                     \n",
              "2                                                    0                     \n",
              "3                                                    0                     \n",
              "4                                                    1                     \n",
              "..                                                 ...                     \n",
              "99                                                   1                     \n",
              "100                                                  1                     \n",
              "101                                                  0                     \n",
              "102                                                  1                     \n",
              "103                                                  1                     \n",
              "\n",
              "     2. I don't feel like doing my daily duties  \\\n",
              "0                                             1   \n",
              "1                                             0   \n",
              "2                                             0   \n",
              "3                                             0   \n",
              "4                                             1   \n",
              "..                                          ...   \n",
              "99                                            1   \n",
              "100                                           1   \n",
              "101                                           0   \n",
              "102                                           0   \n",
              "103                                           1   \n",
              "\n",
              "     3. My friends or family have told me that I look different  \\\n",
              "0                                                    0            \n",
              "1                                                    1            \n",
              "2                                                    0            \n",
              "3                                                    0            \n",
              "4                                                    0            \n",
              "..                                                 ...            \n",
              "99                                                   1            \n",
              "100                                                  0            \n",
              "101                                                  1            \n",
              "102                                                  0            \n",
              "103                                                  0            \n",
              "\n",
              "     4. When I think about the future it is difficult for me to imagine it clearly  \\\n",
              "0                                                    1                               \n",
              "1                                                    1                               \n",
              "2                                                    0                               \n",
              "3                                                    1                               \n",
              "4                                                    1                               \n",
              "..                                                 ...                               \n",
              "99                                                   0                               \n",
              "100                                                  0                               \n",
              "101                                                  1                               \n",
              "102                                                  0                               \n",
              "103                                                  0                               \n",
              "\n",
              "     5. People around me often ask me how I feel  \\\n",
              "0                                              0   \n",
              "1                                              0   \n",
              "2                                              1   \n",
              "3                                              0   \n",
              "4                                              0   \n",
              "..                                           ...   \n",
              "99                                             0   \n",
              "100                                            1   \n",
              "101                                            1   \n",
              "102                                            1   \n",
              "103                                            0   \n",
              "\n",
              "     6. I consider that my life is full of good things  \\\n",
              "0                                                    1   \n",
              "1                                                    1   \n",
              "2                                                    1   \n",
              "3                                                    1   \n",
              "4                                                    1   \n",
              "..                                                 ...   \n",
              "99                                                   1   \n",
              "100                                                  1   \n",
              "101                                                  1   \n",
              "102                                                  1   \n",
              "103                                                  1   \n",
              "\n",
              "     7. My hobbies are still important to me  \\\n",
              "0                                          1   \n",
              "1                                          1   \n",
              "2                                          1   \n",
              "3                                          1   \n",
              "4                                          0   \n",
              "..                                       ...   \n",
              "99                                         1   \n",
              "100                                        1   \n",
              "101                                        1   \n",
              "102                                        1   \n",
              "103                                        1   \n",
              "\n",
              "     8. I'm still as punctual as I have always been  \\\n",
              "0                                                 1   \n",
              "1                                                 1   \n",
              "2                                                 0   \n",
              "3                                                 1   \n",
              "4                                                 1   \n",
              "..                                              ...   \n",
              "99                                                1   \n",
              "100                                               0   \n",
              "101                                               0   \n",
              "102                                               1   \n",
              "103                                               0   \n",
              "\n",
              "     9. If I had the chance, I would spend all day in my bed  \\\n",
              "0                                                    0         \n",
              "1                                                    0         \n",
              "2                                                    0         \n",
              "3                                                    1         \n",
              "4                                                    1         \n",
              "..                                                 ...         \n",
              "99                                                   0         \n",
              "100                                                  0         \n",
              "101                                                  1         \n",
              "102                                                  1         \n",
              "103                                                  0         \n",
              "\n",
              "     10. I have found that I can spend a lot of time scrolling the screen \\nof my cell phone without searching or stopping at anything in particular  \\\n",
              "0                                                    0                                                                                                 \n",
              "1                                                    0                                                                                                 \n",
              "2                                                    1                                                                                                 \n",
              "3                                                    0                                                                                                 \n",
              "4                                                    1                                                                                                 \n",
              "..                                                 ...                                                                                                 \n",
              "99                                                   1                                                                                                 \n",
              "100                                                  0                                                                                                 \n",
              "101                                                  1                                                                                                 \n",
              "102                                                  1                                                                                                 \n",
              "103                                                  1                                                                                                 \n",
              "\n",
              "     ...  94. I lose control easily  \\\n",
              "0    ...                          1   \n",
              "1    ...                          0   \n",
              "2    ...                          0   \n",
              "3    ...                          0   \n",
              "4    ...                          0   \n",
              "..   ...                        ...   \n",
              "99   ...                          0   \n",
              "100  ...                          0   \n",
              "101  ...                          0   \n",
              "102  ...                          0   \n",
              "103  ...                          0   \n",
              "\n",
              "     95. Neighbors must put up with each other's noises without complaining  \\\n",
              "0                                                    1                        \n",
              "1                                                    1                        \n",
              "2                                                    1                        \n",
              "3                                                    1                        \n",
              "4                                                    1                        \n",
              "..                                                 ...                        \n",
              "99                                                   1                        \n",
              "100                                                  1                        \n",
              "101                                                  1                        \n",
              "102                                                  1                        \n",
              "103                                                  1                        \n",
              "\n",
              "     96. Littering on public roads is wrong  \\\n",
              "0                                         0   \n",
              "1                                         0   \n",
              "2                                         0   \n",
              "3                                         0   \n",
              "4                                         0   \n",
              "..                                      ...   \n",
              "99                                        1   \n",
              "100                                       0   \n",
              "101                                       0   \n",
              "102                                       1   \n",
              "103                                       0   \n",
              "\n",
              "     97. People who commit crimes have their reasons for doing it  \\\n",
              "0                                                    0              \n",
              "1                                                    0              \n",
              "2                                                    0              \n",
              "3                                                    1              \n",
              "4                                                    0              \n",
              "..                                                 ...              \n",
              "99                                                   1              \n",
              "100                                                  1              \n",
              "101                                                  0              \n",
              "102                                                  0              \n",
              "103                                                  0              \n",
              "\n",
              "     98. It is normal to change jobs several times a year  \\\n",
              "0                                                    1      \n",
              "1                                                    1      \n",
              "2                                                    1      \n",
              "3                                                    1      \n",
              "4                                                    1      \n",
              "..                                                 ...      \n",
              "99                                                   1      \n",
              "100                                                  1      \n",
              "101                                                  1      \n",
              "102                                                  1      \n",
              "103                                                  1      \n",
              "\n",
              "     99. It is important to respect turns  \\\n",
              "0                                       0   \n",
              "1                                       0   \n",
              "2                                       0   \n",
              "3                                       0   \n",
              "4                                       0   \n",
              "..                                    ...   \n",
              "99                                      1   \n",
              "100                                     0   \n",
              "101                                     1   \n",
              "102                                     0   \n",
              "103                                     0   \n",
              "\n",
              "     100. I could pretend to be someone else to achieve what I want  \\\n",
              "0                                                    1                \n",
              "1                                                    1                \n",
              "2                                                    1                \n",
              "3                                                    1                \n",
              "4                                                    1                \n",
              "..                                                 ...                \n",
              "99                                                   1                \n",
              "100                                                  0                \n",
              "101                                                  1                \n",
              "102                                                  1                \n",
              "103                                                  1                \n",
              "\n",
              "     101. I consider it important that all people have the same rights  \\\n",
              "0                                                    0                   \n",
              "1                                                    1                   \n",
              "2                                                    0                   \n",
              "3                                                    0                   \n",
              "4                                                    0                   \n",
              "..                                                 ...                   \n",
              "99                                                   0                   \n",
              "100                                                  0                   \n",
              "101                                                  1                   \n",
              "102                                                  1                   \n",
              "103                                                  0                   \n",
              "\n",
              "     102. I have a hard time taking  \"no\" for an answer  Target  \n",
              "0                                                    1        2  \n",
              "1                                                    0        2  \n",
              "2                                                    1        3  \n",
              "3                                                    1        5  \n",
              "4                                                    0        2  \n",
              "..                                                 ...      ...  \n",
              "99                                                   1        5  \n",
              "100                                                  0        3  \n",
              "101                                                  1        2  \n",
              "102                                                  0        4  \n",
              "103                                                  1        4  \n",
              "\n",
              "[104 rows x 103 columns]"
            ],
            "text/html": [
              "\n",
              "  <div id=\"df-05dcec5f-0c67-446b-ae67-adccf87aff58\" class=\"colab-df-container\">\n",
              "    <div>\n",
              "<style scoped>\n",
              "    .dataframe tbody tr th:only-of-type {\n",
              "        vertical-align: middle;\n",
              "    }\n",
              "\n",
              "    .dataframe tbody tr th {\n",
              "        vertical-align: top;\n",
              "    }\n",
              "\n",
              "    .dataframe thead th {\n",
              "        text-align: right;\n",
              "    }\n",
              "</style>\n",
              "<table border=\"1\" class=\"dataframe\">\n",
              "  <thead>\n",
              "    <tr style=\"text-align: right;\">\n",
              "      <th></th>\n",
              "      <th>1. Most of the time I have difficulty concentrating on simple tasks</th>\n",
              "      <th>2. I don't feel like doing my daily duties</th>\n",
              "      <th>3. My friends or family have told me that I look different</th>\n",
              "      <th>4. When I think about the future it is difficult for me to imagine it clearly</th>\n",
              "      <th>5. People around me often ask me how I feel</th>\n",
              "      <th>6. I consider that my life is full of good things</th>\n",
              "      <th>7. My hobbies are still important to me</th>\n",
              "      <th>8. I'm still as punctual as I have always been</th>\n",
              "      <th>9. If I had the chance, I would spend all day in my bed</th>\n",
              "      <th>10. I have found that I can spend a lot of time scrolling the screen \\nof my cell phone without searching or stopping at anything in particular</th>\n",
              "      <th>...</th>\n",
              "      <th>94. I lose control easily</th>\n",
              "      <th>95. Neighbors must put up with each other's noises without complaining</th>\n",
              "      <th>96. Littering on public roads is wrong</th>\n",
              "      <th>97. People who commit crimes have their reasons for doing it</th>\n",
              "      <th>98. It is normal to change jobs several times a year</th>\n",
              "      <th>99. It is important to respect turns</th>\n",
              "      <th>100. I could pretend to be someone else to achieve what I want</th>\n",
              "      <th>101. I consider it important that all people have the same rights</th>\n",
              "      <th>102. I have a hard time taking  \"no\" for an answer</th>\n",
              "      <th>Target</th>\n",
              "    </tr>\n",
              "  </thead>\n",
              "  <tbody>\n",
              "    <tr>\n",
              "      <th>0</th>\n",
              "      <td>1</td>\n",
              "      <td>1</td>\n",
              "      <td>0</td>\n",
              "      <td>1</td>\n",
              "      <td>0</td>\n",
              "      <td>1</td>\n",
              "      <td>1</td>\n",
              "      <td>1</td>\n",
              "      <td>0</td>\n",
              "      <td>0</td>\n",
              "      <td>...</td>\n",
              "      <td>1</td>\n",
              "      <td>1</td>\n",
              "      <td>0</td>\n",
              "      <td>0</td>\n",
              "      <td>1</td>\n",
              "      <td>0</td>\n",
              "      <td>1</td>\n",
              "      <td>0</td>\n",
              "      <td>1</td>\n",
              "      <td>2</td>\n",
              "    </tr>\n",
              "    <tr>\n",
              "      <th>1</th>\n",
              "      <td>1</td>\n",
              "      <td>0</td>\n",
              "      <td>1</td>\n",
              "      <td>1</td>\n",
              "      <td>0</td>\n",
              "      <td>1</td>\n",
              "      <td>1</td>\n",
              "      <td>1</td>\n",
              "      <td>0</td>\n",
              "      <td>0</td>\n",
              "      <td>...</td>\n",
              "      <td>0</td>\n",
              "      <td>1</td>\n",
              "      <td>0</td>\n",
              "      <td>0</td>\n",
              "      <td>1</td>\n",
              "      <td>0</td>\n",
              "      <td>1</td>\n",
              "      <td>1</td>\n",
              "      <td>0</td>\n",
              "      <td>2</td>\n",
              "    </tr>\n",
              "    <tr>\n",
              "      <th>2</th>\n",
              "      <td>0</td>\n",
              "      <td>0</td>\n",
              "      <td>0</td>\n",
              "      <td>0</td>\n",
              "      <td>1</td>\n",
              "      <td>1</td>\n",
              "      <td>1</td>\n",
              "      <td>0</td>\n",
              "      <td>0</td>\n",
              "      <td>1</td>\n",
              "      <td>...</td>\n",
              "      <td>0</td>\n",
              "      <td>1</td>\n",
              "      <td>0</td>\n",
              "      <td>0</td>\n",
              "      <td>1</td>\n",
              "      <td>0</td>\n",
              "      <td>1</td>\n",
              "      <td>0</td>\n",
              "      <td>1</td>\n",
              "      <td>3</td>\n",
              "    </tr>\n",
              "    <tr>\n",
              "      <th>3</th>\n",
              "      <td>0</td>\n",
              "      <td>0</td>\n",
              "      <td>0</td>\n",
              "      <td>1</td>\n",
              "      <td>0</td>\n",
              "      <td>1</td>\n",
              "      <td>1</td>\n",
              "      <td>1</td>\n",
              "      <td>1</td>\n",
              "      <td>0</td>\n",
              "      <td>...</td>\n",
              "      <td>0</td>\n",
              "      <td>1</td>\n",
              "      <td>0</td>\n",
              "      <td>1</td>\n",
              "      <td>1</td>\n",
              "      <td>0</td>\n",
              "      <td>1</td>\n",
              "      <td>0</td>\n",
              "      <td>1</td>\n",
              "      <td>5</td>\n",
              "    </tr>\n",
              "    <tr>\n",
              "      <th>4</th>\n",
              "      <td>1</td>\n",
              "      <td>1</td>\n",
              "      <td>0</td>\n",
              "      <td>1</td>\n",
              "      <td>0</td>\n",
              "      <td>1</td>\n",
              "      <td>0</td>\n",
              "      <td>1</td>\n",
              "      <td>1</td>\n",
              "      <td>1</td>\n",
              "      <td>...</td>\n",
              "      <td>0</td>\n",
              "      <td>1</td>\n",
              "      <td>0</td>\n",
              "      <td>0</td>\n",
              "      <td>1</td>\n",
              "      <td>0</td>\n",
              "      <td>1</td>\n",
              "      <td>0</td>\n",
              "      <td>0</td>\n",
              "      <td>2</td>\n",
              "    </tr>\n",
              "    <tr>\n",
              "      <th>...</th>\n",
              "      <td>...</td>\n",
              "      <td>...</td>\n",
              "      <td>...</td>\n",
              "      <td>...</td>\n",
              "      <td>...</td>\n",
              "      <td>...</td>\n",
              "      <td>...</td>\n",
              "      <td>...</td>\n",
              "      <td>...</td>\n",
              "      <td>...</td>\n",
              "      <td>...</td>\n",
              "      <td>...</td>\n",
              "      <td>...</td>\n",
              "      <td>...</td>\n",
              "      <td>...</td>\n",
              "      <td>...</td>\n",
              "      <td>...</td>\n",
              "      <td>...</td>\n",
              "      <td>...</td>\n",
              "      <td>...</td>\n",
              "      <td>...</td>\n",
              "    </tr>\n",
              "    <tr>\n",
              "      <th>99</th>\n",
              "      <td>1</td>\n",
              "      <td>1</td>\n",
              "      <td>1</td>\n",
              "      <td>0</td>\n",
              "      <td>0</td>\n",
              "      <td>1</td>\n",
              "      <td>1</td>\n",
              "      <td>1</td>\n",
              "      <td>0</td>\n",
              "      <td>1</td>\n",
              "      <td>...</td>\n",
              "      <td>0</td>\n",
              "      <td>1</td>\n",
              "      <td>1</td>\n",
              "      <td>1</td>\n",
              "      <td>1</td>\n",
              "      <td>1</td>\n",
              "      <td>1</td>\n",
              "      <td>0</td>\n",
              "      <td>1</td>\n",
              "      <td>5</td>\n",
              "    </tr>\n",
              "    <tr>\n",
              "      <th>100</th>\n",
              "      <td>1</td>\n",
              "      <td>1</td>\n",
              "      <td>0</td>\n",
              "      <td>0</td>\n",
              "      <td>1</td>\n",
              "      <td>1</td>\n",
              "      <td>1</td>\n",
              "      <td>0</td>\n",
              "      <td>0</td>\n",
              "      <td>0</td>\n",
              "      <td>...</td>\n",
              "      <td>0</td>\n",
              "      <td>1</td>\n",
              "      <td>0</td>\n",
              "      <td>1</td>\n",
              "      <td>1</td>\n",
              "      <td>0</td>\n",
              "      <td>0</td>\n",
              "      <td>0</td>\n",
              "      <td>0</td>\n",
              "      <td>3</td>\n",
              "    </tr>\n",
              "    <tr>\n",
              "      <th>101</th>\n",
              "      <td>0</td>\n",
              "      <td>0</td>\n",
              "      <td>1</td>\n",
              "      <td>1</td>\n",
              "      <td>1</td>\n",
              "      <td>1</td>\n",
              "      <td>1</td>\n",
              "      <td>0</td>\n",
              "      <td>1</td>\n",
              "      <td>1</td>\n",
              "      <td>...</td>\n",
              "      <td>0</td>\n",
              "      <td>1</td>\n",
              "      <td>0</td>\n",
              "      <td>0</td>\n",
              "      <td>1</td>\n",
              "      <td>1</td>\n",
              "      <td>1</td>\n",
              "      <td>1</td>\n",
              "      <td>1</td>\n",
              "      <td>2</td>\n",
              "    </tr>\n",
              "    <tr>\n",
              "      <th>102</th>\n",
              "      <td>1</td>\n",
              "      <td>0</td>\n",
              "      <td>0</td>\n",
              "      <td>0</td>\n",
              "      <td>1</td>\n",
              "      <td>1</td>\n",
              "      <td>1</td>\n",
              "      <td>1</td>\n",
              "      <td>1</td>\n",
              "      <td>1</td>\n",
              "      <td>...</td>\n",
              "      <td>0</td>\n",
              "      <td>1</td>\n",
              "      <td>1</td>\n",
              "      <td>0</td>\n",
              "      <td>1</td>\n",
              "      <td>0</td>\n",
              "      <td>1</td>\n",
              "      <td>1</td>\n",
              "      <td>0</td>\n",
              "      <td>4</td>\n",
              "    </tr>\n",
              "    <tr>\n",
              "      <th>103</th>\n",
              "      <td>1</td>\n",
              "      <td>1</td>\n",
              "      <td>0</td>\n",
              "      <td>0</td>\n",
              "      <td>0</td>\n",
              "      <td>1</td>\n",
              "      <td>1</td>\n",
              "      <td>0</td>\n",
              "      <td>0</td>\n",
              "      <td>1</td>\n",
              "      <td>...</td>\n",
              "      <td>0</td>\n",
              "      <td>1</td>\n",
              "      <td>0</td>\n",
              "      <td>0</td>\n",
              "      <td>1</td>\n",
              "      <td>0</td>\n",
              "      <td>1</td>\n",
              "      <td>0</td>\n",
              "      <td>1</td>\n",
              "      <td>4</td>\n",
              "    </tr>\n",
              "  </tbody>\n",
              "</table>\n",
              "<p>104 rows × 103 columns</p>\n",
              "</div>\n",
              "    <div class=\"colab-df-buttons\">\n",
              "\n",
              "  <div class=\"colab-df-container\">\n",
              "    <button class=\"colab-df-convert\" onclick=\"convertToInteractive('df-05dcec5f-0c67-446b-ae67-adccf87aff58')\"\n",
              "            title=\"Convert this dataframe to an interactive table.\"\n",
              "            style=\"display:none;\">\n",
              "\n",
              "  <svg xmlns=\"http://www.w3.org/2000/svg\" height=\"24px\" viewBox=\"0 -960 960 960\">\n",
              "    <path d=\"M120-120v-720h720v720H120Zm60-500h600v-160H180v160Zm220 220h160v-160H400v160Zm0 220h160v-160H400v160ZM180-400h160v-160H180v160Zm440 0h160v-160H620v160ZM180-180h160v-160H180v160Zm440 0h160v-160H620v160Z\"/>\n",
              "  </svg>\n",
              "    </button>\n",
              "\n",
              "  <style>\n",
              "    .colab-df-container {\n",
              "      display:flex;\n",
              "      gap: 12px;\n",
              "    }\n",
              "\n",
              "    .colab-df-convert {\n",
              "      background-color: #E8F0FE;\n",
              "      border: none;\n",
              "      border-radius: 50%;\n",
              "      cursor: pointer;\n",
              "      display: none;\n",
              "      fill: #1967D2;\n",
              "      height: 32px;\n",
              "      padding: 0 0 0 0;\n",
              "      width: 32px;\n",
              "    }\n",
              "\n",
              "    .colab-df-convert:hover {\n",
              "      background-color: #E2EBFA;\n",
              "      box-shadow: 0px 1px 2px rgba(60, 64, 67, 0.3), 0px 1px 3px 1px rgba(60, 64, 67, 0.15);\n",
              "      fill: #174EA6;\n",
              "    }\n",
              "\n",
              "    .colab-df-buttons div {\n",
              "      margin-bottom: 4px;\n",
              "    }\n",
              "\n",
              "    [theme=dark] .colab-df-convert {\n",
              "      background-color: #3B4455;\n",
              "      fill: #D2E3FC;\n",
              "    }\n",
              "\n",
              "    [theme=dark] .colab-df-convert:hover {\n",
              "      background-color: #434B5C;\n",
              "      box-shadow: 0px 1px 3px 1px rgba(0, 0, 0, 0.15);\n",
              "      filter: drop-shadow(0px 1px 2px rgba(0, 0, 0, 0.3));\n",
              "      fill: #FFFFFF;\n",
              "    }\n",
              "  </style>\n",
              "\n",
              "    <script>\n",
              "      const buttonEl =\n",
              "        document.querySelector('#df-05dcec5f-0c67-446b-ae67-adccf87aff58 button.colab-df-convert');\n",
              "      buttonEl.style.display =\n",
              "        google.colab.kernel.accessAllowed ? 'block' : 'none';\n",
              "\n",
              "      async function convertToInteractive(key) {\n",
              "        const element = document.querySelector('#df-05dcec5f-0c67-446b-ae67-adccf87aff58');\n",
              "        const dataTable =\n",
              "          await google.colab.kernel.invokeFunction('convertToInteractive',\n",
              "                                                    [key], {});\n",
              "        if (!dataTable) return;\n",
              "\n",
              "        const docLinkHtml = 'Like what you see? Visit the ' +\n",
              "          '<a target=\"_blank\" href=https://colab.research.google.com/notebooks/data_table.ipynb>data table notebook</a>'\n",
              "          + ' to learn more about interactive tables.';\n",
              "        element.innerHTML = '';\n",
              "        dataTable['output_type'] = 'display_data';\n",
              "        await google.colab.output.renderOutput(dataTable, element);\n",
              "        const docLink = document.createElement('div');\n",
              "        docLink.innerHTML = docLinkHtml;\n",
              "        element.appendChild(docLink);\n",
              "      }\n",
              "    </script>\n",
              "  </div>\n",
              "\n",
              "\n",
              "<div id=\"df-e7987b99-7f68-445b-9d77-bb88b866acea\">\n",
              "  <button class=\"colab-df-quickchart\" onclick=\"quickchart('df-e7987b99-7f68-445b-9d77-bb88b866acea')\"\n",
              "            title=\"Suggest charts\"\n",
              "            style=\"display:none;\">\n",
              "\n",
              "<svg xmlns=\"http://www.w3.org/2000/svg\" height=\"24px\"viewBox=\"0 0 24 24\"\n",
              "     width=\"24px\">\n",
              "    <g>\n",
              "        <path d=\"M19 3H5c-1.1 0-2 .9-2 2v14c0 1.1.9 2 2 2h14c1.1 0 2-.9 2-2V5c0-1.1-.9-2-2-2zM9 17H7v-7h2v7zm4 0h-2V7h2v10zm4 0h-2v-4h2v4z\"/>\n",
              "    </g>\n",
              "</svg>\n",
              "  </button>\n",
              "\n",
              "<style>\n",
              "  .colab-df-quickchart {\n",
              "      --bg-color: #E8F0FE;\n",
              "      --fill-color: #1967D2;\n",
              "      --hover-bg-color: #E2EBFA;\n",
              "      --hover-fill-color: #174EA6;\n",
              "      --disabled-fill-color: #AAA;\n",
              "      --disabled-bg-color: #DDD;\n",
              "  }\n",
              "\n",
              "  [theme=dark] .colab-df-quickchart {\n",
              "      --bg-color: #3B4455;\n",
              "      --fill-color: #D2E3FC;\n",
              "      --hover-bg-color: #434B5C;\n",
              "      --hover-fill-color: #FFFFFF;\n",
              "      --disabled-bg-color: #3B4455;\n",
              "      --disabled-fill-color: #666;\n",
              "  }\n",
              "\n",
              "  .colab-df-quickchart {\n",
              "    background-color: var(--bg-color);\n",
              "    border: none;\n",
              "    border-radius: 50%;\n",
              "    cursor: pointer;\n",
              "    display: none;\n",
              "    fill: var(--fill-color);\n",
              "    height: 32px;\n",
              "    padding: 0;\n",
              "    width: 32px;\n",
              "  }\n",
              "\n",
              "  .colab-df-quickchart:hover {\n",
              "    background-color: var(--hover-bg-color);\n",
              "    box-shadow: 0 1px 2px rgba(60, 64, 67, 0.3), 0 1px 3px 1px rgba(60, 64, 67, 0.15);\n",
              "    fill: var(--button-hover-fill-color);\n",
              "  }\n",
              "\n",
              "  .colab-df-quickchart-complete:disabled,\n",
              "  .colab-df-quickchart-complete:disabled:hover {\n",
              "    background-color: var(--disabled-bg-color);\n",
              "    fill: var(--disabled-fill-color);\n",
              "    box-shadow: none;\n",
              "  }\n",
              "\n",
              "  .colab-df-spinner {\n",
              "    border: 2px solid var(--fill-color);\n",
              "    border-color: transparent;\n",
              "    border-bottom-color: var(--fill-color);\n",
              "    animation:\n",
              "      spin 1s steps(1) infinite;\n",
              "  }\n",
              "\n",
              "  @keyframes spin {\n",
              "    0% {\n",
              "      border-color: transparent;\n",
              "      border-bottom-color: var(--fill-color);\n",
              "      border-left-color: var(--fill-color);\n",
              "    }\n",
              "    20% {\n",
              "      border-color: transparent;\n",
              "      border-left-color: var(--fill-color);\n",
              "      border-top-color: var(--fill-color);\n",
              "    }\n",
              "    30% {\n",
              "      border-color: transparent;\n",
              "      border-left-color: var(--fill-color);\n",
              "      border-top-color: var(--fill-color);\n",
              "      border-right-color: var(--fill-color);\n",
              "    }\n",
              "    40% {\n",
              "      border-color: transparent;\n",
              "      border-right-color: var(--fill-color);\n",
              "      border-top-color: var(--fill-color);\n",
              "    }\n",
              "    60% {\n",
              "      border-color: transparent;\n",
              "      border-right-color: var(--fill-color);\n",
              "    }\n",
              "    80% {\n",
              "      border-color: transparent;\n",
              "      border-right-color: var(--fill-color);\n",
              "      border-bottom-color: var(--fill-color);\n",
              "    }\n",
              "    90% {\n",
              "      border-color: transparent;\n",
              "      border-bottom-color: var(--fill-color);\n",
              "    }\n",
              "  }\n",
              "</style>\n",
              "\n",
              "  <script>\n",
              "    async function quickchart(key) {\n",
              "      const quickchartButtonEl =\n",
              "        document.querySelector('#' + key + ' button');\n",
              "      quickchartButtonEl.disabled = true;  // To prevent multiple clicks.\n",
              "      quickchartButtonEl.classList.add('colab-df-spinner');\n",
              "      try {\n",
              "        const charts = await google.colab.kernel.invokeFunction(\n",
              "            'suggestCharts', [key], {});\n",
              "      } catch (error) {\n",
              "        console.error('Error during call to suggestCharts:', error);\n",
              "      }\n",
              "      quickchartButtonEl.classList.remove('colab-df-spinner');\n",
              "      quickchartButtonEl.classList.add('colab-df-quickchart-complete');\n",
              "    }\n",
              "    (() => {\n",
              "      let quickchartButtonEl =\n",
              "        document.querySelector('#df-e7987b99-7f68-445b-9d77-bb88b866acea button');\n",
              "      quickchartButtonEl.style.display =\n",
              "        google.colab.kernel.accessAllowed ? 'block' : 'none';\n",
              "    })();\n",
              "  </script>\n",
              "</div>\n",
              "\n",
              "  <div id=\"id_9aeedc75-b8f7-41f3-ab08-e6f491da872c\">\n",
              "    <style>\n",
              "      .colab-df-generate {\n",
              "        background-color: #E8F0FE;\n",
              "        border: none;\n",
              "        border-radius: 50%;\n",
              "        cursor: pointer;\n",
              "        display: none;\n",
              "        fill: #1967D2;\n",
              "        height: 32px;\n",
              "        padding: 0 0 0 0;\n",
              "        width: 32px;\n",
              "      }\n",
              "\n",
              "      .colab-df-generate:hover {\n",
              "        background-color: #E2EBFA;\n",
              "        box-shadow: 0px 1px 2px rgba(60, 64, 67, 0.3), 0px 1px 3px 1px rgba(60, 64, 67, 0.15);\n",
              "        fill: #174EA6;\n",
              "      }\n",
              "\n",
              "      [theme=dark] .colab-df-generate {\n",
              "        background-color: #3B4455;\n",
              "        fill: #D2E3FC;\n",
              "      }\n",
              "\n",
              "      [theme=dark] .colab-df-generate:hover {\n",
              "        background-color: #434B5C;\n",
              "        box-shadow: 0px 1px 3px 1px rgba(0, 0, 0, 0.15);\n",
              "        filter: drop-shadow(0px 1px 2px rgba(0, 0, 0, 0.3));\n",
              "        fill: #FFFFFF;\n",
              "      }\n",
              "    </style>\n",
              "    <button class=\"colab-df-generate\" onclick=\"generateWithVariable('df')\"\n",
              "            title=\"Generate code using this dataframe.\"\n",
              "            style=\"display:none;\">\n",
              "\n",
              "  <svg xmlns=\"http://www.w3.org/2000/svg\" height=\"24px\"viewBox=\"0 0 24 24\"\n",
              "       width=\"24px\">\n",
              "    <path d=\"M7,19H8.4L18.45,9,17,7.55,7,17.6ZM5,21V16.75L18.45,3.32a2,2,0,0,1,2.83,0l1.4,1.43a1.91,1.91,0,0,1,.58,1.4,1.91,1.91,0,0,1-.58,1.4L9.25,21ZM18.45,9,17,7.55Zm-12,3A5.31,5.31,0,0,0,4.9,8.1,5.31,5.31,0,0,0,1,6.5,5.31,5.31,0,0,0,4.9,4.9,5.31,5.31,0,0,0,6.5,1,5.31,5.31,0,0,0,8.1,4.9,5.31,5.31,0,0,0,12,6.5,5.46,5.46,0,0,0,6.5,12Z\"/>\n",
              "  </svg>\n",
              "    </button>\n",
              "    <script>\n",
              "      (() => {\n",
              "      const buttonEl =\n",
              "        document.querySelector('#id_9aeedc75-b8f7-41f3-ab08-e6f491da872c button.colab-df-generate');\n",
              "      buttonEl.style.display =\n",
              "        google.colab.kernel.accessAllowed ? 'block' : 'none';\n",
              "\n",
              "      buttonEl.onclick = () => {\n",
              "        google.colab.notebook.generateWithVariable('df');\n",
              "      }\n",
              "      })();\n",
              "    </script>\n",
              "  </div>\n",
              "\n",
              "    </div>\n",
              "  </div>\n"
            ],
            "application/vnd.google.colaboratory.intrinsic+json": {
              "type": "dataframe",
              "variable_name": "df"
            }
          },
          "metadata": {},
          "execution_count": 71
        }
      ]
    },
    {
      "cell_type": "code",
      "source": [
        "y.value_counts()"
      ],
      "metadata": {
        "colab": {
          "base_uri": "https://localhost:8080/"
        },
        "outputId": "c3d808e0-893f-4f39-b8c9-22b8b4ea5cf9",
        "id": "nU0koDd1Tufs"
      },
      "execution_count": null,
      "outputs": [
        {
          "output_type": "execute_result",
          "data": {
            "text/plain": [
              "Target\n",
              "2    35\n",
              "3    35\n",
              "4    22\n",
              "5     8\n",
              "1     4\n",
              "Name: count, dtype: int64"
            ]
          },
          "metadata": {},
          "execution_count": 72
        }
      ]
    },
    {
      "cell_type": "code",
      "source": [
        "random_state = 13\n",
        "from imblearn.over_sampling import SMOTE\n",
        "oversample = SMOTE(random_state=random_state, k_neighbors=3)\n",
        "X, y = oversample.fit_resample(X, y)"
      ],
      "metadata": {
        "id": "MNsZhRFzTufs"
      },
      "execution_count": null,
      "outputs": []
    },
    {
      "cell_type": "code",
      "source": [
        "y.value_counts()"
      ],
      "metadata": {
        "colab": {
          "base_uri": "https://localhost:8080/"
        },
        "outputId": "97e9b917-d8db-47aa-9b7c-a21fa2e9e6cc",
        "id": "NWsRUfQJTufs"
      },
      "execution_count": null,
      "outputs": [
        {
          "output_type": "execute_result",
          "data": {
            "text/plain": [
              "Target\n",
              "2    35\n",
              "3    35\n",
              "5    35\n",
              "1    35\n",
              "4    35\n",
              "Name: count, dtype: int64"
            ]
          },
          "metadata": {},
          "execution_count": 74
        }
      ]
    },
    {
      "cell_type": "code",
      "source": [
        "# prompt: convert X and y into tensors\n",
        "\n",
        "Xs = torch.tensor(X.values).float()\n",
        "ys = torch.tensor(y.values).long()\n"
      ],
      "metadata": {
        "id": "C5oG0i9xTuft"
      },
      "execution_count": null,
      "outputs": []
    },
    {
      "cell_type": "code",
      "source": [
        "## only use this if you want to treat it as a regression problem.\n",
        "ys = ys.float()"
      ],
      "metadata": {
        "id": "Bw9t9I-4Tuft"
      },
      "execution_count": null,
      "outputs": []
    },
    {
      "cell_type": "markdown",
      "source": [
        "##Classification, CIFAR-10\n",
        "\n"
      ],
      "metadata": {
        "id": "Dk-QmZsZYYBS"
      }
    },
    {
      "cell_type": "markdown",
      "source": [
        "NOTE:: Tried using the CIFAR-10. Too big to run."
      ],
      "metadata": {
        "id": "3hlhvTLGIoVb"
      }
    },
    {
      "cell_type": "markdown",
      "source": [
        "###Prep data and conv extractor"
      ],
      "metadata": {
        "id": "WYNusXh2LpN1"
      }
    },
    {
      "cell_type": "markdown",
      "source": [
        "Description of this data set can be found on https://www.cs.toronto.edu/~kriz/cifar.html\n",
        "\n",
        "According to this page:\n",
        "\n",
        "\"Baseline results\n",
        "\n",
        "You can find some baseline replicable results on this dataset on the project page for cuda-convnet. These results were obtained with a convolutional neural network. Briefly, they are 18% test error without data augmentation and 11% with. Additionally, Jasper Snoek has a new paper in which he used Bayesian hyperparameter optimization to find nice settings of the weight decay and other hyperparameters, which allowed him to obtain a test error rate of 15% (without data augmentation) using the architecture of the net that got 18%.\""
      ],
      "metadata": {
        "id": "mQokwlyrZHZE"
      }
    },
    {
      "cell_type": "markdown",
      "source": [
        "Code in this section is based on https://colab.research.google.com/drive/1js_1rFZist_-rfNwmVZbXj0m7hKyX7xn#scrollTo=IR1Do_wt14ZE\n",
        "\n",
        "https://pytorch.org/tutorials/beginner/blitz/cifar10_tutorial.html\n",
        "\n",
        "it is a pytorch tutorial named cifar10_tutorial.ipynb"
      ],
      "metadata": {
        "id": "moBnRJmYYj2d"
      }
    },
    {
      "cell_type": "code",
      "source": [
        "import torchvision\n",
        "import torchvision.transforms as transforms"
      ],
      "metadata": {
        "id": "uQoM3PJKYXqn"
      },
      "execution_count": null,
      "outputs": []
    },
    {
      "cell_type": "markdown",
      "metadata": {
        "id": "Zm9QR10214ZD"
      },
      "source": [
        "The output of torchvision datasets are PILImage images of range [0, 1].\n",
        "We transform them to Tensors of normalized range [-1, 1].\n",
        "\n"
      ]
    },
    {
      "cell_type": "code",
      "execution_count": null,
      "metadata": {
        "id": "IR1Do_wt14ZE"
      },
      "outputs": [],
      "source": [
        "transform = transforms.Compose(\n",
        "    [transforms.ToTensor(),\n",
        "     transforms.Normalize((0.5, 0.5, 0.5), (0.5, 0.5, 0.5))])\n",
        "\n",
        "trainset = torchvision.datasets.CIFAR10(root='./data', train=True,\n",
        "                                        download=True, transform=transform)\n",
        "trainloader = torch.utils.data.DataLoader(trainset, batch_size=4,\n",
        "                                          shuffle=True, num_workers=2)\n",
        "\n",
        "testset = torchvision.datasets.CIFAR10(root='./data', train=False,\n",
        "                                       download=True, transform=transform)\n",
        "testloader = torch.utils.data.DataLoader(testset, batch_size=4,\n",
        "                                         shuffle=False, num_workers=2)\n",
        "\n",
        "classes = ('plane', 'car', 'bird', 'cat',\n",
        "           'deer', 'dog', 'frog', 'horse', 'ship', 'truck')"
      ]
    },
    {
      "cell_type": "code",
      "source": [
        "# prompt: get trainset into Xs and ys as tensors\n",
        "\n",
        "X_train, y_train = [], []\n",
        "for x, y in trainloader:\n",
        "  X_train.append(x)\n",
        "  y_train.append(y)\n",
        "X_train = torch.cat(X_train, dim=0)\n",
        "y_train = torch.cat(y_train, dim=0)\n",
        "\n",
        "X_test, y_test = [], []\n",
        "for x, y in testloader:\n",
        "  X_test.append(x)\n",
        "  y_test.append(y)\n",
        "X_test = torch.cat(X_test, dim=0)\n",
        "y_test = torch.cat(y_test, dim=0)"
      ],
      "metadata": {
        "id": "PUa_UYLuY6Dn"
      },
      "execution_count": null,
      "outputs": []
    },
    {
      "cell_type": "code",
      "source": [
        "X_train.shape"
      ],
      "metadata": {
        "id": "SVy94FiFLwYl"
      },
      "execution_count": null,
      "outputs": []
    },
    {
      "cell_type": "code",
      "source": [
        "y_train.shape"
      ],
      "metadata": {
        "id": "ESJRsxiKMdcy"
      },
      "execution_count": null,
      "outputs": []
    },
    {
      "cell_type": "code",
      "source": [
        "X_test.shape"
      ],
      "metadata": {
        "id": "XLPOsa8nMeqP"
      },
      "execution_count": null,
      "outputs": []
    },
    {
      "cell_type": "markdown",
      "metadata": {
        "id": "ZQb0q_6l14ZE"
      },
      "source": [
        "Let us show some of the training images, for fun.\n",
        "\n"
      ]
    },
    {
      "cell_type": "code",
      "execution_count": null,
      "metadata": {
        "id": "GTAbYR-b14ZE"
      },
      "outputs": [],
      "source": [
        "import matplotlib.pyplot as plt\n",
        "import numpy as np\n",
        "\n",
        "# functions to show an image\n",
        "\n",
        "\n",
        "def imshow(img):\n",
        "    img = img / 2 + 0.5     # unnormalize\n",
        "    npimg = img.numpy()\n",
        "    plt.imshow(np.transpose(npimg, (1, 2, 0)))\n",
        "\n",
        "\n",
        "# get some random training images\n",
        "dataiter = iter(trainloader)\n",
        "images, labels = next(dataiter)\n",
        "\n",
        "# show images\n",
        "imshow(torchvision.utils.make_grid(images))\n",
        "# print labels\n",
        "print(' '.join('%5s' % classes[labels[j]] for j in range(4)))"
      ]
    },
    {
      "cell_type": "code",
      "source": [
        "class Conv_cifar10(nn.Module):\n",
        "    def __init__(self):\n",
        "        super(Conv_cifar10, self).__init__()\n",
        "        self.conv1 = nn.Conv2d(3, 6, 5)\n",
        "        self.pool = nn.MaxPool2d(2, 2)\n",
        "        self.conv2 = nn.Conv2d(6, 16, 5)\n",
        "        #QUESTION:: should we have fc layers here?\n",
        "        self.fc1 = nn.Linear(16 * 5 * 5, 120)\n",
        "        self.fc2 = nn.Linear(120, 84)\n",
        "\n",
        "    def forward(self, x):\n",
        "        x = self.pool(F.relu(self.conv1(x)))\n",
        "        x = self.pool(F.relu(self.conv2(x)))\n",
        "        x = x.view(-1, 16 * 5 * 5)\n",
        "        x = F.relu(self.fc1(x))\n",
        "        x = F.relu(self.fc2(x))\n",
        "        return x\n"
      ],
      "metadata": {
        "id": "XmbIGlo4bTNk"
      },
      "execution_count": null,
      "outputs": []
    },
    {
      "cell_type": "code",
      "source": [
        "def eval_cifar10(model):\n",
        "  correct = 0\n",
        "  total = 0\n",
        "  with torch.no_grad():\n",
        "      for data in testloader:\n",
        "          images, labels = data\n",
        "          outputs = model(images)\n",
        "          _, predicted = torch.max(outputs.data, 1)\n",
        "          total += labels.size(0)\n",
        "          correct += (predicted == labels).sum().item()\n",
        "  return correct, total"
      ],
      "metadata": {
        "id": "9QNRTwySd1br"
      },
      "execution_count": null,
      "outputs": []
    },
    {
      "cell_type": "markdown",
      "source": [
        "###ConvNN baseline"
      ],
      "metadata": {
        "id": "8bCQcmRq4_r6"
      }
    },
    {
      "cell_type": "markdown",
      "metadata": {
        "id": "3giYTxdX14ZE"
      },
      "source": [
        "2. Define a Convolution Neural Network\n",
        "^^^^^^^^^^^^^^^^^^^^^^^^^^^^^^^^^^^^^^\n",
        "Copy the neural network from the Neural Networks section before and modify it to\n",
        "take 3-channel images (instead of 1-channel images as it was defined).\n",
        "\n"
      ]
    },
    {
      "cell_type": "code",
      "execution_count": null,
      "metadata": {
        "id": "s-EaNXuy14ZF"
      },
      "outputs": [],
      "source": [
        "import torch.nn as nn\n",
        "import torch.nn.functional as F\n",
        "\n",
        "\n",
        "class Net(nn.Module):\n",
        "    def __init__(self):\n",
        "        super(Net, self).__init__()\n",
        "        self.conv1 = nn.Conv2d(3, 6, 5)\n",
        "        self.pool = nn.MaxPool2d(2, 2)\n",
        "        self.conv2 = nn.Conv2d(6, 16, 5)\n",
        "        self.fc1 = nn.Linear(16 * 5 * 5, 120)\n",
        "        self.fc2 = nn.Linear(120, 84)\n",
        "        self.fc3 = nn.Linear(84, 10)\n",
        "\n",
        "    def forward(self, x):\n",
        "        x = self.pool(F.relu(self.conv1(x)))\n",
        "        x = self.pool(F.relu(self.conv2(x)))\n",
        "        x = x.view(-1, 16 * 5 * 5)\n",
        "        x = F.relu(self.fc1(x))\n",
        "        x = F.relu(self.fc2(x))\n",
        "        x = self.fc3(x)\n",
        "        return x\n",
        "\n",
        "\n",
        "net = Net()"
      ]
    },
    {
      "cell_type": "markdown",
      "metadata": {
        "id": "Tx0hm3BU14ZF"
      },
      "source": [
        "3. Define a Loss function and optimizer\n",
        "^^^^^^^^^^^^^^^^^^^^^^^^^^^^^^^^^^^^^^^\n",
        "Let's use a Classification Cross-Entropy loss and SGD with momentum.\n",
        "\n"
      ]
    },
    {
      "cell_type": "code",
      "execution_count": null,
      "metadata": {
        "id": "5Nde2FNH14ZF"
      },
      "outputs": [],
      "source": [
        "\n",
        "criterion = nn.CrossEntropyLoss()\n",
        "optimizer = optim.SGD(net.parameters(), lr=0.001, momentum=0.9)"
      ]
    },
    {
      "cell_type": "markdown",
      "metadata": {
        "id": "lmOAkyw-14ZG"
      },
      "source": [
        "4. Train the network\n",
        "^^^^^^^^^^^^^^^^^^^^\n",
        "\n",
        "This is when things start to get interesting.\n",
        "We simply have to loop over our data iterator, and feed the inputs to the\n",
        "network and optimize.\n",
        "\n"
      ]
    },
    {
      "cell_type": "code",
      "execution_count": null,
      "metadata": {
        "id": "BenR4VWn14ZG"
      },
      "outputs": [],
      "source": [
        "best_accuracy = 0  # best test accuracy\n",
        "patience_counter = 0\n",
        "for epoch in range(1000):  # loop over the dataset multiple times\n",
        "\n",
        "    running_loss = 0.0\n",
        "    for i, data in enumerate(trainloader, 0):\n",
        "        # get the inputs\n",
        "        inputs, labels = data\n",
        "\n",
        "        # zero the parameter gradients\n",
        "        optimizer.zero_grad()\n",
        "\n",
        "        # forward + backward + optimize\n",
        "        outputs = net(inputs)\n",
        "        loss = criterion(outputs, labels)\n",
        "        loss.backward()\n",
        "        optimizer.step()\n",
        "\n",
        "        # print statistics\n",
        "        running_loss += loss.item()\n",
        "        if i % 2000 == 1999:    # print every 2000 mini-batches\n",
        "            print('[%d, %5d] loss: %.3f' %\n",
        "                  (epoch + 1, i + 1, running_loss / 2000))\n",
        "            running_loss = 0.0\n",
        "    # evaluate on test set\n",
        "    correct, total = eval_cifar10(net)\n",
        "    best_accuracy = max(best_accuracy, correct / total)\n",
        "    if best_accuracy == correct / total:\n",
        "        patience_counter = 0\n",
        "    else:\n",
        "        patience_counter += 1\n",
        "    if patience_counter > 40:\n",
        "        break\n",
        "\n",
        "print('Finished Training')"
      ]
    },
    {
      "cell_type": "markdown",
      "metadata": {
        "id": "hpNNk4U814ZG"
      },
      "source": [
        "5. Test the network on the test data\n",
        "^^^^^^^^^^^^^^^^^^^^^^^^^^^^^^^^^^^^\n",
        "\n",
        "We have trained the network for 2 passes over the training dataset.\n",
        "But we need to check if the network has learnt anything at all.\n",
        "\n",
        "We will check this by predicting the class label that the neural network\n",
        "outputs, and checking it against the ground-truth. If the prediction is\n",
        "correct, we add the sample to the list of correct predictions.\n",
        "\n",
        "Okay, first step. Let us display an image from the test set to get familiar.\n",
        "\n"
      ]
    },
    {
      "cell_type": "code",
      "execution_count": null,
      "metadata": {
        "id": "BbG-_1fn14ZG"
      },
      "outputs": [],
      "source": [
        "dataiter = iter(testloader)\n",
        "images, labels = next(dataiter)\n",
        "\n",
        "# print images\n",
        "imshow(torchvision.utils.make_grid(images))\n",
        "print('GroundTruth: ', ' '.join('%5s' % classes[labels[j]] for j in range(4)))"
      ]
    },
    {
      "cell_type": "markdown",
      "metadata": {
        "id": "IRLQb7dw14ZG"
      },
      "source": [
        "Okay, now let us see what the neural network thinks these examples above are:\n",
        "\n"
      ]
    },
    {
      "cell_type": "code",
      "execution_count": null,
      "metadata": {
        "id": "E7BwKQcX14ZG"
      },
      "outputs": [],
      "source": [
        "outputs = net(images)"
      ]
    },
    {
      "cell_type": "markdown",
      "metadata": {
        "id": "ioYdIzMf14ZG"
      },
      "source": [
        "The outputs are energies for the 10 classes.\n",
        "Higher the energy for a class, the more the network\n",
        "thinks that the image is of the particular class.\n",
        "So, let's get the index of the highest energy:\n",
        "\n"
      ]
    },
    {
      "cell_type": "code",
      "execution_count": null,
      "metadata": {
        "id": "FMhPxaaI14ZG"
      },
      "outputs": [],
      "source": [
        "_, predicted = torch.max(outputs, 1)\n",
        "\n",
        "print('Predicted: ', ' '.join('%5s' % classes[predicted[j]]\n",
        "                              for j in range(4)))"
      ]
    },
    {
      "cell_type": "markdown",
      "metadata": {
        "id": "6yRpa8Bj14ZH"
      },
      "source": [
        "The results seem pretty good.\n",
        "\n",
        "Let us look at how the network performs on the whole dataset.\n",
        "\n"
      ]
    },
    {
      "cell_type": "code",
      "execution_count": null,
      "metadata": {
        "id": "7V01f9Nq14ZH"
      },
      "outputs": [],
      "source": [
        "\n",
        "correct, total = eval_cifar10(net)\n",
        "print('Accuracy of the network on the 10000 test images: %d %%' % (\n",
        "    100 * correct / total))"
      ]
    },
    {
      "cell_type": "markdown",
      "metadata": {
        "id": "-CGILJan14ZH"
      },
      "source": [
        "That looks waaay better than chance, which is 10% accuracy (randomly picking\n",
        "a class out of 10 classes).\n",
        "Seems like the network learnt something.\n",
        "\n",
        "Hmmm, what are the classes that performed well, and the classes that did\n",
        "not perform well:\n",
        "\n"
      ]
    },
    {
      "cell_type": "code",
      "execution_count": null,
      "metadata": {
        "id": "M-KgaElM14ZH"
      },
      "outputs": [],
      "source": [
        "def eval_by_class(model_to_test):\n",
        "  class_correct = list(0. for i in range(10))\n",
        "  class_total = list(0. for i in range(10))\n",
        "  with torch.no_grad():\n",
        "      for data in testloader:\n",
        "          images, labels = data\n",
        "          outputs = model_to_test(images)\n",
        "          _, predicted = torch.max(outputs, 1)\n",
        "          c = (predicted == labels).squeeze()\n",
        "          for i in range(4):\n",
        "              label = labels[i]\n",
        "              class_correct[label] += c[i].item()\n",
        "              class_total[label] += 1\n",
        "  return class_correct, class_total\n",
        "\n",
        "class_correct, class_total = eval_by_class(net)\n",
        "\n",
        "for i in range(10):\n",
        "    print('Accuracy of %5s : %2d %%' % (\n",
        "        classes[i], 100 * class_correct[i] / class_total[i]))"
      ]
    },
    {
      "cell_type": "markdown",
      "metadata": {
        "id": "YIDEqsvbfUMf"
      },
      "source": [
        "##Classification, Fashion MNIST"
      ]
    },
    {
      "cell_type": "code",
      "execution_count": null,
      "metadata": {
        "id": "x2dEUwwWbL2M"
      },
      "outputs": [],
      "source": [
        "# prompt: load fashion mnist data set into Xs and ys\n",
        "from torchvision import datasets, transforms\n",
        "\n",
        "# Define transformations\n",
        "transform = transforms.Compose([transforms.ToTensor(), transforms.Normalize((0.5,), (0.5,))])\n",
        "\n",
        "# Load training set and test set\n",
        "trainset = datasets.FashionMNIST(root='./data', train=True, download=True, transform=transform)\n",
        "testset = datasets.FashionMNIST(root='./data', train=False, download=True, transform=transform)\n",
        "\n"
      ]
    },
    {
      "cell_type": "code",
      "execution_count": null,
      "metadata": {
        "id": "PW2UFYznfndb"
      },
      "outputs": [],
      "source": [
        "trainset[0][0]"
      ]
    },
    {
      "cell_type": "code",
      "execution_count": null,
      "metadata": {
        "id": "wnZSBxEWf_LH"
      },
      "outputs": [],
      "source": [
        "trainset[0][1]"
      ]
    },
    {
      "cell_type": "markdown",
      "metadata": {
        "id": "IJiR0Ti-v2gG"
      },
      "source": [
        "##Classification, data sets"
      ]
    },
    {
      "cell_type": "code",
      "execution_count": null,
      "metadata": {
        "id": "L8NANW0CwW5X"
      },
      "outputs": [],
      "source": [
        "from re import X\n",
        "from sklearn.datasets import load_iris\n",
        "from sklearn.datasets import load_digits\n",
        "from sklearn.datasets import load_wine\n",
        "from sklearn.datasets import load_breast_cancer\n",
        "from sklearn.datasets import fetch_olivetti_faces\n",
        "# sklearn.datasets.fetch_olivetti_faces\n",
        "from sklearn.preprocessing import MinMaxScaler\n",
        "from sklearn.preprocessing import StandardScaler\n",
        "\n",
        "\n",
        "\n",
        "\n",
        "iris = load_breast_cancer()\n",
        "Xs = iris['data']\n",
        "ys = iris['target']\n",
        "# names = iris['target_names']\n",
        "# feature_names = iris['feature_names']\n",
        "\n",
        "## fit Xs in a scaler transform, transform Xs into 0-1\n",
        "# scaler = MinMaxScaler()\n",
        "# Xs = scaler.fit_transform(Xs)\n",
        "if Xs.shape[1] == 64: #for breast cancer\n",
        "  scaler = MinMaxScaler()\n",
        "  Xs = scaler.fit_transform(Xs)\n",
        "\n",
        "Xs = torch.tensor(Xs, dtype=torch.float32)\n",
        "ys = torch.tensor(ys)"
      ]
    },
    {
      "cell_type": "code",
      "execution_count": null,
      "metadata": {
        "id": "4rLv9czNqfnU",
        "colab": {
          "base_uri": "https://localhost:8080/"
        },
        "outputId": "fcc46119-286d-425c-b1dc-7d433cf3900a"
      },
      "outputs": [
        {
          "output_type": "execute_result",
          "data": {
            "text/plain": [
              "torch.Size([569, 30])"
            ]
          },
          "metadata": {},
          "execution_count": 189
        }
      ],
      "source": [
        "Xs.shape"
      ]
    },
    {
      "cell_type": "code",
      "execution_count": null,
      "metadata": {
        "id": "ydE6eHnvb4Z6",
        "colab": {
          "base_uri": "https://localhost:8080/"
        },
        "outputId": "cac8072e-d270-4d94-abb7-0b94b54da1b6"
      },
      "outputs": [
        {
          "output_type": "execute_result",
          "data": {
            "text/plain": [
              "tensor([1.7990e+01, 1.0380e+01, 1.2280e+02, 1.0010e+03, 1.1840e-01, 2.7760e-01,\n",
              "        3.0010e-01, 1.4710e-01, 2.4190e-01, 7.8710e-02, 1.0950e+00, 9.0530e-01,\n",
              "        8.5890e+00, 1.5340e+02, 6.3990e-03, 4.9040e-02, 5.3730e-02, 1.5870e-02,\n",
              "        3.0030e-02, 6.1930e-03, 2.5380e+01, 1.7330e+01, 1.8460e+02, 2.0190e+03,\n",
              "        1.6220e-01, 6.6560e-01, 7.1190e-01, 2.6540e-01, 4.6010e-01, 1.1890e-01])"
            ]
          },
          "metadata": {},
          "execution_count": 190
        }
      ],
      "source": [
        "Xs[0]"
      ]
    },
    {
      "cell_type": "code",
      "execution_count": null,
      "metadata": {
        "id": "QUGLcsqvC-TP",
        "colab": {
          "base_uri": "https://localhost:8080/"
        },
        "outputId": "b8d2fd04-ca9f-4760-ff33-2ad6c35160a6"
      },
      "outputs": [
        {
          "output_type": "execute_result",
          "data": {
            "text/plain": [
              "torch.int64"
            ]
          },
          "metadata": {},
          "execution_count": 191
        }
      ],
      "source": [
        "ys[0].dtype"
      ]
    },
    {
      "cell_type": "markdown",
      "metadata": {
        "id": "3UFFbmbxFoYa"
      },
      "source": [
        "## Sanity check: A normal neural network classifier."
      ]
    },
    {
      "cell_type": "code",
      "execution_count": null,
      "metadata": {
        "id": "V0kqnMz5Ehs3"
      },
      "outputs": [],
      "source": [
        "# import torch\n",
        "# import torch.nn as nn\n",
        "# import torch.optim as optim\n",
        "# from sklearn.datasets import load_iris\n",
        "# from sklearn.model_selection import train_test_split\n",
        "# from sklearn.preprocessing import StandardScaler\n",
        "\n",
        "\n",
        "# # Split the data into training and testing sets\n",
        "# X_train, X_test, y_train, y_test = train_test_split(Xs, ys, test_size=0.1, random_state=42, stratify=ys)\n",
        "\n",
        "# # Standardize the data\n",
        "# scaler = StandardScaler()\n",
        "# X_train = scaler.fit_transform(X_train)\n",
        "# X_test = scaler.transform(X_test)\n",
        "\n",
        "# # Convert data to PyTorch tensors\n",
        "# X_train_tensor = torch.tensor(X_train, dtype=torch.float32)\n",
        "# y_train_tensor = torch.tensor(y_train, dtype=torch.long)\n",
        "# X_test_tensor = torch.tensor(X_test, dtype=torch.float32)\n",
        "# y_test_tensor = torch.tensor(y_test, dtype=torch.long)\n",
        "\n",
        "# # Define the neural network architecture for classification\n",
        "# class NeuralNet(nn.Module):\n",
        "#     def __init__(self, input_size, hidden_size, num_classes):\n",
        "#         super(NeuralNet, self).__init__()\n",
        "#         self.fc1 = nn.Linear(input_size, hidden_size)\n",
        "#         self.relu = nn.ReLU()\n",
        "#         self.fc2 = nn.Linear(hidden_size, num_classes)\n",
        "\n",
        "#     def forward(self, x):\n",
        "#         x = self.fc1(x)\n",
        "#         x = self.relu(x)\n",
        "#         x = self.fc2(x)\n",
        "#         return x\n",
        "\n",
        "# # Hyperparameters\n",
        "# input_size = X_train.shape[1]\n",
        "# hidden_size = 64\n",
        "# num_classes = torch.unique(ys).shape[0]\n",
        "# learning_rate = 0.001\n",
        "# batch_size = 16\n",
        "# epochs = 50\n",
        "\n",
        "# # Create DataLoader for training\n",
        "# train_dataset = torch.utils.data.TensorDataset(X_train_tensor, y_train_tensor)\n",
        "# train_loader = torch.utils.data.DataLoader(dataset=train_dataset, batch_size=batch_size, shuffle=True)\n",
        "\n",
        "# # Initialize the model, loss function, and optimizer\n",
        "# model = NeuralNet(input_size, hidden_size, num_classes)\n",
        "# criterion = nn.CrossEntropyLoss()\n",
        "# optimizer = optim.Adam(model.parameters(), lr=learning_rate)\n",
        "\n",
        "# # Training loop\n",
        "# for epoch in range(epochs):\n",
        "#     for i, (inputs, labels) in enumerate(train_loader):\n",
        "#         # Forward pass\n",
        "#         outputs = model(inputs)\n",
        "#         loss = criterion(outputs, labels)\n",
        "\n",
        "#         # Backward and optimize\n",
        "#         optimizer.zero_grad()\n",
        "#         loss.backward()\n",
        "#         optimizer.step()\n",
        "\n",
        "#         if (i + 1) % 5 == 0:\n",
        "#             print(f'Epoch [{epoch + 1}/{epochs}], Step [{i + 1}/{len(train_loader)}], Loss: {loss.item()}')\n",
        "\n",
        "# # Testing the model\n",
        "# model.eval()\n",
        "# with torch.no_grad():\n",
        "#     outputs = model(X_test_tensor)\n",
        "#     _, predicted = torch.max(outputs, 1)\n",
        "#     accuracy = torch.sum(predicted == y_test_tensor).item() / len(y_test_tensor)\n",
        "#     print(f'Accuracy on the test set: {accuracy * 100:.2f}%')\n"
      ]
    },
    {
      "cell_type": "code",
      "source": [
        "from sklearn.model_selection import train_test_split\n",
        "from sklearn.preprocessing import StandardScaler"
      ],
      "metadata": {
        "id": "pK6bzvrPNSt0"
      },
      "execution_count": null,
      "outputs": []
    },
    {
      "cell_type": "code",
      "source": [
        "# Split the data into training and testing sets\n",
        "X_train, X_test, y_train, y_test = train_test_split(Xs, ys, test_size=0.1, random_state=42, stratify=ys)\n",
        "\n",
        "# Standardize the data\n",
        "# scaler = StandardScaler()\n",
        "# X_train = scaler.fit_transform(X_train)\n",
        "# X_test = scaler.transform(X_test)\n",
        "\n",
        "# Convert data to PyTorch tensors\n",
        "X_train_tensor = X_train\n",
        "y_train_tensor = y_train\n",
        "X_test_tensor = X_test\n",
        "y_test_tensor = y_test\n",
        "\n",
        "# Define the neural network architecture for classification\n",
        "class NeuralNet(nn.Module):\n",
        "    def __init__(self, input_size, hidden_size, num_classes):\n",
        "        super(NeuralNet, self).__init__()\n",
        "        self.nn = nn.Sequential(\n",
        "            nn.Linear(input_size, hidden_size // 4),\n",
        "            nn.LeakyReLU(),\n",
        "            nn.Linear(hidden_size // 4, hidden_size // 2),\n",
        "            # nn.Dropout(0.5),\n",
        "            nn.LeakyReLU(),\n",
        "            nn.Linear(hidden_size // 2, hidden_size // 2),\n",
        "            # nn.Dropout(0.5),\n",
        "            nn.LeakyReLU(),\n",
        "            nn.Linear(hidden_size // 2, hidden_size),\n",
        "            nn.LeakyReLU(),\n",
        "            nn.Linear(hidden_size, hidden_size),\n",
        "            nn.LeakyReLU(),\n",
        "            nn.Linear(hidden_size, num_classes)\n",
        "            )\n",
        "        self.init_weights()\n",
        "\n",
        "    def init_weights(self):\n",
        "        for m in self.modules():\n",
        "            if isinstance(m, nn.Linear):\n",
        "                torch.nn.init.xavier_uniform_(m.weight)\n",
        "                if m.bias is not None:\n",
        "                    m.bias.data.fill_(0)\n",
        "\n",
        "    def forward(self, x):\n",
        "        return self.nn(x)\n",
        "\n",
        "# Hyperparameters\n",
        "input_size = X_train.shape[1]\n",
        "hidden_size = 1024\n",
        "num_classes = torch.unique(ys).shape[0]\n",
        "learning_rate = 1e-5\n",
        "batch_size = 16\n",
        "epochs = 2000\n",
        "\n",
        "# Create DataLoader for training\n",
        "train_dataset = torch.utils.data.TensorDataset(X_train_tensor, y_train_tensor)\n",
        "train_loader = torch.utils.data.DataLoader(dataset=train_dataset, batch_size=batch_size, shuffle=True)\n",
        "# Initialize the model, loss function, and optimizer\n",
        "model = NeuralNet(input_size, hidden_size, num_classes)\n",
        "criterion = nn.CrossEntropyLoss()\n",
        "optimizer = optim.Adam(model.parameters(), lr=learning_rate)\n",
        "\n",
        "# Training loop\n",
        "for epoch in range(epochs):\n",
        "    total_loss = 0.0\n",
        "    accuracy = 0.0\n",
        "    total_num = 0\n",
        "    model.train()\n",
        "    for i, (inputs, labels) in enumerate(train_loader):\n",
        "        batch_size = len(labels)\n",
        "        total_num += batch_size\n",
        "        # Forward pass\n",
        "        optimizer.zero_grad()\n",
        "        outputs = model(inputs)\n",
        "        loss = criterion(outputs, labels)\n",
        "\n",
        "        # Backward and optimize\n",
        "        _, predicted = torch.max(outputs, 1)\n",
        "        accuracy += torch.sum(predicted == labels).item()\n",
        "\n",
        "        loss.backward()\n",
        "        optimizer.step()\n",
        "\n",
        "        total_loss += loss.item()\n",
        "\n",
        "        # if (i + 1) % 5 == 0\n",
        "    if epoch == 0 or (epoch + 1) % 100 == 0:\n",
        "        print(f\"Epoch: {epoch + 1}, Loss: {total_loss/(i+1):.2f} Acc: {accuracy/total_num :.2f}\")\n",
        "    # Testing the model\n",
        "    model.eval()\n",
        "    with torch.no_grad():\n",
        "        outputs = model(X_test_tensor)\n",
        "        _, predicted = torch.max(outputs, 1)\n",
        "        accuracy = torch.sum(predicted == y_test_tensor).item() / len(y_test_tensor)\n",
        "        print(f'Accuracy on the test set: {accuracy * 100:.2f}%')"
      ],
      "metadata": {
        "id": "-Anm2zhINjLx",
        "colab": {
          "base_uri": "https://localhost:8080/"
        },
        "outputId": "ef536f0e-44dc-4a18-dd19-ac4474f0bbde"
      },
      "execution_count": null,
      "outputs": [
        {
          "output_type": "stream",
          "name": "stdout",
          "text": [
            "Epoch: 1, Loss: 1.10 Acc: 0.31\n",
            "Accuracy on the test set: 33.33%\n",
            "Accuracy on the test set: 33.33%\n",
            "Accuracy on the test set: 41.67%\n",
            "Accuracy on the test set: 41.67%\n",
            "Accuracy on the test set: 33.33%\n",
            "Accuracy on the test set: 33.33%\n",
            "Accuracy on the test set: 41.67%\n",
            "Accuracy on the test set: 41.67%\n",
            "Accuracy on the test set: 41.67%\n",
            "Accuracy on the test set: 41.67%\n",
            "Accuracy on the test set: 33.33%\n",
            "Accuracy on the test set: 41.67%\n",
            "Accuracy on the test set: 41.67%\n",
            "Accuracy on the test set: 41.67%\n",
            "Accuracy on the test set: 41.67%\n",
            "Accuracy on the test set: 41.67%\n",
            "Accuracy on the test set: 41.67%\n",
            "Accuracy on the test set: 33.33%\n",
            "Accuracy on the test set: 33.33%\n",
            "Accuracy on the test set: 33.33%\n",
            "Accuracy on the test set: 33.33%\n",
            "Accuracy on the test set: 33.33%\n",
            "Accuracy on the test set: 33.33%\n",
            "Accuracy on the test set: 33.33%\n",
            "Accuracy on the test set: 33.33%\n",
            "Accuracy on the test set: 33.33%\n",
            "Accuracy on the test set: 33.33%\n",
            "Accuracy on the test set: 33.33%\n",
            "Accuracy on the test set: 33.33%\n",
            "Accuracy on the test set: 33.33%\n",
            "Accuracy on the test set: 33.33%\n",
            "Accuracy on the test set: 33.33%\n",
            "Accuracy on the test set: 33.33%\n",
            "Accuracy on the test set: 33.33%\n",
            "Accuracy on the test set: 33.33%\n",
            "Accuracy on the test set: 33.33%\n",
            "Accuracy on the test set: 41.67%\n",
            "Accuracy on the test set: 41.67%\n",
            "Accuracy on the test set: 41.67%\n",
            "Accuracy on the test set: 41.67%\n",
            "Accuracy on the test set: 41.67%\n",
            "Accuracy on the test set: 41.67%\n",
            "Accuracy on the test set: 41.67%\n",
            "Accuracy on the test set: 41.67%\n",
            "Accuracy on the test set: 41.67%\n",
            "Accuracy on the test set: 41.67%\n",
            "Accuracy on the test set: 41.67%\n",
            "Accuracy on the test set: 41.67%\n",
            "Accuracy on the test set: 41.67%\n",
            "Accuracy on the test set: 41.67%\n",
            "Accuracy on the test set: 41.67%\n",
            "Accuracy on the test set: 41.67%\n",
            "Accuracy on the test set: 41.67%\n",
            "Accuracy on the test set: 41.67%\n",
            "Accuracy on the test set: 41.67%\n",
            "Accuracy on the test set: 41.67%\n",
            "Accuracy on the test set: 41.67%\n",
            "Accuracy on the test set: 41.67%\n",
            "Accuracy on the test set: 41.67%\n",
            "Accuracy on the test set: 41.67%\n",
            "Accuracy on the test set: 41.67%\n",
            "Accuracy on the test set: 41.67%\n",
            "Accuracy on the test set: 41.67%\n",
            "Accuracy on the test set: 41.67%\n",
            "Accuracy on the test set: 41.67%\n",
            "Accuracy on the test set: 41.67%\n",
            "Accuracy on the test set: 41.67%\n",
            "Accuracy on the test set: 41.67%\n",
            "Accuracy on the test set: 41.67%\n",
            "Accuracy on the test set: 41.67%\n",
            "Accuracy on the test set: 41.67%\n",
            "Accuracy on the test set: 41.67%\n",
            "Accuracy on the test set: 33.33%\n",
            "Accuracy on the test set: 33.33%\n",
            "Accuracy on the test set: 41.67%\n",
            "Accuracy on the test set: 41.67%\n",
            "Accuracy on the test set: 33.33%\n",
            "Accuracy on the test set: 41.67%\n",
            "Accuracy on the test set: 41.67%\n",
            "Accuracy on the test set: 33.33%\n",
            "Accuracy on the test set: 33.33%\n",
            "Accuracy on the test set: 41.67%\n",
            "Accuracy on the test set: 41.67%\n",
            "Accuracy on the test set: 41.67%\n",
            "Accuracy on the test set: 41.67%\n",
            "Accuracy on the test set: 33.33%\n",
            "Accuracy on the test set: 41.67%\n",
            "Accuracy on the test set: 41.67%\n",
            "Accuracy on the test set: 41.67%\n",
            "Accuracy on the test set: 41.67%\n",
            "Accuracy on the test set: 41.67%\n",
            "Accuracy on the test set: 41.67%\n",
            "Accuracy on the test set: 33.33%\n",
            "Accuracy on the test set: 33.33%\n",
            "Accuracy on the test set: 33.33%\n",
            "Accuracy on the test set: 41.67%\n",
            "Accuracy on the test set: 33.33%\n",
            "Accuracy on the test set: 33.33%\n",
            "Accuracy on the test set: 33.33%\n",
            "Epoch: 100, Loss: 0.12 Acc: 1.00\n",
            "Accuracy on the test set: 41.67%\n",
            "Accuracy on the test set: 41.67%\n",
            "Accuracy on the test set: 33.33%\n",
            "Accuracy on the test set: 33.33%\n",
            "Accuracy on the test set: 33.33%\n",
            "Accuracy on the test set: 33.33%\n",
            "Accuracy on the test set: 33.33%\n",
            "Accuracy on the test set: 33.33%\n",
            "Accuracy on the test set: 33.33%\n",
            "Accuracy on the test set: 33.33%\n",
            "Accuracy on the test set: 25.00%\n",
            "Accuracy on the test set: 33.33%\n",
            "Accuracy on the test set: 33.33%\n",
            "Accuracy on the test set: 25.00%\n",
            "Accuracy on the test set: 25.00%\n",
            "Accuracy on the test set: 25.00%\n",
            "Accuracy on the test set: 33.33%\n",
            "Accuracy on the test set: 25.00%\n",
            "Accuracy on the test set: 25.00%\n",
            "Accuracy on the test set: 25.00%\n",
            "Accuracy on the test set: 25.00%\n",
            "Accuracy on the test set: 25.00%\n",
            "Accuracy on the test set: 25.00%\n",
            "Accuracy on the test set: 25.00%\n",
            "Accuracy on the test set: 25.00%\n",
            "Accuracy on the test set: 25.00%\n",
            "Accuracy on the test set: 25.00%\n",
            "Accuracy on the test set: 25.00%\n",
            "Accuracy on the test set: 25.00%\n",
            "Accuracy on the test set: 16.67%\n",
            "Accuracy on the test set: 16.67%\n",
            "Accuracy on the test set: 16.67%\n",
            "Accuracy on the test set: 25.00%\n",
            "Accuracy on the test set: 25.00%\n",
            "Accuracy on the test set: 25.00%\n",
            "Accuracy on the test set: 25.00%\n",
            "Accuracy on the test set: 25.00%\n",
            "Accuracy on the test set: 25.00%\n",
            "Accuracy on the test set: 25.00%\n",
            "Accuracy on the test set: 25.00%\n",
            "Accuracy on the test set: 25.00%\n",
            "Accuracy on the test set: 25.00%\n",
            "Accuracy on the test set: 25.00%\n",
            "Accuracy on the test set: 25.00%\n",
            "Accuracy on the test set: 25.00%\n",
            "Accuracy on the test set: 25.00%\n",
            "Accuracy on the test set: 25.00%\n",
            "Accuracy on the test set: 25.00%\n",
            "Accuracy on the test set: 25.00%\n",
            "Accuracy on the test set: 25.00%\n",
            "Accuracy on the test set: 25.00%\n",
            "Accuracy on the test set: 25.00%\n",
            "Accuracy on the test set: 25.00%\n",
            "Accuracy on the test set: 25.00%\n",
            "Accuracy on the test set: 25.00%\n",
            "Accuracy on the test set: 25.00%\n",
            "Accuracy on the test set: 25.00%\n",
            "Accuracy on the test set: 25.00%\n",
            "Accuracy on the test set: 25.00%\n",
            "Accuracy on the test set: 25.00%\n",
            "Accuracy on the test set: 25.00%\n",
            "Accuracy on the test set: 25.00%\n",
            "Accuracy on the test set: 25.00%\n",
            "Accuracy on the test set: 25.00%\n",
            "Accuracy on the test set: 25.00%\n",
            "Accuracy on the test set: 25.00%\n",
            "Accuracy on the test set: 25.00%\n",
            "Accuracy on the test set: 25.00%\n",
            "Accuracy on the test set: 25.00%\n",
            "Accuracy on the test set: 25.00%\n",
            "Accuracy on the test set: 25.00%\n",
            "Accuracy on the test set: 25.00%\n",
            "Accuracy on the test set: 25.00%\n",
            "Accuracy on the test set: 25.00%\n",
            "Accuracy on the test set: 25.00%\n",
            "Accuracy on the test set: 25.00%\n",
            "Accuracy on the test set: 25.00%\n",
            "Accuracy on the test set: 25.00%\n",
            "Accuracy on the test set: 25.00%\n",
            "Accuracy on the test set: 25.00%\n",
            "Accuracy on the test set: 25.00%\n",
            "Accuracy on the test set: 25.00%\n",
            "Accuracy on the test set: 25.00%\n",
            "Accuracy on the test set: 25.00%\n",
            "Accuracy on the test set: 25.00%\n",
            "Accuracy on the test set: 25.00%\n",
            "Accuracy on the test set: 25.00%\n",
            "Accuracy on the test set: 25.00%\n",
            "Accuracy on the test set: 25.00%\n",
            "Accuracy on the test set: 25.00%\n",
            "Accuracy on the test set: 25.00%\n",
            "Accuracy on the test set: 25.00%\n",
            "Accuracy on the test set: 25.00%\n",
            "Accuracy on the test set: 25.00%\n",
            "Accuracy on the test set: 25.00%\n",
            "Accuracy on the test set: 25.00%\n",
            "Accuracy on the test set: 25.00%\n",
            "Accuracy on the test set: 25.00%\n",
            "Accuracy on the test set: 25.00%\n",
            "Accuracy on the test set: 25.00%\n",
            "Epoch: 200, Loss: 0.01 Acc: 1.00\n",
            "Accuracy on the test set: 25.00%\n",
            "Accuracy on the test set: 25.00%\n",
            "Accuracy on the test set: 25.00%\n",
            "Accuracy on the test set: 25.00%\n",
            "Accuracy on the test set: 25.00%\n",
            "Accuracy on the test set: 25.00%\n",
            "Accuracy on the test set: 25.00%\n",
            "Accuracy on the test set: 25.00%\n",
            "Accuracy on the test set: 25.00%\n",
            "Accuracy on the test set: 25.00%\n",
            "Accuracy on the test set: 25.00%\n",
            "Accuracy on the test set: 25.00%\n",
            "Accuracy on the test set: 25.00%\n",
            "Accuracy on the test set: 25.00%\n",
            "Accuracy on the test set: 25.00%\n",
            "Accuracy on the test set: 25.00%\n",
            "Accuracy on the test set: 25.00%\n",
            "Accuracy on the test set: 25.00%\n",
            "Accuracy on the test set: 25.00%\n",
            "Accuracy on the test set: 25.00%\n",
            "Accuracy on the test set: 25.00%\n",
            "Accuracy on the test set: 25.00%\n",
            "Accuracy on the test set: 25.00%\n",
            "Accuracy on the test set: 25.00%\n",
            "Accuracy on the test set: 25.00%\n",
            "Accuracy on the test set: 25.00%\n",
            "Accuracy on the test set: 25.00%\n",
            "Accuracy on the test set: 25.00%\n",
            "Accuracy on the test set: 25.00%\n",
            "Accuracy on the test set: 25.00%\n",
            "Accuracy on the test set: 25.00%\n",
            "Accuracy on the test set: 25.00%\n",
            "Accuracy on the test set: 25.00%\n",
            "Accuracy on the test set: 25.00%\n",
            "Accuracy on the test set: 25.00%\n",
            "Accuracy on the test set: 25.00%\n",
            "Accuracy on the test set: 25.00%\n",
            "Accuracy on the test set: 25.00%\n",
            "Accuracy on the test set: 25.00%\n",
            "Accuracy on the test set: 25.00%\n",
            "Accuracy on the test set: 25.00%\n",
            "Accuracy on the test set: 25.00%\n",
            "Accuracy on the test set: 25.00%\n",
            "Accuracy on the test set: 25.00%\n",
            "Accuracy on the test set: 25.00%\n",
            "Accuracy on the test set: 25.00%\n",
            "Accuracy on the test set: 25.00%\n",
            "Accuracy on the test set: 25.00%\n",
            "Accuracy on the test set: 25.00%\n",
            "Accuracy on the test set: 25.00%\n",
            "Accuracy on the test set: 25.00%\n",
            "Accuracy on the test set: 25.00%\n",
            "Accuracy on the test set: 25.00%\n",
            "Accuracy on the test set: 25.00%\n",
            "Accuracy on the test set: 25.00%\n",
            "Accuracy on the test set: 25.00%\n",
            "Accuracy on the test set: 25.00%\n",
            "Accuracy on the test set: 25.00%\n",
            "Accuracy on the test set: 25.00%\n",
            "Accuracy on the test set: 25.00%\n",
            "Accuracy on the test set: 25.00%\n",
            "Accuracy on the test set: 25.00%\n",
            "Accuracy on the test set: 25.00%\n",
            "Accuracy on the test set: 25.00%\n",
            "Accuracy on the test set: 25.00%\n",
            "Accuracy on the test set: 25.00%\n",
            "Accuracy on the test set: 25.00%\n",
            "Accuracy on the test set: 25.00%\n",
            "Accuracy on the test set: 25.00%\n",
            "Accuracy on the test set: 25.00%\n",
            "Accuracy on the test set: 25.00%\n",
            "Accuracy on the test set: 25.00%\n",
            "Accuracy on the test set: 25.00%\n",
            "Accuracy on the test set: 25.00%\n",
            "Accuracy on the test set: 25.00%\n",
            "Accuracy on the test set: 25.00%\n",
            "Accuracy on the test set: 25.00%\n",
            "Accuracy on the test set: 25.00%\n",
            "Accuracy on the test set: 25.00%\n",
            "Accuracy on the test set: 25.00%\n",
            "Accuracy on the test set: 25.00%\n",
            "Accuracy on the test set: 25.00%\n",
            "Accuracy on the test set: 25.00%\n",
            "Accuracy on the test set: 25.00%\n",
            "Accuracy on the test set: 25.00%\n",
            "Accuracy on the test set: 25.00%\n",
            "Accuracy on the test set: 25.00%\n",
            "Accuracy on the test set: 25.00%\n",
            "Accuracy on the test set: 25.00%\n",
            "Accuracy on the test set: 25.00%\n",
            "Accuracy on the test set: 25.00%\n",
            "Accuracy on the test set: 25.00%\n",
            "Accuracy on the test set: 25.00%\n",
            "Accuracy on the test set: 25.00%\n",
            "Accuracy on the test set: 25.00%\n",
            "Accuracy on the test set: 25.00%\n",
            "Accuracy on the test set: 25.00%\n",
            "Accuracy on the test set: 25.00%\n",
            "Accuracy on the test set: 25.00%\n",
            "Accuracy on the test set: 25.00%\n",
            "Epoch: 300, Loss: 0.00 Acc: 1.00\n",
            "Accuracy on the test set: 25.00%\n",
            "Accuracy on the test set: 25.00%\n",
            "Accuracy on the test set: 25.00%\n",
            "Accuracy on the test set: 25.00%\n",
            "Accuracy on the test set: 25.00%\n",
            "Accuracy on the test set: 25.00%\n",
            "Accuracy on the test set: 25.00%\n",
            "Accuracy on the test set: 25.00%\n",
            "Accuracy on the test set: 25.00%\n",
            "Accuracy on the test set: 25.00%\n",
            "Accuracy on the test set: 25.00%\n",
            "Accuracy on the test set: 25.00%\n",
            "Accuracy on the test set: 25.00%\n",
            "Accuracy on the test set: 25.00%\n",
            "Accuracy on the test set: 25.00%\n",
            "Accuracy on the test set: 25.00%\n",
            "Accuracy on the test set: 25.00%\n",
            "Accuracy on the test set: 25.00%\n",
            "Accuracy on the test set: 25.00%\n",
            "Accuracy on the test set: 25.00%\n",
            "Accuracy on the test set: 25.00%\n",
            "Accuracy on the test set: 25.00%\n",
            "Accuracy on the test set: 25.00%\n",
            "Accuracy on the test set: 25.00%\n",
            "Accuracy on the test set: 25.00%\n",
            "Accuracy on the test set: 25.00%\n",
            "Accuracy on the test set: 25.00%\n",
            "Accuracy on the test set: 25.00%\n",
            "Accuracy on the test set: 25.00%\n",
            "Accuracy on the test set: 25.00%\n",
            "Accuracy on the test set: 25.00%\n",
            "Accuracy on the test set: 25.00%\n",
            "Accuracy on the test set: 25.00%\n",
            "Accuracy on the test set: 25.00%\n",
            "Accuracy on the test set: 25.00%\n",
            "Accuracy on the test set: 25.00%\n",
            "Accuracy on the test set: 25.00%\n",
            "Accuracy on the test set: 25.00%\n",
            "Accuracy on the test set: 25.00%\n",
            "Accuracy on the test set: 25.00%\n",
            "Accuracy on the test set: 25.00%\n",
            "Accuracy on the test set: 25.00%\n",
            "Accuracy on the test set: 25.00%\n",
            "Accuracy on the test set: 25.00%\n",
            "Accuracy on the test set: 25.00%\n",
            "Accuracy on the test set: 25.00%\n",
            "Accuracy on the test set: 25.00%\n",
            "Accuracy on the test set: 25.00%\n",
            "Accuracy on the test set: 25.00%\n",
            "Accuracy on the test set: 25.00%\n",
            "Accuracy on the test set: 25.00%\n",
            "Accuracy on the test set: 25.00%\n",
            "Accuracy on the test set: 25.00%\n",
            "Accuracy on the test set: 25.00%\n",
            "Accuracy on the test set: 25.00%\n",
            "Accuracy on the test set: 25.00%\n",
            "Accuracy on the test set: 25.00%\n",
            "Accuracy on the test set: 25.00%\n",
            "Accuracy on the test set: 25.00%\n",
            "Accuracy on the test set: 25.00%\n",
            "Accuracy on the test set: 25.00%\n",
            "Accuracy on the test set: 25.00%\n",
            "Accuracy on the test set: 25.00%\n",
            "Accuracy on the test set: 25.00%\n",
            "Accuracy on the test set: 25.00%\n",
            "Accuracy on the test set: 25.00%\n",
            "Accuracy on the test set: 25.00%\n",
            "Accuracy on the test set: 25.00%\n",
            "Accuracy on the test set: 25.00%\n",
            "Accuracy on the test set: 25.00%\n",
            "Accuracy on the test set: 25.00%\n",
            "Accuracy on the test set: 25.00%\n",
            "Accuracy on the test set: 25.00%\n",
            "Accuracy on the test set: 25.00%\n",
            "Accuracy on the test set: 25.00%\n",
            "Accuracy on the test set: 25.00%\n",
            "Accuracy on the test set: 25.00%\n",
            "Accuracy on the test set: 25.00%\n",
            "Accuracy on the test set: 25.00%\n",
            "Accuracy on the test set: 25.00%\n",
            "Accuracy on the test set: 25.00%\n",
            "Accuracy on the test set: 25.00%\n",
            "Accuracy on the test set: 25.00%\n",
            "Accuracy on the test set: 25.00%\n",
            "Accuracy on the test set: 25.00%\n",
            "Accuracy on the test set: 25.00%\n",
            "Accuracy on the test set: 25.00%\n",
            "Accuracy on the test set: 25.00%\n",
            "Accuracy on the test set: 25.00%\n",
            "Accuracy on the test set: 25.00%\n",
            "Accuracy on the test set: 25.00%\n",
            "Accuracy on the test set: 25.00%\n",
            "Accuracy on the test set: 25.00%\n",
            "Accuracy on the test set: 25.00%\n",
            "Accuracy on the test set: 25.00%\n",
            "Accuracy on the test set: 25.00%\n",
            "Accuracy on the test set: 25.00%\n",
            "Accuracy on the test set: 25.00%\n",
            "Accuracy on the test set: 25.00%\n",
            "Accuracy on the test set: 25.00%\n",
            "Epoch: 400, Loss: 0.00 Acc: 1.00\n",
            "Accuracy on the test set: 25.00%\n",
            "Accuracy on the test set: 25.00%\n",
            "Accuracy on the test set: 25.00%\n",
            "Accuracy on the test set: 25.00%\n",
            "Accuracy on the test set: 25.00%\n",
            "Accuracy on the test set: 25.00%\n",
            "Accuracy on the test set: 25.00%\n",
            "Accuracy on the test set: 25.00%\n",
            "Accuracy on the test set: 25.00%\n",
            "Accuracy on the test set: 25.00%\n",
            "Accuracy on the test set: 25.00%\n",
            "Accuracy on the test set: 25.00%\n",
            "Accuracy on the test set: 25.00%\n",
            "Accuracy on the test set: 25.00%\n",
            "Accuracy on the test set: 25.00%\n",
            "Accuracy on the test set: 25.00%\n",
            "Accuracy on the test set: 25.00%\n",
            "Accuracy on the test set: 25.00%\n",
            "Accuracy on the test set: 25.00%\n",
            "Accuracy on the test set: 25.00%\n",
            "Accuracy on the test set: 25.00%\n",
            "Accuracy on the test set: 25.00%\n",
            "Accuracy on the test set: 25.00%\n",
            "Accuracy on the test set: 25.00%\n",
            "Accuracy on the test set: 25.00%\n",
            "Accuracy on the test set: 25.00%\n",
            "Accuracy on the test set: 25.00%\n",
            "Accuracy on the test set: 25.00%\n",
            "Accuracy on the test set: 25.00%\n",
            "Accuracy on the test set: 25.00%\n",
            "Accuracy on the test set: 25.00%\n",
            "Accuracy on the test set: 25.00%\n",
            "Accuracy on the test set: 25.00%\n",
            "Accuracy on the test set: 25.00%\n",
            "Accuracy on the test set: 25.00%\n",
            "Accuracy on the test set: 25.00%\n",
            "Accuracy on the test set: 25.00%\n",
            "Accuracy on the test set: 25.00%\n",
            "Accuracy on the test set: 25.00%\n",
            "Accuracy on the test set: 25.00%\n",
            "Accuracy on the test set: 25.00%\n",
            "Accuracy on the test set: 25.00%\n",
            "Accuracy on the test set: 25.00%\n",
            "Accuracy on the test set: 25.00%\n",
            "Accuracy on the test set: 25.00%\n",
            "Accuracy on the test set: 25.00%\n",
            "Accuracy on the test set: 25.00%\n",
            "Accuracy on the test set: 25.00%\n",
            "Accuracy on the test set: 25.00%\n",
            "Accuracy on the test set: 25.00%\n",
            "Accuracy on the test set: 25.00%\n",
            "Accuracy on the test set: 25.00%\n",
            "Accuracy on the test set: 25.00%\n",
            "Accuracy on the test set: 25.00%\n",
            "Accuracy on the test set: 25.00%\n",
            "Accuracy on the test set: 25.00%\n",
            "Accuracy on the test set: 25.00%\n",
            "Accuracy on the test set: 25.00%\n",
            "Accuracy on the test set: 25.00%\n",
            "Accuracy on the test set: 25.00%\n",
            "Accuracy on the test set: 25.00%\n",
            "Accuracy on the test set: 25.00%\n",
            "Accuracy on the test set: 25.00%\n",
            "Accuracy on the test set: 25.00%\n",
            "Accuracy on the test set: 25.00%\n",
            "Accuracy on the test set: 25.00%\n",
            "Accuracy on the test set: 25.00%\n",
            "Accuracy on the test set: 25.00%\n",
            "Accuracy on the test set: 25.00%\n",
            "Accuracy on the test set: 25.00%\n",
            "Accuracy on the test set: 25.00%\n",
            "Accuracy on the test set: 25.00%\n",
            "Accuracy on the test set: 25.00%\n",
            "Accuracy on the test set: 25.00%\n",
            "Accuracy on the test set: 25.00%\n",
            "Accuracy on the test set: 25.00%\n",
            "Accuracy on the test set: 25.00%\n",
            "Accuracy on the test set: 25.00%\n",
            "Accuracy on the test set: 25.00%\n",
            "Accuracy on the test set: 25.00%\n",
            "Accuracy on the test set: 25.00%\n",
            "Accuracy on the test set: 25.00%\n",
            "Accuracy on the test set: 25.00%\n",
            "Accuracy on the test set: 25.00%\n",
            "Accuracy on the test set: 25.00%\n",
            "Accuracy on the test set: 25.00%\n",
            "Accuracy on the test set: 25.00%\n",
            "Accuracy on the test set: 25.00%\n",
            "Accuracy on the test set: 25.00%\n",
            "Accuracy on the test set: 25.00%\n",
            "Accuracy on the test set: 25.00%\n",
            "Accuracy on the test set: 25.00%\n",
            "Accuracy on the test set: 25.00%\n",
            "Accuracy on the test set: 25.00%\n",
            "Accuracy on the test set: 25.00%\n",
            "Accuracy on the test set: 25.00%\n",
            "Accuracy on the test set: 25.00%\n",
            "Accuracy on the test set: 25.00%\n",
            "Accuracy on the test set: 25.00%\n",
            "Accuracy on the test set: 25.00%\n",
            "Epoch: 500, Loss: 0.00 Acc: 1.00\n",
            "Accuracy on the test set: 25.00%\n",
            "Accuracy on the test set: 25.00%\n",
            "Accuracy on the test set: 25.00%\n",
            "Accuracy on the test set: 25.00%\n",
            "Accuracy on the test set: 25.00%\n",
            "Accuracy on the test set: 25.00%\n",
            "Accuracy on the test set: 25.00%\n",
            "Accuracy on the test set: 25.00%\n",
            "Accuracy on the test set: 25.00%\n",
            "Accuracy on the test set: 25.00%\n",
            "Accuracy on the test set: 25.00%\n",
            "Accuracy on the test set: 25.00%\n",
            "Accuracy on the test set: 25.00%\n",
            "Accuracy on the test set: 25.00%\n",
            "Accuracy on the test set: 25.00%\n",
            "Accuracy on the test set: 25.00%\n",
            "Accuracy on the test set: 25.00%\n",
            "Accuracy on the test set: 25.00%\n",
            "Accuracy on the test set: 25.00%\n",
            "Accuracy on the test set: 25.00%\n",
            "Accuracy on the test set: 25.00%\n",
            "Accuracy on the test set: 25.00%\n",
            "Accuracy on the test set: 25.00%\n",
            "Accuracy on the test set: 25.00%\n",
            "Accuracy on the test set: 25.00%\n",
            "Accuracy on the test set: 25.00%\n",
            "Accuracy on the test set: 25.00%\n",
            "Accuracy on the test set: 25.00%\n",
            "Accuracy on the test set: 25.00%\n",
            "Accuracy on the test set: 25.00%\n",
            "Accuracy on the test set: 25.00%\n",
            "Accuracy on the test set: 25.00%\n",
            "Accuracy on the test set: 25.00%\n",
            "Accuracy on the test set: 25.00%\n",
            "Accuracy on the test set: 25.00%\n",
            "Accuracy on the test set: 25.00%\n",
            "Accuracy on the test set: 25.00%\n",
            "Accuracy on the test set: 25.00%\n",
            "Accuracy on the test set: 25.00%\n",
            "Accuracy on the test set: 25.00%\n",
            "Accuracy on the test set: 25.00%\n",
            "Accuracy on the test set: 25.00%\n",
            "Accuracy on the test set: 25.00%\n",
            "Accuracy on the test set: 25.00%\n",
            "Accuracy on the test set: 25.00%\n",
            "Accuracy on the test set: 25.00%\n",
            "Accuracy on the test set: 25.00%\n",
            "Accuracy on the test set: 25.00%\n",
            "Accuracy on the test set: 25.00%\n",
            "Accuracy on the test set: 25.00%\n",
            "Accuracy on the test set: 25.00%\n",
            "Accuracy on the test set: 25.00%\n",
            "Accuracy on the test set: 25.00%\n",
            "Accuracy on the test set: 25.00%\n",
            "Accuracy on the test set: 25.00%\n",
            "Accuracy on the test set: 25.00%\n",
            "Accuracy on the test set: 25.00%\n",
            "Accuracy on the test set: 25.00%\n",
            "Accuracy on the test set: 25.00%\n",
            "Accuracy on the test set: 25.00%\n",
            "Accuracy on the test set: 25.00%\n",
            "Accuracy on the test set: 25.00%\n",
            "Accuracy on the test set: 25.00%\n",
            "Accuracy on the test set: 25.00%\n",
            "Accuracy on the test set: 25.00%\n",
            "Accuracy on the test set: 25.00%\n",
            "Accuracy on the test set: 25.00%\n",
            "Accuracy on the test set: 25.00%\n",
            "Accuracy on the test set: 25.00%\n",
            "Accuracy on the test set: 25.00%\n",
            "Accuracy on the test set: 25.00%\n",
            "Accuracy on the test set: 25.00%\n",
            "Accuracy on the test set: 25.00%\n",
            "Accuracy on the test set: 25.00%\n",
            "Accuracy on the test set: 25.00%\n",
            "Accuracy on the test set: 25.00%\n",
            "Accuracy on the test set: 25.00%\n",
            "Accuracy on the test set: 25.00%\n",
            "Accuracy on the test set: 25.00%\n",
            "Accuracy on the test set: 25.00%\n",
            "Accuracy on the test set: 25.00%\n",
            "Accuracy on the test set: 25.00%\n",
            "Accuracy on the test set: 25.00%\n",
            "Accuracy on the test set: 25.00%\n",
            "Accuracy on the test set: 25.00%\n",
            "Accuracy on the test set: 25.00%\n",
            "Accuracy on the test set: 25.00%\n",
            "Accuracy on the test set: 25.00%\n",
            "Accuracy on the test set: 25.00%\n",
            "Accuracy on the test set: 25.00%\n",
            "Accuracy on the test set: 25.00%\n",
            "Accuracy on the test set: 25.00%\n",
            "Accuracy on the test set: 25.00%\n",
            "Accuracy on the test set: 25.00%\n",
            "Accuracy on the test set: 25.00%\n",
            "Accuracy on the test set: 25.00%\n",
            "Accuracy on the test set: 25.00%\n",
            "Accuracy on the test set: 25.00%\n",
            "Accuracy on the test set: 25.00%\n",
            "Accuracy on the test set: 25.00%\n",
            "Epoch: 600, Loss: 0.00 Acc: 1.00\n",
            "Accuracy on the test set: 25.00%\n",
            "Accuracy on the test set: 25.00%\n",
            "Accuracy on the test set: 25.00%\n",
            "Accuracy on the test set: 25.00%\n",
            "Accuracy on the test set: 25.00%\n",
            "Accuracy on the test set: 25.00%\n",
            "Accuracy on the test set: 25.00%\n",
            "Accuracy on the test set: 25.00%\n",
            "Accuracy on the test set: 25.00%\n",
            "Accuracy on the test set: 25.00%\n",
            "Accuracy on the test set: 25.00%\n",
            "Accuracy on the test set: 25.00%\n",
            "Accuracy on the test set: 25.00%\n",
            "Accuracy on the test set: 25.00%\n",
            "Accuracy on the test set: 25.00%\n",
            "Accuracy on the test set: 25.00%\n",
            "Accuracy on the test set: 25.00%\n",
            "Accuracy on the test set: 25.00%\n",
            "Accuracy on the test set: 25.00%\n",
            "Accuracy on the test set: 25.00%\n",
            "Accuracy on the test set: 25.00%\n",
            "Accuracy on the test set: 25.00%\n",
            "Accuracy on the test set: 25.00%\n",
            "Accuracy on the test set: 25.00%\n",
            "Accuracy on the test set: 25.00%\n",
            "Accuracy on the test set: 25.00%\n",
            "Accuracy on the test set: 25.00%\n",
            "Accuracy on the test set: 25.00%\n",
            "Accuracy on the test set: 25.00%\n",
            "Accuracy on the test set: 25.00%\n",
            "Accuracy on the test set: 25.00%\n",
            "Accuracy on the test set: 25.00%\n",
            "Accuracy on the test set: 25.00%\n",
            "Accuracy on the test set: 25.00%\n",
            "Accuracy on the test set: 25.00%\n",
            "Accuracy on the test set: 25.00%\n",
            "Accuracy on the test set: 25.00%\n",
            "Accuracy on the test set: 25.00%\n",
            "Accuracy on the test set: 25.00%\n",
            "Accuracy on the test set: 25.00%\n",
            "Accuracy on the test set: 25.00%\n",
            "Accuracy on the test set: 25.00%\n",
            "Accuracy on the test set: 25.00%\n",
            "Accuracy on the test set: 25.00%\n",
            "Accuracy on the test set: 25.00%\n",
            "Accuracy on the test set: 25.00%\n",
            "Accuracy on the test set: 25.00%\n",
            "Accuracy on the test set: 25.00%\n",
            "Accuracy on the test set: 25.00%\n",
            "Accuracy on the test set: 25.00%\n",
            "Accuracy on the test set: 25.00%\n",
            "Accuracy on the test set: 25.00%\n",
            "Accuracy on the test set: 25.00%\n",
            "Accuracy on the test set: 25.00%\n",
            "Accuracy on the test set: 25.00%\n",
            "Accuracy on the test set: 25.00%\n",
            "Accuracy on the test set: 25.00%\n",
            "Accuracy on the test set: 25.00%\n",
            "Accuracy on the test set: 25.00%\n",
            "Accuracy on the test set: 25.00%\n",
            "Accuracy on the test set: 25.00%\n",
            "Accuracy on the test set: 25.00%\n",
            "Accuracy on the test set: 25.00%\n",
            "Accuracy on the test set: 25.00%\n",
            "Accuracy on the test set: 25.00%\n",
            "Accuracy on the test set: 25.00%\n",
            "Accuracy on the test set: 25.00%\n",
            "Accuracy on the test set: 25.00%\n",
            "Accuracy on the test set: 25.00%\n",
            "Accuracy on the test set: 25.00%\n",
            "Accuracy on the test set: 25.00%\n",
            "Accuracy on the test set: 25.00%\n",
            "Accuracy on the test set: 25.00%\n",
            "Accuracy on the test set: 25.00%\n",
            "Accuracy on the test set: 25.00%\n",
            "Accuracy on the test set: 25.00%\n",
            "Accuracy on the test set: 25.00%\n",
            "Accuracy on the test set: 25.00%\n",
            "Accuracy on the test set: 25.00%\n",
            "Accuracy on the test set: 25.00%\n",
            "Accuracy on the test set: 25.00%\n",
            "Accuracy on the test set: 25.00%\n",
            "Accuracy on the test set: 25.00%\n",
            "Accuracy on the test set: 25.00%\n",
            "Accuracy on the test set: 25.00%\n",
            "Accuracy on the test set: 25.00%\n",
            "Accuracy on the test set: 25.00%\n",
            "Accuracy on the test set: 25.00%\n",
            "Accuracy on the test set: 25.00%\n",
            "Accuracy on the test set: 25.00%\n",
            "Accuracy on the test set: 25.00%\n",
            "Accuracy on the test set: 25.00%\n",
            "Accuracy on the test set: 25.00%\n",
            "Accuracy on the test set: 25.00%\n",
            "Accuracy on the test set: 25.00%\n",
            "Accuracy on the test set: 25.00%\n",
            "Accuracy on the test set: 25.00%\n",
            "Accuracy on the test set: 25.00%\n",
            "Accuracy on the test set: 25.00%\n",
            "Accuracy on the test set: 25.00%\n",
            "Epoch: 700, Loss: 0.00 Acc: 1.00\n",
            "Accuracy on the test set: 25.00%\n",
            "Accuracy on the test set: 25.00%\n",
            "Accuracy on the test set: 25.00%\n",
            "Accuracy on the test set: 25.00%\n",
            "Accuracy on the test set: 25.00%\n",
            "Accuracy on the test set: 25.00%\n",
            "Accuracy on the test set: 25.00%\n",
            "Accuracy on the test set: 25.00%\n",
            "Accuracy on the test set: 25.00%\n",
            "Accuracy on the test set: 25.00%\n",
            "Accuracy on the test set: 25.00%\n",
            "Accuracy on the test set: 25.00%\n",
            "Accuracy on the test set: 25.00%\n",
            "Accuracy on the test set: 25.00%\n",
            "Accuracy on the test set: 25.00%\n",
            "Accuracy on the test set: 25.00%\n",
            "Accuracy on the test set: 25.00%\n",
            "Accuracy on the test set: 25.00%\n",
            "Accuracy on the test set: 25.00%\n",
            "Accuracy on the test set: 25.00%\n",
            "Accuracy on the test set: 25.00%\n",
            "Accuracy on the test set: 25.00%\n",
            "Accuracy on the test set: 25.00%\n",
            "Accuracy on the test set: 25.00%\n",
            "Accuracy on the test set: 25.00%\n",
            "Accuracy on the test set: 25.00%\n",
            "Accuracy on the test set: 25.00%\n",
            "Accuracy on the test set: 25.00%\n",
            "Accuracy on the test set: 25.00%\n",
            "Accuracy on the test set: 25.00%\n",
            "Accuracy on the test set: 25.00%\n",
            "Accuracy on the test set: 25.00%\n",
            "Accuracy on the test set: 25.00%\n",
            "Accuracy on the test set: 25.00%\n",
            "Accuracy on the test set: 25.00%\n",
            "Accuracy on the test set: 25.00%\n",
            "Accuracy on the test set: 25.00%\n",
            "Accuracy on the test set: 25.00%\n",
            "Accuracy on the test set: 25.00%\n",
            "Accuracy on the test set: 25.00%\n",
            "Accuracy on the test set: 25.00%\n",
            "Accuracy on the test set: 25.00%\n",
            "Accuracy on the test set: 25.00%\n",
            "Accuracy on the test set: 25.00%\n",
            "Accuracy on the test set: 25.00%\n",
            "Accuracy on the test set: 25.00%\n",
            "Accuracy on the test set: 25.00%\n",
            "Accuracy on the test set: 25.00%\n",
            "Accuracy on the test set: 25.00%\n",
            "Accuracy on the test set: 25.00%\n",
            "Accuracy on the test set: 25.00%\n",
            "Accuracy on the test set: 25.00%\n",
            "Accuracy on the test set: 25.00%\n",
            "Accuracy on the test set: 25.00%\n",
            "Accuracy on the test set: 25.00%\n",
            "Accuracy on the test set: 25.00%\n",
            "Accuracy on the test set: 25.00%\n",
            "Accuracy on the test set: 25.00%\n",
            "Accuracy on the test set: 25.00%\n",
            "Accuracy on the test set: 25.00%\n",
            "Accuracy on the test set: 25.00%\n",
            "Accuracy on the test set: 25.00%\n",
            "Accuracy on the test set: 25.00%\n",
            "Accuracy on the test set: 25.00%\n",
            "Accuracy on the test set: 25.00%\n",
            "Accuracy on the test set: 25.00%\n",
            "Accuracy on the test set: 25.00%\n",
            "Accuracy on the test set: 25.00%\n",
            "Accuracy on the test set: 25.00%\n",
            "Accuracy on the test set: 25.00%\n",
            "Accuracy on the test set: 25.00%\n",
            "Accuracy on the test set: 25.00%\n",
            "Accuracy on the test set: 25.00%\n",
            "Accuracy on the test set: 25.00%\n",
            "Accuracy on the test set: 25.00%\n",
            "Accuracy on the test set: 25.00%\n",
            "Accuracy on the test set: 25.00%\n",
            "Accuracy on the test set: 25.00%\n",
            "Accuracy on the test set: 25.00%\n",
            "Accuracy on the test set: 25.00%\n",
            "Accuracy on the test set: 25.00%\n",
            "Accuracy on the test set: 25.00%\n",
            "Accuracy on the test set: 25.00%\n",
            "Accuracy on the test set: 25.00%\n",
            "Accuracy on the test set: 25.00%\n",
            "Accuracy on the test set: 25.00%\n",
            "Accuracy on the test set: 25.00%\n",
            "Accuracy on the test set: 25.00%\n",
            "Accuracy on the test set: 25.00%\n",
            "Accuracy on the test set: 25.00%\n",
            "Accuracy on the test set: 25.00%\n",
            "Accuracy on the test set: 25.00%\n",
            "Accuracy on the test set: 25.00%\n",
            "Accuracy on the test set: 25.00%\n",
            "Accuracy on the test set: 25.00%\n",
            "Accuracy on the test set: 25.00%\n",
            "Accuracy on the test set: 25.00%\n",
            "Accuracy on the test set: 25.00%\n",
            "Accuracy on the test set: 25.00%\n",
            "Accuracy on the test set: 25.00%\n",
            "Epoch: 800, Loss: 0.00 Acc: 1.00\n",
            "Accuracy on the test set: 25.00%\n",
            "Accuracy on the test set: 25.00%\n",
            "Accuracy on the test set: 25.00%\n",
            "Accuracy on the test set: 25.00%\n",
            "Accuracy on the test set: 25.00%\n",
            "Accuracy on the test set: 25.00%\n",
            "Accuracy on the test set: 25.00%\n",
            "Accuracy on the test set: 25.00%\n",
            "Accuracy on the test set: 25.00%\n",
            "Accuracy on the test set: 25.00%\n",
            "Accuracy on the test set: 25.00%\n",
            "Accuracy on the test set: 25.00%\n",
            "Accuracy on the test set: 25.00%\n",
            "Accuracy on the test set: 25.00%\n",
            "Accuracy on the test set: 25.00%\n",
            "Accuracy on the test set: 25.00%\n",
            "Accuracy on the test set: 25.00%\n",
            "Accuracy on the test set: 25.00%\n",
            "Accuracy on the test set: 25.00%\n",
            "Accuracy on the test set: 25.00%\n",
            "Accuracy on the test set: 25.00%\n",
            "Accuracy on the test set: 25.00%\n",
            "Accuracy on the test set: 25.00%\n",
            "Accuracy on the test set: 25.00%\n",
            "Accuracy on the test set: 25.00%\n",
            "Accuracy on the test set: 25.00%\n",
            "Accuracy on the test set: 25.00%\n",
            "Accuracy on the test set: 25.00%\n",
            "Accuracy on the test set: 25.00%\n",
            "Accuracy on the test set: 25.00%\n",
            "Accuracy on the test set: 25.00%\n",
            "Accuracy on the test set: 25.00%\n",
            "Accuracy on the test set: 25.00%\n",
            "Accuracy on the test set: 25.00%\n",
            "Accuracy on the test set: 25.00%\n",
            "Accuracy on the test set: 25.00%\n",
            "Accuracy on the test set: 25.00%\n",
            "Accuracy on the test set: 25.00%\n",
            "Accuracy on the test set: 25.00%\n",
            "Accuracy on the test set: 25.00%\n",
            "Accuracy on the test set: 25.00%\n",
            "Accuracy on the test set: 25.00%\n",
            "Accuracy on the test set: 25.00%\n",
            "Accuracy on the test set: 25.00%\n",
            "Accuracy on the test set: 25.00%\n",
            "Accuracy on the test set: 25.00%\n",
            "Accuracy on the test set: 25.00%\n",
            "Accuracy on the test set: 25.00%\n",
            "Accuracy on the test set: 25.00%\n",
            "Accuracy on the test set: 25.00%\n",
            "Accuracy on the test set: 25.00%\n",
            "Accuracy on the test set: 25.00%\n",
            "Accuracy on the test set: 25.00%\n",
            "Accuracy on the test set: 25.00%\n",
            "Accuracy on the test set: 25.00%\n",
            "Accuracy on the test set: 25.00%\n",
            "Accuracy on the test set: 25.00%\n",
            "Accuracy on the test set: 25.00%\n",
            "Accuracy on the test set: 25.00%\n",
            "Accuracy on the test set: 25.00%\n",
            "Accuracy on the test set: 25.00%\n",
            "Accuracy on the test set: 25.00%\n",
            "Accuracy on the test set: 25.00%\n",
            "Accuracy on the test set: 25.00%\n",
            "Accuracy on the test set: 25.00%\n",
            "Accuracy on the test set: 25.00%\n",
            "Accuracy on the test set: 25.00%\n",
            "Accuracy on the test set: 25.00%\n",
            "Accuracy on the test set: 25.00%\n",
            "Accuracy on the test set: 25.00%\n",
            "Accuracy on the test set: 25.00%\n",
            "Accuracy on the test set: 25.00%\n",
            "Accuracy on the test set: 25.00%\n",
            "Accuracy on the test set: 25.00%\n",
            "Accuracy on the test set: 25.00%\n",
            "Accuracy on the test set: 25.00%\n",
            "Accuracy on the test set: 25.00%\n",
            "Accuracy on the test set: 25.00%\n",
            "Accuracy on the test set: 25.00%\n",
            "Accuracy on the test set: 25.00%\n",
            "Accuracy on the test set: 25.00%\n",
            "Accuracy on the test set: 25.00%\n",
            "Accuracy on the test set: 25.00%\n",
            "Accuracy on the test set: 25.00%\n",
            "Accuracy on the test set: 25.00%\n",
            "Accuracy on the test set: 25.00%\n",
            "Accuracy on the test set: 25.00%\n",
            "Accuracy on the test set: 25.00%\n",
            "Accuracy on the test set: 25.00%\n",
            "Accuracy on the test set: 25.00%\n",
            "Accuracy on the test set: 25.00%\n",
            "Accuracy on the test set: 25.00%\n",
            "Accuracy on the test set: 25.00%\n",
            "Accuracy on the test set: 25.00%\n",
            "Accuracy on the test set: 25.00%\n",
            "Accuracy on the test set: 25.00%\n",
            "Accuracy on the test set: 25.00%\n",
            "Accuracy on the test set: 25.00%\n",
            "Accuracy on the test set: 25.00%\n",
            "Accuracy on the test set: 25.00%\n",
            "Epoch: 900, Loss: 0.00 Acc: 1.00\n",
            "Accuracy on the test set: 25.00%\n",
            "Accuracy on the test set: 25.00%\n",
            "Accuracy on the test set: 25.00%\n",
            "Accuracy on the test set: 25.00%\n",
            "Accuracy on the test set: 25.00%\n",
            "Accuracy on the test set: 25.00%\n",
            "Accuracy on the test set: 25.00%\n",
            "Accuracy on the test set: 25.00%\n",
            "Accuracy on the test set: 25.00%\n",
            "Accuracy on the test set: 25.00%\n",
            "Accuracy on the test set: 25.00%\n",
            "Accuracy on the test set: 25.00%\n",
            "Accuracy on the test set: 25.00%\n",
            "Accuracy on the test set: 25.00%\n",
            "Accuracy on the test set: 25.00%\n",
            "Accuracy on the test set: 25.00%\n",
            "Accuracy on the test set: 25.00%\n",
            "Accuracy on the test set: 25.00%\n",
            "Accuracy on the test set: 25.00%\n",
            "Accuracy on the test set: 25.00%\n",
            "Accuracy on the test set: 25.00%\n",
            "Accuracy on the test set: 25.00%\n",
            "Accuracy on the test set: 25.00%\n",
            "Accuracy on the test set: 25.00%\n",
            "Accuracy on the test set: 25.00%\n",
            "Accuracy on the test set: 25.00%\n",
            "Accuracy on the test set: 25.00%\n",
            "Accuracy on the test set: 25.00%\n",
            "Accuracy on the test set: 25.00%\n",
            "Accuracy on the test set: 25.00%\n",
            "Accuracy on the test set: 25.00%\n",
            "Accuracy on the test set: 25.00%\n",
            "Accuracy on the test set: 25.00%\n",
            "Accuracy on the test set: 25.00%\n",
            "Accuracy on the test set: 25.00%\n",
            "Accuracy on the test set: 25.00%\n",
            "Accuracy on the test set: 25.00%\n",
            "Accuracy on the test set: 25.00%\n",
            "Accuracy on the test set: 25.00%\n",
            "Accuracy on the test set: 25.00%\n",
            "Accuracy on the test set: 25.00%\n",
            "Accuracy on the test set: 25.00%\n",
            "Accuracy on the test set: 25.00%\n",
            "Accuracy on the test set: 25.00%\n",
            "Accuracy on the test set: 25.00%\n",
            "Accuracy on the test set: 25.00%\n",
            "Accuracy on the test set: 25.00%\n",
            "Accuracy on the test set: 25.00%\n",
            "Accuracy on the test set: 25.00%\n",
            "Accuracy on the test set: 25.00%\n",
            "Accuracy on the test set: 25.00%\n",
            "Accuracy on the test set: 25.00%\n",
            "Accuracy on the test set: 25.00%\n",
            "Accuracy on the test set: 25.00%\n",
            "Accuracy on the test set: 25.00%\n",
            "Accuracy on the test set: 25.00%\n",
            "Accuracy on the test set: 25.00%\n",
            "Accuracy on the test set: 25.00%\n",
            "Accuracy on the test set: 25.00%\n",
            "Accuracy on the test set: 25.00%\n",
            "Accuracy on the test set: 25.00%\n",
            "Accuracy on the test set: 25.00%\n",
            "Accuracy on the test set: 25.00%\n",
            "Accuracy on the test set: 25.00%\n",
            "Accuracy on the test set: 25.00%\n",
            "Accuracy on the test set: 25.00%\n",
            "Accuracy on the test set: 25.00%\n",
            "Accuracy on the test set: 25.00%\n",
            "Accuracy on the test set: 25.00%\n",
            "Accuracy on the test set: 25.00%\n",
            "Accuracy on the test set: 25.00%\n",
            "Accuracy on the test set: 25.00%\n",
            "Accuracy on the test set: 25.00%\n",
            "Accuracy on the test set: 25.00%\n",
            "Accuracy on the test set: 25.00%\n",
            "Accuracy on the test set: 25.00%\n",
            "Accuracy on the test set: 25.00%\n",
            "Accuracy on the test set: 25.00%\n",
            "Accuracy on the test set: 25.00%\n",
            "Accuracy on the test set: 25.00%\n",
            "Accuracy on the test set: 25.00%\n",
            "Accuracy on the test set: 25.00%\n",
            "Accuracy on the test set: 25.00%\n",
            "Accuracy on the test set: 25.00%\n",
            "Accuracy on the test set: 25.00%\n",
            "Accuracy on the test set: 25.00%\n",
            "Accuracy on the test set: 25.00%\n",
            "Accuracy on the test set: 25.00%\n",
            "Accuracy on the test set: 25.00%\n",
            "Accuracy on the test set: 25.00%\n",
            "Accuracy on the test set: 25.00%\n",
            "Accuracy on the test set: 25.00%\n",
            "Accuracy on the test set: 25.00%\n",
            "Accuracy on the test set: 25.00%\n",
            "Accuracy on the test set: 25.00%\n",
            "Accuracy on the test set: 25.00%\n",
            "Accuracy on the test set: 25.00%\n",
            "Accuracy on the test set: 25.00%\n",
            "Accuracy on the test set: 25.00%\n",
            "Accuracy on the test set: 25.00%\n",
            "Epoch: 1000, Loss: 0.00 Acc: 1.00\n",
            "Accuracy on the test set: 25.00%\n",
            "Accuracy on the test set: 25.00%\n",
            "Accuracy on the test set: 25.00%\n",
            "Accuracy on the test set: 25.00%\n",
            "Accuracy on the test set: 25.00%\n",
            "Accuracy on the test set: 25.00%\n",
            "Accuracy on the test set: 25.00%\n",
            "Accuracy on the test set: 25.00%\n",
            "Accuracy on the test set: 25.00%\n",
            "Accuracy on the test set: 25.00%\n",
            "Accuracy on the test set: 25.00%\n",
            "Accuracy on the test set: 25.00%\n",
            "Accuracy on the test set: 25.00%\n",
            "Accuracy on the test set: 25.00%\n",
            "Accuracy on the test set: 25.00%\n",
            "Accuracy on the test set: 25.00%\n",
            "Accuracy on the test set: 25.00%\n",
            "Accuracy on the test set: 25.00%\n",
            "Accuracy on the test set: 25.00%\n",
            "Accuracy on the test set: 25.00%\n",
            "Accuracy on the test set: 25.00%\n",
            "Accuracy on the test set: 25.00%\n",
            "Accuracy on the test set: 25.00%\n",
            "Accuracy on the test set: 25.00%\n",
            "Accuracy on the test set: 25.00%\n",
            "Accuracy on the test set: 25.00%\n",
            "Accuracy on the test set: 25.00%\n",
            "Accuracy on the test set: 25.00%\n",
            "Accuracy on the test set: 25.00%\n",
            "Accuracy on the test set: 25.00%\n",
            "Accuracy on the test set: 25.00%\n",
            "Accuracy on the test set: 25.00%\n",
            "Accuracy on the test set: 25.00%\n",
            "Accuracy on the test set: 25.00%\n",
            "Accuracy on the test set: 25.00%\n",
            "Accuracy on the test set: 25.00%\n",
            "Accuracy on the test set: 25.00%\n",
            "Accuracy on the test set: 25.00%\n",
            "Accuracy on the test set: 25.00%\n",
            "Accuracy on the test set: 25.00%\n",
            "Accuracy on the test set: 25.00%\n",
            "Accuracy on the test set: 25.00%\n",
            "Accuracy on the test set: 25.00%\n",
            "Accuracy on the test set: 25.00%\n",
            "Accuracy on the test set: 25.00%\n",
            "Accuracy on the test set: 25.00%\n",
            "Accuracy on the test set: 25.00%\n",
            "Accuracy on the test set: 25.00%\n",
            "Accuracy on the test set: 25.00%\n",
            "Accuracy on the test set: 25.00%\n",
            "Accuracy on the test set: 25.00%\n",
            "Accuracy on the test set: 25.00%\n",
            "Accuracy on the test set: 25.00%\n",
            "Accuracy on the test set: 25.00%\n",
            "Accuracy on the test set: 25.00%\n",
            "Accuracy on the test set: 25.00%\n",
            "Accuracy on the test set: 25.00%\n",
            "Accuracy on the test set: 25.00%\n",
            "Accuracy on the test set: 25.00%\n",
            "Accuracy on the test set: 25.00%\n",
            "Accuracy on the test set: 25.00%\n",
            "Accuracy on the test set: 25.00%\n",
            "Accuracy on the test set: 25.00%\n",
            "Accuracy on the test set: 25.00%\n",
            "Accuracy on the test set: 25.00%\n",
            "Accuracy on the test set: 25.00%\n",
            "Accuracy on the test set: 25.00%\n",
            "Accuracy on the test set: 25.00%\n",
            "Accuracy on the test set: 25.00%\n",
            "Accuracy on the test set: 25.00%\n",
            "Accuracy on the test set: 25.00%\n",
            "Accuracy on the test set: 25.00%\n",
            "Accuracy on the test set: 25.00%\n",
            "Accuracy on the test set: 25.00%\n",
            "Accuracy on the test set: 25.00%\n",
            "Accuracy on the test set: 25.00%\n",
            "Accuracy on the test set: 25.00%\n",
            "Accuracy on the test set: 25.00%\n",
            "Accuracy on the test set: 25.00%\n",
            "Accuracy on the test set: 25.00%\n",
            "Accuracy on the test set: 25.00%\n",
            "Accuracy on the test set: 25.00%\n",
            "Accuracy on the test set: 25.00%\n",
            "Accuracy on the test set: 25.00%\n",
            "Accuracy on the test set: 25.00%\n",
            "Accuracy on the test set: 25.00%\n",
            "Accuracy on the test set: 25.00%\n",
            "Accuracy on the test set: 25.00%\n",
            "Accuracy on the test set: 25.00%\n",
            "Accuracy on the test set: 25.00%\n",
            "Accuracy on the test set: 25.00%\n",
            "Accuracy on the test set: 25.00%\n",
            "Accuracy on the test set: 25.00%\n",
            "Accuracy on the test set: 25.00%\n",
            "Accuracy on the test set: 25.00%\n",
            "Accuracy on the test set: 25.00%\n",
            "Accuracy on the test set: 25.00%\n",
            "Accuracy on the test set: 25.00%\n",
            "Accuracy on the test set: 25.00%\n",
            "Accuracy on the test set: 25.00%\n",
            "Epoch: 1100, Loss: 0.00 Acc: 1.00\n",
            "Accuracy on the test set: 25.00%\n",
            "Accuracy on the test set: 25.00%\n",
            "Accuracy on the test set: 25.00%\n",
            "Accuracy on the test set: 25.00%\n",
            "Accuracy on the test set: 25.00%\n",
            "Accuracy on the test set: 25.00%\n",
            "Accuracy on the test set: 25.00%\n",
            "Accuracy on the test set: 25.00%\n",
            "Accuracy on the test set: 25.00%\n",
            "Accuracy on the test set: 25.00%\n",
            "Accuracy on the test set: 25.00%\n",
            "Accuracy on the test set: 25.00%\n",
            "Accuracy on the test set: 25.00%\n",
            "Accuracy on the test set: 25.00%\n",
            "Accuracy on the test set: 25.00%\n",
            "Accuracy on the test set: 25.00%\n",
            "Accuracy on the test set: 25.00%\n",
            "Accuracy on the test set: 25.00%\n",
            "Accuracy on the test set: 25.00%\n",
            "Accuracy on the test set: 25.00%\n",
            "Accuracy on the test set: 25.00%\n",
            "Accuracy on the test set: 25.00%\n",
            "Accuracy on the test set: 25.00%\n",
            "Accuracy on the test set: 25.00%\n",
            "Accuracy on the test set: 25.00%\n",
            "Accuracy on the test set: 25.00%\n",
            "Accuracy on the test set: 25.00%\n",
            "Accuracy on the test set: 25.00%\n",
            "Accuracy on the test set: 25.00%\n",
            "Accuracy on the test set: 25.00%\n",
            "Accuracy on the test set: 25.00%\n",
            "Accuracy on the test set: 25.00%\n",
            "Accuracy on the test set: 25.00%\n",
            "Accuracy on the test set: 25.00%\n",
            "Accuracy on the test set: 25.00%\n",
            "Accuracy on the test set: 25.00%\n",
            "Accuracy on the test set: 25.00%\n",
            "Accuracy on the test set: 25.00%\n",
            "Accuracy on the test set: 25.00%\n",
            "Accuracy on the test set: 25.00%\n",
            "Accuracy on the test set: 25.00%\n",
            "Accuracy on the test set: 25.00%\n",
            "Accuracy on the test set: 25.00%\n",
            "Accuracy on the test set: 25.00%\n",
            "Accuracy on the test set: 25.00%\n",
            "Accuracy on the test set: 25.00%\n",
            "Accuracy on the test set: 25.00%\n",
            "Accuracy on the test set: 25.00%\n",
            "Accuracy on the test set: 25.00%\n",
            "Accuracy on the test set: 25.00%\n",
            "Accuracy on the test set: 25.00%\n",
            "Accuracy on the test set: 25.00%\n",
            "Accuracy on the test set: 25.00%\n",
            "Accuracy on the test set: 25.00%\n",
            "Accuracy on the test set: 25.00%\n",
            "Accuracy on the test set: 25.00%\n",
            "Accuracy on the test set: 25.00%\n",
            "Accuracy on the test set: 25.00%\n",
            "Accuracy on the test set: 25.00%\n",
            "Accuracy on the test set: 25.00%\n",
            "Accuracy on the test set: 25.00%\n",
            "Accuracy on the test set: 25.00%\n",
            "Accuracy on the test set: 25.00%\n",
            "Accuracy on the test set: 25.00%\n",
            "Accuracy on the test set: 25.00%\n",
            "Accuracy on the test set: 25.00%\n",
            "Accuracy on the test set: 25.00%\n",
            "Accuracy on the test set: 25.00%\n",
            "Accuracy on the test set: 25.00%\n",
            "Accuracy on the test set: 25.00%\n",
            "Accuracy on the test set: 25.00%\n",
            "Accuracy on the test set: 25.00%\n",
            "Accuracy on the test set: 25.00%\n",
            "Accuracy on the test set: 25.00%\n",
            "Accuracy on the test set: 25.00%\n",
            "Accuracy on the test set: 25.00%\n",
            "Accuracy on the test set: 25.00%\n",
            "Accuracy on the test set: 25.00%\n",
            "Accuracy on the test set: 25.00%\n",
            "Accuracy on the test set: 25.00%\n",
            "Accuracy on the test set: 25.00%\n",
            "Accuracy on the test set: 25.00%\n",
            "Accuracy on the test set: 25.00%\n",
            "Accuracy on the test set: 25.00%\n",
            "Accuracy on the test set: 25.00%\n",
            "Accuracy on the test set: 25.00%\n",
            "Accuracy on the test set: 25.00%\n",
            "Accuracy on the test set: 25.00%\n",
            "Accuracy on the test set: 25.00%\n",
            "Accuracy on the test set: 25.00%\n",
            "Accuracy on the test set: 25.00%\n",
            "Accuracy on the test set: 25.00%\n",
            "Accuracy on the test set: 25.00%\n",
            "Accuracy on the test set: 25.00%\n",
            "Accuracy on the test set: 25.00%\n",
            "Accuracy on the test set: 25.00%\n",
            "Accuracy on the test set: 25.00%\n",
            "Accuracy on the test set: 25.00%\n",
            "Accuracy on the test set: 25.00%\n",
            "Accuracy on the test set: 25.00%\n",
            "Epoch: 1200, Loss: 0.00 Acc: 1.00\n",
            "Accuracy on the test set: 25.00%\n",
            "Accuracy on the test set: 25.00%\n",
            "Accuracy on the test set: 25.00%\n",
            "Accuracy on the test set: 25.00%\n",
            "Accuracy on the test set: 25.00%\n",
            "Accuracy on the test set: 25.00%\n",
            "Accuracy on the test set: 25.00%\n",
            "Accuracy on the test set: 25.00%\n",
            "Accuracy on the test set: 25.00%\n",
            "Accuracy on the test set: 25.00%\n",
            "Accuracy on the test set: 25.00%\n",
            "Accuracy on the test set: 25.00%\n",
            "Accuracy on the test set: 25.00%\n",
            "Accuracy on the test set: 25.00%\n",
            "Accuracy on the test set: 25.00%\n",
            "Accuracy on the test set: 25.00%\n",
            "Accuracy on the test set: 25.00%\n",
            "Accuracy on the test set: 25.00%\n",
            "Accuracy on the test set: 25.00%\n",
            "Accuracy on the test set: 25.00%\n",
            "Accuracy on the test set: 25.00%\n",
            "Accuracy on the test set: 25.00%\n",
            "Accuracy on the test set: 25.00%\n",
            "Accuracy on the test set: 25.00%\n",
            "Accuracy on the test set: 25.00%\n",
            "Accuracy on the test set: 25.00%\n",
            "Accuracy on the test set: 25.00%\n",
            "Accuracy on the test set: 25.00%\n",
            "Accuracy on the test set: 25.00%\n",
            "Accuracy on the test set: 25.00%\n",
            "Accuracy on the test set: 25.00%\n",
            "Accuracy on the test set: 25.00%\n",
            "Accuracy on the test set: 25.00%\n",
            "Accuracy on the test set: 25.00%\n",
            "Accuracy on the test set: 25.00%\n",
            "Accuracy on the test set: 25.00%\n",
            "Accuracy on the test set: 25.00%\n",
            "Accuracy on the test set: 25.00%\n",
            "Accuracy on the test set: 25.00%\n",
            "Accuracy on the test set: 25.00%\n",
            "Accuracy on the test set: 25.00%\n",
            "Accuracy on the test set: 25.00%\n",
            "Accuracy on the test set: 25.00%\n",
            "Accuracy on the test set: 25.00%\n",
            "Accuracy on the test set: 25.00%\n",
            "Accuracy on the test set: 25.00%\n",
            "Accuracy on the test set: 25.00%\n",
            "Accuracy on the test set: 25.00%\n",
            "Accuracy on the test set: 25.00%\n",
            "Accuracy on the test set: 25.00%\n",
            "Accuracy on the test set: 25.00%\n",
            "Accuracy on the test set: 25.00%\n",
            "Accuracy on the test set: 25.00%\n",
            "Accuracy on the test set: 25.00%\n",
            "Accuracy on the test set: 25.00%\n",
            "Accuracy on the test set: 25.00%\n",
            "Accuracy on the test set: 25.00%\n",
            "Accuracy on the test set: 25.00%\n",
            "Accuracy on the test set: 25.00%\n",
            "Accuracy on the test set: 25.00%\n",
            "Accuracy on the test set: 25.00%\n",
            "Accuracy on the test set: 25.00%\n",
            "Accuracy on the test set: 25.00%\n",
            "Accuracy on the test set: 25.00%\n",
            "Accuracy on the test set: 25.00%\n",
            "Accuracy on the test set: 25.00%\n",
            "Accuracy on the test set: 25.00%\n",
            "Accuracy on the test set: 25.00%\n",
            "Accuracy on the test set: 25.00%\n",
            "Accuracy on the test set: 25.00%\n",
            "Accuracy on the test set: 25.00%\n",
            "Accuracy on the test set: 25.00%\n",
            "Accuracy on the test set: 25.00%\n",
            "Accuracy on the test set: 25.00%\n",
            "Accuracy on the test set: 25.00%\n",
            "Accuracy on the test set: 25.00%\n",
            "Accuracy on the test set: 25.00%\n",
            "Accuracy on the test set: 25.00%\n",
            "Accuracy on the test set: 25.00%\n",
            "Accuracy on the test set: 25.00%\n",
            "Accuracy on the test set: 25.00%\n",
            "Accuracy on the test set: 25.00%\n",
            "Accuracy on the test set: 25.00%\n",
            "Accuracy on the test set: 25.00%\n",
            "Accuracy on the test set: 25.00%\n",
            "Accuracy on the test set: 25.00%\n",
            "Accuracy on the test set: 25.00%\n",
            "Accuracy on the test set: 25.00%\n",
            "Accuracy on the test set: 25.00%\n",
            "Accuracy on the test set: 25.00%\n",
            "Accuracy on the test set: 25.00%\n",
            "Accuracy on the test set: 25.00%\n",
            "Accuracy on the test set: 25.00%\n",
            "Accuracy on the test set: 25.00%\n",
            "Accuracy on the test set: 25.00%\n",
            "Accuracy on the test set: 25.00%\n",
            "Accuracy on the test set: 25.00%\n",
            "Accuracy on the test set: 25.00%\n",
            "Accuracy on the test set: 25.00%\n",
            "Accuracy on the test set: 25.00%\n",
            "Epoch: 1300, Loss: 0.00 Acc: 1.00\n",
            "Accuracy on the test set: 25.00%\n",
            "Accuracy on the test set: 25.00%\n",
            "Accuracy on the test set: 25.00%\n",
            "Accuracy on the test set: 25.00%\n",
            "Accuracy on the test set: 25.00%\n",
            "Accuracy on the test set: 25.00%\n",
            "Accuracy on the test set: 25.00%\n",
            "Accuracy on the test set: 25.00%\n",
            "Accuracy on the test set: 25.00%\n",
            "Accuracy on the test set: 25.00%\n",
            "Accuracy on the test set: 25.00%\n",
            "Accuracy on the test set: 25.00%\n",
            "Accuracy on the test set: 25.00%\n",
            "Accuracy on the test set: 25.00%\n",
            "Accuracy on the test set: 25.00%\n",
            "Accuracy on the test set: 25.00%\n",
            "Accuracy on the test set: 25.00%\n",
            "Accuracy on the test set: 25.00%\n",
            "Accuracy on the test set: 25.00%\n",
            "Accuracy on the test set: 25.00%\n",
            "Accuracy on the test set: 25.00%\n",
            "Accuracy on the test set: 25.00%\n",
            "Accuracy on the test set: 25.00%\n",
            "Accuracy on the test set: 25.00%\n",
            "Accuracy on the test set: 25.00%\n",
            "Accuracy on the test set: 25.00%\n",
            "Accuracy on the test set: 25.00%\n",
            "Accuracy on the test set: 25.00%\n",
            "Accuracy on the test set: 25.00%\n",
            "Accuracy on the test set: 25.00%\n",
            "Accuracy on the test set: 25.00%\n",
            "Accuracy on the test set: 25.00%\n",
            "Accuracy on the test set: 25.00%\n",
            "Accuracy on the test set: 25.00%\n",
            "Accuracy on the test set: 25.00%\n",
            "Accuracy on the test set: 25.00%\n",
            "Accuracy on the test set: 25.00%\n",
            "Accuracy on the test set: 25.00%\n",
            "Accuracy on the test set: 25.00%\n",
            "Accuracy on the test set: 25.00%\n",
            "Accuracy on the test set: 25.00%\n",
            "Accuracy on the test set: 25.00%\n",
            "Accuracy on the test set: 25.00%\n",
            "Accuracy on the test set: 25.00%\n",
            "Accuracy on the test set: 25.00%\n",
            "Accuracy on the test set: 25.00%\n",
            "Accuracy on the test set: 25.00%\n",
            "Accuracy on the test set: 25.00%\n",
            "Accuracy on the test set: 25.00%\n",
            "Accuracy on the test set: 25.00%\n",
            "Accuracy on the test set: 25.00%\n",
            "Accuracy on the test set: 25.00%\n",
            "Accuracy on the test set: 25.00%\n",
            "Accuracy on the test set: 25.00%\n",
            "Accuracy on the test set: 25.00%\n",
            "Accuracy on the test set: 25.00%\n",
            "Accuracy on the test set: 25.00%\n",
            "Accuracy on the test set: 25.00%\n",
            "Accuracy on the test set: 25.00%\n",
            "Accuracy on the test set: 25.00%\n",
            "Accuracy on the test set: 25.00%\n",
            "Accuracy on the test set: 25.00%\n",
            "Accuracy on the test set: 25.00%\n",
            "Accuracy on the test set: 25.00%\n",
            "Accuracy on the test set: 25.00%\n",
            "Accuracy on the test set: 25.00%\n",
            "Accuracy on the test set: 25.00%\n",
            "Accuracy on the test set: 25.00%\n",
            "Accuracy on the test set: 25.00%\n",
            "Accuracy on the test set: 25.00%\n",
            "Accuracy on the test set: 25.00%\n",
            "Accuracy on the test set: 25.00%\n",
            "Accuracy on the test set: 25.00%\n",
            "Accuracy on the test set: 25.00%\n",
            "Accuracy on the test set: 25.00%\n",
            "Accuracy on the test set: 25.00%\n",
            "Accuracy on the test set: 25.00%\n",
            "Accuracy on the test set: 25.00%\n",
            "Accuracy on the test set: 25.00%\n",
            "Accuracy on the test set: 25.00%\n",
            "Accuracy on the test set: 25.00%\n",
            "Accuracy on the test set: 25.00%\n",
            "Accuracy on the test set: 25.00%\n",
            "Accuracy on the test set: 25.00%\n",
            "Accuracy on the test set: 25.00%\n",
            "Accuracy on the test set: 25.00%\n",
            "Accuracy on the test set: 25.00%\n",
            "Accuracy on the test set: 25.00%\n",
            "Accuracy on the test set: 25.00%\n",
            "Accuracy on the test set: 25.00%\n",
            "Accuracy on the test set: 25.00%\n",
            "Accuracy on the test set: 25.00%\n",
            "Accuracy on the test set: 25.00%\n",
            "Accuracy on the test set: 25.00%\n",
            "Accuracy on the test set: 25.00%\n",
            "Accuracy on the test set: 25.00%\n",
            "Accuracy on the test set: 25.00%\n",
            "Accuracy on the test set: 25.00%\n",
            "Accuracy on the test set: 25.00%\n",
            "Accuracy on the test set: 25.00%\n",
            "Epoch: 1400, Loss: 0.00 Acc: 1.00\n",
            "Accuracy on the test set: 25.00%\n",
            "Accuracy on the test set: 25.00%\n",
            "Accuracy on the test set: 25.00%\n",
            "Accuracy on the test set: 25.00%\n",
            "Accuracy on the test set: 25.00%\n",
            "Accuracy on the test set: 25.00%\n",
            "Accuracy on the test set: 25.00%\n",
            "Accuracy on the test set: 25.00%\n",
            "Accuracy on the test set: 25.00%\n",
            "Accuracy on the test set: 25.00%\n",
            "Accuracy on the test set: 25.00%\n",
            "Accuracy on the test set: 25.00%\n",
            "Accuracy on the test set: 25.00%\n",
            "Accuracy on the test set: 25.00%\n",
            "Accuracy on the test set: 25.00%\n",
            "Accuracy on the test set: 25.00%\n",
            "Accuracy on the test set: 25.00%\n",
            "Accuracy on the test set: 25.00%\n",
            "Accuracy on the test set: 25.00%\n",
            "Accuracy on the test set: 25.00%\n",
            "Accuracy on the test set: 25.00%\n",
            "Accuracy on the test set: 25.00%\n",
            "Accuracy on the test set: 25.00%\n",
            "Accuracy on the test set: 25.00%\n",
            "Accuracy on the test set: 25.00%\n",
            "Accuracy on the test set: 25.00%\n",
            "Accuracy on the test set: 25.00%\n",
            "Accuracy on the test set: 25.00%\n",
            "Accuracy on the test set: 25.00%\n",
            "Accuracy on the test set: 25.00%\n",
            "Accuracy on the test set: 25.00%\n",
            "Accuracy on the test set: 25.00%\n",
            "Accuracy on the test set: 25.00%\n",
            "Accuracy on the test set: 25.00%\n",
            "Accuracy on the test set: 25.00%\n",
            "Accuracy on the test set: 25.00%\n",
            "Accuracy on the test set: 25.00%\n",
            "Accuracy on the test set: 25.00%\n",
            "Accuracy on the test set: 25.00%\n",
            "Accuracy on the test set: 25.00%\n",
            "Accuracy on the test set: 25.00%\n",
            "Accuracy on the test set: 25.00%\n",
            "Accuracy on the test set: 25.00%\n",
            "Accuracy on the test set: 25.00%\n",
            "Accuracy on the test set: 25.00%\n",
            "Accuracy on the test set: 25.00%\n",
            "Accuracy on the test set: 25.00%\n",
            "Accuracy on the test set: 25.00%\n",
            "Accuracy on the test set: 25.00%\n",
            "Accuracy on the test set: 25.00%\n",
            "Accuracy on the test set: 25.00%\n",
            "Accuracy on the test set: 25.00%\n",
            "Accuracy on the test set: 25.00%\n",
            "Accuracy on the test set: 25.00%\n",
            "Accuracy on the test set: 25.00%\n",
            "Accuracy on the test set: 25.00%\n",
            "Accuracy on the test set: 25.00%\n",
            "Accuracy on the test set: 25.00%\n",
            "Accuracy on the test set: 25.00%\n",
            "Accuracy on the test set: 25.00%\n",
            "Accuracy on the test set: 25.00%\n",
            "Accuracy on the test set: 25.00%\n",
            "Accuracy on the test set: 25.00%\n",
            "Accuracy on the test set: 25.00%\n",
            "Accuracy on the test set: 25.00%\n",
            "Accuracy on the test set: 25.00%\n",
            "Accuracy on the test set: 25.00%\n",
            "Accuracy on the test set: 25.00%\n",
            "Accuracy on the test set: 25.00%\n",
            "Accuracy on the test set: 25.00%\n",
            "Accuracy on the test set: 25.00%\n",
            "Accuracy on the test set: 25.00%\n",
            "Accuracy on the test set: 25.00%\n",
            "Accuracy on the test set: 25.00%\n",
            "Accuracy on the test set: 25.00%\n",
            "Accuracy on the test set: 25.00%\n",
            "Accuracy on the test set: 25.00%\n",
            "Accuracy on the test set: 25.00%\n",
            "Accuracy on the test set: 25.00%\n",
            "Accuracy on the test set: 25.00%\n",
            "Accuracy on the test set: 25.00%\n",
            "Accuracy on the test set: 25.00%\n",
            "Accuracy on the test set: 25.00%\n",
            "Accuracy on the test set: 25.00%\n",
            "Accuracy on the test set: 25.00%\n",
            "Accuracy on the test set: 25.00%\n",
            "Accuracy on the test set: 25.00%\n",
            "Accuracy on the test set: 25.00%\n",
            "Accuracy on the test set: 25.00%\n",
            "Accuracy on the test set: 25.00%\n",
            "Accuracy on the test set: 25.00%\n",
            "Accuracy on the test set: 25.00%\n",
            "Accuracy on the test set: 25.00%\n",
            "Accuracy on the test set: 25.00%\n",
            "Accuracy on the test set: 25.00%\n",
            "Accuracy on the test set: 25.00%\n",
            "Accuracy on the test set: 25.00%\n",
            "Accuracy on the test set: 25.00%\n",
            "Accuracy on the test set: 25.00%\n",
            "Accuracy on the test set: 25.00%\n",
            "Epoch: 1500, Loss: 0.00 Acc: 1.00\n",
            "Accuracy on the test set: 25.00%\n",
            "Accuracy on the test set: 25.00%\n",
            "Accuracy on the test set: 25.00%\n",
            "Accuracy on the test set: 25.00%\n",
            "Accuracy on the test set: 25.00%\n",
            "Accuracy on the test set: 25.00%\n",
            "Accuracy on the test set: 25.00%\n",
            "Accuracy on the test set: 25.00%\n",
            "Accuracy on the test set: 25.00%\n",
            "Accuracy on the test set: 25.00%\n",
            "Accuracy on the test set: 25.00%\n",
            "Accuracy on the test set: 25.00%\n",
            "Accuracy on the test set: 25.00%\n",
            "Accuracy on the test set: 25.00%\n",
            "Accuracy on the test set: 25.00%\n",
            "Accuracy on the test set: 25.00%\n",
            "Accuracy on the test set: 25.00%\n",
            "Accuracy on the test set: 25.00%\n",
            "Accuracy on the test set: 25.00%\n",
            "Accuracy on the test set: 25.00%\n",
            "Accuracy on the test set: 25.00%\n",
            "Accuracy on the test set: 25.00%\n",
            "Accuracy on the test set: 25.00%\n",
            "Accuracy on the test set: 25.00%\n",
            "Accuracy on the test set: 25.00%\n",
            "Accuracy on the test set: 25.00%\n",
            "Accuracy on the test set: 25.00%\n",
            "Accuracy on the test set: 25.00%\n",
            "Accuracy on the test set: 25.00%\n",
            "Accuracy on the test set: 25.00%\n",
            "Accuracy on the test set: 25.00%\n",
            "Accuracy on the test set: 25.00%\n",
            "Accuracy on the test set: 25.00%\n",
            "Accuracy on the test set: 25.00%\n",
            "Accuracy on the test set: 25.00%\n",
            "Accuracy on the test set: 25.00%\n",
            "Accuracy on the test set: 25.00%\n",
            "Accuracy on the test set: 25.00%\n",
            "Accuracy on the test set: 25.00%\n",
            "Accuracy on the test set: 25.00%\n",
            "Accuracy on the test set: 25.00%\n",
            "Accuracy on the test set: 25.00%\n",
            "Accuracy on the test set: 25.00%\n",
            "Accuracy on the test set: 25.00%\n",
            "Accuracy on the test set: 25.00%\n",
            "Accuracy on the test set: 25.00%\n",
            "Accuracy on the test set: 25.00%\n",
            "Accuracy on the test set: 25.00%\n",
            "Accuracy on the test set: 25.00%\n",
            "Accuracy on the test set: 25.00%\n",
            "Accuracy on the test set: 25.00%\n",
            "Accuracy on the test set: 25.00%\n",
            "Accuracy on the test set: 25.00%\n",
            "Accuracy on the test set: 25.00%\n",
            "Accuracy on the test set: 25.00%\n",
            "Accuracy on the test set: 25.00%\n",
            "Accuracy on the test set: 25.00%\n",
            "Accuracy on the test set: 25.00%\n",
            "Accuracy on the test set: 25.00%\n",
            "Accuracy on the test set: 25.00%\n",
            "Accuracy on the test set: 25.00%\n",
            "Accuracy on the test set: 25.00%\n",
            "Accuracy on the test set: 25.00%\n",
            "Accuracy on the test set: 25.00%\n",
            "Accuracy on the test set: 25.00%\n",
            "Accuracy on the test set: 25.00%\n",
            "Accuracy on the test set: 25.00%\n",
            "Accuracy on the test set: 25.00%\n",
            "Accuracy on the test set: 25.00%\n",
            "Accuracy on the test set: 25.00%\n",
            "Accuracy on the test set: 25.00%\n",
            "Accuracy on the test set: 25.00%\n",
            "Accuracy on the test set: 25.00%\n",
            "Accuracy on the test set: 25.00%\n",
            "Accuracy on the test set: 25.00%\n",
            "Accuracy on the test set: 25.00%\n",
            "Accuracy on the test set: 25.00%\n",
            "Accuracy on the test set: 25.00%\n",
            "Accuracy on the test set: 25.00%\n",
            "Accuracy on the test set: 25.00%\n",
            "Accuracy on the test set: 25.00%\n",
            "Accuracy on the test set: 25.00%\n",
            "Accuracy on the test set: 25.00%\n",
            "Accuracy on the test set: 25.00%\n",
            "Accuracy on the test set: 25.00%\n",
            "Accuracy on the test set: 25.00%\n",
            "Accuracy on the test set: 25.00%\n",
            "Accuracy on the test set: 25.00%\n",
            "Accuracy on the test set: 25.00%\n",
            "Accuracy on the test set: 25.00%\n",
            "Accuracy on the test set: 25.00%\n",
            "Accuracy on the test set: 25.00%\n",
            "Accuracy on the test set: 25.00%\n",
            "Accuracy on the test set: 25.00%\n",
            "Accuracy on the test set: 25.00%\n",
            "Accuracy on the test set: 25.00%\n",
            "Accuracy on the test set: 25.00%\n",
            "Accuracy on the test set: 25.00%\n",
            "Accuracy on the test set: 25.00%\n",
            "Accuracy on the test set: 25.00%\n",
            "Epoch: 1600, Loss: 0.00 Acc: 1.00\n",
            "Accuracy on the test set: 25.00%\n",
            "Accuracy on the test set: 25.00%\n",
            "Accuracy on the test set: 25.00%\n",
            "Accuracy on the test set: 25.00%\n",
            "Accuracy on the test set: 25.00%\n",
            "Accuracy on the test set: 25.00%\n",
            "Accuracy on the test set: 25.00%\n",
            "Accuracy on the test set: 25.00%\n",
            "Accuracy on the test set: 25.00%\n",
            "Accuracy on the test set: 25.00%\n",
            "Accuracy on the test set: 25.00%\n",
            "Accuracy on the test set: 25.00%\n",
            "Accuracy on the test set: 25.00%\n",
            "Accuracy on the test set: 25.00%\n",
            "Accuracy on the test set: 25.00%\n",
            "Accuracy on the test set: 25.00%\n",
            "Accuracy on the test set: 25.00%\n",
            "Accuracy on the test set: 25.00%\n",
            "Accuracy on the test set: 25.00%\n",
            "Accuracy on the test set: 25.00%\n",
            "Accuracy on the test set: 25.00%\n",
            "Accuracy on the test set: 25.00%\n",
            "Accuracy on the test set: 25.00%\n",
            "Accuracy on the test set: 25.00%\n",
            "Accuracy on the test set: 25.00%\n",
            "Accuracy on the test set: 25.00%\n",
            "Accuracy on the test set: 25.00%\n",
            "Accuracy on the test set: 25.00%\n",
            "Accuracy on the test set: 25.00%\n",
            "Accuracy on the test set: 25.00%\n",
            "Accuracy on the test set: 25.00%\n",
            "Accuracy on the test set: 25.00%\n",
            "Accuracy on the test set: 25.00%\n",
            "Accuracy on the test set: 25.00%\n",
            "Accuracy on the test set: 25.00%\n",
            "Accuracy on the test set: 25.00%\n",
            "Accuracy on the test set: 25.00%\n",
            "Accuracy on the test set: 25.00%\n",
            "Accuracy on the test set: 25.00%\n",
            "Accuracy on the test set: 25.00%\n",
            "Accuracy on the test set: 25.00%\n",
            "Accuracy on the test set: 25.00%\n",
            "Accuracy on the test set: 25.00%\n",
            "Accuracy on the test set: 25.00%\n",
            "Accuracy on the test set: 25.00%\n",
            "Accuracy on the test set: 25.00%\n",
            "Accuracy on the test set: 25.00%\n",
            "Accuracy on the test set: 25.00%\n",
            "Accuracy on the test set: 25.00%\n",
            "Accuracy on the test set: 25.00%\n",
            "Accuracy on the test set: 25.00%\n",
            "Accuracy on the test set: 25.00%\n",
            "Accuracy on the test set: 25.00%\n",
            "Accuracy on the test set: 25.00%\n",
            "Accuracy on the test set: 25.00%\n",
            "Accuracy on the test set: 25.00%\n",
            "Accuracy on the test set: 25.00%\n",
            "Accuracy on the test set: 25.00%\n",
            "Accuracy on the test set: 25.00%\n",
            "Accuracy on the test set: 25.00%\n",
            "Accuracy on the test set: 25.00%\n",
            "Accuracy on the test set: 25.00%\n",
            "Accuracy on the test set: 25.00%\n",
            "Accuracy on the test set: 25.00%\n",
            "Accuracy on the test set: 25.00%\n",
            "Accuracy on the test set: 25.00%\n",
            "Accuracy on the test set: 25.00%\n",
            "Accuracy on the test set: 25.00%\n",
            "Accuracy on the test set: 25.00%\n",
            "Accuracy on the test set: 25.00%\n",
            "Accuracy on the test set: 25.00%\n",
            "Accuracy on the test set: 25.00%\n",
            "Accuracy on the test set: 25.00%\n",
            "Accuracy on the test set: 25.00%\n",
            "Accuracy on the test set: 25.00%\n",
            "Accuracy on the test set: 25.00%\n",
            "Accuracy on the test set: 25.00%\n",
            "Accuracy on the test set: 25.00%\n",
            "Accuracy on the test set: 25.00%\n",
            "Accuracy on the test set: 25.00%\n",
            "Accuracy on the test set: 25.00%\n",
            "Accuracy on the test set: 25.00%\n",
            "Accuracy on the test set: 25.00%\n",
            "Accuracy on the test set: 25.00%\n",
            "Accuracy on the test set: 25.00%\n",
            "Accuracy on the test set: 25.00%\n",
            "Accuracy on the test set: 25.00%\n",
            "Accuracy on the test set: 25.00%\n",
            "Accuracy on the test set: 25.00%\n",
            "Accuracy on the test set: 25.00%\n",
            "Accuracy on the test set: 25.00%\n",
            "Accuracy on the test set: 25.00%\n",
            "Accuracy on the test set: 25.00%\n",
            "Accuracy on the test set: 25.00%\n",
            "Accuracy on the test set: 25.00%\n",
            "Accuracy on the test set: 25.00%\n",
            "Accuracy on the test set: 25.00%\n",
            "Accuracy on the test set: 25.00%\n",
            "Accuracy on the test set: 25.00%\n",
            "Accuracy on the test set: 25.00%\n",
            "Epoch: 1700, Loss: 0.00 Acc: 1.00\n",
            "Accuracy on the test set: 25.00%\n",
            "Accuracy on the test set: 25.00%\n",
            "Accuracy on the test set: 25.00%\n",
            "Accuracy on the test set: 25.00%\n",
            "Accuracy on the test set: 25.00%\n",
            "Accuracy on the test set: 25.00%\n",
            "Accuracy on the test set: 25.00%\n",
            "Accuracy on the test set: 25.00%\n",
            "Accuracy on the test set: 25.00%\n",
            "Accuracy on the test set: 25.00%\n",
            "Accuracy on the test set: 25.00%\n",
            "Accuracy on the test set: 25.00%\n",
            "Accuracy on the test set: 25.00%\n",
            "Accuracy on the test set: 25.00%\n",
            "Accuracy on the test set: 25.00%\n",
            "Accuracy on the test set: 25.00%\n",
            "Accuracy on the test set: 25.00%\n",
            "Accuracy on the test set: 25.00%\n",
            "Accuracy on the test set: 25.00%\n",
            "Accuracy on the test set: 25.00%\n",
            "Accuracy on the test set: 25.00%\n",
            "Accuracy on the test set: 25.00%\n",
            "Accuracy on the test set: 25.00%\n",
            "Accuracy on the test set: 25.00%\n",
            "Accuracy on the test set: 25.00%\n",
            "Accuracy on the test set: 25.00%\n",
            "Accuracy on the test set: 25.00%\n",
            "Accuracy on the test set: 25.00%\n",
            "Accuracy on the test set: 25.00%\n",
            "Accuracy on the test set: 25.00%\n",
            "Accuracy on the test set: 25.00%\n",
            "Accuracy on the test set: 25.00%\n",
            "Accuracy on the test set: 25.00%\n",
            "Accuracy on the test set: 25.00%\n",
            "Accuracy on the test set: 25.00%\n",
            "Accuracy on the test set: 25.00%\n",
            "Accuracy on the test set: 25.00%\n",
            "Accuracy on the test set: 25.00%\n",
            "Accuracy on the test set: 25.00%\n",
            "Accuracy on the test set: 25.00%\n",
            "Accuracy on the test set: 25.00%\n",
            "Accuracy on the test set: 25.00%\n",
            "Accuracy on the test set: 25.00%\n",
            "Accuracy on the test set: 25.00%\n",
            "Accuracy on the test set: 25.00%\n",
            "Accuracy on the test set: 25.00%\n",
            "Accuracy on the test set: 25.00%\n",
            "Accuracy on the test set: 25.00%\n",
            "Accuracy on the test set: 25.00%\n",
            "Accuracy on the test set: 25.00%\n",
            "Accuracy on the test set: 25.00%\n",
            "Accuracy on the test set: 25.00%\n",
            "Accuracy on the test set: 25.00%\n",
            "Accuracy on the test set: 25.00%\n",
            "Accuracy on the test set: 25.00%\n",
            "Accuracy on the test set: 25.00%\n",
            "Accuracy on the test set: 25.00%\n",
            "Accuracy on the test set: 25.00%\n",
            "Accuracy on the test set: 25.00%\n",
            "Accuracy on the test set: 25.00%\n",
            "Accuracy on the test set: 25.00%\n",
            "Accuracy on the test set: 25.00%\n",
            "Accuracy on the test set: 25.00%\n",
            "Accuracy on the test set: 25.00%\n",
            "Accuracy on the test set: 25.00%\n",
            "Accuracy on the test set: 25.00%\n",
            "Accuracy on the test set: 25.00%\n",
            "Accuracy on the test set: 25.00%\n",
            "Accuracy on the test set: 25.00%\n",
            "Accuracy on the test set: 25.00%\n",
            "Accuracy on the test set: 25.00%\n",
            "Accuracy on the test set: 25.00%\n",
            "Accuracy on the test set: 25.00%\n",
            "Accuracy on the test set: 25.00%\n",
            "Accuracy on the test set: 25.00%\n",
            "Accuracy on the test set: 25.00%\n",
            "Accuracy on the test set: 33.33%\n",
            "Accuracy on the test set: 33.33%\n",
            "Accuracy on the test set: 33.33%\n",
            "Accuracy on the test set: 33.33%\n",
            "Accuracy on the test set: 33.33%\n",
            "Accuracy on the test set: 33.33%\n",
            "Accuracy on the test set: 33.33%\n",
            "Accuracy on the test set: 33.33%\n",
            "Accuracy on the test set: 33.33%\n",
            "Accuracy on the test set: 25.00%\n",
            "Accuracy on the test set: 25.00%\n",
            "Accuracy on the test set: 25.00%\n",
            "Accuracy on the test set: 25.00%\n",
            "Accuracy on the test set: 25.00%\n",
            "Accuracy on the test set: 33.33%\n",
            "Accuracy on the test set: 25.00%\n",
            "Accuracy on the test set: 25.00%\n",
            "Accuracy on the test set: 25.00%\n",
            "Accuracy on the test set: 25.00%\n",
            "Accuracy on the test set: 33.33%\n",
            "Accuracy on the test set: 33.33%\n",
            "Accuracy on the test set: 33.33%\n",
            "Accuracy on the test set: 33.33%\n",
            "Accuracy on the test set: 33.33%\n",
            "Epoch: 1800, Loss: 0.00 Acc: 1.00\n",
            "Accuracy on the test set: 33.33%\n",
            "Accuracy on the test set: 33.33%\n",
            "Accuracy on the test set: 33.33%\n",
            "Accuracy on the test set: 33.33%\n",
            "Accuracy on the test set: 33.33%\n",
            "Accuracy on the test set: 33.33%\n",
            "Accuracy on the test set: 33.33%\n",
            "Accuracy on the test set: 33.33%\n",
            "Accuracy on the test set: 33.33%\n",
            "Accuracy on the test set: 33.33%\n",
            "Accuracy on the test set: 33.33%\n",
            "Accuracy on the test set: 33.33%\n",
            "Accuracy on the test set: 33.33%\n",
            "Accuracy on the test set: 33.33%\n",
            "Accuracy on the test set: 33.33%\n",
            "Accuracy on the test set: 33.33%\n",
            "Accuracy on the test set: 33.33%\n",
            "Accuracy on the test set: 33.33%\n",
            "Accuracy on the test set: 33.33%\n",
            "Accuracy on the test set: 33.33%\n",
            "Accuracy on the test set: 33.33%\n",
            "Accuracy on the test set: 33.33%\n",
            "Accuracy on the test set: 33.33%\n",
            "Accuracy on the test set: 33.33%\n",
            "Accuracy on the test set: 33.33%\n",
            "Accuracy on the test set: 33.33%\n",
            "Accuracy on the test set: 33.33%\n",
            "Accuracy on the test set: 33.33%\n",
            "Accuracy on the test set: 33.33%\n",
            "Accuracy on the test set: 33.33%\n",
            "Accuracy on the test set: 33.33%\n",
            "Accuracy on the test set: 33.33%\n",
            "Accuracy on the test set: 33.33%\n",
            "Accuracy on the test set: 33.33%\n",
            "Accuracy on the test set: 33.33%\n",
            "Accuracy on the test set: 33.33%\n",
            "Accuracy on the test set: 33.33%\n",
            "Accuracy on the test set: 33.33%\n",
            "Accuracy on the test set: 33.33%\n",
            "Accuracy on the test set: 33.33%\n",
            "Accuracy on the test set: 33.33%\n",
            "Accuracy on the test set: 33.33%\n",
            "Accuracy on the test set: 33.33%\n",
            "Accuracy on the test set: 33.33%\n",
            "Accuracy on the test set: 33.33%\n",
            "Accuracy on the test set: 33.33%\n",
            "Accuracy on the test set: 33.33%\n",
            "Accuracy on the test set: 33.33%\n",
            "Accuracy on the test set: 33.33%\n",
            "Accuracy on the test set: 33.33%\n",
            "Accuracy on the test set: 33.33%\n",
            "Accuracy on the test set: 33.33%\n",
            "Accuracy on the test set: 33.33%\n",
            "Accuracy on the test set: 33.33%\n",
            "Accuracy on the test set: 33.33%\n",
            "Accuracy on the test set: 33.33%\n",
            "Accuracy on the test set: 33.33%\n",
            "Accuracy on the test set: 33.33%\n",
            "Accuracy on the test set: 33.33%\n",
            "Accuracy on the test set: 33.33%\n",
            "Accuracy on the test set: 33.33%\n",
            "Accuracy on the test set: 33.33%\n",
            "Accuracy on the test set: 33.33%\n",
            "Accuracy on the test set: 33.33%\n",
            "Accuracy on the test set: 33.33%\n",
            "Accuracy on the test set: 33.33%\n",
            "Accuracy on the test set: 33.33%\n",
            "Accuracy on the test set: 33.33%\n",
            "Accuracy on the test set: 33.33%\n",
            "Accuracy on the test set: 33.33%\n",
            "Accuracy on the test set: 33.33%\n",
            "Accuracy on the test set: 33.33%\n",
            "Accuracy on the test set: 33.33%\n",
            "Accuracy on the test set: 33.33%\n",
            "Accuracy on the test set: 33.33%\n",
            "Accuracy on the test set: 33.33%\n",
            "Accuracy on the test set: 33.33%\n",
            "Accuracy on the test set: 33.33%\n",
            "Accuracy on the test set: 33.33%\n",
            "Accuracy on the test set: 33.33%\n",
            "Accuracy on the test set: 33.33%\n",
            "Accuracy on the test set: 33.33%\n",
            "Accuracy on the test set: 33.33%\n",
            "Accuracy on the test set: 33.33%\n",
            "Accuracy on the test set: 33.33%\n",
            "Accuracy on the test set: 33.33%\n",
            "Accuracy on the test set: 33.33%\n",
            "Accuracy on the test set: 33.33%\n",
            "Accuracy on the test set: 33.33%\n",
            "Accuracy on the test set: 33.33%\n",
            "Accuracy on the test set: 33.33%\n",
            "Accuracy on the test set: 33.33%\n",
            "Accuracy on the test set: 33.33%\n",
            "Accuracy on the test set: 33.33%\n",
            "Accuracy on the test set: 33.33%\n",
            "Accuracy on the test set: 33.33%\n",
            "Accuracy on the test set: 33.33%\n",
            "Accuracy on the test set: 33.33%\n",
            "Accuracy on the test set: 33.33%\n",
            "Accuracy on the test set: 33.33%\n",
            "Epoch: 1900, Loss: 0.00 Acc: 1.00\n",
            "Accuracy on the test set: 33.33%\n",
            "Accuracy on the test set: 33.33%\n",
            "Accuracy on the test set: 33.33%\n",
            "Accuracy on the test set: 33.33%\n",
            "Accuracy on the test set: 33.33%\n",
            "Accuracy on the test set: 33.33%\n",
            "Accuracy on the test set: 33.33%\n",
            "Accuracy on the test set: 33.33%\n",
            "Accuracy on the test set: 33.33%\n",
            "Accuracy on the test set: 33.33%\n",
            "Accuracy on the test set: 33.33%\n",
            "Accuracy on the test set: 33.33%\n",
            "Accuracy on the test set: 33.33%\n",
            "Accuracy on the test set: 33.33%\n",
            "Accuracy on the test set: 33.33%\n",
            "Accuracy on the test set: 33.33%\n",
            "Accuracy on the test set: 33.33%\n",
            "Accuracy on the test set: 33.33%\n",
            "Accuracy on the test set: 33.33%\n",
            "Accuracy on the test set: 33.33%\n",
            "Accuracy on the test set: 33.33%\n",
            "Accuracy on the test set: 33.33%\n",
            "Accuracy on the test set: 33.33%\n",
            "Accuracy on the test set: 33.33%\n",
            "Accuracy on the test set: 33.33%\n",
            "Accuracy on the test set: 33.33%\n",
            "Accuracy on the test set: 33.33%\n",
            "Accuracy on the test set: 33.33%\n",
            "Accuracy on the test set: 33.33%\n",
            "Accuracy on the test set: 33.33%\n",
            "Accuracy on the test set: 33.33%\n",
            "Accuracy on the test set: 33.33%\n",
            "Accuracy on the test set: 33.33%\n",
            "Accuracy on the test set: 33.33%\n",
            "Accuracy on the test set: 33.33%\n",
            "Accuracy on the test set: 33.33%\n",
            "Accuracy on the test set: 33.33%\n",
            "Accuracy on the test set: 33.33%\n",
            "Accuracy on the test set: 33.33%\n",
            "Accuracy on the test set: 33.33%\n",
            "Accuracy on the test set: 33.33%\n",
            "Accuracy on the test set: 33.33%\n",
            "Accuracy on the test set: 33.33%\n",
            "Accuracy on the test set: 33.33%\n",
            "Accuracy on the test set: 33.33%\n",
            "Accuracy on the test set: 33.33%\n",
            "Accuracy on the test set: 33.33%\n",
            "Accuracy on the test set: 33.33%\n",
            "Accuracy on the test set: 33.33%\n",
            "Accuracy on the test set: 33.33%\n",
            "Accuracy on the test set: 33.33%\n",
            "Accuracy on the test set: 33.33%\n",
            "Accuracy on the test set: 33.33%\n",
            "Accuracy on the test set: 33.33%\n",
            "Accuracy on the test set: 33.33%\n",
            "Accuracy on the test set: 33.33%\n",
            "Accuracy on the test set: 33.33%\n",
            "Accuracy on the test set: 33.33%\n",
            "Accuracy on the test set: 33.33%\n",
            "Accuracy on the test set: 33.33%\n",
            "Accuracy on the test set: 33.33%\n",
            "Accuracy on the test set: 33.33%\n",
            "Accuracy on the test set: 33.33%\n",
            "Accuracy on the test set: 33.33%\n",
            "Accuracy on the test set: 33.33%\n",
            "Accuracy on the test set: 33.33%\n",
            "Accuracy on the test set: 33.33%\n",
            "Accuracy on the test set: 33.33%\n",
            "Accuracy on the test set: 33.33%\n",
            "Accuracy on the test set: 33.33%\n",
            "Accuracy on the test set: 33.33%\n",
            "Accuracy on the test set: 33.33%\n",
            "Accuracy on the test set: 33.33%\n",
            "Accuracy on the test set: 33.33%\n",
            "Accuracy on the test set: 33.33%\n",
            "Accuracy on the test set: 33.33%\n",
            "Accuracy on the test set: 33.33%\n",
            "Accuracy on the test set: 33.33%\n",
            "Accuracy on the test set: 33.33%\n",
            "Accuracy on the test set: 33.33%\n",
            "Accuracy on the test set: 33.33%\n",
            "Accuracy on the test set: 33.33%\n",
            "Accuracy on the test set: 33.33%\n",
            "Accuracy on the test set: 33.33%\n",
            "Accuracy on the test set: 33.33%\n",
            "Accuracy on the test set: 33.33%\n",
            "Accuracy on the test set: 33.33%\n",
            "Accuracy on the test set: 33.33%\n",
            "Accuracy on the test set: 33.33%\n",
            "Accuracy on the test set: 33.33%\n",
            "Accuracy on the test set: 33.33%\n",
            "Accuracy on the test set: 33.33%\n",
            "Accuracy on the test set: 33.33%\n",
            "Accuracy on the test set: 33.33%\n",
            "Accuracy on the test set: 33.33%\n",
            "Accuracy on the test set: 33.33%\n",
            "Accuracy on the test set: 33.33%\n",
            "Accuracy on the test set: 33.33%\n",
            "Accuracy on the test set: 33.33%\n",
            "Accuracy on the test set: 33.33%\n",
            "Epoch: 2000, Loss: 0.00 Acc: 1.00\n",
            "Accuracy on the test set: 33.33%\n"
          ]
        }
      ]
    },
    {
      "cell_type": "markdown",
      "metadata": {
        "id": "NN_3_0zd1WD3"
      },
      "source": [
        "##Classification, Zebra"
      ]
    },
    {
      "cell_type": "code",
      "execution_count": null,
      "metadata": {
        "id": "4-w9R0eu1Ys-",
        "colab": {
          "base_uri": "https://localhost:8080/",
          "height": 472
        },
        "outputId": "e95fa0a7-0e33-4561-9076-e9d0dd3c7ecd"
      },
      "outputs": [
        {
          "output_type": "display_data",
          "data": {
            "text/plain": [
              "<Figure size 640x480 with 1 Axes>"
            ],
            "image/png": "[encoded data removed]"
          },
          "metadata": {}
        }
      ],
      "source": [
        "import numpy as np\n",
        "import matplotlib.pyplot as plt\n",
        "\n",
        "# Set seed for reproducibility\n",
        "np.random.seed(42)\n",
        "\n",
        "# Number of points per class\n",
        "num_points = 110\n",
        "\n",
        "# Generate alternating classes along the X-axis\n",
        "x = np.linspace(0, 100, (int) (num_points/10))\n",
        "#repeat X 10 times\n",
        "x = np.repeat(x, 10)\n",
        "y = np.random.rand(num_points)*100\n",
        "labels = np.zeros(num_points)\n",
        "\n",
        "# Assign alternating classes\n",
        "labels[x%20 == 0] = 0\n",
        "labels[x%20 != 0] = 1\n",
        "\n",
        "# Plot the generated data\n",
        "plt.scatter(x, y, c=labels, cmap='viridis', marker='.')\n",
        "plt.title('Synthetic Zebra-Style Classification Dataset')\n",
        "plt.xlabel('X')\n",
        "plt.ylabel('Y (not relevant)')\n",
        "# plt.colorbar(ticks=[0, 1], label='Class')\n",
        "plt.show()\n"
      ]
    },
    {
      "cell_type": "code",
      "execution_count": null,
      "metadata": {
        "id": "JJhXEd7TAoGT"
      },
      "outputs": [],
      "source": [
        "Xs = torch.tensor(np.column_stack((x, y)), dtype=torch.float32)\n",
        "ys = torch.tensor(labels, dtype=torch.long)"
      ]
    },
    {
      "cell_type": "code",
      "execution_count": null,
      "metadata": {
        "id": "0haNFtPWBILt",
        "colab": {
          "base_uri": "https://localhost:8080/"
        },
        "outputId": "b1bfce41-1d96-4055-8454-250f25d51f46"
      },
      "outputs": [
        {
          "output_type": "execute_result",
          "data": {
            "text/plain": [
              "torch.Size([110, 2])"
            ]
          },
          "metadata": {},
          "execution_count": 467
        }
      ],
      "source": [
        "Xs.shape"
      ]
    },
    {
      "cell_type": "code",
      "execution_count": null,
      "metadata": {
        "id": "Tl3ZyEY0CZY9",
        "colab": {
          "base_uri": "https://localhost:8080/"
        },
        "outputId": "2bea12cc-492f-46af-b9bb-7de46a01e068"
      },
      "outputs": [
        {
          "output_type": "execute_result",
          "data": {
            "text/plain": [
              "tensor(1)"
            ]
          },
          "metadata": {},
          "execution_count": 468
        }
      ],
      "source": [
        "ys[13]"
      ]
    },
    {
      "cell_type": "markdown",
      "metadata": {
        "id": "-lDS9m8xpXXt"
      },
      "source": [
        "##Classification, Special Zebra"
      ]
    },
    {
      "cell_type": "code",
      "execution_count": null,
      "metadata": {
        "id": "icfMjXivpkLI",
        "colab": {
          "base_uri": "https://localhost:8080/",
          "height": 472
        },
        "outputId": "fc79af08-34dc-4460-9832-db35d63f5d75"
      },
      "outputs": [
        {
          "output_type": "display_data",
          "data": {
            "text/plain": [
              "<Figure size 640x480 with 1 Axes>"
            ],
            "image/png": "[encoded data removed]"
          },
          "metadata": {}
        }
      ],
      "source": [
        "import numpy as np\n",
        "import matplotlib.pyplot as plt\n",
        "\n",
        "# Set seed for reproducibility\n",
        "np.random.seed(42)\n",
        "\n",
        "# Number of points per class\n",
        "num_points = 110\n",
        "\n",
        "# Generate alternating classes along the X-axis\n",
        "x1 = np.linspace(0, 100, (int) (num_points/10))\n",
        "#repeat X 10 times\n",
        "x1 = np.repeat(x1, 10)\n",
        "y1 = np.random.rand(num_points)*100\n",
        "labels1 = np.zeros(num_points)\n",
        "\n",
        "# Assign alternating classes\n",
        "labels1[x1%20 == 0] = 0\n",
        "labels1[x1%20 != 0] = 1\n",
        "\n",
        "# Generate alternating classes along the X-axis\n",
        "y2 = np.linspace(0, 100, (int) (num_points/10))\n",
        "#repeat X 10 times\n",
        "y2 = np.repeat(y2, 10)\n",
        "x2 = 100 + np.random.rand(num_points)*100\n",
        "labels2 = np.zeros(num_points)\n",
        "\n",
        "# Assign alternating classes\n",
        "labels2[y2%20 == 0] = 0\n",
        "labels2[y2%20 != 0] = 1\n",
        "\n",
        "x = np.concatenate((x1,x2))\n",
        "y = np.concatenate((y1,y2))\n",
        "labels = np.concatenate((labels1,labels2))\n",
        "\n",
        "\n",
        "# Plot the generated data\n",
        "plt.scatter(x, y, c=labels, cmap='viridis', marker='.')\n",
        "plt.title('Synthetic Zebra-Style Classification Dataset')\n",
        "plt.xlabel('X')\n",
        "plt.ylabel('Y')\n",
        "# plt.colorbar(ticks=[0, 1], label='Class')\n",
        "plt.show()\n"
      ]
    },
    {
      "cell_type": "code",
      "execution_count": null,
      "metadata": {
        "id": "fNjOT7AqpnTT"
      },
      "outputs": [],
      "source": [
        "Xs = torch.tensor(np.column_stack((x, y)), dtype=torch.float32)\n",
        "ys = torch.tensor(labels, dtype=torch.long)"
      ]
    },
    {
      "cell_type": "markdown",
      "metadata": {
        "id": "07cZECSDXY7V"
      },
      "source": [
        "##Classification, Breast Cancer Dataset"
      ]
    },
    {
      "cell_type": "code",
      "execution_count": null,
      "metadata": {
        "id": "jwIvazPxXYr0"
      },
      "outputs": [],
      "source": [
        "# prompt: load_breast_cancer\n",
        "\n",
        "cancer = load_breast_cancer()\n",
        "Xs = cancer.data\n",
        "ys = cancer.target\n",
        "Xs = torch.tensor(Xs, dtype=torch.float32)\n",
        "ys = torch.tensor(ys)"
      ]
    },
    {
      "cell_type": "markdown",
      "metadata": {
        "id": "powiAg8RL5L7"
      },
      "source": [
        "##Classification, BAL"
      ]
    },
    {
      "cell_type": "markdown",
      "metadata": {
        "id": "XmIR8VjJL8ck"
      },
      "source": [
        "Ziwei: Download the file below from https://archive.ics.uci.edu/dataset/12/balance+scale"
      ]
    },
    {
      "cell_type": "code",
      "execution_count": null,
      "metadata": {
        "id": "7hgdQkbqL7Wt"
      },
      "outputs": [],
      "source": [
        "with open(\"balance-scale.data\",\"r\") as filef:\n",
        "    bal_file = filef.readlines()"
      ]
    },
    {
      "cell_type": "code",
      "execution_count": null,
      "metadata": {
        "id": "HZ39n1GOMElm"
      },
      "outputs": [],
      "source": [
        "Xs = []\n",
        "ys = []\n",
        "for line in bal_file:\n",
        "    Xs.append([int(line[2]),int(line[4]),int(line[6]),int(line[8])])\n",
        "    if line[0] == 'L':\n",
        "        ys.append(0)\n",
        "    elif line[0] == 'B':\n",
        "        ys.append(1)\n",
        "    elif line[0] == 'R':\n",
        "        ys.append(2)"
      ]
    },
    {
      "cell_type": "code",
      "execution_count": null,
      "metadata": {
        "id": "W_1K8YFPMGWt"
      },
      "outputs": [],
      "source": [
        "Xs = torch.tensor(Xs).float()\n",
        "ys = torch.tensor(ys)"
      ]
    },
    {
      "cell_type": "markdown",
      "metadata": {
        "id": "Z6BE0VHTogJo"
      },
      "source": [
        "##Regression, California Housing\n"
      ]
    },
    {
      "cell_type": "code",
      "execution_count": null,
      "metadata": {
        "id": "eMOxxo_MKAci"
      },
      "outputs": [],
      "source": [
        "from sklearn.datasets import fetch_california_housing\n",
        "\n",
        "california_housing = fetch_california_housing()\n",
        "Xs = california_housing.data\n",
        "ys = california_housing.target\n"
      ]
    },
    {
      "cell_type": "code",
      "execution_count": null,
      "metadata": {
        "id": "Iix84gG6KLYU",
        "colab": {
          "base_uri": "https://localhost:8080/"
        },
        "outputId": "9133ff5b-2a40-422d-877a-cef3998b1bf7"
      },
      "outputs": [
        {
          "output_type": "execute_result",
          "data": {
            "text/plain": [
              "array([   8.3252    ,   41.        ,    6.98412698,    1.02380952,\n",
              "        322.        ,    2.55555556,   37.88      , -122.23      ])"
            ]
          },
          "metadata": {},
          "execution_count": 35
        }
      ],
      "source": [
        "Xs[0]"
      ]
    },
    {
      "cell_type": "code",
      "execution_count": null,
      "metadata": {
        "id": "DN2dWEpzKM33",
        "colab": {
          "base_uri": "https://localhost:8080/"
        },
        "outputId": "0413c768-2c8b-4558-9af4-61cc5a7e2004"
      },
      "outputs": [
        {
          "output_type": "execute_result",
          "data": {
            "text/plain": [
              "4.526"
            ]
          },
          "metadata": {},
          "execution_count": 36
        }
      ],
      "source": [
        "ys[0]"
      ]
    },
    {
      "cell_type": "code",
      "execution_count": null,
      "metadata": {
        "id": "kzGjqqSSV9Fu",
        "colab": {
          "base_uri": "https://localhost:8080/"
        },
        "outputId": "6ffb2b95-be82-418b-c8aa-1509fcc3d877"
      },
      "outputs": [
        {
          "output_type": "execute_result",
          "data": {
            "text/plain": [
              "array([4.526  , 3.585  , 3.521  , 3.413  , 3.422  , 2.697  , 2.992  ,\n",
              "       2.414  , 2.267  , 2.611  , 2.815  , 2.418  , 2.135  , 1.913  ,\n",
              "       1.592  , 1.4    , 1.525  , 1.555  , 1.587  , 1.629  , 1.475  ,\n",
              "       1.598  , 1.139  , 0.997  , 1.326  , 1.075  , 0.938  , 1.055  ,\n",
              "       1.089  , 1.32   , 1.223  , 1.152  , 1.104  , 1.049  , 1.097  ,\n",
              "       0.972  , 1.045  , 1.039  , 1.914  , 1.76   , 1.554  , 1.5    ,\n",
              "       1.188  , 1.888  , 1.844  , 1.823  , 1.425  , 1.375  , 1.875  ,\n",
              "       1.125  , 1.719  , 0.938  , 0.975  , 1.042  , 0.875  , 0.831  ,\n",
              "       0.875  , 0.853  , 0.803  , 0.6    , 0.757  , 0.75   , 0.861  ,\n",
              "       0.761  , 0.735  , 0.784  , 0.844  , 0.813  , 0.85   , 1.292  ,\n",
              "       0.825  , 0.952  , 0.75   , 0.675  , 1.375  , 1.775  , 1.021  ,\n",
              "       1.083  , 1.125  , 1.313  , 1.625  , 1.125  , 1.125  , 1.375  ,\n",
              "       1.188  , 0.982  , 1.188  , 1.625  , 1.375  , 5.00001, 1.625  ,\n",
              "       1.375  , 1.625  , 1.875  , 1.792  , 1.3    , 1.838  , 1.25   ,\n",
              "       1.7    , 1.931  ])"
            ]
          },
          "metadata": {},
          "execution_count": 37
        }
      ],
      "source": [
        "ys[:100]"
      ]
    },
    {
      "cell_type": "code",
      "execution_count": null,
      "metadata": {
        "id": "EFuta_wnUjCE"
      },
      "outputs": [],
      "source": [
        "# prompt: Convert Xs and ys to tensors for pytorch\n",
        "\n",
        "Xs = torch.tensor(Xs, dtype=torch.float32)\n",
        "ys = torch.tensor(ys, dtype=torch.float32)\n"
      ]
    },
    {
      "cell_type": "code",
      "execution_count": null,
      "metadata": {
        "id": "fJWpLsWXVZZg",
        "colab": {
          "base_uri": "https://localhost:8080/"
        },
        "outputId": "d89e2487-27cf-47c9-e9b1-745d9a09a8bd"
      },
      "outputs": [
        {
          "output_type": "execute_result",
          "data": {
            "text/plain": [
              "torch.Size([20640, 8])"
            ]
          },
          "metadata": {},
          "execution_count": 39
        }
      ],
      "source": [
        "Xs.shape"
      ]
    },
    {
      "cell_type": "code",
      "execution_count": null,
      "metadata": {
        "id": "poEqTR7bZuRf"
      },
      "outputs": [],
      "source": [
        "# prompt: downsize the data set to 10%\n",
        "\n",
        "from sklearn.model_selection import train_test_split\n",
        "_, Xs, _, ys = train_test_split(Xs, ys, test_size=0.1, random_state=42)\n"
      ]
    },
    {
      "cell_type": "code",
      "execution_count": null,
      "metadata": {
        "id": "eB_cOi7sZ3rB",
        "colab": {
          "base_uri": "https://localhost:8080/"
        },
        "outputId": "707bb410-9012-47ff-85a6-ff71cb486b09"
      },
      "outputs": [
        {
          "output_type": "execute_result",
          "data": {
            "text/plain": [
              "torch.Size([2064, 8])"
            ]
          },
          "metadata": {},
          "execution_count": 41
        }
      ],
      "source": [
        "Xs.shape"
      ]
    },
    {
      "cell_type": "markdown",
      "metadata": {
        "id": "hdMkoZr_KgZX"
      },
      "source": [
        "##Regression, Abalone"
      ]
    },
    {
      "cell_type": "code",
      "execution_count": null,
      "metadata": {
        "id": "LTi9rxq1Kfl5"
      },
      "outputs": [],
      "source": [
        "import torch\n",
        "from sklearn.preprocessing import OneHotEncoder\n",
        "from sklearn.model_selection import train_test_split\n",
        "from urllib import request\n",
        "from io import BytesIO\n",
        "import zipfile\n",
        "\n",
        "# Download the Abalone dataset\n",
        "url = \"https://archive.ics.uci.edu/ml/machine-learning-databases/abalone/abalone.data\"\n",
        "response = request.urlopen(url)\n",
        "abalone_data = response.read().decode(\"utf-8\").splitlines()\n",
        "\n",
        "# Process and convert the data to PyTorch tensors\n",
        "data = [line.strip().split(',') for line in abalone_data]\n",
        "X = []\n",
        "y = []\n",
        "\n",
        "# categories = ['M', 'F', 'I']\n",
        "# label_encoder = OneHotEncoder(categories=[categories])\n",
        "# label_encoder.fit(data)\n",
        "\n",
        "def encode_sex(sex):\n",
        "    if sex == 'M':\n",
        "        return [1, 0, 0]\n",
        "    elif sex == 'F':\n",
        "        return [0, 1, 0]\n",
        "    elif sex == 'I':\n",
        "        return [0, 0, 1]\n",
        "\n",
        "for row in data:\n",
        "    # One-hot encode the 'Sex' feature\n",
        "    # sex_encoded = label_encoder.transform([[row[0]]])[0]\n",
        "    sex_encoded = encode_sex(row[0])\n",
        "\n",
        "    # Convert the row to float and extract the target variable ('Rings')\n",
        "    X.append(sex_encoded + list(map(float, row[1:-1])))\n",
        "    y.append(float(row[-1]))\n",
        "\n",
        "    # # Encode the categorical 'Sex' feature\n",
        "    # row[0] = label_encoder.transform([row[0]])[0]\n",
        "    # # Convert the row to float and extract the target variable ('Rings')\n",
        "    # X.append(list(map(float, row[:-1])))\n",
        "    # y.append(float(row[-1]))\n",
        "\n",
        "Xs = torch.tensor(X, dtype=torch.float32)\n",
        "ys = torch.tensor(y, dtype=torch.float32)\n"
      ]
    },
    {
      "cell_type": "markdown",
      "metadata": {
        "id": "8vxYpkSzeWw_"
      },
      "source": [
        "##Regression, Diabetes"
      ]
    },
    {
      "cell_type": "code",
      "execution_count": null,
      "metadata": {
        "id": "tP127Lw6gNFk"
      },
      "outputs": [],
      "source": [
        "# prompt: load the diabetes dataset from sklearn\n",
        "\n",
        "from sklearn.datasets import load_diabetes\n",
        "diabetes = load_diabetes()\n",
        "Xs = diabetes.data\n",
        "ys = diabetes.target\n",
        "# prompt: convert Xs and ys to float tensor\n",
        "\n",
        "Xs = torch.tensor(Xs, dtype=torch.float32)\n",
        "ys = torch.tensor(ys, dtype=torch.float32)\n"
      ]
    },
    {
      "cell_type": "code",
      "execution_count": null,
      "metadata": {
        "id": "RZdQOsd0gdG1",
        "colab": {
          "base_uri": "https://localhost:8080/"
        },
        "outputId": "00fd2262-97ab-44ac-dd2d-d40cbfec556e"
      },
      "outputs": [
        {
          "output_type": "execute_result",
          "data": {
            "text/plain": [
              "tensor([ 0.0381,  0.0507,  0.0617,  0.0219, -0.0442, -0.0348, -0.0434, -0.0026,\n",
              "         0.0199, -0.0176])"
            ]
          },
          "metadata": {},
          "execution_count": 35
        }
      ],
      "source": [
        "Xs[0]"
      ]
    },
    {
      "cell_type": "code",
      "execution_count": null,
      "metadata": {
        "id": "Qk8Iw3eL6SF2",
        "colab": {
          "base_uri": "https://localhost:8080/"
        },
        "outputId": "a5e3bfb2-c14b-490c-ecde-28a53254b7f5"
      },
      "outputs": [
        {
          "output_type": "execute_result",
          "data": {
            "text/plain": [
              "torch.return_types.max(\n",
              "values=tensor([0.1107, 0.0507, 0.1706, 0.1320, 0.1539, 0.1988, 0.1812, 0.1852, 0.1336,\n",
              "        0.1356]),\n",
              "indices=tensor([204,   0, 367, 340, 230, 123,  58, 123,  23,  23]))"
            ]
          },
          "metadata": {},
          "execution_count": 36
        }
      ],
      "source": [
        "torch.max(Xs,dim=0)"
      ]
    },
    {
      "cell_type": "code",
      "execution_count": null,
      "metadata": {
        "id": "kTuguLpxgeVW",
        "colab": {
          "base_uri": "https://localhost:8080/"
        },
        "outputId": "35bb0c81-030c-4e65-9c8c-a07b02f4f545"
      },
      "outputs": [
        {
          "output_type": "execute_result",
          "data": {
            "text/plain": [
              "tensor(151.)"
            ]
          },
          "metadata": {},
          "execution_count": 37
        }
      ],
      "source": [
        "ys[0]"
      ]
    },
    {
      "cell_type": "code",
      "execution_count": null,
      "metadata": {
        "id": "fprm-3uOgfbm",
        "colab": {
          "base_uri": "https://localhost:8080/"
        },
        "outputId": "5c57effd-8001-40c7-9aef-5bbdd7937ad8"
      },
      "outputs": [
        {
          "output_type": "execute_result",
          "data": {
            "text/plain": [
              "torch.Size([442, 10])"
            ]
          },
          "metadata": {},
          "execution_count": 38
        }
      ],
      "source": [
        "Xs.shape"
      ]
    },
    {
      "cell_type": "code",
      "execution_count": null,
      "metadata": {
        "id": "lfyOuSplUiUY"
      },
      "outputs": [],
      "source": [
        "#"
      ]
    },
    {
      "cell_type": "markdown",
      "metadata": {
        "id": "-Ta_zinTqY48"
      },
      "source": [
        "##Regression, Patchy classes"
      ]
    },
    {
      "cell_type": "markdown",
      "metadata": {
        "id": "j_4xNhFTfQP_"
      },
      "source": [
        "TODO"
      ]
    },
    {
      "cell_type": "code",
      "execution_count": null,
      "metadata": {
        "id": "IZshHTL0qcnZ"
      },
      "outputs": [],
      "source": []
    },
    {
      "cell_type": "markdown",
      "metadata": {
        "id": "C29ELkyUUzEf"
      },
      "source": [
        "##Regression, Body Fat\n",
        "\n",
        "Tried this data set on multiple settings. Our NN-kNN consistently perform poorly on this when compared to other methods.\n",
        "\n",
        "https://www.kaggle.com/datasets/fedesoriano/body-fat-prediction-dataset?resource=download\n",
        "\n",
        "https://www.kaggle.com/code/casper6290/bodyfat-prediction#1-|-Importing-Libraries-and-Loading-dataset"
      ]
    },
    {
      "cell_type": "code",
      "execution_count": null,
      "metadata": {
        "colab": {
          "base_uri": "https://localhost:8080/"
        },
        "id": "dmlUIHa3cFLy",
        "outputId": "6225c3e5-4412-4482-af11-9970424d47b1"
      },
      "outputs": [
        {
          "output_type": "stream",
          "name": "stdout",
          "text": [
            "Mounted at /content/drive\n"
          ]
        }
      ],
      "source": [
        "from google.colab import drive\n",
        "drive.mount('/content/drive')"
      ]
    },
    {
      "cell_type": "code",
      "execution_count": null,
      "metadata": {
        "id": "umDa4rqucbgk"
      },
      "outputs": [],
      "source": [
        "import pandas as pd\n",
        "import numpy as np\n",
        "import matplotlib.pyplot as plt\n",
        "import seaborn as sns\n",
        "import scipy.stats as stats\n",
        "from sklearn.preprocessing import PowerTransformer\n",
        "#\n",
        "df = pd.read_csv(\"/content/drive/MyDrive/2023 research/NN-kNN/bodyfat.csv\")\n",
        "df.head()"
      ]
    },
    {
      "cell_type": "code",
      "execution_count": null,
      "metadata": {
        "id": "UqFrJNY2d4uL"
      },
      "outputs": [],
      "source": [
        "df.shape"
      ]
    },
    {
      "cell_type": "code",
      "execution_count": null,
      "metadata": {
        "id": "M_j5YekSd_3A"
      },
      "outputs": [],
      "source": [
        "X = df.drop(['BodyFat','Density'],axis=1)\n",
        "y = df['Density']"
      ]
    },
    {
      "cell_type": "code",
      "execution_count": null,
      "metadata": {
        "id": "E7BzcLAveA9Q"
      },
      "outputs": [],
      "source": [
        "X['Bmi']=703*X['Weight']/(X['Height']*X['Height'])\n",
        "X.head()"
      ]
    },
    {
      "cell_type": "code",
      "execution_count": null,
      "metadata": {
        "id": "4tizcri8eDvY"
      },
      "outputs": [],
      "source": [
        "X['ACratio'] = X['Abdomen']/X['Chest']\n",
        "X['HTratio'] = X['Hip']/X['Thigh']\n",
        "X.drop(['Weight','Height','Abdomen','Chest','Hip','Thigh'],axis=1,inplace=True)\n",
        "X.head()"
      ]
    },
    {
      "cell_type": "code",
      "execution_count": null,
      "metadata": {
        "id": "eJUKzpoHeSax"
      },
      "outputs": [],
      "source": [
        "z = np.abs(stats.zscore(X))\n",
        "\n",
        "#only keep rows in dataframe with all z-scores less than absolute value of 3\n",
        "X_clean = X[(z<3).all(axis=1)]\n",
        "y_clean = y[(z<3).all(axis=1)]\n",
        "#find how many rows are left in the dataframe\n",
        "X_clean.shape"
      ]
    },
    {
      "cell_type": "code",
      "execution_count": null,
      "metadata": {
        "id": "4haAdPoVeXfc"
      },
      "outputs": [],
      "source": [
        "Xs = torch.tensor( X_clean.to_numpy(), dtype=torch.float32)\n",
        "ys = torch.tensor( y_clean.to_numpy(), dtype=torch.float32)"
      ]
    },
    {
      "cell_type": "code",
      "execution_count": null,
      "metadata": {
        "id": "efTT8qVCeipZ"
      },
      "outputs": [],
      "source": [
        "Xs[0]"
      ]
    },
    {
      "cell_type": "code",
      "execution_count": null,
      "metadata": {
        "id": "6hTs_aikeg_p"
      },
      "outputs": [],
      "source": [
        "ys[0]"
      ]
    },
    {
      "cell_type": "markdown",
      "metadata": {
        "id": "swy1EhJD31r6"
      },
      "source": [
        "##Regression, Faces"
      ]
    },
    {
      "cell_type": "code",
      "execution_count": null,
      "metadata": {
        "id": "3GLpgoy_36B9"
      },
      "outputs": [],
      "source": [
        "Xs = np.load(\"part_features.npy\")\n",
        "ys = np.load(\"part_targets.npy\")\n",
        "#These two files are in the nn-Knn folder."
      ]
    },
    {
      "cell_type": "code",
      "execution_count": null,
      "metadata": {
        "id": "3z6Psjbh4CGD"
      },
      "outputs": [],
      "source": [
        "Xs = torch.tensor(Xs, dtype=torch.float32)\n",
        "ys = torch.tensor(ys, dtype=torch.float32)\n"
      ]
    },
    {
      "cell_type": "code",
      "execution_count": null,
      "metadata": {
        "id": "TXPNaMjp4DpP"
      },
      "outputs": [],
      "source": [
        "from sklearn.model_selection import train_test_split\n",
        "_, Xs, _, ys = train_test_split(Xs, ys, test_size=0.3, random_state=42)"
      ]
    },
    {
      "cell_type": "code",
      "execution_count": null,
      "metadata": {
        "id": "ORxZVyTS4FWG"
      },
      "outputs": [],
      "source": []
    },
    {
      "cell_type": "markdown",
      "metadata": {
        "id": "wo4BdbmCFC0d"
      },
      "source": [
        "##Sanity Check: A standard NN for regression"
      ]
    },
    {
      "cell_type": "code",
      "execution_count": null,
      "metadata": {
        "id": "vM_WhRJqD11s"
      },
      "outputs": [],
      "source": [
        "# prompt: a standard neural network with 3 fully connected layers for regression\n",
        "\n",
        "# import torch\n",
        "# import torch.nn as nn\n",
        "# import torch.nn.functional as F\n",
        "\n",
        "# class RegressionNet(nn.Module):\n",
        "#   def __init__(self, input_size):\n",
        "#     super().__init__()\n",
        "#     self.fc1 = nn.Linear(input_size, 32)\n",
        "#     self.fc2 = nn.Linear(32, 16)\n",
        "#     self.fc3 = nn.Linear(16, 1)\n",
        "\n",
        "#   def forward(self, x):\n",
        "#     x = F.relu(self.fc1(x))\n",
        "#     x = F.relu(self.fc2(x))\n",
        "#     x = self.fc3(x)\n",
        "#     return x\n"
      ]
    },
    {
      "cell_type": "code",
      "source": [
        "# prompt: a standard neural network with 3 fully connected layers for regression\n",
        "\n",
        "import torch\n",
        "import torch.nn as nn\n",
        "import torch.nn.functional as F\n",
        "\n",
        "# class RegressionNet(nn.Module):\n",
        "#   def __init__(self, input_size):\n",
        "#     super().__init__()\n",
        "#     self.fc1 = nn.Linear(input_size, 32)\n",
        "#     self.fc2 = nn.Linear(32, 16)\n",
        "#     self.fc3 = nn.Linear(16, 1)\n",
        "\n",
        "#   def forward(self, x):\n",
        "#     x = F.relu(self.fc1(x))\n",
        "#     x = F.relu(self.fc2(x))\n",
        "#     x = self.fc3(x)\n",
        "#     return x\n",
        "\n",
        "class RegressionNet(nn.Module):\n",
        "    def __init__(self, input_size):\n",
        "        super(RegressionNet, self).__init__()\n",
        "        self.nn = nn.Sequential(\n",
        "            nn.Linear(input_size, 32),\n",
        "            nn.ReLU(),\n",
        "            # nn.Dropout(0.5),\n",
        "\n",
        "            nn.Linear(32, 10),\n",
        "            nn.ReLU(),\n",
        "            # nn.Dropout(0.5),\n",
        "            nn.Linear(10, 1)\n",
        "\n",
        "            # nn.Linear(32, 64),\n",
        "            # nn.ReLU(),\n",
        "            # nn.Dropout(0.5),\n",
        "            # nn.Linear(64, 128),\n",
        "            # nn.ReLU(),\n",
        "            # nn.Dropout(0.5),\n",
        "            # nn.Linear(128, 1)\n",
        "            )\n",
        "        self.init_weights()\n",
        "\n",
        "    def init_weights(self):\n",
        "        for m in self.modules():\n",
        "            if isinstance(m, nn.Linear):\n",
        "                torch.nn.init.xavier_uniform_(m.weight)\n",
        "                if m.bias is not None:\n",
        "                    m.bias.data.fill_(0)\n",
        "\n",
        "    def forward(self, x):\n",
        "        return self.nn(x).squeeze()"
      ],
      "metadata": {
        "id": "k1g3svUFNrsx"
      },
      "execution_count": null,
      "outputs": []
    },
    {
      "cell_type": "code",
      "execution_count": null,
      "metadata": {
        "id": "Cme3KleQEdQA",
        "colab": {
          "base_uri": "https://localhost:8080/"
        },
        "outputId": "1f3b5549-35a9-476c-8492-bb21fd2eccfa"
      },
      "outputs": [
        {
          "output_type": "stream",
          "name": "stdout",
          "text": [
            "Epoch [100/3000], Test Loss: 0.6423723101615906\n",
            "Epoch [200/3000], Test Loss: 0.45588478446006775\n",
            "Epoch [300/3000], Test Loss: 0.3575444519519806\n",
            "Epoch [400/3000], Test Loss: 0.29476022720336914\n",
            "Epoch [500/3000], Test Loss: 0.25905001163482666\n",
            "Epoch [600/3000], Test Loss: 0.23944370448589325\n",
            "Epoch [700/3000], Test Loss: 0.23291081190109253\n",
            "Epoch [100/3000], Test Loss: 0.3844171166419983\n",
            "Epoch [100/3000], Test Loss: 0.6953907608985901\n",
            "Epoch [200/3000], Test Loss: 0.5814568400382996\n",
            "Epoch [300/3000], Test Loss: 0.5507189631462097\n",
            "Epoch [100/3000], Test Loss: 0.9911725521087646\n",
            "Epoch [200/3000], Test Loss: 0.8221722841262817\n",
            "Epoch [300/3000], Test Loss: 0.6419295072555542\n",
            "Epoch [400/3000], Test Loss: 0.5331980586051941\n",
            "Epoch [500/3000], Test Loss: 0.4931984543800354\n",
            "Epoch [600/3000], Test Loss: 0.4732033312320709\n",
            "Epoch [700/3000], Test Loss: 0.4568718373775482\n",
            "Epoch [800/3000], Test Loss: 0.4418834447860718\n",
            "Epoch [900/3000], Test Loss: 0.430118203163147\n",
            "Epoch [1000/3000], Test Loss: 0.41960418224334717\n",
            "Epoch [1100/3000], Test Loss: 0.41405007243156433\n",
            "Epoch [100/3000], Test Loss: 0.7991136312484741\n",
            "Epoch [200/3000], Test Loss: 0.5428569912910461\n",
            "Epoch [300/3000], Test Loss: 0.44872331619262695\n",
            "Epoch [400/3000], Test Loss: 0.40909451246261597\n",
            "Epoch [500/3000], Test Loss: 0.3921073079109192\n",
            "Epoch [600/3000], Test Loss: 0.38249051570892334\n",
            "Epoch [700/3000], Test Loss: 0.3723190724849701\n",
            "Epoch [800/3000], Test Loss: 0.35298606753349304\n",
            "Epoch [900/3000], Test Loss: 0.3318910002708435\n",
            "Epoch [1000/3000], Test Loss: 0.3138778805732727\n",
            "Epoch [1100/3000], Test Loss: 0.2979242503643036\n",
            "Epoch [1200/3000], Test Loss: 0.28772932291030884\n",
            "Epoch [1300/3000], Test Loss: 0.28110599517822266\n",
            "Epoch [1400/3000], Test Loss: 0.27916809916496277\n",
            "Epoch [100/3000], Test Loss: 0.46088099479675293\n",
            "Epoch [200/3000], Test Loss: 0.37476813793182373\n",
            "Epoch [300/3000], Test Loss: 0.3029530942440033\n",
            "Epoch [400/3000], Test Loss: 0.24975891411304474\n",
            "Epoch [500/3000], Test Loss: 0.21890972554683685\n",
            "Epoch [600/3000], Test Loss: 0.1945917010307312\n",
            "Epoch [700/3000], Test Loss: 0.17385299503803253\n",
            "Epoch [800/3000], Test Loss: 0.16119062900543213\n",
            "Epoch [900/3000], Test Loss: 0.1527552306652069\n",
            "Epoch [100/3000], Test Loss: 1.0866233110427856\n",
            "Epoch [200/3000], Test Loss: 1.0182160139083862\n",
            "Epoch [300/3000], Test Loss: 0.9863619804382324\n",
            "Epoch [400/3000], Test Loss: 0.9378039240837097\n",
            "Epoch [500/3000], Test Loss: 0.8909115195274353\n",
            "Epoch [600/3000], Test Loss: 0.8731088042259216\n",
            "Epoch [100/3000], Test Loss: 1.5739227533340454\n",
            "Epoch [200/3000], Test Loss: 1.1440744400024414\n",
            "Epoch [300/3000], Test Loss: 0.8155997395515442\n",
            "Epoch [400/3000], Test Loss: 0.5653856992721558\n",
            "Epoch [500/3000], Test Loss: 0.44329530000686646\n",
            "Epoch [600/3000], Test Loss: 0.35733193159103394\n",
            "Epoch [700/3000], Test Loss: 0.3125115633010864\n",
            "Epoch [800/3000], Test Loss: 0.3065263330936432\n",
            "Epoch [100/3000], Test Loss: 1.086895227432251\n",
            "Epoch [200/3000], Test Loss: 1.0114021301269531\n",
            "Epoch [300/3000], Test Loss: 0.9426521062850952\n",
            "Epoch [400/3000], Test Loss: 0.8483902215957642\n",
            "Epoch [500/3000], Test Loss: 0.7744505405426025\n",
            "Epoch [600/3000], Test Loss: 0.7136306762695312\n",
            "Epoch [700/3000], Test Loss: 0.6429731845855713\n",
            "Epoch [800/3000], Test Loss: 0.5845013856887817\n",
            "Epoch [900/3000], Test Loss: 0.5342788100242615\n",
            "Epoch [1000/3000], Test Loss: 0.4953165054321289\n",
            "Epoch [1100/3000], Test Loss: 0.4669903814792633\n",
            "Epoch [1200/3000], Test Loss: 0.45510879158973694\n",
            "Epoch [1300/3000], Test Loss: 0.45048511028289795\n",
            "Epoch [1400/3000], Test Loss: 0.44549012184143066\n",
            "Epoch [1500/3000], Test Loss: 0.4370318055152893\n",
            "Epoch [1600/3000], Test Loss: 0.4350496828556061\n",
            "Epoch [100/3000], Test Loss: 0.8045233488082886\n",
            "Epoch [200/3000], Test Loss: 0.6656548976898193\n",
            "Epoch [300/3000], Test Loss: 0.6401614546775818\n",
            "Epoch [400/3000], Test Loss: 0.5964481234550476\n",
            "Epoch [500/3000], Test Loss: 0.5613476037979126\n",
            "Epoch [600/3000], Test Loss: 0.5203315615653992\n",
            "Epoch [700/3000], Test Loss: 0.49132874608039856\n",
            "Epoch [800/3000], Test Loss: 0.46781712770462036\n",
            "Epoch [900/3000], Test Loss: 0.44250229001045227\n",
            "Epoch [1000/3000], Test Loss: 0.41942423582077026\n",
            "Epoch [1100/3000], Test Loss: 0.40086761116981506\n",
            "Epoch [1200/3000], Test Loss: 0.3867904245853424\n",
            "Epoch [1300/3000], Test Loss: 0.3742176592350006\n",
            "Epoch [1400/3000], Test Loss: 0.3620333969593048\n",
            "Epoch [1500/3000], Test Loss: 0.35600754618644714\n",
            "Epoch [1600/3000], Test Loss: 0.3523792028427124\n",
            "Epoch [1700/3000], Test Loss: 0.34903737902641296\n",
            "Average loss on the test set: 0.3961945280432701\n"
          ]
        }
      ],
      "source": [
        "training_epochs = 3000\n",
        "learning_rate = 1e-5\n",
        "criterion = torch.nn.MSELoss()\n",
        "batch_size = 10\n",
        "\n",
        "fa_weight_sharing_within_segment = True\n",
        "fa_weight_sharing_between_segment = True\n",
        "ca_weight_sharing = True\n",
        "top_case_enabled = True\n",
        "top_k = 5\n",
        "class_weight_sharing = True\n",
        "nn_cdh_enabled = False\n",
        "\n",
        "best_model = None\n",
        "patience = 40\n",
        "\n",
        "# prompt: Train and test the RegressionNet on Xs and ys\n",
        "\n",
        "k_fold = KFold(n_splits=10, shuffle = True,random_state = None)\n",
        "accuracies = []\n",
        "\n",
        "for train_index, test_index in k_fold.split(Xs):\n",
        "  X_train, X_test = Xs[train_index], Xs[test_index]\n",
        "  y_train, y_test = ys[train_index], ys[test_index]\n",
        "  train_loader = torch.utils.data.DataLoader(torch.utils.data.TensorDataset(X_train, y_train), batch_size=batch_size, shuffle=True)\n",
        "  patience_counter = 0\n",
        "  best_accuracy = None\n",
        "  model = RegressionNet(Xs.shape[1])\n",
        "  optimizer = torch.optim.Adam(model.parameters(), lr=learning_rate)\n",
        "  for epoch in range(training_epochs):\n",
        "    epoch_msg = True\n",
        "    for X_train_batch, y_train_batch in train_loader:\n",
        "      model.train()\n",
        "      # Forward pass\n",
        "      outputs = model(X_train_batch)\n",
        "      loss = criterion(outputs, y_train_batch)\n",
        "\n",
        "      # Backward and optimize\n",
        "      optimizer.zero_grad()\n",
        "      loss.backward()\n",
        "      optimizer.step()\n",
        "\n",
        "      # if epoch_msg and (epoch + 1) % 100 == 0:\n",
        "      #   epoch_msg = False\n",
        "      #   print(f'Epoch [{epoch + 1}/{training_epochs}], Loss: {loss.item()}')\n",
        "\n",
        "    # Testing the model\n",
        "    model.eval()\n",
        "    with torch.no_grad():\n",
        "      outputs = model(X_test)\n",
        "      loss = criterion(outputs, y_test)\n",
        "      if best_accuracy is None or loss.item() < best_accuracy:\n",
        "        best_accuracy = loss.item()\n",
        "        best_model = model\n",
        "        patience_counter = 0\n",
        "      else:\n",
        "        patience_counter += 1\n",
        "      if epoch_msg and (epoch + 1) % 100 == 0:\n",
        "        epoch_msg = False\n",
        "        print(f'Epoch [{epoch + 1}/{training_epochs}], Test Loss: {loss.item()}')\n",
        "        # print(f'Loss on the test set: {loss.item()}')\n",
        "    if patience_counter >= patience:\n",
        "      break\n",
        "  accuracies.append(best_accuracy)\n",
        "print(f'Average loss on the test set: {sum(accuracies)/len(accuracies)}')"
      ]
    },
    {
      "cell_type": "markdown",
      "metadata": {
        "id": "zC3uDRqv8T0V"
      },
      "source": [
        "For the vanilla neural network\n",
        "\n",
        "```\n",
        "Average loss on the test set: 1.3484851598739624\n",
        "\n",
        "```"
      ]
    },
    {
      "cell_type": "code",
      "execution_count": null,
      "metadata": {
        "id": "zOGHMEAqaoaq",
        "colab": {
          "base_uri": "https://localhost:8080/"
        },
        "outputId": "9e52ffe9-435a-40c0-db93-2e69928914f4"
      },
      "outputs": [
        {
          "output_type": "execute_result",
          "data": {
            "text/plain": [
              "[0.23242825269699097,\n",
              " 0.3771035969257355,\n",
              " 0.5493008494377136,\n",
              " 0.4118078947067261,\n",
              " 0.2786405086517334,\n",
              " 0.15259669721126556,\n",
              " 0.8715450763702393,\n",
              " 0.30623748898506165,\n",
              " 0.4340432286262512,\n",
              " 0.3482416868209839]"
            ]
          },
          "metadata": {},
          "execution_count": 63
        }
      ],
      "source": [
        "accuracies"
      ]
    },
    {
      "cell_type": "code",
      "source": [
        "np.mean(accuracies)"
      ],
      "metadata": {
        "colab": {
          "base_uri": "https://localhost:8080/"
        },
        "id": "DOcyoBruG_1-",
        "outputId": "11cedc62-969c-45e6-99f6-88067c80b06d"
      },
      "execution_count": null,
      "outputs": [
        {
          "output_type": "execute_result",
          "data": {
            "text/plain": [
              "0.3961945280432701"
            ]
          },
          "metadata": {},
          "execution_count": 64
        }
      ]
    },
    {
      "cell_type": "code",
      "execution_count": null,
      "metadata": {
        "id": "u9_2oHTKXHIR",
        "colab": {
          "base_uri": "https://localhost:8080/"
        },
        "outputId": "4b3ee809-ae95-4924-b030-022f2b2f7a21"
      },
      "outputs": [
        {
          "output_type": "stream",
          "name": "stdout",
          "text": [
            "3637\n"
          ]
        }
      ],
      "source": [
        "# prompt: print the number of parameters in model\n",
        "\n",
        "print(sum(p.numel() for p in model.parameters()))\n"
      ]
    },
    {
      "cell_type": "markdown",
      "metadata": {
        "id": "1lcYtG21v45O"
      },
      "source": [
        "#Test"
      ]
    },
    {
      "cell_type": "markdown",
      "metadata": {
        "id": "WPlAPD92JC_j"
      },
      "source": [
        "##Classification"
      ]
    },
    {
      "cell_type": "markdown",
      "source": [
        "newly added here."
      ],
      "metadata": {
        "id": "SqrFf1LvSw7z"
      }
    },
    {
      "cell_type": "code",
      "source": [
        "# prompt: center and scale to normalize my Xs and ys\n",
        "\n",
        "# def standardize_tensor(input_tensor):\n",
        "#     mean = input_tensor.mean()\n",
        "#     std = input_tensor.std()\n",
        "#     standardized_tensor = (input_tensor - mean) / std\n",
        "#     return standardized_tensor\n",
        "\n",
        "# Xs = standardize_tensor(Xs)"
      ],
      "metadata": {
        "id": "vlnbKhrYSpNc"
      },
      "execution_count": null,
      "outputs": []
    },
    {
      "cell_type": "code",
      "execution_count": null,
      "metadata": {
        "id": "28HWRvIWsz65"
      },
      "outputs": [],
      "source": [
        "training_epochs = 1000\n",
        "learning_rate = 0.01 #0.0001\n",
        "criterion = torch.nn.CrossEntropyLoss()\n",
        "batch_size = 100 #4 #100\n",
        "\n",
        "fa_weight_sharing_within_segment = True\n",
        "fa_weight_sharing_between_segment = True\n",
        "ca_weight_sharing = False\n",
        "top_case_enabled = True\n",
        "hidden_layers = None #Conv_cifar10() #None\n",
        "\n",
        "top_k = 5\n",
        "class_weight_sharing = True\n",
        "\n",
        "patience = 40"
      ]
    },
    {
      "cell_type": "code",
      "source": [
        "def trainModels(X_train,y_train):\n",
        "  # https://contrib.scikit-learn.org/metric-learn/supervised.html#lmnn\n",
        "  # lmnn = LMNN(n_neighbors=5, learn_rate=1e-6)\n",
        "  # ##TODO, change here if you need to use a different one\n",
        "  # # lmnn = metric_learn.MLKR()\n",
        "  # # lmnn = metric_learn.NCA(max_iter=1000)\n",
        "  # lmnn.fit(X_train,y_train)\n",
        "  # knn = KNeighborsClassifier(n_neighbors=5,metric=lmnn.get_metric())\n",
        "  # knn.fit(X_train,y_train)\n",
        "  # # klmnn_accuracies.append( accuracy_score(knn.predict(X_test), y_test))\n",
        "  # klmnn_acc = accuracy_score(knn.predict(X_test), y_test)\n",
        "  klmnn_acc = 0\n",
        "  # print(\"lmnn experiment done\")\n",
        "  # continue\n",
        "\n",
        "  train_loader = torch.utils.data.DataLoader(torch.utils.data.TensorDataset(X_train, y_train), batch_size=batch_size, shuffle=True)\n",
        "\n",
        "  # Train model\n",
        "  model = NN_k_NN(X_train, y_train,\n",
        "               fa_weight_sharing_within_segment,\n",
        "               fa_weight_sharing_between_segment,\n",
        "               ca_weight_sharing,\n",
        "               top_case_enabled, top_k,\n",
        "               class_weight_sharing,hidden_layers)\n",
        "  # optimizer = torch.optim.SGD(model.parameters(), lr=learning_rate)\n",
        "  optimizer = torch.optim.Adam(model.parameters(), lr=learning_rate) #, weight_decay=1e-5)\n",
        "  # print_model_features(model)\n",
        "  #Training loop\n",
        "  # temp = []\n",
        "  patience_counter = 0\n",
        "  for epoch in range(training_epochs):\n",
        "    epoch_msg = True\n",
        "    # model.eval()\n",
        "    # break\n",
        "    for X_train_batch, y_train_batch in train_loader:\n",
        "      model.train()\n",
        "      feature_activations, case_activations, output, predicted_class = model(X_train_batch)\n",
        "      loss = criterion(output, y_train_batch)\n",
        "      # Backward and optimize\n",
        "      optimizer.zero_grad()\n",
        "      loss.backward()\n",
        "      optimizer.step()\n",
        "      if epoch_msg and (epoch + 1) % 2 == 0:\n",
        "        print(f'Epoch [{epoch + 1}/{training_epochs}], Loss: {loss.item()}')\n",
        "        #inspecting the case activations\n",
        "        # top_case_indices = torch.topk(case_activations, 5, dim=1)[1]\n",
        "        # print(top_case_indices)\n",
        "        epoch_msg = False\n",
        "      # print(\"evaluating\")\n",
        "    model.eval()\n",
        "    with torch.no_grad():\n",
        "      feature_activations, case_activations, output, predicted_class = model(X_test)\n",
        "      # inspecting the case activations\n",
        "      # top_case_indices = torch.topk(case_activations, 5, dim=1)[1]\n",
        "      # print(top_case_indices)\n",
        "\n",
        "      # Calculate accuracy\n",
        "      accuracy_temp = accuracy_score(y_test, predicted_class)\n",
        "    if epoch == 0:\n",
        "      best_accuracy = accuracy_temp\n",
        "      torch.save(model.state_dict(), PATH)\n",
        "    elif accuracy_temp > best_accuracy:\n",
        "      #memorize best model\n",
        "      torch.save(model.state_dict(), PATH)\n",
        "      best_accuracy = accuracy_temp\n",
        "      patience_counter = 0\n",
        "    elif patience_counter > patience:\n",
        "      model = NN_k_NN(X_train, y_train,\n",
        "               fa_weight_sharing_within_segment,\n",
        "               fa_weight_sharing_between_segment,\n",
        "               ca_weight_sharing,\n",
        "               top_case_enabled, top_k,\n",
        "               class_weight_sharing)\n",
        "      model.load_state_dict(torch.load(PATH))\n",
        "      model.eval()\n",
        "      print(\"patience exceeded, loading best model\")\n",
        "      break\n",
        "    else:\n",
        "      patience_counter += 1\n",
        "\n",
        "  # best_accuracies.append(best_accuracy)\n",
        "\n",
        "  # print_model_features(model)\n",
        "  # Test model\n",
        "  with torch.no_grad():\n",
        "    feature_activations, case_activations, output, predicted_class = model(X_test)\n",
        "\n",
        "    #inspecting the case activations\n",
        "    top_case_indices = torch.topk(case_activations, 5, dim=1)[1]\n",
        "    # print(top_case_indices)\n",
        "\n",
        "    # Calculate accuracy\n",
        "    accuracy = accuracy_score(y_test, predicted_class)\n",
        "    # Add accuracy to list\n",
        "    # accuracies.append(accuracy)\n",
        "\n",
        "  ##compare with a normal k-nn\n",
        "  knn =  KNeighborsClassifier(n_neighbors=top_k)\n",
        "  knn.fit(X_train, y_train)\n",
        "  knn_acc  = accuracy_score(knn.predict(X_test), y_test)\n",
        "  # knn_accuracies.append( accuracy_score(knn.predict(X_test), y_test))\n",
        "  return klmnn_acc, best_accuracy, knn_acc, model"
      ],
      "metadata": {
        "id": "DFX8bBPAn8HK"
      },
      "execution_count": null,
      "outputs": []
    },
    {
      "cell_type": "code",
      "execution_count": null,
      "metadata": {
        "id": "h8Z8bG1lwYT9"
      },
      "outputs": [],
      "source": [
        "# prompt: train and test my model on the Xs and ys in a 10 fold cross validation\n",
        "from sklearn.neighbors import KNeighborsClassifier\n",
        "from metric_learn import LMNN,NCA\n",
        "\n",
        "from sklearn.metrics import accuracy_score\n",
        "# Split data into 10 folds\n",
        "k_fold = KFold(n_splits=10, shuffle = True,random_state = None)\n",
        "# Scale data, not enabled right now.\n",
        "# scaler = StandardScaler()\n",
        "# scaler.fit(Xs)\n",
        "# Xs = scaler.transform(Xs)\n",
        "\n",
        "# Train and test model on each fold\n",
        "best_model = None\n",
        "model = None\n",
        "PATH = 'best_classifier_model.h5'\n",
        "best_accuracy = None\n",
        "best_accuracies = []\n",
        "accuracies = []\n",
        "knn_accuracies = []\n",
        "\n",
        "nca_accuracies = []\n",
        "klmnn_accuracies = []\n",
        "\n",
        "count = 0\n",
        "\n"
      ]
    },
    {
      "cell_type": "code",
      "source": [
        "# X_train, X_test = Xs[train_index], Xs[test_index]\n",
        "# y_train, y_test = ys[train_index], ys[test_index]\n",
        "\n",
        "# klmnn_acc, best_accuracy, knn_acc, model = trainModels(X_train,y_train)\n",
        "# accuracies.append(best_accuracy)\n",
        "# knn_accuracies.append(knn_acc)\n",
        "# klmnn_accuracies.append(klmnn_acc)\n"
      ],
      "metadata": {
        "id": "LO8_C0UOzkD4"
      },
      "execution_count": null,
      "outputs": []
    },
    {
      "cell_type": "code",
      "source": [
        "for train_index, test_index in k_fold.split(Xs):\n",
        "  # Get training and testing data\n",
        "  X_train, X_test = Xs[train_index], Xs[test_index]\n",
        "  y_train, y_test = ys[train_index], ys[test_index]\n",
        "  klmnn_acc, best_accuracy, knn_acc, model = trainModels(X_train,y_train)\n",
        "  accuracies.append(best_accuracy)\n",
        "  knn_accuracies.append(knn_acc)\n",
        "  klmnn_accuracies.append(klmnn_acc)\n",
        "\n",
        "  #added for case maintenance experiment. comment it out if needed\n",
        "  # break;\n",
        "\n",
        "  # count += 1\n",
        "  # if count == 2:\n",
        "  #   break\n",
        "\n"
      ],
      "metadata": {
        "id": "hGHd8zsqzc8d",
        "colab": {
          "base_uri": "https://localhost:8080/"
        },
        "outputId": "0252e76a-1f7c-477b-e573-a7ccff6adc97"
      },
      "execution_count": null,
      "outputs": [
        {
          "output_type": "stream",
          "name": "stdout",
          "text": [
            "self.ca_weight.shape torch.Size([512, 2])\n",
            "Epoch [2/1000], Loss: 0.6835060119628906\n",
            "Epoch [4/1000], Loss: 0.6549917459487915\n",
            "Epoch [6/1000], Loss: 0.6732542514801025\n",
            "Epoch [8/1000], Loss: 0.6484996676445007\n",
            "Epoch [10/1000], Loss: 0.6589815020561218\n",
            "Epoch [12/1000], Loss: 0.6907955408096313\n",
            "Epoch [14/1000], Loss: 0.650188148021698\n",
            "Epoch [16/1000], Loss: 0.5293143391609192\n",
            "Epoch [18/1000], Loss: 0.37050861120224\n",
            "Epoch [20/1000], Loss: 0.3491923213005066\n",
            "Epoch [22/1000], Loss: 0.21838915348052979\n",
            "Epoch [24/1000], Loss: 0.17247681319713593\n",
            "Epoch [26/1000], Loss: 0.13314658403396606\n",
            "Epoch [28/1000], Loss: 0.18764671683311462\n",
            "Epoch [30/1000], Loss: 0.133039191365242\n",
            "Epoch [32/1000], Loss: 0.15448327362537384\n",
            "Epoch [34/1000], Loss: 0.06965664029121399\n",
            "Epoch [36/1000], Loss: 0.06796222925186157\n",
            "Epoch [38/1000], Loss: 0.09050679206848145\n",
            "Epoch [40/1000], Loss: 0.05250363051891327\n",
            "Epoch [42/1000], Loss: 0.05987957492470741\n",
            "Epoch [44/1000], Loss: 0.044495973736047745\n",
            "Epoch [46/1000], Loss: 0.023151008412241936\n",
            "Epoch [48/1000], Loss: 0.014931376092135906\n",
            "Epoch [50/1000], Loss: 0.05250678211450577\n",
            "Epoch [52/1000], Loss: 0.0049751149490475655\n",
            "Epoch [54/1000], Loss: 0.04273310303688049\n",
            "Epoch [56/1000], Loss: 0.01083778403699398\n",
            "Epoch [58/1000], Loss: 0.011862053535878658\n",
            "Epoch [60/1000], Loss: 0.019890449941158295\n",
            "Epoch [62/1000], Loss: 0.007228564005345106\n",
            "Epoch [64/1000], Loss: 0.01350947842001915\n",
            "Epoch [66/1000], Loss: 0.007417204789817333\n",
            "Epoch [68/1000], Loss: 0.011707199737429619\n",
            "Epoch [70/1000], Loss: 0.0064719743095338345\n",
            "Epoch [72/1000], Loss: 0.005071080289781094\n",
            "Epoch [74/1000], Loss: 0.006503005512058735\n",
            "self.ca_weight.shape torch.Size([512, 2])\n",
            "patience exceeded, loading best model\n",
            "self.ca_weight.shape torch.Size([512, 2])\n",
            "Epoch [2/1000], Loss: 0.6823551058769226\n",
            "Epoch [4/1000], Loss: 0.6653344631195068\n",
            "Epoch [6/1000], Loss: 0.6280864477157593\n",
            "Epoch [8/1000], Loss: 0.6200582385063171\n",
            "Epoch [10/1000], Loss: 0.6480870246887207\n",
            "Epoch [12/1000], Loss: 0.646181046962738\n",
            "Epoch [14/1000], Loss: 0.6511254906654358\n",
            "Epoch [16/1000], Loss: 0.6367346048355103\n",
            "Epoch [18/1000], Loss: 0.37790027260780334\n",
            "Epoch [20/1000], Loss: 0.27872082591056824\n",
            "Epoch [22/1000], Loss: 0.2373763620853424\n",
            "Epoch [24/1000], Loss: 0.1648276299238205\n",
            "Epoch [26/1000], Loss: 0.1334993690252304\n",
            "Epoch [28/1000], Loss: 0.14679904282093048\n",
            "Epoch [30/1000], Loss: 0.07523426413536072\n",
            "Epoch [32/1000], Loss: 0.04174254089593887\n",
            "Epoch [34/1000], Loss: 0.04606169834733009\n",
            "Epoch [36/1000], Loss: 0.04693238437175751\n",
            "Epoch [38/1000], Loss: 0.020653914660215378\n",
            "Epoch [40/1000], Loss: 0.010902222245931625\n",
            "Epoch [42/1000], Loss: 0.026755204424262047\n",
            "Epoch [44/1000], Loss: 0.03795259818434715\n",
            "Epoch [46/1000], Loss: 0.024773143231868744\n",
            "Epoch [48/1000], Loss: 0.011261975392699242\n",
            "Epoch [50/1000], Loss: 0.015476319007575512\n",
            "Epoch [52/1000], Loss: 0.0029977739322930574\n",
            "Epoch [54/1000], Loss: 0.0025501041673123837\n",
            "Epoch [56/1000], Loss: 0.013157609850168228\n",
            "Epoch [58/1000], Loss: 0.004810483194887638\n",
            "Epoch [60/1000], Loss: 0.0015091827372089028\n",
            "Epoch [62/1000], Loss: 0.0038764746859669685\n",
            "Epoch [64/1000], Loss: 0.0020643179304897785\n",
            "Epoch [66/1000], Loss: 0.0015231702709570527\n",
            "Epoch [68/1000], Loss: 0.011630740948021412\n",
            "Epoch [70/1000], Loss: 0.003362405812367797\n",
            "Epoch [72/1000], Loss: 0.003428906900808215\n",
            "Epoch [74/1000], Loss: 0.011299384757876396\n",
            "Epoch [76/1000], Loss: 0.0085062887519598\n",
            "self.ca_weight.shape torch.Size([512, 2])\n",
            "patience exceeded, loading best model\n",
            "self.ca_weight.shape torch.Size([512, 2])\n",
            "Epoch [2/1000], Loss: 0.6812422275543213\n",
            "Epoch [4/1000], Loss: 0.6865759491920471\n",
            "Epoch [6/1000], Loss: 0.6306061744689941\n",
            "Epoch [8/1000], Loss: 0.653441309928894\n",
            "Epoch [10/1000], Loss: 0.6458491683006287\n",
            "Epoch [12/1000], Loss: 0.6474654674530029\n",
            "Epoch [14/1000], Loss: 0.7227113246917725\n",
            "Epoch [16/1000], Loss: 0.4751306176185608\n",
            "Epoch [18/1000], Loss: 0.36765193939208984\n",
            "Epoch [20/1000], Loss: 0.25943970680236816\n",
            "Epoch [22/1000], Loss: 0.2004939615726471\n",
            "Epoch [24/1000], Loss: 0.11444666236639023\n",
            "Epoch [26/1000], Loss: 0.14690375328063965\n",
            "Epoch [28/1000], Loss: 0.08299562335014343\n",
            "Epoch [30/1000], Loss: 0.11797456443309784\n",
            "Epoch [32/1000], Loss: 0.10264935344457626\n",
            "Epoch [34/1000], Loss: 0.04165785759687424\n",
            "Epoch [36/1000], Loss: 0.017939135432243347\n",
            "Epoch [38/1000], Loss: 0.066476970911026\n",
            "Epoch [40/1000], Loss: 0.020632896572351456\n",
            "Epoch [42/1000], Loss: 0.05384362116456032\n",
            "Epoch [44/1000], Loss: 0.024739813059568405\n",
            "Epoch [46/1000], Loss: 0.01525474525988102\n",
            "Epoch [48/1000], Loss: 0.01071962807327509\n",
            "Epoch [50/1000], Loss: 0.011441915296018124\n",
            "Epoch [52/1000], Loss: 0.012775502167642117\n",
            "Epoch [54/1000], Loss: 0.012406863272190094\n",
            "Epoch [56/1000], Loss: 0.021395385265350342\n",
            "Epoch [58/1000], Loss: 0.010969262570142746\n",
            "Epoch [60/1000], Loss: 0.010262615978717804\n",
            "Epoch [62/1000], Loss: 0.007946028374135494\n",
            "Epoch [64/1000], Loss: 0.003325260942801833\n",
            "Epoch [66/1000], Loss: 0.0017992156790569425\n",
            "Epoch [68/1000], Loss: 0.0017530014738440514\n",
            "Epoch [70/1000], Loss: 0.01040883082896471\n",
            "Epoch [72/1000], Loss: 0.0027140367310494184\n",
            "Epoch [74/1000], Loss: 0.0018454577075317502\n",
            "Epoch [76/1000], Loss: 0.008029058575630188\n",
            "Epoch [78/1000], Loss: 0.0023185894824564457\n",
            "Epoch [80/1000], Loss: 0.004049778450280428\n",
            "Epoch [82/1000], Loss: 0.001741640968248248\n",
            "Epoch [84/1000], Loss: 0.0015478837303817272\n",
            "Epoch [86/1000], Loss: 0.001404437469318509\n",
            "Epoch [88/1000], Loss: 0.004270232282578945\n",
            "Epoch [90/1000], Loss: 0.001220621750690043\n",
            "Epoch [92/1000], Loss: 0.002830317709594965\n",
            "Epoch [94/1000], Loss: 0.003550425171852112\n",
            "Epoch [96/1000], Loss: 0.0022659962996840477\n",
            "Epoch [98/1000], Loss: 0.0020319409668445587\n",
            "Epoch [100/1000], Loss: 0.0055667078122496605\n",
            "Epoch [102/1000], Loss: 0.001919194357469678\n",
            "self.ca_weight.shape torch.Size([512, 2])\n",
            "patience exceeded, loading best model\n",
            "self.ca_weight.shape torch.Size([512, 2])\n",
            "Epoch [2/1000], Loss: 0.6869160532951355\n",
            "Epoch [4/1000], Loss: 0.6572407484054565\n",
            "Epoch [6/1000], Loss: 0.6510093212127686\n",
            "Epoch [8/1000], Loss: 0.6794734001159668\n",
            "Epoch [10/1000], Loss: 0.6692457795143127\n",
            "Epoch [12/1000], Loss: 0.6781860589981079\n",
            "Epoch [14/1000], Loss: 0.6521331071853638\n",
            "Epoch [16/1000], Loss: 0.6711773872375488\n",
            "Epoch [18/1000], Loss: 0.6116443872451782\n",
            "Epoch [20/1000], Loss: 0.4544999599456787\n",
            "Epoch [22/1000], Loss: 0.42286479473114014\n",
            "Epoch [24/1000], Loss: 0.24550798535346985\n",
            "Epoch [26/1000], Loss: 0.16821998357772827\n",
            "Epoch [28/1000], Loss: 0.15929538011550903\n",
            "Epoch [30/1000], Loss: 0.12790459394454956\n",
            "Epoch [32/1000], Loss: 0.06320878863334656\n",
            "Epoch [34/1000], Loss: 0.16421109437942505\n",
            "Epoch [36/1000], Loss: 0.06859768182039261\n",
            "Epoch [38/1000], Loss: 0.1743219494819641\n",
            "Epoch [40/1000], Loss: 0.029230501502752304\n",
            "Epoch [42/1000], Loss: 0.023699158802628517\n",
            "Epoch [44/1000], Loss: 0.01787535473704338\n",
            "Epoch [46/1000], Loss: 0.02045833133161068\n",
            "Epoch [48/1000], Loss: 0.03835540637373924\n",
            "Epoch [50/1000], Loss: 0.011519077233970165\n",
            "Epoch [52/1000], Loss: 0.04222767427563667\n",
            "Epoch [54/1000], Loss: 0.026678360998630524\n",
            "Epoch [56/1000], Loss: 0.022310424596071243\n",
            "Epoch [58/1000], Loss: 0.005096171051263809\n",
            "Epoch [60/1000], Loss: 0.0029648784548044205\n",
            "Epoch [62/1000], Loss: 0.004117087926715612\n",
            "Epoch [64/1000], Loss: 0.01275873463600874\n",
            "Epoch [66/1000], Loss: 0.006533297710120678\n",
            "Epoch [68/1000], Loss: 0.005737724713981152\n",
            "Epoch [70/1000], Loss: 0.017576251178979874\n",
            "Epoch [72/1000], Loss: 0.00894155539572239\n",
            "Epoch [74/1000], Loss: 0.002670746063813567\n",
            "Epoch [76/1000], Loss: 0.0034596635960042477\n",
            "Epoch [78/1000], Loss: 0.0061262850649654865\n",
            "Epoch [80/1000], Loss: 0.004045483656227589\n",
            "self.ca_weight.shape torch.Size([512, 2])\n",
            "patience exceeded, loading best model\n",
            "self.ca_weight.shape torch.Size([512, 2])\n",
            "Epoch [2/1000], Loss: 0.6809950470924377\n",
            "Epoch [4/1000], Loss: 0.6802921295166016\n",
            "Epoch [6/1000], Loss: 0.6593512892723083\n",
            "Epoch [8/1000], Loss: 0.6219298243522644\n",
            "Epoch [10/1000], Loss: 0.6780057549476624\n",
            "Epoch [12/1000], Loss: 0.6691957116127014\n",
            "Epoch [14/1000], Loss: 0.6754741072654724\n",
            "Epoch [16/1000], Loss: 0.6497807502746582\n",
            "Epoch [18/1000], Loss: 0.3824489116668701\n",
            "Epoch [20/1000], Loss: 0.32933634519577026\n",
            "Epoch [22/1000], Loss: 0.295448362827301\n",
            "Epoch [24/1000], Loss: 0.22610262036323547\n",
            "Epoch [26/1000], Loss: 0.19828584790229797\n",
            "Epoch [28/1000], Loss: 0.15891426801681519\n",
            "Epoch [30/1000], Loss: 0.12123927474021912\n",
            "Epoch [32/1000], Loss: 0.08007324486970901\n",
            "Epoch [34/1000], Loss: 0.05117334425449371\n",
            "Epoch [36/1000], Loss: 0.05058373510837555\n",
            "Epoch [38/1000], Loss: 0.0415654182434082\n",
            "Epoch [40/1000], Loss: 0.06213102862238884\n",
            "Epoch [42/1000], Loss: 0.06305047869682312\n",
            "Epoch [44/1000], Loss: 0.022645525634288788\n",
            "Epoch [46/1000], Loss: 0.027032768353819847\n",
            "Epoch [48/1000], Loss: 0.05097315460443497\n",
            "Epoch [50/1000], Loss: 0.027951152995228767\n",
            "Epoch [52/1000], Loss: 0.0155370207503438\n",
            "Epoch [54/1000], Loss: 0.012082695960998535\n",
            "Epoch [56/1000], Loss: 0.01566918194293976\n",
            "Epoch [58/1000], Loss: 0.014408178627490997\n",
            "Epoch [60/1000], Loss: 0.010905729606747627\n",
            "Epoch [62/1000], Loss: 0.01592755876481533\n",
            "Epoch [64/1000], Loss: 0.005487642716616392\n",
            "Epoch [66/1000], Loss: 0.009900708682835102\n",
            "Epoch [68/1000], Loss: 0.02910146676003933\n",
            "Epoch [70/1000], Loss: 0.010472416877746582\n",
            "Epoch [72/1000], Loss: 0.0036426258739084005\n",
            "Epoch [74/1000], Loss: 0.007742824498564005\n",
            "self.ca_weight.shape torch.Size([512, 2])\n",
            "patience exceeded, loading best model\n",
            "self.ca_weight.shape torch.Size([512, 2])\n",
            "Epoch [2/1000], Loss: 0.6789494156837463\n",
            "Epoch [4/1000], Loss: 0.6454164981842041\n",
            "Epoch [6/1000], Loss: 0.6265646815299988\n",
            "Epoch [8/1000], Loss: 0.6802966594696045\n",
            "Epoch [10/1000], Loss: 0.6412153840065002\n",
            "Epoch [12/1000], Loss: 0.6357349157333374\n",
            "Epoch [14/1000], Loss: 0.6293192505836487\n",
            "Epoch [16/1000], Loss: 0.3519379794597626\n",
            "Epoch [18/1000], Loss: 0.4004928469657898\n",
            "Epoch [20/1000], Loss: 0.32498157024383545\n",
            "Epoch [22/1000], Loss: 0.3233890235424042\n",
            "Epoch [24/1000], Loss: 0.24204681813716888\n",
            "Epoch [26/1000], Loss: 0.22095060348510742\n",
            "Epoch [28/1000], Loss: 0.16311725974082947\n",
            "Epoch [30/1000], Loss: 0.1664971113204956\n",
            "Epoch [32/1000], Loss: 0.16098564863204956\n",
            "Epoch [34/1000], Loss: 0.0955512747168541\n",
            "Epoch [36/1000], Loss: 0.08001347631216049\n",
            "Epoch [38/1000], Loss: 0.04118312895298004\n",
            "Epoch [40/1000], Loss: 0.06643449515104294\n",
            "Epoch [42/1000], Loss: 0.047870878130197525\n",
            "Epoch [44/1000], Loss: 0.027647536247968674\n",
            "Epoch [46/1000], Loss: 0.04574557766318321\n",
            "Epoch [48/1000], Loss: 0.010668311268091202\n",
            "Epoch [50/1000], Loss: 0.01708204112946987\n",
            "Epoch [52/1000], Loss: 0.028875578194856644\n",
            "Epoch [54/1000], Loss: 0.010642788372933865\n",
            "Epoch [56/1000], Loss: 0.03406894579529762\n",
            "Epoch [58/1000], Loss: 0.01879221946001053\n",
            "Epoch [60/1000], Loss: 0.007199262268841267\n",
            "Epoch [62/1000], Loss: 0.002627995330840349\n",
            "Epoch [64/1000], Loss: 0.008093362674117088\n",
            "Epoch [66/1000], Loss: 0.025151168927550316\n",
            "Epoch [68/1000], Loss: 0.014020071364939213\n",
            "Epoch [70/1000], Loss: 0.015033005736768246\n",
            "Epoch [72/1000], Loss: 0.0110093392431736\n",
            "Epoch [74/1000], Loss: 0.0042825681157410145\n",
            "Epoch [76/1000], Loss: 0.01192089170217514\n",
            "Epoch [78/1000], Loss: 0.005070814397186041\n",
            "Epoch [80/1000], Loss: 0.011473247781395912\n",
            "Epoch [82/1000], Loss: 0.009877224452793598\n",
            "Epoch [84/1000], Loss: 0.004121363628655672\n",
            "Epoch [86/1000], Loss: 0.01124823372811079\n",
            "Epoch [88/1000], Loss: 0.009246855974197388\n",
            "Epoch [90/1000], Loss: 0.010383878834545612\n",
            "Epoch [92/1000], Loss: 0.017134997993707657\n",
            "Epoch [94/1000], Loss: 0.01727662980556488\n",
            "Epoch [96/1000], Loss: 0.003388799959793687\n",
            "Epoch [98/1000], Loss: 0.0012805811129510403\n",
            "Epoch [100/1000], Loss: 0.01617000624537468\n",
            "Epoch [102/1000], Loss: 0.0028832689858973026\n",
            "Epoch [104/1000], Loss: 0.002117843134328723\n",
            "Epoch [106/1000], Loss: 0.0029495633207261562\n",
            "Epoch [108/1000], Loss: 0.008551275357604027\n",
            "self.ca_weight.shape torch.Size([512, 2])\n",
            "patience exceeded, loading best model\n",
            "self.ca_weight.shape torch.Size([512, 2])\n",
            "Epoch [2/1000], Loss: 0.6880049705505371\n",
            "Epoch [4/1000], Loss: 0.6436541080474854\n",
            "Epoch [6/1000], Loss: 0.6506041884422302\n",
            "Epoch [8/1000], Loss: 0.6535589098930359\n",
            "Epoch [10/1000], Loss: 0.6756433248519897\n",
            "Epoch [12/1000], Loss: 0.6824808716773987\n",
            "Epoch [14/1000], Loss: 0.6543309092521667\n",
            "Epoch [16/1000], Loss: 0.6062053442001343\n",
            "Epoch [18/1000], Loss: 0.3578030467033386\n",
            "Epoch [20/1000], Loss: 0.31598755717277527\n",
            "Epoch [22/1000], Loss: 0.36116766929626465\n",
            "Epoch [24/1000], Loss: 0.2923862338066101\n",
            "Epoch [26/1000], Loss: 0.20845694839954376\n",
            "Epoch [28/1000], Loss: 0.1279832124710083\n",
            "Epoch [30/1000], Loss: 0.15622621774673462\n",
            "Epoch [32/1000], Loss: 0.05790843069553375\n",
            "Epoch [34/1000], Loss: 0.16076061129570007\n",
            "Epoch [36/1000], Loss: 0.05692298337817192\n",
            "Epoch [38/1000], Loss: 0.03576868772506714\n",
            "Epoch [40/1000], Loss: 0.05931314453482628\n",
            "Epoch [42/1000], Loss: 0.02006768062710762\n",
            "Epoch [44/1000], Loss: 0.030002783983945847\n",
            "Epoch [46/1000], Loss: 0.032205723226070404\n",
            "Epoch [48/1000], Loss: 0.040669649839401245\n",
            "Epoch [50/1000], Loss: 0.01958010159432888\n",
            "Epoch [52/1000], Loss: 0.03842899948358536\n",
            "Epoch [54/1000], Loss: 0.00822298415005207\n",
            "Epoch [56/1000], Loss: 0.005918564740568399\n",
            "Epoch [58/1000], Loss: 0.0018667050171643496\n",
            "Epoch [60/1000], Loss: 0.013778755441308022\n",
            "Epoch [62/1000], Loss: 0.007728376891463995\n",
            "Epoch [64/1000], Loss: 0.022034043446183205\n",
            "self.ca_weight.shape torch.Size([512, 2])\n",
            "patience exceeded, loading best model\n",
            "self.ca_weight.shape torch.Size([512, 2])\n",
            "Epoch [2/1000], Loss: 0.6801590919494629\n",
            "Epoch [4/1000], Loss: 0.6523246169090271\n",
            "Epoch [6/1000], Loss: 0.6546604037284851\n",
            "Epoch [8/1000], Loss: 0.685783326625824\n",
            "Epoch [10/1000], Loss: 0.6805101037025452\n",
            "Epoch [12/1000], Loss: 0.661620557308197\n",
            "Epoch [14/1000], Loss: 0.6631743907928467\n",
            "Epoch [16/1000], Loss: 0.434128999710083\n",
            "Epoch [18/1000], Loss: 0.3514782190322876\n",
            "Epoch [20/1000], Loss: 0.46192681789398193\n",
            "Epoch [22/1000], Loss: 0.2222512811422348\n",
            "Epoch [24/1000], Loss: 0.2098928838968277\n",
            "Epoch [26/1000], Loss: 0.14293743669986725\n",
            "Epoch [28/1000], Loss: 0.13100583851337433\n",
            "Epoch [30/1000], Loss: 0.09890246391296387\n",
            "Epoch [32/1000], Loss: 0.06047092005610466\n",
            "Epoch [34/1000], Loss: 0.06281587481498718\n",
            "Epoch [36/1000], Loss: 0.0811435803771019\n",
            "Epoch [38/1000], Loss: 0.06707096844911575\n",
            "Epoch [40/1000], Loss: 0.029862163588404655\n",
            "Epoch [42/1000], Loss: 0.03602620214223862\n",
            "Epoch [44/1000], Loss: 0.012839975766837597\n",
            "Epoch [46/1000], Loss: 0.03093581274151802\n",
            "Epoch [48/1000], Loss: 0.02854657918214798\n",
            "Epoch [50/1000], Loss: 0.02464882656931877\n",
            "Epoch [52/1000], Loss: 0.012080412358045578\n",
            "Epoch [54/1000], Loss: 0.012111143209040165\n",
            "Epoch [56/1000], Loss: 0.011196417734026909\n",
            "Epoch [58/1000], Loss: 0.023886971175670624\n",
            "Epoch [60/1000], Loss: 0.011360282078385353\n",
            "self.ca_weight.shape torch.Size([512, 2])\n",
            "patience exceeded, loading best model\n",
            "self.ca_weight.shape torch.Size([512, 2])\n",
            "Epoch [2/1000], Loss: 0.6868895888328552\n",
            "Epoch [4/1000], Loss: 0.674397349357605\n",
            "Epoch [6/1000], Loss: 0.6813315749168396\n",
            "Epoch [8/1000], Loss: 0.6301496028900146\n",
            "Epoch [10/1000], Loss: 0.7060859203338623\n",
            "Epoch [12/1000], Loss: 0.7110854983329773\n",
            "Epoch [14/1000], Loss: 0.6704690456390381\n",
            "Epoch [16/1000], Loss: 0.4341047406196594\n",
            "Epoch [18/1000], Loss: 0.2752976417541504\n",
            "Epoch [20/1000], Loss: 0.3831712007522583\n",
            "Epoch [22/1000], Loss: 0.18475158512592316\n",
            "Epoch [24/1000], Loss: 0.23842798173427582\n",
            "Epoch [26/1000], Loss: 0.13785327970981598\n",
            "Epoch [28/1000], Loss: 0.13549241423606873\n",
            "Epoch [30/1000], Loss: 0.15023699402809143\n",
            "Epoch [32/1000], Loss: 0.15790723264217377\n",
            "Epoch [34/1000], Loss: 0.11423222720623016\n",
            "Epoch [36/1000], Loss: 0.11639585345983505\n",
            "Epoch [38/1000], Loss: 0.08917760848999023\n",
            "Epoch [40/1000], Loss: 0.06837914139032364\n",
            "Epoch [42/1000], Loss: 0.06124033406376839\n",
            "Epoch [44/1000], Loss: 0.04588651284575462\n",
            "Epoch [46/1000], Loss: 0.08081293851137161\n",
            "Epoch [48/1000], Loss: 0.018287600949406624\n",
            "Epoch [50/1000], Loss: 0.03557179495692253\n",
            "Epoch [52/1000], Loss: 0.036926522850990295\n",
            "Epoch [54/1000], Loss: 0.03769148886203766\n",
            "Epoch [56/1000], Loss: 0.03798216953873634\n",
            "Epoch [58/1000], Loss: 0.007296428084373474\n",
            "Epoch [60/1000], Loss: 0.013778767548501492\n",
            "Epoch [62/1000], Loss: 0.013280868530273438\n",
            "Epoch [64/1000], Loss: 0.019122298806905746\n",
            "Epoch [66/1000], Loss: 0.014089711010456085\n",
            "Epoch [68/1000], Loss: 0.004392439965158701\n",
            "Epoch [70/1000], Loss: 0.008206571452319622\n",
            "Epoch [72/1000], Loss: 0.004042485263198614\n",
            "Epoch [74/1000], Loss: 0.014835646376013756\n",
            "Epoch [76/1000], Loss: 0.00929518323391676\n",
            "Epoch [78/1000], Loss: 0.0074185561388731\n",
            "Epoch [80/1000], Loss: 0.010838501155376434\n",
            "Epoch [82/1000], Loss: 0.014253396540880203\n",
            "Epoch [84/1000], Loss: 0.00926840677857399\n",
            "Epoch [86/1000], Loss: 0.009507044218480587\n",
            "Epoch [88/1000], Loss: 0.010009841993451118\n",
            "Epoch [90/1000], Loss: 0.0039874836802482605\n",
            "self.ca_weight.shape torch.Size([512, 2])\n",
            "patience exceeded, loading best model\n",
            "self.ca_weight.shape torch.Size([513, 2])\n",
            "Epoch [2/1000], Loss: 0.6800981760025024\n",
            "Epoch [4/1000], Loss: 0.665924072265625\n",
            "Epoch [6/1000], Loss: 0.680854082107544\n",
            "Epoch [8/1000], Loss: 0.6407053470611572\n",
            "Epoch [10/1000], Loss: 0.6478846073150635\n",
            "Epoch [12/1000], Loss: 0.6442580223083496\n",
            "Epoch [14/1000], Loss: 0.6809344291687012\n",
            "Epoch [16/1000], Loss: 0.4223383069038391\n",
            "Epoch [18/1000], Loss: 0.2444111853837967\n",
            "Epoch [20/1000], Loss: 0.1766781061887741\n",
            "Epoch [22/1000], Loss: 0.301447331905365\n",
            "Epoch [24/1000], Loss: 0.1127239242196083\n",
            "Epoch [26/1000], Loss: 0.21562112867832184\n",
            "Epoch [28/1000], Loss: 0.10341433435678482\n",
            "Epoch [30/1000], Loss: 0.09136608242988586\n",
            "Epoch [32/1000], Loss: 0.04892832413315773\n",
            "Epoch [34/1000], Loss: 0.0883079320192337\n",
            "Epoch [36/1000], Loss: 0.07978129386901855\n",
            "Epoch [38/1000], Loss: 0.06658592075109482\n",
            "Epoch [40/1000], Loss: 0.03579598292708397\n",
            "Epoch [42/1000], Loss: 0.0335620678961277\n",
            "Epoch [44/1000], Loss: 0.02168058231472969\n",
            "Epoch [46/1000], Loss: 0.02278999797999859\n",
            "Epoch [48/1000], Loss: 0.023279523476958275\n",
            "Epoch [50/1000], Loss: 0.013193151913583279\n",
            "Epoch [52/1000], Loss: 0.00675005791708827\n",
            "Epoch [54/1000], Loss: 0.008959447965025902\n",
            "Epoch [56/1000], Loss: 0.017154302448034286\n",
            "Epoch [58/1000], Loss: 0.004925982095301151\n",
            "Epoch [60/1000], Loss: 0.012732353061437607\n",
            "Epoch [62/1000], Loss: 0.012760731391608715\n",
            "self.ca_weight.shape torch.Size([513, 2])\n",
            "patience exceeded, loading best model\n"
          ]
        }
      ]
    },
    {
      "cell_type": "code",
      "source": [
        "# Print average accuracy\n",
        "print(\"Average accuracy:\", np.mean(accuracies))\n",
        "print(np.mean(klmnn_accuracies))\n",
        "print(np.mean(knn_accuracies))"
      ],
      "metadata": {
        "id": "hp0VlYenhs7w",
        "colab": {
          "base_uri": "https://localhost:8080/"
        },
        "outputId": "b29bedb9-42b7-4f79-bef9-734df9b61a18"
      },
      "execution_count": null,
      "outputs": [
        {
          "output_type": "stream",
          "name": "stdout",
          "text": [
            "Average accuracy: 0.9683270676691729\n",
            "0.0\n",
            "0.4128446115288221\n"
          ]
        }
      ]
    },
    {
      "cell_type": "markdown",
      "metadata": {
        "id": "SMgwt-v5c49R"
      },
      "source": [
        "## Classification with train test loader"
      ]
    },
    {
      "cell_type": "markdown",
      "metadata": {
        "id": "VJBxiGuThMsp"
      },
      "source": [
        "TODO"
      ]
    },
    {
      "cell_type": "code",
      "execution_count": null,
      "metadata": {
        "id": "3AA83z3Oc8gb"
      },
      "outputs": [],
      "source": []
    },
    {
      "cell_type": "markdown",
      "metadata": {
        "id": "f2NnlWpVWqn6"
      },
      "source": [
        "##Standardize Regression Data sets"
      ]
    },
    {
      "cell_type": "code",
      "execution_count": null,
      "metadata": {
        "id": "6818C09SWst6"
      },
      "outputs": [],
      "source": [
        "# prompt: center and scale to normalize my Xs and ys\n",
        "\n",
        "def standardize_tensor(input_tensor):\n",
        "    mean = input_tensor.mean()\n",
        "    std = input_tensor.std()\n",
        "    standardized_tensor = (input_tensor - mean) / std\n",
        "    return standardized_tensor\n",
        "\n",
        "Xs = standardize_tensor(Xs)\n",
        "ys = standardize_tensor(ys)"
      ]
    },
    {
      "cell_type": "markdown",
      "metadata": {
        "id": "a_WVmie3JH9c"
      },
      "source": [
        "##Regression"
      ]
    },
    {
      "cell_type": "code",
      "execution_count": null,
      "metadata": {
        "id": "SPpxOXA2JJJe"
      },
      "outputs": [],
      "source": [
        "training_epochs = 1500\n",
        "learning_rate = 0.01 #0.0001 #0.01\n",
        "criterion = torch.nn.MSELoss()\n",
        "batch_size = 100\n",
        "\n",
        "fa_weight_sharing_within_segment = True\n",
        "fa_weight_sharing_between_segment = True\n",
        "ca_weight_sharing = True\n",
        "top_case_enabled = False\n",
        "hidden_layers = None\n",
        "top_k = 5\n",
        "class_weight_sharing = True\n",
        "nn_cdh_enabled = False\n",
        "\n",
        "patience = 40"
      ]
    },
    {
      "cell_type": "markdown",
      "metadata": {
        "id": "5r8m3pd6NMrl"
      },
      "source": [
        "This code below will attempt to use TPU"
      ]
    },
    {
      "cell_type": "code",
      "execution_count": null,
      "metadata": {
        "id": "4LWnNYJn2APf"
      },
      "outputs": [],
      "source": [
        "# import os\n",
        "# assert os.environ['COLAB_TPU_ADDR'], 'Make sure to select TPU from Edit > Notebook settings > Hardware accelerator'\n",
        "# !pip install cloud-tpu-client==0.10 torch==2.0.0 torchvision==0.15.1 https://storage.googleapis.com/tpu-pytorch/wheels/colab/torch_xla-2.0-cp310-cp310-linux_x86_64.whl\n",
        "# # imports pytorch\n",
        "# import torch\n",
        "\n",
        "# # imports the torch_xla package\n",
        "# import torch_xla\n",
        "# import torch_xla.core.xla_model as xm\n",
        "\n",
        "# dev = xm.xla_device()\n",
        "# Xs = Xs.to(dev)\n",
        "# ys = ys.to(dev)\n"
      ]
    },
    {
      "cell_type": "code",
      "execution_count": null,
      "metadata": {
        "id": "m5PloUp6JL3_",
        "colab": {
          "base_uri": "https://localhost:8080/"
        },
        "outputId": "6452a7f2-209b-47a9-fea5-8790808ef4bb"
      },
      "outputs": [
        {
          "output_type": "stream",
          "name": "stdout",
          "text": [
            "Epoch [2/1500], Loss: 0.5380368828773499\n",
            "Epoch [4/1500], Loss: 0.6111276149749756\n",
            "Epoch [6/1500], Loss: 0.46001067757606506\n",
            "Epoch [8/1500], Loss: 0.41264796257019043\n",
            "Epoch [10/1500], Loss: 0.45030689239501953\n",
            "Epoch [12/1500], Loss: 0.5843074321746826\n",
            "Epoch [14/1500], Loss: 0.4940412938594818\n",
            "Epoch [16/1500], Loss: 0.2602710425853729\n",
            "Epoch [18/1500], Loss: 0.4859312176704407\n",
            "Epoch [20/1500], Loss: 0.4066120982170105\n",
            "Epoch [22/1500], Loss: 0.6090803742408752\n",
            "Epoch [24/1500], Loss: 0.40855926275253296\n",
            "Epoch [26/1500], Loss: 0.2712518572807312\n",
            "Epoch [28/1500], Loss: 0.3194822371006012\n",
            "Epoch [30/1500], Loss: 0.38951370120048523\n",
            "Epoch [32/1500], Loss: 0.393422931432724\n",
            "Epoch [34/1500], Loss: 0.423280268907547\n",
            "Epoch [36/1500], Loss: 0.3997667729854584\n",
            "Epoch [38/1500], Loss: 0.48717761039733887\n",
            "Epoch [40/1500], Loss: 0.4000498056411743\n",
            "Epoch [42/1500], Loss: 0.4061751961708069\n",
            "Epoch [44/1500], Loss: 0.3863859176635742\n",
            "Epoch [46/1500], Loss: 0.36606475710868835\n",
            "Epoch [48/1500], Loss: 0.3012378513813019\n",
            "Epoch [50/1500], Loss: 0.4389488995075226\n",
            "Epoch [52/1500], Loss: 0.36305907368659973\n",
            "Epoch [54/1500], Loss: 0.4125908613204956\n",
            "Epoch [56/1500], Loss: 0.3640715479850769\n",
            "patience exceeded, loading best model\n",
            "Epoch [2/1500], Loss: 0.7018711566925049\n",
            "Epoch [4/1500], Loss: 0.6181589365005493\n",
            "Epoch [6/1500], Loss: 0.5821380019187927\n",
            "Epoch [8/1500], Loss: 0.38861969113349915\n",
            "Epoch [10/1500], Loss: 0.4768017828464508\n",
            "Epoch [12/1500], Loss: 0.45705345273017883\n",
            "Epoch [14/1500], Loss: 0.36609840393066406\n",
            "Epoch [16/1500], Loss: 0.48000824451446533\n",
            "Epoch [18/1500], Loss: 0.26289376616477966\n",
            "Epoch [20/1500], Loss: 0.49992820620536804\n",
            "Epoch [22/1500], Loss: 0.508272111415863\n",
            "Epoch [24/1500], Loss: 0.4231107234954834\n",
            "Epoch [26/1500], Loss: 0.43410903215408325\n",
            "Epoch [28/1500], Loss: 0.5603561997413635\n",
            "Epoch [30/1500], Loss: 0.6393336057662964\n",
            "Epoch [32/1500], Loss: 0.6629387140274048\n",
            "Epoch [34/1500], Loss: 0.620602548122406\n",
            "Epoch [36/1500], Loss: 0.5371745228767395\n",
            "Epoch [38/1500], Loss: 0.32212138175964355\n",
            "Epoch [40/1500], Loss: 0.4581158757209778\n",
            "Epoch [42/1500], Loss: 0.2807615101337433\n",
            "Epoch [44/1500], Loss: 0.4170908033847809\n",
            "Epoch [46/1500], Loss: 0.4100022614002228\n",
            "Epoch [48/1500], Loss: 0.40301093459129333\n",
            "Epoch [50/1500], Loss: 0.3516119718551636\n",
            "Epoch [52/1500], Loss: 0.3263484835624695\n",
            "Epoch [54/1500], Loss: 0.31605228781700134\n",
            "Epoch [56/1500], Loss: 0.30302682518959045\n",
            "Epoch [58/1500], Loss: 0.46406352519989014\n",
            "Epoch [60/1500], Loss: 0.3366944193840027\n",
            "Epoch [62/1500], Loss: 0.40994372963905334\n",
            "Epoch [64/1500], Loss: 0.33136433362960815\n",
            "Epoch [66/1500], Loss: 0.3379020392894745\n",
            "Epoch [68/1500], Loss: 0.4443715810775757\n",
            "Epoch [70/1500], Loss: 0.4725830554962158\n",
            "Epoch [72/1500], Loss: 0.2701190710067749\n",
            "Epoch [74/1500], Loss: 0.3727666139602661\n",
            "Epoch [76/1500], Loss: 0.4879944324493408\n",
            "Epoch [78/1500], Loss: 0.41730251908302307\n",
            "Epoch [80/1500], Loss: 0.3707214593887329\n",
            "Epoch [82/1500], Loss: 0.4227184057235718\n",
            "Epoch [84/1500], Loss: 0.45366746187210083\n",
            "Epoch [86/1500], Loss: 0.32761695981025696\n",
            "Epoch [88/1500], Loss: 0.45691773295402527\n",
            "Epoch [90/1500], Loss: 0.33739373087882996\n",
            "patience exceeded, loading best model\n",
            "Epoch [2/1500], Loss: 0.6873051524162292\n",
            "Epoch [4/1500], Loss: 0.6634993553161621\n",
            "Epoch [6/1500], Loss: 0.5102749466896057\n",
            "Epoch [8/1500], Loss: 0.49817216396331787\n",
            "Epoch [10/1500], Loss: 0.5473398566246033\n",
            "Epoch [12/1500], Loss: 0.2983763515949249\n",
            "Epoch [14/1500], Loss: 0.3997093439102173\n",
            "Epoch [16/1500], Loss: 0.32536080479621887\n",
            "Epoch [18/1500], Loss: 0.520746111869812\n",
            "Epoch [20/1500], Loss: 0.414199560880661\n",
            "Epoch [22/1500], Loss: 0.3153516948223114\n",
            "Epoch [24/1500], Loss: 0.45555737614631653\n",
            "Epoch [26/1500], Loss: 0.43628811836242676\n",
            "Epoch [28/1500], Loss: 0.37398087978363037\n",
            "Epoch [30/1500], Loss: 0.3891248404979706\n",
            "Epoch [32/1500], Loss: 0.4817500412464142\n",
            "Epoch [34/1500], Loss: 0.4164465069770813\n",
            "Epoch [36/1500], Loss: 0.23884254693984985\n",
            "Epoch [38/1500], Loss: 0.4187862277030945\n",
            "Epoch [40/1500], Loss: 0.29901522397994995\n",
            "Epoch [42/1500], Loss: 0.38570523262023926\n",
            "Epoch [44/1500], Loss: 0.7403723001480103\n",
            "Epoch [46/1500], Loss: 0.39061206579208374\n",
            "Epoch [48/1500], Loss: 0.36667782068252563\n",
            "Epoch [50/1500], Loss: 0.36437520384788513\n",
            "Epoch [52/1500], Loss: 0.5683388710021973\n",
            "Epoch [54/1500], Loss: 0.2621767222881317\n",
            "Epoch [56/1500], Loss: 0.4483153820037842\n",
            "Epoch [58/1500], Loss: 0.22804084420204163\n",
            "Epoch [60/1500], Loss: 0.30001431703567505\n",
            "Epoch [62/1500], Loss: 0.566839873790741\n",
            "Epoch [64/1500], Loss: 0.32392844557762146\n",
            "Epoch [66/1500], Loss: 0.2310427874326706\n",
            "Epoch [68/1500], Loss: 0.3526977598667145\n",
            "Epoch [70/1500], Loss: 0.35561156272888184\n",
            "Epoch [72/1500], Loss: 0.3968815505504608\n",
            "Epoch [74/1500], Loss: 0.5905104875564575\n",
            "Epoch [76/1500], Loss: 0.3934544324874878\n",
            "patience exceeded, loading best model\n",
            "Epoch [2/1500], Loss: 0.6217323541641235\n",
            "Epoch [4/1500], Loss: 0.7671574950218201\n",
            "Epoch [6/1500], Loss: 0.2733999192714691\n",
            "Epoch [8/1500], Loss: 0.4656637907028198\n",
            "Epoch [10/1500], Loss: 0.40019211173057556\n",
            "Epoch [12/1500], Loss: 0.3852357566356659\n",
            "Epoch [14/1500], Loss: 0.6141858100891113\n",
            "Epoch [16/1500], Loss: 0.28957024216651917\n",
            "Epoch [18/1500], Loss: 0.5803235769271851\n",
            "Epoch [20/1500], Loss: 0.2987404465675354\n",
            "Epoch [22/1500], Loss: 0.3808356821537018\n",
            "Epoch [24/1500], Loss: 0.4598974585533142\n",
            "Epoch [26/1500], Loss: 0.4489101469516754\n",
            "Epoch [28/1500], Loss: 0.4102562665939331\n",
            "Epoch [30/1500], Loss: 0.3385292887687683\n",
            "Epoch [32/1500], Loss: 0.37837547063827515\n",
            "Epoch [34/1500], Loss: 0.4771769642829895\n",
            "Epoch [36/1500], Loss: 0.43092238903045654\n",
            "Epoch [38/1500], Loss: 0.2785981297492981\n",
            "Epoch [40/1500], Loss: 0.3970893919467926\n",
            "Epoch [42/1500], Loss: 0.3880411386489868\n",
            "Epoch [44/1500], Loss: 0.334473192691803\n",
            "Epoch [46/1500], Loss: 0.2663355767726898\n",
            "Epoch [48/1500], Loss: 0.3430115580558777\n",
            "Epoch [50/1500], Loss: 0.5976723432540894\n",
            "Epoch [52/1500], Loss: 0.5059666037559509\n",
            "Epoch [54/1500], Loss: 0.41487666964530945\n",
            "Epoch [56/1500], Loss: 0.41975876688957214\n",
            "Epoch [58/1500], Loss: 0.32373929023742676\n",
            "Epoch [60/1500], Loss: 0.37324610352516174\n",
            "Epoch [62/1500], Loss: 0.24295303225517273\n",
            "Epoch [64/1500], Loss: 0.4508835971355438\n",
            "Epoch [66/1500], Loss: 0.45247364044189453\n",
            "Epoch [68/1500], Loss: 0.3404788076877594\n",
            "Epoch [70/1500], Loss: 0.3116147816181183\n",
            "Epoch [72/1500], Loss: 0.25878798961639404\n",
            "Epoch [74/1500], Loss: 0.3485972285270691\n",
            "patience exceeded, loading best model\n",
            "Epoch [2/1500], Loss: 0.8456861972808838\n",
            "Epoch [4/1500], Loss: 0.5031528472900391\n",
            "Epoch [6/1500], Loss: 0.5998574495315552\n",
            "Epoch [8/1500], Loss: 0.2886323034763336\n",
            "Epoch [10/1500], Loss: 0.3852097988128662\n",
            "Epoch [12/1500], Loss: 0.39469966292381287\n",
            "Epoch [14/1500], Loss: 0.3490975499153137\n",
            "Epoch [16/1500], Loss: 0.4357064366340637\n",
            "Epoch [18/1500], Loss: 0.6421581506729126\n",
            "Epoch [20/1500], Loss: 0.5254753828048706\n",
            "Epoch [22/1500], Loss: 0.2726876735687256\n",
            "Epoch [24/1500], Loss: 0.3745061755180359\n",
            "Epoch [26/1500], Loss: 0.39224737882614136\n",
            "Epoch [28/1500], Loss: 0.5710369944572449\n",
            "Epoch [30/1500], Loss: 0.36955687403678894\n",
            "Epoch [32/1500], Loss: 0.238025963306427\n",
            "Epoch [34/1500], Loss: 0.3498167395591736\n",
            "Epoch [36/1500], Loss: 0.3274477422237396\n",
            "Epoch [38/1500], Loss: 0.3816349506378174\n",
            "Epoch [40/1500], Loss: 0.35338154435157776\n",
            "Epoch [42/1500], Loss: 0.38703736662864685\n",
            "Epoch [44/1500], Loss: 0.3682880699634552\n",
            "Epoch [46/1500], Loss: 0.43696802854537964\n",
            "Epoch [48/1500], Loss: 0.39432787895202637\n",
            "Epoch [50/1500], Loss: 0.40066471695899963\n",
            "patience exceeded, loading best model\n",
            "Epoch [2/1500], Loss: 0.4837423264980316\n",
            "Epoch [4/1500], Loss: 0.503804624080658\n",
            "Epoch [6/1500], Loss: 0.625866174697876\n",
            "Epoch [8/1500], Loss: 0.3483692407608032\n",
            "Epoch [10/1500], Loss: 0.2739996016025543\n",
            "Epoch [12/1500], Loss: 0.5364883542060852\n",
            "Epoch [14/1500], Loss: 0.37278881669044495\n",
            "Epoch [16/1500], Loss: 0.40707075595855713\n",
            "Epoch [18/1500], Loss: 0.39456066489219666\n",
            "Epoch [20/1500], Loss: 0.4321250021457672\n",
            "Epoch [22/1500], Loss: 0.42120254039764404\n",
            "Epoch [24/1500], Loss: 0.47330915927886963\n",
            "Epoch [26/1500], Loss: 0.4761306047439575\n",
            "Epoch [28/1500], Loss: 0.4023410677909851\n",
            "Epoch [30/1500], Loss: 0.5022789239883423\n",
            "Epoch [32/1500], Loss: 0.861762285232544\n",
            "Epoch [34/1500], Loss: 0.4485802948474884\n",
            "Epoch [36/1500], Loss: 0.35056933760643005\n",
            "Epoch [38/1500], Loss: 0.5094842314720154\n",
            "Epoch [40/1500], Loss: 0.4034298062324524\n",
            "Epoch [42/1500], Loss: 0.4108445644378662\n",
            "Epoch [44/1500], Loss: 0.4010361135005951\n",
            "Epoch [46/1500], Loss: 0.4320339262485504\n",
            "Epoch [48/1500], Loss: 0.4500293731689453\n",
            "Epoch [50/1500], Loss: 0.4412985146045685\n",
            "Epoch [52/1500], Loss: 0.42688074707984924\n",
            "Epoch [54/1500], Loss: 0.39920684695243835\n",
            "Epoch [56/1500], Loss: 0.3718772530555725\n",
            "Epoch [58/1500], Loss: 0.4017102122306824\n",
            "Epoch [60/1500], Loss: 0.5096790790557861\n",
            "Epoch [62/1500], Loss: 0.34887245297431946\n",
            "Epoch [64/1500], Loss: 0.4730467200279236\n",
            "Epoch [66/1500], Loss: 0.34908145666122437\n",
            "Epoch [68/1500], Loss: 0.44336384534835815\n",
            "Epoch [70/1500], Loss: 0.38668957352638245\n",
            "Epoch [72/1500], Loss: 0.5547276139259338\n",
            "patience exceeded, loading best model\n",
            "Epoch [2/1500], Loss: 0.6080946922302246\n",
            "Epoch [4/1500], Loss: 0.7490417957305908\n",
            "Epoch [6/1500], Loss: 0.5259779095649719\n",
            "Epoch [8/1500], Loss: 0.32008418440818787\n",
            "Epoch [10/1500], Loss: 0.4348268210887909\n",
            "Epoch [12/1500], Loss: 0.467776894569397\n",
            "Epoch [14/1500], Loss: 0.35835835337638855\n",
            "Epoch [16/1500], Loss: 0.4778694808483124\n",
            "Epoch [18/1500], Loss: 0.439046174287796\n",
            "Epoch [20/1500], Loss: 0.4440544843673706\n",
            "Epoch [22/1500], Loss: 0.5165026187896729\n",
            "Epoch [24/1500], Loss: 0.336214154958725\n",
            "Epoch [26/1500], Loss: 0.6358001828193665\n",
            "Epoch [28/1500], Loss: 0.5176128149032593\n",
            "Epoch [30/1500], Loss: 0.5566521286964417\n",
            "Epoch [32/1500], Loss: 0.3708057105541229\n",
            "Epoch [34/1500], Loss: 0.5251696705818176\n",
            "Epoch [36/1500], Loss: 0.32161200046539307\n",
            "Epoch [38/1500], Loss: 0.35610252618789673\n",
            "Epoch [40/1500], Loss: 0.43906906247138977\n",
            "Epoch [42/1500], Loss: 0.2679547071456909\n",
            "Epoch [44/1500], Loss: 0.27328065037727356\n",
            "Epoch [46/1500], Loss: 0.48027634620666504\n",
            "Epoch [48/1500], Loss: 0.39703574776649475\n",
            "Epoch [50/1500], Loss: 0.3288300633430481\n",
            "Epoch [52/1500], Loss: 0.2506290674209595\n",
            "Epoch [54/1500], Loss: 0.567859947681427\n",
            "Epoch [56/1500], Loss: 0.4671834707260132\n",
            "Epoch [58/1500], Loss: 0.4513002038002014\n",
            "Epoch [60/1500], Loss: 0.3848079442977905\n",
            "Epoch [62/1500], Loss: 0.23157773911952972\n",
            "Epoch [64/1500], Loss: 0.5000068545341492\n",
            "Epoch [66/1500], Loss: 0.372731477022171\n",
            "Epoch [68/1500], Loss: 0.39459362626075745\n",
            "Epoch [70/1500], Loss: 0.2929563820362091\n",
            "Epoch [72/1500], Loss: 0.33933037519454956\n",
            "Epoch [74/1500], Loss: 0.26195916533470154\n",
            "Epoch [76/1500], Loss: 0.3986867666244507\n",
            "Epoch [78/1500], Loss: 0.4185522794723511\n",
            "Epoch [80/1500], Loss: 0.3666488230228424\n",
            "Epoch [82/1500], Loss: 0.4126461148262024\n",
            "Epoch [84/1500], Loss: 0.3176532983779907\n",
            "Epoch [86/1500], Loss: 0.3937164545059204\n",
            "Epoch [88/1500], Loss: 0.23962315917015076\n",
            "Epoch [90/1500], Loss: 0.32312819361686707\n",
            "Epoch [92/1500], Loss: 0.36162105202674866\n",
            "Epoch [94/1500], Loss: 0.29736462235450745\n",
            "Epoch [96/1500], Loss: 0.26710471510887146\n",
            "Epoch [98/1500], Loss: 0.31797048449516296\n",
            "Epoch [100/1500], Loss: 0.5063528418540955\n",
            "Epoch [102/1500], Loss: 0.5240944623947144\n",
            "Epoch [104/1500], Loss: 0.414208322763443\n",
            "Epoch [106/1500], Loss: 0.2168216109275818\n",
            "Epoch [108/1500], Loss: 0.27677837014198303\n",
            "Epoch [110/1500], Loss: 0.3282291889190674\n",
            "Epoch [112/1500], Loss: 0.23194539546966553\n",
            "Epoch [114/1500], Loss: 0.3356662690639496\n",
            "Epoch [116/1500], Loss: 0.22265352308750153\n",
            "Epoch [118/1500], Loss: 0.28352850675582886\n",
            "Epoch [120/1500], Loss: 0.3874632716178894\n",
            "Epoch [122/1500], Loss: 0.37572768330574036\n",
            "Epoch [124/1500], Loss: 0.3597434163093567\n",
            "Epoch [126/1500], Loss: 0.36932599544525146\n",
            "Epoch [128/1500], Loss: 0.3416857123374939\n",
            "Epoch [130/1500], Loss: 0.29261794686317444\n",
            "Epoch [132/1500], Loss: 0.4244701862335205\n",
            "Epoch [134/1500], Loss: 0.3506906032562256\n",
            "Epoch [136/1500], Loss: 0.2848148047924042\n",
            "Epoch [138/1500], Loss: 0.3694651126861572\n",
            "Epoch [140/1500], Loss: 0.38094428181648254\n",
            "Epoch [142/1500], Loss: 0.29713156819343567\n",
            "Epoch [144/1500], Loss: 0.35560256242752075\n",
            "Epoch [146/1500], Loss: 0.2204858660697937\n",
            "Epoch [148/1500], Loss: 0.4399767220020294\n",
            "Epoch [150/1500], Loss: 0.3695317506790161\n",
            "Epoch [152/1500], Loss: 0.39296409487724304\n",
            "Epoch [154/1500], Loss: 0.2726203203201294\n",
            "Epoch [156/1500], Loss: 0.6026484966278076\n",
            "Epoch [158/1500], Loss: 0.5389425158500671\n",
            "Epoch [160/1500], Loss: 0.4211116135120392\n",
            "Epoch [162/1500], Loss: 0.3282417356967926\n",
            "Epoch [164/1500], Loss: 0.2233956754207611\n",
            "Epoch [166/1500], Loss: 0.3312373757362366\n",
            "Epoch [168/1500], Loss: 0.3319539725780487\n",
            "Epoch [170/1500], Loss: 0.6147711873054504\n",
            "Epoch [172/1500], Loss: 0.35800740122795105\n",
            "Epoch [174/1500], Loss: 0.29828354716300964\n",
            "Epoch [176/1500], Loss: 0.4155305027961731\n",
            "Epoch [178/1500], Loss: 0.28041398525238037\n",
            "Epoch [180/1500], Loss: 0.36058375239372253\n",
            "Epoch [182/1500], Loss: 0.3152806758880615\n",
            "Epoch [184/1500], Loss: 0.43006500601768494\n",
            "Epoch [186/1500], Loss: 0.2780895233154297\n",
            "Epoch [188/1500], Loss: 0.339821994304657\n",
            "Epoch [190/1500], Loss: 0.2820630967617035\n",
            "Epoch [192/1500], Loss: 0.25904542207717896\n",
            "Epoch [194/1500], Loss: 0.31460192799568176\n",
            "Epoch [196/1500], Loss: 0.5572875738143921\n",
            "Epoch [198/1500], Loss: 0.28046169877052307\n",
            "Epoch [200/1500], Loss: 0.30845314264297485\n",
            "Epoch [202/1500], Loss: 0.28292763233184814\n",
            "Epoch [204/1500], Loss: 0.23070506751537323\n",
            "Epoch [206/1500], Loss: 0.4390316903591156\n",
            "Epoch [208/1500], Loss: 0.4045945405960083\n",
            "Epoch [210/1500], Loss: 0.4728456735610962\n",
            "Epoch [212/1500], Loss: 0.447174996137619\n",
            "Epoch [214/1500], Loss: 0.2645476460456848\n",
            "patience exceeded, loading best model\n",
            "Epoch [2/1500], Loss: 0.4695253372192383\n",
            "Epoch [4/1500], Loss: 0.6411500573158264\n",
            "Epoch [6/1500], Loss: 0.4427439868450165\n",
            "Epoch [8/1500], Loss: 0.56630539894104\n",
            "Epoch [10/1500], Loss: 0.4572514593601227\n",
            "Epoch [12/1500], Loss: 0.35992196202278137\n",
            "Epoch [14/1500], Loss: 0.33813294768333435\n",
            "Epoch [16/1500], Loss: 0.39554184675216675\n",
            "Epoch [18/1500], Loss: 0.5486133098602295\n",
            "Epoch [20/1500], Loss: 0.33050310611724854\n",
            "Epoch [22/1500], Loss: 0.41133788228034973\n",
            "Epoch [24/1500], Loss: 0.3423631191253662\n",
            "Epoch [26/1500], Loss: 0.43246951699256897\n",
            "Epoch [28/1500], Loss: 0.4893202483654022\n",
            "Epoch [30/1500], Loss: 0.5157284736633301\n",
            "Epoch [32/1500], Loss: 0.37252482771873474\n",
            "Epoch [34/1500], Loss: 0.43884509801864624\n",
            "Epoch [36/1500], Loss: 0.43409737944602966\n",
            "Epoch [38/1500], Loss: 0.5422880053520203\n",
            "Epoch [40/1500], Loss: 0.4415327310562134\n",
            "Epoch [42/1500], Loss: 0.48730286955833435\n",
            "Epoch [44/1500], Loss: 0.31535670161247253\n",
            "Epoch [46/1500], Loss: 0.30725303292274475\n",
            "Epoch [48/1500], Loss: 0.44902193546295166\n",
            "Epoch [50/1500], Loss: 0.3891737461090088\n",
            "Epoch [52/1500], Loss: 0.4702151417732239\n",
            "Epoch [54/1500], Loss: 0.2584986984729767\n",
            "Epoch [56/1500], Loss: 0.3730449974536896\n",
            "Epoch [58/1500], Loss: 0.3757908344268799\n",
            "Epoch [60/1500], Loss: 0.3264924883842468\n",
            "Epoch [62/1500], Loss: 0.45245957374572754\n",
            "Epoch [64/1500], Loss: 0.4422670304775238\n",
            "Epoch [66/1500], Loss: 0.3295988142490387\n",
            "Epoch [68/1500], Loss: 0.36071574687957764\n",
            "Epoch [70/1500], Loss: 0.39471501111984253\n",
            "Epoch [72/1500], Loss: 0.5005013942718506\n",
            "Epoch [74/1500], Loss: 0.35103103518486023\n",
            "Epoch [76/1500], Loss: 0.5491222739219666\n",
            "Epoch [78/1500], Loss: 0.44730743765830994\n",
            "Epoch [80/1500], Loss: 0.38324347138404846\n",
            "Epoch [82/1500], Loss: 0.5170480608940125\n",
            "Epoch [84/1500], Loss: 0.302341490983963\n",
            "Epoch [86/1500], Loss: 0.4715246856212616\n",
            "Epoch [88/1500], Loss: 0.26223546266555786\n",
            "Epoch [90/1500], Loss: 0.3715764582157135\n",
            "Epoch [92/1500], Loss: 0.30178549885749817\n",
            "Epoch [94/1500], Loss: 0.28583863377571106\n",
            "Epoch [96/1500], Loss: 0.3233654797077179\n",
            "Epoch [98/1500], Loss: 0.32428935170173645\n",
            "Epoch [100/1500], Loss: 0.34161457419395447\n",
            "Epoch [102/1500], Loss: 0.35594412684440613\n",
            "Epoch [104/1500], Loss: 0.45919087529182434\n",
            "Epoch [106/1500], Loss: 0.4121064841747284\n",
            "Epoch [108/1500], Loss: 0.3536776304244995\n",
            "Epoch [110/1500], Loss: 0.32004401087760925\n",
            "Epoch [112/1500], Loss: 0.3403865396976471\n",
            "Epoch [114/1500], Loss: 0.34885334968566895\n",
            "Epoch [116/1500], Loss: 0.31690797209739685\n",
            "Epoch [118/1500], Loss: 0.45106929540634155\n",
            "Epoch [120/1500], Loss: 0.40331095457077026\n",
            "Epoch [122/1500], Loss: 0.3033389151096344\n",
            "Epoch [124/1500], Loss: 0.5258776545524597\n",
            "Epoch [126/1500], Loss: 0.26679670810699463\n",
            "patience exceeded, loading best model\n",
            "Epoch [2/1500], Loss: 0.5117284655570984\n",
            "Epoch [4/1500], Loss: 0.6567477583885193\n",
            "Epoch [6/1500], Loss: 0.3551965057849884\n",
            "Epoch [8/1500], Loss: 0.29039764404296875\n",
            "Epoch [10/1500], Loss: 0.45560944080352783\n",
            "Epoch [12/1500], Loss: 0.40293818712234497\n",
            "Epoch [14/1500], Loss: 0.4271939992904663\n",
            "Epoch [16/1500], Loss: 0.3868785500526428\n",
            "Epoch [18/1500], Loss: 0.5515918135643005\n",
            "Epoch [20/1500], Loss: 0.26924172043800354\n",
            "Epoch [22/1500], Loss: 0.5160329937934875\n",
            "Epoch [24/1500], Loss: 0.42549410462379456\n",
            "Epoch [26/1500], Loss: 0.4249167740345001\n",
            "Epoch [28/1500], Loss: 0.44343888759613037\n",
            "Epoch [30/1500], Loss: 0.2422911822795868\n",
            "Epoch [32/1500], Loss: 0.4904458522796631\n",
            "Epoch [34/1500], Loss: 0.3815133571624756\n",
            "Epoch [36/1500], Loss: 0.3136066198348999\n",
            "Epoch [38/1500], Loss: 0.3075559437274933\n",
            "Epoch [40/1500], Loss: 0.3900313079357147\n",
            "Epoch [42/1500], Loss: 0.578701376914978\n",
            "Epoch [44/1500], Loss: 0.3447025418281555\n",
            "Epoch [46/1500], Loss: 0.2816917896270752\n",
            "Epoch [48/1500], Loss: 0.4238389730453491\n",
            "Epoch [50/1500], Loss: 0.32074469327926636\n",
            "Epoch [52/1500], Loss: 0.5264472365379333\n",
            "Epoch [54/1500], Loss: 0.4389062523841858\n",
            "Epoch [56/1500], Loss: 0.3495626151561737\n",
            "Epoch [58/1500], Loss: 0.18633650243282318\n",
            "Epoch [60/1500], Loss: 0.4935285449028015\n",
            "Epoch [62/1500], Loss: 0.3378984332084656\n",
            "Epoch [64/1500], Loss: 0.319082647562027\n",
            "Epoch [66/1500], Loss: 0.5039014220237732\n",
            "Epoch [68/1500], Loss: 0.3051944971084595\n",
            "Epoch [70/1500], Loss: 0.3110760450363159\n",
            "Epoch [72/1500], Loss: 0.2495448738336563\n",
            "Epoch [74/1500], Loss: 0.392161101102829\n",
            "Epoch [76/1500], Loss: 0.3717881739139557\n",
            "Epoch [78/1500], Loss: 0.3835393786430359\n",
            "Epoch [80/1500], Loss: 0.42128846049308777\n",
            "Epoch [82/1500], Loss: 0.2426930069923401\n",
            "Epoch [84/1500], Loss: 0.4020458161830902\n",
            "Epoch [86/1500], Loss: 0.5564472675323486\n",
            "Epoch [88/1500], Loss: 0.3931026756763458\n",
            "Epoch [90/1500], Loss: 0.2758154571056366\n",
            "Epoch [92/1500], Loss: 0.3573056757450104\n",
            "Epoch [94/1500], Loss: 0.3457059860229492\n",
            "Epoch [96/1500], Loss: 0.4423174560070038\n",
            "Epoch [98/1500], Loss: 0.33007147908210754\n",
            "Epoch [100/1500], Loss: 0.36348384618759155\n",
            "Epoch [102/1500], Loss: 0.4303658604621887\n",
            "Epoch [104/1500], Loss: 0.3339208960533142\n",
            "patience exceeded, loading best model\n",
            "Epoch [2/1500], Loss: 0.7878524661064148\n",
            "Epoch [4/1500], Loss: 0.3397367596626282\n",
            "Epoch [6/1500], Loss: 0.7120708227157593\n",
            "Epoch [8/1500], Loss: 0.35408806800842285\n",
            "Epoch [10/1500], Loss: 0.3538721799850464\n",
            "Epoch [12/1500], Loss: 0.3693093955516815\n",
            "Epoch [14/1500], Loss: 0.362102746963501\n",
            "Epoch [16/1500], Loss: 0.4242393970489502\n",
            "Epoch [18/1500], Loss: 0.3618650734424591\n",
            "Epoch [20/1500], Loss: 0.6057490110397339\n",
            "Epoch [22/1500], Loss: 0.2963857054710388\n",
            "Epoch [24/1500], Loss: 0.3533530533313751\n",
            "Epoch [26/1500], Loss: 0.42521464824676514\n",
            "Epoch [28/1500], Loss: 0.3544292747974396\n",
            "Epoch [30/1500], Loss: 0.3659311532974243\n",
            "Epoch [32/1500], Loss: 0.33128422498703003\n",
            "Epoch [34/1500], Loss: 0.45514845848083496\n",
            "Epoch [36/1500], Loss: 0.6078983545303345\n",
            "Epoch [38/1500], Loss: 0.358494371175766\n",
            "Epoch [40/1500], Loss: 0.17336179316043854\n",
            "Epoch [42/1500], Loss: 0.4272255599498749\n",
            "Epoch [44/1500], Loss: 0.3407439887523651\n",
            "Epoch [46/1500], Loss: 0.44036614894866943\n",
            "Epoch [48/1500], Loss: 0.4577990472316742\n",
            "Epoch [50/1500], Loss: 0.45378416776657104\n",
            "Epoch [52/1500], Loss: 0.26747581362724304\n",
            "Epoch [54/1500], Loss: 0.36497974395751953\n",
            "Epoch [56/1500], Loss: 0.36583060026168823\n",
            "Epoch [58/1500], Loss: 0.3076859712600708\n",
            "Epoch [60/1500], Loss: 0.3105652332305908\n",
            "Epoch [62/1500], Loss: 0.42669883370399475\n",
            "Epoch [64/1500], Loss: 0.5163730382919312\n",
            "Epoch [66/1500], Loss: 0.583454966545105\n",
            "Epoch [68/1500], Loss: 0.3854103088378906\n",
            "Epoch [70/1500], Loss: 0.6874673366546631\n",
            "Epoch [72/1500], Loss: 0.4905873239040375\n",
            "Epoch [74/1500], Loss: 0.4036717116832733\n",
            "Epoch [76/1500], Loss: 0.5650222301483154\n",
            "Epoch [78/1500], Loss: 0.36805903911590576\n",
            "Epoch [80/1500], Loss: 0.3480692207813263\n",
            "Epoch [82/1500], Loss: 0.49292197823524475\n",
            "Epoch [84/1500], Loss: 0.5119657516479492\n",
            "Epoch [86/1500], Loss: 0.6113995313644409\n",
            "Epoch [88/1500], Loss: 0.483402818441391\n",
            "Epoch [90/1500], Loss: 0.3443199098110199\n",
            "Epoch [92/1500], Loss: 0.3038593530654907\n",
            "Epoch [94/1500], Loss: 0.2518622577190399\n",
            "Epoch [96/1500], Loss: 0.2993658781051636\n",
            "Epoch [98/1500], Loss: 0.23797163367271423\n",
            "Epoch [100/1500], Loss: 0.42234116792678833\n",
            "Epoch [102/1500], Loss: 0.35856398940086365\n",
            "Epoch [104/1500], Loss: 0.3440913259983063\n",
            "Epoch [106/1500], Loss: 0.4223463833332062\n",
            "Epoch [108/1500], Loss: 0.44223037362098694\n",
            "Epoch [110/1500], Loss: 0.35895344614982605\n",
            "Epoch [112/1500], Loss: 0.222469761967659\n",
            "Epoch [114/1500], Loss: 0.33912914991378784\n",
            "Epoch [116/1500], Loss: 0.39697209000587463\n",
            "patience exceeded, loading best model\n",
            "Average accuracy: 0.42697263\n",
            "Average top_k_average_accuracies 0.8529457\n"
          ]
        }
      ],
      "source": [
        "# prompt: train and test my model on the Xs and ys in a 10 fold cross validation\n",
        "from sklearn.neighbors import KNeighborsRegressor\n",
        "\n",
        "from sklearn.metrics import mean_squared_error\n",
        "from sklearn.preprocessing import StandardScaler\n",
        "\n",
        "# Split data into 10 folds\n",
        "k_fold = KFold(n_splits=10, shuffle = True,random_state = None)\n",
        "# Scale data, not enabled right now.\n",
        "# scaler = StandardScaler()\n",
        "# scaler.fit(Xs)\n",
        "# Xs = scaler.transform(Xs)\n",
        "\n",
        "# Train and test model on each fold\n",
        "best_model = None\n",
        "PATH = 'best_regressor_model.h5'\n",
        "best_accuracy = None\n",
        "best_accuracies = []\n",
        "accuracies = []\n",
        "top_k_average_accuracies = []\n",
        "knn_accuracies = []\n",
        "count = 0\n",
        "for train_index, test_index in k_fold.split(Xs):\n",
        "  # Get training and testing data\n",
        "  X_train, X_test = Xs[train_index], Xs[test_index]\n",
        "  y_train, y_test = ys[train_index], ys[test_index]\n",
        "\n",
        "  # lmnn = metric_learn.MLKR()\n",
        "  # lmnn.fit(X_train,y_train)\n",
        "  # knn = KNeighborsRegressor(n_neighbors=5,metric=lmnn.get_metric())\n",
        "  # knn.fit(X_train,y_train)\n",
        "  # knn_accuracies.append( accuracy_score(knn.predict(X_test), y_test))\n",
        "\n",
        "  # continue\n",
        "\n",
        "  #build a train loader with my X_train and X_test\n",
        "  train_loader = torch.utils.data.DataLoader(torch.utils.data.TensorDataset(X_train, y_train), batch_size=batch_size, shuffle=True)\n",
        "\n",
        "  # Train model\n",
        "  model = NN_k_NN_regression(X_train, y_train,\n",
        "               fa_weight_sharing_within_segment,\n",
        "               fa_weight_sharing_between_segment,\n",
        "               ca_weight_sharing,\n",
        "               top_case_enabled, top_k,\n",
        "               class_weight_sharing,\n",
        "                             hidden_layers)\n",
        "  # model = model.to(dev)\n",
        "  # print(\"number of parameters in model: \",len(list(model.parameters())))\n",
        "  # optimizer = torch.optim.SGD(model.parameters(), lr=learning_rate)\n",
        "  optimizer = torch.optim.Adam(model.parameters(), lr=learning_rate) #, weight_decay=1e-5)\n",
        "  # print_model_features(model)\n",
        "  #Training loop\n",
        "  patience_counter = 0\n",
        "  for epoch in range(training_epochs):\n",
        "    # break # no training\n",
        "    epoch_msg = True\n",
        "    for X_train_batch, y_train_batch in train_loader:\n",
        "      # print(\"training\")\n",
        "      ##DO NOT USE train() or eval() mode for regression\n",
        "      ##top k selection will mess up the final layer output\n",
        "      ##unlike in classification, each case's output is meaningful\n",
        "      ##here in regresion, the collective output is meaningful.\n",
        "      ## So if you topK case selection needs to be enabled or disabled the whole time.\n",
        "      model.train()\n",
        "      feature_activations, case_activations, output, predicted_number = model(X_train_batch)\n",
        "      # break\n",
        "      loss = criterion(predicted_number.squeeze(), y_train_batch)\n",
        "      # Backward and optimize\n",
        "      optimizer.zero_grad()\n",
        "      loss.backward()\n",
        "      optimizer.step()\n",
        "      if epoch_msg and (epoch + 1) % 2 == 0:\n",
        "        epoch_msg = False\n",
        "        print(f'Epoch [{epoch + 1}/{training_epochs}], Loss: {loss.item()}')\n",
        "        #inspecting the case activations\n",
        "        # top_case_indices = torch.topk(case_activations, 5, dim=1)[1]\n",
        "        # print(top_case_indices)\n",
        "    # print(\"evaluating\")\n",
        "    # break\n",
        "\n",
        "    model.eval()\n",
        "    with torch.no_grad():\n",
        "      feature_activations, case_activations, output, predicted_number = model(X_test)\n",
        "\n",
        "    # inspecting the case activations\n",
        "    # top_case_indices = torch.topk(case_activations, 5, dim=1)[1]\n",
        "    # print(top_case_indices)\n",
        "\n",
        "    # Calculate accuracy\n",
        "    # accuracy_temp = mean_squared_error(y_test, predicted_number.squeeze().detach())\n",
        "    accuracy_temp = criterion(y_test, predicted_number.squeeze().detach())\n",
        "    if epoch == 0:\n",
        "      best_accuracy = accuracy_temp\n",
        "      torch.save(model.state_dict(), PATH)\n",
        "    elif accuracy_temp < best_accuracy:\n",
        "      #memorize best model\n",
        "      torch.save(model.state_dict(), PATH)\n",
        "\n",
        "      best_accuracy = accuracy_temp\n",
        "      patience_counter = 0\n",
        "    elif patience_counter > patience:\n",
        "      model = NN_k_NN_regression(X_train, y_train,\n",
        "               fa_weight_sharing_within_segment,\n",
        "               fa_weight_sharing_between_segment,\n",
        "               ca_weight_sharing,\n",
        "               top_case_enabled, top_k,\n",
        "               class_weight_sharing)\n",
        "      model.load_state_dict(torch.load(PATH))\n",
        "      model.eval()\n",
        "      print(\"patience exceeded, loading best model\")\n",
        "      break\n",
        "    else:\n",
        "      patience_counter += 1\n",
        "    # temp.append(accuracy_temp)\n",
        "    # if len(temp) > patience and accuracy_temp > min(temp[-patience:]):\n",
        "    #   ##patience runs out\n",
        "    #   break\n",
        "  # best_accuracies.append(min(temp))\n",
        "  best_accuracies.append(best_accuracy)\n",
        "\n",
        "  # print(\"testing\")\n",
        "  # print_model_features(model)\n",
        "  # Test model\n",
        "  feature_activations, case_activations, output, predicted_number = model(X_test)\n",
        "\n",
        "  #inspecting the case activations\n",
        "  top_case_indices = torch.topk(case_activations, 5, dim=1)[1]\n",
        "  # print(top_case_indices)\n",
        "\n",
        "  # Using top case solution as final solution\n",
        "  # Calculate accuracy\n",
        "  # accuracy = mean_squared_error(y_test, predicted_number)\n",
        "  accuracy = criterion(y_test, predicted_number.squeeze())\n",
        "  # Add accuracy to list\n",
        "  accuracies.append(accuracy)\n",
        "\n",
        "  top_k_average_accuracies.append(mean_squared_error(torch.mean(y_train[top_case_indices], dim=1),\n",
        "                                                     y_test))\n",
        "\n",
        "  ##compare with a normal k-nn\n",
        "  knn =  KNeighborsRegressor(n_neighbors=top_k)\n",
        "  knn.fit(X_train, y_train)\n",
        "  knn_accuracies.append( mean_squared_error(knn.predict(X_test), y_test))\n",
        "\n",
        "  # break\n",
        "  # count += 1\n",
        "  # if count == 5:\n",
        "  #   break\n",
        "\n",
        "# Print average accuracy\n",
        "# print(\"Average accuracy:\", np.mean(accuracies.detach().numpy()))\n",
        "print(\"Average accuracy:\", np.mean([acc.detach().numpy() for acc in accuracies]))\n",
        "\n",
        "# print(\"Average top_k_average_accuracies\", np.mean(top_k_average_accuracies))\n",
        "print(\"Average top_k_average_accuracies\", np.mean(top_k_average_accuracies))\n",
        "# torch.cat(torch.mean(top_k_average_accuracies)).item())"
      ]
    },
    {
      "cell_type": "code",
      "source": [
        "print(np.mean(knn_accuracies))"
      ],
      "metadata": {
        "id": "smeb3Z1O2RRP",
        "colab": {
          "base_uri": "https://localhost:8080/"
        },
        "outputId": "edeb4afe-d4bf-485b-8e7a-b3a4d884edd6"
      },
      "execution_count": null,
      "outputs": [
        {
          "output_type": "stream",
          "name": "stdout",
          "text": [
            "0.4803648\n"
          ]
        }
      ]
    },
    {
      "cell_type": "code",
      "execution_count": null,
      "metadata": {
        "id": "1kiHFacefPBC",
        "colab": {
          "base_uri": "https://localhost:8080/"
        },
        "outputId": "47aee1d5-e19b-46b8-fa27-a32731626737"
      },
      "outputs": [
        {
          "output_type": "execute_result",
          "data": {
            "text/plain": [
              "torch.Size([10])"
            ]
          },
          "metadata": {},
          "execution_count": 40
        }
      ],
      "source": [
        "X_train[0].size()"
      ]
    },
    {
      "cell_type": "code",
      "execution_count": null,
      "metadata": {
        "id": "shTwkGdc2bDV"
      },
      "outputs": [],
      "source": [
        "# top_k_average_accuracies.append(mean_squared_error(torch.mean(y_train[top_case_indices], dim=1),\n",
        "#                                                      y_test))"
      ]
    },
    {
      "cell_type": "code",
      "execution_count": null,
      "metadata": {
        "id": "guA1k-Fd490p",
        "colab": {
          "base_uri": "https://localhost:8080/"
        },
        "outputId": "88c362c9-4816-480b-e21e-cd65c73a377f"
      },
      "outputs": [
        {
          "output_type": "execute_result",
          "data": {
            "text/plain": [
              "device(type='cpu')"
            ]
          },
          "metadata": {},
          "execution_count": 42
        }
      ],
      "source": [
        "predicted_number.device"
      ]
    },
    {
      "cell_type": "code",
      "execution_count": null,
      "metadata": {
        "id": "muGHh0IpcSF7",
        "colab": {
          "base_uri": "https://localhost:8080/"
        },
        "outputId": "bdfd024c-118a-4d22-bdc2-d4541a18f0eb"
      },
      "outputs": [
        {
          "output_type": "execute_result",
          "data": {
            "text/plain": [
              "tensor([-0.9792, -0.4128, -0.5223,  0.6196,  0.0159,  0.1886,  0.1584,  0.7702,\n",
              "         0.5717,  0.8601,  0.5000, -0.0822,  0.0110,  1.3116,  1.2979,  0.5427,\n",
              "         0.1696,  0.8904, -0.7151, -0.6171,  0.6625, -1.3483,  0.1151, -1.4584,\n",
              "        -0.4694,  1.7975,  1.1913,  1.1509,  1.2303,  0.1610,  0.9336,  0.3741,\n",
              "         0.4592,  0.3835,  1.6024,  1.2535,  0.2925,  0.4133,  0.5119, -0.7664,\n",
              "         1.0422,  1.0946,  1.6598,  0.3048,  1.2885, -0.1864, -0.2541, -0.2693,\n",
              "        -0.3201, -0.6668,  0.8749,  0.5075,  0.4138, -0.3991, -0.3158, -0.3661,\n",
              "        -0.5243, -1.7325, -0.1869, -0.6002, -0.6069, -0.1109,  0.0723,  0.2147,\n",
              "         0.7042, -1.8926,  1.1591,  1.8327, -0.1121,  0.0377,  0.6198,  1.1728,\n",
              "         1.3388,  1.6657,  0.8525,  0.8914,  0.8506, -0.3312, -0.0271,  1.6513,\n",
              "        -0.5845,  0.2124,  0.5536, -0.3095, -0.0584,  1.2706,  0.2393,  0.5529,\n",
              "        -1.5109, -1.1205, -0.9736, -1.0065, -0.9713, -0.8817, -0.9582, -0.7773,\n",
              "        -0.6953, -0.1028,  0.1769, -0.1665,  0.0631, -0.0434,  0.3288,  0.2494,\n",
              "         0.8260,  0.0367,  0.4008,  0.5197,  0.1621, -1.7227, -1.1375, -0.7662,\n",
              "        -0.5308, -0.3378, -0.5790, -0.2624, -0.5187, -0.1017,  0.0658, -0.2220,\n",
              "        -0.2173,  0.2011, -0.2505, -0.0968, -0.1547, -0.2334, -0.0711, -0.0155,\n",
              "         0.1019,  0.5232,  0.5905, -0.9560, -0.8700, -0.9069, -0.9304, -0.8557,\n",
              "        -0.6254,  0.0951, -0.4402, -0.2120, -0.0920, -0.3131, -0.3667,  0.0853,\n",
              "         0.2201, -0.0322, -0.2022,  0.3808, -0.1332, -0.0123,  0.0047,  0.3335,\n",
              "         0.3474,  0.1565,  0.2196,  0.4720,  0.4772, -0.3356, -0.5413, -0.3787,\n",
              "         0.0915,  0.0060,  0.1000,  0.5251, -0.9157, -0.7029, -0.7519, -0.5615,\n",
              "        -0.4039, -0.3420, -0.3649,  0.0879,  0.6138,  0.0742, -0.1739,  0.2990,\n",
              "        -0.2711, -0.3383, -0.0826, -0.0704, -0.0175, -0.0663,  0.0498,  0.2253,\n",
              "         0.5302,  0.3228,  0.3672, -1.0577, -0.3676, -0.1262,  0.3032, -0.3826,\n",
              "        -0.0540,  0.3207,  0.3881, -0.2423,  0.2854,  0.2389, -0.1004, -0.1671,\n",
              "         0.1916,  0.2901,  0.0534,  0.3002,  0.5045,  0.3208, -0.2496, -0.8705,\n",
              "        -0.8260, -0.2144,  0.0000, -0.6730,  0.0431, -0.3867, -0.4199, -0.0027,\n",
              "         0.8155, -0.0574, -0.5622, -0.1659, -1.2700,  2.1416,  1.4018,  1.5072,\n",
              "        -1.0732,  1.2467, -0.2696,  0.6901,  0.8471,  0.9827, -0.0739,  1.2602,\n",
              "         1.0632,  0.1440,  1.3166,  0.6749,  1.6885,  0.0313, -0.6534,  0.9025,\n",
              "         1.2200,  0.0812,  1.8744,  1.4282,  0.4272, -0.0956, -0.6358,  0.4021,\n",
              "        -0.4117,  1.1554, -0.6853, -0.0930,  0.1284, -0.5847,  1.7322, -0.9339,\n",
              "         0.9577,  0.7230, -1.1728, -0.7575, -0.6353,  0.6463,  0.4825, -1.3311,\n",
              "        -0.7106, -0.3516, -0.1127,  0.1889,  0.7960,  1.1591,  0.6495, -1.0416,\n",
              "        -0.8066, -0.4283,  0.1228, -0.2343, -0.1445,  0.1304,  0.1102,  0.1633,\n",
              "        -1.7126, -0.8554, -0.5998, -0.3925, -0.4722,  0.0189, -0.4858,  0.0310,\n",
              "        -0.6845, -0.3380, -0.1156,  0.0965,  0.1343,  0.1066,  0.1713,  0.3134,\n",
              "         0.1526, -0.3403, -0.0929,  0.1662,  1.3149, -1.4851, -0.9221, -0.8693,\n",
              "        -0.8741, -0.7067,  0.2146,  0.9773, -0.0060,  0.1108,  0.8533, -0.3339,\n",
              "        -0.0226,  0.1203, -0.0681, -0.0629,  0.2581,  1.8652,  0.3369, -0.3996,\n",
              "         0.1136,  0.0563,  0.0664,  0.2759,  0.1501,  1.1568,  0.8765,  0.4100,\n",
              "         1.6227, -1.1050,  0.1726,  1.5967,  0.8530, -0.2988, -0.0275,  1.5092,\n",
              "        -0.5206, -0.1178,  0.2125,  2.1895,  0.6025,  0.5508, -0.0247, -0.2980,\n",
              "        -0.8621, -0.6731,  1.4350, -1.2534,  0.7963, -1.0065, -0.9560,  0.7736,\n",
              "         0.5064, -0.8956, -0.4251,  0.0062,  0.1344, -0.6720, -0.5465,  0.2231,\n",
              "        -0.8908, -0.5561, -0.7472,  0.4201,  0.0771, -1.7788,  0.2265, -1.1649,\n",
              "        -0.9399, -0.8090, -0.4395, -0.2433,  0.1693,  0.8520,  0.1882, -1.0681,\n",
              "        -0.6598,  0.1436,  0.2383, -0.9411, -0.3756,  0.0403, -0.0720, -0.2385,\n",
              "         0.2419,  0.4500,  0.8957,  0.2578, -0.1629, -0.4228,  1.0995, -0.3053,\n",
              "        -1.9188,  0.8567, -1.0453, -0.5677, -1.1977, -0.8735, -0.8579, -0.0592,\n",
              "         0.9280, -0.7975, -0.5382, -0.0060,  0.1486, -0.1668,  1.2526, -0.2766,\n",
              "        -0.2156,  0.4299,  0.2504,  0.0417,  0.2737,  0.1170, -1.2423, -0.7295,\n",
              "        -0.8574], grad_fn=<MvBackward0>)"
            ]
          },
          "metadata": {},
          "execution_count": 43
        }
      ],
      "source": [
        "predicted_number"
      ]
    },
    {
      "cell_type": "code",
      "execution_count": null,
      "metadata": {
        "id": "h1mhapnXSVsH",
        "colab": {
          "base_uri": "https://localhost:8080/"
        },
        "outputId": "b0d60f05-af10-41ec-a1ee-03d38fa95c8b"
      },
      "outputs": [
        {
          "output_type": "execute_result",
          "data": {
            "text/plain": [
              "device(type='cpu')"
            ]
          },
          "metadata": {},
          "execution_count": 44
        }
      ],
      "source": [
        "model.cases.device"
      ]
    },
    {
      "cell_type": "code",
      "execution_count": null,
      "metadata": {
        "id": "9nBkRvYdcWEc",
        "colab": {
          "base_uri": "https://localhost:8080/"
        },
        "outputId": "0357811d-c9d2-4b71-94c3-31ac57c16623"
      },
      "outputs": [
        {
          "output_type": "execute_result",
          "data": {
            "text/plain": [
              "device(type='cpu')"
            ]
          },
          "metadata": {},
          "execution_count": 45
        }
      ],
      "source": [
        "X_test.device"
      ]
    },
    {
      "cell_type": "code",
      "execution_count": null,
      "metadata": {
        "id": "1m0Dco_SOHMb"
      },
      "outputs": [],
      "source": []
    },
    {
      "cell_type": "code",
      "execution_count": null,
      "metadata": {
        "id": "dW_Fy4y1WqNx",
        "colab": {
          "base_uri": "https://localhost:8080/"
        },
        "outputId": "4a42c26d-52c2-42de-d3f0-c056bb907ae2"
      },
      "outputs": [
        {
          "output_type": "execute_result",
          "data": {
            "text/plain": [
              "[tensor(0.4020),\n",
              " tensor(0.3928),\n",
              " tensor(0.4481),\n",
              " tensor(0.3528),\n",
              " tensor(0.4417),\n",
              " tensor(0.4436),\n",
              " tensor(0.4102),\n",
              " tensor(0.4863),\n",
              " tensor(0.4740),\n",
              " tensor(0.4183)]"
            ]
          },
          "metadata": {},
          "execution_count": 46
        }
      ],
      "source": [
        "best_accuracies"
      ]
    },
    {
      "cell_type": "code",
      "execution_count": null,
      "metadata": {
        "id": "apW8H37ZmIUn",
        "colab": {
          "base_uri": "https://localhost:8080/"
        },
        "outputId": "e34442ee-f843-4a7f-f527-85c504090abc"
      },
      "outputs": [
        {
          "output_type": "execute_result",
          "data": {
            "text/plain": [
              "[0.9802677,\n",
              " 0.8038256,\n",
              " 0.7498629,\n",
              " 0.8159676,\n",
              " 1.308656,\n",
              " 0.9834068,\n",
              " 0.630725,\n",
              " 0.7439191,\n",
              " 0.83556765,\n",
              " 0.67725897]"
            ]
          },
          "metadata": {},
          "execution_count": 47
        }
      ],
      "source": [
        "top_k_average_accuracies"
      ]
    },
    {
      "cell_type": "code",
      "execution_count": null,
      "metadata": {
        "id": "f8DchB3qkqAx",
        "colab": {
          "base_uri": "https://localhost:8080/"
        },
        "outputId": "546c1092-c658-450c-bdd6-c6e71e4ea2bd"
      },
      "outputs": [
        {
          "output_type": "stream",
          "name": "stdout",
          "text": [
            "Average top_k_average_accuracies 0.8529457\n"
          ]
        }
      ],
      "source": [
        "# print(\"Average top_k_average_accuracies\", torch.stack(torch.mean(top_k_average_accuracies)).item())\n",
        "print(\"Average top_k_average_accuracies\", np.mean(top_k_average_accuracies))\n"
      ]
    },
    {
      "cell_type": "code",
      "execution_count": null,
      "metadata": {
        "id": "Ooy_sIumpQEr"
      },
      "outputs": [],
      "source": [
        "tens_1 = torch.Tensor([[10, 20], [30, 40]])\n",
        "tens_2 = torch.Tensor([[2], [4]])"
      ]
    },
    {
      "cell_type": "code",
      "execution_count": null,
      "metadata": {
        "id": "y9nYCnL7pTZ7",
        "colab": {
          "base_uri": "https://localhost:8080/"
        },
        "outputId": "8966903d-57f4-4f78-998a-9b15af9d4f25"
      },
      "outputs": [
        {
          "output_type": "execute_result",
          "data": {
            "text/plain": [
              "tensor([[ 20.,  40.],\n",
              "        [120., 160.]])"
            ]
          },
          "metadata": {},
          "execution_count": 50
        }
      ],
      "source": [
        "tens_1 * tens_2"
      ]
    },
    {
      "cell_type": "code",
      "execution_count": null,
      "metadata": {
        "id": "lehnuufypYMa",
        "colab": {
          "base_uri": "https://localhost:8080/"
        },
        "outputId": "223f5a3b-0064-45cb-e412-f6f7eb7ffa35"
      },
      "outputs": [
        {
          "output_type": "execute_result",
          "data": {
            "text/plain": [
              "tensor([[ 20.,  40.],\n",
              "        [120., 160.]])"
            ]
          },
          "metadata": {},
          "execution_count": 51
        }
      ],
      "source": [
        "torch.mul(tens_1, tens_2)"
      ]
    },
    {
      "cell_type": "code",
      "execution_count": null,
      "metadata": {
        "id": "ZWRu_gbNI5NA"
      },
      "outputs": [],
      "source": []
    },
    {
      "cell_type": "code",
      "execution_count": null,
      "metadata": {
        "id": "QuNUzhWmpa7f",
        "colab": {
          "base_uri": "https://localhost:8080/"
        },
        "outputId": "346c5035-acc1-4ee1-9d5d-2c0f3a9986f8"
      },
      "outputs": [
        {
          "output_type": "execute_result",
          "data": {
            "text/plain": [
              "tensor([[100.],\n",
              "        [220.]])"
            ]
          },
          "metadata": {},
          "execution_count": 52
        }
      ],
      "source": [
        "torch.matmul(tens_1, tens_2)"
      ]
    },
    {
      "cell_type": "code",
      "execution_count": null,
      "metadata": {
        "id": "fvDGfi_Rp1mz",
        "colab": {
          "base_uri": "https://localhost:8080/"
        },
        "outputId": "dba1bdda-b245-4a8d-830f-6f5632aaf2db"
      },
      "outputs": [
        {
          "output_type": "execute_result",
          "data": {
            "text/plain": [
              "tensor([ 60., 280.])"
            ]
          },
          "metadata": {},
          "execution_count": 53
        }
      ],
      "source": [
        "torch.sum(tens_1 * tens_2, dim=1)"
      ]
    },
    {
      "cell_type": "code",
      "execution_count": null,
      "metadata": {
        "id": "NS1hCvnB44zl",
        "colab": {
          "base_uri": "https://localhost:8080/"
        },
        "outputId": "16ff2fdf-5773-4f65-9b57-0c20d7e07649"
      },
      "outputs": [
        {
          "output_type": "execute_result",
          "data": {
            "text/plain": [
              "array([-1.0959984 , -0.28958914, -0.6617781 ,  0.76494616, -0.16552618,\n",
              "        0.39275724,  0.39275724,  1.0751035 ,  0.45478868,  1.3232296 ,\n",
              "        0.39275718,  0.14463127, -0.16552617,  1.3852609 ,  0.8890091 ,\n",
              "        1.509324  , -0.16552615,  0.5168202 , -0.4756836 , -0.909904  ,\n",
              "        1.3852612 , -1.2820928 ,  0.39275718, -1.5302188 , -0.41365212,\n",
              "        1.7574499 ,  1.1991665 ,  0.45478874,  1.261198  ,  0.33072573,\n",
              "        1.5713555 ,  0.39275724,  0.33072573,  0.08259977,  1.137135  ,\n",
              "        1.5713555 ,  0.14463127, -0.04146319, -0.10349468, -0.97193545,\n",
              "        0.39275724,  1.0751036 ,  1.0130721 , -0.04146319,  1.3232296 ,\n",
              "       -0.0414632 , -0.5377151 , -0.16552618, -0.41365212, -0.5997466 ,\n",
              "        0.39275724,  0.64088315,  0.70291466,  0.20666274, -0.3516206 ,\n",
              "       -0.41365212, -0.22755766, -1.6542819 , -0.4756836 , -0.16552617,\n",
              "       -0.3516206 , -0.4756836 ,  0.26869422,  0.08259979,  0.08259977,\n",
              "       -1.9024079 ,  1.3232296 ,  1.8194813 , -0.10349467,  0.45478868,\n",
              "        0.8890091 ,  0.26869425,  0.7649461 ,  1.3232296 ,  0.7029147 ,\n",
              "        0.20666274,  0.7649461 ,  0.02056831, -0.0414632 ,  1.4472926 ,\n",
              "       -0.72380954,  0.5168202 ,  0.02056829, -0.47568363, -0.5377151 ,\n",
              "        1.261198  ,  0.33072573,  1.1991665 , -1.5302188 , -1.0339669 ,\n",
              "       -1.0339669 , -1.0959984 , -1.0339669 , -0.84787256, -0.97193545,\n",
              "       -0.909904  , -0.5997466 ,  0.0205683 ,  0.14463125, -0.0414632 ,\n",
              "       -0.0414632 ,  0.02056829,  0.26869422, -0.0414632 ,  0.5168202 ,\n",
              "        0.33072573,  0.39275724,  0.26869425, -0.10349468, -1.9644394 ,\n",
              "       -1.0959984 , -0.5377151 , -0.84787256, -0.4756836 , -0.6617781 ,\n",
              "       -0.41365212, -0.5997466 , -0.2895891 ,  0.14463124, -0.10349468,\n",
              "       -0.28958914,  0.08259977, -0.28958917, -0.22755766, -0.22755766,\n",
              "       -0.3516206 , -0.22755766, -0.04146319,  0.76494616,  0.5168202 ,\n",
              "        0.5788517 , -1.0959985 , -1.2200614 , -0.84787256, -0.909904  ,\n",
              "       -0.909904  , -0.6617781 ,  0.7649461 , -0.5997466 ,  0.02056829,\n",
              "       -0.3516206 , -0.3516206 , -0.28958914,  0.02056829,  0.64088315,\n",
              "        0.26869422,  0.0205683 ,  0.26869422, -0.22755766, -0.10349468,\n",
              "        0.14463124, -0.10349468, -0.04146319,  0.20666274,  0.08259977,\n",
              "        0.5788517 ,  0.5788517 , -0.4136521 , -0.6617781 , -0.22755766,\n",
              "        0.33072573, -0.16552618,  0.14463127,  0.39275718, -1.0959985 ,\n",
              "       -0.84787256, -0.7238096 , -0.5377151 , -0.3516206 , -0.4756836 ,\n",
              "       -0.22755766, -0.22755763,  0.14463124, -0.22755766, -0.16552615,\n",
              "       -0.22755766, -0.3516206 , -0.3516206 ,  0.26869422, -0.22755766,\n",
              "        0.20666274,  0.20666274,  0.14463127,  0.0205683 ,  0.51682013,\n",
              "        0.33072573,  0.39275718, -0.72380954, -0.5997466 , -0.16552617,\n",
              "        0.45478868, -0.41365212,  0.14463127,  0.14463124,  0.9510406 ,\n",
              "       -0.41365212,  0.5168202 ,  0.45478868, -0.28958914,  0.02056829,\n",
              "        0.26869425, -0.04146319,  0.14463127,  0.20666274,  0.26869425,\n",
              "        1.261198  , -0.10349469, -0.909904  , -0.909904  , -0.04146321,\n",
              "        0.33072573, -0.4756836 ,  0.76494616, -0.4756836 , -0.7238096 ,\n",
              "        0.08259978,  0.14463127,  0.33072573, -0.72380954, -0.10349467,\n",
              "       -1.3441244 ,  1.6954186 ,  1.4472924 ,  1.0751035 , -1.2200614 ,\n",
              "        0.51682025, -0.35162067,  1.261198  ,  0.8269776 ,  0.95104057,\n",
              "        0.14463127,  0.9510406 ,  0.8269776 ,  0.45478874,  1.509324  ,\n",
              "        0.14463127,  1.3232296 ,  0.08259977, -0.72380954,  0.08259977,\n",
              "        1.6954186 ,  0.08259977,  1.137135  ,  1.0751035 ,  0.8890091 ,\n",
              "        0.0825998 , -0.41365212,  0.64088315, -0.7238096 ,  1.3232296 ,\n",
              "       -0.84787244, -0.10349469,  0.20666274, -0.41365203,  0.5788517 ,\n",
              "       -1.2820929 ,  0.5788517 ,  0.39275724, -1.0339669 , -1.0959984 ,\n",
              "       -0.3516206 ,  0.5168202 ,  0.3927572 , -1.3441244 , -0.84787256,\n",
              "       -0.6617781 , -0.3516206 ,  0.33072573,  1.4472926 ,  1.1371351 ,\n",
              "        1.0751036 , -1.0959985 , -0.909904  , -0.41365212,  0.08259979,\n",
              "       -0.3516206 , -0.22755766,  0.14463128,  0.0205683 ,  0.20666274,\n",
              "       -1.8403763 , -0.97193545,  0.26869422, -0.10349467, -0.6617781 ,\n",
              "        0.33072573, -0.28958917, -0.10349468, -0.97193545, -0.3516206 ,\n",
              "       -0.16552615,  0.45478874,  0.14463124,  0.0205683 ,  0.14463128,\n",
              "        0.26869422,  0.08259976, -0.16552615, -0.10349467, -0.16552617,\n",
              "        1.633387  , -1.530219  , -1.0339669 , -0.97193545, -0.97193545,\n",
              "       -0.5997466 , -0.22755769,  1.013072  , -0.16552617,  0.45478868,\n",
              "        1.261198  , -0.41365212, -0.0414632 , -0.22755766, -0.10349468,\n",
              "        0.20666274,  0.76494616,  2.0055757 ,  0.08259977, -0.5377151 ,\n",
              "       -0.0414632 , -0.10349469, -0.10349468, -0.28958914, -0.22755766,\n",
              "        1.3232296 ,  0.57885164,  0.8269777 ,  1.2611979 , -1.0339669 ,\n",
              "        0.08259979,  1.6954186 ,  0.7029146 , -0.16552617, -0.35162067,\n",
              "        2.129639  , -0.6617781 , -0.28958917,  0.08259979,  1.7574499 ,\n",
              "        1.4472926 ,  1.3232296 ,  0.8890091 , -0.5377151 , -1.1580299 ,\n",
              "       -0.909904  ,  1.3232296 , -1.3441244 ,  0.8269776 , -1.2200614 ,\n",
              "       -1.0959985 ,  0.64088315,  0.39275724, -1.1580299 , -0.5377151 ,\n",
              "       -0.0414632 ,  0.14463127, -0.84787256, -0.53771514,  0.14463127,\n",
              "       -0.97193545, -0.72380954, -0.3516206 ,  0.14463127,  0.39275724,\n",
              "       -1.7783448 ,  0.26869422, -1.4681873 , -1.033967  , -0.4756836 ,\n",
              "       -0.6617781 , -0.5377151 ,  0.02056829,  0.8269776 ,  0.08259978,\n",
              "       -0.7858411 , -0.6617781 ,  0.39275724,  0.26869422, -0.909904  ,\n",
              "       -0.16552617, -0.22755766, -0.16552618, -0.16552618,  0.3927572 ,\n",
              "        0.7649462 ,  0.7649461 ,  0.39275724, -0.28958917,  0.02056829,\n",
              "        1.385261  , -0.22755766, -2.0885022 ,  0.20666274, -0.97193545,\n",
              "       -0.22755766, -1.3441244 , -0.84787256, -1.0339669 ,  0.20666274,\n",
              "        0.57885164, -1.0339669 , -0.6617781 , -0.16552618,  0.0205683 ,\n",
              "       -0.28958914,  0.8890091 , -0.41365212, -0.16552617,  0.39275724,\n",
              "        0.08259977, -0.22755763,  0.57885164,  0.08259977, -1.4681875 ,\n",
              "       -0.72380954, -0.84787256], dtype=float32)"
            ]
          },
          "metadata": {},
          "execution_count": 54
        }
      ],
      "source": [
        "knn.predict(X_test)"
      ]
    },
    {
      "cell_type": "code",
      "execution_count": null,
      "metadata": {
        "id": "9d60j7sj46Ar",
        "colab": {
          "base_uri": "https://localhost:8080/"
        },
        "outputId": "e94f23fc-c216-4cd3-8a61-b4b26a0b1ce5"
      },
      "outputs": [
        {
          "output_type": "execute_result",
          "data": {
            "text/plain": [
              "tensor([-0.9099, -0.9099,  0.3307,  1.5714,  0.3307, -0.9099,  0.9510, -0.2896,\n",
              "         0.0206, -0.2896,  0.6409, -0.2896,  0.0206,  0.0206,  0.9510, -0.9099,\n",
              "         0.3307,  0.9510, -0.2896,  0.0206,  1.5714, -1.5302,  0.3307, -1.8404,\n",
              "         0.3307,  3.1221,  0.0206,  0.6409,  0.9510,  1.2612,  2.5018,  3.1221,\n",
              "         1.8815,  1.2612,  3.1221,  2.8120,  1.8815,  2.1917,  1.5714,  0.0206,\n",
              "         0.9510,  2.1917,  3.4323,  1.5714,  2.1917, -0.2896,  0.0206,  0.3307,\n",
              "         0.9510, -0.2896,  0.9510,  0.3307,  0.0206,  0.3307,  0.9510,  0.9510,\n",
              "         0.6409, -1.8404,  2.5018,  0.0206, -0.9099, -0.2896,  0.0206,  2.8120,\n",
              "         0.3307, -2.1505,  0.9510,  1.5714,  0.6409,  1.5714,  0.6409,  2.1917,\n",
              "         0.9510,  1.5714,  1.2612,  2.1917,  0.6409,  0.0206, -0.9099,  1.5714,\n",
              "        -0.5997, -0.5997,  0.0206,  0.0206, -1.2201,  1.2612, -0.2896,  0.6409,\n",
              "        -1.2201, -1.5302, -1.2201, -0.9099, -0.9099, -1.2201, -1.2201, -0.9099,\n",
              "        -0.9099, -0.9099,  0.0206, -0.5997,  0.0206, -0.5997,  0.3307, -0.2896,\n",
              "         0.3307, -1.2201,  0.3307,  0.6409, -0.5997, -1.8404, -1.2201, -0.9099,\n",
              "        -0.9099, -0.2896, -0.2896, -0.2896, -0.2896, -0.5997, -0.2896,  0.0206,\n",
              "        -0.2896, -0.2896, -0.2896, -0.9099, -0.5997, -0.5997, -0.2896, -0.5997,\n",
              "        -0.2896,  0.6409,  0.0206, -0.9099, -1.2201, -0.5997, -0.9099, -1.5302,\n",
              "         0.3307, -0.5997, -0.2896,  0.3307,  0.3307, -0.5997,  0.0206,  0.0206,\n",
              "         0.3307,  0.3307,  0.3307,  0.0206,  0.0206,  0.6409,  0.6409,  0.3307,\n",
              "         0.0206,  0.0206,  0.9510, -0.2896,  0.3307, -1.2201, -0.5997, -0.5997,\n",
              "        -0.2896, -0.5997, -0.2896,  0.6409, -0.5997, -0.9099, -0.5997, -0.9099,\n",
              "        -0.2896, -0.9099, -0.9099,  0.0206, -0.2896, -0.2896, -0.5997,  0.3307,\n",
              "        -0.2896,  0.0206,  0.0206, -0.2896, -0.2896,  0.6409, -0.2896,  0.0206,\n",
              "         0.3307,  0.0206,  0.6409, -1.2201, -0.2896,  0.0206, -0.2896, -0.2896,\n",
              "        -0.5997, -0.2896,  0.3307, -0.2896, -0.2896, -0.2896,  0.0206,  0.3307,\n",
              "         0.3307,  0.0206,  0.3307,  0.0206,  0.9510,  0.9510,  0.0206, -0.5997,\n",
              "        -0.9099, -0.5997, -0.5997, -0.5997, -0.5997, -0.2896, -0.2896, -0.5997,\n",
              "         0.0206,  0.0206, -0.2896, -0.5997, -1.5302,  2.1917,  0.6409,  0.9510,\n",
              "        -1.2201,  0.9510, -0.5997,  0.9510,  0.6409,  2.1917, -0.2896,  0.0206,\n",
              "         2.1917,  0.9510,  1.2612,  0.9510,  1.5714, -0.2896, -0.2896,  4.0526,\n",
              "         2.1917,  0.3307,  3.1221,  1.5714,  1.8815,  0.3307,  0.0206,  1.2612,\n",
              "         1.2612,  0.6409, -0.9099,  0.0206, -0.2896, -0.5997,  1.2612, -0.5997,\n",
              "         0.3307,  1.5714, -1.2201, -1.2201, -0.5997,  0.3307,  0.0206, -1.5302,\n",
              "        -1.2201, -0.9099, -0.5997,  0.0206,  0.3307,  0.9510,  0.0206, -1.2201,\n",
              "        -0.9099, -0.5997, -0.2896, -0.5997, -0.5997, -0.2896, -0.2896,  0.0206,\n",
              "        -1.8404, -0.5997, -0.5997, -0.5997, -0.5997,  0.0206, -0.2896, -0.2896,\n",
              "        -0.9099, -0.5997,  0.3307,  0.3307,  0.0206,  0.0206,  0.9510,  0.3307,\n",
              "        -0.5997,  0.0206, -0.2896,  0.3307,  0.6409, -1.8404, -1.2201, -0.5997,\n",
              "        -1.2201, -0.9099, -0.2896, -0.2896,  0.3307, -0.2896,  0.3307, -0.5997,\n",
              "         0.0206,  0.3307, -0.5997,  0.0206, -0.2896,  3.1221,  0.9510, -0.2896,\n",
              "        -0.2896, -0.2896, -0.2896,  0.3307,  0.6409,  0.9510,  1.8815,  0.6409,\n",
              "         2.5018, -0.9099,  0.3307,  1.5714,  0.3307, -0.2896,  0.0206,  0.9510,\n",
              "         0.6409, -0.9099,  2.1917,  2.8120,  1.8815,  1.8815,  2.1917,  0.0206,\n",
              "        -1.2201,  0.0206,  2.8120, -0.5997,  0.6409, -0.9099, -1.2201, -0.5997,\n",
              "         0.0206, -1.2201, -0.9099, -0.5997, -0.2896, -0.9099, -0.5997,  0.0206,\n",
              "        -0.9099, -0.5997, -0.5997, -0.5997,  0.0206, -1.8404,  0.3307, -1.5302,\n",
              "        -1.2201, -0.5997, -0.2896, -0.5997,  0.0206,  0.0206,  0.3307, -0.9099,\n",
              "        -0.2896,  0.0206,  0.6409, -0.9099,  0.0206,  0.3307,  0.0206,  0.0206,\n",
              "         0.3307, -0.2896,  0.0206,  0.3307,  0.3307, -0.2896,  1.5714,  0.6409,\n",
              "        -1.8404,  1.2612, -1.5302, -0.5997, -1.2201, -1.2201, -1.2201,  0.0206,\n",
              "         0.3307, -0.9099, -0.5997, -0.2896,  0.0206,  0.3307,  0.9510, -0.5997,\n",
              "         0.0206,  0.3307, -0.2896, -0.5997,  0.0206,  0.3307, -1.2201, -0.5997,\n",
              "        -0.9099])"
            ]
          },
          "metadata": {},
          "execution_count": 55
        }
      ],
      "source": [
        "y_test"
      ]
    },
    {
      "cell_type": "code",
      "execution_count": null,
      "metadata": {
        "id": "pclYFL115U-Y"
      },
      "outputs": [],
      "source": [
        "from sklearn.metrics import mean_squared_error\n",
        "mse = mean_squared_error(knn.predict(X_test), y_test)\n"
      ]
    },
    {
      "cell_type": "code",
      "execution_count": null,
      "metadata": {
        "id": "Ik_1t2154sZ9",
        "colab": {
          "base_uri": "https://localhost:8080/"
        },
        "outputId": "e95c2707-1945-408a-8179-b18dc14ffe51"
      },
      "outputs": [
        {
          "output_type": "execute_result",
          "data": {
            "text/plain": [
              "0.5110886"
            ]
          },
          "metadata": {},
          "execution_count": 57
        }
      ],
      "source": [
        "mse"
      ]
    },
    {
      "cell_type": "code",
      "execution_count": null,
      "metadata": {
        "id": "517-keElDvpV",
        "colab": {
          "base_uri": "https://localhost:8080/"
        },
        "outputId": "d4b6c556-587d-4ef5-fe83-e0a9d384f86f"
      },
      "outputs": [
        {
          "output_type": "execute_result",
          "data": {
            "text/plain": [
              "RegressionActivation_3_Layer()"
            ]
          },
          "metadata": {},
          "execution_count": 58
        }
      ],
      "source": [
        "model.class_layer"
      ]
    },
    {
      "cell_type": "code",
      "execution_count": null,
      "metadata": {
        "id": "kWU8UiHDD_PO"
      },
      "outputs": [],
      "source": [
        "# model.class_layer.weight.shape"
      ]
    },
    {
      "cell_type": "code",
      "execution_count": null,
      "metadata": {
        "id": "M3Eu3P0zELJ4"
      },
      "outputs": [],
      "source": [
        "# model.class_layer"
      ]
    },
    {
      "cell_type": "code",
      "execution_count": null,
      "metadata": {
        "id": "BvZmmgJaXd85",
        "colab": {
          "base_uri": "https://localhost:8080/"
        },
        "outputId": "a3a471cb-968a-4832-8d6f-94dc65a5ee04"
      },
      "outputs": [
        {
          "output_type": "stream",
          "name": "stdout",
          "text": [
            "3780\n"
          ]
        }
      ],
      "source": [
        "print(sum(p.numel() for p in model.parameters()))"
      ]
    },
    {
      "cell_type": "markdown",
      "source": [
        "#Case Base Maintenance"
      ],
      "metadata": {
        "id": "ZoyxUHmTUDhx"
      }
    },
    {
      "cell_type": "markdown",
      "source": [
        "The case base maintenance procedure will be different from classification and regression, because as of now, the regression activation layer, is not assigning weights. Instead it is using case activation as a direction indication of the case's weight, and taking a weighted average of case activation* case label to predict the final label.\n",
        "\n",
        "Classification's class activation layer is easier, where we do assign each case with weights for every classes."
      ],
      "metadata": {
        "id": "mUejxRrtVzfg"
      }
    },
    {
      "cell_type": "markdown",
      "source": [
        "##Classification"
      ],
      "metadata": {
        "id": "jiUoLHP0XBXN"
      }
    },
    {
      "cell_type": "markdown",
      "source": [
        "Parameters here"
      ],
      "metadata": {
        "id": "FGtUDD9NumRy"
      }
    },
    {
      "cell_type": "code",
      "source": [
        "percent = 0.1"
      ],
      "metadata": {
        "id": "ofsviLEIuk9a"
      },
      "execution_count": null,
      "outputs": []
    },
    {
      "cell_type": "code",
      "source": [
        "trim_count = int(percent * len(X_train))"
      ],
      "metadata": {
        "id": "4nGCgEn1ylYm"
      },
      "execution_count": null,
      "outputs": []
    },
    {
      "cell_type": "code",
      "source": [
        "X_train.shape"
      ],
      "metadata": {
        "id": "uw0kyu-FatGg"
      },
      "execution_count": null,
      "outputs": []
    },
    {
      "cell_type": "code",
      "source": [
        "# prompt: find rows of the lowest percent% values, that are non-zero,  in case2class_weights in every column\n",
        "\n",
        "import torch\n",
        "\n",
        "def classwise_find_lowest_percent_non_zero_rows(matrix, trim_count):\n",
        "  \"\"\"\n",
        "  Finds the rows of the lowest percent% values, that are non-zero, in every column of a matrix.\n",
        "\n",
        "  Args:\n",
        "    matrix: A torch tensor representing the matrix.\n",
        "    percent: A float representing the percentage of the lowest values to find.\n",
        "\n",
        "  Returns:\n",
        "    A list of lists, where each inner list contains the indices of the rows with the lowest percent% non-zero values in each column.\n",
        "  \"\"\"\n",
        "\n",
        "  # Get the number of rows and columns in the matrix.\n",
        "  num_rows, num_cols = matrix.shape\n",
        "\n",
        "  # Initialize a list to store the indices of the lowest percent% non-zero rows in each column.\n",
        "  lowest_percent_rows = []\n",
        "  masked_matrix = matrix.clone()\n",
        "  masked_matrix[matrix == 0] = float('inf')\n",
        "\n",
        "  # Iterate over each column in the matrix.\n",
        "  for col in range(num_cols):\n",
        "\n",
        "    # Get the non-zero elements in the column.\n",
        "    non_zero_elements = matrix[matrix[:, col] != 0] #[:, col]\n",
        "\n",
        "    # Get the number of lowest percent% values to find.\n",
        "    num_lowest_values = (int) (trim_count / num_cols)#int(percent * len(non_zero_elements))\n",
        "    if(num_lowest_values == 0):\n",
        "      num_lowest_values = 1\n",
        "    # Find the indices of the lowest percent% non-zero values in the column.\n",
        "    lowest_values_indices = torch.argsort(masked_matrix[:,col])[:num_lowest_values]\n",
        "\n",
        "    # Append the indices of the lowest percent% non-zero rows in the column to the list.\n",
        "    lowest_percent_rows.append(lowest_values_indices)\n",
        "\n",
        "  combined_list = []\n",
        "  for indices in lowest_percent_rows:\n",
        "    combined_list.extend(indices.tolist())\n",
        "  # combined_list\n",
        "  # Return the list of lists of indices.\n",
        "  return combined_list\n",
        "\n",
        "# Example usage:\n",
        "# matrix = torch.tensor([[1, 2, 3], [4, 5, 0], [6, 0, 7]])\n",
        "# percent = 0.25\n",
        "# lowest_percent_rows = find_lowest_percent_non_zero_rows(matrix, percent)\n",
        "# print(lowest_percent_rows)\n"
      ],
      "metadata": {
        "id": "6anlNSNCk1Hm"
      },
      "execution_count": null,
      "outputs": []
    },
    {
      "cell_type": "code",
      "source": [
        "# prompt: find rows of the lowest percent% values, that are non-zero,  in case2class_weights in every column\n",
        "\n",
        "import torch\n",
        "\n",
        "def global_find_lowest_percent_non_zero_rows(matrix, trim_count):\n",
        "  \"\"\"\n",
        "  Finds the rows of the lowest percent% values, that are non-zero, in every column of a matrix.\n",
        "\n",
        "  Args:\n",
        "    matrix: A torch tensor representing the matrix.\n",
        "    percent: A float representing the percentage of the lowest values to find.\n",
        "\n",
        "  Returns:\n",
        "    A list of lists, where each inner list contains the indices of the rows with the lowest percent% non-zero values in each column.\n",
        "  \"\"\"\n",
        "\n",
        "  # Get the number of rows and columns in the matrix.\n",
        "  num_rows, num_cols = matrix.shape\n",
        "\n",
        "  # Initialize a list to store the indices of the lowest percent% non-zero rows in each column.\n",
        "  lowest_percent_rows = []\n",
        "\n",
        "  #filter out all zero entries.\n",
        "  ## This is due to the nature of class activaiton layer.\n",
        "  non_zero_elements = matrix[matrix != 0]\n",
        "  print(non_zero_elements)\n",
        "  # Get the number of lowest percent% values to find.\n",
        "  num_lowest_values = trim_count # int(percent * len(non_zero_elements))\n",
        "\n",
        "  # Find the indices of the lowest percent% non-zero values in the column.\n",
        "  lowest_values_indices = torch.argsort(non_zero_elements)[:num_lowest_values]\n",
        "  print(lowest_values_indices)\n",
        "  # Append the indices of the lowest percent% non-zero rows in the column to the list.\n",
        "  # lowest_percent_rows.append(lowest_values_indices)\n",
        "\n",
        "  # Return the list of lists of indices.\n",
        "  return lowest_values_indices.to_list()\n",
        "\n",
        "# Example usage:\n",
        "# matrix = torch.tensor([[1, 2, 3], [4, 5, 0], [6, 0, 7]])\n",
        "# percent = 0.25\n",
        "# lowest_percent_rows = find_lowest_percent_non_zero_rows(matrix, percent)\n",
        "# print(lowest_percent_rows)\n"
      ],
      "metadata": {
        "id": "FrfZuXLrXOjG"
      },
      "execution_count": null,
      "outputs": []
    },
    {
      "cell_type": "code",
      "source": [
        "def trim(X_train, y_train, case2class_weights, trim_count):\n",
        "\n",
        "  # prompt: combined the list_of_indices into a single list\n",
        "\n",
        "  list_of_indices = classwise_find_lowest_percent_non_zero_rows(case2class_weights, trim_count)\n",
        "  X_train_trimmed = np.delete(X_train, list_of_indices, axis=0)\n",
        "  y_train_trimmed = np.delete(y_train, list_of_indices, axis=0)\n",
        "  return X_train_trimmed, y_train_trimmed\n"
      ],
      "metadata": {
        "id": "6MzOO9hAmB_L"
      },
      "execution_count": null,
      "outputs": []
    },
    {
      "cell_type": "code",
      "source": [
        "# prompt: trim X_train and y_train to only include the combined_list indices\n"
      ],
      "metadata": {
        "id": "1yYyAz6ZmH8v"
      },
      "execution_count": null,
      "outputs": []
    },
    {
      "cell_type": "code",
      "source": [
        "X_train.shape"
      ],
      "metadata": {
        "id": "ZT63PsG_purf"
      },
      "execution_count": null,
      "outputs": []
    },
    {
      "cell_type": "code",
      "source": [
        "# prompt: wipe accuracies to only keep the last one\n",
        "\n",
        "accuracies = accuracies[-1:]\n",
        "klmnn_accuracies = klmnn_accuracies[-1:]\n",
        "knn_accuracies = knn_accuracies[-1:]\n"
      ],
      "metadata": {
        "id": "3CSQTLWMq8Vz"
      },
      "execution_count": null,
      "outputs": []
    },
    {
      "cell_type": "code",
      "source": [
        "accuracies"
      ],
      "metadata": {
        "id": "eWHaXc5NrEVv"
      },
      "execution_count": null,
      "outputs": []
    },
    {
      "cell_type": "code",
      "source": [
        "X_train_trimmed = X_train\n",
        "y_train_trimmed = y_train\n",
        "for times in range(9):\n",
        "  case2class_weights = model.class_layer.get_constrained_weight()\n",
        "  #trime\n",
        "  X_train_trimmed, y_train_trimmed= trim(X_train_trimmed, y_train_trimmed, case2class_weights, trim_count)\n",
        "  #train models again, get the new accuracies\n",
        "  klmnn_acc, best_accuracy, knn_acc, model = trainModels(X_train_trimmed,y_train_trimmed)\n",
        "  #after the above step, model has changed to a new one.\n",
        "  klmnn_accuracies.append(klmnn_acc)\n",
        "  accuracies.append(best_accuracy)\n",
        "  knn_accuracies.append(knn_acc)\n",
        "  #break loop if best_accuracy is lower than last\n",
        "  # if best_accuracy < accuracies[-2]:\n",
        "  #   break\n"
      ],
      "metadata": {
        "id": "ZiemHEaTq2Gm"
      },
      "execution_count": null,
      "outputs": []
    },
    {
      "cell_type": "code",
      "source": [
        "accuracies"
      ],
      "metadata": {
        "id": "PkbYgKylzBaS"
      },
      "execution_count": null,
      "outputs": []
    },
    {
      "cell_type": "markdown",
      "metadata": {
        "id": "koSz4phP7J0z"
      },
      "source": [
        "#Results"
      ]
    },
    {
      "cell_type": "markdown",
      "metadata": {
        "id": "LYQCH4N6I8zO"
      },
      "source": [
        "##Result look up"
      ]
    },
    {
      "cell_type": "code",
      "execution_count": null,
      "metadata": {
        "id": "6gARxSXiq-_W",
        "colab": {
          "base_uri": "https://localhost:8080/"
        },
        "outputId": "90ee6ebf-e2a4-4020-a898-d94aa661a7e8"
      },
      "outputs": [
        {
          "output_type": "stream",
          "name": "stdout",
          "text": [
            "fa_layer.f1weight\n",
            "tensor([1.1435, 1.1289, 1.1223, 1.1164, 1.1260, 1.1187, 1.1289, 1.1340])\n",
            "ca_layer.fa_weight\n",
            "tensor([[1.0000, 1.0000, 1.0000,  ..., 1.0000, 1.0000, 1.0000],\n",
            "        [1.0000, 1.0000, 1.0000,  ..., 1.0000, 1.0000, 1.0000],\n",
            "        [1.0000, 1.0000, 1.0000,  ..., 1.0000, 1.0000, 1.0000],\n",
            "        ...,\n",
            "        [1.0000, 1.0000, 1.0000,  ..., 1.0000, 1.0000, 1.0000],\n",
            "        [1.0000, 1.0000, 1.0000,  ..., 1.0000, 1.0000, 1.0000],\n",
            "        [1.0074, 1.0039, 1.0000,  ..., 1.0026, 1.0062, 1.0015]])\n",
            "ca_layer.bias\n",
            "tensor([0.8000, 0.8000, 0.8000,  ..., 0.8000, 0.8000, 0.7985])\n"
          ]
        }
      ],
      "source": [
        "print_model_features(model)"
      ]
    },
    {
      "cell_type": "code",
      "execution_count": null,
      "metadata": {
        "id": "Y90VH3xzsTEd",
        "colab": {
          "base_uri": "https://localhost:8080/"
        },
        "outputId": "40a4bddb-016f-4af9-ea8f-7630489e9e19"
      },
      "outputs": [
        {
          "output_type": "execute_result",
          "data": {
            "text/plain": [
              "16376"
            ]
          },
          "metadata": {},
          "execution_count": 162
        }
      ],
      "source": [
        "sum(p.numel() for p in model.parameters() if p.requires_grad)"
      ]
    },
    {
      "cell_type": "markdown",
      "metadata": {
        "id": "cT0y7FUq2FNC"
      },
      "source": [
        "####TODO testing here"
      ]
    },
    {
      "cell_type": "code",
      "execution_count": null,
      "metadata": {
        "id": "awqOomGo1orp"
      },
      "outputs": [],
      "source": [
        "# for regression only. for classification is different\n",
        "#feature_activations, case_activations, predicted_number\n",
        "model.eval()\n",
        "feature_activations, case_activations, output, predicted_class = model(X_test)"
      ]
    },
    {
      "cell_type": "code",
      "source": [
        "output"
      ],
      "metadata": {
        "colab": {
          "base_uri": "https://localhost:8080/"
        },
        "id": "jM8cUC_37Rq1",
        "outputId": "7931232c-77ce-497e-bc7e-c962df43ee85"
      },
      "execution_count": null,
      "outputs": [
        {
          "output_type": "execute_result",
          "data": {
            "text/plain": [
              "tensor([3.6000, 2.6000, 3.8000, 2.2000, 1.8000, 1.0000, 5.0000, 3.2000, 2.6000,\n",
              "        1.2000, 2.6000, 2.6000, 3.6000, 2.2000, 1.0000, 1.0000, 3.8000])"
            ]
          },
          "metadata": {},
          "execution_count": 282
        }
      ]
    },
    {
      "cell_type": "code",
      "execution_count": null,
      "metadata": {
        "id": "jFkiqBp91san",
        "colab": {
          "base_uri": "https://localhost:8080/"
        },
        "outputId": "939a9b6e-cec5-45e8-aa08-41431f11eb3d"
      },
      "outputs": [
        {
          "output_type": "execute_result",
          "data": {
            "text/plain": [
              "tensor([3.9189, 2.5603, 3.9753, 1.8536, 1.6518, 1.0000, 4.9998, 3.9955, 3.9436,\n",
              "        1.1133, 2.5762, 3.1909, 4.0000, 2.5791, 1.0007, 1.0000, 3.8713],\n",
              "       grad_fn=<MvBackward0>)"
            ]
          },
          "metadata": {},
          "execution_count": 283
        }
      ],
      "source": [
        "predicted_class"
      ]
    },
    {
      "cell_type": "code",
      "execution_count": null,
      "metadata": {
        "id": "E7o4dGeF1uEA",
        "colab": {
          "base_uri": "https://localhost:8080/"
        },
        "outputId": "8a9f0016-2bff-47e1-c4f2-5dd77610eef1"
      },
      "outputs": [
        {
          "output_type": "execute_result",
          "data": {
            "text/plain": [
              "tensor([2., 3., 3., 3., 3., 1., 5., 4., 2., 3., 2., 4., 4., 4., 1., 1., 4.])"
            ]
          },
          "metadata": {},
          "execution_count": 284
        }
      ],
      "source": [
        "y_test"
      ]
    },
    {
      "cell_type": "code",
      "execution_count": null,
      "metadata": {
        "id": "FClgau3yY32o",
        "colab": {
          "base_uri": "https://localhost:8080/"
        },
        "outputId": "1137b3aa-378b-44f2-a07a-0c346297ca7a"
      },
      "outputs": [
        {
          "output_type": "execute_result",
          "data": {
            "text/plain": [
              "tensor([[1., 0., 1.,  ..., 1., 1., 0.],\n",
              "        [0., 0., 0.,  ..., 1., 0., 1.],\n",
              "        [1., 0., 1.,  ..., 1., 1., 1.],\n",
              "        ...,\n",
              "        [0., 0., 0.,  ..., 1., 0., 0.],\n",
              "        [0., 0., 1.,  ..., 1., 0., 1.],\n",
              "        [0., 1., 1.,  ..., 1., 0., 0.]])"
            ]
          },
          "metadata": {},
          "execution_count": 285
        }
      ],
      "source": [
        "X_test"
      ]
    },
    {
      "cell_type": "code",
      "source": [
        "#inspecting the case activations\n",
        "top_case_indices = torch.topk(case_activations, 5, dim=1)[1]\n"
      ],
      "metadata": {
        "id": "48QBYZrbgOQ8"
      },
      "execution_count": null,
      "outputs": []
    },
    {
      "cell_type": "code",
      "source": [
        "top_case_indices"
      ],
      "metadata": {
        "colab": {
          "base_uri": "https://localhost:8080/"
        },
        "id": "j00wGXvagfHP",
        "outputId": "473d00a5-1978-43a9-a306-bb5cf9164a86"
      },
      "execution_count": null,
      "outputs": [
        {
          "output_type": "execute_result",
          "data": {
            "text/plain": [
              "tensor([[119,  69,  52,   3, 127],\n",
              "        [ 31,  65,  29,  66,  45],\n",
              "        [ 52, 138,  68,  44,  40],\n",
              "        [116,   5,  11,  45, 123],\n",
              "        [ 31, 116,  19, 104,  91],\n",
              "        [118, 114, 103, 111, 110],\n",
              "        [135,  33, 147, 140, 149],\n",
              "        [121, 127, 123,  11,  84],\n",
              "        [ 63,  26,  64,  68,  85],\n",
              "        [116,   5,  35,  92, 109],\n",
              "        [ 83,  84,   6,  31, 123],\n",
              "        [ 65,  31,  83,  30,  35],\n",
              "        [125,  27,  86,  44,  30],\n",
              "        [ 83,   6,  11,  31,   3],\n",
              "        [117, 101,  95,  90,  96],\n",
              "        [ 99, 110, 106, 115, 112],\n",
              "        [ 67, 129,  65,  31, 144]])"
            ]
          },
          "metadata": {},
          "execution_count": 287
        }
      ]
    },
    {
      "cell_type": "code",
      "source": [
        "X_test[0]"
      ],
      "metadata": {
        "colab": {
          "base_uri": "https://localhost:8080/"
        },
        "id": "WvdRN1O-gks5",
        "outputId": "6d043886-1e49-43c1-c98e-fb5315a14614"
      },
      "execution_count": null,
      "outputs": [
        {
          "output_type": "execute_result",
          "data": {
            "text/plain": [
              "tensor([1., 0., 1., 1., 0., 1., 1., 1., 0., 0., 0., 0., 1., 0., 1., 1., 1., 0.,\n",
              "        0., 1., 1., 1., 0., 0., 1., 1., 1., 0., 1., 1., 1., 1., 0., 0., 1., 0.,\n",
              "        0., 1., 1., 1., 1., 1., 0., 0., 1., 0., 0., 0., 1., 0., 0., 1., 1., 1.,\n",
              "        1., 1., 0., 0., 1., 1., 1., 0., 0., 1., 1., 0., 1., 0., 1., 1., 0., 0.,\n",
              "        1., 1., 0., 1., 1., 1., 1., 1., 0., 1., 1., 1., 1., 1., 0., 0., 0., 0.,\n",
              "        1., 0., 0., 0., 1., 0., 0., 1., 0., 1., 1., 0.])"
            ]
          },
          "metadata": {},
          "execution_count": 288
        }
      ]
    },
    {
      "cell_type": "code",
      "source": [
        "y_test[0]"
      ],
      "metadata": {
        "colab": {
          "base_uri": "https://localhost:8080/"
        },
        "id": "qvo_SHzxgrsR",
        "outputId": "61dc3c39-8ace-4b99-ba12-389d2eaa6fa9"
      },
      "execution_count": null,
      "outputs": [
        {
          "output_type": "execute_result",
          "data": {
            "text/plain": [
              "tensor(2.)"
            ]
          },
          "metadata": {},
          "execution_count": 289
        }
      ]
    },
    {
      "cell_type": "code",
      "source": [
        "X_train[top_case_indices[0]]"
      ],
      "metadata": {
        "colab": {
          "base_uri": "https://localhost:8080/"
        },
        "id": "CPHo0xGuggkw",
        "outputId": "6961d35e-769b-42c3-87f5-894dc4c57abd"
      },
      "execution_count": null,
      "outputs": [
        {
          "output_type": "execute_result",
          "data": {
            "text/plain": [
              "tensor([[1., 0., 0., 0., 0., 1., 1., 1., 0., 0., 1., 0., 1., 0., 1., 1., 1., 0.,\n",
              "         1., 0., 1., 0., 1., 0., 0., 0., 1., 0., 1., 1., 0., 1., 0., 0., 1., 0.,\n",
              "         0., 1., 0., 1., 1., 1., 1., 0., 1., 0., 1., 0., 0., 0., 0., 1., 1., 1.,\n",
              "         0., 1., 1., 1., 1., 1., 1., 0., 0., 1., 1., 0., 1., 0., 1., 0., 0., 0.,\n",
              "         1., 1., 0., 1., 0., 1., 1., 1., 0., 1., 1., 1., 1., 1., 0., 0., 0., 0.,\n",
              "         0., 0., 0., 0., 1., 0., 0., 1., 0., 1., 0., 1.],\n",
              "        [1., 0., 0., 0., 0., 1., 1., 1., 1., 0., 1., 0., 1., 0., 1., 1., 1., 0.,\n",
              "         1., 0., 1., 0., 1., 0., 0., 0., 1., 0., 1., 1., 0., 1., 0., 0., 1., 1.,\n",
              "         0., 1., 0., 1., 1., 1., 1., 0., 1., 0., 1., 0., 0., 0., 0., 1., 1., 1.,\n",
              "         0., 1., 1., 1., 1., 1., 1., 0., 0., 1., 1., 0., 1., 0., 1., 1., 0., 0.,\n",
              "         1., 1., 0., 1., 0., 1., 1., 1., 0., 1., 1., 1., 1., 1., 1., 0., 0., 0.,\n",
              "         0., 0., 0., 0., 1., 0., 1., 1., 0., 1., 0., 1.],\n",
              "        [1., 0., 1., 1., 0., 1., 1., 0., 0., 1., 1., 1., 1., 0., 1., 1., 0., 0.,\n",
              "         1., 1., 1., 1., 1., 0., 1., 1., 1., 1., 1., 1., 0., 1., 1., 0., 1., 0.,\n",
              "         0., 0., 0., 1., 1., 1., 1., 0., 1., 1., 0., 1., 1., 1., 0., 1., 1., 1.,\n",
              "         1., 1., 1., 1., 0., 1., 1., 0., 0., 1., 1., 0., 1., 0., 1., 0., 1., 1.,\n",
              "         0., 1., 0., 1., 1., 1., 1., 0., 0., 1., 1., 1., 1., 1., 0., 0., 0., 0.,\n",
              "         0., 0., 0., 0., 1., 0., 0., 1., 0., 1., 0., 1.],\n",
              "        [0., 0., 1., 0., 0., 1., 1., 1., 0., 0., 1., 0., 0., 0., 0., 0., 1., 0.,\n",
              "         1., 1., 1., 0., 0., 0., 1., 1., 1., 1., 1., 1., 0., 1., 0., 0., 1., 0.,\n",
              "         0., 1., 1., 1., 1., 0., 1., 0., 0., 1., 1., 1., 1., 0., 0., 1., 1., 1.,\n",
              "         1., 1., 1., 1., 0., 1., 1., 0., 1., 1., 1., 0., 1., 0., 1., 1., 0., 0.,\n",
              "         0., 0., 0., 1., 1., 1., 1., 1., 0., 1., 1., 0., 1., 1., 0., 0., 0., 0.,\n",
              "         1., 0., 0., 0., 1., 0., 0., 1., 0., 1., 0., 1.],\n",
              "        [0., 0., 0., 1., 0., 1., 1., 0., 0., 0., 0., 0., 0., 0., 0., 1., 0., 0.,\n",
              "         0., 1., 1., 1., 0., 0., 1., 1., 1., 0., 1., 1., 0., 1., 0., 0., 1., 0.,\n",
              "         0., 0., 0., 1., 1., 0., 1., 0., 0., 0., 0., 1., 1., 0., 0., 0., 1., 1.,\n",
              "         1., 1., 1., 1., 0., 1., 1., 0., 0., 1., 1., 0., 1., 0., 1., 0., 0., 0.,\n",
              "         0., 1., 0., 1., 1., 1., 1., 0., 0., 1., 1., 0., 1., 1., 0., 0., 0., 0.,\n",
              "         0., 0., 0., 0., 1., 0., 0., 1., 0., 1., 0., 0.]])"
            ]
          },
          "metadata": {},
          "execution_count": 290
        }
      ]
    },
    {
      "cell_type": "code",
      "source": [
        "y_train[top_case_indices[0]]"
      ],
      "metadata": {
        "colab": {
          "base_uri": "https://localhost:8080/"
        },
        "id": "3ugt-xZ0gwCl",
        "outputId": "1d29ccd5-00c0-4fce-96eb-97631a49497a"
      },
      "execution_count": null,
      "outputs": [
        {
          "output_type": "execute_result",
          "data": {
            "text/plain": [
              "tensor([4., 4., 4., 2., 4.])"
            ]
          },
          "metadata": {},
          "execution_count": 291
        }
      ]
    },
    {
      "cell_type": "code",
      "execution_count": null,
      "metadata": {
        "id": "hIMYkbGc-Gv0",
        "colab": {
          "base_uri": "https://localhost:8080/"
        },
        "outputId": "fcbe97ac-b9e1-4eb1-c443-479830d21eba"
      },
      "outputs": [
        {
          "output_type": "execute_result",
          "data": {
            "text/plain": [
              "3.2"
            ]
          },
          "metadata": {},
          "execution_count": 293
        }
      ],
      "source": [
        "knn.predict(X_test)[0]"
      ]
    },
    {
      "cell_type": "code",
      "source": [
        "indices = knn.kneighbors(X_test)[1][0]"
      ],
      "metadata": {
        "id": "DEzwWx_UlcZ6"
      },
      "execution_count": null,
      "outputs": []
    },
    {
      "cell_type": "code",
      "source": [
        "indices"
      ],
      "metadata": {
        "colab": {
          "base_uri": "https://localhost:8080/"
        },
        "id": "WTU2dZyBlvs-",
        "outputId": "a8a5824e-842e-4654-f468-e2723d3f5c36"
      },
      "execution_count": null,
      "outputs": [
        {
          "output_type": "execute_result",
          "data": {
            "text/plain": [
              "array([119, 127,  60,  69,   3])"
            ]
          },
          "metadata": {},
          "execution_count": 296
        }
      ]
    },
    {
      "cell_type": "code",
      "source": [
        "y_train[indices]"
      ],
      "metadata": {
        "colab": {
          "base_uri": "https://localhost:8080/"
        },
        "id": "TkCaYV47lxnA",
        "outputId": "b781a7e0-5b67-4849-ff6f-0d75ad5b46c0"
      },
      "execution_count": null,
      "outputs": [
        {
          "output_type": "execute_result",
          "data": {
            "text/plain": [
              "tensor([4., 4., 2., 4., 2.])"
            ]
          },
          "metadata": {},
          "execution_count": 297
        }
      ]
    },
    {
      "cell_type": "markdown",
      "metadata": {
        "id": "UklELrXlZNvm"
      },
      "source": [
        "###Accuracies"
      ]
    },
    {
      "cell_type": "code",
      "execution_count": null,
      "metadata": {
        "id": "7DAHjmSILFnV",
        "colab": {
          "base_uri": "https://localhost:8080/"
        },
        "outputId": "3fe63325-8938-4465-ea8a-3e1c928284fd"
      },
      "outputs": [
        {
          "output_type": "stream",
          "name": "stdout",
          "text": [
            "[1.0, 0.5454545454545454, 0.7272727272727273, 0.8181818181818182, 0.6363636363636364, 1.0, 0.5454545454545454, 1.0, 1.0, 0.8181818181818182]\n"
          ]
        }
      ],
      "source": [
        "print(accuracies)"
      ]
    },
    {
      "cell_type": "code",
      "execution_count": null,
      "metadata": {
        "id": "GThviV3f3w6h",
        "colab": {
          "base_uri": "https://localhost:8080/"
        },
        "outputId": "0c8480ae-4026-4aae-b102-b064369f3eda"
      },
      "outputs": [
        {
          "output_type": "stream",
          "name": "stdout",
          "text": [
            "[1.4233803, 1.8344585, 1.306988, 1.4484789, 1.1512542, 1.3633262, 1.4535525, 1.5095526, 1.3163508, 1.6558268]\n"
          ]
        }
      ],
      "source": [
        "print(knn_accuracies)"
      ]
    },
    {
      "cell_type": "code",
      "source": [
        "print(klmnn_accuracies)"
      ],
      "metadata": {
        "id": "jdP6ssRXyIb2",
        "colab": {
          "base_uri": "https://localhost:8080/"
        },
        "outputId": "e58ac21d-9ade-42bc-80c3-f3386b200991"
      },
      "execution_count": null,
      "outputs": [
        {
          "output_type": "stream",
          "name": "stdout",
          "text": [
            "[1.0, 0.8333333333333334, 1.0, 1.0, 0.9444444444444444, 0.8888888888888888, 1.0, 0.8888888888888888, 1.0, 1.0]\n"
          ]
        }
      ]
    },
    {
      "cell_type": "code",
      "execution_count": null,
      "metadata": {
        "id": "10AORGQInY-G",
        "colab": {
          "base_uri": "https://localhost:8080/"
        },
        "outputId": "2fe2449c-e02f-4c3e-8449-9a1bf8a34f4f"
      },
      "outputs": [
        {
          "output_type": "stream",
          "name": "stdout",
          "text": [
            "0.9722222222222221\n",
            "0.6967320261437908\n",
            "0.9555555555555555\n"
          ]
        }
      ],
      "source": [
        "# For classification\n",
        "print(np.mean(accuracies))\n",
        "print(np.mean(knn_accuracies))\n",
        "print(np.mean(klmnn_accuracies))\n"
      ]
    },
    {
      "cell_type": "code",
      "execution_count": null,
      "metadata": {
        "id": "nllY5LQDDKse",
        "colab": {
          "base_uri": "https://localhost:8080/"
        },
        "outputId": "24999e1a-88c9-4020-df6e-0ba6fa8adbdf"
      },
      "outputs": [
        {
          "output_type": "stream",
          "name": "stdout",
          "text": [
            "tensor(0.4270, grad_fn=<MeanBackward0>)\n",
            "0.8529457\n",
            "0.4803648\n"
          ]
        }
      ],
      "source": [
        "# For regression\n",
        "print(torch.mean( torch.stack(accuracies, dim=0)))\n",
        "print(np.mean(top_k_average_accuracies))\n",
        "print(np.mean(knn_accuracies))\n"
      ]
    },
    {
      "cell_type": "code",
      "execution_count": null,
      "metadata": {
        "id": "KVHtGRsrUu7H"
      },
      "outputs": [],
      "source": [
        "# prompt: get the number of unique values in the list of tensor y_train\n",
        "\n",
        "print(torch.unique(y_train).shape[0])\n"
      ]
    },
    {
      "cell_type": "code",
      "execution_count": null,
      "metadata": {
        "id": "-Ub7LFE5UdDP"
      },
      "outputs": [],
      "source": [
        "torch.unique(y_train)"
      ]
    },
    {
      "cell_type": "markdown",
      "metadata": {
        "id": "1qeV7IHLDpRR"
      },
      "source": [
        "##Results, classification, zebra\n",
        "\n"
      ]
    },
    {
      "cell_type": "markdown",
      "metadata": {
        "id": "AzEwyfuOGElJ"
      },
      "source": [
        "we are using 110 points"
      ]
    },
    {
      "cell_type": "markdown",
      "metadata": {
        "id": "XDn2UR_hDs2_"
      },
      "source": [
        "```\n",
        "training_epochs = 1000\n",
        "learning_rate = 0.01\n",
        "criterion = torch.nn.CrossEntropyLoss()\n",
        "batch_size = 136\n",
        "\n",
        "fa_weight_sharing_within_segment = True\n",
        "fa_weight_sharing_between_segment = True\n",
        "ca_weight_sharing = True\n",
        "top_case_enabled = True\n",
        "top_k = 5\n",
        "class_weight_sharing = True\n",
        "\n",
        "patience = 40\n",
        "```\n",
        "```\n",
        "123\n",
        "# For classification\n",
        "print(np.mean(accuracies))\n",
        "print(np.mean(knn_accuracies))\n",
        "\n",
        "output\n",
        "0.9090909090909092\n",
        "0.36363636363636365\n",
        "```"
      ]
    },
    {
      "cell_type": "markdown",
      "metadata": {
        "id": "99OeX0wUD5EG"
      },
      "source": [
        "```\n",
        "training_epochs = 1000\n",
        "learning_rate = 0.01\n",
        "criterion = torch.nn.CrossEntropyLoss()\n",
        "batch_size = 136\n",
        "\n",
        "fa_weight_sharing_within_segment = True\n",
        "fa_weight_sharing_between_segment = True\n",
        "ca_weight_sharing = False\n",
        "top_case_enabled = True\n",
        "top_k = 5\n",
        "class_weight_sharing = True\n",
        "\n",
        "patience = 40\n",
        "```\n",
        "```\n",
        "123\n",
        "# For classification\n",
        "print(np.mean(accuracies))\n",
        "print(np.mean(knn_accuracies))\n",
        "\n",
        "output\n",
        "0.8727272727272727\n",
        "0.3181818181818182\n",
        "```"
      ]
    },
    {
      "cell_type": "markdown",
      "metadata": {
        "id": "jxMcxPBaE4T1"
      },
      "source": [
        "```\n",
        "training_epochs = 1000\n",
        "learning_rate = 0.01\n",
        "criterion = torch.nn.CrossEntropyLoss()\n",
        "batch_size = 136\n",
        "\n",
        "fa_weight_sharing_within_segment = True\n",
        "fa_weight_sharing_between_segment = True\n",
        "ca_weight_sharing = False\n",
        "top_case_enabled = False\n",
        "top_k = 5\n",
        "class_weight_sharing = True\n",
        "\n",
        "patience = 40\n",
        "```\n",
        "```\n",
        "123\n",
        "# For classification\n",
        "print(np.mean(accuracies))\n",
        "print(np.mean(knn_accuracies))\n",
        "\n",
        "output\n",
        "0.8727272727272727\n",
        "0.34545454545454546\n",
        "```"
      ]
    },
    {
      "cell_type": "markdown",
      "metadata": {
        "id": "0xBV-JBRFnsH"
      },
      "source": [
        "```\n",
        "training_epochs = 1000\n",
        "learning_rate = 0.01\n",
        "criterion = torch.nn.CrossEntropyLoss()\n",
        "batch_size = 136\n",
        "\n",
        "fa_weight_sharing_within_segment = True\n",
        "fa_weight_sharing_between_segment = True\n",
        "ca_weight_sharing = True\n",
        "top_case_enabled = False\n",
        "top_k = 5\n",
        "class_weight_sharing = True\n",
        "\n",
        "patience = 40\n",
        "```\n",
        "```\n",
        "123\n",
        "# For classification\n",
        "print(np.mean(accuracies))\n",
        "print(np.mean(knn_accuracies))\n",
        "\n",
        "output\n",
        "0.9181818181818182\n",
        "0.3090909090909091\n",
        "```"
      ]
    },
    {
      "cell_type": "markdown",
      "metadata": {
        "id": "tSOsMVN0q5oO"
      },
      "source": [
        "##Results, classification, double zebra"
      ]
    },
    {
      "cell_type": "markdown",
      "metadata": {
        "id": "p4NG5pN4rJKs"
      },
      "source": [
        "```\n",
        "training_epochs = 1000\n",
        "learning_rate = 0.01\n",
        "criterion = torch.nn.CrossEntropyLoss()\n",
        "batch_size = 100\n",
        "\n",
        "fa_weight_sharing_within_segment = True\n",
        "fa_weight_sharing_between_segment = True\n",
        "ca_weight_sharing = True\n",
        "top_case_enabled = True\n",
        "top_k = 5\n",
        "class_weight_sharing = True\n",
        "\n",
        "patience = 40\n",
        "```\n",
        "```\n",
        "123\n",
        "# For classification\n",
        "print(np.mean(accuracies))\n",
        "print(np.mean(knn_accuracies))\n",
        "\n",
        "output\n",
        "0.85\n",
        "0.36818181818181817\n",
        "```"
      ]
    },
    {
      "cell_type": "markdown",
      "metadata": {
        "id": "CM0I_QD7s00D"
      },
      "source": [
        "```\n",
        "training_epochs = 1000\n",
        "learning_rate = 0.01\n",
        "criterion = torch.nn.CrossEntropyLoss()\n",
        "batch_size = 100\n",
        "\n",
        "fa_weight_sharing_within_segment = True\n",
        "fa_weight_sharing_between_segment = False\n",
        "ca_weight_sharing = True\n",
        "top_case_enabled = True\n",
        "top_k = 5\n",
        "class_weight_sharing = True\n",
        "\n",
        "patience = 40\n",
        "```\n",
        "```\n",
        "123\n",
        "# For classification\n",
        "print(np.mean(accuracies))\n",
        "print(np.mean(knn_accuracies))\n",
        "\n",
        "output\n",
        "0.9727272727272729\n",
        "0.39545454545454545\n",
        "```"
      ]
    },
    {
      "cell_type": "markdown",
      "metadata": {
        "id": "3FkVw9gg2qi6"
      },
      "source": [
        "```\n",
        "training_epochs = 1000\n",
        "learning_rate = 0.01\n",
        "criterion = torch.nn.CrossEntropyLoss()\n",
        "batch_size = 100\n",
        "\n",
        "fa_weight_sharing_within_segment = True\n",
        "fa_weight_sharing_between_segment = True\n",
        "ca_weight_sharing = False\n",
        "top_case_enabled = True\n",
        "top_k = 5\n",
        "class_weight_sharing = True\n",
        "\n",
        "patience = 40\n",
        "```\n",
        "\n",
        "case weighting can compensate!! Even\n",
        "\n",
        "```\n",
        "123\n",
        "# For classification\n",
        "print(np.mean(accuracies))\n",
        "print(np.mean(knn_accuracies))\n",
        "\n",
        "output\n",
        "0.9681818181818181\n",
        "0.36818181818181817\n",
        "```"
      ]
    },
    {
      "cell_type": "markdown",
      "metadata": {
        "id": "yv1COulNQdAY"
      },
      "source": [
        "##Results, classification, fetch_olivetti_faces"
      ]
    },
    {
      "cell_type": "markdown",
      "metadata": {
        "id": "Ggj0rN4XQhBt"
      },
      "source": [
        "```\n",
        "training_epochs = 1000\n",
        "learning_rate = 0.01\n",
        "criterion = torch.nn.CrossEntropyLoss()\n",
        "batch_size = 136\n",
        "\n",
        "fa_weight_sharing_within_segment = True\n",
        "fa_weight_sharing_between_segment = True\n",
        "ca_weight_sharing = True\n",
        "top_case_enabled = True\n",
        "top_k = 5\n",
        "class_weight_sharing = True\n",
        "\n",
        "patience = 40\n",
        "```\n",
        "```\n",
        "0s\n",
        "123\n",
        "# For classificationprint(np.mean(accuracies))\n",
        "print(np.mean(knn_accuracies))\n",
        "\n",
        "output\n",
        "0.8625\n",
        "0.85\n",
        "```"
      ]
    },
    {
      "cell_type": "markdown",
      "metadata": {
        "id": "x1C9EQRsHflK"
      },
      "source": [
        "```\n",
        "training_epochs = 1000\n",
        "learning_rate = 0.01\n",
        "criterion = torch.nn.CrossEntropyLoss()\n",
        "batch_size = 136\n",
        "\n",
        "fa_weight_sharing_within_segment = True\n",
        "fa_weight_sharing_between_segment = True\n",
        "ca_weight_sharing = False\n",
        "top_case_enabled = True\n",
        "top_k = 5\n",
        "class_weight_sharing = True\n",
        "\n",
        "patience = 40\n",
        "```\n",
        "```\n",
        "123\n",
        "# For classificationprint(np.mean(accuracies))\n",
        "print(np.mean(knn_accuracies))\n",
        "\n",
        "output\n",
        "0.9349999999999998\n",
        "0.85\n",
        "```"
      ]
    },
    {
      "cell_type": "markdown",
      "metadata": {
        "id": "w7RU-RRcDC6F"
      },
      "source": [
        "```\n",
        "training_epochs = 1000\n",
        "learning_rate = 0.01\n",
        "criterion = torch.nn.CrossEntropyLoss()\n",
        "batch_size = 136\n",
        "\n",
        "fa_weight_sharing_within_segment = True\n",
        "fa_weight_sharing_between_segment = True\n",
        "ca_weight_sharing = False\n",
        "top_case_enabled = False\n",
        "top_k = 5\n",
        "class_weight_sharing = True\n",
        "\n",
        "patience = 40\n",
        "```\n",
        "```\n",
        "123\n",
        "# For classification\n",
        "print(np.mean(accuracies))\n",
        "print(np.mean(knn_accuracies))\n",
        "\n",
        "output\n",
        "0.9875\n",
        "0.8875\n",
        "```"
      ]
    },
    {
      "cell_type": "markdown",
      "metadata": {
        "id": "wCYyxPiJ3sl7"
      },
      "source": [
        "##Results, classification, digits"
      ]
    },
    {
      "cell_type": "markdown",
      "metadata": {
        "id": "vJnfWHP1j57Y"
      },
      "source": [
        "```\n",
        "training_epochs = 1000\n",
        "learning_rate = 0.01\n",
        "criterion = torch.nn.CrossEntropyLoss()\n",
        "batch_size = 300\n",
        "\n",
        "fa_weight_sharing_within_segment = True\n",
        "fa_weight_sharing_between_segment = True\n",
        "ca_weight_sharing = True\n",
        "top_case_enabled = True\n",
        "top_k = 5\n",
        "class_weight_sharing = True\n",
        "\n",
        "patience = 40\n",
        "```\n",
        "During this run, we noticed that the training stopped pretty fast after patience. If patience is 40, we often stop before 50. This means that this data set is actually easy.\n",
        "```\n",
        "123\n",
        "# For classification\n",
        "print(np.mean(accuracies))\n",
        "print(np.mean(knn_accuracies))\n",
        "output\n",
        "0.9833022967101179\n",
        "0.9872004965859714\n",
        "```"
      ]
    },
    {
      "cell_type": "markdown",
      "metadata": {
        "id": "rkXc8OnvMI2m"
      },
      "source": [
        "```\n",
        "training_epochs = 1000\n",
        "learning_rate = 0.01\n",
        "criterion = torch.nn.CrossEntropyLoss()\n",
        "batch_size = 300\n",
        "\n",
        "fa_weight_sharing_within_segment = True\n",
        "fa_weight_sharing_between_segment = True\n",
        "ca_weight_sharing = True\n",
        "top_case_enabled = False\n",
        "top_k = 5\n",
        "class_weight_sharing = True\n",
        "\n",
        "patience = 40\n",
        "```\n",
        "```\n",
        "0.9872036002482931\n",
        "0.9872098075729362\n",
        "```"
      ]
    },
    {
      "cell_type": "markdown",
      "metadata": {
        "id": "Q0ts8a5_o_gP"
      },
      "source": [
        "```\n",
        "training_epochs = 1000\n",
        "learning_rate = 0.01\n",
        "criterion = torch.nn.CrossEntropyLoss()\n",
        "batch_size = 300\n",
        "\n",
        "fa_weight_sharing_within_segment = True\n",
        "fa_weight_sharing_between_segment = True\n",
        "ca_weight_sharing = False\n",
        "top_case_enabled = False\n",
        "top_k = 5\n",
        "class_weight_sharing = True\n",
        "\n",
        "patience = 40\n",
        "```\n",
        "```\n",
        "# For classification\n",
        "print(np.mean(accuracies))\n",
        "print(np.mean(knn_accuracies))\n",
        "0.988\n",
        "0.985\n",
        "```"
      ]
    },
    {
      "cell_type": "markdown",
      "metadata": {
        "id": "_srOl9RDC4E_"
      },
      "source": [
        "##Results, classification, iris"
      ]
    },
    {
      "cell_type": "markdown",
      "metadata": {
        "id": "_d87QjdBtP7w"
      },
      "source": [
        "```\n",
        "training_epochs = 1000\n",
        "learning_rate = 0.01\n",
        "criterion = torch.nn.CrossEntropyLoss()\n",
        "batch_size = 300\n",
        "\n",
        "fa_weight_sharing_within_segment = True\n",
        "fa_weight_sharing_between_segment = True\n",
        "ca_weight_sharing = True\n",
        "top_case_enabled = True\n",
        "top_k = 5\n",
        "class_weight_sharing = True\n",
        "\n",
        "patience = 40\n",
        "```\n",
        "\n",
        "```\n",
        "123\n",
        "# For classification\n",
        "print(np.mean(accuracies))\n",
        "print(np.mean(knn_accuracies))\n",
        "output\n",
        "0.9266666666666667\n",
        "0.9666666666666668\n",
        "```"
      ]
    },
    {
      "cell_type": "markdown",
      "metadata": {
        "id": "ivz0QCjhzpqM"
      },
      "source": [
        "```\n",
        "training_epochs = 1000\n",
        "learning_rate = 0.01\n",
        "criterion = torch.nn.CrossEntropyLoss()\n",
        "batch_size = 300\n",
        "\n",
        "fa_weight_sharing_within_segment = True\n",
        "fa_weight_sharing_between_segment = True\n",
        "ca_weight_sharing = True\n",
        "top_case_enabled = False\n",
        "top_k = 5\n",
        "class_weight_sharing = True\n",
        "\n",
        "patience = 40\n",
        "```\n",
        "```\n",
        "123\n",
        "# For classification\n",
        "print(np.mean(accuracies))\n",
        "print(np.mean(knn_accuracies))\n",
        "output\n",
        "0.9666666666666668\n",
        "0.96\n",
        "```\n"
      ]
    },
    {
      "cell_type": "markdown",
      "metadata": {
        "id": "FJ02ethFJ0B0"
      },
      "source": [
        "```\n",
        "training_epochs = 1000\n",
        "learning_rate = 0.01\n",
        "criterion = torch.nn.CrossEntropyLoss()\n",
        "batch_size = 300\n",
        "\n",
        "fa_weight_sharing_within_segment = True\n",
        "fa_weight_sharing_between_segment = True\n",
        "ca_weight_sharing = False\n",
        "top_case_enabled = False\n",
        "top_k = 5\n",
        "class_weight_sharing = True\n",
        "\n",
        "patience = 40\n",
        "```\n",
        "```\n",
        "123\n",
        "# For classification\n",
        "print(np.mean(accuracies))\n",
        "print(np.mean(knn_accuracies))\n",
        "output\n",
        "0.96\n",
        "0.9666666666666668\n",
        "```"
      ]
    },
    {
      "cell_type": "markdown",
      "metadata": {
        "id": "oqSg9--skYJy"
      },
      "source": [
        "```\n",
        "training_epochs = 1000\n",
        "learning_rate = 0.01\n",
        "criterion = torch.nn.CrossEntropyLoss()\n",
        "batch_size = 300\n",
        "\n",
        "fa_weight_sharing_within_segment = False\n",
        "fa_weight_sharing_between_segment = True\n",
        "ca_weight_sharing = True\n",
        "top_case_enabled = True\n",
        "top_k = 5\n",
        "class_weight_sharing = True\n",
        "\n",
        "patience = 40\n",
        "```\n",
        "```\n",
        "123\n",
        "# For classification\n",
        "print(np.mean(accuracies))\n",
        "print(np.mean(knn_accuracies))\n",
        "output\n",
        "0.9533333333333334\n",
        "0.96\n",
        "```"
      ]
    },
    {
      "cell_type": "markdown",
      "metadata": {
        "id": "pp1OFAQOziaS"
      },
      "source": [
        "##Results, classification, wine"
      ]
    },
    {
      "cell_type": "markdown",
      "metadata": {
        "id": "j-vxACVlzk1u"
      },
      "source": [
        "```\n",
        "training_epochs = 1000\n",
        "learning_rate = 0.01\n",
        "criterion = torch.nn.CrossEntropyLoss()\n",
        "batch_size = 300\n",
        "\n",
        "fa_weight_sharing_within_segment = True\n",
        "fa_weight_sharing_between_segment = True\n",
        "ca_weight_sharing = True\n",
        "top_case_enabled = True\n",
        "top_k = 5\n",
        "class_weight_sharing = True\n",
        "\n",
        "patience = 40\n",
        "```\n",
        "```\n",
        "123\n",
        "# For classificationprint(np.mean(accuracies))print(np.mean(knn_accuracies))\n",
        "\n",
        "output\n",
        "0.961111111111111\n",
        "0.6803921568627451\n",
        "```\n",
        "old\n",
        "```\n",
        "123\n",
        "# For classification\n",
        "print(np.mean(accuracies))\n",
        "print(np.mean(knn_accuracies))\n",
        "output\n",
        "0.8663398692810457\n",
        "0.6980392156862746\n",
        "```\n"
      ]
    },
    {
      "cell_type": "markdown",
      "metadata": {
        "id": "OI9xXzSz0yyL"
      },
      "source": [
        "```\n",
        "training_epochs = 1000\n",
        "learning_rate = 0.01\n",
        "criterion = torch.nn.CrossEntropyLoss()\n",
        "batch_size = 300\n",
        "\n",
        "fa_weight_sharing_within_segment = True\n",
        "fa_weight_sharing_between_segment = True\n",
        "ca_weight_sharing = True\n",
        "top_case_enabled = False\n",
        "top_k = 5\n",
        "class_weight_sharing = True\n",
        "\n",
        "patience = 40\n",
        "```\n",
        "new\n",
        "```\n",
        "123\n",
        "# For classification\n",
        "print(np.mean(accuracies))\n",
        "print(np.mean(knn_accuracies))\n",
        "\n",
        "output\n",
        "0.9944444444444445\n",
        "0.6839869281045752\n",
        "```\n",
        "\n",
        "old\n",
        "```\n",
        "123\n",
        "# For classification\n",
        "print(np.mean(accuracies))\n",
        "print(np.mean(knn_accuracies))\n",
        "output\n",
        "0.8052287581699347\n",
        "0.684640522875817\n",
        "```"
      ]
    },
    {
      "cell_type": "markdown",
      "metadata": {
        "id": "FRgzE4jl1E_v"
      },
      "source": [
        "```\n",
        "training_epochs = 1000\n",
        "learning_rate = 0.01\n",
        "criterion = torch.nn.CrossEntropyLoss()\n",
        "batch_size = 300\n",
        "\n",
        "fa_weight_sharing_within_segment = True\n",
        "fa_weight_sharing_between_segment = True\n",
        "ca_weight_sharing = False\n",
        "top_case_enabled = True\n",
        "top_k = 5\n",
        "class_weight_sharing = True\n",
        "\n",
        "patience = 40\n",
        "```\n",
        "new\n",
        "```\n",
        "123\n",
        "# For classification\n",
        "print(np.mean(accuracies))\n",
        "print(np.mean(knn_accuracies))\n",
        "\n",
        "output\n",
        "0.9666666666666666\n",
        "0.7026143790849673\n",
        "```\n",
        "\n",
        "old\n",
        "```\n",
        "123\n",
        "# For classification\n",
        "print(np.mean(accuracies))\n",
        "print(np.mean(knn_accuracies))\n",
        "output\n",
        "0.6781045751633987\n",
        "0.6915032679738562\n",
        "```\n",
        "This result is to be expected. As we don't share weighting, topk may not work because different cases can be trained during training. They do not work collectively as well during testing, as different set of cases could be retrieved."
      ]
    },
    {
      "cell_type": "markdown",
      "metadata": {
        "id": "ASjRV9422nzQ"
      },
      "source": [
        "```\n",
        "training_epochs = 1000\n",
        "learning_rate = 0.01\n",
        "criterion = torch.nn.CrossEntropyLoss()\n",
        "batch_size = 300\n",
        "\n",
        "fa_weight_sharing_within_segment = True\n",
        "fa_weight_sharing_between_segment = True\n",
        "ca_weight_sharing = False\n",
        "top_case_enabled = False\n",
        "top_k = 5\n",
        "class_weight_sharing = True\n",
        "\n",
        "patience = 40\n",
        "```\n",
        "new\n",
        "```\n",
        "123\n",
        "# For classification\n",
        "print(np.mean(accuracies))\n",
        "print(np.mean(knn_accuracies))\n",
        "\n",
        "output\n",
        "0.9833333333333334\n",
        "0.7189542483660131\n",
        "```\n",
        "\n",
        "\n",
        "old\n",
        "```\n",
        "123\n",
        "# For classification\n",
        "print(np.mean(accuracies))\n",
        "print(np.mean(knn_accuracies))\n",
        "output\n",
        "0.6970588235294117\n",
        "0.696078431372549\n",
        "```\n",
        "It seems that, weight sharing is really good for this data set."
      ]
    },
    {
      "cell_type": "markdown",
      "metadata": {
        "id": "VQ7e2l7lX6Es"
      },
      "source": [
        "##Results, classification, breast cancer"
      ]
    },
    {
      "cell_type": "markdown",
      "metadata": {
        "id": "G6Dz9gwyzLiR"
      },
      "source": [
        "I reran things below. Something wasn't right with the kNN"
      ]
    },
    {
      "cell_type": "markdown",
      "metadata": {
        "id": "6YrhxmJ3lxVr"
      },
      "source": [
        "```\n",
        "training_epochs = 1000\n",
        "learning_rate = 0.01\n",
        "criterion = torch.nn.CrossEntropyLoss()\n",
        "batch_size = 136\n",
        "\n",
        "fa_weight_sharing_within_segment = True\n",
        "fa_weight_sharing_between_segment = True\n",
        "ca_weight_sharing = True\n",
        "top_case_enabled = True\n",
        "top_k = 5\n",
        "class_weight_sharing = True\n",
        "\n",
        "patience = 40\n",
        "```\n",
        "```\n",
        "123\n",
        "# For classification\n",
        "print(np.mean(accuracies))\n",
        "print(np.mean(knn_accuracies))\n",
        "output\n",
        "0.9455513784461151\n",
        "0.4514411027568922\n",
        "```\n",
        "????\n",
        "Old result below, it is so different from our new one?\n",
        "```\n",
        "123\n",
        "# For classification\n",
        "print(np.mean(accuracies))\n",
        "print(np.mean(knn_accuracies))\n",
        "output\n",
        "0.9104323308270675\n",
        "0.9297932330827068\n",
        "```"
      ]
    },
    {
      "cell_type": "markdown",
      "metadata": {
        "id": "xmQz3W1fqkOL"
      },
      "source": [
        "```\n",
        "training_epochs = 1000\n",
        "learning_rate = 0.01\n",
        "criterion = torch.nn.CrossEntropyLoss()\n",
        "batch_size = 136\n",
        "\n",
        "fa_weight_sharing_within_segment = True\n",
        "fa_weight_sharing_between_segment = True\n",
        "ca_weight_sharing = True\n",
        "top_case_enabled = False\n",
        "top_k = 5\n",
        "class_weight_sharing = True\n",
        "\n",
        "patience = 40\n",
        "```\n",
        "```\n",
        "123\n",
        "# For classification\n",
        "print(np.mean(accuracies))\n",
        "print(np.mean(knn_accuracies))\n",
        "output\n",
        "0.9420112781954886\n",
        "0.47092731829573936\n",
        "```\n",
        "This 0.47 is probably something going wrong... We can ignore this one and use other knn accuracies"
      ]
    },
    {
      "cell_type": "markdown",
      "metadata": {
        "id": "SFEv9cn6rnhS"
      },
      "source": [
        "\n",
        "\n",
        "```\n",
        "training_epochs = 1000\n",
        "learning_rate = 0.01\n",
        "criterion = torch.nn.CrossEntropyLoss()\n",
        "batch_size = 136\n",
        "\n",
        "fa_weight_sharing_within_segment = True\n",
        "fa_weight_sharing_between_segment = True\n",
        "ca_weight_sharing = False\n",
        "top_case_enabled = True\n",
        "top_k = 5\n",
        "class_weight_sharing = True\n",
        "\n",
        "patience = 40\n",
        "```\n",
        "```\n",
        "123\n",
        "# For classification\n",
        "print(np.mean(accuracies))\n",
        "print(np.mean(knn_accuracies))\n",
        "output\n",
        "0.9227130325814535\n",
        "0.9332706766917293\n",
        "```"
      ]
    },
    {
      "cell_type": "markdown",
      "metadata": {
        "id": "TfLJaow_rq36"
      },
      "source": [
        "```\n",
        "training_epochs = 1000\n",
        "learning_rate = 0.01\n",
        "criterion = torch.nn.CrossEntropyLoss()\n",
        "batch_size = 136\n",
        "\n",
        "fa_weight_sharing_within_segment = True\n",
        "fa_weight_sharing_between_segment = True\n",
        "ca_weight_sharing = False\n",
        "top_case_enabled = False\n",
        "top_k = 5\n",
        "class_weight_sharing = True\n",
        "\n",
        "patience = 40\n",
        "```\n",
        "```\n",
        "123\n",
        "# For classification\n",
        "print(np.mean(accuracies))\n",
        "print(np.mean(knn_accuracies))\n",
        "output\n",
        "0.9595551378446114\n",
        "0.9332080200501254\n",
        "```"
      ]
    },
    {
      "cell_type": "markdown",
      "metadata": {
        "id": "Ox8LsmRb5DnI"
      },
      "source": [
        "##Results, regression, Diabetes"
      ]
    },
    {
      "cell_type": "markdown",
      "metadata": {
        "id": "WiyPBzOA15nV"
      },
      "source": [
        "DOING, continue rerun my experiments from here"
      ]
    },
    {
      "cell_type": "markdown",
      "metadata": {
        "id": "OnS97fLj5Kj7"
      },
      "source": [
        "loss is MSE"
      ]
    },
    {
      "cell_type": "markdown",
      "metadata": {
        "id": "SGQbG9nj5FqQ"
      },
      "source": [
        "```\n",
        "For the vanilla neural network\n",
        "\n",
        "Average loss on the test set: 5937.172802734375\n",
        "```\n",
        "\n",
        "This is a bad neural net as it only outputs a single number as output\n",
        "\n",
        "I am not sure why. I also tried training with batch but no good result`\n",
        "\n",
        "This neural network should be powerful enough as it has about 900 parameters"
      ]
    },
    {
      "cell_type": "markdown",
      "metadata": {
        "id": "HNvHmRF_D1ul"
      },
      "source": [
        "```\n",
        "training_epochs = 1000\n",
        "learning_rate = 0.01\n",
        "criterion = torch.nn.MSELoss()\n",
        "batch_size = 100\n",
        "\n",
        "fa_weight_sharing_within_segment = True\n",
        "fa_weight_sharing_between_segment = True\n",
        "ca_weight_sharing = True\n",
        "top_case_enabled = True\n",
        "top_k = 5\n",
        "class_weight_sharing = True\n",
        "nn_cdh_enabled = False\n",
        "\n",
        "patience = 40\n",
        "```\n",
        "```\n",
        "# For regressionprint(torch.mean( torch.stack(accuracies, dim=0)))\n",
        "print(np.mean(top_k_average_accuracies))\n",
        "print(np.mean(knn_accuracies))\n",
        "\n",
        "output\n",
        "tensor(6001.3232, grad_fn=<MeanBackward0>)\n",
        "3944.142\n",
        "3665.2056\n",
        "```"
      ]
    },
    {
      "cell_type": "markdown",
      "metadata": {
        "id": "LvLNHcb9GKqJ"
      },
      "source": [
        "Here we see that our model performs worse than baseline knn. I think it's because top k is enabled.\n",
        "\n",
        "Let's turn off top k and see what happens."
      ]
    },
    {
      "cell_type": "markdown",
      "metadata": {
        "id": "pwKD02lLXNcr"
      },
      "source": [
        "```\n",
        "training_epochs = 1000\n",
        "learning_rate = 0.01\n",
        "criterion = torch.nn.MSELoss()\n",
        "batch_size = 100\n",
        "\n",
        "fa_weight_sharing_within_segment = True\n",
        "fa_weight_sharing_between_segment = True\n",
        "ca_weight_sharing = True\n",
        "top_case_enabled = False\n",
        "top_k = 5\n",
        "class_weight_sharing = True\n",
        "nn_cdh_enabled = False\n",
        "\n",
        "patience = 40\n",
        "```\n",
        "\n",
        "```\n",
        "12345\n",
        "# For regressionprint(torch.mean( torch.stack(accuracies, dim=0)))\n",
        "print(np.mean(top_k_average_accuracies))print(np.mean(knn_accuracies))\n",
        "\n",
        "output\n",
        "tensor(3819.3308, grad_fn=<MeanBackward0>)\n",
        "4752.0566\n",
        "3813.1926\n",
        "```"
      ]
    },
    {
      "cell_type": "markdown",
      "metadata": {
        "id": "o2BEzJkmhlZc"
      },
      "source": [
        "Turning off ca_weight_sharing"
      ]
    },
    {
      "cell_type": "markdown",
      "metadata": {
        "id": "y0_FoDeMhtLt"
      },
      "source": [
        "```\n",
        "training_epochs = 1000\n",
        "learning_rate = 0.01\n",
        "criterion = torch.nn.MSELoss()\n",
        "batch_size = 100\n",
        "\n",
        "fa_weight_sharing_within_segment = True\n",
        "fa_weight_sharing_between_segment = True\n",
        "ca_weight_sharing = False\n",
        "top_case_enabled = False\n",
        "top_k = 5\n",
        "class_weight_sharing = True\n",
        "nn_cdh_enabled = False\n",
        "\n",
        "patience = 40\n",
        "```\n",
        "```\n",
        "12345\n",
        "# For regression\n",
        "print(torch.mean( torch.stack(accuracies, dim=0)))\n",
        "print(np.mean(top_k_average_accuracies))\n",
        "print(np.mean(knn_accuracies))\n",
        "\n",
        "output\n",
        "tensor(3560.3840, grad_fn=<MeanBackward0>)\n",
        "5768.119\n",
        "3647.5903\n",
        "```"
      ]
    },
    {
      "cell_type": "markdown",
      "metadata": {
        "id": "1_6SF2ysoNuF"
      },
      "source": [
        "```\n",
        "1234\n",
        "print(torch.mean( torch.stack(accuracies, dim=0)))\n",
        "print(np.mean(top_k_average_accuracies))\n",
        "print(np.mean(knn_accuracies))\n",
        "\n",
        "output\n",
        "tensor(3385.0386, grad_fn=<MeanBackward0>)\n",
        "5738.933\n",
        "3572.9805\n",
        "```"
      ]
    },
    {
      "cell_type": "markdown",
      "metadata": {
        "id": "m4rIyA5RWxac"
      },
      "source": [
        "##Results, regression, California\n",
        "\n",
        "All the leaves are brown ~\n",
        "\n"
      ]
    },
    {
      "cell_type": "markdown",
      "metadata": {
        "id": "LUSW7u59VumL"
      },
      "source": [
        "California Housing Dataset"
      ]
    },
    {
      "cell_type": "markdown",
      "metadata": {
        "id": "H_-P0DljcmNQ"
      },
      "source": [
        "```\n",
        "For the vanilla neural network\n",
        "\n",
        "Loss on the test set: 1.3838589191436768\n",
        "```"
      ]
    },
    {
      "cell_type": "markdown",
      "metadata": {
        "id": "vD86mIVQW4tJ"
      },
      "source": [
        "```\n",
        "training_epochs = 1000\n",
        "learning_rate = 0.01\n",
        "criterion = torch.nn.MSELoss()\n",
        "batch_size = 100\n",
        "\n",
        "fa_weight_sharing_within_segment = True\n",
        "fa_weight_sharing_between_segment = True\n",
        "ca_weight_sharing = True\n",
        "top_case_enabled = True\n",
        "top_k = 5\n",
        "\n",
        "class_weight_sharing = True\n",
        "nn_cdh_enabled = False\n",
        "\n",
        "patience = 40\n",
        "```\n",
        "```\n",
        "print(torch.mean( torch.stack(accuracies, dim=0)))\n",
        "print(np.mean(top_k_average_accuracies))\n",
        "print(np.mean(knn_accuracies))\n",
        "\n",
        "tensor(0.8763, grad_fn=<MeanBackward0>)\n",
        "0.7351894\n",
        "1.4575317\n",
        "```"
      ]
    },
    {
      "cell_type": "markdown",
      "metadata": {
        "id": "PYMXym3iMigp"
      },
      "source": [
        "```\n",
        "training_epochs = 1000\n",
        "learning_rate = 0.01\n",
        "criterion = torch.nn.MSELoss()\n",
        "batch_size = 100\n",
        "\n",
        "fa_weight_sharing_within_segment = True\n",
        "fa_weight_sharing_between_segment = True\n",
        "ca_weight_sharing = True\n",
        "top_case_enabled = False\n",
        "top_k = 5\n",
        "class_weight_sharing = True\n",
        "nn_cdh_enabled = False\n",
        "\n",
        "patience = 40\n",
        "```\n",
        "\n",
        "```\n",
        "12345\n",
        "# For regressionprint(torch.mean( torch.stack(accuracies, dim=0)))\n",
        "print(np.mean(top_k_average_accuracies))\n",
        "print(np.mean(knn_accuracies))\n",
        "\n",
        "account_circle\n",
        "tensor(0.8593, grad_fn=<MeanBackward0>)\n",
        "0.8837114\n",
        "1.4449631\n",
        "```\n"
      ]
    },
    {
      "cell_type": "markdown",
      "metadata": {
        "id": "JXdfL9-aN15y"
      },
      "source": [
        "```\n",
        "training_epochs = 1000\n",
        "learning_rate = 0.01\n",
        "criterion = torch.nn.MSELoss()\n",
        "batch_size = 100\n",
        "\n",
        "fa_weight_sharing_within_segment = True\n",
        "fa_weight_sharing_between_segment = True\n",
        "ca_weight_sharing = False\n",
        "top_case_enabled = False\n",
        "top_k = 5\n",
        "class_weight_sharing = True\n",
        "nn_cdh_enabled = False\n",
        "\n",
        "patience = 40\n",
        "```\n",
        "```\n",
        "# For regressionprint(torch.mean( torch.stack(accuracies, dim=0)))\n",
        "print(np.mean(top_k_average_accuracies))\n",
        "print(np.mean(knn_accuracies))\n",
        "\n",
        "output\n",
        "tensor(0.6832, grad_fn=<MeanBackward0>)\n",
        "1.179338\n",
        "1.448509\n",
        "```"
      ]
    },
    {
      "cell_type": "markdown",
      "metadata": {
        "id": "Ak6-DEZeZxcb"
      },
      "source": [
        "#Interesting notes  "
      ]
    },
    {
      "cell_type": "markdown",
      "metadata": {
        "id": "oGpEt98hZzzJ"
      },
      "source": [
        "There are lots and lots of design decisions to make for your neural network. Here I list a few:\n",
        "\n",
        "*   For activation functions in each layer, do you use relu (only positive), or leakyRelu (to avoid dead neuron)\n",
        "*   For certain weights, do you want them to be positive only?\n",
        "*   For case->class activation, do you do a ``torch.topk`` to only allow a few top cases to activate or all cases to activate?\n",
        "\n"
      ]
    },
    {
      "cell_type": "markdown",
      "metadata": {
        "id": "jzavJN1pNh-y"
      },
      "source": [
        "#Tensor operation broadcasting experiment"
      ]
    },
    {
      "cell_type": "markdown",
      "metadata": {
        "id": "QkFyuBTFNamy"
      },
      "source": [
        "The above code relies on the broadcasting feature of pytorch tensor operations:\n",
        "\n",
        "PyTorch broadcasts the smaller tensor (tensor2) along the missing dimensions so that its shape matches that of the larger tensor (tensor1). The element-wise multiplication is then performed as usual.\n",
        "\n",
        "Keep in mind that broadcasting has some rules, and the dimensions of the tensors need to be compatible. The trailing dimensions of the tensors must either be the same or one of them should be 1. If a dimension is missing in one of the tensors, PyTorch considers it to be of size 1 for the purpose of broadcasting. If broadcasting cannot be done, PyTorch will raise a RuntimeError."
      ]
    },
    {
      "cell_type": "code",
      "execution_count": null,
      "metadata": {
        "id": "N_u4VvM4MPAf"
      },
      "outputs": [],
      "source": [
        "tensor_1 = torch.randn(1)\n",
        "tensor_2 = torch.randn(10,5)\n",
        "tensor_3 = torch.randn(10,5)"
      ]
    },
    {
      "cell_type": "code",
      "execution_count": null,
      "metadata": {
        "id": "3wWjRKRlnPA7"
      },
      "outputs": [],
      "source": [
        "# result = torch.matmul(tensor_2, tensor_3)\n",
        "result = tensor_2 * tensor_3"
      ]
    },
    {
      "cell_type": "code",
      "execution_count": null,
      "metadata": {
        "id": "k-nboj_-nYzk"
      },
      "outputs": [],
      "source": [
        "result.shape"
      ]
    },
    {
      "cell_type": "code",
      "execution_count": null,
      "metadata": {
        "id": "kM9C_MKBMaLh"
      },
      "outputs": [],
      "source": [
        "print(tensor_1)\n",
        "print(tensor_2)\n",
        "print(tensor_3)"
      ]
    },
    {
      "cell_type": "code",
      "execution_count": null,
      "metadata": {
        "id": "n5TOI7qIMrsh"
      },
      "outputs": [],
      "source": [
        "tensor_2* tensor_3"
      ]
    },
    {
      "cell_type": "code",
      "execution_count": null,
      "metadata": {
        "id": "WU6XNBTHNHh4"
      },
      "outputs": [],
      "source": [
        "tensor_1 * tensor_3"
      ]
    },
    {
      "cell_type": "code",
      "execution_count": null,
      "metadata": {
        "id": "og0Vd1GdMCcG"
      },
      "outputs": [],
      "source": [
        "tensor1 = torch.tensor([5.3712e-01, 1.6094e-01, -8.2879e-02, 7.0379e-01, -1.9436e-01,\n",
        "                        -8.6414e-02, -1.1221e+00, 1.7594e+00, -6.0423e-01, 1.9192e-02])"
      ]
    },
    {
      "cell_type": "code",
      "execution_count": null,
      "metadata": {
        "id": "hSuD7F5BNsat"
      },
      "outputs": [],
      "source": [
        "torch.matmul(tensor1, tensor1)"
      ]
    },
    {
      "cell_type": "code",
      "execution_count": null,
      "metadata": {
        "id": "mcbrjZMhMJKF"
      },
      "outputs": [],
      "source": [
        "tensor2.shape"
      ]
    },
    {
      "cell_type": "code",
      "execution_count": null,
      "metadata": {
        "id": "KJgs8II-Lm05"
      },
      "outputs": [],
      "source": [
        "import torch\n",
        "\n",
        "# Define the 1D tensor\n",
        "tensor1 = torch.tensor([[5.3712e-01, 1.6094e-01, -8.2879e-02, 7.0379e-01, -1.9436e-01,\n",
        "                        -8.6414e-02, -1.1221e+00, 1.7594e+00, -6.0423e-01, 1.9192e-02]])\n",
        "\n",
        "# Define the column vector (2D tensor)\n",
        "tensor2 = torch.tensor([[0.1390],\n",
        "                        [0.0275],\n",
        "                        [-0.5462],\n",
        "                        [-1.9431],\n",
        "                        [-0.0524],\n",
        "                        [0.9949],\n",
        "                        [-2.7876],\n",
        "                        [0.3611],\n",
        "                        [0.0308],\n",
        "                        [0.0524]])\n",
        "\n",
        "# Element-wise multiplication\n",
        "result = torch.matmul(tensor1 , tensor2)\n",
        "\n",
        "\n",
        "\n",
        "# Alternatively, you can use the * operator\n",
        "# result = tensor1 * tensor2.squeeze()\n",
        "\n",
        "print(result)\n"
      ]
    },
    {
      "cell_type": "code",
      "execution_count": null,
      "metadata": {
        "id": "MXEY0twgLP9K"
      },
      "outputs": [],
      "source": [
        "torch.matmul(tensor_2, tensor_3)"
      ]
    },
    {
      "cell_type": "code",
      "execution_count": null,
      "metadata": {
        "id": "9yjIqbApsCLk"
      },
      "outputs": [],
      "source": [
        "torch.matmul(tensor_3, tensor_2)"
      ]
    }
  ],
  "metadata": {
    "accelerator": "GPU",
    "colab": {
      "provenance": [],
      "machine_shape": "hm",
      "collapsed_sections": [
        "hdMkoZr_KgZX",
        "8vxYpkSzeWw_",
        "f2NnlWpVWqn6"
      ],
      "toc_visible": true,
      "include_colab_link": true
    },
    "kernelspec": {
      "display_name": "Python 3",
      "name": "python3"
    },
    "language_info": {
      "name": "python"
    }
  },
  "nbformat": 4,
  "nbformat_minor": 0
}