{
  "cells": [
    {
      "cell_type": "markdown",
      "metadata": {
        "id": "view-in-github",
        "colab_type": "text"
      },
      "source": [
        "<a href=\"https://colab.research.google.com/github/Heuzi/NN-kNN/blob/main/backup_of_nnknn_02_10_2024.ipynb\" target=\"_parent\"><img src=\"https://colab.research.google.com/assets/colab-badge.svg\" alt=\"Open In Colab\"/></a>"
      ]
    },
    {
      "cell_type": "markdown",
      "source": [
        "#How to use this file\n",
        "\n",
        "Run everything in \"Module definitions\" section. This will set up all the classes needed.\n",
        "\n",
        "Run the section \"pydml\" to access knn using other distance metric learning algorithms.\n",
        "\n",
        "Run a subsection in \"Data Sets\" section to load the data set you want.\n",
        "\n",
        "If the data set is a regression data set, run \"Standardize Regression Data sets\"\n",
        "\n",
        "Run either \"classification\" or \"Regression\".\n",
        "Notice that at the beginning of these two sections, there are settings you can tune for NN-kNN\n",
        "\n",
        "Run \"Result look up\" section to check results.\n",
        "\n",
        "Good luck, future Ye or whoever reads this.\n",
        "\n",
        "--- Past Ye\n",
        "\n",
        "This is a backup file, that should work for all experiments described in the paper: \"Combining Interpretability and Neural Network Power: A Neural Network based K-Nearest Neighbor Algorithm\""
      ],
      "metadata": {
        "id": "OJDLyd_l9gP_"
      }
    },
    {
      "cell_type": "markdown",
      "source": [
        "##Important settings for best performance"
      ],
      "metadata": {
        "id": "ReXmju_QUAEA"
      }
    },
    {
      "cell_type": "markdown",
      "source": [
        "Regularizer like L2 REGULARIZATION WILL LOWER THE ACCURACY OF NNKNN!"
      ],
      "metadata": {
        "id": "SSmWpl7f9m7H"
      }
    },
    {
      "cell_type": "markdown",
      "source": [
        "default case activation layer's bias needs to be carefully set.\n",
        "\n",
        "```\n",
        "    # self.bias = torch.nn.Parameter(torch.ones(num_cases) * num_features/2 )\n",
        "    self.bias = torch.nn.Parameter(torch.ones(num_cases) )\n",
        "```\n",
        "These two choices depends on the number of features you have. If you have too many features and the feature distances are big, they might reduce your case activation to 0 and therefore no learning can occur. In that case, use the first one.\n"
      ],
      "metadata": {
        "id": "UBH03nbnUDQ9"
      }
    },
    {
      "cell_type": "markdown",
      "metadata": {
        "id": "8091XltONjJx"
      },
      "source": [
        "#Module definitions"
      ]
    },
    {
      "cell_type": "markdown",
      "metadata": {
        "id": "n2l83dT3OnGc"
      },
      "source": [
        "Boring imports"
      ]
    },
    {
      "cell_type": "code",
      "execution_count": null,
      "metadata": {
        "id": "J5zwSxqSOkaM"
      },
      "outputs": [],
      "source": [
        "import torch\n",
        "import torch.nn as nn\n",
        "import math\n",
        "import numpy as np\n",
        "import matplotlib.pyplot as plt\n",
        "from sklearn.model_selection import KFold\n"
      ]
    },
    {
      "cell_type": "markdown",
      "metadata": {
        "id": "cxlGKTJXHTpq"
      },
      "source": [
        "##New Feature Act Layer"
      ]
    },
    {
      "cell_type": "code",
      "source": [
        "dropout_rate = 0.5"
      ],
      "metadata": {
        "id": "iw7AZFbHmpCh"
      },
      "execution_count": null,
      "outputs": []
    },
    {
      "cell_type": "code",
      "execution_count": null,
      "metadata": {
        "id": "OxfVJTwmHSd6"
      },
      "outputs": [],
      "source": [
        "class FeatureActivationLayer(torch.nn.Module):\n",
        "  '''\n",
        "    measures the feature distance/activation between query and all cases\n",
        "  '''\n",
        "  def __init__(self, num_features, num_cases, cases, hidden_layers = False):\n",
        "    super().__init__()\n",
        "    #we assume feature weight sharing between segments\n",
        "    self.feature_matrix = cases\n",
        "    self.f1weight = torch.nn.Parameter(torch.ones(num_features))\n",
        "    # self.activation_func = torch.relu\n",
        "\n",
        "    self.hidden_layers = hidden_layers\n",
        "    hidden_dim = num_features * 2\n",
        "    extract_dim = num_features\n",
        "    self.layer1 = nn.Linear(num_features, hidden_dim)\n",
        "    self.relu = nn.ReLU()\n",
        "    self.dropout = nn.Dropout(p=dropout_rate)\n",
        "    self.layer2 = nn.Linear(hidden_dim,extract_dim)\n",
        "\n",
        "    # self.layer3 = nn.Linear(num_features*3, num_features*2)\n",
        "    # self.layer4 = nn.Linear(num_features*2, extract_dim)\n",
        "  def forward(self, query, cases):\n",
        "    '''\n",
        "      input: (m+1) cases * n features; where the first case is the query\n",
        "      output: m* n feature activations\n",
        "    '''\n",
        "    if self.hidden_layers:\n",
        "      query = self.layer1(query)\n",
        "      query = self.relu(query)\n",
        "      query = self.dropout(query)\n",
        "      query = self.layer2(query)\n",
        "      query = self.relu(query)\n",
        "      # query = self.layer3(query)\n",
        "      # query = self.relu(query)\n",
        "      # query = self.layer4(query)\n",
        "      # query = self.relu(query)\n",
        "\n",
        "      cases = self.layer1(cases)\n",
        "      cases = self.relu(cases)\n",
        "      cases = self.dropout(cases)\n",
        "      cases = self.layer2(cases)\n",
        "      cases = self.relu(cases)\n",
        "      # cases = self.layer3(cases)\n",
        "      # cases = self.relu(cases)\n",
        "      # cases = self.layer4(cases)\n",
        "      # cases = self.relu(cases)\n",
        "\n",
        "    query = query.unsqueeze(1)\n",
        "\n",
        "    # print(\"cool\")\n",
        "    # print(query.shape)\n",
        "    # print(query)\n",
        "    # print((query*self.f1weight).shape)\n",
        "    # print((query*self.f1weight))\n",
        "    # print(self.f1weight.shape)\n",
        "    # print(self.f1weight)\n",
        "    # print((cases*self.f1weight).shape)\n",
        "    # print((cases*self.f1weight))\n",
        "    # print((query*self.f1weight - cases*self.f1weight).shape)\n",
        "    # print((query*self.f1weight - cases*self.f1weight))\n",
        "    #the following utilize pytorch tensor broadcasting functionality\n",
        "    #if the below line does not make sense, uncomment lines above to debug and check values\n",
        "    return (query*self.f1weight - cases*self.f1weight)**2"
      ]
    },
    {
      "cell_type": "markdown",
      "metadata": {
        "id": "D2gojHNfJacB"
      },
      "source": [
        "###Old Feature Activation Layer\n",
        "Deprecated"
      ]
    },
    {
      "cell_type": "code",
      "execution_count": null,
      "metadata": {
        "id": "RPaUn0-Kf0ts"
      },
      "outputs": [],
      "source": [
        "class OldFeatureActivationLayer(torch.nn.Module):\n",
        "  '''\n",
        "    measures the feature distance/activation between query and all cases\n",
        "  '''\n",
        "  def __init__(self, num_features, num_cases, weight_sharing_within_segment=False, weight_sharing_between_segment= False, hidden_layers = False):\n",
        "    super().__init__()\n",
        "    self.weight_sharing_between_segment = weight_sharing_between_segment\n",
        "    if self.weight_sharing_between_segment:\n",
        "      self.segments = torch.nn.ModuleList([OldFeatureActivationSegment(num_features, weight_sharing_within_segment, hidden_layers)])\n",
        "    else:\n",
        "      self.segments = torch.nn.ModuleList([OldFeatureActivationSegment(num_features, weight_sharing_within_segment, hidden_layers) for _ in range(num_cases)])\n",
        "    # feature activation layer should not have its own activation function,\n",
        "    # instead, it should just reuse feature activation segments' activation function, which is called by OldFeatureActivationSegment\n",
        "    # self.activation_func = torch.nn.Identity()\n",
        "  def set_f_weight_for_all_segments(self, f):\n",
        "    for segment in self.segments:\n",
        "      segment.set_f1(f)\n",
        "      segment.set_f2(f)\n",
        "  def freeze_f_weight_for_all_segments(self):\n",
        "    for segment in self.segments:\n",
        "      segment.freeze_f1()\n",
        "      segment.freeze_f2()\n",
        "  def forward(self, query, cases):\n",
        "    '''\n",
        "      input: (m+1) cases * n features; where the first case is the query\n",
        "      output: m* n feature activations\n",
        "    '''\n",
        "    if self.weight_sharing_between_segment:\n",
        "      #only uses the first segment through out.\n",
        "      return torch.stack([self.segments[0](query, case) for case in cases], dim=1)\n",
        "    return torch.stack([segment(query, case) for segment, case in zip(self.segments, cases)], dim=1) ###OMG, colab is a great programmer."
      ]
    },
    {
      "cell_type": "markdown",
      "metadata": {
        "id": "wJvuUic5JPoP"
      },
      "source": [
        "###Old Feature Activation Segment\n",
        "\n",
        "Deprecated"
      ]
    },
    {
      "cell_type": "markdown",
      "metadata": {
        "id": "cAMlrLdaZK5p"
      },
      "source": [
        "assume there are m cases, n features for each case"
      ]
    },
    {
      "cell_type": "code",
      "execution_count": null,
      "metadata": {
        "id": "8VJRT4bxOqPr"
      },
      "outputs": [],
      "source": [
        "class OldFeatureActivationSegment(torch.nn.Module):\n",
        "  '''\n",
        "    measures the feature distance/activation between two cases\n",
        "\n",
        "    two features connect to one feature activation node\n",
        "\n",
        "    multiple feature activation layer only connects to one case node\n",
        "\n",
        "    num_features: number of features that f1 or f2 contains. f1 is a vector of features for one case.\n",
        "  '''\n",
        "  def __init__(self, num_features, weight_sharing=False, hidden_layers = False):\n",
        "    super().__init__()\n",
        "    self.weight_sharing = weight_sharing\n",
        "    ## IMPORTANT DESIGN DECISION:: start weights and biases with ones instead of randoms.\n",
        "    self.f1weight = torch.nn.Parameter(torch.ones(num_features))\n",
        "    self.f2weight = torch.nn.Parameter(torch.ones(num_features))\n",
        "    if weight_sharing:\n",
        "      self.f2weight = self.f1weight\n",
        "    #it does not make sense that the bias is non-zero.\n",
        "    # self.bias = torch.nn.Parameter(torch.zeros(num_features))\n",
        "    # self.activation_func = torch.nn.Identity()\n",
        "    self.activation_func = torch.relu\n",
        "\n",
        "    self.hidden_layers = hidden_layers\n",
        "    hidden_dim = num_features * 2\n",
        "    extract_dim = num_features\n",
        "    self.layer1 = nn.Linear(num_features, hidden_dim)\n",
        "    self.relu = nn.ReLU()\n",
        "    self.layer2 = nn.Linear(hidden_dim, extract_dim)\n",
        "\n",
        "  # maybe not needed\n",
        "  # def set_activation_func(self, activation_function):\n",
        "  #   self.activation_func = activation_function\n",
        "\n",
        "  def set_f1(self, f1):\n",
        "    self.f1weight = f1\n",
        "\n",
        "  def set_f2(self, f2):\n",
        "    self.f2weight = f2\n",
        "\n",
        "  def freeze_f1(self):\n",
        "    self.f1weight.requires_grad = False\n",
        "\n",
        "  def freeze_f2(self):\n",
        "    self.f2weight.requires_grad = False\n",
        "\n",
        "  def forward(self, f1, f2):\n",
        "    '''\n",
        "      input: f1 and f2, are both feature vectors of a case, shape n.\n",
        "      output: feature activation, shape n.\n",
        "    '''\n",
        "    if self.hidden_layers:\n",
        "      f1 = self.layer1(f1)\n",
        "      f1 = self.relu(f1)\n",
        "      f1 = self.layer2(f1)\n",
        "      f1 = self.relu(f1)\n",
        "\n",
        "      f2 = self.layer1(f2)\n",
        "      f2 = self.relu(f2)\n",
        "      f2 = self.layer2(f2)\n",
        "      f2 = self.relu(f2)\n",
        "\n",
        "\n",
        "    # return self.activation_func(self.f1weight * f1 + self.f2weight * f2 + self.bias)\n",
        "    # IMPORTANT DESIGN DECISION:: minus makes more sense here as in standard k-NN.\n",
        "    # feature_distance = self.f1weight * f1 - self.f2weight * f2\n",
        "    # feature_distance = (self.f1weight * f1 - self.f2weight * f2) ** 2\n",
        "    # feature_distance = torch.abs(self.f1weight * f1 - self.f2weight * f2)\n",
        "    feature_distance = (self.f1weight * f1 - self.f2weight * f2) ** 2\n",
        "    # feature_distance = torch.abs(self.f1weight * f1 - self.f2weight * f2)\n",
        "    # return self.activation_func(feature_distance + self.bias)\n",
        "    return self.activation_func(feature_distance)"
      ]
    },
    {
      "cell_type": "markdown",
      "metadata": {
        "id": "WvaZeqxwJeJ5"
      },
      "source": [
        "##Case Activation Layer"
      ]
    },
    {
      "cell_type": "markdown",
      "source": [
        "IMPORTANT.\n",
        "```\n",
        "    # self.bias = torch.nn.Parameter(torch.ones(num_cases) * num_features/2 )\n",
        "    self.bias = torch.nn.Parameter(torch.ones(num_cases) )\n",
        "```\n",
        "These two choices depends on the number of features you have. If you have too many features, may use the first one.\n"
      ],
      "metadata": {
        "id": "Cs_eTUGYRNnt"
      }
    },
    {
      "cell_type": "code",
      "execution_count": null,
      "metadata": {
        "id": "5OtiusY8HV8v"
      },
      "outputs": [],
      "source": [
        "class CaseActivationLayer(torch.nn.Module):\n",
        "  '''\n",
        "    measures the activation of a case given some feature activations\n",
        "\n",
        "    input:\n",
        "      m* n feature activations\n",
        "    output:\n",
        "      m case activations\n",
        "  '''\n",
        "  def __init__(self, num_features, num_cases, weight_sharing=False):\n",
        "    super().__init__()\n",
        "    self.weight_sharing = weight_sharing\n",
        "    self.fa_weight = torch.nn.Parameter(torch.ones((num_cases, num_features)))\n",
        "    if weight_sharing:\n",
        "      self.fa_weight = torch.nn.Parameter(torch.ones(num_features))\n",
        "\n",
        "    # self.bias = torch.nn.Parameter(torch.ones(num_cases) * num_features/2 )\n",
        "    self.bias = torch.nn.Parameter(torch.ones(num_cases) )\n",
        "  def forward(self,input):\n",
        "    '''\n",
        "      input: m*n feature activations\n",
        "      output: m case activations\n",
        "    '''\n",
        "    input = - torch.sum(input * F.leaky_relu(self.fa_weight), dim=2) + self.bias\n",
        "    ## we don't want negative values in activations\n",
        "    ## they will mess up our top case selections because if the tops are negatives\n",
        "    ## then the filled 0s are actually bigger.\n",
        "    input = F.sigmoid(input)\n",
        "    # input = torch.relu(input)\n",
        "    return input"
      ]
    },
    {
      "cell_type": "markdown",
      "metadata": {
        "id": "DkPmMySVi3jN"
      },
      "source": [
        "##Top Case Selection Layer"
      ]
    },
    {
      "cell_type": "code",
      "execution_count": null,
      "metadata": {
        "id": "ne1tBxp6jEp9"
      },
      "outputs": [],
      "source": [
        "# prompt: define a class named TopCaseLayer inherited from torch.nn.Module. This class is used to select the top k activations of an input tensor (m case activations), and output a tensor of the same shape but only keep the top k activations, and other tensors zeroed out\n",
        "\n",
        "class TopCaseLayer(torch.nn.Module):\n",
        "  def __init__(self, k):\n",
        "    super().__init__()\n",
        "    self.k = k\n",
        "    self.training = True\n",
        "\n",
        "  def forward(self, input):\n",
        "    ##no behavior during training because we want to train for all.\n",
        "    if self.training:\n",
        "      return input\n",
        "    '''\n",
        "      input: m case activations\n",
        "      output: m case activations, the top k activations are kept and others are zeroed out\n",
        "    '''\n",
        "    # print(input)\n",
        "    vals, idx = torch.topk(input, self.k)\n",
        "\n",
        "    #if any of the vals is zero, it will mess things up, reverse them so that they becomes positive.\n",
        "\n",
        "    # print(input.shape)\n",
        "    # print(idx.shape)\n",
        "    # print(vals.shape)\n",
        "    # print(\"huh??\")\n",
        "    output = torch.zeros_like(input).scatter_(1,idx, vals)\n",
        "    #replace output values such that the top k is kept\n",
        "\n",
        "\n",
        "    # output[:, idx] = vals\n",
        "    return output\n"
      ]
    },
    {
      "cell_type": "markdown",
      "metadata": {
        "id": "ESrlZ3sTJhm4"
      },
      "source": [
        "##Class Activation Layer"
      ]
    },
    {
      "cell_type": "code",
      "execution_count": null,
      "metadata": {
        "id": "9Vg6cXb3rQi1"
      },
      "outputs": [],
      "source": [
        "# class ClassActivationLayer(torch.nn.Module):\n",
        "#   '''\n",
        "#     measures the activation of a class given some case activations\n",
        "\n",
        "#     input:\n",
        "#       m case_activations\n",
        "#     output:\n",
        "#       l class_activations\n",
        "#   '''\n",
        "#   def __init__(self, num_cases, case_labels, weight_sharing=False):\n",
        "#     super().__init__()\n",
        "#     self.constraints = []\n",
        "#     self.case_labels = case_labels\n",
        "#     self.num_classes = torch.unique(case_labels).shape[0]\n",
        "#     # self.weight_sharing = weight_sharing\n",
        "#     #weight sharing doesn't make sense here, some cases shouldn't contribute to a class while some should\n",
        "#     # they should not share weights.\n",
        "#     self.ca_weight = torch.nn.Parameter(torch.ones((num_cases, self.num_classes))) ## should I use randn here?\n",
        "#     # self.ca_weight = torch.nn.Parameter(torch.rand((num_cases, self.num_classes)))\n",
        "#     # if weight_sharing:\n",
        "#     #   self.ca_weight = torch.nn.Parameter(torch.randn(num_cases))\n",
        "#     # self.bias = torch.nn.Parameter(torch.randn(self.num_classes))\n",
        "#     self.bias = torch.nn.Parameter(torch.zeros(self.num_classes))\n",
        "\n",
        "#     print(\"self.ca_weight.shape\", self.ca_weight.shape)\n",
        "#   ##NOTE:: the following three constrain uses for loop, may not be the most efficient\n",
        "#   def case_class_constrain_v1(self):\n",
        "#     '''\n",
        "#       ensures that each case only positively activates their correct class label.\n",
        "#     '''\n",
        "#     self.constraints.append(\"case_pos_class\")\n",
        "\n",
        "\n",
        "#   ##NOTE:: if used, this should be called before the constrain_v1()\n",
        "#   def cases_share_weight_on_same_class(self):\n",
        "#     '''\n",
        "#       all cases of the same class share one weight for that class.\n",
        "#     '''\n",
        "#     self.constraints.append(\"case_share_weight_on_same_class\")\n",
        "\n",
        "\n",
        "#   def case_class_constrain_v2(self):\n",
        "#     '''\n",
        "#       ensures that each case does not contribute to incorrect classes.\n",
        "#     '''\n",
        "#     self.constraints.append(\"case_no_contribute_to_wrong_class\")\n",
        "#   def case_class_constrain_v3(self):\n",
        "#     '''\n",
        "#       ensures that each case only negatively contribute to incorrect classes.\n",
        "#     '''\n",
        "#     #TODO, needs revamping\n",
        "#     #The weight manipulation should only happen during forward()\n",
        "#     raise ValueError(\"error, needs revamping\")\n",
        "#     for i in range(self.ca_weight.shape[0]):\n",
        "#       for j in range(self.ca_weight.shape[1]):\n",
        "#         if j != case_labels[i]:\n",
        "#           self.ca_weight[i][j] = 0 - torch.relu(self.ca_weight[i][j])\n",
        "#   def forward(self, ca):\n",
        "#     constrained_weight = self.ca_weight.clone().detach()\n",
        "#     for i in range(constrained_weight.shape[0]):\n",
        "#       for j in range(constrained_weight.shape[1]):\n",
        "#         if(j == self.case_labels[i]):\n",
        "#           if(\"case_pos_class\" in self.constraints):\n",
        "#             constrained_weight[i][j] = torch.relu(self.ca_weight[i][j])\n",
        "#         else: # j != case_labels[i]\n",
        "#           if(\"case_no_contribute_to_wrong_class\" in self.constraints):\n",
        "#             constrained_weight[i][j] = torch.zeros(1)\n",
        "#     return torch.matmul(ca, constrained_weight) + self.bias #matrix multiplication will handle 1 dimension vector property"
      ]
    },
    {
      "cell_type": "markdown",
      "metadata": {
        "id": "4Il5qc6sq-3n"
      },
      "source": [
        "The below code is another implementation of ClassActivationLayer which use mask to reduce the amount of computations during the forward."
      ]
    },
    {
      "cell_type": "code",
      "execution_count": null,
      "metadata": {
        "id": "So4vm5Z_qwY0"
      },
      "outputs": [],
      "source": [
        "class ClassActivationLayer(torch.nn.Module):\n",
        "  '''\n",
        "    measures the activation of a class given some case activations\n",
        "\n",
        "    input:\n",
        "      m case_activations\n",
        "    output:\n",
        "      l class_activations\n",
        "  '''\n",
        "  def __init__(self, num_cases, case_labels, weight_sharing=False):\n",
        "    super().__init__()\n",
        "    self.constraints = []\n",
        "    self.case_labels = case_labels\n",
        "    self.num_classes = torch.unique(case_labels).shape[0]\n",
        "    # self.weight_sharing = weight_sharing\n",
        "    #weight sharing doesn't make sense here, some cases shouldn't contribute to a class while some should\n",
        "    # they should not share weights.\n",
        "    self.ca_weight = torch.nn.Parameter(torch.ones((num_cases, self.num_classes))) ## should I use randn here?\n",
        "    # self.ca_weight = torch.nn.Parameter(torch.rand((num_cases, self.num_classes)))\n",
        "    # if weight_sharing:\n",
        "    #   self.ca_weight = torch.nn.Parameter(torch.randn(num_cases))\n",
        "    # self.bias = torch.nn.Parameter(torch.randn(self.num_classes))\n",
        "    self.bias = torch.nn.Parameter(torch.ones(self.num_classes))\n",
        "\n",
        "    # create a mask\n",
        "    self.mask = torch.zeros_like(self.ca_weight)\n",
        "    print(\"self.ca_weight.shape\", self.ca_weight.shape)\n",
        "\n",
        "  def update_mask(self):\n",
        "    for i in range(self.mask.shape[0]):\n",
        "      for j in range(self.mask.shape[1]):\n",
        "        if(j == self.case_labels[i]):\n",
        "          if(\"case_pos_class\" in self.constraints):\n",
        "            self.mask[i][j] = torch.ones(1)\n",
        "        else: # j != case_labels[i]\n",
        "          if(\"case_no_contribute_to_wrong_class\" in self.constraints):\n",
        "            self.mask[i][j] = torch.zeros(1)\n",
        "\n",
        "\n",
        "  ##NOTE:: the following three constrain uses for loop, may not be the most efficient\n",
        "  def case_class_constrain_v1(self):\n",
        "    '''\n",
        "      ensures that each case only positively activates their correct class label.\n",
        "    '''\n",
        "    self.constraints.append(\"case_pos_class\")\n",
        "    self.update_mask()\n",
        "\n",
        "\n",
        "  ##NOTE:: if used, this should be called before the constrain_v1()\n",
        "  def cases_share_weight_on_same_class(self):\n",
        "    '''\n",
        "      all cases of the same class share one weight for that class.\n",
        "    '''\n",
        "    self.constraints.append(\"case_share_weight_on_same_class\")\n",
        "\n",
        "\n",
        "  def case_class_constrain_v2(self):\n",
        "    '''\n",
        "      ensures that each case does not contribute to incorrect classes.\n",
        "    '''\n",
        "    self.constraints.append(\"case_no_contribute_to_wrong_class\")\n",
        "    self.update_mask()\n",
        "\n",
        "  def case_class_constrain_v3(self):\n",
        "    '''\n",
        "      ensures that each case only negatively contribute to incorrect classes.\n",
        "    '''\n",
        "    #TODO, needs revamping\n",
        "    #The weight manipulation should only happen during forward()\n",
        "    raise ValueError(\"error, needs revamping\")\n",
        "    for i in range(self.ca_weight.shape[0]):\n",
        "      for j in range(self.ca_weight.shape[1]):\n",
        "        if j != case_labels[i]:\n",
        "          self.ca_weight[i][j] = 0 - torch.relu(self.ca_weight[i][j])\n",
        "  def forward(self, ca):\n",
        "    constrained_weight = self.mask * torch.relu(self.ca_weight)\n",
        "    return torch.matmul(ca, constrained_weight) + self.bias #matrix multiplication will handle 1 dimension vector property"
      ]
    },
    {
      "cell_type": "markdown",
      "metadata": {
        "id": "Vgd-UBbdbU5N"
      },
      "source": [
        "##Regression Activation Layer"
      ]
    },
    {
      "cell_type": "code",
      "execution_count": null,
      "metadata": {
        "id": "BDmkcY7-rfHQ"
      },
      "outputs": [],
      "source": [
        "class CustomSoftmaxLayer(torch.nn.Module):\n",
        "  def __init__(self):\n",
        "    super(CustomSoftmaxLayer, self).__init__()\n",
        "\n",
        "  def forward(self, x):\n",
        "    total = torch.sum(x, dim=1, keepdim=True)\n",
        "    softmax_output = x / (total + 1e-10)\n",
        "\n",
        "    ##IMPORTANT, cannot use the softmax version below, because of dividing by 0 problem.\n",
        "\n",
        "    # # Apply the exponential function to the input tensor\n",
        "    # exp_x = torch.exp(x)\n",
        "\n",
        "    # # Apply a mask to set the output to 0 where the input is 0\n",
        "    # mask = (x != 0).float()  # Create a binary mask (1 where x is not 0, 0 where x is 0)\n",
        "\n",
        "    # # Apply the mask to the output\n",
        "    # softmax_output = exp_x * mask\n",
        "\n",
        "    # # Normalize the output by dividing by the sum along the same axis\n",
        "    # softmax_output = softmax_output / softmax_output.sum(dim=1, keepdim=True)\n",
        "\n",
        "    return softmax_output"
      ]
    },
    {
      "cell_type": "code",
      "execution_count": null,
      "metadata": {
        "id": "UbNCIgy0aqvW"
      },
      "outputs": [],
      "source": [
        "# prompt: Build a regression activation layer just like the class activation layer above, but for the purpose of regression now\n",
        "## right now this is essentially a linear layer, but somehow it's a lot slower than a linear layer,\n",
        "class RegressionActivation_1_Layer(torch.nn.Module):\n",
        "  '''\n",
        "    measures the activation of a class given some case activations\n",
        "\n",
        "    input:\n",
        "      m case_activations\n",
        "    output:\n",
        "      1 regression_activations\n",
        "  '''\n",
        "  def __init__(self, num_cases, case_labels, weight_sharing=False):\n",
        "    super().__init__()\n",
        "    self.constraints = []\n",
        "    self.num_classes = 1\n",
        "    self.case_labels = case_labels\n",
        "    self.ca_weight = torch.nn.Parameter(torch.randn((num_cases, self.num_classes))) ## should I use randn here?\n",
        "    self.bias = torch.nn.Parameter(torch.randn(self.num_classes))\n",
        "    print(\"self.ca_weight.shape\", self.ca_weight.shape)\n",
        "  def forward(self, ca):\n",
        "    ##IMPORTANT, newly added \"* case_labels\" here, so that case labels is now considered in\n",
        "    ##the last layer of NN-k-NN regressor.\n",
        "    # print(\"debugg msaafasdf\")\n",
        "    # print(ca.shape)\n",
        "    # print(self.ca_weight.shape)\n",
        "    # print(self.case_labels.shape)\n",
        "    # print((torch.matmul(ca * self.case_labels, self.ca_weight)).shape)\n",
        "    return torch.matmul(ca, self.ca_weight) + self.bias"
      ]
    },
    {
      "cell_type": "code",
      "execution_count": null,
      "metadata": {
        "id": "WDbeAaCorwYr"
      },
      "outputs": [],
      "source": [
        "class RegressionActivation_2_Layer(torch.nn.Module):\n",
        "  '''\n",
        "    measures the activation of a class given some case activations\n",
        "\n",
        "    input:\n",
        "      m case_activations\n",
        "    output:\n",
        "      1 regression_activations\n",
        "  '''\n",
        "  def __init__(self, num_cases, case_labels, weight_sharing=False):\n",
        "    super().__init__()\n",
        "    self.constraints = []\n",
        "    self.num_classes = 1\n",
        "    self.case_labels = case_labels\n",
        "    self.ca_weight = torch.nn.Parameter(torch.ones((num_cases, self.num_classes))) ## should I use randn here?\n",
        "    self.bias = torch.nn.Parameter(torch.randn(self.num_classes))\n",
        "    print(\"self.ca_weight.shape\", self.ca_weight.shape)\n",
        "  def forward(self, ca):\n",
        "    return torch.matmul(ca* self.case_labels, self.ca_weight) + self.bias"
      ]
    },
    {
      "cell_type": "code",
      "execution_count": null,
      "metadata": {
        "id": "kkoZwOlQwMlS"
      },
      "outputs": [],
      "source": [
        "class RegressionActivation_3_Layer(torch.nn.Module):\n",
        "  '''\n",
        "    measures the activation of a class given some case activations\n",
        "\n",
        "    input:\n",
        "      m case_activations\n",
        "    output:\n",
        "      1 regression_activations\n",
        "  '''\n",
        "  def __init__(self, num_cases, case_labels, weight_sharing=False):\n",
        "    super().__init__()\n",
        "    self.constraints = []\n",
        "    self.num_classes = 1\n",
        "    self.case_labels = case_labels\n",
        "  def forward(self, ca):\n",
        "    return torch.matmul(ca, self.case_labels) #+ self.bias"
      ]
    },
    {
      "cell_type": "code",
      "execution_count": null,
      "metadata": {
        "id": "G0LLPPXBsGFj"
      },
      "outputs": [],
      "source": [
        "ca = torch.Tensor([1 , 0.5, 0.3])"
      ]
    },
    {
      "cell_type": "code",
      "execution_count": null,
      "metadata": {
        "colab": {
          "base_uri": "https://localhost:8080/"
        },
        "id": "gfvItiQqsQdQ",
        "outputId": "02245170-f60f-4cee-b3bd-fa0b4e130103"
      },
      "outputs": [
        {
          "output_type": "execute_result",
          "data": {
            "text/plain": [
              "torch.Size([3])"
            ]
          },
          "metadata": {},
          "execution_count": 15
        }
      ],
      "source": [
        "ca.shape"
      ]
    },
    {
      "cell_type": "code",
      "execution_count": null,
      "metadata": {
        "id": "kDvdr2TIsSMK"
      },
      "outputs": [],
      "source": [
        "case_labels = torch.Tensor([0,2,2])"
      ]
    },
    {
      "cell_type": "code",
      "execution_count": null,
      "metadata": {
        "colab": {
          "base_uri": "https://localhost:8080/"
        },
        "id": "clJvDPlLsfsq",
        "outputId": "5d8c5dde-943e-4b70-ffa1-8875c49e03ff"
      },
      "outputs": [
        {
          "output_type": "execute_result",
          "data": {
            "text/plain": [
              "tensor(1.6000)"
            ]
          },
          "metadata": {},
          "execution_count": 17
        }
      ],
      "source": [
        "torch.matmul(ca, case_labels)"
      ]
    },
    {
      "cell_type": "code",
      "execution_count": null,
      "metadata": {
        "id": "xo1F5P4s8Ed3"
      },
      "outputs": [],
      "source": [
        "class RegressionActivation_4_Layer(torch.nn.Module):\n",
        "  '''\n",
        "    measures the activation of a class given some case activations\n",
        "\n",
        "    input:\n",
        "      m case_activations\n",
        "    output:\n",
        "      1 regression_activations\n",
        "  '''\n",
        "  def __init__(self, num_cases, case_labels, weight_sharing=False):\n",
        "    super().__init__()\n",
        "    self.constraints = []\n",
        "    self.num_classes = 1\n",
        "    self.case_labels = case_labels\n",
        "    self.ca_weight = torch.nn.Parameter(torch.tensor(case_labels).reshape(num_cases, self.num_classes)) ## should I use randn here?\n",
        "    self.bias = torch.nn.Parameter(torch.randn(self.num_classes))\n",
        "    print(\"self.ca_weight.shape\", self.ca_weight.shape)\n",
        "  def forward(self, ca):\n",
        "    ##IMPORTANT, newly added \"* case_labels\" here, so that case labels is now considered in\n",
        "    ##the last layer of NN-k-NN regressor.\n",
        "    # print(\"debugg msaafasdf\")\n",
        "    # print(ca.shape)\n",
        "    # print(self.ca_weight.shape)\n",
        "    # print(self.case_labels.shape)\n",
        "    # print((torch.matmul(ca * self.case_labels, self.ca_weight)).shape)\n",
        "    return torch.matmul(ca, self.ca_weight) + self.bias"
      ]
    },
    {
      "cell_type": "code",
      "execution_count": null,
      "metadata": {
        "id": "EQgug4eSyKDv"
      },
      "outputs": [],
      "source": [
        "a = torch.ones((100, 8))\n",
        "b = torch.ones((1548, 8))\n",
        "c = torch.ones((1))"
      ]
    },
    {
      "cell_type": "code",
      "execution_count": null,
      "metadata": {
        "id": "VwaQh8NUNDLv"
      },
      "outputs": [],
      "source": [
        "# a-b"
      ]
    },
    {
      "cell_type": "code",
      "execution_count": null,
      "metadata": {
        "id": "p3afere_KfLO"
      },
      "outputs": [],
      "source": [
        "# (b*b).shape"
      ]
    },
    {
      "cell_type": "code",
      "execution_count": null,
      "metadata": {
        "id": "e5qqmJxXyQsd"
      },
      "outputs": [],
      "source": [
        "# (a*b).shape"
      ]
    },
    {
      "cell_type": "code",
      "execution_count": null,
      "metadata": {
        "id": "bITJLDhAySo8"
      },
      "outputs": [],
      "source": [
        "# torch.matmul(a, b).shape"
      ]
    },
    {
      "cell_type": "code",
      "execution_count": null,
      "metadata": {
        "id": "FvvVhcBW241Z"
      },
      "outputs": [],
      "source": [
        "# torch.matmul(a, b)"
      ]
    },
    {
      "cell_type": "code",
      "execution_count": null,
      "metadata": {
        "id": "RcM3JXmz26Cs"
      },
      "outputs": [],
      "source": [
        "# torch.matmul(a, b) + c"
      ]
    },
    {
      "cell_type": "markdown",
      "metadata": {
        "id": "KmhxrGP2Jj6T"
      },
      "source": [
        "## NN-k-NN"
      ]
    },
    {
      "cell_type": "code",
      "execution_count": null,
      "metadata": {
        "id": "u9HNVfwjPV8E"
      },
      "outputs": [],
      "source": [
        "import torch.nn.functional as F\n",
        "\n",
        "\n",
        "class NN_k_NN(torch.nn.Module):\n",
        "  def __init__(self, cases, case_labels,\n",
        "               fa_weight_sharing_within_segment,\n",
        "               fa_weight_sharing_between_segment,\n",
        "               ca_weight_sharing,\n",
        "               top_case_enabled, top_k,\n",
        "               class_weight_sharing, hidden_layers= False):\n",
        "    super().__init__()\n",
        "    self.cases = cases\n",
        "    num_cases = cases.shape[0]\n",
        "    num_features = cases.shape[1]\n",
        "    # num_classes = torch.unique(case_labels).shape[0] # len(set(case_labels))\n",
        "    ##IMPORTANT:: CHECK THE WEIGHT_SHARING PARAMETERS!!\n",
        "    # self.fa_layer = FeatureActivationLayer(num_features, num_cases,\n",
        "    #                                        weight_sharing_within_segment= fa_weight_sharing_within_segment,\n",
        "    #                                        weight_sharing_between_segment= fa_weight_sharing_between_segment,\n",
        "    #                                        hidden_layers = hidden_layers)\n",
        "    self.fa_layer = FeatureActivationLayer(num_features, num_cases, self.cases, hidden_layers = hidden_layers)\n",
        "\n",
        "    self.ca_layer = CaseActivationLayer(num_features, num_cases,\n",
        "                                        weight_sharing= ca_weight_sharing)\n",
        "    self.top_case_enabled = top_case_enabled\n",
        "    self.selection_layer = TopCaseLayer(top_k)\n",
        "    self.class_layer = ClassActivationLayer(num_cases, case_labels,\n",
        "                                            weight_sharing=class_weight_sharing)\n",
        "    ## more preprocessing here needed to tie each case to their correct class\n",
        "    ## only one is turned on right now for testing purpose.\n",
        "    self.class_layer.case_class_constrain_v1()\n",
        "    self.class_layer.case_class_constrain_v2()\n",
        "\n",
        "    self.ca_dropout = torch.nn.Dropout(p=0.5)\n",
        "\n",
        "  def forward(self, query):\n",
        "    #repeat query so that it has the same shape as self.cases\n",
        "    # query = query.repeat(self.cases.shape[0], 1)\n",
        "    #no need to repeat the query, fa_layer's forward will handle it.\n",
        "    feature_activations = self.fa_layer(query, self.cases)\n",
        "    # print(\"feature_activations.shape\", feature_activations.shape)\n",
        "    ##tie the fa_segments with corresponding case in ca layer\n",
        "    #each segment should only tie to one case in ca_layer\n",
        "    case_activations = self.ca_layer(feature_activations)\n",
        "    # print(\"case_activations\" , case_activations.shape)\n",
        "    #uncomment to enable topk\n",
        "    if self.top_case_enabled:\n",
        "      case_activations = self.selection_layer(case_activations)\n",
        "\n",
        "    # if self.training:\n",
        "    #   case_activations = self.ca_dropout(case_activations)\n",
        "      # # print(\"dropout\")\n",
        "      #==========#\n",
        "      # expect the case_activations has the shape of (query_number, case_numer)\n",
        "      # expect the query has the shape of (batch_size, feature_size)\n",
        "      # expect the cases has the shape of (case_number, feature_size)\n",
        "      # dquery = query.unsqueeze(1)\n",
        "      # dcases = self.cases.unsqueeze(0)\n",
        "      # difference = torch.sum(dquery - dcases, dim=-1)\n",
        "      # masks = torch.where(difference == 0, 0., 1.)\n",
        "      # # print(\"masks.shape\", masks.shape)\n",
        "      # # print(\"case_activations.shape\", case_activations.shape)\n",
        "      # case_activations = case_activations * masks\n",
        "      # # print(\"case_activations.shape\", case_activations.shape)\n",
        "\n",
        "\n",
        "    # print(\"case_activations\" , case_activations.shape)\n",
        "    class_ativations = self.class_layer(case_activations)\n",
        "    # print(\"class_ativations.shape\", class_ativations.shape)\n",
        "\n",
        "    # Softmax activation for classification\n",
        "    # output = F.softmax(class_ativations, dim=1)\n",
        "    output = class_ativations\n",
        "\n",
        "    # Get the class predictions (class with the highest probability)\n",
        "    ## TODO:: need debug here, am I using the right dim?\n",
        "    _, predicted_class = torch.max(output, 1)\n",
        "\n",
        "    return case_activations, output, predicted_class\n",
        "    # return self.class_layer(ca)"
      ]
    },
    {
      "cell_type": "markdown",
      "metadata": {
        "id": "ukjmB70eHr7a"
      },
      "source": [
        "##NN-k-NN regression"
      ]
    },
    {
      "cell_type": "code",
      "execution_count": null,
      "metadata": {
        "id": "aD1WpUjVHV58"
      },
      "outputs": [],
      "source": [
        "import torch.nn.functional as F\n",
        "\n",
        "##IMPORTANT, cannot use top case selection layer here like we do in for classification.\n",
        "## it has to be either enabled or disabled the whole time.\n",
        "class NN_k_NN_regression(torch.nn.Module):\n",
        "  def __init__(self, cases, case_labels,\n",
        "               fa_weight_sharing_within_segment,\n",
        "               fa_weight_sharing_between_segment,\n",
        "               ca_weight_sharing,\n",
        "               top_case_enabled, top_k,\n",
        "               class_weight_sharing, hidden_layers= False):\n",
        "    super().__init__()\n",
        "    self.cases = cases\n",
        "    num_cases = cases.shape[0]\n",
        "    num_features = cases.shape[1]\n",
        "    # num_classes = torch.unique(case_labels).shape[0] # len(set(case_labels))\n",
        "    ##IMPORTANT:: CHECK THE WEIGHT_SHARING PARAMETERS!!\n",
        "    # self.fa_layer = FeatureActivationLayer(num_features, num_cases,\n",
        "    #                                        weight_sharing_within_segment= fa_weight_sharing_within_segment,\n",
        "    #                                        weight_sharing_between_segment= fa_weight_sharing_between_segment,\n",
        "    #                                        hidden_layers = hidden_layers)\n",
        "    self.fa_layer = FeatureActivationLayer(num_features, num_cases, self.cases, hidden_layers = hidden_layers)\n",
        "    self.ca_layer = CaseActivationLayer(num_features, num_cases,\n",
        "                                        weight_sharing= ca_weight_sharing)\n",
        "    self.top_case_enabled = top_case_enabled\n",
        "    self.selection_layer = TopCaseLayer(top_k)\n",
        "\n",
        "    self.ca_dropout = torch.nn.Dropout(p=0.5)\n",
        "\n",
        "    self.softmax = CustomSoftmaxLayer()\n",
        "    # self.softmax = torch.nn.Softmax(dim=1)\n",
        "\n",
        "    self.class_layer = RegressionActivation_3_Layer(num_cases, case_labels,weight_sharing=class_weight_sharing)\n",
        "    # self.class_layer = torch.nn.Linear(num_cases, 1)\n",
        "\n",
        "\n",
        "  def forward(self, query):\n",
        "    feature_activations = self.fa_layer(query, self.cases)\n",
        "    # print(\"feature_activations.shape\", feature_activations.shape)\n",
        "    ##tie the fa_segments with corresponding case in ca layer\n",
        "    #each segment should only tie to one case in ca_layer\n",
        "    case_activations = self.ca_layer(feature_activations)\n",
        "    # print(\"case_activations\" , case_activations.shape)\n",
        "    #uncomment to enable topk\n",
        "    if self.top_case_enabled:\n",
        "      case_activations = self.selection_layer(case_activations)\n",
        "    # print(\"case_activations1\" , torch.sum(case_activations, dim= 1))\n",
        "\n",
        "    # if self.training:\n",
        "    #   # case_activations = self.ca_dropout(case_activations)\n",
        "    #   # print(\"dropout\")\n",
        "    #   # ==========#\n",
        "    #   # expect the case_activations has the shape of (query_number, case_numer)\n",
        "    #   # expect the query has the shape of (batch_size, feature_size)\n",
        "    #   # expect the cases has the shape of (case_number, feature_size)\n",
        "    #   dquery = query.unsqueeze(1)\n",
        "    #   dcases = self.cases.unsqueeze(0)\n",
        "    #   difference = torch.sum(dquery - dcases, dim=-1)\n",
        "    #   masks = torch.where(difference == 0, 0., 1.)\n",
        "    #   case_activations = case_activations * masks\n",
        "\n",
        "    case_activations = self.softmax(case_activations)\n",
        "\n",
        "\n",
        "    # print(\"case_activations\" , torch.sum(case_activations, dim= 1))\n",
        "    predicted_number = self.class_layer(case_activations)\n",
        "\n",
        "    # # Softmax activation for classification\n",
        "    # output = F.softmax(class_ativations, dim=1)\n",
        "    # # output = class_ativations\n",
        "    # _, predicted_class = torch.max(output, 1)\n",
        "    # print(\"predicted_class\", predicted_class)\n",
        "    # predicted_class = case_labels[predicted_class]\n",
        "    # print(\"predicted_class after label lookup\", predicted_class)\n",
        "    ##added feature activations here in output because they might be used for adaptation\n",
        "    ####VERY VERY IMPORTANT, the output format is different!!\n",
        "    return feature_activations, case_activations, predicted_number\n"
      ]
    },
    {
      "cell_type": "code",
      "execution_count": null,
      "metadata": {
        "id": "EXaL3PmlBwg6"
      },
      "outputs": [],
      "source": [
        "# # prompt: a standard neural network with fully connected layers that has the same architecture as NN_k_NN_regression\n",
        "\n",
        "# class nn_regression(torch.nn.Module):\n",
        "#   def __init__(self, cases, case_labels,\n",
        "#                fa_weight_sharing_within_segment,\n",
        "#                fa_weight_sharing_between_segment,\n",
        "#                ca_weight_sharing,\n",
        "#                top_case_enabled, top_k,\n",
        "#                class_weight_sharing):\n",
        "#     super().__init__()\n",
        "#     ##WIP\n",
        "#     self.cases = torch.nn.parameters(torch.randn_like(cases))\n",
        "#     num_cases = cases.shape[0]\n",
        "#     num_features = cases.shape[1]\n",
        "#     # num_classes = torch.unique(case_labels).shape[0] # len(set(case_labels))\n",
        "#     ##IMPORTANT:: CHECK THE WEIGHT_SHARING PARAMETERS!!\n",
        "#     self.fa_layer = FeatureActivationLayer(num_features, num_cases, weight_sharing_within_segment= fa_weight_sharing_within_segment,\n",
        "#                                            weight_sharing_between_segment= fa_weight_sharing_between_segment)\n",
        "#     self.ca_layer = CaseActivationLayer(num_features, num_cases,\n",
        "#                                         weight_sharing= ca_weight_sharing)\n",
        "#     self.top_case_enabled = top_case_enabled\n",
        "#     self.selection_layer = TopCaseLayer(top_k)\n",
        "#     self.class_layer = RegressionActivationLayer(num_cases,weight_sharing=class_weight_sharing)\n",
        "\n",
        "\n",
        "#   def forward(self, query):\n",
        "#     feature_activations = self.fa_layer(query, self.cases)\n",
        "#     ##tie the fa_segments with corresponding case in ca layer\n",
        "#     #each segment should only tie to one case in ca_layer\n",
        "#     case_activations = self.ca_layer(feature_activations)\n",
        "\n",
        "#     #uncomment to enable topk\n",
        "#     if self.top_case_enabled:\n",
        "#       case_activations = self.selection_layer(case_activations)\n",
        "\n",
        "#     predicted_number = self.class_layer(case_activations)\n",
        "\n",
        "#     # # Softmax activation for classification\n",
        "#     # output = F.softmax(class_ativations, dim=1)\n",
        "#     # # output = class_ativations\n",
        "#     # _, predicted_class = torch.max(output, 1)\n",
        "#     # print(\"predicted_class\", predicted_class)\n",
        "#     # predicted_class = case_labels[predicted_class]\n",
        "#     # print(\"predicted_class after label lookup\", predicted_class)\n",
        "#     ##added feature activations here in output because they might be used for adaptation\n",
        "#     return feature_activations, case_activations, predicted_number\n"
      ]
    },
    {
      "cell_type": "code",
      "execution_count": null,
      "metadata": {
        "id": "DdFOP30kurhF"
      },
      "outputs": [],
      "source": [
        "def print_model_features(input_model):\n",
        "  for n, p in model.named_parameters():\n",
        "    print(n)\n",
        "    print(p.data)"
      ]
    },
    {
      "cell_type": "code",
      "execution_count": null,
      "metadata": {
        "id": "rJz8UivW3nYt"
      },
      "outputs": [],
      "source": [
        "m = nn.Softmax(dim=1)\n",
        "input = torch.randn(2, 3)\n",
        "output = m(input)"
      ]
    },
    {
      "cell_type": "markdown",
      "source": [
        "#pydml"
      ],
      "metadata": {
        "id": "aIg-EoJydTrL"
      }
    },
    {
      "cell_type": "code",
      "source": [
        "pip install metric-learn"
      ],
      "metadata": {
        "colab": {
          "base_uri": "https://localhost:8080/"
        },
        "id": "pzEt9iuYZvIy",
        "outputId": "2d096876-f97b-4de8-9e23-011c13659ad2"
      },
      "execution_count": null,
      "outputs": [
        {
          "output_type": "stream",
          "name": "stdout",
          "text": [
            "Collecting metric-learn\n",
            "  Downloading metric_learn-0.7.0-py2.py3-none-any.whl (67 kB)\n",
            "\u001b[?25l     \u001b[90m━━━━━━━━━━━━━━━━━━━━━━━━━━━━━━━━━━━━━━━━\u001b[0m \u001b[32m0.0/67.8 kB\u001b[0m \u001b[31m?\u001b[0m eta \u001b[36m-:--:--\u001b[0m\r\u001b[2K     \u001b[90m━━━━━━━━━━━━━━━━━━━━━━━━━━━━━━━━━━━━━━━━\u001b[0m \u001b[32m67.8/67.8 kB\u001b[0m \u001b[31m2.3 MB/s\u001b[0m eta \u001b[36m0:00:00\u001b[0m\n",
            "\u001b[?25hRequirement already satisfied: numpy>=1.11.0 in /usr/local/lib/python3.10/dist-packages (from metric-learn) (1.25.2)\n",
            "Requirement already satisfied: scipy>=0.17.0 in /usr/local/lib/python3.10/dist-packages (from metric-learn) (1.11.4)\n",
            "Requirement already satisfied: scikit-learn>=0.21.3 in /usr/local/lib/python3.10/dist-packages (from metric-learn) (1.2.2)\n",
            "Requirement already satisfied: joblib>=1.1.1 in /usr/local/lib/python3.10/dist-packages (from scikit-learn>=0.21.3->metric-learn) (1.3.2)\n",
            "Requirement already satisfied: threadpoolctl>=2.0.0 in /usr/local/lib/python3.10/dist-packages (from scikit-learn>=0.21.3->metric-learn) (3.3.0)\n",
            "Installing collected packages: metric-learn\n",
            "Successfully installed metric-learn-0.7.0\n"
          ]
        }
      ]
    },
    {
      "cell_type": "code",
      "source": [
        "import metric_learn"
      ],
      "metadata": {
        "id": "UpdWR_eh3c1R"
      },
      "execution_count": null,
      "outputs": []
    },
    {
      "cell_type": "markdown",
      "metadata": {
        "id": "vk_0mocIXjT0"
      },
      "source": [
        "#Data Sets"
      ]
    },
    {
      "cell_type": "markdown",
      "metadata": {
        "id": "YIDEqsvbfUMf"
      },
      "source": [
        "##Classification, Fashion MNIST"
      ]
    },
    {
      "cell_type": "code",
      "execution_count": null,
      "metadata": {
        "id": "x2dEUwwWbL2M"
      },
      "outputs": [],
      "source": [
        "# prompt: load fashion mnist data set into Xs and ys\n",
        "from torchvision import datasets, transforms\n",
        "\n",
        "# Define transformations\n",
        "transform = transforms.Compose([transforms.ToTensor(), transforms.Normalize((0.5,), (0.5,))])\n",
        "\n",
        "# Load training set and test set\n",
        "trainset = datasets.FashionMNIST(root='./data', train=True, download=True, transform=transform)\n",
        "testset = datasets.FashionMNIST(root='./data', train=False, download=True, transform=transform)\n",
        "\n"
      ]
    },
    {
      "cell_type": "code",
      "execution_count": null,
      "metadata": {
        "id": "PW2UFYznfndb"
      },
      "outputs": [],
      "source": [
        "trainset[0][0]"
      ]
    },
    {
      "cell_type": "code",
      "execution_count": null,
      "metadata": {
        "id": "wnZSBxEWf_LH"
      },
      "outputs": [],
      "source": [
        "trainset[0][1]"
      ]
    },
    {
      "cell_type": "markdown",
      "metadata": {
        "id": "IJiR0Ti-v2gG"
      },
      "source": [
        "##Classification, data sets"
      ]
    },
    {
      "cell_type": "code",
      "execution_count": null,
      "metadata": {
        "id": "L8NANW0CwW5X"
      },
      "outputs": [],
      "source": [
        "from re import X\n",
        "from sklearn.datasets import load_iris\n",
        "from sklearn.datasets import load_digits\n",
        "from sklearn.datasets import load_wine\n",
        "from sklearn.datasets import load_breast_cancer\n",
        "from sklearn.datasets import fetch_olivetti_faces\n",
        "# sklearn.datasets.fetch_olivetti_faces\n",
        "from sklearn.preprocessing import MinMaxScaler\n",
        "from sklearn.preprocessing import StandardScaler\n",
        "\n",
        "\n",
        "\n",
        "\n",
        "iris = fetch_olivetti_faces()\n",
        "Xs = iris['data']\n",
        "ys = iris['target']\n",
        "# names = iris['target_names']\n",
        "# feature_names = iris['feature_names']\n",
        "\n",
        "## fit Xs in a scaler transform, transform Xs into 0-1\n",
        "# scaler = MinMaxScaler()\n",
        "# Xs = scaler.fit_transform(Xs)\n",
        "if Xs.shape[1] == 64: #for breast cancer\n",
        "  scaler = MinMaxScaler()\n",
        "  Xs = scaler.fit_transform(Xs)\n",
        "\n",
        "Xs = torch.tensor(Xs, dtype=torch.float32)\n",
        "ys = torch.tensor(ys)"
      ]
    },
    {
      "cell_type": "code",
      "execution_count": null,
      "metadata": {
        "colab": {
          "base_uri": "https://localhost:8080/"
        },
        "id": "4rLv9czNqfnU",
        "outputId": "5cb13802-1d95-4c6e-930d-01829f6616eb"
      },
      "outputs": [
        {
          "output_type": "execute_result",
          "data": {
            "text/plain": [
              "torch.Size([400, 4096])"
            ]
          },
          "metadata": {},
          "execution_count": 74
        }
      ],
      "source": [
        "Xs.shape"
      ]
    },
    {
      "cell_type": "code",
      "execution_count": null,
      "metadata": {
        "colab": {
          "base_uri": "https://localhost:8080/"
        },
        "id": "ydE6eHnvb4Z6",
        "outputId": "fd90642b-828d-48dd-a289-c0feca3b2747"
      },
      "outputs": [
        {
          "output_type": "execute_result",
          "data": {
            "text/plain": [
              "tensor([0.3099, 0.3678, 0.4174,  ..., 0.1529, 0.1612, 0.1570])"
            ]
          },
          "metadata": {},
          "execution_count": 75
        }
      ],
      "source": [
        "Xs[0]"
      ]
    },
    {
      "cell_type": "code",
      "execution_count": null,
      "metadata": {
        "colab": {
          "base_uri": "https://localhost:8080/"
        },
        "id": "QUGLcsqvC-TP",
        "outputId": "ffec3330-c4f7-4524-afa6-7426fc77ab5f"
      },
      "outputs": [
        {
          "output_type": "execute_result",
          "data": {
            "text/plain": [
              "torch.int64"
            ]
          },
          "metadata": {},
          "execution_count": 76
        }
      ],
      "source": [
        "ys[0].dtype"
      ]
    },
    {
      "cell_type": "markdown",
      "metadata": {
        "id": "3UFFbmbxFoYa"
      },
      "source": [
        "## Sanity check: A normal neural network classifier."
      ]
    },
    {
      "cell_type": "code",
      "execution_count": null,
      "metadata": {
        "id": "V0kqnMz5Ehs3"
      },
      "outputs": [],
      "source": [
        "# import torch\n",
        "# import torch.nn as nn\n",
        "# import torch.optim as optim\n",
        "# from sklearn.datasets import load_iris\n",
        "# from sklearn.model_selection import train_test_split\n",
        "# from sklearn.preprocessing import StandardScaler\n",
        "\n",
        "\n",
        "# # Split the data into training and testing sets\n",
        "# X_train, X_test, y_train, y_test = train_test_split(Xs, ys, test_size=0.1, random_state=42, stratify=ys)\n",
        "\n",
        "# # Standardize the data\n",
        "# scaler = StandardScaler()\n",
        "# X_train = scaler.fit_transform(X_train)\n",
        "# X_test = scaler.transform(X_test)\n",
        "\n",
        "# # Convert data to PyTorch tensors\n",
        "# X_train_tensor = torch.tensor(X_train, dtype=torch.float32)\n",
        "# y_train_tensor = torch.tensor(y_train, dtype=torch.long)\n",
        "# X_test_tensor = torch.tensor(X_test, dtype=torch.float32)\n",
        "# y_test_tensor = torch.tensor(y_test, dtype=torch.long)\n",
        "\n",
        "# # Define the neural network architecture for classification\n",
        "# class NeuralNet(nn.Module):\n",
        "#     def __init__(self, input_size, hidden_size, num_classes):\n",
        "#         super(NeuralNet, self).__init__()\n",
        "#         self.fc1 = nn.Linear(input_size, hidden_size)\n",
        "#         self.relu = nn.ReLU()\n",
        "#         self.fc2 = nn.Linear(hidden_size, num_classes)\n",
        "\n",
        "#     def forward(self, x):\n",
        "#         x = self.fc1(x)\n",
        "#         x = self.relu(x)\n",
        "#         x = self.fc2(x)\n",
        "#         return x\n",
        "\n",
        "# # Hyperparameters\n",
        "# input_size = X_train.shape[1]\n",
        "# hidden_size = 64\n",
        "# num_classes = torch.unique(ys).shape[0]\n",
        "# learning_rate = 0.001\n",
        "# batch_size = 16\n",
        "# epochs = 50\n",
        "\n",
        "# # Create DataLoader for training\n",
        "# train_dataset = torch.utils.data.TensorDataset(X_train_tensor, y_train_tensor)\n",
        "# train_loader = torch.utils.data.DataLoader(dataset=train_dataset, batch_size=batch_size, shuffle=True)\n",
        "\n",
        "# # Initialize the model, loss function, and optimizer\n",
        "# model = NeuralNet(input_size, hidden_size, num_classes)\n",
        "# criterion = nn.CrossEntropyLoss()\n",
        "# optimizer = optim.Adam(model.parameters(), lr=learning_rate)\n",
        "\n",
        "# # Training loop\n",
        "# for epoch in range(epochs):\n",
        "#     for i, (inputs, labels) in enumerate(train_loader):\n",
        "#         # Forward pass\n",
        "#         outputs = model(inputs)\n",
        "#         loss = criterion(outputs, labels)\n",
        "\n",
        "#         # Backward and optimize\n",
        "#         optimizer.zero_grad()\n",
        "#         loss.backward()\n",
        "#         optimizer.step()\n",
        "\n",
        "#         if (i + 1) % 5 == 0:\n",
        "#             print(f'Epoch [{epoch + 1}/{epochs}], Step [{i + 1}/{len(train_loader)}], Loss: {loss.item()}')\n",
        "\n",
        "# # Testing the model\n",
        "# model.eval()\n",
        "# with torch.no_grad():\n",
        "#     outputs = model(X_test_tensor)\n",
        "#     _, predicted = torch.max(outputs, 1)\n",
        "#     accuracy = torch.sum(predicted == y_test_tensor).item() / len(y_test_tensor)\n",
        "#     print(f'Accuracy on the test set: {accuracy * 100:.2f}%')\n"
      ]
    },
    {
      "cell_type": "code",
      "source": [
        "from sklearn.model_selection import train_test_split\n",
        "from sklearn.preprocessing import StandardScaler"
      ],
      "metadata": {
        "id": "pK6bzvrPNSt0"
      },
      "execution_count": null,
      "outputs": []
    },
    {
      "cell_type": "code",
      "source": [
        "# Split the data into training and testing sets\n",
        "X_train, X_test, y_train, y_test = train_test_split(Xs, ys, test_size=0.1, random_state=42, stratify=ys)\n",
        "\n",
        "# Standardize the data\n",
        "# scaler = StandardScaler()\n",
        "# X_train = scaler.fit_transform(X_train)\n",
        "# X_test = scaler.transform(X_test)\n",
        "\n",
        "# Convert data to PyTorch tensors\n",
        "X_train_tensor = X_train\n",
        "y_train_tensor = y_train\n",
        "X_test_tensor = X_test\n",
        "y_test_tensor = y_test\n",
        "\n",
        "# Define the neural network architecture for classification\n",
        "class NeuralNet(nn.Module):\n",
        "    def __init__(self, input_size, hidden_size, num_classes):\n",
        "        super(NeuralNet, self).__init__()\n",
        "        self.nn = nn.Sequential(\n",
        "            nn.Linear(input_size, hidden_size // 4),\n",
        "            nn.LeakyReLU(),\n",
        "            nn.Linear(hidden_size // 4, hidden_size // 2),\n",
        "            # nn.Dropout(0.5),\n",
        "            nn.LeakyReLU(),\n",
        "            nn.Linear(hidden_size // 2, hidden_size // 2),\n",
        "            # nn.Dropout(0.5),\n",
        "            nn.LeakyReLU(),\n",
        "            nn.Linear(hidden_size // 2, hidden_size),\n",
        "            nn.LeakyReLU(),\n",
        "            nn.Linear(hidden_size, hidden_size),\n",
        "            nn.LeakyReLU(),\n",
        "            nn.Linear(hidden_size, num_classes)\n",
        "            )\n",
        "        self.init_weights()\n",
        "\n",
        "    def init_weights(self):\n",
        "        for m in self.modules():\n",
        "            if isinstance(m, nn.Linear):\n",
        "                init.xavier_uniform_(m.weight)\n",
        "                if m.bias is not None:\n",
        "                    m.bias.data.fill_(0)\n",
        "\n",
        "    def forward(self, x):\n",
        "        return self.nn(x)\n",
        "\n",
        "# Hyperparameters\n",
        "input_size = X_train.shape[1]\n",
        "hidden_size = 1024\n",
        "num_classes = torch.unique(ys).shape[0]\n",
        "learning_rate = 1e-5\n",
        "batch_size = 16\n",
        "epochs = 2000\n",
        "\n",
        "# Create DataLoader for training\n",
        "train_dataset = torch.utils.data.TensorDataset(X_train_tensor, y_train_tensor)\n",
        "train_loader = torch.utils.data.DataLoader(dataset=train_dataset, batch_size=batch_size, shuffle=True)\n",
        "# Initialize the model, loss function, and optimizer\n",
        "model = NeuralNet(input_size, hidden_size, num_classes)\n",
        "criterion = nn.CrossEntropyLoss()\n",
        "optimizer = optim.Adam(model.parameters(), lr=learning_rate)\n",
        "\n",
        "# Training loop\n",
        "for epoch in range(epochs):\n",
        "    total_loss = 0.0\n",
        "    accuracy = 0.0\n",
        "    total_num = 0\n",
        "    model.train()\n",
        "    for i, (inputs, labels) in enumerate(train_loader):\n",
        "        batch_size = len(labels)\n",
        "        total_num += batch_size\n",
        "        # Forward pass\n",
        "        optimizer.zero_grad()\n",
        "        outputs = model(inputs)\n",
        "        loss = criterion(outputs, labels)\n",
        "\n",
        "        # Backward and optimize\n",
        "        _, predicted = torch.max(outputs, 1)\n",
        "        accuracy += torch.sum(predicted == labels).item()\n",
        "\n",
        "        loss.backward()\n",
        "        optimizer.step()\n",
        "\n",
        "        total_loss += loss.item()\n",
        "\n",
        "        # if (i + 1) % 5 == 0\n",
        "    if epoch == 0 or (epoch + 1) % 100 == 0:\n",
        "        print(f\"Epoch: {epoch + 1}, Loss: {total_loss/(i+1):.2f} Acc: {accuracy/total_num :.2f}\")\n",
        "    # Testing the model\n",
        "    # model.eval()\n",
        "    # with torch.no_grad():\n",
        "    #     outputs = model(X_test_tensor)\n",
        "    #     _, predicted = torch.max(outputs, 1)\n",
        "    #     accuracy = torch.sum(predicted == y_test_tensor).item() / len(y_test_tensor)\n",
        "    #     print(f'Accuracy on the test set: {accuracy * 100:.2f}%')"
      ],
      "metadata": {
        "id": "-Anm2zhINjLx"
      },
      "execution_count": null,
      "outputs": []
    },
    {
      "cell_type": "markdown",
      "metadata": {
        "id": "NN_3_0zd1WD3"
      },
      "source": [
        "##Classification, Zebra"
      ]
    },
    {
      "cell_type": "code",
      "execution_count": null,
      "metadata": {
        "id": "4-w9R0eu1Ys-",
        "colab": {
          "base_uri": "https://localhost:8080/",
          "height": 472
        },
        "outputId": "33b7a573-fe1c-4db1-9426-11517b3efc21"
      },
      "outputs": [
        {
          "output_type": "display_data",
          "data": {
            "text/plain": [
              "<Figure size 640x480 with 1 Axes>"
            ],
            "image/png": "[encoded data removed]"
          },
          "metadata": {}
        }
      ],
      "source": [
        "import numpy as np\n",
        "import matplotlib.pyplot as plt\n",
        "\n",
        "# Set seed for reproducibility\n",
        "np.random.seed(42)\n",
        "\n",
        "# Number of points per class\n",
        "num_points = 110\n",
        "\n",
        "# Generate alternating classes along the X-axis\n",
        "x = np.linspace(0, 100, (int) (num_points/10))\n",
        "#repeat X 10 times\n",
        "x = np.repeat(x, 10)\n",
        "y = np.random.rand(num_points)*100\n",
        "labels = np.zeros(num_points)\n",
        "\n",
        "# Assign alternating classes\n",
        "labels[x%20 == 0] = 0\n",
        "labels[x%20 != 0] = 1\n",
        "\n",
        "# Plot the generated data\n",
        "plt.scatter(x, y, c=labels, cmap='viridis', marker='.')\n",
        "plt.title('Synthetic Zebra-Style Classification Dataset')\n",
        "plt.xlabel('X')\n",
        "plt.ylabel('Y (not relevant)')\n",
        "# plt.colorbar(ticks=[0, 1], label='Class')\n",
        "plt.show()\n"
      ]
    },
    {
      "cell_type": "code",
      "execution_count": null,
      "metadata": {
        "id": "JJhXEd7TAoGT"
      },
      "outputs": [],
      "source": [
        "Xs = torch.tensor(np.column_stack((x, y)), dtype=torch.float32)\n",
        "ys = torch.tensor(labels, dtype=torch.long)"
      ]
    },
    {
      "cell_type": "code",
      "execution_count": null,
      "metadata": {
        "id": "0haNFtPWBILt",
        "colab": {
          "base_uri": "https://localhost:8080/"
        },
        "outputId": "7b99d177-ca3e-46ca-a8a7-9fdd5cfa7613"
      },
      "outputs": [
        {
          "output_type": "execute_result",
          "data": {
            "text/plain": [
              "torch.Size([110, 2])"
            ]
          },
          "metadata": {},
          "execution_count": 35
        }
      ],
      "source": [
        "Xs.shape"
      ]
    },
    {
      "cell_type": "code",
      "execution_count": null,
      "metadata": {
        "id": "Tl3ZyEY0CZY9",
        "colab": {
          "base_uri": "https://localhost:8080/"
        },
        "outputId": "48599567-3141-4128-984e-cf071508fdd9"
      },
      "outputs": [
        {
          "output_type": "execute_result",
          "data": {
            "text/plain": [
              "tensor(0)"
            ]
          },
          "metadata": {},
          "execution_count": 36
        }
      ],
      "source": [
        "ys[0]"
      ]
    },
    {
      "cell_type": "code",
      "source": [
        "ys"
      ],
      "metadata": {
        "colab": {
          "base_uri": "https://localhost:8080/"
        },
        "id": "ECZsy8w5EChV",
        "outputId": "c497e490-0bba-4f72-c009-dce2ed6ff77a"
      },
      "execution_count": null,
      "outputs": [
        {
          "output_type": "execute_result",
          "data": {
            "text/plain": [
              "tensor([0, 0, 0, 0, 0, 0, 0, 0, 0, 0, 1, 1, 1, 1, 1, 1, 1, 1, 1, 1, 0, 0, 0, 0,\n",
              "        0, 0, 0, 0, 0, 0, 1, 1, 1, 1, 1, 1, 1, 1, 1, 1, 0, 0, 0, 0, 0, 0, 0, 0,\n",
              "        0, 0, 1, 1, 1, 1, 1, 1, 1, 1, 1, 1, 0, 0, 0, 0, 0, 0, 0, 0, 0, 0, 1, 1,\n",
              "        1, 1, 1, 1, 1, 1, 1, 1, 0, 0, 0, 0, 0, 0, 0, 0, 0, 0, 1, 1, 1, 1, 1, 1,\n",
              "        1, 1, 1, 1, 0, 0, 0, 0, 0, 0, 0, 0, 0, 0])"
            ]
          },
          "metadata": {},
          "execution_count": 37
        }
      ]
    },
    {
      "cell_type": "markdown",
      "metadata": {
        "id": "-lDS9m8xpXXt"
      },
      "source": [
        "##Classification, Special Zebra"
      ]
    },
    {
      "cell_type": "code",
      "execution_count": null,
      "metadata": {
        "colab": {
          "base_uri": "https://localhost:8080/",
          "height": 472
        },
        "id": "icfMjXivpkLI",
        "outputId": "4738a6af-6cea-4357-b62f-b7af92f0fccd"
      },
      "outputs": [
        {
          "output_type": "display_data",
          "data": {
            "text/plain": [
              "<Figure size 640x480 with 1 Axes>"
            ],
            "image/png": "[encoded data removed]"
          },
          "metadata": {}
        }
      ],
      "source": [
        "import numpy as np\n",
        "import matplotlib.pyplot as plt\n",
        "\n",
        "# Set seed for reproducibility\n",
        "np.random.seed(42)\n",
        "\n",
        "# Number of points per class\n",
        "num_points = 110\n",
        "\n",
        "# Generate alternating classes along the X-axis\n",
        "x1 = np.linspace(0, 100, (int) (num_points/10))\n",
        "#repeat X 10 times\n",
        "x1 = np.repeat(x1, 10)\n",
        "y1 = np.random.rand(num_points)*100\n",
        "labels1 = np.zeros(num_points)\n",
        "\n",
        "# Assign alternating classes\n",
        "labels1[x1%20 == 0] = 0\n",
        "labels1[x1%20 != 0] = 1\n",
        "\n",
        "# Generate alternating classes along the X-axis\n",
        "y2 = np.linspace(0, 100, (int) (num_points/10))\n",
        "#repeat X 10 times\n",
        "y2 = np.repeat(y2, 10)\n",
        "x2 = 100 + np.random.rand(num_points)*100\n",
        "labels2 = np.zeros(num_points)\n",
        "\n",
        "# Assign alternating classes\n",
        "labels2[y2%20 == 0] = 0\n",
        "labels2[y2%20 != 0] = 1\n",
        "\n",
        "x = np.concatenate((x1,x2))\n",
        "y = np.concatenate((y1,y2))\n",
        "labels = np.concatenate((labels1,labels2))\n",
        "\n",
        "\n",
        "# Plot the generated data\n",
        "plt.scatter(x, y, c=labels, cmap='viridis', marker='.')\n",
        "plt.title('Synthetic Zebra-Style Classification Dataset')\n",
        "plt.xlabel('X')\n",
        "plt.ylabel('Y')\n",
        "# plt.colorbar(ticks=[0, 1], label='Class')\n",
        "plt.show()\n"
      ]
    },
    {
      "cell_type": "code",
      "execution_count": null,
      "metadata": {
        "id": "fNjOT7AqpnTT"
      },
      "outputs": [],
      "source": [
        "Xs = torch.tensor(np.column_stack((x, y)), dtype=torch.float32)\n",
        "ys = torch.tensor(labels, dtype=torch.long)"
      ]
    },
    {
      "cell_type": "markdown",
      "metadata": {
        "id": "07cZECSDXY7V"
      },
      "source": [
        "##Classification, Breast Cancer Dataset"
      ]
    },
    {
      "cell_type": "code",
      "execution_count": null,
      "metadata": {
        "id": "jwIvazPxXYr0"
      },
      "outputs": [],
      "source": [
        "# prompt: load_breast_cancer\n",
        "\n",
        "cancer = load_breast_cancer()\n",
        "Xs = cancer.data\n",
        "ys = cancer.target\n",
        "Xs = torch.tensor(Xs, dtype=torch.float32)\n",
        "ys = torch.tensor(ys)"
      ]
    },
    {
      "cell_type": "markdown",
      "metadata": {
        "id": "powiAg8RL5L7"
      },
      "source": [
        "##Classification, BAL"
      ]
    },
    {
      "cell_type": "markdown",
      "metadata": {
        "id": "XmIR8VjJL8ck"
      },
      "source": [
        "Ziwei: Download the file below from https://archive.ics.uci.edu/dataset/12/balance+scale"
      ]
    },
    {
      "cell_type": "code",
      "execution_count": null,
      "metadata": {
        "id": "7hgdQkbqL7Wt"
      },
      "outputs": [],
      "source": [
        "with open(\"balance-scale.data\",\"r\") as filef:\n",
        "    bal_file = filef.readlines()"
      ]
    },
    {
      "cell_type": "code",
      "execution_count": null,
      "metadata": {
        "id": "HZ39n1GOMElm"
      },
      "outputs": [],
      "source": [
        "Xs = []\n",
        "ys = []\n",
        "for line in bal_file:\n",
        "    Xs.append([int(line[2]),int(line[4]),int(line[6]),int(line[8])])\n",
        "    if line[0] == 'L':\n",
        "        ys.append(0)\n",
        "    elif line[0] == 'B':\n",
        "        ys.append(1)\n",
        "    elif line[0] == 'R':\n",
        "        ys.append(2)"
      ]
    },
    {
      "cell_type": "code",
      "execution_count": null,
      "metadata": {
        "id": "W_1K8YFPMGWt"
      },
      "outputs": [],
      "source": [
        "Xs = torch.tensor(Xs).float()\n",
        "ys = torch.tensor(ys)"
      ]
    },
    {
      "cell_type": "markdown",
      "metadata": {
        "id": "Z6BE0VHTogJo"
      },
      "source": [
        "##Regression, California Housing\n"
      ]
    },
    {
      "cell_type": "code",
      "execution_count": null,
      "metadata": {
        "id": "eMOxxo_MKAci"
      },
      "outputs": [],
      "source": [
        "from sklearn.datasets import fetch_california_housing\n",
        "\n",
        "california_housing = fetch_california_housing()\n",
        "Xs = california_housing.data\n",
        "ys = california_housing.target\n"
      ]
    },
    {
      "cell_type": "code",
      "execution_count": null,
      "metadata": {
        "colab": {
          "base_uri": "https://localhost:8080/"
        },
        "id": "Iix84gG6KLYU",
        "outputId": "100a2d55-1138-471e-9e3b-b42608632b35"
      },
      "outputs": [
        {
          "output_type": "execute_result",
          "data": {
            "text/plain": [
              "array([   8.3252    ,   41.        ,    6.98412698,    1.02380952,\n",
              "        322.        ,    2.55555556,   37.88      , -122.23      ])"
            ]
          },
          "metadata": {},
          "execution_count": 212
        }
      ],
      "source": [
        "Xs[0]"
      ]
    },
    {
      "cell_type": "code",
      "execution_count": null,
      "metadata": {
        "colab": {
          "base_uri": "https://localhost:8080/"
        },
        "id": "DN2dWEpzKM33",
        "outputId": "3c084f1e-b42e-441a-b501-ae6b49567c70"
      },
      "outputs": [
        {
          "output_type": "execute_result",
          "data": {
            "text/plain": [
              "4.526"
            ]
          },
          "metadata": {},
          "execution_count": 213
        }
      ],
      "source": [
        "ys[0]"
      ]
    },
    {
      "cell_type": "code",
      "execution_count": null,
      "metadata": {
        "colab": {
          "base_uri": "https://localhost:8080/"
        },
        "id": "kzGjqqSSV9Fu",
        "outputId": "b78f5db7-e0ee-468f-e6a3-f1a372977319"
      },
      "outputs": [
        {
          "output_type": "execute_result",
          "data": {
            "text/plain": [
              "array([4.526  , 3.585  , 3.521  , 3.413  , 3.422  , 2.697  , 2.992  ,\n",
              "       2.414  , 2.267  , 2.611  , 2.815  , 2.418  , 2.135  , 1.913  ,\n",
              "       1.592  , 1.4    , 1.525  , 1.555  , 1.587  , 1.629  , 1.475  ,\n",
              "       1.598  , 1.139  , 0.997  , 1.326  , 1.075  , 0.938  , 1.055  ,\n",
              "       1.089  , 1.32   , 1.223  , 1.152  , 1.104  , 1.049  , 1.097  ,\n",
              "       0.972  , 1.045  , 1.039  , 1.914  , 1.76   , 1.554  , 1.5    ,\n",
              "       1.188  , 1.888  , 1.844  , 1.823  , 1.425  , 1.375  , 1.875  ,\n",
              "       1.125  , 1.719  , 0.938  , 0.975  , 1.042  , 0.875  , 0.831  ,\n",
              "       0.875  , 0.853  , 0.803  , 0.6    , 0.757  , 0.75   , 0.861  ,\n",
              "       0.761  , 0.735  , 0.784  , 0.844  , 0.813  , 0.85   , 1.292  ,\n",
              "       0.825  , 0.952  , 0.75   , 0.675  , 1.375  , 1.775  , 1.021  ,\n",
              "       1.083  , 1.125  , 1.313  , 1.625  , 1.125  , 1.125  , 1.375  ,\n",
              "       1.188  , 0.982  , 1.188  , 1.625  , 1.375  , 5.00001, 1.625  ,\n",
              "       1.375  , 1.625  , 1.875  , 1.792  , 1.3    , 1.838  , 1.25   ,\n",
              "       1.7    , 1.931  ])"
            ]
          },
          "metadata": {},
          "execution_count": 214
        }
      ],
      "source": [
        "ys[:100]"
      ]
    },
    {
      "cell_type": "code",
      "execution_count": null,
      "metadata": {
        "id": "EFuta_wnUjCE"
      },
      "outputs": [],
      "source": [
        "# prompt: Convert Xs and ys to tensors for pytorch\n",
        "\n",
        "Xs = torch.tensor(Xs, dtype=torch.float32)\n",
        "ys = torch.tensor(ys, dtype=torch.float32)\n"
      ]
    },
    {
      "cell_type": "code",
      "execution_count": null,
      "metadata": {
        "colab": {
          "base_uri": "https://localhost:8080/"
        },
        "id": "fJWpLsWXVZZg",
        "outputId": "4e749741-abaf-4b32-cfcf-2e2a9b98d49a"
      },
      "outputs": [
        {
          "output_type": "execute_result",
          "data": {
            "text/plain": [
              "torch.Size([20640, 8])"
            ]
          },
          "metadata": {},
          "execution_count": 216
        }
      ],
      "source": [
        "Xs.shape"
      ]
    },
    {
      "cell_type": "code",
      "execution_count": null,
      "metadata": {
        "id": "poEqTR7bZuRf"
      },
      "outputs": [],
      "source": [
        "# prompt: downsize the data set to 10%\n",
        "\n",
        "from sklearn.model_selection import train_test_split\n",
        "_, Xs, _, ys = train_test_split(Xs, ys, test_size=0.1, random_state=42)\n"
      ]
    },
    {
      "cell_type": "code",
      "execution_count": null,
      "metadata": {
        "colab": {
          "base_uri": "https://localhost:8080/"
        },
        "id": "eB_cOi7sZ3rB",
        "outputId": "f0cdbdda-d336-4c49-910b-03ff370b8b92"
      },
      "outputs": [
        {
          "output_type": "execute_result",
          "data": {
            "text/plain": [
              "torch.Size([2064, 8])"
            ]
          },
          "metadata": {},
          "execution_count": 218
        }
      ],
      "source": [
        "Xs.shape"
      ]
    },
    {
      "cell_type": "markdown",
      "metadata": {
        "id": "hdMkoZr_KgZX"
      },
      "source": [
        "##Regression, Abalone"
      ]
    },
    {
      "cell_type": "code",
      "execution_count": null,
      "metadata": {
        "id": "LTi9rxq1Kfl5"
      },
      "outputs": [],
      "source": [
        "import torch\n",
        "from sklearn.preprocessing import OneHotEncoder\n",
        "from sklearn.model_selection import train_test_split\n",
        "from urllib import request\n",
        "from io import BytesIO\n",
        "import zipfile\n",
        "\n",
        "# Download the Abalone dataset\n",
        "url = \"https://archive.ics.uci.edu/ml/machine-learning-databases/abalone/abalone.data\"\n",
        "response = request.urlopen(url)\n",
        "abalone_data = response.read().decode(\"utf-8\").splitlines()\n",
        "\n",
        "# Process and convert the data to PyTorch tensors\n",
        "data = [line.strip().split(',') for line in abalone_data]\n",
        "X = []\n",
        "y = []\n",
        "\n",
        "# categories = ['M', 'F', 'I']\n",
        "# label_encoder = OneHotEncoder(categories=[categories])\n",
        "# label_encoder.fit(data)\n",
        "\n",
        "def encode_sex(sex):\n",
        "    if sex == 'M':\n",
        "        return [1, 0, 0]\n",
        "    elif sex == 'F':\n",
        "        return [0, 1, 0]\n",
        "    elif sex == 'I':\n",
        "        return [0, 0, 1]\n",
        "\n",
        "for row in data:\n",
        "    # One-hot encode the 'Sex' feature\n",
        "    # sex_encoded = label_encoder.transform([[row[0]]])[0]\n",
        "    sex_encoded = encode_sex(row[0])\n",
        "\n",
        "    # Convert the row to float and extract the target variable ('Rings')\n",
        "    X.append(sex_encoded + list(map(float, row[1:-1])))\n",
        "    y.append(float(row[-1]))\n",
        "\n",
        "    # # Encode the categorical 'Sex' feature\n",
        "    # row[0] = label_encoder.transform([row[0]])[0]\n",
        "    # # Convert the row to float and extract the target variable ('Rings')\n",
        "    # X.append(list(map(float, row[:-1])))\n",
        "    # y.append(float(row[-1]))\n",
        "\n",
        "Xs = torch.tensor(X, dtype=torch.float32)\n",
        "ys = torch.tensor(y, dtype=torch.float32)\n"
      ]
    },
    {
      "cell_type": "markdown",
      "metadata": {
        "id": "8vxYpkSzeWw_"
      },
      "source": [
        "##Regression, Diabetes"
      ]
    },
    {
      "cell_type": "code",
      "execution_count": null,
      "metadata": {
        "id": "tP127Lw6gNFk"
      },
      "outputs": [],
      "source": [
        "# prompt: load the diabetes dataset from sklearn\n",
        "\n",
        "from sklearn.datasets import load_diabetes\n",
        "diabetes = load_diabetes()\n",
        "Xs = diabetes.data\n",
        "ys = diabetes.target\n",
        "# prompt: convert Xs and ys to float tensor\n",
        "\n",
        "Xs = torch.tensor(Xs, dtype=torch.float32)\n",
        "ys = torch.tensor(ys, dtype=torch.float32)\n"
      ]
    },
    {
      "cell_type": "code",
      "execution_count": null,
      "metadata": {
        "colab": {
          "base_uri": "https://localhost:8080/"
        },
        "id": "RZdQOsd0gdG1",
        "outputId": "80fc627d-11ec-48ac-f236-e4eabde75e9c"
      },
      "outputs": [
        {
          "output_type": "execute_result",
          "data": {
            "text/plain": [
              "tensor([ 0.0381,  0.0507,  0.0617,  0.0219, -0.0442, -0.0348, -0.0434, -0.0026,\n",
              "         0.0199, -0.0176])"
            ]
          },
          "metadata": {},
          "execution_count": 131
        }
      ],
      "source": [
        "Xs[0]"
      ]
    },
    {
      "cell_type": "code",
      "execution_count": null,
      "metadata": {
        "colab": {
          "base_uri": "https://localhost:8080/"
        },
        "id": "Qk8Iw3eL6SF2",
        "outputId": "ce75f36e-a3a9-4e4d-abcb-8992ba387f1c"
      },
      "outputs": [
        {
          "output_type": "execute_result",
          "data": {
            "text/plain": [
              "torch.return_types.max(\n",
              "values=tensor([0.1107, 0.0507, 0.1706, 0.1320, 0.1539, 0.1988, 0.1812, 0.1852, 0.1336,\n",
              "        0.1356]),\n",
              "indices=tensor([204,   0, 367, 340, 230, 123,  58, 123,  23,  23]))"
            ]
          },
          "metadata": {},
          "execution_count": 132
        }
      ],
      "source": [
        "torch.max(Xs,dim=0)"
      ]
    },
    {
      "cell_type": "code",
      "execution_count": null,
      "metadata": {
        "colab": {
          "base_uri": "https://localhost:8080/"
        },
        "id": "kTuguLpxgeVW",
        "outputId": "b6cad194-46d1-49ef-8213-47a01abdd21e"
      },
      "outputs": [
        {
          "output_type": "execute_result",
          "data": {
            "text/plain": [
              "tensor(151.)"
            ]
          },
          "metadata": {},
          "execution_count": 133
        }
      ],
      "source": [
        "ys[0]"
      ]
    },
    {
      "cell_type": "code",
      "execution_count": null,
      "metadata": {
        "colab": {
          "base_uri": "https://localhost:8080/"
        },
        "id": "fprm-3uOgfbm",
        "outputId": "b4954894-eaa8-40c2-81c6-62f911e78a30"
      },
      "outputs": [
        {
          "output_type": "execute_result",
          "data": {
            "text/plain": [
              "torch.Size([442, 10])"
            ]
          },
          "metadata": {},
          "execution_count": 134
        }
      ],
      "source": [
        "Xs.shape"
      ]
    },
    {
      "cell_type": "code",
      "execution_count": null,
      "metadata": {
        "id": "lfyOuSplUiUY"
      },
      "outputs": [],
      "source": [
        "#"
      ]
    },
    {
      "cell_type": "markdown",
      "metadata": {
        "id": "-Ta_zinTqY48"
      },
      "source": [
        "##Regression, Patchy classes"
      ]
    },
    {
      "cell_type": "markdown",
      "metadata": {
        "id": "j_4xNhFTfQP_"
      },
      "source": [
        "TODO"
      ]
    },
    {
      "cell_type": "code",
      "execution_count": null,
      "metadata": {
        "id": "IZshHTL0qcnZ"
      },
      "outputs": [],
      "source": []
    },
    {
      "cell_type": "markdown",
      "metadata": {
        "id": "C29ELkyUUzEf"
      },
      "source": [
        "##Regression, Body Fat\n",
        "\n",
        "Tried this data set on multiple settings. Our NN-kNN consistently perform poorly on this when compared to other methods.\n",
        "\n",
        "https://www.kaggle.com/datasets/fedesoriano/body-fat-prediction-dataset?resource=download\n",
        "\n",
        "https://www.kaggle.com/code/casper6290/bodyfat-prediction#1-|-Importing-Libraries-and-Loading-dataset"
      ]
    },
    {
      "cell_type": "code",
      "execution_count": null,
      "metadata": {
        "colab": {
          "base_uri": "https://localhost:8080/"
        },
        "id": "dmlUIHa3cFLy",
        "outputId": "c6fc75df-df48-4b07-f790-172158637b76"
      },
      "outputs": [
        {
          "output_type": "stream",
          "name": "stdout",
          "text": [
            "Mounted at /content/drive\n"
          ]
        }
      ],
      "source": [
        "from google.colab import drive\n",
        "drive.mount('/content/drive')"
      ]
    },
    {
      "cell_type": "code",
      "execution_count": null,
      "metadata": {
        "colab": {
          "base_uri": "https://localhost:8080/",
          "height": 206
        },
        "id": "umDa4rqucbgk",
        "outputId": "45a50d9f-015c-4941-b203-3e43a12e6698"
      },
      "outputs": [
        {
          "output_type": "execute_result",
          "data": {
            "text/plain": [
              "   Density  BodyFat  Age  Weight  Height  Neck  Chest  Abdomen    Hip  Thigh  \\\n",
              "0   1.0708     12.3   23  154.25   67.75  36.2   93.1     85.2   94.5   59.0   \n",
              "1   1.0853      6.1   22  173.25   72.25  38.5   93.6     83.0   98.7   58.7   \n",
              "2   1.0414     25.3   22  154.00   66.25  34.0   95.8     87.9   99.2   59.6   \n",
              "3   1.0751     10.4   26  184.75   72.25  37.4  101.8     86.4  101.2   60.1   \n",
              "4   1.0340     28.7   24  184.25   71.25  34.4   97.3    100.0  101.9   63.2   \n",
              "\n",
              "   Knee  Ankle  Biceps  Forearm  Wrist  \n",
              "0  37.3   21.9    32.0     27.4   17.1  \n",
              "1  37.3   23.4    30.5     28.9   18.2  \n",
              "2  38.9   24.0    28.8     25.2   16.6  \n",
              "3  37.3   22.8    32.4     29.4   18.2  \n",
              "4  42.2   24.0    32.2     27.7   17.7  "
            ],
            "text/html": [
              "\n",
              "  <div id=\"df-bda82faf-eb0e-49d0-a727-9b4c6f16f4b9\" class=\"colab-df-container\">\n",
              "    <div>\n",
              "<style scoped>\n",
              "    .dataframe tbody tr th:only-of-type {\n",
              "        vertical-align: middle;\n",
              "    }\n",
              "\n",
              "    .dataframe tbody tr th {\n",
              "        vertical-align: top;\n",
              "    }\n",
              "\n",
              "    .dataframe thead th {\n",
              "        text-align: right;\n",
              "    }\n",
              "</style>\n",
              "<table border=\"1\" class=\"dataframe\">\n",
              "  <thead>\n",
              "    <tr style=\"text-align: right;\">\n",
              "      <th></th>\n",
              "      <th>Density</th>\n",
              "      <th>BodyFat</th>\n",
              "      <th>Age</th>\n",
              "      <th>Weight</th>\n",
              "      <th>Height</th>\n",
              "      <th>Neck</th>\n",
              "      <th>Chest</th>\n",
              "      <th>Abdomen</th>\n",
              "      <th>Hip</th>\n",
              "      <th>Thigh</th>\n",
              "      <th>Knee</th>\n",
              "      <th>Ankle</th>\n",
              "      <th>Biceps</th>\n",
              "      <th>Forearm</th>\n",
              "      <th>Wrist</th>\n",
              "    </tr>\n",
              "  </thead>\n",
              "  <tbody>\n",
              "    <tr>\n",
              "      <th>0</th>\n",
              "      <td>1.0708</td>\n",
              "      <td>12.3</td>\n",
              "      <td>23</td>\n",
              "      <td>154.25</td>\n",
              "      <td>67.75</td>\n",
              "      <td>36.2</td>\n",
              "      <td>93.1</td>\n",
              "      <td>85.2</td>\n",
              "      <td>94.5</td>\n",
              "      <td>59.0</td>\n",
              "      <td>37.3</td>\n",
              "      <td>21.9</td>\n",
              "      <td>32.0</td>\n",
              "      <td>27.4</td>\n",
              "      <td>17.1</td>\n",
              "    </tr>\n",
              "    <tr>\n",
              "      <th>1</th>\n",
              "      <td>1.0853</td>\n",
              "      <td>6.1</td>\n",
              "      <td>22</td>\n",
              "      <td>173.25</td>\n",
              "      <td>72.25</td>\n",
              "      <td>38.5</td>\n",
              "      <td>93.6</td>\n",
              "      <td>83.0</td>\n",
              "      <td>98.7</td>\n",
              "      <td>58.7</td>\n",
              "      <td>37.3</td>\n",
              "      <td>23.4</td>\n",
              "      <td>30.5</td>\n",
              "      <td>28.9</td>\n",
              "      <td>18.2</td>\n",
              "    </tr>\n",
              "    <tr>\n",
              "      <th>2</th>\n",
              "      <td>1.0414</td>\n",
              "      <td>25.3</td>\n",
              "      <td>22</td>\n",
              "      <td>154.00</td>\n",
              "      <td>66.25</td>\n",
              "      <td>34.0</td>\n",
              "      <td>95.8</td>\n",
              "      <td>87.9</td>\n",
              "      <td>99.2</td>\n",
              "      <td>59.6</td>\n",
              "      <td>38.9</td>\n",
              "      <td>24.0</td>\n",
              "      <td>28.8</td>\n",
              "      <td>25.2</td>\n",
              "      <td>16.6</td>\n",
              "    </tr>\n",
              "    <tr>\n",
              "      <th>3</th>\n",
              "      <td>1.0751</td>\n",
              "      <td>10.4</td>\n",
              "      <td>26</td>\n",
              "      <td>184.75</td>\n",
              "      <td>72.25</td>\n",
              "      <td>37.4</td>\n",
              "      <td>101.8</td>\n",
              "      <td>86.4</td>\n",
              "      <td>101.2</td>\n",
              "      <td>60.1</td>\n",
              "      <td>37.3</td>\n",
              "      <td>22.8</td>\n",
              "      <td>32.4</td>\n",
              "      <td>29.4</td>\n",
              "      <td>18.2</td>\n",
              "    </tr>\n",
              "    <tr>\n",
              "      <th>4</th>\n",
              "      <td>1.0340</td>\n",
              "      <td>28.7</td>\n",
              "      <td>24</td>\n",
              "      <td>184.25</td>\n",
              "      <td>71.25</td>\n",
              "      <td>34.4</td>\n",
              "      <td>97.3</td>\n",
              "      <td>100.0</td>\n",
              "      <td>101.9</td>\n",
              "      <td>63.2</td>\n",
              "      <td>42.2</td>\n",
              "      <td>24.0</td>\n",
              "      <td>32.2</td>\n",
              "      <td>27.7</td>\n",
              "      <td>17.7</td>\n",
              "    </tr>\n",
              "  </tbody>\n",
              "</table>\n",
              "</div>\n",
              "    <div class=\"colab-df-buttons\">\n",
              "\n",
              "  <div class=\"colab-df-container\">\n",
              "    <button class=\"colab-df-convert\" onclick=\"convertToInteractive('df-bda82faf-eb0e-49d0-a727-9b4c6f16f4b9')\"\n",
              "            title=\"Convert this dataframe to an interactive table.\"\n",
              "            style=\"display:none;\">\n",
              "\n",
              "  <svg xmlns=\"http://www.w3.org/2000/svg\" height=\"24px\" viewBox=\"0 -960 960 960\">\n",
              "    <path d=\"M120-120v-720h720v720H120Zm60-500h600v-160H180v160Zm220 220h160v-160H400v160Zm0 220h160v-160H400v160ZM180-400h160v-160H180v160Zm440 0h160v-160H620v160ZM180-180h160v-160H180v160Zm440 0h160v-160H620v160Z\"/>\n",
              "  </svg>\n",
              "    </button>\n",
              "\n",
              "  <style>\n",
              "    .colab-df-container {\n",
              "      display:flex;\n",
              "      gap: 12px;\n",
              "    }\n",
              "\n",
              "    .colab-df-convert {\n",
              "      background-color: #E8F0FE;\n",
              "      border: none;\n",
              "      border-radius: 50%;\n",
              "      cursor: pointer;\n",
              "      display: none;\n",
              "      fill: #1967D2;\n",
              "      height: 32px;\n",
              "      padding: 0 0 0 0;\n",
              "      width: 32px;\n",
              "    }\n",
              "\n",
              "    .colab-df-convert:hover {\n",
              "      background-color: #E2EBFA;\n",
              "      box-shadow: 0px 1px 2px rgba(60, 64, 67, 0.3), 0px 1px 3px 1px rgba(60, 64, 67, 0.15);\n",
              "      fill: #174EA6;\n",
              "    }\n",
              "\n",
              "    .colab-df-buttons div {\n",
              "      margin-bottom: 4px;\n",
              "    }\n",
              "\n",
              "    [theme=dark] .colab-df-convert {\n",
              "      background-color: #3B4455;\n",
              "      fill: #D2E3FC;\n",
              "    }\n",
              "\n",
              "    [theme=dark] .colab-df-convert:hover {\n",
              "      background-color: #434B5C;\n",
              "      box-shadow: 0px 1px 3px 1px rgba(0, 0, 0, 0.15);\n",
              "      filter: drop-shadow(0px 1px 2px rgba(0, 0, 0, 0.3));\n",
              "      fill: #FFFFFF;\n",
              "    }\n",
              "  </style>\n",
              "\n",
              "    <script>\n",
              "      const buttonEl =\n",
              "        document.querySelector('#df-bda82faf-eb0e-49d0-a727-9b4c6f16f4b9 button.colab-df-convert');\n",
              "      buttonEl.style.display =\n",
              "        google.colab.kernel.accessAllowed ? 'block' : 'none';\n",
              "\n",
              "      async function convertToInteractive(key) {\n",
              "        const element = document.querySelector('#df-bda82faf-eb0e-49d0-a727-9b4c6f16f4b9');\n",
              "        const dataTable =\n",
              "          await google.colab.kernel.invokeFunction('convertToInteractive',\n",
              "                                                    [key], {});\n",
              "        if (!dataTable) return;\n",
              "\n",
              "        const docLinkHtml = 'Like what you see? Visit the ' +\n",
              "          '<a target=\"_blank\" href=https://colab.research.google.com/notebooks/data_table.ipynb>data table notebook</a>'\n",
              "          + ' to learn more about interactive tables.';\n",
              "        element.innerHTML = '';\n",
              "        dataTable['output_type'] = 'display_data';\n",
              "        await google.colab.output.renderOutput(dataTable, element);\n",
              "        const docLink = document.createElement('div');\n",
              "        docLink.innerHTML = docLinkHtml;\n",
              "        element.appendChild(docLink);\n",
              "      }\n",
              "    </script>\n",
              "  </div>\n",
              "\n",
              "\n",
              "<div id=\"df-11648cd0-1140-4c44-a931-19b98a88084d\">\n",
              "  <button class=\"colab-df-quickchart\" onclick=\"quickchart('df-11648cd0-1140-4c44-a931-19b98a88084d')\"\n",
              "            title=\"Suggest charts\"\n",
              "            style=\"display:none;\">\n",
              "\n",
              "<svg xmlns=\"http://www.w3.org/2000/svg\" height=\"24px\"viewBox=\"0 0 24 24\"\n",
              "     width=\"24px\">\n",
              "    <g>\n",
              "        <path d=\"M19 3H5c-1.1 0-2 .9-2 2v14c0 1.1.9 2 2 2h14c1.1 0 2-.9 2-2V5c0-1.1-.9-2-2-2zM9 17H7v-7h2v7zm4 0h-2V7h2v10zm4 0h-2v-4h2v4z\"/>\n",
              "    </g>\n",
              "</svg>\n",
              "  </button>\n",
              "\n",
              "<style>\n",
              "  .colab-df-quickchart {\n",
              "      --bg-color: #E8F0FE;\n",
              "      --fill-color: #1967D2;\n",
              "      --hover-bg-color: #E2EBFA;\n",
              "      --hover-fill-color: #174EA6;\n",
              "      --disabled-fill-color: #AAA;\n",
              "      --disabled-bg-color: #DDD;\n",
              "  }\n",
              "\n",
              "  [theme=dark] .colab-df-quickchart {\n",
              "      --bg-color: #3B4455;\n",
              "      --fill-color: #D2E3FC;\n",
              "      --hover-bg-color: #434B5C;\n",
              "      --hover-fill-color: #FFFFFF;\n",
              "      --disabled-bg-color: #3B4455;\n",
              "      --disabled-fill-color: #666;\n",
              "  }\n",
              "\n",
              "  .colab-df-quickchart {\n",
              "    background-color: var(--bg-color);\n",
              "    border: none;\n",
              "    border-radius: 50%;\n",
              "    cursor: pointer;\n",
              "    display: none;\n",
              "    fill: var(--fill-color);\n",
              "    height: 32px;\n",
              "    padding: 0;\n",
              "    width: 32px;\n",
              "  }\n",
              "\n",
              "  .colab-df-quickchart:hover {\n",
              "    background-color: var(--hover-bg-color);\n",
              "    box-shadow: 0 1px 2px rgba(60, 64, 67, 0.3), 0 1px 3px 1px rgba(60, 64, 67, 0.15);\n",
              "    fill: var(--button-hover-fill-color);\n",
              "  }\n",
              "\n",
              "  .colab-df-quickchart-complete:disabled,\n",
              "  .colab-df-quickchart-complete:disabled:hover {\n",
              "    background-color: var(--disabled-bg-color);\n",
              "    fill: var(--disabled-fill-color);\n",
              "    box-shadow: none;\n",
              "  }\n",
              "\n",
              "  .colab-df-spinner {\n",
              "    border: 2px solid var(--fill-color);\n",
              "    border-color: transparent;\n",
              "    border-bottom-color: var(--fill-color);\n",
              "    animation:\n",
              "      spin 1s steps(1) infinite;\n",
              "  }\n",
              "\n",
              "  @keyframes spin {\n",
              "    0% {\n",
              "      border-color: transparent;\n",
              "      border-bottom-color: var(--fill-color);\n",
              "      border-left-color: var(--fill-color);\n",
              "    }\n",
              "    20% {\n",
              "      border-color: transparent;\n",
              "      border-left-color: var(--fill-color);\n",
              "      border-top-color: var(--fill-color);\n",
              "    }\n",
              "    30% {\n",
              "      border-color: transparent;\n",
              "      border-left-color: var(--fill-color);\n",
              "      border-top-color: var(--fill-color);\n",
              "      border-right-color: var(--fill-color);\n",
              "    }\n",
              "    40% {\n",
              "      border-color: transparent;\n",
              "      border-right-color: var(--fill-color);\n",
              "      border-top-color: var(--fill-color);\n",
              "    }\n",
              "    60% {\n",
              "      border-color: transparent;\n",
              "      border-right-color: var(--fill-color);\n",
              "    }\n",
              "    80% {\n",
              "      border-color: transparent;\n",
              "      border-right-color: var(--fill-color);\n",
              "      border-bottom-color: var(--fill-color);\n",
              "    }\n",
              "    90% {\n",
              "      border-color: transparent;\n",
              "      border-bottom-color: var(--fill-color);\n",
              "    }\n",
              "  }\n",
              "</style>\n",
              "\n",
              "  <script>\n",
              "    async function quickchart(key) {\n",
              "      const quickchartButtonEl =\n",
              "        document.querySelector('#' + key + ' button');\n",
              "      quickchartButtonEl.disabled = true;  // To prevent multiple clicks.\n",
              "      quickchartButtonEl.classList.add('colab-df-spinner');\n",
              "      try {\n",
              "        const charts = await google.colab.kernel.invokeFunction(\n",
              "            'suggestCharts', [key], {});\n",
              "      } catch (error) {\n",
              "        console.error('Error during call to suggestCharts:', error);\n",
              "      }\n",
              "      quickchartButtonEl.classList.remove('colab-df-spinner');\n",
              "      quickchartButtonEl.classList.add('colab-df-quickchart-complete');\n",
              "    }\n",
              "    (() => {\n",
              "      let quickchartButtonEl =\n",
              "        document.querySelector('#df-11648cd0-1140-4c44-a931-19b98a88084d button');\n",
              "      quickchartButtonEl.style.display =\n",
              "        google.colab.kernel.accessAllowed ? 'block' : 'none';\n",
              "    })();\n",
              "  </script>\n",
              "</div>\n",
              "\n",
              "    </div>\n",
              "  </div>\n"
            ]
          },
          "metadata": {},
          "execution_count": 32
        }
      ],
      "source": [
        "import pandas as pd\n",
        "import numpy as np\n",
        "import matplotlib.pyplot as plt\n",
        "import seaborn as sns\n",
        "import scipy.stats as stats\n",
        "from sklearn.preprocessing import PowerTransformer\n",
        "#\n",
        "df = pd.read_csv(\"/content/drive/MyDrive/2023 research/NN-kNN/bodyfat.csv\")\n",
        "df.head()"
      ]
    },
    {
      "cell_type": "code",
      "execution_count": null,
      "metadata": {
        "colab": {
          "base_uri": "https://localhost:8080/"
        },
        "id": "UqFrJNY2d4uL",
        "outputId": "1a2f1698-fcd1-4de5-a318-986d3fb0fdff"
      },
      "outputs": [
        {
          "output_type": "execute_result",
          "data": {
            "text/plain": [
              "(252, 15)"
            ]
          },
          "metadata": {},
          "execution_count": 33
        }
      ],
      "source": [
        "df.shape"
      ]
    },
    {
      "cell_type": "code",
      "execution_count": null,
      "metadata": {
        "id": "M_j5YekSd_3A"
      },
      "outputs": [],
      "source": [
        "X = df.drop(['BodyFat','Density'],axis=1)\n",
        "y = df['Density']"
      ]
    },
    {
      "cell_type": "code",
      "execution_count": null,
      "metadata": {
        "colab": {
          "base_uri": "https://localhost:8080/",
          "height": 206
        },
        "id": "E7BzcLAveA9Q",
        "outputId": "d309aec9-ee7f-496f-e074-631af7038c9d"
      },
      "outputs": [
        {
          "output_type": "execute_result",
          "data": {
            "text/plain": [
              "   Age  Weight  Height  Neck  Chest  Abdomen    Hip  Thigh  Knee  Ankle  \\\n",
              "0   23  154.25   67.75  36.2   93.1     85.2   94.5   59.0  37.3   21.9   \n",
              "1   22  173.25   72.25  38.5   93.6     83.0   98.7   58.7  37.3   23.4   \n",
              "2   22  154.00   66.25  34.0   95.8     87.9   99.2   59.6  38.9   24.0   \n",
              "3   26  184.75   72.25  37.4  101.8     86.4  101.2   60.1  37.3   22.8   \n",
              "4   24  184.25   71.25  34.4   97.3    100.0  101.9   63.2  42.2   24.0   \n",
              "\n",
              "   Biceps  Forearm  Wrist        Bmi  \n",
              "0    32.0     27.4   17.1  23.624460  \n",
              "1    30.5     28.9   18.2  23.332048  \n",
              "2    28.8     25.2   16.6  24.666315  \n",
              "3    32.4     29.4   18.2  24.880784  \n",
              "4    32.2     27.7   17.7  25.514854  "
            ],
            "text/html": [
              "\n",
              "  <div id=\"df-f5d7710d-4897-4fbb-9df7-45f177d10a39\" class=\"colab-df-container\">\n",
              "    <div>\n",
              "<style scoped>\n",
              "    .dataframe tbody tr th:only-of-type {\n",
              "        vertical-align: middle;\n",
              "    }\n",
              "\n",
              "    .dataframe tbody tr th {\n",
              "        vertical-align: top;\n",
              "    }\n",
              "\n",
              "    .dataframe thead th {\n",
              "        text-align: right;\n",
              "    }\n",
              "</style>\n",
              "<table border=\"1\" class=\"dataframe\">\n",
              "  <thead>\n",
              "    <tr style=\"text-align: right;\">\n",
              "      <th></th>\n",
              "      <th>Age</th>\n",
              "      <th>Weight</th>\n",
              "      <th>Height</th>\n",
              "      <th>Neck</th>\n",
              "      <th>Chest</th>\n",
              "      <th>Abdomen</th>\n",
              "      <th>Hip</th>\n",
              "      <th>Thigh</th>\n",
              "      <th>Knee</th>\n",
              "      <th>Ankle</th>\n",
              "      <th>Biceps</th>\n",
              "      <th>Forearm</th>\n",
              "      <th>Wrist</th>\n",
              "      <th>Bmi</th>\n",
              "    </tr>\n",
              "  </thead>\n",
              "  <tbody>\n",
              "    <tr>\n",
              "      <th>0</th>\n",
              "      <td>23</td>\n",
              "      <td>154.25</td>\n",
              "      <td>67.75</td>\n",
              "      <td>36.2</td>\n",
              "      <td>93.1</td>\n",
              "      <td>85.2</td>\n",
              "      <td>94.5</td>\n",
              "      <td>59.0</td>\n",
              "      <td>37.3</td>\n",
              "      <td>21.9</td>\n",
              "      <td>32.0</td>\n",
              "      <td>27.4</td>\n",
              "      <td>17.1</td>\n",
              "      <td>23.624460</td>\n",
              "    </tr>\n",
              "    <tr>\n",
              "      <th>1</th>\n",
              "      <td>22</td>\n",
              "      <td>173.25</td>\n",
              "      <td>72.25</td>\n",
              "      <td>38.5</td>\n",
              "      <td>93.6</td>\n",
              "      <td>83.0</td>\n",
              "      <td>98.7</td>\n",
              "      <td>58.7</td>\n",
              "      <td>37.3</td>\n",
              "      <td>23.4</td>\n",
              "      <td>30.5</td>\n",
              "      <td>28.9</td>\n",
              "      <td>18.2</td>\n",
              "      <td>23.332048</td>\n",
              "    </tr>\n",
              "    <tr>\n",
              "      <th>2</th>\n",
              "      <td>22</td>\n",
              "      <td>154.00</td>\n",
              "      <td>66.25</td>\n",
              "      <td>34.0</td>\n",
              "      <td>95.8</td>\n",
              "      <td>87.9</td>\n",
              "      <td>99.2</td>\n",
              "      <td>59.6</td>\n",
              "      <td>38.9</td>\n",
              "      <td>24.0</td>\n",
              "      <td>28.8</td>\n",
              "      <td>25.2</td>\n",
              "      <td>16.6</td>\n",
              "      <td>24.666315</td>\n",
              "    </tr>\n",
              "    <tr>\n",
              "      <th>3</th>\n",
              "      <td>26</td>\n",
              "      <td>184.75</td>\n",
              "      <td>72.25</td>\n",
              "      <td>37.4</td>\n",
              "      <td>101.8</td>\n",
              "      <td>86.4</td>\n",
              "      <td>101.2</td>\n",
              "      <td>60.1</td>\n",
              "      <td>37.3</td>\n",
              "      <td>22.8</td>\n",
              "      <td>32.4</td>\n",
              "      <td>29.4</td>\n",
              "      <td>18.2</td>\n",
              "      <td>24.880784</td>\n",
              "    </tr>\n",
              "    <tr>\n",
              "      <th>4</th>\n",
              "      <td>24</td>\n",
              "      <td>184.25</td>\n",
              "      <td>71.25</td>\n",
              "      <td>34.4</td>\n",
              "      <td>97.3</td>\n",
              "      <td>100.0</td>\n",
              "      <td>101.9</td>\n",
              "      <td>63.2</td>\n",
              "      <td>42.2</td>\n",
              "      <td>24.0</td>\n",
              "      <td>32.2</td>\n",
              "      <td>27.7</td>\n",
              "      <td>17.7</td>\n",
              "      <td>25.514854</td>\n",
              "    </tr>\n",
              "  </tbody>\n",
              "</table>\n",
              "</div>\n",
              "    <div class=\"colab-df-buttons\">\n",
              "\n",
              "  <div class=\"colab-df-container\">\n",
              "    <button class=\"colab-df-convert\" onclick=\"convertToInteractive('df-f5d7710d-4897-4fbb-9df7-45f177d10a39')\"\n",
              "            title=\"Convert this dataframe to an interactive table.\"\n",
              "            style=\"display:none;\">\n",
              "\n",
              "  <svg xmlns=\"http://www.w3.org/2000/svg\" height=\"24px\" viewBox=\"0 -960 960 960\">\n",
              "    <path d=\"M120-120v-720h720v720H120Zm60-500h600v-160H180v160Zm220 220h160v-160H400v160Zm0 220h160v-160H400v160ZM180-400h160v-160H180v160Zm440 0h160v-160H620v160ZM180-180h160v-160H180v160Zm440 0h160v-160H620v160Z\"/>\n",
              "  </svg>\n",
              "    </button>\n",
              "\n",
              "  <style>\n",
              "    .colab-df-container {\n",
              "      display:flex;\n",
              "      gap: 12px;\n",
              "    }\n",
              "\n",
              "    .colab-df-convert {\n",
              "      background-color: #E8F0FE;\n",
              "      border: none;\n",
              "      border-radius: 50%;\n",
              "      cursor: pointer;\n",
              "      display: none;\n",
              "      fill: #1967D2;\n",
              "      height: 32px;\n",
              "      padding: 0 0 0 0;\n",
              "      width: 32px;\n",
              "    }\n",
              "\n",
              "    .colab-df-convert:hover {\n",
              "      background-color: #E2EBFA;\n",
              "      box-shadow: 0px 1px 2px rgba(60, 64, 67, 0.3), 0px 1px 3px 1px rgba(60, 64, 67, 0.15);\n",
              "      fill: #174EA6;\n",
              "    }\n",
              "\n",
              "    .colab-df-buttons div {\n",
              "      margin-bottom: 4px;\n",
              "    }\n",
              "\n",
              "    [theme=dark] .colab-df-convert {\n",
              "      background-color: #3B4455;\n",
              "      fill: #D2E3FC;\n",
              "    }\n",
              "\n",
              "    [theme=dark] .colab-df-convert:hover {\n",
              "      background-color: #434B5C;\n",
              "      box-shadow: 0px 1px 3px 1px rgba(0, 0, 0, 0.15);\n",
              "      filter: drop-shadow(0px 1px 2px rgba(0, 0, 0, 0.3));\n",
              "      fill: #FFFFFF;\n",
              "    }\n",
              "  </style>\n",
              "\n",
              "    <script>\n",
              "      const buttonEl =\n",
              "        document.querySelector('#df-f5d7710d-4897-4fbb-9df7-45f177d10a39 button.colab-df-convert');\n",
              "      buttonEl.style.display =\n",
              "        google.colab.kernel.accessAllowed ? 'block' : 'none';\n",
              "\n",
              "      async function convertToInteractive(key) {\n",
              "        const element = document.querySelector('#df-f5d7710d-4897-4fbb-9df7-45f177d10a39');\n",
              "        const dataTable =\n",
              "          await google.colab.kernel.invokeFunction('convertToInteractive',\n",
              "                                                    [key], {});\n",
              "        if (!dataTable) return;\n",
              "\n",
              "        const docLinkHtml = 'Like what you see? Visit the ' +\n",
              "          '<a target=\"_blank\" href=https://colab.research.google.com/notebooks/data_table.ipynb>data table notebook</a>'\n",
              "          + ' to learn more about interactive tables.';\n",
              "        element.innerHTML = '';\n",
              "        dataTable['output_type'] = 'display_data';\n",
              "        await google.colab.output.renderOutput(dataTable, element);\n",
              "        const docLink = document.createElement('div');\n",
              "        docLink.innerHTML = docLinkHtml;\n",
              "        element.appendChild(docLink);\n",
              "      }\n",
              "    </script>\n",
              "  </div>\n",
              "\n",
              "\n",
              "<div id=\"df-858cdf66-914c-40c5-bdef-2ea1e7963d66\">\n",
              "  <button class=\"colab-df-quickchart\" onclick=\"quickchart('df-858cdf66-914c-40c5-bdef-2ea1e7963d66')\"\n",
              "            title=\"Suggest charts\"\n",
              "            style=\"display:none;\">\n",
              "\n",
              "<svg xmlns=\"http://www.w3.org/2000/svg\" height=\"24px\"viewBox=\"0 0 24 24\"\n",
              "     width=\"24px\">\n",
              "    <g>\n",
              "        <path d=\"M19 3H5c-1.1 0-2 .9-2 2v14c0 1.1.9 2 2 2h14c1.1 0 2-.9 2-2V5c0-1.1-.9-2-2-2zM9 17H7v-7h2v7zm4 0h-2V7h2v10zm4 0h-2v-4h2v4z\"/>\n",
              "    </g>\n",
              "</svg>\n",
              "  </button>\n",
              "\n",
              "<style>\n",
              "  .colab-df-quickchart {\n",
              "      --bg-color: #E8F0FE;\n",
              "      --fill-color: #1967D2;\n",
              "      --hover-bg-color: #E2EBFA;\n",
              "      --hover-fill-color: #174EA6;\n",
              "      --disabled-fill-color: #AAA;\n",
              "      --disabled-bg-color: #DDD;\n",
              "  }\n",
              "\n",
              "  [theme=dark] .colab-df-quickchart {\n",
              "      --bg-color: #3B4455;\n",
              "      --fill-color: #D2E3FC;\n",
              "      --hover-bg-color: #434B5C;\n",
              "      --hover-fill-color: #FFFFFF;\n",
              "      --disabled-bg-color: #3B4455;\n",
              "      --disabled-fill-color: #666;\n",
              "  }\n",
              "\n",
              "  .colab-df-quickchart {\n",
              "    background-color: var(--bg-color);\n",
              "    border: none;\n",
              "    border-radius: 50%;\n",
              "    cursor: pointer;\n",
              "    display: none;\n",
              "    fill: var(--fill-color);\n",
              "    height: 32px;\n",
              "    padding: 0;\n",
              "    width: 32px;\n",
              "  }\n",
              "\n",
              "  .colab-df-quickchart:hover {\n",
              "    background-color: var(--hover-bg-color);\n",
              "    box-shadow: 0 1px 2px rgba(60, 64, 67, 0.3), 0 1px 3px 1px rgba(60, 64, 67, 0.15);\n",
              "    fill: var(--button-hover-fill-color);\n",
              "  }\n",
              "\n",
              "  .colab-df-quickchart-complete:disabled,\n",
              "  .colab-df-quickchart-complete:disabled:hover {\n",
              "    background-color: var(--disabled-bg-color);\n",
              "    fill: var(--disabled-fill-color);\n",
              "    box-shadow: none;\n",
              "  }\n",
              "\n",
              "  .colab-df-spinner {\n",
              "    border: 2px solid var(--fill-color);\n",
              "    border-color: transparent;\n",
              "    border-bottom-color: var(--fill-color);\n",
              "    animation:\n",
              "      spin 1s steps(1) infinite;\n",
              "  }\n",
              "\n",
              "  @keyframes spin {\n",
              "    0% {\n",
              "      border-color: transparent;\n",
              "      border-bottom-color: var(--fill-color);\n",
              "      border-left-color: var(--fill-color);\n",
              "    }\n",
              "    20% {\n",
              "      border-color: transparent;\n",
              "      border-left-color: var(--fill-color);\n",
              "      border-top-color: var(--fill-color);\n",
              "    }\n",
              "    30% {\n",
              "      border-color: transparent;\n",
              "      border-left-color: var(--fill-color);\n",
              "      border-top-color: var(--fill-color);\n",
              "      border-right-color: var(--fill-color);\n",
              "    }\n",
              "    40% {\n",
              "      border-color: transparent;\n",
              "      border-right-color: var(--fill-color);\n",
              "      border-top-color: var(--fill-color);\n",
              "    }\n",
              "    60% {\n",
              "      border-color: transparent;\n",
              "      border-right-color: var(--fill-color);\n",
              "    }\n",
              "    80% {\n",
              "      border-color: transparent;\n",
              "      border-right-color: var(--fill-color);\n",
              "      border-bottom-color: var(--fill-color);\n",
              "    }\n",
              "    90% {\n",
              "      border-color: transparent;\n",
              "      border-bottom-color: var(--fill-color);\n",
              "    }\n",
              "  }\n",
              "</style>\n",
              "\n",
              "  <script>\n",
              "    async function quickchart(key) {\n",
              "      const quickchartButtonEl =\n",
              "        document.querySelector('#' + key + ' button');\n",
              "      quickchartButtonEl.disabled = true;  // To prevent multiple clicks.\n",
              "      quickchartButtonEl.classList.add('colab-df-spinner');\n",
              "      try {\n",
              "        const charts = await google.colab.kernel.invokeFunction(\n",
              "            'suggestCharts', [key], {});\n",
              "      } catch (error) {\n",
              "        console.error('Error during call to suggestCharts:', error);\n",
              "      }\n",
              "      quickchartButtonEl.classList.remove('colab-df-spinner');\n",
              "      quickchartButtonEl.classList.add('colab-df-quickchart-complete');\n",
              "    }\n",
              "    (() => {\n",
              "      let quickchartButtonEl =\n",
              "        document.querySelector('#df-858cdf66-914c-40c5-bdef-2ea1e7963d66 button');\n",
              "      quickchartButtonEl.style.display =\n",
              "        google.colab.kernel.accessAllowed ? 'block' : 'none';\n",
              "    })();\n",
              "  </script>\n",
              "</div>\n",
              "\n",
              "    </div>\n",
              "  </div>\n"
            ]
          },
          "metadata": {},
          "execution_count": 35
        }
      ],
      "source": [
        "X['Bmi']=703*X['Weight']/(X['Height']*X['Height'])\n",
        "X.head()"
      ]
    },
    {
      "cell_type": "code",
      "execution_count": null,
      "metadata": {
        "colab": {
          "base_uri": "https://localhost:8080/",
          "height": 206
        },
        "id": "4tizcri8eDvY",
        "outputId": "69125157-63aa-4b64-f683-0ce337f2c564"
      },
      "outputs": [
        {
          "output_type": "execute_result",
          "data": {
            "text/plain": [
              "   Age  Neck  Knee  Ankle  Biceps  Forearm  Wrist        Bmi   ACratio  \\\n",
              "0   23  36.2  37.3   21.9    32.0     27.4   17.1  23.624460  0.915145   \n",
              "1   22  38.5  37.3   23.4    30.5     28.9   18.2  23.332048  0.886752   \n",
              "2   22  34.0  38.9   24.0    28.8     25.2   16.6  24.666315  0.917537   \n",
              "3   26  37.4  37.3   22.8    32.4     29.4   18.2  24.880784  0.848723   \n",
              "4   24  34.4  42.2   24.0    32.2     27.7   17.7  25.514854  1.027749   \n",
              "\n",
              "    HTratio  \n",
              "0  1.601695  \n",
              "1  1.681431  \n",
              "2  1.664430  \n",
              "3  1.683860  \n",
              "4  1.612342  "
            ],
            "text/html": [
              "\n",
              "  <div id=\"df-5390d7fb-e5af-4f8d-844a-d791feeef1d2\" class=\"colab-df-container\">\n",
              "    <div>\n",
              "<style scoped>\n",
              "    .dataframe tbody tr th:only-of-type {\n",
              "        vertical-align: middle;\n",
              "    }\n",
              "\n",
              "    .dataframe tbody tr th {\n",
              "        vertical-align: top;\n",
              "    }\n",
              "\n",
              "    .dataframe thead th {\n",
              "        text-align: right;\n",
              "    }\n",
              "</style>\n",
              "<table border=\"1\" class=\"dataframe\">\n",
              "  <thead>\n",
              "    <tr style=\"text-align: right;\">\n",
              "      <th></th>\n",
              "      <th>Age</th>\n",
              "      <th>Neck</th>\n",
              "      <th>Knee</th>\n",
              "      <th>Ankle</th>\n",
              "      <th>Biceps</th>\n",
              "      <th>Forearm</th>\n",
              "      <th>Wrist</th>\n",
              "      <th>Bmi</th>\n",
              "      <th>ACratio</th>\n",
              "      <th>HTratio</th>\n",
              "    </tr>\n",
              "  </thead>\n",
              "  <tbody>\n",
              "    <tr>\n",
              "      <th>0</th>\n",
              "      <td>23</td>\n",
              "      <td>36.2</td>\n",
              "      <td>37.3</td>\n",
              "      <td>21.9</td>\n",
              "      <td>32.0</td>\n",
              "      <td>27.4</td>\n",
              "      <td>17.1</td>\n",
              "      <td>23.624460</td>\n",
              "      <td>0.915145</td>\n",
              "      <td>1.601695</td>\n",
              "    </tr>\n",
              "    <tr>\n",
              "      <th>1</th>\n",
              "      <td>22</td>\n",
              "      <td>38.5</td>\n",
              "      <td>37.3</td>\n",
              "      <td>23.4</td>\n",
              "      <td>30.5</td>\n",
              "      <td>28.9</td>\n",
              "      <td>18.2</td>\n",
              "      <td>23.332048</td>\n",
              "      <td>0.886752</td>\n",
              "      <td>1.681431</td>\n",
              "    </tr>\n",
              "    <tr>\n",
              "      <th>2</th>\n",
              "      <td>22</td>\n",
              "      <td>34.0</td>\n",
              "      <td>38.9</td>\n",
              "      <td>24.0</td>\n",
              "      <td>28.8</td>\n",
              "      <td>25.2</td>\n",
              "      <td>16.6</td>\n",
              "      <td>24.666315</td>\n",
              "      <td>0.917537</td>\n",
              "      <td>1.664430</td>\n",
              "    </tr>\n",
              "    <tr>\n",
              "      <th>3</th>\n",
              "      <td>26</td>\n",
              "      <td>37.4</td>\n",
              "      <td>37.3</td>\n",
              "      <td>22.8</td>\n",
              "      <td>32.4</td>\n",
              "      <td>29.4</td>\n",
              "      <td>18.2</td>\n",
              "      <td>24.880784</td>\n",
              "      <td>0.848723</td>\n",
              "      <td>1.683860</td>\n",
              "    </tr>\n",
              "    <tr>\n",
              "      <th>4</th>\n",
              "      <td>24</td>\n",
              "      <td>34.4</td>\n",
              "      <td>42.2</td>\n",
              "      <td>24.0</td>\n",
              "      <td>32.2</td>\n",
              "      <td>27.7</td>\n",
              "      <td>17.7</td>\n",
              "      <td>25.514854</td>\n",
              "      <td>1.027749</td>\n",
              "      <td>1.612342</td>\n",
              "    </tr>\n",
              "  </tbody>\n",
              "</table>\n",
              "</div>\n",
              "    <div class=\"colab-df-buttons\">\n",
              "\n",
              "  <div class=\"colab-df-container\">\n",
              "    <button class=\"colab-df-convert\" onclick=\"convertToInteractive('df-5390d7fb-e5af-4f8d-844a-d791feeef1d2')\"\n",
              "            title=\"Convert this dataframe to an interactive table.\"\n",
              "            style=\"display:none;\">\n",
              "\n",
              "  <svg xmlns=\"http://www.w3.org/2000/svg\" height=\"24px\" viewBox=\"0 -960 960 960\">\n",
              "    <path d=\"M120-120v-720h720v720H120Zm60-500h600v-160H180v160Zm220 220h160v-160H400v160Zm0 220h160v-160H400v160ZM180-400h160v-160H180v160Zm440 0h160v-160H620v160ZM180-180h160v-160H180v160Zm440 0h160v-160H620v160Z\"/>\n",
              "  </svg>\n",
              "    </button>\n",
              "\n",
              "  <style>\n",
              "    .colab-df-container {\n",
              "      display:flex;\n",
              "      gap: 12px;\n",
              "    }\n",
              "\n",
              "    .colab-df-convert {\n",
              "      background-color: #E8F0FE;\n",
              "      border: none;\n",
              "      border-radius: 50%;\n",
              "      cursor: pointer;\n",
              "      display: none;\n",
              "      fill: #1967D2;\n",
              "      height: 32px;\n",
              "      padding: 0 0 0 0;\n",
              "      width: 32px;\n",
              "    }\n",
              "\n",
              "    .colab-df-convert:hover {\n",
              "      background-color: #E2EBFA;\n",
              "      box-shadow: 0px 1px 2px rgba(60, 64, 67, 0.3), 0px 1px 3px 1px rgba(60, 64, 67, 0.15);\n",
              "      fill: #174EA6;\n",
              "    }\n",
              "\n",
              "    .colab-df-buttons div {\n",
              "      margin-bottom: 4px;\n",
              "    }\n",
              "\n",
              "    [theme=dark] .colab-df-convert {\n",
              "      background-color: #3B4455;\n",
              "      fill: #D2E3FC;\n",
              "    }\n",
              "\n",
              "    [theme=dark] .colab-df-convert:hover {\n",
              "      background-color: #434B5C;\n",
              "      box-shadow: 0px 1px 3px 1px rgba(0, 0, 0, 0.15);\n",
              "      filter: drop-shadow(0px 1px 2px rgba(0, 0, 0, 0.3));\n",
              "      fill: #FFFFFF;\n",
              "    }\n",
              "  </style>\n",
              "\n",
              "    <script>\n",
              "      const buttonEl =\n",
              "        document.querySelector('#df-5390d7fb-e5af-4f8d-844a-d791feeef1d2 button.colab-df-convert');\n",
              "      buttonEl.style.display =\n",
              "        google.colab.kernel.accessAllowed ? 'block' : 'none';\n",
              "\n",
              "      async function convertToInteractive(key) {\n",
              "        const element = document.querySelector('#df-5390d7fb-e5af-4f8d-844a-d791feeef1d2');\n",
              "        const dataTable =\n",
              "          await google.colab.kernel.invokeFunction('convertToInteractive',\n",
              "                                                    [key], {});\n",
              "        if (!dataTable) return;\n",
              "\n",
              "        const docLinkHtml = 'Like what you see? Visit the ' +\n",
              "          '<a target=\"_blank\" href=https://colab.research.google.com/notebooks/data_table.ipynb>data table notebook</a>'\n",
              "          + ' to learn more about interactive tables.';\n",
              "        element.innerHTML = '';\n",
              "        dataTable['output_type'] = 'display_data';\n",
              "        await google.colab.output.renderOutput(dataTable, element);\n",
              "        const docLink = document.createElement('div');\n",
              "        docLink.innerHTML = docLinkHtml;\n",
              "        element.appendChild(docLink);\n",
              "      }\n",
              "    </script>\n",
              "  </div>\n",
              "\n",
              "\n",
              "<div id=\"df-1c6aef9a-3f74-4d34-bd63-13611bdb92d4\">\n",
              "  <button class=\"colab-df-quickchart\" onclick=\"quickchart('df-1c6aef9a-3f74-4d34-bd63-13611bdb92d4')\"\n",
              "            title=\"Suggest charts\"\n",
              "            style=\"display:none;\">\n",
              "\n",
              "<svg xmlns=\"http://www.w3.org/2000/svg\" height=\"24px\"viewBox=\"0 0 24 24\"\n",
              "     width=\"24px\">\n",
              "    <g>\n",
              "        <path d=\"M19 3H5c-1.1 0-2 .9-2 2v14c0 1.1.9 2 2 2h14c1.1 0 2-.9 2-2V5c0-1.1-.9-2-2-2zM9 17H7v-7h2v7zm4 0h-2V7h2v10zm4 0h-2v-4h2v4z\"/>\n",
              "    </g>\n",
              "</svg>\n",
              "  </button>\n",
              "\n",
              "<style>\n",
              "  .colab-df-quickchart {\n",
              "      --bg-color: #E8F0FE;\n",
              "      --fill-color: #1967D2;\n",
              "      --hover-bg-color: #E2EBFA;\n",
              "      --hover-fill-color: #174EA6;\n",
              "      --disabled-fill-color: #AAA;\n",
              "      --disabled-bg-color: #DDD;\n",
              "  }\n",
              "\n",
              "  [theme=dark] .colab-df-quickchart {\n",
              "      --bg-color: #3B4455;\n",
              "      --fill-color: #D2E3FC;\n",
              "      --hover-bg-color: #434B5C;\n",
              "      --hover-fill-color: #FFFFFF;\n",
              "      --disabled-bg-color: #3B4455;\n",
              "      --disabled-fill-color: #666;\n",
              "  }\n",
              "\n",
              "  .colab-df-quickchart {\n",
              "    background-color: var(--bg-color);\n",
              "    border: none;\n",
              "    border-radius: 50%;\n",
              "    cursor: pointer;\n",
              "    display: none;\n",
              "    fill: var(--fill-color);\n",
              "    height: 32px;\n",
              "    padding: 0;\n",
              "    width: 32px;\n",
              "  }\n",
              "\n",
              "  .colab-df-quickchart:hover {\n",
              "    background-color: var(--hover-bg-color);\n",
              "    box-shadow: 0 1px 2px rgba(60, 64, 67, 0.3), 0 1px 3px 1px rgba(60, 64, 67, 0.15);\n",
              "    fill: var(--button-hover-fill-color);\n",
              "  }\n",
              "\n",
              "  .colab-df-quickchart-complete:disabled,\n",
              "  .colab-df-quickchart-complete:disabled:hover {\n",
              "    background-color: var(--disabled-bg-color);\n",
              "    fill: var(--disabled-fill-color);\n",
              "    box-shadow: none;\n",
              "  }\n",
              "\n",
              "  .colab-df-spinner {\n",
              "    border: 2px solid var(--fill-color);\n",
              "    border-color: transparent;\n",
              "    border-bottom-color: var(--fill-color);\n",
              "    animation:\n",
              "      spin 1s steps(1) infinite;\n",
              "  }\n",
              "\n",
              "  @keyframes spin {\n",
              "    0% {\n",
              "      border-color: transparent;\n",
              "      border-bottom-color: var(--fill-color);\n",
              "      border-left-color: var(--fill-color);\n",
              "    }\n",
              "    20% {\n",
              "      border-color: transparent;\n",
              "      border-left-color: var(--fill-color);\n",
              "      border-top-color: var(--fill-color);\n",
              "    }\n",
              "    30% {\n",
              "      border-color: transparent;\n",
              "      border-left-color: var(--fill-color);\n",
              "      border-top-color: var(--fill-color);\n",
              "      border-right-color: var(--fill-color);\n",
              "    }\n",
              "    40% {\n",
              "      border-color: transparent;\n",
              "      border-right-color: var(--fill-color);\n",
              "      border-top-color: var(--fill-color);\n",
              "    }\n",
              "    60% {\n",
              "      border-color: transparent;\n",
              "      border-right-color: var(--fill-color);\n",
              "    }\n",
              "    80% {\n",
              "      border-color: transparent;\n",
              "      border-right-color: var(--fill-color);\n",
              "      border-bottom-color: var(--fill-color);\n",
              "    }\n",
              "    90% {\n",
              "      border-color: transparent;\n",
              "      border-bottom-color: var(--fill-color);\n",
              "    }\n",
              "  }\n",
              "</style>\n",
              "\n",
              "  <script>\n",
              "    async function quickchart(key) {\n",
              "      const quickchartButtonEl =\n",
              "        document.querySelector('#' + key + ' button');\n",
              "      quickchartButtonEl.disabled = true;  // To prevent multiple clicks.\n",
              "      quickchartButtonEl.classList.add('colab-df-spinner');\n",
              "      try {\n",
              "        const charts = await google.colab.kernel.invokeFunction(\n",
              "            'suggestCharts', [key], {});\n",
              "      } catch (error) {\n",
              "        console.error('Error during call to suggestCharts:', error);\n",
              "      }\n",
              "      quickchartButtonEl.classList.remove('colab-df-spinner');\n",
              "      quickchartButtonEl.classList.add('colab-df-quickchart-complete');\n",
              "    }\n",
              "    (() => {\n",
              "      let quickchartButtonEl =\n",
              "        document.querySelector('#df-1c6aef9a-3f74-4d34-bd63-13611bdb92d4 button');\n",
              "      quickchartButtonEl.style.display =\n",
              "        google.colab.kernel.accessAllowed ? 'block' : 'none';\n",
              "    })();\n",
              "  </script>\n",
              "</div>\n",
              "\n",
              "    </div>\n",
              "  </div>\n"
            ]
          },
          "metadata": {},
          "execution_count": 36
        }
      ],
      "source": [
        "X['ACratio'] = X['Abdomen']/X['Chest']\n",
        "X['HTratio'] = X['Hip']/X['Thigh']\n",
        "X.drop(['Weight','Height','Abdomen','Chest','Hip','Thigh'],axis=1,inplace=True)\n",
        "X.head()"
      ]
    },
    {
      "cell_type": "code",
      "execution_count": null,
      "metadata": {
        "colab": {
          "base_uri": "https://localhost:8080/"
        },
        "id": "eJUKzpoHeSax",
        "outputId": "76f3539e-d896-48cd-9df5-7619943d062e"
      },
      "outputs": [
        {
          "output_type": "execute_result",
          "data": {
            "text/plain": [
              "(242, 10)"
            ]
          },
          "metadata": {},
          "execution_count": 37
        }
      ],
      "source": [
        "z = np.abs(stats.zscore(X))\n",
        "\n",
        "#only keep rows in dataframe with all z-scores less than absolute value of 3\n",
        "X_clean = X[(z<3).all(axis=1)]\n",
        "y_clean = y[(z<3).all(axis=1)]\n",
        "#find how many rows are left in the dataframe\n",
        "X_clean.shape"
      ]
    },
    {
      "cell_type": "code",
      "execution_count": null,
      "metadata": {
        "id": "4haAdPoVeXfc"
      },
      "outputs": [],
      "source": [
        "Xs = torch.tensor( X_clean.to_numpy(), dtype=torch.float32)\n",
        "ys = torch.tensor( y_clean.to_numpy(), dtype=torch.float32)"
      ]
    },
    {
      "cell_type": "code",
      "execution_count": null,
      "metadata": {
        "colab": {
          "base_uri": "https://localhost:8080/"
        },
        "id": "efTT8qVCeipZ",
        "outputId": "d4b80af8-7494-414b-ed8c-e466e3e471f3"
      },
      "outputs": [
        {
          "output_type": "execute_result",
          "data": {
            "text/plain": [
              "tensor([23.0000, 36.2000, 37.3000, 21.9000, 32.0000, 27.4000, 17.1000, 23.6245,\n",
              "         0.9151,  1.6017])"
            ]
          },
          "metadata": {},
          "execution_count": 39
        }
      ],
      "source": [
        "Xs[0]"
      ]
    },
    {
      "cell_type": "code",
      "execution_count": null,
      "metadata": {
        "colab": {
          "base_uri": "https://localhost:8080/"
        },
        "id": "6hTs_aikeg_p",
        "outputId": "edfc570f-7c47-482d-85d6-7187a8ca59e4"
      },
      "outputs": [
        {
          "output_type": "execute_result",
          "data": {
            "text/plain": [
              "tensor(1.0708)"
            ]
          },
          "metadata": {},
          "execution_count": 40
        }
      ],
      "source": [
        "ys[0]"
      ]
    },
    {
      "cell_type": "markdown",
      "metadata": {
        "id": "swy1EhJD31r6"
      },
      "source": [
        "##Regression, Faces"
      ]
    },
    {
      "cell_type": "code",
      "execution_count": null,
      "metadata": {
        "id": "3GLpgoy_36B9"
      },
      "outputs": [],
      "source": [
        "Xs = np.load(\"part_features.npy\")\n",
        "ys = np.load(\"part_targets.npy\")\n",
        "#These two files are in the nn-Knn folder."
      ]
    },
    {
      "cell_type": "code",
      "execution_count": null,
      "metadata": {
        "id": "3z6Psjbh4CGD"
      },
      "outputs": [],
      "source": [
        "Xs = torch.tensor(Xs, dtype=torch.float32)\n",
        "ys = torch.tensor(ys, dtype=torch.float32)\n"
      ]
    },
    {
      "cell_type": "code",
      "execution_count": null,
      "metadata": {
        "id": "TXPNaMjp4DpP"
      },
      "outputs": [],
      "source": [
        "from sklearn.model_selection import train_test_split\n",
        "_, Xs, _, ys = train_test_split(Xs, ys, test_size=0.3, random_state=42)"
      ]
    },
    {
      "cell_type": "code",
      "execution_count": null,
      "metadata": {
        "id": "ORxZVyTS4FWG"
      },
      "outputs": [],
      "source": []
    },
    {
      "cell_type": "markdown",
      "metadata": {
        "id": "wo4BdbmCFC0d"
      },
      "source": [
        "##Sanity Check: A standard NN for regression"
      ]
    },
    {
      "cell_type": "code",
      "execution_count": null,
      "metadata": {
        "id": "vM_WhRJqD11s"
      },
      "outputs": [],
      "source": [
        "# prompt: a standard neural network with 3 fully connected layers for regression\n",
        "\n",
        "# import torch\n",
        "# import torch.nn as nn\n",
        "# import torch.nn.functional as F\n",
        "\n",
        "# class RegressionNet(nn.Module):\n",
        "#   def __init__(self, input_size):\n",
        "#     super().__init__()\n",
        "#     self.fc1 = nn.Linear(input_size, 32)\n",
        "#     self.fc2 = nn.Linear(32, 16)\n",
        "#     self.fc3 = nn.Linear(16, 1)\n",
        "\n",
        "#   def forward(self, x):\n",
        "#     x = F.relu(self.fc1(x))\n",
        "#     x = F.relu(self.fc2(x))\n",
        "#     x = self.fc3(x)\n",
        "#     return x\n"
      ]
    },
    {
      "cell_type": "code",
      "source": [
        "# prompt: a standard neural network with 3 fully connected layers for regression\n",
        "\n",
        "import torch\n",
        "import torch.nn as nn\n",
        "import torch.nn.functional as F\n",
        "\n",
        "# class RegressionNet(nn.Module):\n",
        "#   def __init__(self, input_size):\n",
        "#     super().__init__()\n",
        "#     self.fc1 = nn.Linear(input_size, 32)\n",
        "#     self.fc2 = nn.Linear(32, 16)\n",
        "#     self.fc3 = nn.Linear(16, 1)\n",
        "\n",
        "#   def forward(self, x):\n",
        "#     x = F.relu(self.fc1(x))\n",
        "#     x = F.relu(self.fc2(x))\n",
        "#     x = self.fc3(x)\n",
        "#     return x\n",
        "\n",
        "class RegressionNet(nn.Module):\n",
        "    def __init__(self, input_size):\n",
        "        super(RegressionNet, self).__init__()\n",
        "        self.nn = nn.Sequential(\n",
        "            nn.Linear(input_size, 32),\n",
        "            nn.ReLU(),\n",
        "            nn.Linear(32, 64),\n",
        "            nn.ReLU(),\n",
        "            nn.Dropout(0.5),\n",
        "            nn.Linear(64, 128),\n",
        "            nn.ReLU(),\n",
        "            nn.Dropout(0.5),\n",
        "            nn.Linear(128, 1)\n",
        "            )\n",
        "        self.init_weights()\n",
        "\n",
        "    def init_weights(self):\n",
        "        for m in self.modules():\n",
        "            if isinstance(m, nn.Linear):\n",
        "                init.xavier_uniform_(m.weight)\n",
        "                if m.bias is not None:\n",
        "                    m.bias.data.fill_(0)\n",
        "\n",
        "    def forward(self, x):\n",
        "        return self.nn(x).squeeze()"
      ],
      "metadata": {
        "id": "k1g3svUFNrsx"
      },
      "execution_count": null,
      "outputs": []
    },
    {
      "cell_type": "code",
      "execution_count": null,
      "metadata": {
        "id": "Cme3KleQEdQA"
      },
      "outputs": [],
      "source": [
        "training_epochs = 100\n",
        "learning_rate = 0.01\n",
        "criterion = torch.nn.MSELoss()\n",
        "batch_size = 100\n",
        "\n",
        "fa_weight_sharing_within_segment = True\n",
        "fa_weight_sharing_between_segment = True\n",
        "ca_weight_sharing = True\n",
        "top_case_enabled = True\n",
        "top_k = 5\n",
        "class_weight_sharing = True\n",
        "nn_cdh_enabled = False\n",
        "\n",
        "# prompt: Train and test the RegressionNet on Xs and ys\n",
        "\n",
        "k_fold = KFold(n_splits=10, shuffle = True,random_state = None)\n",
        "accuracies = []\n",
        "\n",
        "for train_index, test_index in k_fold.split(Xs):\n",
        "  X_train, X_test = Xs[train_index], Xs[test_index]\n",
        "  y_train, y_test = ys[train_index], ys[test_index]\n",
        "  train_loader = torch.utils.data.DataLoader(torch.utils.data.TensorDataset(X_train, y_train), batch_size=batch_size, shuffle=True)\n",
        "\n",
        "  model = RegressionNet(Xs.shape[1])\n",
        "  optimizer = torch.optim.Adam(model.parameters(), lr=0.001)\n",
        "  for epoch in range(training_epochs):\n",
        "    epoch_msg = True\n",
        "    for X_train_batch, y_train_batch in train_loader:\n",
        "      model.train()\n",
        "      # Forward pass\n",
        "      outputs = model(X_train_batch)\n",
        "      loss = criterion(outputs, y_train_batch)\n",
        "\n",
        "      # Backward and optimize\n",
        "      optimizer.zero_grad()\n",
        "      loss.backward()\n",
        "      optimizer.step()\n",
        "\n",
        "      if epoch_msg and (epoch + 1) % 100 == 0:\n",
        "        epoch_msg = False\n",
        "        print(f'Epoch [{epoch + 1}/{training_epochs}], Loss: {loss.item()}')\n",
        "\n",
        "  # Testing the model\n",
        "  model.eval()\n",
        "  with torch.no_grad():\n",
        "    outputs = model(X_test)\n",
        "    loss = criterion(outputs, y_test)\n",
        "    print(f'Loss on the test set: {loss.item()}')\n",
        "    accuracies.append(loss.item())\n",
        "print(f'Average loss on the test set: {sum(accuracies)/len(accuracies)}')"
      ]
    },
    {
      "cell_type": "markdown",
      "metadata": {
        "id": "zC3uDRqv8T0V"
      },
      "source": [
        "For the vanilla neural network\n",
        "\n",
        "```\n",
        "Average loss on the test set: 1.3484851598739624\n",
        "\n",
        "```"
      ]
    },
    {
      "cell_type": "code",
      "execution_count": null,
      "metadata": {
        "id": "zOGHMEAqaoaq"
      },
      "outputs": [],
      "source": [
        "outputs"
      ]
    },
    {
      "cell_type": "code",
      "execution_count": null,
      "metadata": {
        "id": "u9_2oHTKXHIR"
      },
      "outputs": [],
      "source": [
        "# prompt: print the number of parameters in model\n",
        "\n",
        "print(sum(p.numel() for p in model.parameters()))\n"
      ]
    },
    {
      "cell_type": "markdown",
      "metadata": {
        "id": "1lcYtG21v45O"
      },
      "source": [
        "#Test"
      ]
    },
    {
      "cell_type": "markdown",
      "metadata": {
        "id": "WPlAPD92JC_j"
      },
      "source": [
        "##Classification"
      ]
    },
    {
      "cell_type": "markdown",
      "source": [
        "newly added here."
      ],
      "metadata": {
        "id": "SqrFf1LvSw7z"
      }
    },
    {
      "cell_type": "code",
      "source": [
        "# prompt: center and scale to normalize my Xs and ys\n",
        "\n",
        "# def standardize_tensor(input_tensor):\n",
        "#     mean = input_tensor.mean()\n",
        "#     std = input_tensor.std()\n",
        "#     standardized_tensor = (input_tensor - mean) / std\n",
        "#     return standardized_tensor\n",
        "\n",
        "# Xs = standardize_tensor(Xs)"
      ],
      "metadata": {
        "id": "vlnbKhrYSpNc"
      },
      "execution_count": null,
      "outputs": []
    },
    {
      "cell_type": "code",
      "execution_count": null,
      "metadata": {
        "id": "28HWRvIWsz65"
      },
      "outputs": [],
      "source": [
        "training_epochs = 1000\n",
        "learning_rate = 0.01 #0.01 #0.0001\n",
        "criterion = torch.nn.CrossEntropyLoss()\n",
        "batch_size = 100\n",
        "\n",
        "fa_weight_sharing_within_segment = True\n",
        "fa_weight_sharing_between_segment = True\n",
        "ca_weight_sharing = False\n",
        "top_case_enabled = False\n",
        "hidden_layers = False\n",
        "\n",
        "top_k = 5\n",
        "class_weight_sharing = True\n",
        "\n",
        "patience = 40"
      ]
    },
    {
      "cell_type": "code",
      "execution_count": null,
      "metadata": {
        "colab": {
          "base_uri": "https://localhost:8080/"
        },
        "id": "h8Z8bG1lwYT9",
        "outputId": "f7ed6742-6db1-4f97-8417-c41e095f9f79"
      },
      "outputs": [
        {
          "output_type": "stream",
          "name": "stdout",
          "text": [
            "self.ca_weight.shape torch.Size([99, 2])\n",
            "Epoch [2/1000], Loss: 0.36109018325805664\n",
            "Epoch [4/1000], Loss: 0.3528931736946106\n",
            "Epoch [6/1000], Loss: 0.34503039717674255\n",
            "Epoch [8/1000], Loss: 0.3374462425708771\n",
            "Epoch [10/1000], Loss: 0.3300359845161438\n",
            "Epoch [12/1000], Loss: 0.3226627707481384\n",
            "Epoch [14/1000], Loss: 0.31520581245422363\n",
            "Epoch [16/1000], Loss: 0.3076019883155823\n",
            "Epoch [18/1000], Loss: 0.29984423518180847\n",
            "Epoch [20/1000], Loss: 0.2919541895389557\n",
            "Epoch [22/1000], Loss: 0.28395727276802063\n",
            "Epoch [24/1000], Loss: 0.2758707106113434\n",
            "Epoch [26/1000], Loss: 0.26770269870758057\n",
            "Epoch [28/1000], Loss: 0.2594590187072754\n",
            "Epoch [30/1000], Loss: 0.25115248560905457\n",
            "Epoch [32/1000], Loss: 0.24280905723571777\n",
            "Epoch [34/1000], Loss: 0.23446539044380188\n",
            "Epoch [36/1000], Loss: 0.22615747153759003\n",
            "Epoch [38/1000], Loss: 0.21790695190429688\n",
            "Epoch [40/1000], Loss: 0.20971634984016418\n",
            "Epoch [42/1000], Loss: 0.20157894492149353\n",
            "self.ca_weight.shape torch.Size([99, 2])\n",
            "patience exceeded, loading best model\n",
            "self.ca_weight.shape torch.Size([99, 2])\n",
            "Epoch [2/1000], Loss: 0.3641025125980377\n",
            "Epoch [4/1000], Loss: 0.3565458059310913\n",
            "Epoch [6/1000], Loss: 0.3492441177368164\n",
            "Epoch [8/1000], Loss: 0.3420189321041107\n",
            "Epoch [10/1000], Loss: 0.33470404148101807\n",
            "Epoch [12/1000], Loss: 0.32727980613708496\n",
            "Epoch [14/1000], Loss: 0.3197961151599884\n",
            "Epoch [16/1000], Loss: 0.3122842311859131\n",
            "Epoch [18/1000], Loss: 0.3047322630882263\n",
            "Epoch [20/1000], Loss: 0.29710033535957336\n",
            "Epoch [22/1000], Loss: 0.2893563508987427\n",
            "Epoch [24/1000], Loss: 0.28149574995040894\n",
            "Epoch [26/1000], Loss: 0.27353593707084656\n",
            "Epoch [28/1000], Loss: 0.2655012309551239\n",
            "Epoch [30/1000], Loss: 0.25741466879844666\n",
            "Epoch [32/1000], Loss: 0.24929693341255188\n",
            "Epoch [34/1000], Loss: 0.241163969039917\n",
            "Epoch [36/1000], Loss: 0.23301945626735687\n",
            "Epoch [38/1000], Loss: 0.2248464822769165\n",
            "Epoch [40/1000], Loss: 0.21661239862442017\n",
            "Epoch [42/1000], Loss: 0.20829205214977264\n",
            "self.ca_weight.shape torch.Size([99, 2])\n",
            "patience exceeded, loading best model\n",
            "self.ca_weight.shape torch.Size([99, 2])\n",
            "Epoch [2/1000], Loss: 0.35819312930107117\n",
            "Epoch [4/1000], Loss: 0.3504140079021454\n",
            "Epoch [6/1000], Loss: 0.3429338335990906\n",
            "Epoch [8/1000], Loss: 0.3356233537197113\n",
            "Epoch [10/1000], Loss: 0.3283003866672516\n",
            "Epoch [12/1000], Loss: 0.32085832953453064\n",
            "Epoch [14/1000], Loss: 0.31329914927482605\n",
            "Epoch [16/1000], Loss: 0.30566343665122986\n",
            "Epoch [18/1000], Loss: 0.2979775667190552\n",
            "Epoch [20/1000], Loss: 0.2902383804321289\n",
            "Epoch [22/1000], Loss: 0.2824212312698364\n",
            "Epoch [24/1000], Loss: 0.2745018005371094\n",
            "Epoch [26/1000], Loss: 0.2664757966995239\n",
            "Epoch [28/1000], Loss: 0.2583635449409485\n",
            "Epoch [30/1000], Loss: 0.2502003014087677\n",
            "Epoch [32/1000], Loss: 0.24202221632003784\n",
            "Epoch [34/1000], Loss: 0.23385480046272278\n",
            "Epoch [36/1000], Loss: 0.22570742666721344\n",
            "Epoch [38/1000], Loss: 0.21757657825946808\n",
            "Epoch [40/1000], Loss: 0.20946159958839417\n",
            "Epoch [42/1000], Loss: 0.20138919353485107\n",
            "Epoch [44/1000], Loss: 0.19343025982379913\n",
            "Epoch [46/1000], Loss: 0.18568386137485504\n",
            "Epoch [48/1000], Loss: 0.17822733521461487\n",
            "Epoch [50/1000], Loss: 0.1710672229528427\n",
            "Epoch [52/1000], Loss: 0.1641196310520172\n",
            "Epoch [54/1000], Loss: 0.15721046924591064\n",
            "Epoch [56/1000], Loss: 0.15008644759655\n",
            "Epoch [58/1000], Loss: 0.14244909584522247\n",
            "Epoch [60/1000], Loss: 0.13400942087173462\n",
            "Epoch [62/1000], Loss: 0.12444531172513962\n",
            "Epoch [64/1000], Loss: 0.1131749078631401\n",
            "Epoch [66/1000], Loss: 0.09895980358123779\n",
            "Epoch [68/1000], Loss: 0.08013749122619629\n",
            "Epoch [70/1000], Loss: 0.05779246985912323\n",
            "Epoch [72/1000], Loss: 0.0338616706430912\n",
            "Epoch [74/1000], Loss: 0.01350646186619997\n",
            "Epoch [76/1000], Loss: 0.002122882753610611\n",
            "Epoch [78/1000], Loss: 3.726291470229626e-05\n",
            "Epoch [80/1000], Loss: 5.511277322511887e-06\n",
            "Epoch [82/1000], Loss: 1.660669113334734e-05\n",
            "Epoch [84/1000], Loss: 0.0002144726604456082\n",
            "Epoch [86/1000], Loss: 0.0008307709940709174\n",
            "Epoch [88/1000], Loss: 0.0016213476192206144\n",
            "Epoch [90/1000], Loss: 0.0021706202533096075\n",
            "Epoch [92/1000], Loss: 0.0022838886361569166\n",
            "Epoch [94/1000], Loss: 0.002017444698140025\n",
            "Epoch [96/1000], Loss: 0.0015555218560621142\n",
            "Epoch [98/1000], Loss: 0.001081683672964573\n",
            "Epoch [100/1000], Loss: 0.0006978853489272296\n",
            "Epoch [102/1000], Loss: 0.0004281838773749769\n",
            "Epoch [104/1000], Loss: 0.0002556240069679916\n",
            "Epoch [106/1000], Loss: 0.0001509092398919165\n",
            "Epoch [108/1000], Loss: 8.947180322138593e-05\n",
            "self.ca_weight.shape torch.Size([99, 2])\n",
            "patience exceeded, loading best model\n",
            "self.ca_weight.shape torch.Size([99, 2])\n",
            "Epoch [2/1000], Loss: 0.3636360466480255\n",
            "Epoch [4/1000], Loss: 0.35568881034851074\n",
            "Epoch [6/1000], Loss: 0.34808090329170227\n",
            "Epoch [8/1000], Loss: 0.34074661135673523\n",
            "Epoch [10/1000], Loss: 0.3335648477077484\n",
            "Epoch [12/1000], Loss: 0.3263891637325287\n",
            "Epoch [14/1000], Loss: 0.3191118836402893\n",
            "Epoch [16/1000], Loss: 0.31169360876083374\n",
            "Epoch [18/1000], Loss: 0.304139643907547\n",
            "Epoch [20/1000], Loss: 0.29646581411361694\n",
            "Epoch [22/1000], Loss: 0.28867945075035095\n",
            "Epoch [24/1000], Loss: 0.2807755470275879\n",
            "Epoch [26/1000], Loss: 0.27274543046951294\n",
            "Epoch [28/1000], Loss: 0.264589786529541\n",
            "Epoch [30/1000], Loss: 0.25632932782173157\n",
            "Epoch [32/1000], Loss: 0.24800541996955872\n",
            "Epoch [34/1000], Loss: 0.2396673560142517\n",
            "Epoch [36/1000], Loss: 0.23135560750961304\n",
            "Epoch [38/1000], Loss: 0.2230890989303589\n",
            "Epoch [40/1000], Loss: 0.2148684710264206\n",
            "Epoch [42/1000], Loss: 0.20669463276863098\n",
            "self.ca_weight.shape torch.Size([99, 2])\n",
            "patience exceeded, loading best model\n",
            "self.ca_weight.shape torch.Size([99, 2])\n",
            "Epoch [2/1000], Loss: 0.36607885360717773\n",
            "Epoch [4/1000], Loss: 0.35872623324394226\n",
            "Epoch [6/1000], Loss: 0.35165655612945557\n",
            "Epoch [8/1000], Loss: 0.3447486162185669\n",
            "Epoch [10/1000], Loss: 0.3378179967403412\n",
            "Epoch [12/1000], Loss: 0.3307305574417114\n",
            "Epoch [14/1000], Loss: 0.32345712184906006\n",
            "Epoch [16/1000], Loss: 0.31601855158805847\n",
            "Epoch [18/1000], Loss: 0.308431476354599\n",
            "Epoch [20/1000], Loss: 0.3006899356842041\n",
            "Epoch [22/1000], Loss: 0.2927693724632263\n",
            "Epoch [24/1000], Loss: 0.28464579582214355\n",
            "Epoch [26/1000], Loss: 0.27631616592407227\n",
            "Epoch [28/1000], Loss: 0.2678084075450897\n",
            "Epoch [30/1000], Loss: 0.25917714834213257\n",
            "Epoch [32/1000], Loss: 0.25049033761024475\n",
            "Epoch [34/1000], Loss: 0.24181301891803741\n",
            "Epoch [36/1000], Loss: 0.23319388926029205\n",
            "Epoch [38/1000], Loss: 0.2246590405702591\n",
            "Epoch [40/1000], Loss: 0.21621915698051453\n",
            "Epoch [42/1000], Loss: 0.20788788795471191\n",
            "self.ca_weight.shape torch.Size([99, 2])\n",
            "patience exceeded, loading best model\n",
            "self.ca_weight.shape torch.Size([99, 2])\n",
            "Epoch [2/1000], Loss: 0.3606548607349396\n",
            "Epoch [4/1000], Loss: 0.35244277119636536\n",
            "Epoch [6/1000], Loss: 0.34455886483192444\n",
            "Epoch [8/1000], Loss: 0.3369448184967041\n",
            "Epoch [10/1000], Loss: 0.3294927179813385\n",
            "Epoch [12/1000], Loss: 0.32206064462661743\n",
            "Epoch [14/1000], Loss: 0.31452035903930664\n",
            "Epoch [16/1000], Loss: 0.30680033564567566\n",
            "Epoch [18/1000], Loss: 0.29888707399368286\n",
            "Epoch [20/1000], Loss: 0.2907995283603668\n",
            "Epoch [22/1000], Loss: 0.2825656533241272\n",
            "Epoch [24/1000], Loss: 0.27421313524246216\n",
            "Epoch [26/1000], Loss: 0.2657691538333893\n",
            "Epoch [28/1000], Loss: 0.2572662830352783\n",
            "Epoch [30/1000], Loss: 0.24874797463417053\n",
            "Epoch [32/1000], Loss: 0.24026983976364136\n",
            "Epoch [34/1000], Loss: 0.2318936288356781\n",
            "Epoch [36/1000], Loss: 0.22367532551288605\n",
            "Epoch [38/1000], Loss: 0.21565338969230652\n",
            "Epoch [40/1000], Loss: 0.20784208178520203\n",
            "Epoch [42/1000], Loss: 0.2002335786819458\n",
            "Epoch [44/1000], Loss: 0.19280298054218292\n",
            "Epoch [46/1000], Loss: 0.18550877273082733\n",
            "Epoch [48/1000], Loss: 0.17827960848808289\n",
            "Epoch [50/1000], Loss: 0.1709926426410675\n",
            "Epoch [52/1000], Loss: 0.1634722501039505\n",
            "Epoch [54/1000], Loss: 0.15553805232048035\n",
            "Epoch [56/1000], Loss: 0.14708353579044342\n",
            "Epoch [58/1000], Loss: 0.13809062540531158\n",
            "Epoch [60/1000], Loss: 0.1285017430782318\n",
            "Epoch [62/1000], Loss: 0.11800654977560043\n",
            "Epoch [64/1000], Loss: 0.10596536099910736\n",
            "Epoch [66/1000], Loss: 0.09125396609306335\n",
            "Epoch [68/1000], Loss: 0.07249294966459274\n",
            "Epoch [70/1000], Loss: 0.050950028002262115\n",
            "Epoch [72/1000], Loss: 0.030224455520510674\n",
            "Epoch [74/1000], Loss: 0.012652182020246983\n",
            "Epoch [76/1000], Loss: 0.002289013471454382\n",
            "Epoch [78/1000], Loss: 8.449092274531722e-05\n",
            "Epoch [80/1000], Loss: 7.83877658250276e-06\n",
            "Epoch [82/1000], Loss: 2.1103309336467646e-05\n",
            "Epoch [84/1000], Loss: 0.0002423291007289663\n",
            "Epoch [86/1000], Loss: 0.0007017046445980668\n",
            "Epoch [88/1000], Loss: 0.0012865657918155193\n",
            "Epoch [90/1000], Loss: 0.001701667788438499\n",
            "Epoch [92/1000], Loss: 0.0018501757876947522\n",
            "Epoch [94/1000], Loss: 0.0017812338192015886\n",
            "Epoch [96/1000], Loss: 0.0015987035585567355\n",
            "Epoch [98/1000], Loss: 0.001370740938000381\n",
            "Epoch [100/1000], Loss: 0.0011212335666641593\n",
            "Epoch [102/1000], Loss: 0.0008849637233652174\n",
            "Epoch [104/1000], Loss: 0.0006803666474297643\n",
            "Epoch [106/1000], Loss: 0.0005169027135707438\n",
            "Epoch [108/1000], Loss: 0.0003940752358175814\n",
            "Epoch [110/1000], Loss: 0.0003024613542947918\n",
            "Epoch [112/1000], Loss: 0.00023065702407620847\n",
            "self.ca_weight.shape torch.Size([99, 2])\n",
            "patience exceeded, loading best model\n",
            "self.ca_weight.shape torch.Size([99, 2])\n",
            "Epoch [2/1000], Loss: 0.35797128081321716\n",
            "Epoch [4/1000], Loss: 0.35003530979156494\n",
            "Epoch [6/1000], Loss: 0.34244871139526367\n",
            "Epoch [8/1000], Loss: 0.3351465165615082\n",
            "Epoch [10/1000], Loss: 0.32800722122192383\n",
            "Epoch [12/1000], Loss: 0.3208887577056885\n",
            "Epoch [14/1000], Loss: 0.3136955499649048\n",
            "Epoch [16/1000], Loss: 0.3064056634902954\n",
            "Epoch [18/1000], Loss: 0.2990432679653168\n",
            "Epoch [20/1000], Loss: 0.29164260625839233\n",
            "Epoch [22/1000], Loss: 0.284229040145874\n",
            "Epoch [24/1000], Loss: 0.27681487798690796\n",
            "Epoch [26/1000], Loss: 0.26940494775772095\n",
            "Epoch [28/1000], Loss: 0.26200419664382935\n",
            "Epoch [30/1000], Loss: 0.2546245753765106\n",
            "Epoch [32/1000], Loss: 0.247284397482872\n",
            "Epoch [34/1000], Loss: 0.239999920129776\n",
            "Epoch [36/1000], Loss: 0.23277419805526733\n",
            "Epoch [38/1000], Loss: 0.22558701038360596\n",
            "Epoch [40/1000], Loss: 0.2183942347764969\n",
            "Epoch [42/1000], Loss: 0.21113993227481842\n",
            "Epoch [44/1000], Loss: 0.203778937458992\n",
            "Epoch [46/1000], Loss: 0.19629321992397308\n",
            "Epoch [48/1000], Loss: 0.18868012726306915\n",
            "Epoch [50/1000], Loss: 0.18091927468776703\n",
            "Epoch [52/1000], Loss: 0.17295797169208527\n",
            "Epoch [54/1000], Loss: 0.1647360473871231\n",
            "Epoch [56/1000], Loss: 0.15619157254695892\n",
            "Epoch [58/1000], Loss: 0.14716771245002747\n",
            "Epoch [60/1000], Loss: 0.13722069561481476\n",
            "Epoch [62/1000], Loss: 0.12552891671657562\n",
            "Epoch [64/1000], Loss: 0.11132556200027466\n",
            "Epoch [66/1000], Loss: 0.09422176331281662\n",
            "Epoch [68/1000], Loss: 0.07385212928056717\n",
            "Epoch [70/1000], Loss: 0.048747096210718155\n",
            "Epoch [72/1000], Loss: 0.022486820816993713\n",
            "Epoch [74/1000], Loss: 0.005660757422447205\n",
            "Epoch [76/1000], Loss: 0.00016532608424313366\n",
            "Epoch [78/1000], Loss: 8.068751412793063e-06\n",
            "Epoch [80/1000], Loss: 1.4321574781206436e-05\n",
            "Epoch [82/1000], Loss: 0.0001733152021188289\n",
            "Epoch [84/1000], Loss: 0.0011051971232518554\n",
            "Epoch [86/1000], Loss: 0.0022728280164301395\n",
            "Epoch [88/1000], Loss: 0.002925123553723097\n",
            "Epoch [90/1000], Loss: 0.0029356388840824366\n",
            "Epoch [92/1000], Loss: 0.0024377156514674425\n",
            "Epoch [94/1000], Loss: 0.0016994966426864266\n",
            "Epoch [96/1000], Loss: 0.0009894042741507292\n",
            "Epoch [98/1000], Loss: 0.0004971025045961142\n",
            "Epoch [100/1000], Loss: 0.00025578448548913\n",
            "self.ca_weight.shape torch.Size([99, 2])\n",
            "patience exceeded, loading best model\n",
            "self.ca_weight.shape torch.Size([99, 2])\n",
            "Epoch [2/1000], Loss: 0.35741308331489563\n",
            "Epoch [4/1000], Loss: 0.3491488993167877\n",
            "Epoch [6/1000], Loss: 0.34121984243392944\n",
            "Epoch [8/1000], Loss: 0.33358266949653625\n",
            "Epoch [10/1000], Loss: 0.32615920901298523\n",
            "Epoch [12/1000], Loss: 0.3188382685184479\n",
            "Epoch [14/1000], Loss: 0.31149572134017944\n",
            "Epoch [16/1000], Loss: 0.3040277063846588\n",
            "Epoch [18/1000], Loss: 0.29637518525123596\n",
            "Epoch [20/1000], Loss: 0.2885238230228424\n",
            "Epoch [22/1000], Loss: 0.2804921269416809\n",
            "Epoch [24/1000], Loss: 0.2723177969455719\n",
            "Epoch [26/1000], Loss: 0.2640511393547058\n",
            "Epoch [28/1000], Loss: 0.25574997067451477\n",
            "Epoch [30/1000], Loss: 0.2474748194217682\n",
            "Epoch [32/1000], Loss: 0.23927773535251617\n",
            "Epoch [34/1000], Loss: 0.23118852078914642\n",
            "Epoch [36/1000], Loss: 0.22320371866226196\n",
            "Epoch [38/1000], Loss: 0.21528907120227814\n",
            "Epoch [40/1000], Loss: 0.20740003883838654\n",
            "Epoch [42/1000], Loss: 0.19951550662517548\n",
            "Epoch [44/1000], Loss: 0.19166328012943268\n",
            "Epoch [46/1000], Loss: 0.18391065299510956\n",
            "Epoch [48/1000], Loss: 0.17631466686725616\n",
            "Epoch [50/1000], Loss: 0.16886888444423676\n",
            "Epoch [52/1000], Loss: 0.16150064766407013\n",
            "Epoch [54/1000], Loss: 0.15411075949668884\n",
            "Epoch [56/1000], Loss: 0.14657483994960785\n",
            "Epoch [58/1000], Loss: 0.13865850865840912\n",
            "Epoch [60/1000], Loss: 0.12991173565387726\n",
            "Epoch [62/1000], Loss: 0.11965944617986679\n",
            "Epoch [64/1000], Loss: 0.1072600781917572\n",
            "Epoch [66/1000], Loss: 0.09210790693759918\n",
            "Epoch [68/1000], Loss: 0.07318995893001556\n",
            "Epoch [70/1000], Loss: 0.050575073808431625\n",
            "Epoch [72/1000], Loss: 0.026864390820264816\n",
            "Epoch [74/1000], Loss: 0.010621557012200356\n",
            "Epoch [76/1000], Loss: 0.001317931804805994\n",
            "Epoch [78/1000], Loss: 1.551828427182045e-05\n",
            "Epoch [80/1000], Loss: 7.192210432549473e-06\n",
            "Epoch [82/1000], Loss: 6.366232264554128e-05\n",
            "Epoch [84/1000], Loss: 0.0005401945090852678\n",
            "Epoch [86/1000], Loss: 0.0014800905482843518\n",
            "Epoch [88/1000], Loss: 0.0023271075915545225\n",
            "Epoch [90/1000], Loss: 0.0026499934028834105\n",
            "Epoch [92/1000], Loss: 0.0024306755512952805\n",
            "Epoch [94/1000], Loss: 0.001879637478850782\n",
            "Epoch [96/1000], Loss: 0.0012637798208743334\n",
            "Epoch [98/1000], Loss: 0.0007657447713427246\n",
            "Epoch [100/1000], Loss: 0.0004398021555971354\n",
            "Epoch [102/1000], Loss: 0.00024967436911538243\n",
            "Epoch [104/1000], Loss: 0.00014251658285502344\n",
            "Epoch [106/1000], Loss: 8.236476423917338e-05\n",
            "Epoch [108/1000], Loss: 4.860035187448375e-05\n",
            "Epoch [110/1000], Loss: 2.9904444090789184e-05\n",
            "self.ca_weight.shape torch.Size([99, 2])\n",
            "patience exceeded, loading best model\n",
            "self.ca_weight.shape torch.Size([99, 2])\n",
            "Epoch [2/1000], Loss: 0.35965317487716675\n",
            "Epoch [4/1000], Loss: 0.3510732650756836\n",
            "Epoch [6/1000], Loss: 0.3428741991519928\n",
            "Epoch [8/1000], Loss: 0.3350323438644409\n",
            "Epoch [10/1000], Loss: 0.327499657869339\n",
            "Epoch [12/1000], Loss: 0.320202112197876\n",
            "Epoch [14/1000], Loss: 0.31304389238357544\n",
            "Epoch [16/1000], Loss: 0.30592212080955505\n",
            "Epoch [18/1000], Loss: 0.2987464666366577\n",
            "Epoch [20/1000], Loss: 0.29145482182502747\n",
            "Epoch [22/1000], Loss: 0.2840177118778229\n",
            "Epoch [24/1000], Loss: 0.27643314003944397\n",
            "Epoch [26/1000], Loss: 0.26872169971466064\n",
            "Epoch [28/1000], Loss: 0.2609196603298187\n",
            "Epoch [30/1000], Loss: 0.2530747950077057\n",
            "Epoch [32/1000], Loss: 0.24523897469043732\n",
            "Epoch [34/1000], Loss: 0.2374550849199295\n",
            "Epoch [36/1000], Loss: 0.22974401712417603\n",
            "Epoch [38/1000], Loss: 0.22209882736206055\n",
            "Epoch [40/1000], Loss: 0.21449624001979828\n",
            "Epoch [42/1000], Loss: 0.206924706697464\n",
            "Epoch [44/1000], Loss: 0.19941163063049316\n",
            "Epoch [46/1000], Loss: 0.19201914966106415\n",
            "Epoch [48/1000], Loss: 0.18479393422603607\n",
            "Epoch [50/1000], Loss: 0.17769894003868103\n",
            "Epoch [52/1000], Loss: 0.17058366537094116\n",
            "Epoch [54/1000], Loss: 0.16321036219596863\n",
            "Epoch [56/1000], Loss: 0.15529055893421173\n",
            "Epoch [58/1000], Loss: 0.146501824259758\n",
            "Epoch [60/1000], Loss: 0.13650575280189514\n",
            "Epoch [62/1000], Loss: 0.1249224841594696\n",
            "Epoch [64/1000], Loss: 0.11120188981294632\n",
            "Epoch [66/1000], Loss: 0.09439095854759216\n",
            "Epoch [68/1000], Loss: 0.07370521873235703\n",
            "Epoch [70/1000], Loss: 0.04990164935588837\n",
            "Epoch [72/1000], Loss: 0.023621344938874245\n",
            "Epoch [74/1000], Loss: 0.005494673270732164\n",
            "Epoch [76/1000], Loss: 0.00030761255766265094\n",
            "Epoch [78/1000], Loss: 6.204861620062729e-06\n",
            "Epoch [80/1000], Loss: 8.521572453901172e-06\n",
            "Epoch [82/1000], Loss: 0.0001409976975992322\n",
            "Epoch [84/1000], Loss: 0.0007148082368075848\n",
            "Epoch [86/1000], Loss: 0.001492549548856914\n",
            "Epoch [88/1000], Loss: 0.002139554126188159\n",
            "Epoch [90/1000], Loss: 0.0024432376958429813\n",
            "Epoch [92/1000], Loss: 0.0023627937771379948\n",
            "Epoch [94/1000], Loss: 0.001999923260882497\n",
            "Epoch [96/1000], Loss: 0.0015396439703181386\n",
            "Epoch [98/1000], Loss: 0.0011248384835198522\n",
            "Epoch [100/1000], Loss: 0.0007948107086122036\n",
            "Epoch [102/1000], Loss: 0.0005441289395093918\n",
            "Epoch [104/1000], Loss: 0.00036142938188277185\n",
            "Epoch [106/1000], Loss: 0.00023538607638329268\n",
            "Epoch [108/1000], Loss: 0.00015167065430432558\n",
            "self.ca_weight.shape torch.Size([99, 2])\n",
            "patience exceeded, loading best model\n",
            "self.ca_weight.shape torch.Size([99, 2])\n",
            "Epoch [2/1000], Loss: 0.3624204099178314\n",
            "Epoch [4/1000], Loss: 0.3541916310787201\n",
            "Epoch [6/1000], Loss: 0.34628376364707947\n",
            "Epoch [8/1000], Loss: 0.33863767981529236\n",
            "Epoch [10/1000], Loss: 0.3311430811882019\n",
            "Epoch [12/1000], Loss: 0.32366302609443665\n",
            "Epoch [14/1000], Loss: 0.3160915672779083\n",
            "Epoch [16/1000], Loss: 0.30838891863822937\n",
            "Epoch [18/1000], Loss: 0.30056601762771606\n",
            "Epoch [20/1000], Loss: 0.29265183210372925\n",
            "Epoch [22/1000], Loss: 0.28466907143592834\n",
            "Epoch [24/1000], Loss: 0.27662500739097595\n",
            "Epoch [26/1000], Loss: 0.26851290464401245\n",
            "Epoch [28/1000], Loss: 0.26032117009162903\n",
            "Epoch [30/1000], Loss: 0.2520436644554138\n",
            "Epoch [32/1000], Loss: 0.24368619918823242\n",
            "Epoch [34/1000], Loss: 0.23526468873023987\n",
            "Epoch [36/1000], Loss: 0.22679591178894043\n",
            "Epoch [38/1000], Loss: 0.2182883620262146\n",
            "Epoch [40/1000], Loss: 0.20974187552928925\n",
            "Epoch [42/1000], Loss: 0.2011609524488449\n",
            "self.ca_weight.shape torch.Size([99, 2])\n",
            "patience exceeded, loading best model\n",
            "Average accuracy: 0.8727272727272727\n"
          ]
        }
      ],
      "source": [
        "# prompt: train and test my model on the Xs and ys in a 10 fold cross validation\n",
        "from sklearn.neighbors import KNeighborsClassifier\n",
        "# from metric_learn import LMNN,NCA\n",
        "\n",
        "from sklearn.metrics import accuracy_score\n",
        "# Split data into 10 folds\n",
        "k_fold = KFold(n_splits=10, shuffle = True,random_state = None)\n",
        "# Scale data, not enabled right now.\n",
        "# scaler = StandardScaler()\n",
        "# scaler.fit(Xs)\n",
        "# Xs = scaler.transform(Xs)\n",
        "\n",
        "# Train and test model on each fold\n",
        "best_model = None\n",
        "PATH = 'best_classifier_model.h5'\n",
        "best_accuracy = None\n",
        "best_accuracies = []\n",
        "accuracies = []\n",
        "knn_accuracies = []\n",
        "\n",
        "nca_accuracies = []\n",
        "klmnn_accuracies = []\n",
        "\n",
        "count = 0\n",
        "\n",
        "for train_index, test_index in k_fold.split(Xs):\n",
        "  # Get training and testing data\n",
        "  X_train, X_test = Xs[train_index], Xs[test_index]\n",
        "  y_train, y_test = ys[train_index], ys[test_index]\n",
        "\n",
        "  # https://contrib.scikit-learn.org/metric-learn/supervised.html#lmnn\n",
        "  # lmnn = LMNN(n_neighbors=5, learn_rate=1e-6)\n",
        "  # ##TODO, change here if you need to use a different one\n",
        "  # # lmnn = metric_learn.MLKR()\n",
        "  # # lmnn = metric_learn.NCA(max_iter=1000)\n",
        "  # lmnn.fit(X_train,y_train)\n",
        "  # knn = KNeighborsClassifier(n_neighbors=5,metric=lmnn.get_metric())\n",
        "  # knn.fit(X_train,y_train)\n",
        "  # klmnn_accuracies.append( accuracy_score(knn.predict(X_test), y_test))\n",
        "\n",
        "  # continue\n",
        "\n",
        "  train_loader = torch.utils.data.DataLoader(torch.utils.data.TensorDataset(X_train, y_train), batch_size=batch_size, shuffle=True)\n",
        "\n",
        "  # Train model\n",
        "  model = NN_k_NN(X_train, y_train,\n",
        "               fa_weight_sharing_within_segment,\n",
        "               fa_weight_sharing_between_segment,\n",
        "               ca_weight_sharing,\n",
        "               top_case_enabled, top_k,\n",
        "               class_weight_sharing,hidden_layers)\n",
        "  # optimizer = torch.optim.SGD(model.parameters(), lr=learning_rate)\n",
        "  optimizer = torch.optim.Adam(model.parameters(), lr=learning_rate) #, weight_decay=1e-5)\n",
        "  # print_model_features(model)\n",
        "  #Training loop\n",
        "  # temp = []\n",
        "  patience_counter = 0\n",
        "  for epoch in range(training_epochs):\n",
        "    epoch_msg = True\n",
        "    # model.eval()\n",
        "    # break\n",
        "    for X_train_batch, y_train_batch in train_loader:\n",
        "      model.train()\n",
        "      case_activations, output, predicted_class = model(X_train_batch)\n",
        "      loss = criterion(output, y_train_batch)\n",
        "      # Backward and optimize\n",
        "      optimizer.zero_grad()\n",
        "      loss.backward()\n",
        "      optimizer.step()\n",
        "      if epoch_msg and (epoch + 1) % 2 == 0:\n",
        "        print(f'Epoch [{epoch + 1}/{training_epochs}], Loss: {loss.item()}')\n",
        "        #inspecting the case activations\n",
        "        # top_case_indices = torch.topk(case_activations, 5, dim=1)[1]\n",
        "        # print(top_case_indices)\n",
        "        epoch_msg = False\n",
        "      # print(\"evaluating\")\n",
        "    model.eval()\n",
        "    with torch.no_grad():\n",
        "      case_activations, output, predicted_class = model(X_test)\n",
        "      # inspecting the case activations\n",
        "      # top_case_indices = torch.topk(case_activations, 5, dim=1)[1]\n",
        "      # print(top_case_indices)\n",
        "\n",
        "      # Calculate accuracy\n",
        "      accuracy_temp = accuracy_score(y_test, predicted_class)\n",
        "    if epoch == 0:\n",
        "      best_accuracy = accuracy_temp\n",
        "      torch.save(model.state_dict(), PATH)\n",
        "    elif accuracy_temp > best_accuracy:\n",
        "      #memorize best model\n",
        "      torch.save(model.state_dict(), PATH)\n",
        "      best_accuracy = accuracy_temp\n",
        "      patience_counter = 0\n",
        "    elif patience_counter > patience:\n",
        "      model = NN_k_NN(X_train, y_train,\n",
        "               fa_weight_sharing_within_segment,\n",
        "               fa_weight_sharing_between_segment,\n",
        "               ca_weight_sharing,\n",
        "               top_case_enabled, top_k,\n",
        "               class_weight_sharing)\n",
        "      model.load_state_dict(torch.load(PATH))\n",
        "      model.eval()\n",
        "      print(\"patience exceeded, loading best model\")\n",
        "      break\n",
        "    else:\n",
        "      patience_counter += 1\n",
        "\n",
        "  best_accuracies.append(best_accuracy)\n",
        "  # print_model_features(model)\n",
        "  # Test model\n",
        "  with torch.no_grad():\n",
        "    case_activations, output, predicted_class = model(X_test)\n",
        "\n",
        "    #inspecting the case activations\n",
        "    top_case_indices = torch.topk(case_activations, 5, dim=1)[1]\n",
        "    # print(top_case_indices)\n",
        "\n",
        "    # Calculate accuracy\n",
        "    accuracy = accuracy_score(y_test, predicted_class)\n",
        "    # Add accuracy to list\n",
        "    accuracies.append(accuracy)\n",
        "\n",
        "  ##compare with a normal k-nn\n",
        "  knn =  KNeighborsClassifier(n_neighbors=top_k)\n",
        "  knn.fit(X_train, y_train)\n",
        "  knn_accuracies.append( accuracy_score(knn.predict(X_test), y_test))\n",
        "\n",
        "  # count += 1\n",
        "  # if count == 2:\n",
        "  #   break\n",
        "\n",
        "# Print average accuracy\n",
        "print(\"Average accuracy:\", np.mean(accuracies))\n"
      ]
    },
    {
      "cell_type": "code",
      "source": [
        "print(np.mean(klmnn_accuracies))\n",
        "print(np.mean(knn_accuracies))"
      ],
      "metadata": {
        "id": "hp0VlYenhs7w",
        "colab": {
          "base_uri": "https://localhost:8080/"
        },
        "outputId": "20f953d8-07fc-4636-ec4f-c906f190971d"
      },
      "execution_count": null,
      "outputs": [
        {
          "output_type": "stream",
          "name": "stdout",
          "text": [
            "nan\n",
            "0.3181818181818182\n"
          ]
        },
        {
          "output_type": "stream",
          "name": "stderr",
          "text": [
            "/usr/local/lib/python3.10/dist-packages/numpy/core/fromnumeric.py:3504: RuntimeWarning: Mean of empty slice.\n",
            "  return _methods._mean(a, axis=axis, dtype=dtype,\n",
            "/usr/local/lib/python3.10/dist-packages/numpy/core/_methods.py:129: RuntimeWarning: invalid value encountered in scalar divide\n",
            "  ret = ret.dtype.type(ret / rcount)\n"
          ]
        }
      ]
    },
    {
      "cell_type": "markdown",
      "metadata": {
        "id": "SMgwt-v5c49R"
      },
      "source": [
        "## Classification with train test loader"
      ]
    },
    {
      "cell_type": "markdown",
      "metadata": {
        "id": "VJBxiGuThMsp"
      },
      "source": [
        "TODO"
      ]
    },
    {
      "cell_type": "code",
      "execution_count": null,
      "metadata": {
        "id": "3AA83z3Oc8gb"
      },
      "outputs": [],
      "source": []
    },
    {
      "cell_type": "markdown",
      "metadata": {
        "id": "f2NnlWpVWqn6"
      },
      "source": [
        "##Standardize Regression Data sets"
      ]
    },
    {
      "cell_type": "code",
      "execution_count": null,
      "metadata": {
        "id": "6818C09SWst6"
      },
      "outputs": [],
      "source": [
        "# prompt: center and scale to normalize my Xs and ys\n",
        "\n",
        "def standardize_tensor(input_tensor):\n",
        "    mean = input_tensor.mean()\n",
        "    std = input_tensor.std()\n",
        "    standardized_tensor = (input_tensor - mean) / std\n",
        "    return standardized_tensor\n",
        "\n",
        "Xs = standardize_tensor(Xs)\n",
        "ys = standardize_tensor(ys)"
      ]
    },
    {
      "cell_type": "markdown",
      "metadata": {
        "id": "a_WVmie3JH9c"
      },
      "source": [
        "##Regression"
      ]
    },
    {
      "cell_type": "code",
      "execution_count": null,
      "metadata": {
        "id": "SPpxOXA2JJJe"
      },
      "outputs": [],
      "source": [
        "training_epochs = 1500\n",
        "learning_rate = 0.01 #0.0001 #0.01\n",
        "criterion = torch.nn.MSELoss()\n",
        "batch_size = 100\n",
        "\n",
        "fa_weight_sharing_within_segment = True\n",
        "fa_weight_sharing_between_segment = True\n",
        "ca_weight_sharing = False\n",
        "top_case_enabled = False\n",
        "hidden_layers = False\n",
        "top_k = 5\n",
        "class_weight_sharing = True\n",
        "nn_cdh_enabled = False\n",
        "\n",
        "patience = 40"
      ]
    },
    {
      "cell_type": "markdown",
      "metadata": {
        "id": "5r8m3pd6NMrl"
      },
      "source": [
        "This code below will attempt to use TPU"
      ]
    },
    {
      "cell_type": "code",
      "execution_count": null,
      "metadata": {
        "id": "4LWnNYJn2APf"
      },
      "outputs": [],
      "source": [
        "# import os\n",
        "# assert os.environ['COLAB_TPU_ADDR'], 'Make sure to select TPU from Edit > Notebook settings > Hardware accelerator'\n",
        "# !pip install cloud-tpu-client==0.10 torch==2.0.0 torchvision==0.15.1 https://storage.googleapis.com/tpu-pytorch/wheels/colab/torch_xla-2.0-cp310-cp310-linux_x86_64.whl\n",
        "# # imports pytorch\n",
        "# import torch\n",
        "\n",
        "# # imports the torch_xla package\n",
        "# import torch_xla\n",
        "# import torch_xla.core.xla_model as xm\n",
        "\n",
        "# dev = xm.xla_device()\n",
        "# Xs = Xs.to(dev)\n",
        "# ys = ys.to(dev)\n"
      ]
    },
    {
      "cell_type": "code",
      "execution_count": null,
      "metadata": {
        "colab": {
          "base_uri": "https://localhost:8080/"
        },
        "id": "m5PloUp6JL3_",
        "outputId": "dd2a1d0b-b7aa-415c-b238-605f0eb3fe44"
      },
      "outputs": [
        {
          "output_type": "stream",
          "name": "stdout",
          "text": [
            "Epoch [2/1500], Loss: 0.834648609161377\n",
            "Epoch [4/1500], Loss: 0.8302991986274719\n",
            "Epoch [6/1500], Loss: 0.864800214767456\n",
            "Epoch [8/1500], Loss: 0.7961227893829346\n",
            "Epoch [10/1500], Loss: 0.8002479672431946\n",
            "Epoch [12/1500], Loss: 0.6966904997825623\n",
            "Epoch [14/1500], Loss: 0.7492128014564514\n",
            "Epoch [16/1500], Loss: 0.6885046362876892\n",
            "Epoch [18/1500], Loss: 0.7227585315704346\n",
            "Epoch [20/1500], Loss: 0.6080526113510132\n",
            "Epoch [22/1500], Loss: 0.5747911334037781\n",
            "Epoch [24/1500], Loss: 0.5665337443351746\n",
            "Epoch [26/1500], Loss: 0.5434054136276245\n",
            "Epoch [28/1500], Loss: 0.6184493899345398\n",
            "Epoch [30/1500], Loss: 0.4727575182914734\n",
            "Epoch [32/1500], Loss: 0.5719715356826782\n",
            "Epoch [34/1500], Loss: 0.5125253200531006\n",
            "Epoch [36/1500], Loss: 0.5432581901550293\n",
            "Epoch [38/1500], Loss: 0.6167198419570923\n",
            "Epoch [40/1500], Loss: 0.4619654417037964\n",
            "Epoch [42/1500], Loss: 0.40632301568984985\n",
            "Epoch [44/1500], Loss: 0.44540515542030334\n",
            "Epoch [46/1500], Loss: 0.5037679076194763\n",
            "Epoch [48/1500], Loss: 0.45576226711273193\n",
            "Epoch [50/1500], Loss: 0.3738574981689453\n",
            "Epoch [52/1500], Loss: 0.3982585668563843\n",
            "Epoch [54/1500], Loss: 0.44378072023391724\n",
            "Epoch [56/1500], Loss: 0.39001724123954773\n",
            "Epoch [58/1500], Loss: 0.4590095579624176\n",
            "Epoch [60/1500], Loss: 0.40534600615501404\n",
            "Epoch [62/1500], Loss: 0.4153602123260498\n",
            "Epoch [64/1500], Loss: 0.3503572344779968\n",
            "Epoch [66/1500], Loss: 0.47613510489463806\n",
            "Epoch [68/1500], Loss: 0.5073779821395874\n",
            "Epoch [70/1500], Loss: 0.4138995409011841\n",
            "Epoch [72/1500], Loss: 0.4755305349826813\n",
            "Epoch [74/1500], Loss: 0.49072265625\n",
            "Epoch [76/1500], Loss: 0.43674877285957336\n",
            "Epoch [78/1500], Loss: 0.31746625900268555\n",
            "Epoch [80/1500], Loss: 0.37489211559295654\n",
            "Epoch [82/1500], Loss: 0.4159702658653259\n",
            "Epoch [84/1500], Loss: 0.49617403745651245\n",
            "Epoch [86/1500], Loss: 0.49705013632774353\n",
            "Epoch [88/1500], Loss: 0.40084898471832275\n",
            "Epoch [90/1500], Loss: 0.39223530888557434\n",
            "Epoch [92/1500], Loss: 0.36935752630233765\n",
            "Epoch [94/1500], Loss: 0.501367449760437\n",
            "Epoch [96/1500], Loss: 0.3685879409313202\n",
            "Epoch [98/1500], Loss: 0.414093554019928\n",
            "Epoch [100/1500], Loss: 0.4138731360435486\n",
            "Epoch [102/1500], Loss: 0.4438140392303467\n",
            "Epoch [104/1500], Loss: 0.3996642231941223\n",
            "Epoch [106/1500], Loss: 0.3723439872264862\n",
            "Epoch [108/1500], Loss: 0.43093928694725037\n",
            "Epoch [110/1500], Loss: 0.35021868348121643\n",
            "Epoch [112/1500], Loss: 0.3972553014755249\n",
            "Epoch [114/1500], Loss: 0.40058785676956177\n",
            "Epoch [116/1500], Loss: 0.38465118408203125\n",
            "Epoch [118/1500], Loss: 0.43460986018180847\n",
            "Epoch [120/1500], Loss: 0.3202022612094879\n",
            "Epoch [122/1500], Loss: 0.3680645823478699\n",
            "Epoch [124/1500], Loss: 0.44914746284484863\n",
            "Epoch [126/1500], Loss: 0.40687096118927\n",
            "Epoch [128/1500], Loss: 0.4364226460456848\n",
            "Epoch [130/1500], Loss: 0.4023895263671875\n",
            "Epoch [132/1500], Loss: 0.4130723476409912\n",
            "Epoch [134/1500], Loss: 0.4240002930164337\n",
            "Epoch [136/1500], Loss: 0.3573531210422516\n",
            "Epoch [138/1500], Loss: 0.4737664759159088\n",
            "Epoch [140/1500], Loss: 0.3661141097545624\n",
            "Epoch [142/1500], Loss: 0.3977605104446411\n",
            "Epoch [144/1500], Loss: 0.3732489347457886\n",
            "Epoch [146/1500], Loss: 0.3773355185985565\n",
            "Epoch [148/1500], Loss: 0.3640398681163788\n",
            "Epoch [150/1500], Loss: 0.3892645537853241\n",
            "Epoch [152/1500], Loss: 0.40229153633117676\n",
            "Epoch [154/1500], Loss: 0.3937358558177948\n",
            "Epoch [156/1500], Loss: 0.3555501699447632\n",
            "Epoch [158/1500], Loss: 0.40073540806770325\n",
            "Epoch [160/1500], Loss: 0.33662083745002747\n",
            "Epoch [162/1500], Loss: 0.37880656123161316\n",
            "Epoch [164/1500], Loss: 0.36501866579055786\n",
            "Epoch [166/1500], Loss: 0.26152503490448\n",
            "Epoch [168/1500], Loss: 0.3906222879886627\n",
            "Epoch [170/1500], Loss: 0.3718986511230469\n",
            "Epoch [172/1500], Loss: 0.3142915964126587\n",
            "Epoch [174/1500], Loss: 0.4351429343223572\n",
            "Epoch [176/1500], Loss: 0.41152313351631165\n",
            "Epoch [178/1500], Loss: 0.31897231936454773\n",
            "Epoch [180/1500], Loss: 0.36403727531433105\n",
            "Epoch [182/1500], Loss: 0.3412935733795166\n",
            "Epoch [184/1500], Loss: 0.3482292592525482\n",
            "Epoch [186/1500], Loss: 0.3030189275741577\n",
            "Epoch [188/1500], Loss: 0.3281327486038208\n",
            "Epoch [190/1500], Loss: 0.36096426844596863\n",
            "Epoch [192/1500], Loss: 0.32317841053009033\n",
            "Epoch [194/1500], Loss: 0.32852694392204285\n",
            "Epoch [196/1500], Loss: 0.3826565146446228\n",
            "Epoch [198/1500], Loss: 0.3956787586212158\n",
            "Epoch [200/1500], Loss: 0.3098399043083191\n",
            "Epoch [202/1500], Loss: 0.27358052134513855\n",
            "Epoch [204/1500], Loss: 0.2978631258010864\n",
            "Epoch [206/1500], Loss: 0.3561730682849884\n",
            "Epoch [208/1500], Loss: 0.36879295110702515\n",
            "Epoch [210/1500], Loss: 0.36172816157341003\n",
            "Epoch [212/1500], Loss: 0.378398060798645\n",
            "Epoch [214/1500], Loss: 0.2849128842353821\n",
            "Epoch [216/1500], Loss: 0.3351166844367981\n",
            "Epoch [218/1500], Loss: 0.32999950647354126\n",
            "Epoch [220/1500], Loss: 0.3118211627006531\n",
            "Epoch [222/1500], Loss: 0.3093593120574951\n",
            "Epoch [224/1500], Loss: 0.30317872762680054\n",
            "Epoch [226/1500], Loss: 0.2991775870323181\n",
            "Epoch [228/1500], Loss: 0.2998916506767273\n",
            "Epoch [230/1500], Loss: 0.2906856834888458\n",
            "Epoch [232/1500], Loss: 0.2770341634750366\n",
            "Epoch [234/1500], Loss: 0.3193730413913727\n",
            "Epoch [236/1500], Loss: 0.2577875852584839\n",
            "Epoch [238/1500], Loss: 0.3482505679130554\n",
            "Epoch [240/1500], Loss: 0.28762105107307434\n",
            "Epoch [242/1500], Loss: 0.27920427918434143\n",
            "Epoch [244/1500], Loss: 0.2643328905105591\n",
            "Epoch [246/1500], Loss: 0.2871484160423279\n",
            "Epoch [248/1500], Loss: 0.306001216173172\n",
            "Epoch [250/1500], Loss: 0.30334681272506714\n",
            "Epoch [252/1500], Loss: 0.26770299673080444\n",
            "Epoch [254/1500], Loss: 0.31565484404563904\n",
            "Epoch [256/1500], Loss: 0.347451776266098\n",
            "Epoch [258/1500], Loss: 0.28964507579803467\n",
            "Epoch [260/1500], Loss: 0.3024636209011078\n",
            "Epoch [262/1500], Loss: 0.25762081146240234\n",
            "Epoch [264/1500], Loss: 0.3206961750984192\n",
            "Epoch [266/1500], Loss: 0.25668421387672424\n",
            "patience exceeded, loading best model\n",
            "Epoch [2/1500], Loss: 0.8923105597496033\n",
            "Epoch [4/1500], Loss: 0.9304499626159668\n",
            "Epoch [6/1500], Loss: 0.8789360523223877\n",
            "Epoch [8/1500], Loss: 0.8866197466850281\n",
            "Epoch [10/1500], Loss: 0.8506085276603699\n",
            "Epoch [12/1500], Loss: 0.8647573590278625\n",
            "Epoch [14/1500], Loss: 0.6504254937171936\n",
            "Epoch [16/1500], Loss: 0.8406209349632263\n",
            "Epoch [18/1500], Loss: 0.6628947257995605\n",
            "Epoch [20/1500], Loss: 0.6869085431098938\n",
            "Epoch [22/1500], Loss: 0.5879179239273071\n",
            "Epoch [24/1500], Loss: 0.6768310070037842\n",
            "Epoch [26/1500], Loss: 0.6445040702819824\n",
            "Epoch [28/1500], Loss: 0.5713337063789368\n",
            "Epoch [30/1500], Loss: 0.6227139830589294\n",
            "Epoch [32/1500], Loss: 0.561932384967804\n",
            "Epoch [34/1500], Loss: 0.5356624126434326\n",
            "Epoch [36/1500], Loss: 0.5702701807022095\n",
            "Epoch [38/1500], Loss: 0.524728000164032\n",
            "Epoch [40/1500], Loss: 0.4636212885379791\n",
            "Epoch [42/1500], Loss: 0.45861801505088806\n",
            "Epoch [44/1500], Loss: 0.48547881841659546\n",
            "Epoch [46/1500], Loss: 0.46467819809913635\n",
            "Epoch [48/1500], Loss: 0.4507942199707031\n",
            "Epoch [50/1500], Loss: 0.40622207522392273\n",
            "Epoch [52/1500], Loss: 0.5321489572525024\n",
            "Epoch [54/1500], Loss: 0.4633938670158386\n",
            "Epoch [56/1500], Loss: 0.4170355498790741\n",
            "Epoch [58/1500], Loss: 0.5028156042098999\n",
            "Epoch [60/1500], Loss: 0.4874137043952942\n",
            "Epoch [62/1500], Loss: 0.5001794099807739\n",
            "Epoch [64/1500], Loss: 0.4994960129261017\n",
            "Epoch [66/1500], Loss: 0.4196612536907196\n",
            "Epoch [68/1500], Loss: 0.41345417499542236\n",
            "Epoch [70/1500], Loss: 0.38567763566970825\n",
            "Epoch [72/1500], Loss: 0.5041983127593994\n",
            "Epoch [74/1500], Loss: 0.4785785973072052\n",
            "Epoch [76/1500], Loss: 0.42241203784942627\n",
            "Epoch [78/1500], Loss: 0.3563683331012726\n",
            "Epoch [80/1500], Loss: 0.42132991552352905\n",
            "Epoch [82/1500], Loss: 0.45736774802207947\n",
            "Epoch [84/1500], Loss: 0.40726298093795776\n",
            "Epoch [86/1500], Loss: 0.47149157524108887\n",
            "Epoch [88/1500], Loss: 0.35548800230026245\n",
            "Epoch [90/1500], Loss: 0.4605681300163269\n",
            "Epoch [92/1500], Loss: 0.4855043888092041\n",
            "Epoch [94/1500], Loss: 0.4676659405231476\n",
            "Epoch [96/1500], Loss: 0.4709031283855438\n",
            "Epoch [98/1500], Loss: 0.3994269073009491\n",
            "Epoch [100/1500], Loss: 0.3993068039417267\n",
            "Epoch [102/1500], Loss: 0.4853499233722687\n",
            "Epoch [104/1500], Loss: 0.4522355794906616\n",
            "Epoch [106/1500], Loss: 0.4341629147529602\n",
            "Epoch [108/1500], Loss: 0.48425015807151794\n",
            "Epoch [110/1500], Loss: 0.37342578172683716\n",
            "patience exceeded, loading best model\n",
            "Epoch [2/1500], Loss: 0.7567352056503296\n",
            "Epoch [4/1500], Loss: 0.8248457312583923\n",
            "Epoch [6/1500], Loss: 0.7708290815353394\n",
            "Epoch [8/1500], Loss: 0.6487683653831482\n",
            "Epoch [10/1500], Loss: 0.645256519317627\n",
            "Epoch [12/1500], Loss: 0.7056124806404114\n",
            "Epoch [14/1500], Loss: 0.5912646651268005\n",
            "Epoch [16/1500], Loss: 0.7831165790557861\n",
            "Epoch [18/1500], Loss: 0.6166427731513977\n",
            "Epoch [20/1500], Loss: 0.5925258994102478\n",
            "Epoch [22/1500], Loss: 0.6169109344482422\n",
            "Epoch [24/1500], Loss: 0.6085561513900757\n",
            "Epoch [26/1500], Loss: 0.4878726303577423\n",
            "Epoch [28/1500], Loss: 0.5558038949966431\n",
            "Epoch [30/1500], Loss: 0.6612356305122375\n",
            "Epoch [32/1500], Loss: 0.5642160177230835\n",
            "Epoch [34/1500], Loss: 0.4565659761428833\n",
            "Epoch [36/1500], Loss: 0.5456330180168152\n",
            "Epoch [38/1500], Loss: 0.550751805305481\n",
            "Epoch [40/1500], Loss: 0.5244102478027344\n",
            "Epoch [42/1500], Loss: 0.5032691359519958\n",
            "Epoch [44/1500], Loss: 0.5429701805114746\n",
            "Epoch [46/1500], Loss: 0.4903196394443512\n",
            "Epoch [48/1500], Loss: 0.46191462874412537\n",
            "Epoch [50/1500], Loss: 0.47848832607269287\n",
            "Epoch [52/1500], Loss: 0.5437366962432861\n",
            "Epoch [54/1500], Loss: 0.5281016826629639\n",
            "Epoch [56/1500], Loss: 0.4551043212413788\n",
            "Epoch [58/1500], Loss: 0.4767281711101532\n",
            "Epoch [60/1500], Loss: 0.5207633376121521\n",
            "Epoch [62/1500], Loss: 0.4414539337158203\n",
            "Epoch [64/1500], Loss: 0.4258286654949188\n",
            "Epoch [66/1500], Loss: 0.400546669960022\n",
            "Epoch [68/1500], Loss: 0.3789502680301666\n",
            "Epoch [70/1500], Loss: 0.3972441852092743\n",
            "Epoch [72/1500], Loss: 0.3298313021659851\n",
            "Epoch [74/1500], Loss: 0.41370880603790283\n",
            "Epoch [76/1500], Loss: 0.47587311267852783\n",
            "Epoch [78/1500], Loss: 0.46938273310661316\n",
            "Epoch [80/1500], Loss: 0.42534491419792175\n",
            "Epoch [82/1500], Loss: 0.4481939971446991\n",
            "Epoch [84/1500], Loss: 0.4261679947376251\n",
            "Epoch [86/1500], Loss: 0.5017199516296387\n",
            "Epoch [88/1500], Loss: 0.386646032333374\n",
            "Epoch [90/1500], Loss: 0.43446388840675354\n",
            "Epoch [92/1500], Loss: 0.37321189045906067\n",
            "Epoch [94/1500], Loss: 0.44348782300949097\n",
            "Epoch [96/1500], Loss: 0.38140884041786194\n",
            "Epoch [98/1500], Loss: 0.37507855892181396\n",
            "Epoch [100/1500], Loss: 0.4329521059989929\n",
            "Epoch [102/1500], Loss: 0.44732630252838135\n",
            "Epoch [104/1500], Loss: 0.49544453620910645\n",
            "Epoch [106/1500], Loss: 0.4947513937950134\n",
            "Epoch [108/1500], Loss: 0.3962881565093994\n",
            "Epoch [110/1500], Loss: 0.41584959626197815\n",
            "Epoch [112/1500], Loss: 0.3957815170288086\n",
            "Epoch [114/1500], Loss: 0.4397915005683899\n",
            "Epoch [116/1500], Loss: 0.4146445095539093\n",
            "Epoch [118/1500], Loss: 0.4120447635650635\n",
            "Epoch [120/1500], Loss: 0.3625761866569519\n",
            "Epoch [122/1500], Loss: 0.3574495315551758\n",
            "Epoch [124/1500], Loss: 0.3667924404144287\n",
            "Epoch [126/1500], Loss: 0.3730129897594452\n",
            "Epoch [128/1500], Loss: 0.45123088359832764\n",
            "Epoch [130/1500], Loss: 0.3526836037635803\n",
            "Epoch [132/1500], Loss: 0.359588623046875\n",
            "Epoch [134/1500], Loss: 0.41279032826423645\n",
            "Epoch [136/1500], Loss: 0.39980101585388184\n",
            "Epoch [138/1500], Loss: 0.3695555031299591\n",
            "Epoch [140/1500], Loss: 0.40084972977638245\n",
            "Epoch [142/1500], Loss: 0.3525608479976654\n",
            "Epoch [144/1500], Loss: 0.4596245288848877\n",
            "Epoch [146/1500], Loss: 0.43006446957588196\n",
            "Epoch [148/1500], Loss: 0.3568381071090698\n",
            "Epoch [150/1500], Loss: 0.4211805462837219\n",
            "Epoch [152/1500], Loss: 0.32447579503059387\n",
            "Epoch [154/1500], Loss: 0.3616030216217041\n",
            "Epoch [156/1500], Loss: 0.3914724290370941\n",
            "Epoch [158/1500], Loss: 0.42052069306373596\n",
            "Epoch [160/1500], Loss: 0.3021010458469391\n",
            "Epoch [162/1500], Loss: 0.4059140086174011\n",
            "Epoch [164/1500], Loss: 0.33448830246925354\n",
            "Epoch [166/1500], Loss: 0.34537872672080994\n",
            "Epoch [168/1500], Loss: 0.4060896337032318\n",
            "Epoch [170/1500], Loss: 0.3506157696247101\n",
            "Epoch [172/1500], Loss: 0.41597896814346313\n",
            "Epoch [174/1500], Loss: 0.423168420791626\n",
            "Epoch [176/1500], Loss: 0.3756946623325348\n",
            "Epoch [178/1500], Loss: 0.34384146332740784\n",
            "Epoch [180/1500], Loss: 0.32735562324523926\n",
            "Epoch [182/1500], Loss: 0.43561434745788574\n",
            "Epoch [184/1500], Loss: 0.34715545177459717\n",
            "Epoch [186/1500], Loss: 0.3399280309677124\n",
            "Epoch [188/1500], Loss: 0.3809022009372711\n",
            "Epoch [190/1500], Loss: 0.25308722257614136\n",
            "Epoch [192/1500], Loss: 0.3217514455318451\n",
            "Epoch [194/1500], Loss: 0.33126822113990784\n",
            "Epoch [196/1500], Loss: 0.334105908870697\n",
            "Epoch [198/1500], Loss: 0.3356005549430847\n",
            "Epoch [200/1500], Loss: 0.3758105933666229\n",
            "Epoch [202/1500], Loss: 0.3367213010787964\n",
            "Epoch [204/1500], Loss: 0.37184852361679077\n",
            "Epoch [206/1500], Loss: 0.3619612157344818\n",
            "Epoch [208/1500], Loss: 0.3775329291820526\n",
            "Epoch [210/1500], Loss: 0.3037213385105133\n",
            "Epoch [212/1500], Loss: 0.2600906193256378\n",
            "Epoch [214/1500], Loss: 0.29603609442710876\n",
            "Epoch [216/1500], Loss: 0.3409196734428406\n",
            "Epoch [218/1500], Loss: 0.28406044840812683\n",
            "Epoch [220/1500], Loss: 0.35447466373443604\n",
            "Epoch [222/1500], Loss: 0.3485524654388428\n",
            "Epoch [224/1500], Loss: 0.364500492811203\n",
            "Epoch [226/1500], Loss: 0.3223121166229248\n",
            "Epoch [228/1500], Loss: 0.29405874013900757\n",
            "Epoch [230/1500], Loss: 0.3019047677516937\n",
            "Epoch [232/1500], Loss: 0.3128904104232788\n",
            "Epoch [234/1500], Loss: 0.36564406752586365\n",
            "Epoch [236/1500], Loss: 0.2678844928741455\n",
            "Epoch [238/1500], Loss: 0.3490836024284363\n",
            "Epoch [240/1500], Loss: 0.3106715679168701\n",
            "Epoch [242/1500], Loss: 0.2877328097820282\n",
            "Epoch [244/1500], Loss: 0.25515300035476685\n",
            "Epoch [246/1500], Loss: 0.3048928380012512\n",
            "Epoch [248/1500], Loss: 0.26376357674598694\n",
            "Epoch [250/1500], Loss: 0.3027419149875641\n",
            "Epoch [252/1500], Loss: 0.3576493561267853\n",
            "Epoch [254/1500], Loss: 0.3232327699661255\n",
            "Epoch [256/1500], Loss: 0.317954421043396\n",
            "Epoch [258/1500], Loss: 0.3363363742828369\n",
            "Epoch [260/1500], Loss: 0.26794373989105225\n",
            "Epoch [262/1500], Loss: 0.31282585859298706\n",
            "Epoch [264/1500], Loss: 0.2794528007507324\n",
            "Epoch [266/1500], Loss: 0.2528802752494812\n",
            "Epoch [268/1500], Loss: 0.23114517331123352\n",
            "Epoch [270/1500], Loss: 0.29730725288391113\n",
            "Epoch [272/1500], Loss: 0.30148380994796753\n",
            "Epoch [274/1500], Loss: 0.25534579157829285\n",
            "Epoch [276/1500], Loss: 0.32401344180107117\n",
            "Epoch [278/1500], Loss: 0.2986507713794708\n",
            "Epoch [280/1500], Loss: 0.3246804177761078\n",
            "Epoch [282/1500], Loss: 0.2731987237930298\n",
            "Epoch [284/1500], Loss: 0.31036093831062317\n",
            "Epoch [286/1500], Loss: 0.2897852659225464\n",
            "Epoch [288/1500], Loss: 0.265947163105011\n",
            "Epoch [290/1500], Loss: 0.3254838287830353\n",
            "Epoch [292/1500], Loss: 0.31110426783561707\n",
            "Epoch [294/1500], Loss: 0.3026920557022095\n",
            "Epoch [296/1500], Loss: 0.3117978274822235\n",
            "Epoch [298/1500], Loss: 0.2527397871017456\n",
            "Epoch [300/1500], Loss: 0.2600434124469757\n",
            "Epoch [302/1500], Loss: 0.28497371077537537\n",
            "Epoch [304/1500], Loss: 0.25310081243515015\n",
            "Epoch [306/1500], Loss: 0.31119799613952637\n",
            "Epoch [308/1500], Loss: 0.3059108555316925\n",
            "Epoch [310/1500], Loss: 0.2824722230434418\n",
            "Epoch [312/1500], Loss: 0.2591013014316559\n",
            "Epoch [314/1500], Loss: 0.23811574280261993\n",
            "Epoch [316/1500], Loss: 0.21666742861270905\n",
            "Epoch [318/1500], Loss: 0.25971776247024536\n",
            "Epoch [320/1500], Loss: 0.27288854122161865\n",
            "Epoch [322/1500], Loss: 0.25684794783592224\n",
            "Epoch [324/1500], Loss: 0.21656498312950134\n",
            "Epoch [326/1500], Loss: 0.2547876834869385\n",
            "Epoch [328/1500], Loss: 0.28005772829055786\n",
            "Epoch [330/1500], Loss: 0.21743375062942505\n",
            "Epoch [332/1500], Loss: 0.2565409541130066\n",
            "Epoch [334/1500], Loss: 0.279535174369812\n",
            "Epoch [336/1500], Loss: 0.2727285623550415\n",
            "Epoch [338/1500], Loss: 0.2445564717054367\n",
            "Epoch [340/1500], Loss: 0.25934305787086487\n",
            "Epoch [342/1500], Loss: 0.22408252954483032\n",
            "Epoch [344/1500], Loss: 0.2795509397983551\n",
            "Epoch [346/1500], Loss: 0.274408221244812\n",
            "Epoch [348/1500], Loss: 0.2542004883289337\n",
            "Epoch [350/1500], Loss: 0.20516036450862885\n",
            "Epoch [352/1500], Loss: 0.29235589504241943\n",
            "Epoch [354/1500], Loss: 0.2529313564300537\n",
            "Epoch [356/1500], Loss: 0.20718427002429962\n",
            "Epoch [358/1500], Loss: 0.19472017884254456\n",
            "Epoch [360/1500], Loss: 0.1995530128479004\n",
            "Epoch [362/1500], Loss: 0.22331543266773224\n",
            "Epoch [364/1500], Loss: 0.2284087985754013\n",
            "Epoch [366/1500], Loss: 0.23940898478031158\n",
            "Epoch [368/1500], Loss: 0.2683737277984619\n",
            "Epoch [370/1500], Loss: 0.25370460748672485\n",
            "Epoch [372/1500], Loss: 0.22225558757781982\n",
            "Epoch [374/1500], Loss: 0.2806486189365387\n",
            "Epoch [376/1500], Loss: 0.2467489242553711\n",
            "Epoch [378/1500], Loss: 0.22865256667137146\n",
            "Epoch [380/1500], Loss: 0.2506025433540344\n",
            "Epoch [382/1500], Loss: 0.2421455979347229\n",
            "Epoch [384/1500], Loss: 0.23513410985469818\n",
            "Epoch [386/1500], Loss: 0.22043758630752563\n",
            "Epoch [388/1500], Loss: 0.23946347832679749\n",
            "Epoch [390/1500], Loss: 0.22735019028186798\n",
            "Epoch [392/1500], Loss: 0.26077210903167725\n",
            "Epoch [394/1500], Loss: 0.1853855550289154\n",
            "patience exceeded, loading best model\n",
            "Epoch [2/1500], Loss: 0.8672752976417542\n",
            "Epoch [4/1500], Loss: 0.984061598777771\n",
            "Epoch [6/1500], Loss: 0.7354661822319031\n",
            "Epoch [8/1500], Loss: 0.7909544110298157\n",
            "Epoch [10/1500], Loss: 0.7160739898681641\n",
            "Epoch [12/1500], Loss: 0.742534339427948\n",
            "Epoch [14/1500], Loss: 0.6457661390304565\n",
            "Epoch [16/1500], Loss: 0.7300025820732117\n",
            "Epoch [18/1500], Loss: 0.7378523349761963\n",
            "Epoch [20/1500], Loss: 0.6583957076072693\n",
            "Epoch [22/1500], Loss: 0.6259812116622925\n",
            "Epoch [24/1500], Loss: 0.519887387752533\n",
            "Epoch [26/1500], Loss: 0.5568313598632812\n",
            "Epoch [28/1500], Loss: 0.5357215404510498\n",
            "Epoch [30/1500], Loss: 0.6011377573013306\n",
            "Epoch [32/1500], Loss: 0.4858529567718506\n",
            "Epoch [34/1500], Loss: 0.5482227206230164\n",
            "Epoch [36/1500], Loss: 0.5761852264404297\n",
            "Epoch [38/1500], Loss: 0.5903233289718628\n",
            "Epoch [40/1500], Loss: 0.5007994174957275\n",
            "Epoch [42/1500], Loss: 0.48709771037101746\n",
            "Epoch [44/1500], Loss: 0.4540022313594818\n",
            "Epoch [46/1500], Loss: 0.4708605706691742\n",
            "Epoch [48/1500], Loss: 0.4526491165161133\n",
            "Epoch [50/1500], Loss: 0.5005739331245422\n",
            "Epoch [52/1500], Loss: 0.47486305236816406\n",
            "Epoch [54/1500], Loss: 0.5328736305236816\n",
            "Epoch [56/1500], Loss: 0.5063469409942627\n",
            "Epoch [58/1500], Loss: 0.5055737495422363\n",
            "Epoch [60/1500], Loss: 0.48955821990966797\n",
            "Epoch [62/1500], Loss: 0.5271466970443726\n",
            "Epoch [64/1500], Loss: 0.572735607624054\n",
            "Epoch [66/1500], Loss: 0.3932117819786072\n",
            "Epoch [68/1500], Loss: 0.3900080621242523\n",
            "Epoch [70/1500], Loss: 0.44946521520614624\n",
            "Epoch [72/1500], Loss: 0.5151214599609375\n",
            "Epoch [74/1500], Loss: 0.47102829813957214\n",
            "Epoch [76/1500], Loss: 0.42242035269737244\n",
            "Epoch [78/1500], Loss: 0.3633778691291809\n",
            "Epoch [80/1500], Loss: 0.5006898641586304\n",
            "Epoch [82/1500], Loss: 0.43665024638175964\n",
            "Epoch [84/1500], Loss: 0.46619153022766113\n",
            "Epoch [86/1500], Loss: 0.476318895816803\n",
            "Epoch [88/1500], Loss: 0.4078114330768585\n",
            "Epoch [90/1500], Loss: 0.4691022038459778\n",
            "Epoch [92/1500], Loss: 0.5003272891044617\n",
            "Epoch [94/1500], Loss: 0.4365570545196533\n",
            "Epoch [96/1500], Loss: 0.4437520205974579\n",
            "Epoch [98/1500], Loss: 0.42174938321113586\n",
            "Epoch [100/1500], Loss: 0.41596779227256775\n",
            "Epoch [102/1500], Loss: 0.4802893102169037\n",
            "Epoch [104/1500], Loss: 0.43480774760246277\n",
            "Epoch [106/1500], Loss: 0.4459492862224579\n",
            "Epoch [108/1500], Loss: 0.4418584108352661\n",
            "Epoch [110/1500], Loss: 0.4053923487663269\n",
            "Epoch [112/1500], Loss: 0.4177038073539734\n",
            "patience exceeded, loading best model\n",
            "Epoch [2/1500], Loss: 0.8331587314605713\n",
            "Epoch [4/1500], Loss: 0.9432176351547241\n",
            "Epoch [6/1500], Loss: 0.8249716758728027\n",
            "Epoch [8/1500], Loss: 0.738695502281189\n",
            "Epoch [10/1500], Loss: 0.7773177623748779\n",
            "Epoch [12/1500], Loss: 0.6995020508766174\n",
            "Epoch [14/1500], Loss: 0.6747597455978394\n",
            "Epoch [16/1500], Loss: 0.7038680911064148\n",
            "Epoch [18/1500], Loss: 0.7599296569824219\n",
            "Epoch [20/1500], Loss: 0.5813825726509094\n",
            "Epoch [22/1500], Loss: 0.7170849442481995\n",
            "Epoch [24/1500], Loss: 0.5285370945930481\n",
            "Epoch [26/1500], Loss: 0.6191771030426025\n",
            "Epoch [28/1500], Loss: 0.6062284111976624\n",
            "Epoch [30/1500], Loss: 0.4975121319293976\n",
            "Epoch [32/1500], Loss: 0.5389804244041443\n",
            "Epoch [34/1500], Loss: 0.6109898090362549\n",
            "Epoch [36/1500], Loss: 0.5096858739852905\n",
            "Epoch [38/1500], Loss: 0.4835609495639801\n",
            "Epoch [40/1500], Loss: 0.5425851941108704\n",
            "Epoch [42/1500], Loss: 0.48213404417037964\n",
            "Epoch [44/1500], Loss: 0.4792501926422119\n",
            "Epoch [46/1500], Loss: 0.49035385251045227\n",
            "Epoch [48/1500], Loss: 0.5084724426269531\n",
            "Epoch [50/1500], Loss: 0.3726803660392761\n",
            "Epoch [52/1500], Loss: 0.4113500118255615\n",
            "Epoch [54/1500], Loss: 0.5187332630157471\n",
            "Epoch [56/1500], Loss: 0.4297485053539276\n",
            "Epoch [58/1500], Loss: 0.5098912119865417\n",
            "Epoch [60/1500], Loss: 0.3256547152996063\n",
            "Epoch [62/1500], Loss: 0.41570156812667847\n",
            "Epoch [64/1500], Loss: 0.4164409339427948\n",
            "Epoch [66/1500], Loss: 0.4077260494232178\n",
            "Epoch [68/1500], Loss: 0.4905529022216797\n",
            "Epoch [70/1500], Loss: 0.5401970744132996\n",
            "Epoch [72/1500], Loss: 0.450479120016098\n",
            "Epoch [74/1500], Loss: 0.41685864329338074\n",
            "Epoch [76/1500], Loss: 0.4600391089916229\n",
            "Epoch [78/1500], Loss: 0.4136470854282379\n",
            "Epoch [80/1500], Loss: 0.37753090262413025\n",
            "Epoch [82/1500], Loss: 0.3843812942504883\n",
            "Epoch [84/1500], Loss: 0.48630186915397644\n",
            "Epoch [86/1500], Loss: 0.4199509918689728\n",
            "Epoch [88/1500], Loss: 0.438740074634552\n",
            "Epoch [90/1500], Loss: 0.431984543800354\n",
            "Epoch [92/1500], Loss: 0.41462135314941406\n",
            "Epoch [94/1500], Loss: 0.42338478565216064\n",
            "Epoch [96/1500], Loss: 0.4504341781139374\n",
            "Epoch [98/1500], Loss: 0.35124000906944275\n",
            "Epoch [100/1500], Loss: 0.4173929989337921\n",
            "Epoch [102/1500], Loss: 0.527035117149353\n",
            "Epoch [104/1500], Loss: 0.37371811270713806\n",
            "Epoch [106/1500], Loss: 0.46341511607170105\n",
            "Epoch [108/1500], Loss: 0.35783377289772034\n",
            "Epoch [110/1500], Loss: 0.41629284620285034\n",
            "Epoch [112/1500], Loss: 0.4243263602256775\n",
            "Epoch [114/1500], Loss: 0.42790523171424866\n",
            "Epoch [116/1500], Loss: 0.4004177153110504\n",
            "Epoch [118/1500], Loss: 0.4618004858493805\n",
            "Epoch [120/1500], Loss: 0.41418522596359253\n",
            "Epoch [122/1500], Loss: 0.4476132094860077\n",
            "Epoch [124/1500], Loss: 0.43108490109443665\n",
            "Epoch [126/1500], Loss: 0.42563584446907043\n",
            "Epoch [128/1500], Loss: 0.48423466086387634\n",
            "Epoch [130/1500], Loss: 0.38101550936698914\n",
            "Epoch [132/1500], Loss: 0.31283608078956604\n",
            "Epoch [134/1500], Loss: 0.3557901084423065\n",
            "Epoch [136/1500], Loss: 0.4108960032463074\n",
            "Epoch [138/1500], Loss: 0.4374096691608429\n",
            "Epoch [140/1500], Loss: 0.333353728055954\n",
            "Epoch [142/1500], Loss: 0.42977240681648254\n",
            "Epoch [144/1500], Loss: 0.3996087610721588\n",
            "Epoch [146/1500], Loss: 0.37854915857315063\n",
            "Epoch [148/1500], Loss: 0.3364983797073364\n",
            "Epoch [150/1500], Loss: 0.35545557737350464\n",
            "Epoch [152/1500], Loss: 0.41327014565467834\n",
            "Epoch [154/1500], Loss: 0.43917474150657654\n",
            "Epoch [156/1500], Loss: 0.3558381199836731\n",
            "Epoch [158/1500], Loss: 0.3305816650390625\n",
            "Epoch [160/1500], Loss: 0.3493136167526245\n",
            "Epoch [162/1500], Loss: 0.3642726242542267\n",
            "Epoch [164/1500], Loss: 0.34858497977256775\n",
            "Epoch [166/1500], Loss: 0.3456883132457733\n",
            "Epoch [168/1500], Loss: 0.34227943420410156\n",
            "Epoch [170/1500], Loss: 0.3860577344894409\n",
            "Epoch [172/1500], Loss: 0.435006707906723\n",
            "Epoch [174/1500], Loss: 0.38111254572868347\n",
            "Epoch [176/1500], Loss: 0.36448153853416443\n",
            "Epoch [178/1500], Loss: 0.3924819529056549\n",
            "Epoch [180/1500], Loss: 0.2994839549064636\n",
            "Epoch [182/1500], Loss: 0.3749994933605194\n",
            "Epoch [184/1500], Loss: 0.39641979336738586\n",
            "Epoch [186/1500], Loss: 0.44074320793151855\n",
            "Epoch [188/1500], Loss: 0.38375845551490784\n",
            "Epoch [190/1500], Loss: 0.2938835024833679\n",
            "Epoch [192/1500], Loss: 0.328827828168869\n",
            "Epoch [194/1500], Loss: 0.34693917632102966\n",
            "Epoch [196/1500], Loss: 0.3392610251903534\n",
            "Epoch [198/1500], Loss: 0.43409934639930725\n",
            "Epoch [200/1500], Loss: 0.3196561932563782\n",
            "Epoch [202/1500], Loss: 0.3639594316482544\n",
            "Epoch [204/1500], Loss: 0.3773841857910156\n",
            "Epoch [206/1500], Loss: 0.417464941740036\n",
            "Epoch [208/1500], Loss: 0.3470771908760071\n",
            "Epoch [210/1500], Loss: 0.3551788330078125\n",
            "Epoch [212/1500], Loss: 0.31643784046173096\n",
            "Epoch [214/1500], Loss: 0.33733561635017395\n",
            "Epoch [216/1500], Loss: 0.3433645963668823\n",
            "Epoch [218/1500], Loss: 0.33016204833984375\n",
            "Epoch [220/1500], Loss: 0.4083482623100281\n",
            "Epoch [222/1500], Loss: 0.3321778476238251\n",
            "Epoch [224/1500], Loss: 0.3813486099243164\n",
            "Epoch [226/1500], Loss: 0.306270569562912\n",
            "Epoch [228/1500], Loss: 0.3459816873073578\n",
            "Epoch [230/1500], Loss: 0.3165853023529053\n",
            "Epoch [232/1500], Loss: 0.3160860240459442\n",
            "Epoch [234/1500], Loss: 0.34004923701286316\n",
            "Epoch [236/1500], Loss: 0.28987428545951843\n",
            "Epoch [238/1500], Loss: 0.3206154704093933\n",
            "Epoch [240/1500], Loss: 0.29965779185295105\n",
            "Epoch [242/1500], Loss: 0.33714282512664795\n",
            "Epoch [244/1500], Loss: 0.28384751081466675\n",
            "Epoch [246/1500], Loss: 0.2711198031902313\n",
            "Epoch [248/1500], Loss: 0.25974246859550476\n",
            "Epoch [250/1500], Loss: 0.2725747525691986\n",
            "Epoch [252/1500], Loss: 0.3405079245567322\n",
            "Epoch [254/1500], Loss: 0.30911996960639954\n",
            "Epoch [256/1500], Loss: 0.355233758687973\n",
            "Epoch [258/1500], Loss: 0.3429408371448517\n",
            "Epoch [260/1500], Loss: 0.30566197633743286\n",
            "Epoch [262/1500], Loss: 0.3638671040534973\n",
            "Epoch [264/1500], Loss: 0.3236226737499237\n",
            "Epoch [266/1500], Loss: 0.3634081184864044\n",
            "Epoch [268/1500], Loss: 0.3207019865512848\n",
            "Epoch [270/1500], Loss: 0.24070222675800323\n",
            "Epoch [272/1500], Loss: 0.28115522861480713\n",
            "Epoch [274/1500], Loss: 0.29266735911369324\n",
            "Epoch [276/1500], Loss: 0.334076464176178\n",
            "Epoch [278/1500], Loss: 0.29629626870155334\n",
            "Epoch [280/1500], Loss: 0.3055998682975769\n",
            "Epoch [282/1500], Loss: 0.27913719415664673\n",
            "Epoch [284/1500], Loss: 0.27957576513290405\n",
            "Epoch [286/1500], Loss: 0.29395779967308044\n",
            "Epoch [288/1500], Loss: 0.25922125577926636\n",
            "Epoch [290/1500], Loss: 0.24185670912265778\n",
            "Epoch [292/1500], Loss: 0.31466421484947205\n",
            "Epoch [294/1500], Loss: 0.2809050977230072\n",
            "Epoch [296/1500], Loss: 0.23903021216392517\n",
            "Epoch [298/1500], Loss: 0.29024672508239746\n",
            "Epoch [300/1500], Loss: 0.2218305617570877\n",
            "Epoch [302/1500], Loss: 0.2714748978614807\n",
            "Epoch [304/1500], Loss: 0.27536770701408386\n",
            "Epoch [306/1500], Loss: 0.23871776461601257\n",
            "Epoch [308/1500], Loss: 0.3091270923614502\n",
            "Epoch [310/1500], Loss: 0.3159707486629486\n",
            "Epoch [312/1500], Loss: 0.292544960975647\n",
            "Epoch [314/1500], Loss: 0.2933899462223053\n",
            "Epoch [316/1500], Loss: 0.2450680136680603\n",
            "Epoch [318/1500], Loss: 0.239377960562706\n",
            "Epoch [320/1500], Loss: 0.26931285858154297\n",
            "Epoch [322/1500], Loss: 0.20100663602352142\n",
            "Epoch [324/1500], Loss: 0.27322617173194885\n",
            "Epoch [326/1500], Loss: 0.2336503267288208\n",
            "patience exceeded, loading best model\n",
            "Epoch [2/1500], Loss: 0.7749488353729248\n",
            "Epoch [4/1500], Loss: 1.0173794031143188\n",
            "Epoch [6/1500], Loss: 0.7872134447097778\n",
            "Epoch [8/1500], Loss: 0.9045151472091675\n",
            "Epoch [10/1500], Loss: 0.8249175548553467\n",
            "Epoch [12/1500], Loss: 0.9043949246406555\n",
            "Epoch [14/1500], Loss: 0.7331457734107971\n",
            "Epoch [16/1500], Loss: 0.6544088125228882\n",
            "Epoch [18/1500], Loss: 0.6434977054595947\n",
            "Epoch [20/1500], Loss: 0.6929019093513489\n",
            "Epoch [22/1500], Loss: 0.5947331786155701\n",
            "Epoch [24/1500], Loss: 0.5712921619415283\n",
            "Epoch [26/1500], Loss: 0.6066871881484985\n",
            "Epoch [28/1500], Loss: 0.4921146333217621\n",
            "Epoch [30/1500], Loss: 0.5241754651069641\n",
            "Epoch [32/1500], Loss: 0.4560507535934448\n",
            "Epoch [34/1500], Loss: 0.46547672152519226\n",
            "Epoch [36/1500], Loss: 0.5062578320503235\n",
            "Epoch [38/1500], Loss: 0.4781239330768585\n",
            "Epoch [40/1500], Loss: 0.48692718148231506\n",
            "Epoch [42/1500], Loss: 0.4756301939487457\n",
            "Epoch [44/1500], Loss: 0.45382529497146606\n",
            "Epoch [46/1500], Loss: 0.5055674910545349\n",
            "Epoch [48/1500], Loss: 0.45360347628593445\n",
            "Epoch [50/1500], Loss: 0.4195011556148529\n",
            "Epoch [52/1500], Loss: 0.4255647659301758\n",
            "Epoch [54/1500], Loss: 0.5343244671821594\n",
            "Epoch [56/1500], Loss: 0.4626709222793579\n",
            "Epoch [58/1500], Loss: 0.50405353307724\n",
            "Epoch [60/1500], Loss: 0.5101038217544556\n",
            "Epoch [62/1500], Loss: 0.5264627933502197\n",
            "Epoch [64/1500], Loss: 0.4892139732837677\n",
            "Epoch [66/1500], Loss: 0.5467402935028076\n",
            "Epoch [68/1500], Loss: 0.424728125333786\n",
            "Epoch [70/1500], Loss: 0.4785992503166199\n",
            "Epoch [72/1500], Loss: 0.4603642225265503\n",
            "Epoch [74/1500], Loss: 0.42391303181648254\n",
            "Epoch [76/1500], Loss: 0.49911367893218994\n",
            "Epoch [78/1500], Loss: 0.3737410008907318\n",
            "Epoch [80/1500], Loss: 0.3793475329875946\n",
            "Epoch [82/1500], Loss: 0.4558206796646118\n",
            "Epoch [84/1500], Loss: 0.4036072790622711\n",
            "Epoch [86/1500], Loss: 0.38864609599113464\n",
            "Epoch [88/1500], Loss: 0.4532971680164337\n",
            "Epoch [90/1500], Loss: 0.41530558466911316\n",
            "Epoch [92/1500], Loss: 0.39477741718292236\n",
            "Epoch [94/1500], Loss: 0.3246609568595886\n",
            "Epoch [96/1500], Loss: 0.42927560210227966\n",
            "Epoch [98/1500], Loss: 0.2928914725780487\n",
            "Epoch [100/1500], Loss: 0.3800565302371979\n",
            "Epoch [102/1500], Loss: 0.4300709664821625\n",
            "Epoch [104/1500], Loss: 0.45117369294166565\n",
            "Epoch [106/1500], Loss: 0.4774206876754761\n",
            "Epoch [108/1500], Loss: 0.46843278408050537\n",
            "Epoch [110/1500], Loss: 0.3809508979320526\n",
            "Epoch [112/1500], Loss: 0.38990214467048645\n",
            "Epoch [114/1500], Loss: 0.41995376348495483\n",
            "Epoch [116/1500], Loss: 0.3734007179737091\n",
            "Epoch [118/1500], Loss: 0.41149961948394775\n",
            "Epoch [120/1500], Loss: 0.3800240457057953\n",
            "Epoch [122/1500], Loss: 0.38804885745048523\n",
            "Epoch [124/1500], Loss: 0.3535837233066559\n",
            "Epoch [126/1500], Loss: 0.40373721718788147\n",
            "Epoch [128/1500], Loss: 0.40850451588630676\n",
            "Epoch [130/1500], Loss: 0.3662853240966797\n",
            "Epoch [132/1500], Loss: 0.4376473128795624\n",
            "Epoch [134/1500], Loss: 0.3915521204471588\n",
            "patience exceeded, loading best model\n",
            "Epoch [2/1500], Loss: 0.7953036427497864\n",
            "Epoch [4/1500], Loss: 0.7708994150161743\n",
            "Epoch [6/1500], Loss: 0.7575247287750244\n",
            "Epoch [8/1500], Loss: 0.84319007396698\n",
            "Epoch [10/1500], Loss: 0.789152204990387\n",
            "Epoch [12/1500], Loss: 0.5951281189918518\n",
            "Epoch [14/1500], Loss: 0.7575764656066895\n",
            "Epoch [16/1500], Loss: 0.5872007608413696\n",
            "Epoch [18/1500], Loss: 0.7461512684822083\n",
            "Epoch [20/1500], Loss: 0.6393420100212097\n",
            "Epoch [22/1500], Loss: 0.6632903218269348\n",
            "Epoch [24/1500], Loss: 0.5652706027030945\n",
            "Epoch [26/1500], Loss: 0.6499691009521484\n",
            "Epoch [28/1500], Loss: 0.5423426628112793\n",
            "Epoch [30/1500], Loss: 0.5700605511665344\n",
            "Epoch [32/1500], Loss: 0.5428740978240967\n",
            "Epoch [34/1500], Loss: 0.5886366963386536\n",
            "Epoch [36/1500], Loss: 0.48626649379730225\n",
            "Epoch [38/1500], Loss: 0.5835328102111816\n",
            "Epoch [40/1500], Loss: 0.4315677583217621\n",
            "Epoch [42/1500], Loss: 0.41502970457077026\n",
            "Epoch [44/1500], Loss: 0.4243343472480774\n",
            "Epoch [46/1500], Loss: 0.44778263568878174\n",
            "Epoch [48/1500], Loss: 0.4505772888660431\n",
            "Epoch [50/1500], Loss: 0.4546026885509491\n",
            "Epoch [52/1500], Loss: 0.4753028154373169\n",
            "Epoch [54/1500], Loss: 0.5073185563087463\n",
            "Epoch [56/1500], Loss: 0.45875412225723267\n",
            "Epoch [58/1500], Loss: 0.513476550579071\n",
            "Epoch [60/1500], Loss: 0.40044066309928894\n",
            "Epoch [62/1500], Loss: 0.4345703423023224\n",
            "Epoch [64/1500], Loss: 0.500596284866333\n",
            "Epoch [66/1500], Loss: 0.4612077474594116\n",
            "Epoch [68/1500], Loss: 0.5202685594558716\n",
            "Epoch [70/1500], Loss: 0.48167097568511963\n",
            "Epoch [72/1500], Loss: 0.3979617953300476\n",
            "Epoch [74/1500], Loss: 0.38087379932403564\n",
            "Epoch [76/1500], Loss: 0.454604834318161\n",
            "Epoch [78/1500], Loss: 0.4642258584499359\n",
            "Epoch [80/1500], Loss: 0.4282241463661194\n",
            "Epoch [82/1500], Loss: 0.37968528270721436\n",
            "Epoch [84/1500], Loss: 0.3985520303249359\n",
            "Epoch [86/1500], Loss: 0.4885219633579254\n",
            "Epoch [88/1500], Loss: 0.4123763144016266\n",
            "Epoch [90/1500], Loss: 0.48398399353027344\n",
            "Epoch [92/1500], Loss: 0.44690510630607605\n",
            "Epoch [94/1500], Loss: 0.4370892345905304\n",
            "Epoch [96/1500], Loss: 0.4708443582057953\n",
            "Epoch [98/1500], Loss: 0.3987836539745331\n",
            "Epoch [100/1500], Loss: 0.41163963079452515\n",
            "Epoch [102/1500], Loss: 0.45750245451927185\n",
            "Epoch [104/1500], Loss: 0.47319722175598145\n",
            "Epoch [106/1500], Loss: 0.3888914883136749\n",
            "Epoch [108/1500], Loss: 0.39742743968963623\n",
            "Epoch [110/1500], Loss: 0.4342769980430603\n",
            "Epoch [112/1500], Loss: 0.4151010811328888\n",
            "Epoch [114/1500], Loss: 0.3655439019203186\n",
            "Epoch [116/1500], Loss: 0.3557811975479126\n",
            "Epoch [118/1500], Loss: 0.369271844625473\n",
            "Epoch [120/1500], Loss: 0.32551345229148865\n",
            "Epoch [122/1500], Loss: 0.38387900590896606\n",
            "Epoch [124/1500], Loss: 0.3795045018196106\n",
            "Epoch [126/1500], Loss: 0.3291473090648651\n",
            "Epoch [128/1500], Loss: 0.41893136501312256\n",
            "Epoch [130/1500], Loss: 0.39281439781188965\n",
            "Epoch [132/1500], Loss: 0.4236254096031189\n",
            "Epoch [134/1500], Loss: 0.414386510848999\n",
            "Epoch [136/1500], Loss: 0.4158748686313629\n",
            "Epoch [138/1500], Loss: 0.2980634570121765\n",
            "Epoch [140/1500], Loss: 0.3960181474685669\n",
            "Epoch [142/1500], Loss: 0.43590298295021057\n",
            "Epoch [144/1500], Loss: 0.34209853410720825\n",
            "Epoch [146/1500], Loss: 0.40663015842437744\n",
            "Epoch [148/1500], Loss: 0.42851555347442627\n",
            "Epoch [150/1500], Loss: 0.3608931601047516\n",
            "Epoch [152/1500], Loss: 0.38646742701530457\n",
            "Epoch [154/1500], Loss: 0.4011085629463196\n",
            "Epoch [156/1500], Loss: 0.40726593136787415\n",
            "Epoch [158/1500], Loss: 0.35438063740730286\n",
            "Epoch [160/1500], Loss: 0.34892380237579346\n",
            "Epoch [162/1500], Loss: 0.4189085066318512\n",
            "Epoch [164/1500], Loss: 0.3820638358592987\n",
            "Epoch [166/1500], Loss: 0.3275342881679535\n",
            "Epoch [168/1500], Loss: 0.3510911464691162\n",
            "Epoch [170/1500], Loss: 0.3865549564361572\n",
            "Epoch [172/1500], Loss: 0.33824148774147034\n",
            "Epoch [174/1500], Loss: 0.35287511348724365\n",
            "Epoch [176/1500], Loss: 0.4213463068008423\n",
            "Epoch [178/1500], Loss: 0.3997175991535187\n",
            "Epoch [180/1500], Loss: 0.33260512351989746\n",
            "Epoch [182/1500], Loss: 0.3243996798992157\n",
            "Epoch [184/1500], Loss: 0.451790452003479\n",
            "Epoch [186/1500], Loss: 0.42529892921447754\n",
            "Epoch [188/1500], Loss: 0.4257274568080902\n",
            "Epoch [190/1500], Loss: 0.3477064073085785\n",
            "Epoch [192/1500], Loss: 0.3491397202014923\n",
            "Epoch [194/1500], Loss: 0.3430529832839966\n",
            "Epoch [196/1500], Loss: 0.35431504249572754\n",
            "Epoch [198/1500], Loss: 0.3392415940761566\n",
            "Epoch [200/1500], Loss: 0.3209322392940521\n",
            "Epoch [202/1500], Loss: 0.37813690304756165\n",
            "Epoch [204/1500], Loss: 0.3082895278930664\n",
            "patience exceeded, loading best model\n",
            "Epoch [2/1500], Loss: 0.6857550740242004\n",
            "Epoch [4/1500], Loss: 0.8611791729927063\n",
            "Epoch [6/1500], Loss: 0.8113773465156555\n",
            "Epoch [8/1500], Loss: 0.8795992136001587\n",
            "Epoch [10/1500], Loss: 0.6814118027687073\n",
            "Epoch [12/1500], Loss: 0.7452302575111389\n",
            "Epoch [14/1500], Loss: 0.6490627527236938\n",
            "Epoch [16/1500], Loss: 0.7206605672836304\n",
            "Epoch [18/1500], Loss: 0.7013305425643921\n",
            "Epoch [20/1500], Loss: 0.5187719464302063\n",
            "Epoch [22/1500], Loss: 0.6076382994651794\n",
            "Epoch [24/1500], Loss: 0.6700882911682129\n",
            "Epoch [26/1500], Loss: 0.6001793742179871\n",
            "Epoch [28/1500], Loss: 0.5603737831115723\n",
            "Epoch [30/1500], Loss: 0.5924317836761475\n",
            "Epoch [32/1500], Loss: 0.6097258925437927\n",
            "Epoch [34/1500], Loss: 0.46562156081199646\n",
            "Epoch [36/1500], Loss: 0.3838573396205902\n",
            "Epoch [38/1500], Loss: 0.4086426794528961\n",
            "Epoch [40/1500], Loss: 0.4939767122268677\n",
            "Epoch [42/1500], Loss: 0.4947768449783325\n",
            "Epoch [44/1500], Loss: 0.4933798611164093\n",
            "Epoch [46/1500], Loss: 0.5293880701065063\n",
            "Epoch [48/1500], Loss: 0.5385587215423584\n",
            "Epoch [50/1500], Loss: 0.38243281841278076\n",
            "Epoch [52/1500], Loss: 0.522213876247406\n",
            "Epoch [54/1500], Loss: 0.44562095403671265\n",
            "Epoch [56/1500], Loss: 0.43928730487823486\n",
            "Epoch [58/1500], Loss: 0.46962761878967285\n",
            "Epoch [60/1500], Loss: 0.41407543420791626\n",
            "Epoch [62/1500], Loss: 0.415012001991272\n",
            "Epoch [64/1500], Loss: 0.4652082920074463\n",
            "Epoch [66/1500], Loss: 0.4725101590156555\n",
            "Epoch [68/1500], Loss: 0.4342389404773712\n",
            "Epoch [70/1500], Loss: 0.4520634114742279\n",
            "Epoch [72/1500], Loss: 0.43907687067985535\n",
            "Epoch [74/1500], Loss: 0.4734329283237457\n",
            "Epoch [76/1500], Loss: 0.49954262375831604\n",
            "Epoch [78/1500], Loss: 0.480629563331604\n",
            "Epoch [80/1500], Loss: 0.42811548709869385\n",
            "Epoch [82/1500], Loss: 0.48892486095428467\n",
            "Epoch [84/1500], Loss: 0.4307084381580353\n",
            "Epoch [86/1500], Loss: 0.4146205484867096\n",
            "Epoch [88/1500], Loss: 0.4668112099170685\n",
            "Epoch [90/1500], Loss: 0.4174804985523224\n",
            "Epoch [92/1500], Loss: 0.4757867753505707\n",
            "Epoch [94/1500], Loss: 0.402082622051239\n",
            "Epoch [96/1500], Loss: 0.36345192790031433\n",
            "Epoch [98/1500], Loss: 0.445047527551651\n",
            "Epoch [100/1500], Loss: 0.44041574001312256\n",
            "Epoch [102/1500], Loss: 0.4204237759113312\n",
            "Epoch [104/1500], Loss: 0.438346266746521\n",
            "Epoch [106/1500], Loss: 0.42214417457580566\n",
            "Epoch [108/1500], Loss: 0.36640530824661255\n",
            "patience exceeded, loading best model\n",
            "Epoch [2/1500], Loss: 0.8333954811096191\n",
            "Epoch [4/1500], Loss: 0.8313766717910767\n",
            "Epoch [6/1500], Loss: 0.7235366702079773\n",
            "Epoch [8/1500], Loss: 0.7802886366844177\n",
            "Epoch [10/1500], Loss: 0.7706085443496704\n",
            "Epoch [12/1500], Loss: 0.7813953161239624\n",
            "Epoch [14/1500], Loss: 0.85565185546875\n",
            "Epoch [16/1500], Loss: 0.6947214007377625\n",
            "Epoch [18/1500], Loss: 0.5893188714981079\n",
            "Epoch [20/1500], Loss: 0.7296560406684875\n",
            "Epoch [22/1500], Loss: 0.5724127292633057\n",
            "Epoch [24/1500], Loss: 0.621436595916748\n",
            "Epoch [26/1500], Loss: 0.5311127305030823\n",
            "Epoch [28/1500], Loss: 0.595835268497467\n",
            "Epoch [30/1500], Loss: 0.5111121535301208\n",
            "Epoch [32/1500], Loss: 0.4777880012989044\n",
            "Epoch [34/1500], Loss: 0.5028173327445984\n",
            "Epoch [36/1500], Loss: 0.5557549595832825\n",
            "Epoch [38/1500], Loss: 0.4509546756744385\n",
            "Epoch [40/1500], Loss: 0.5346739888191223\n",
            "Epoch [42/1500], Loss: 0.47477009892463684\n",
            "Epoch [44/1500], Loss: 0.43612340092658997\n",
            "Epoch [46/1500], Loss: 0.41455569863319397\n",
            "Epoch [48/1500], Loss: 0.47284477949142456\n",
            "Epoch [50/1500], Loss: 0.4260999262332916\n",
            "Epoch [52/1500], Loss: 0.501147449016571\n",
            "Epoch [54/1500], Loss: 0.5076960921287537\n",
            "Epoch [56/1500], Loss: 0.5428265929222107\n",
            "Epoch [58/1500], Loss: 0.5117652416229248\n",
            "Epoch [60/1500], Loss: 0.526960015296936\n",
            "Epoch [62/1500], Loss: 0.4604838192462921\n",
            "Epoch [64/1500], Loss: 0.463629812002182\n",
            "Epoch [66/1500], Loss: 0.47479647397994995\n",
            "Epoch [68/1500], Loss: 0.4600723683834076\n",
            "Epoch [70/1500], Loss: 0.40335312485694885\n",
            "Epoch [72/1500], Loss: 0.48255911469459534\n",
            "Epoch [74/1500], Loss: 0.5056395530700684\n",
            "Epoch [76/1500], Loss: 0.46721401810646057\n",
            "Epoch [78/1500], Loss: 0.5152000188827515\n",
            "Epoch [80/1500], Loss: 0.4117370843887329\n",
            "Epoch [82/1500], Loss: 0.46859070658683777\n",
            "Epoch [84/1500], Loss: 0.4436166286468506\n",
            "Epoch [86/1500], Loss: 0.4606326222419739\n",
            "Epoch [88/1500], Loss: 0.518598198890686\n",
            "Epoch [90/1500], Loss: 0.4027349054813385\n",
            "Epoch [92/1500], Loss: 0.4666508436203003\n",
            "Epoch [94/1500], Loss: 0.38214775919914246\n",
            "Epoch [96/1500], Loss: 0.38504794239997864\n",
            "Epoch [98/1500], Loss: 0.32462021708488464\n",
            "Epoch [100/1500], Loss: 0.44966721534729004\n",
            "Epoch [102/1500], Loss: 0.3904150724411011\n",
            "Epoch [104/1500], Loss: 0.37166813015937805\n",
            "Epoch [106/1500], Loss: 0.4266643524169922\n",
            "Epoch [108/1500], Loss: 0.4266012907028198\n",
            "Epoch [110/1500], Loss: 0.43089544773101807\n",
            "Epoch [112/1500], Loss: 0.3838997185230255\n",
            "Epoch [114/1500], Loss: 0.3604731261730194\n",
            "Epoch [116/1500], Loss: 0.4594474732875824\n",
            "Epoch [118/1500], Loss: 0.4130697250366211\n",
            "Epoch [120/1500], Loss: 0.46281859278678894\n",
            "Epoch [122/1500], Loss: 0.34005776047706604\n",
            "Epoch [124/1500], Loss: 0.4212082326412201\n",
            "Epoch [126/1500], Loss: 0.38720497488975525\n",
            "Epoch [128/1500], Loss: 0.3832949697971344\n",
            "Epoch [130/1500], Loss: 0.3404242694377899\n",
            "Epoch [132/1500], Loss: 0.4722788333892822\n",
            "Epoch [134/1500], Loss: 0.3742489516735077\n",
            "Epoch [136/1500], Loss: 0.36346349120140076\n",
            "Epoch [138/1500], Loss: 0.3754643201828003\n",
            "Epoch [140/1500], Loss: 0.38361793756484985\n",
            "Epoch [142/1500], Loss: 0.3827180862426758\n",
            "Epoch [144/1500], Loss: 0.4575950503349304\n",
            "Epoch [146/1500], Loss: 0.3340575695037842\n",
            "Epoch [148/1500], Loss: 0.36299461126327515\n",
            "Epoch [150/1500], Loss: 0.3965859115123749\n",
            "Epoch [152/1500], Loss: 0.39422187209129333\n",
            "Epoch [154/1500], Loss: 0.3424835205078125\n",
            "Epoch [156/1500], Loss: 0.40364310145378113\n",
            "Epoch [158/1500], Loss: 0.36740702390670776\n",
            "Epoch [160/1500], Loss: 0.35813644528388977\n",
            "Epoch [162/1500], Loss: 0.34829315543174744\n",
            "Epoch [164/1500], Loss: 0.3749159574508667\n",
            "Epoch [166/1500], Loss: 0.36432862281799316\n",
            "Epoch [168/1500], Loss: 0.32570311427116394\n",
            "Epoch [170/1500], Loss: 0.3891196846961975\n",
            "Epoch [172/1500], Loss: 0.35531798005104065\n",
            "Epoch [174/1500], Loss: 0.4193011224269867\n",
            "Epoch [176/1500], Loss: 0.35076582431793213\n",
            "Epoch [178/1500], Loss: 0.41162750124931335\n",
            "Epoch [180/1500], Loss: 0.3484415113925934\n",
            "Epoch [182/1500], Loss: 0.32334819436073303\n",
            "Epoch [184/1500], Loss: 0.3822731077671051\n",
            "Epoch [186/1500], Loss: 0.2848856747150421\n",
            "Epoch [188/1500], Loss: 0.313583105802536\n",
            "Epoch [190/1500], Loss: 0.3449415862560272\n",
            "Epoch [192/1500], Loss: 0.2712953984737396\n",
            "Epoch [194/1500], Loss: 0.33803409337997437\n",
            "Epoch [196/1500], Loss: 0.30083850026130676\n",
            "Epoch [198/1500], Loss: 0.3917096257209778\n",
            "Epoch [200/1500], Loss: 0.3207855224609375\n",
            "Epoch [202/1500], Loss: 0.2784532308578491\n",
            "Epoch [204/1500], Loss: 0.31425151228904724\n",
            "Epoch [206/1500], Loss: 0.33477821946144104\n",
            "Epoch [208/1500], Loss: 0.33833274245262146\n",
            "Epoch [210/1500], Loss: 0.36282458901405334\n",
            "Epoch [212/1500], Loss: 0.37091174721717834\n",
            "Epoch [214/1500], Loss: 0.3097135126590729\n",
            "Epoch [216/1500], Loss: 0.30483630299568176\n",
            "Epoch [218/1500], Loss: 0.3422848582267761\n",
            "Epoch [220/1500], Loss: 0.36070895195007324\n",
            "Epoch [222/1500], Loss: 0.3003099262714386\n",
            "Epoch [224/1500], Loss: 0.29724982380867004\n",
            "patience exceeded, loading best model\n",
            "Epoch [2/1500], Loss: 0.8282817006111145\n",
            "Epoch [4/1500], Loss: 0.8336330652236938\n",
            "Epoch [6/1500], Loss: 0.6416457891464233\n",
            "Epoch [8/1500], Loss: 0.7979785203933716\n",
            "Epoch [10/1500], Loss: 0.8318940997123718\n",
            "Epoch [12/1500], Loss: 0.6706416606903076\n",
            "Epoch [14/1500], Loss: 0.7057168483734131\n",
            "Epoch [16/1500], Loss: 0.6551981568336487\n",
            "Epoch [18/1500], Loss: 0.6111273169517517\n",
            "Epoch [20/1500], Loss: 0.5701775550842285\n",
            "Epoch [22/1500], Loss: 0.6046056151390076\n",
            "Epoch [24/1500], Loss: 0.5859977006912231\n",
            "Epoch [26/1500], Loss: 0.5684302449226379\n",
            "Epoch [28/1500], Loss: 0.44046318531036377\n",
            "Epoch [30/1500], Loss: 0.557894766330719\n",
            "Epoch [32/1500], Loss: 0.5010506510734558\n",
            "Epoch [34/1500], Loss: 0.4803852438926697\n",
            "Epoch [36/1500], Loss: 0.4801909923553467\n",
            "Epoch [38/1500], Loss: 0.5620669722557068\n",
            "Epoch [40/1500], Loss: 0.4760023057460785\n",
            "Epoch [42/1500], Loss: 0.5505069494247437\n",
            "Epoch [44/1500], Loss: 0.48547881841659546\n",
            "Epoch [46/1500], Loss: 0.5436273217201233\n",
            "Epoch [48/1500], Loss: 0.42904162406921387\n",
            "Epoch [50/1500], Loss: 0.48361736536026\n",
            "Epoch [52/1500], Loss: 0.44064608216285706\n",
            "Epoch [54/1500], Loss: 0.5224671959877014\n",
            "Epoch [56/1500], Loss: 0.3956543207168579\n",
            "Epoch [58/1500], Loss: 0.4047123193740845\n",
            "Epoch [60/1500], Loss: 0.5485776662826538\n",
            "Epoch [62/1500], Loss: 0.3460739552974701\n",
            "Epoch [64/1500], Loss: 0.38055089116096497\n",
            "Epoch [66/1500], Loss: 0.5287118554115295\n",
            "Epoch [68/1500], Loss: 0.3686645030975342\n",
            "Epoch [70/1500], Loss: 0.43009093403816223\n",
            "Epoch [72/1500], Loss: 0.3579869568347931\n",
            "Epoch [74/1500], Loss: 0.38179001212120056\n",
            "Epoch [76/1500], Loss: 0.37567955255508423\n",
            "Epoch [78/1500], Loss: 0.4035273790359497\n",
            "Epoch [80/1500], Loss: 0.3860913813114166\n",
            "Epoch [82/1500], Loss: 0.39425140619277954\n",
            "Epoch [84/1500], Loss: 0.3693103790283203\n",
            "Epoch [86/1500], Loss: 0.39206135272979736\n",
            "Epoch [88/1500], Loss: 0.3953554630279541\n",
            "Epoch [90/1500], Loss: 0.35582074522972107\n",
            "Epoch [92/1500], Loss: 0.37941455841064453\n",
            "Epoch [94/1500], Loss: 0.41217684745788574\n",
            "Epoch [96/1500], Loss: 0.4173845648765564\n",
            "Epoch [98/1500], Loss: 0.39673489332199097\n",
            "Epoch [100/1500], Loss: 0.4217880368232727\n",
            "Epoch [102/1500], Loss: 0.3859243392944336\n",
            "Epoch [104/1500], Loss: 0.4032183885574341\n",
            "Epoch [106/1500], Loss: 0.39498209953308105\n",
            "Epoch [108/1500], Loss: 0.37149620056152344\n",
            "Epoch [110/1500], Loss: 0.33893322944641113\n",
            "Epoch [112/1500], Loss: 0.3672632575035095\n",
            "Epoch [114/1500], Loss: 0.37270984053611755\n",
            "Epoch [116/1500], Loss: 0.37364161014556885\n",
            "Epoch [118/1500], Loss: 0.3780063986778259\n",
            "Epoch [120/1500], Loss: 0.33595114946365356\n",
            "Epoch [122/1500], Loss: 0.3349083662033081\n",
            "Epoch [124/1500], Loss: 0.44036853313446045\n",
            "Epoch [126/1500], Loss: 0.3252389430999756\n",
            "Epoch [128/1500], Loss: 0.3430568277835846\n",
            "Epoch [130/1500], Loss: 0.3509627878665924\n",
            "Epoch [132/1500], Loss: 0.3808192014694214\n",
            "Epoch [134/1500], Loss: 0.37035292387008667\n",
            "Epoch [136/1500], Loss: 0.25776907801628113\n",
            "Epoch [138/1500], Loss: 0.3930608630180359\n",
            "Epoch [140/1500], Loss: 0.3919026553630829\n",
            "Epoch [142/1500], Loss: 0.38138291239738464\n",
            "Epoch [144/1500], Loss: 0.3092116117477417\n",
            "Epoch [146/1500], Loss: 0.3168659508228302\n",
            "Epoch [148/1500], Loss: 0.3367949426174164\n",
            "Epoch [150/1500], Loss: 0.3878879249095917\n",
            "Epoch [152/1500], Loss: 0.33141380548477173\n",
            "Epoch [154/1500], Loss: 0.37547603249549866\n",
            "Epoch [156/1500], Loss: 0.37923046946525574\n",
            "Epoch [158/1500], Loss: 0.3901672065258026\n",
            "Epoch [160/1500], Loss: 0.3404434323310852\n",
            "patience exceeded, loading best model\n",
            "Average accuracy: 0.43387285\n",
            "Average top_k_average_accuracies 0.99776715\n"
          ]
        }
      ],
      "source": [
        "# prompt: train and test my model on the Xs and ys in a 10 fold cross validation\n",
        "from sklearn.neighbors import KNeighborsRegressor\n",
        "\n",
        "from sklearn.metrics import mean_squared_error\n",
        "from sklearn.preprocessing import StandardScaler\n",
        "\n",
        "# Split data into 10 folds\n",
        "k_fold = KFold(n_splits=10, shuffle = True,random_state = None)\n",
        "# Scale data, not enabled right now.\n",
        "# scaler = StandardScaler()\n",
        "# scaler.fit(Xs)\n",
        "# Xs = scaler.transform(Xs)\n",
        "\n",
        "# Train and test model on each fold\n",
        "best_model = None\n",
        "PATH = 'best_regressor_model.h5'\n",
        "best_accuracy = None\n",
        "best_accuracies = []\n",
        "accuracies = []\n",
        "top_k_average_accuracies = []\n",
        "knn_accuracies = []\n",
        "count = 0\n",
        "for train_index, test_index in k_fold.split(Xs):\n",
        "  # Get training and testing data\n",
        "  X_train, X_test = Xs[train_index], Xs[test_index]\n",
        "  y_train, y_test = ys[train_index], ys[test_index]\n",
        "\n",
        "  # lmnn = metric_learn.MLKR()\n",
        "  # lmnn.fit(X_train,y_train)\n",
        "  # knn = KNeighborsRegressor(n_neighbors=5,metric=lmnn.get_metric())\n",
        "  # knn.fit(X_train,y_train)\n",
        "  # knn_accuracies.append( accuracy_score(knn.predict(X_test), y_test))\n",
        "\n",
        "  # continue\n",
        "\n",
        "  #build a train loader with my X_train and X_test\n",
        "  train_loader = torch.utils.data.DataLoader(torch.utils.data.TensorDataset(X_train, y_train), batch_size=batch_size, shuffle=True)\n",
        "\n",
        "  # Train model\n",
        "  model = NN_k_NN_regression(X_train, y_train,\n",
        "               fa_weight_sharing_within_segment,\n",
        "               fa_weight_sharing_between_segment,\n",
        "               ca_weight_sharing,\n",
        "               top_case_enabled, top_k,\n",
        "               class_weight_sharing,\n",
        "                             hidden_layers)\n",
        "  # model = model.to(dev)\n",
        "  # print(\"number of parameters in model: \",len(list(model.parameters())))\n",
        "  # optimizer = torch.optim.SGD(model.parameters(), lr=learning_rate)\n",
        "  optimizer = torch.optim.Adam(model.parameters(), lr=learning_rate) #, weight_decay=1e-5)\n",
        "  # print_model_features(model)\n",
        "  #Training loop\n",
        "  patience_counter = 0\n",
        "  for epoch in range(training_epochs):\n",
        "    # break # no training\n",
        "    epoch_msg = True\n",
        "    for X_train_batch, y_train_batch in train_loader:\n",
        "      # print(\"training\")\n",
        "      ##DO NOT USE train() or eval() mode for regression\n",
        "      ##top k selection will mess up the final layer output\n",
        "      ##unlike in classification, each case's output is meaningful\n",
        "      ##here in regresion, the collective output is meaningful.\n",
        "      ## So if you topK case selection needs to be enabled or disabled the whole time.\n",
        "      model.train()\n",
        "      feature_activations, case_activations, predicted_number = model(X_train_batch)\n",
        "      # break\n",
        "      loss = criterion(predicted_number.squeeze(), y_train_batch)\n",
        "      # Backward and optimize\n",
        "      optimizer.zero_grad()\n",
        "      loss.backward()\n",
        "      optimizer.step()\n",
        "      if epoch_msg and (epoch + 1) % 2 == 0:\n",
        "        epoch_msg = False\n",
        "        print(f'Epoch [{epoch + 1}/{training_epochs}], Loss: {loss.item()}')\n",
        "        #inspecting the case activations\n",
        "        # top_case_indices = torch.topk(case_activations, 5, dim=1)[1]\n",
        "        # print(top_case_indices)\n",
        "    # print(\"evaluating\")\n",
        "    # break\n",
        "\n",
        "    model.eval()\n",
        "    with torch.no_grad():\n",
        "      feature_activations, case_activations, predicted_number = model(X_test)\n",
        "\n",
        "    # inspecting the case activations\n",
        "    # top_case_indices = torch.topk(case_activations, 5, dim=1)[1]\n",
        "    # print(top_case_indices)\n",
        "\n",
        "    # Calculate accuracy\n",
        "    # accuracy_temp = mean_squared_error(y_test, predicted_number.squeeze().detach())\n",
        "    accuracy_temp = criterion(y_test, predicted_number.squeeze().detach())\n",
        "    if epoch == 0:\n",
        "      best_accuracy = accuracy_temp\n",
        "      torch.save(model.state_dict(), PATH)\n",
        "    elif accuracy_temp < best_accuracy:\n",
        "      #memorize best model\n",
        "      torch.save(model.state_dict(), PATH)\n",
        "\n",
        "      best_accuracy = accuracy_temp\n",
        "      patience_counter = 0\n",
        "    elif patience_counter > patience:\n",
        "      model = NN_k_NN_regression(X_train, y_train,\n",
        "               fa_weight_sharing_within_segment,\n",
        "               fa_weight_sharing_between_segment,\n",
        "               ca_weight_sharing,\n",
        "               top_case_enabled, top_k,\n",
        "               class_weight_sharing)\n",
        "      model.load_state_dict(torch.load(PATH))\n",
        "      model.eval()\n",
        "      print(\"patience exceeded, loading best model\")\n",
        "      break\n",
        "    else:\n",
        "      patience_counter += 1\n",
        "    # temp.append(accuracy_temp)\n",
        "    # if len(temp) > patience and accuracy_temp > min(temp[-patience:]):\n",
        "    #   ##patience runs out\n",
        "    #   break\n",
        "  # best_accuracies.append(min(temp))\n",
        "  best_accuracies.append(best_accuracy)\n",
        "\n",
        "  # print(\"testing\")\n",
        "  # print_model_features(model)\n",
        "  # Test model\n",
        "  feature_activations, case_activations, predicted_number = model(X_test)\n",
        "\n",
        "  #inspecting the case activations\n",
        "  top_case_indices = torch.topk(case_activations, 5, dim=1)[1]\n",
        "  # print(top_case_indices)\n",
        "\n",
        "  # Using top case solution as final solution\n",
        "  # Calculate accuracy\n",
        "  # accuracy = mean_squared_error(y_test, predicted_number)\n",
        "  accuracy = criterion(y_test, predicted_number.squeeze())\n",
        "  # Add accuracy to list\n",
        "  accuracies.append(accuracy)\n",
        "\n",
        "  top_k_average_accuracies.append(mean_squared_error(torch.mean(y_train[top_case_indices], dim=1),\n",
        "                                                     y_test))\n",
        "\n",
        "  ##compare with a normal k-nn\n",
        "  knn =  KNeighborsRegressor(n_neighbors=top_k)\n",
        "  knn.fit(X_train, y_train)\n",
        "  knn_accuracies.append( mean_squared_error(knn.predict(X_test), y_test))\n",
        "\n",
        "  # break\n",
        "  # count += 1\n",
        "  # if count == 5:\n",
        "  #   break\n",
        "\n",
        "# Print average accuracy\n",
        "# print(\"Average accuracy:\", np.mean(accuracies.detach().numpy()))\n",
        "print(\"Average accuracy:\", np.mean([acc.detach().numpy() for acc in accuracies]))\n",
        "\n",
        "# print(\"Average top_k_average_accuracies\", np.mean(top_k_average_accuracies))\n",
        "print(\"Average top_k_average_accuracies\", np.mean(top_k_average_accuracies))\n",
        "# torch.cat(torch.mean(top_k_average_accuracies)).item())"
      ]
    },
    {
      "cell_type": "code",
      "source": [
        "print(np.mean(knn_accuracies))"
      ],
      "metadata": {
        "id": "smeb3Z1O2RRP",
        "colab": {
          "base_uri": "https://localhost:8080/"
        },
        "outputId": "ed38c25b-345f-48a5-c82e-2983bdf16c3c"
      },
      "execution_count": null,
      "outputs": [
        {
          "output_type": "stream",
          "name": "stdout",
          "text": [
            "0.592213\n"
          ]
        }
      ]
    },
    {
      "cell_type": "code",
      "execution_count": null,
      "metadata": {
        "id": "1kiHFacefPBC",
        "colab": {
          "base_uri": "https://localhost:8080/"
        },
        "outputId": "e5e66109-a465-4279-cca2-ae6cfec94bcf"
      },
      "outputs": [
        {
          "output_type": "execute_result",
          "data": {
            "text/plain": [
              "torch.Size([10])"
            ]
          },
          "metadata": {},
          "execution_count": 185
        }
      ],
      "source": [
        "X_train[0].size()"
      ]
    },
    {
      "cell_type": "code",
      "execution_count": null,
      "metadata": {
        "id": "shTwkGdc2bDV"
      },
      "outputs": [],
      "source": [
        "# top_k_average_accuracies.append(mean_squared_error(torch.mean(y_train[top_case_indices], dim=1),\n",
        "#                                                      y_test))"
      ]
    },
    {
      "cell_type": "code",
      "execution_count": null,
      "metadata": {
        "id": "guA1k-Fd490p",
        "colab": {
          "base_uri": "https://localhost:8080/"
        },
        "outputId": "025bfeb9-3769-46c3-e52e-863145a22735"
      },
      "outputs": [
        {
          "output_type": "execute_result",
          "data": {
            "text/plain": [
              "device(type='cpu')"
            ]
          },
          "metadata": {},
          "execution_count": 187
        }
      ],
      "source": [
        "predicted_number.device"
      ]
    },
    {
      "cell_type": "code",
      "execution_count": null,
      "metadata": {
        "id": "muGHh0IpcSF7",
        "colab": {
          "base_uri": "https://localhost:8080/"
        },
        "outputId": "32ae5869-b2be-4575-8f8d-baf734b5653c"
      },
      "outputs": [
        {
          "output_type": "execute_result",
          "data": {
            "text/plain": [
              "tensor([ 0.8590, -0.2511, -0.1026,  1.2135,  1.0687, -0.7840,  1.2388,  1.1695,\n",
              "        -1.0307,  0.4343,  0.3279, -0.3448, -0.2235,  0.1660,  0.0145, -1.1071,\n",
              "         0.8048,  0.9167,  0.2146,  0.0121, -1.4749, -1.1777, -0.2260, -0.0639],\n",
              "       grad_fn=<MvBackward0>)"
            ]
          },
          "metadata": {},
          "execution_count": 188
        }
      ],
      "source": [
        "predicted_number"
      ]
    },
    {
      "cell_type": "code",
      "execution_count": null,
      "metadata": {
        "id": "h1mhapnXSVsH",
        "colab": {
          "base_uri": "https://localhost:8080/"
        },
        "outputId": "196468b0-3c26-4a6b-b259-c30fe0865d57"
      },
      "outputs": [
        {
          "output_type": "execute_result",
          "data": {
            "text/plain": [
              "device(type='cpu')"
            ]
          },
          "metadata": {},
          "execution_count": 189
        }
      ],
      "source": [
        "model.cases.device"
      ]
    },
    {
      "cell_type": "code",
      "execution_count": null,
      "metadata": {
        "id": "9nBkRvYdcWEc",
        "colab": {
          "base_uri": "https://localhost:8080/"
        },
        "outputId": "f72d4537-a7f5-4e17-f887-633c0e6bbc96"
      },
      "outputs": [
        {
          "output_type": "execute_result",
          "data": {
            "text/plain": [
              "device(type='cpu')"
            ]
          },
          "metadata": {},
          "execution_count": 190
        }
      ],
      "source": [
        "X_test.device"
      ]
    },
    {
      "cell_type": "code",
      "execution_count": null,
      "metadata": {
        "id": "1m0Dco_SOHMb"
      },
      "outputs": [],
      "source": []
    },
    {
      "cell_type": "code",
      "execution_count": null,
      "metadata": {
        "id": "dW_Fy4y1WqNx",
        "colab": {
          "base_uri": "https://localhost:8080/"
        },
        "outputId": "063d5d53-13b5-41ca-b1cc-1eb68a2bc504"
      },
      "outputs": [
        {
          "output_type": "execute_result",
          "data": {
            "text/plain": [
              "[tensor(0.4533),\n",
              " tensor(0.3362),\n",
              " tensor(0.3708),\n",
              " tensor(0.3828),\n",
              " tensor(0.3325),\n",
              " tensor(0.5644),\n",
              " tensor(0.4630),\n",
              " tensor(0.4585),\n",
              " tensor(0.3124),\n",
              " tensor(0.6648)]"
            ]
          },
          "metadata": {},
          "execution_count": 191
        }
      ],
      "source": [
        "best_accuracies"
      ]
    },
    {
      "cell_type": "code",
      "execution_count": null,
      "metadata": {
        "id": "apW8H37ZmIUn",
        "colab": {
          "base_uri": "https://localhost:8080/"
        },
        "outputId": "dec304b6-6b9f-4497-dc8a-1cf204ffb5fd"
      },
      "outputs": [
        {
          "output_type": "execute_result",
          "data": {
            "text/plain": [
              "[0.8717186,\n",
              " 1.2572063,\n",
              " 0.7170766,\n",
              " 1.1177417,\n",
              " 0.5962,\n",
              " 1.3180887,\n",
              " 0.98034114,\n",
              " 1.045724,\n",
              " 0.6749353,\n",
              " 1.3986393]"
            ]
          },
          "metadata": {},
          "execution_count": 192
        }
      ],
      "source": [
        "top_k_average_accuracies"
      ]
    },
    {
      "cell_type": "code",
      "execution_count": null,
      "metadata": {
        "id": "f8DchB3qkqAx",
        "colab": {
          "base_uri": "https://localhost:8080/"
        },
        "outputId": "ddb9083c-b014-4229-97f6-b52fc50e1ce6"
      },
      "outputs": [
        {
          "output_type": "stream",
          "name": "stdout",
          "text": [
            "Average top_k_average_accuracies 0.99776715\n"
          ]
        }
      ],
      "source": [
        "# print(\"Average top_k_average_accuracies\", torch.stack(torch.mean(top_k_average_accuracies)).item())\n",
        "print(\"Average top_k_average_accuracies\", np.mean(top_k_average_accuracies))\n"
      ]
    },
    {
      "cell_type": "code",
      "execution_count": null,
      "metadata": {
        "id": "Ooy_sIumpQEr"
      },
      "outputs": [],
      "source": [
        "tens_1 = torch.Tensor([[10, 20], [30, 40]])\n",
        "tens_2 = torch.Tensor([[2], [4]])"
      ]
    },
    {
      "cell_type": "code",
      "execution_count": null,
      "metadata": {
        "id": "y9nYCnL7pTZ7",
        "colab": {
          "base_uri": "https://localhost:8080/"
        },
        "outputId": "2de1c33e-30ff-4b0c-8579-71e48512c8a0"
      },
      "outputs": [
        {
          "output_type": "execute_result",
          "data": {
            "text/plain": [
              "tensor([[ 20.,  40.],\n",
              "        [120., 160.]])"
            ]
          },
          "metadata": {},
          "execution_count": 195
        }
      ],
      "source": [
        "tens_1 * tens_2"
      ]
    },
    {
      "cell_type": "code",
      "execution_count": null,
      "metadata": {
        "id": "lehnuufypYMa",
        "colab": {
          "base_uri": "https://localhost:8080/"
        },
        "outputId": "5f1ac9dd-2295-4488-b114-904fe23ec6ab"
      },
      "outputs": [
        {
          "output_type": "execute_result",
          "data": {
            "text/plain": [
              "tensor([[ 20.,  40.],\n",
              "        [120., 160.]])"
            ]
          },
          "metadata": {},
          "execution_count": 196
        }
      ],
      "source": [
        "torch.mul(tens_1, tens_2)"
      ]
    },
    {
      "cell_type": "code",
      "execution_count": null,
      "metadata": {
        "id": "ZWRu_gbNI5NA"
      },
      "outputs": [],
      "source": []
    },
    {
      "cell_type": "code",
      "execution_count": null,
      "metadata": {
        "id": "QuNUzhWmpa7f",
        "colab": {
          "base_uri": "https://localhost:8080/"
        },
        "outputId": "6a3e2a71-2d0e-4f4e-885d-73b15bba395c"
      },
      "outputs": [
        {
          "output_type": "execute_result",
          "data": {
            "text/plain": [
              "tensor([[100.],\n",
              "        [220.]])"
            ]
          },
          "metadata": {},
          "execution_count": 197
        }
      ],
      "source": [
        "torch.matmul(tens_1, tens_2)"
      ]
    },
    {
      "cell_type": "code",
      "execution_count": null,
      "metadata": {
        "id": "fvDGfi_Rp1mz",
        "colab": {
          "base_uri": "https://localhost:8080/"
        },
        "outputId": "f6c79efb-db86-466a-8750-84ce255a5265"
      },
      "outputs": [
        {
          "output_type": "execute_result",
          "data": {
            "text/plain": [
              "tensor([ 60., 280.])"
            ]
          },
          "metadata": {},
          "execution_count": 198
        }
      ],
      "source": [
        "torch.sum(tens_1 * tens_2, dim=1)"
      ]
    },
    {
      "cell_type": "code",
      "execution_count": null,
      "metadata": {
        "id": "NS1hCvnB44zl",
        "colab": {
          "base_uri": "https://localhost:8080/"
        },
        "outputId": "ca85b221-b65d-49a7-c00b-3f696ebcd521"
      },
      "outputs": [
        {
          "output_type": "execute_result",
          "data": {
            "text/plain": [
              "array([ 0.9435383 , -0.51429   ,  0.57908124,  1.0349183 ,  0.8712851 ,\n",
              "       -0.7321125 ,  1.2527446 ,  0.32300663, -0.9425009 ,  0.5812067 ,\n",
              "        0.56208   , -0.5047266 ,  0.12962064, -0.19870977, -0.36659393,\n",
              "       -0.49197635,  0.30494398,  0.6300849 ,  0.42607412, -0.72042495,\n",
              "       -1.2803947 , -0.53660357, -0.87555873, -0.8341185 ], dtype=float32)"
            ]
          },
          "metadata": {},
          "execution_count": 199
        }
      ],
      "source": [
        "knn.predict(X_test)"
      ]
    },
    {
      "cell_type": "code",
      "execution_count": null,
      "metadata": {
        "id": "9d60j7sj46Ar",
        "colab": {
          "base_uri": "https://localhost:8080/"
        },
        "outputId": "a6ae7c9f-ee18-4cfa-eb20-f4b004b232b2"
      },
      "outputs": [
        {
          "output_type": "execute_result",
          "data": {
            "text/plain": [
              "tensor([ 1.5524, -0.2965, -0.2593,  0.3729,  0.1232, -0.6524,  0.6226,  1.5258,\n",
              "        -1.0881,  1.2177,  1.1911,  2.2856, -0.2911, -0.1636,  0.1711, -0.7693,\n",
              "        -0.4080,  0.4526, -0.8384,  0.7661, -1.3643, -1.2049,  0.4261,  0.9308])"
            ]
          },
          "metadata": {},
          "execution_count": 200
        }
      ],
      "source": [
        "y_test"
      ]
    },
    {
      "cell_type": "code",
      "execution_count": null,
      "metadata": {
        "id": "pclYFL115U-Y"
      },
      "outputs": [],
      "source": [
        "from sklearn.metrics import mean_squared_error\n",
        "mse = mean_squared_error(knn.predict(X_test), y_test)\n"
      ]
    },
    {
      "cell_type": "code",
      "execution_count": null,
      "metadata": {
        "id": "Ik_1t2154sZ9",
        "colab": {
          "base_uri": "https://localhost:8080/"
        },
        "outputId": "8cc3751b-9ea9-4da3-8bbd-47074b09c32c"
      },
      "outputs": [
        {
          "output_type": "execute_result",
          "data": {
            "text/plain": [
              "0.94716805"
            ]
          },
          "metadata": {},
          "execution_count": 202
        }
      ],
      "source": [
        "mse"
      ]
    },
    {
      "cell_type": "code",
      "execution_count": null,
      "metadata": {
        "id": "517-keElDvpV",
        "colab": {
          "base_uri": "https://localhost:8080/"
        },
        "outputId": "069837a4-f288-43a3-bf9f-b58999dab5ac"
      },
      "outputs": [
        {
          "output_type": "execute_result",
          "data": {
            "text/plain": [
              "RegressionActivation_3_Layer()"
            ]
          },
          "metadata": {},
          "execution_count": 203
        }
      ],
      "source": [
        "model.class_layer"
      ]
    },
    {
      "cell_type": "code",
      "execution_count": null,
      "metadata": {
        "id": "kWU8UiHDD_PO"
      },
      "outputs": [],
      "source": [
        "# model.class_layer.weight.shape"
      ]
    },
    {
      "cell_type": "code",
      "execution_count": null,
      "metadata": {
        "id": "M3Eu3P0zELJ4"
      },
      "outputs": [],
      "source": [
        "# model.class_layer"
      ]
    },
    {
      "cell_type": "code",
      "execution_count": null,
      "metadata": {
        "id": "BvZmmgJaXd85",
        "colab": {
          "base_uri": "https://localhost:8080/"
        },
        "outputId": "1ada6d38-6e32-4358-b3f4-b2a34c0579f3"
      },
      "outputs": [
        {
          "output_type": "stream",
          "name": "stdout",
          "text": [
            "2838\n"
          ]
        }
      ],
      "source": [
        "print(sum(p.numel() for p in model.parameters()))"
      ]
    },
    {
      "cell_type": "markdown",
      "metadata": {
        "id": "koSz4phP7J0z"
      },
      "source": [
        "#Results"
      ]
    },
    {
      "cell_type": "markdown",
      "metadata": {
        "id": "LYQCH4N6I8zO"
      },
      "source": [
        "##Result look up"
      ]
    },
    {
      "cell_type": "code",
      "execution_count": null,
      "metadata": {
        "colab": {
          "base_uri": "https://localhost:8080/"
        },
        "id": "6gARxSXiq-_W",
        "outputId": "98bdc9c2-499c-4568-a6f5-c4aa853fc2ce"
      },
      "outputs": [
        {
          "output_type": "stream",
          "name": "stdout",
          "text": [
            "fa_layer.f1weight\n",
            "tensor([0.2030, 0.1868])\n",
            "fa_layer.layer1.weight\n",
            "tensor([[-0.0018, -0.0747],\n",
            "        [-0.3963,  0.5785],\n",
            "        [-0.0224, -0.5366],\n",
            "        [-0.0434,  0.5925]])\n",
            "fa_layer.layer1.bias\n",
            "tensor([ 0.4317, -0.2874,  0.3923, -0.2067])\n",
            "fa_layer.layer2.weight\n",
            "tensor([[ 0.4153, -0.3496,  0.2090,  0.3790],\n",
            "        [ 0.3129,  0.2788, -0.4245,  0.0112]])\n",
            "fa_layer.layer2.bias\n",
            "tensor([ 0.0168, -0.2969])\n",
            "ca_layer.fa_weight\n",
            "tensor([[1.2816, 1.2769],\n",
            "        [1.3401, 1.3018],\n",
            "        [1.2851, 0.3914],\n",
            "        [1.3115, 0.2436],\n",
            "        [1.3630, 0.5401],\n",
            "        [1.3629, 0.5403],\n",
            "        [1.3164, 0.4516],\n",
            "        [1.3097, 0.2454],\n",
            "        [1.2775, 0.3264],\n",
            "        [1.3210, 1.3003],\n",
            "        [1.3450, 0.7852],\n",
            "        [1.3189, 0.8448],\n",
            "        [1.4404, 0.0128],\n",
            "        [1.4400, 0.1882],\n",
            "        [1.4362, 0.2318],\n",
            "        [1.4084, 0.4315],\n",
            "        [1.3774, 0.5798],\n",
            "        [1.3440, 0.5473],\n",
            "        [1.4022, 0.4256],\n",
            "        [1.3949, 0.5004],\n",
            "        [1.3484, 0.4078],\n",
            "        [1.3953, 0.4760],\n",
            "        [1.3781, 1.3397],\n",
            "        [1.3447, 1.1057],\n",
            "        [1.3829, 0.4703],\n",
            "        [1.3714, 0.7756],\n",
            "        [1.3238, 0.5083],\n",
            "        [1.3040, 0.6010],\n",
            "        [1.3457, 0.6570],\n",
            "        [1.4423, 0.6498],\n",
            "        [1.3789, 0.4359],\n",
            "        [1.3526, 0.7965],\n",
            "        [1.3730, 0.3331],\n",
            "        [1.3692, 0.3108],\n",
            "        [1.3798, 0.5511],\n",
            "        [1.4222, 1.3351],\n",
            "        [1.3857, 0.2869],\n",
            "        [1.3861, 1.3151],\n",
            "        [1.3669, 0.4239],\n",
            "        [1.3979, 0.3033],\n",
            "        [1.4052, 0.1527],\n",
            "        [1.3914, 0.3454],\n",
            "        [1.3549, 0.8073],\n",
            "        [1.4045, 0.4885],\n",
            "        [1.4173, 0.0911],\n",
            "        [1.3488, 1.3399],\n",
            "        [1.4023, 0.3986],\n",
            "        [1.4283, 0.1338],\n",
            "        [1.4254, 0.5361],\n",
            "        [1.4085, 0.2190],\n",
            "        [1.3706, 0.8415],\n",
            "        [1.3628, 0.1383],\n",
            "        [1.3725, 0.3413],\n",
            "        [1.3815, 0.2980],\n",
            "        [1.3786, 0.0920],\n",
            "        [1.3673, 0.3089],\n",
            "        [1.2998, 1.2817],\n",
            "        [1.4079, 0.4621],\n",
            "        [1.3686, 0.4329],\n",
            "        [1.4246, 0.5028],\n",
            "        [1.3144, 1.3100],\n",
            "        [1.4020, 0.3004],\n",
            "        [1.3329, 0.4726],\n",
            "        [1.3342, 0.4319],\n",
            "        [1.4237, 0.3032],\n",
            "        [1.3727, 0.5162],\n",
            "        [1.3811, 0.4115],\n",
            "        [1.4019, 0.2965],\n",
            "        [1.4007, 0.1145],\n",
            "        [1.3946, 1.3697],\n",
            "        [1.4032, 0.1346],\n",
            "        [1.3748, 0.3574],\n",
            "        [1.3181, 0.4075],\n",
            "        [1.3272, 0.4463],\n",
            "        [1.3920, 1.3810],\n",
            "        [1.3111, 0.5417],\n",
            "        [1.3186, 0.6679],\n",
            "        [1.4109, 0.4810],\n",
            "        [1.3514, 0.4089],\n",
            "        [1.3367, 0.4611],\n",
            "        [1.3610, 1.2930],\n",
            "        [0.9626, 0.4833],\n",
            "        [1.4152, 0.1555],\n",
            "        [1.3933, 0.4278],\n",
            "        [1.3769, 0.4225],\n",
            "        [1.3862, 0.4469],\n",
            "        [1.4126, 0.4340],\n",
            "        [1.3949, 0.4410],\n",
            "        [1.3847, 0.4459],\n",
            "        [1.0761, 0.4447],\n",
            "        [1.5302, 0.8646],\n",
            "        [0.8038, 0.3348],\n",
            "        [1.9874, 1.1438],\n",
            "        [1.9022, 1.1941],\n",
            "        [1.4502, 1.4664],\n",
            "        [1.6433, 0.7915],\n",
            "        [1.4697, 0.6807],\n",
            "        [0.8536, 0.6907],\n",
            "        [1.7330, 1.5867],\n",
            "        [0.4899, 1.3759],\n",
            "        [0.4206, 1.3417],\n",
            "        [0.2214, 1.3989],\n",
            "        [0.3745, 1.3978],\n",
            "        [0.2217, 1.3952],\n",
            "        [0.5167, 1.3778],\n",
            "        [1.3256, 1.3485],\n",
            "        [0.3889, 1.4371],\n",
            "        [0.4526, 1.4383],\n",
            "        [0.4484, 1.4126],\n",
            "        [0.6176, 1.3923],\n",
            "        [0.4925, 1.4209],\n",
            "        [0.4753, 1.4214],\n",
            "        [0.3755, 1.4411],\n",
            "        [1.5758, 1.7477],\n",
            "        [0.5135, 1.4307],\n",
            "        [0.2605, 1.3957],\n",
            "        [0.5726, 1.4083],\n",
            "        [0.6643, 1.4109],\n",
            "        [0.3466, 1.4139],\n",
            "        [0.4555, 1.3756],\n",
            "        [0.3307, 1.4235],\n",
            "        [0.6779, 1.4341],\n",
            "        [1.2630, 1.2551],\n",
            "        [0.0208, 1.4615],\n",
            "        [0.4526, 1.3681],\n",
            "        [1.3839, 1.4574],\n",
            "        [0.2991, 1.4295],\n",
            "        [0.3335, 1.4280],\n",
            "        [0.4507, 1.4161],\n",
            "        [1.1133, 1.9106],\n",
            "        [0.5258, 1.3507],\n",
            "        [0.3355, 1.4291],\n",
            "        [1.1062, 1.7488],\n",
            "        [0.4788, 1.4159],\n",
            "        [0.5204, 1.3579],\n",
            "        [0.3644, 1.4200],\n",
            "        [0.4782, 1.3662],\n",
            "        [1.3411, 1.4512],\n",
            "        [0.4887, 1.3592],\n",
            "        [0.3488, 1.4218],\n",
            "        [0.4441, 1.3660],\n",
            "        [0.3584, 1.4195],\n",
            "        [0.4496, 1.3225],\n",
            "        [0.3880, 1.3671],\n",
            "        [0.2096, 1.4460],\n",
            "        [0.1842, 1.4485],\n",
            "        [0.2478, 1.4014],\n",
            "        [0.4951, 1.4924],\n",
            "        [1.2839, 1.2789],\n",
            "        [0.2297, 1.3752],\n",
            "        [0.5426, 1.4404],\n",
            "        [1.6097, 1.8039],\n",
            "        [0.2535, 1.4116],\n",
            "        [0.4485, 1.3693],\n",
            "        [0.6514, 0.5611],\n",
            "        [0.8011, 1.4180],\n",
            "        [0.5286, 1.3756],\n",
            "        [0.0069, 1.4288],\n",
            "        [0.5154, 1.3519],\n",
            "        [1.2159, 1.4287],\n",
            "        [1.3063, 1.3618],\n",
            "        [0.5243, 1.3650],\n",
            "        [0.4514, 1.4270],\n",
            "        [0.4026, 1.3770],\n",
            "        [0.4140, 1.3794],\n",
            "        [0.4154, 1.3902],\n",
            "        [0.5612, 1.4116],\n",
            "        [0.2301, 1.3871],\n",
            "        [0.2855, 1.3633],\n",
            "        [0.4487, 1.3829],\n",
            "        [0.6004, 1.1683],\n",
            "        [0.5700, 1.3915],\n",
            "        [0.6106, 1.3915],\n",
            "        [0.5522, 1.3957],\n",
            "        [0.7156, 1.3568],\n",
            "        [0.7127, 1.3549],\n",
            "        [0.2961, 1.3557],\n",
            "        [0.5538, 1.3917],\n",
            "        [0.4266, 1.3929],\n",
            "        [0.3201, 1.3177],\n",
            "        [0.5674, 1.3816],\n",
            "        [0.7784, 1.4688],\n",
            "        [0.5049, 1.3623],\n",
            "        [1.3820, 1.3963],\n",
            "        [0.7146, 1.4132],\n",
            "        [0.5702, 1.3909],\n",
            "        [1.2412, 1.3817],\n",
            "        [0.5055, 1.3620],\n",
            "        [0.7341, 1.2522],\n",
            "        [0.3083, 1.3824],\n",
            "        [0.0061, 1.4025],\n",
            "        [0.4529, 1.4371],\n",
            "        [0.2805, 1.3657],\n",
            "        [0.4227, 1.4262],\n",
            "        [0.4791, 1.0484],\n",
            "        [0.1220, 1.3465],\n",
            "        [0.0121, 1.4033],\n",
            "        [0.5784, 1.0221]])\n",
            "ca_layer.bias\n",
            "tensor([1.6158, 1.6027, 1.5917, 1.6049, 1.6798, 1.6798, 1.6307, 1.6083, 1.6238,\n",
            "        1.5979, 1.6316, 1.6351, 1.6459, 1.6174, 1.6096, 1.5449, 1.6760, 1.6765,\n",
            "        1.5445, 1.6379, 1.7165, 1.6312, 1.6108, 1.6130, 1.6870, 1.6358, 1.6140,\n",
            "        1.6011, 1.6226, 1.6463, 1.7139, 1.6377, 1.6709, 1.5848, 1.6063, 1.6181,\n",
            "        1.6541, 1.5549, 1.5817, 1.6191, 1.6224, 1.6371, 1.5784, 1.5849, 1.6565,\n",
            "        1.6288, 1.6247, 1.7383, 1.6279, 1.6890, 1.6298, 1.6489, 1.5398, 1.6634,\n",
            "        1.6434, 1.5457, 1.5878, 1.6515, 1.6337, 1.6395, 1.6186, 1.5840, 1.5825,\n",
            "        1.5797, 1.4893, 1.5194, 1.5600, 1.5841, 1.7008, 1.6353, 1.6942, 1.6523,\n",
            "        1.6145, 1.5552, 1.6219, 1.5253, 1.4617, 1.6231, 1.6324, 1.6290, 1.6017,\n",
            "        1.6380, 1.6048, 1.6306, 1.6379, 1.6072, 1.7049, 1.6250, 1.6013, 1.6470,\n",
            "        1.3772, 1.6381, 1.4223, 1.2955, 1.0033, 1.4993, 1.6453, 1.6076, 1.0439,\n",
            "        1.6080, 1.5725, 1.6182, 1.6262, 1.6025, 1.6079, 1.6123, 1.6113, 1.6430,\n",
            "        1.7272, 1.6980, 1.7143, 1.7279, 1.6269, 1.3650, 1.6789, 1.5737, 1.5740,\n",
            "        1.5883, 1.5743, 1.6013, 1.5423, 1.5405, 1.6131, 1.6934, 1.6033, 1.6286,\n",
            "        1.6024, 1.6824, 1.5635, 1.2758, 1.6223, 1.6967, 1.3492, 1.5885, 1.6565,\n",
            "        1.6108, 1.5417, 1.6123, 1.6552, 1.6037, 1.6526, 1.6133, 1.6683, 1.6397,\n",
            "        1.6108, 1.6093, 1.5243, 1.7482, 1.6345, 1.6958, 1.6391, 1.5473, 1.6050,\n",
            "        1.5425, 1.5061, 1.5834, 1.6552, 1.6776, 1.5040, 1.6066, 1.6002, 1.6667,\n",
            "        1.6166, 1.6640, 1.6721, 1.6663, 1.5977, 1.7131, 1.6626, 1.6355, 1.6436,\n",
            "        1.4246, 1.4296, 1.5787, 1.5677, 1.5687, 1.7071, 1.4256, 1.4741, 1.6472,\n",
            "        1.6426, 1.3609, 1.5354, 0.7665, 1.4213, 1.6420, 0.7924, 1.5346, 1.5275,\n",
            "        1.5384, 1.5847, 1.6152, 1.5829, 1.6427, 1.6135, 1.5790, 1.5791, 1.5476])\n",
            "class_layer.ca_weight\n",
            "tensor([[1.6169, 1.0000],\n",
            "        [1.6139, 1.0000],\n",
            "        [1.5593, 1.0000],\n",
            "        [1.5761, 1.0000],\n",
            "        [1.6228, 1.0000],\n",
            "        [1.6228, 1.0000],\n",
            "        [1.5949, 1.0000],\n",
            "        [1.5772, 1.0000],\n",
            "        [1.5747, 1.0000],\n",
            "        [1.0000, 1.5995],\n",
            "        [1.0000, 1.6364],\n",
            "        [1.0000, 1.6369],\n",
            "        [1.0000, 1.5280],\n",
            "        [1.0000, 1.5387],\n",
            "        [1.0000, 1.5401],\n",
            "        [1.0000, 1.5506],\n",
            "        [1.0000, 1.6279],\n",
            "        [1.0000, 1.6187],\n",
            "        [1.0000, 1.5520],\n",
            "        [1.5999, 1.0000],\n",
            "        [1.6174, 1.0000],\n",
            "        [1.6006, 1.0000],\n",
            "        [1.6242, 1.0000],\n",
            "        [1.6199, 1.0000],\n",
            "        [1.0000, 1.6292],\n",
            "        [1.0000, 1.6328],\n",
            "        [1.0000, 1.6420],\n",
            "        [1.0000, 1.6395],\n",
            "        [1.0000, 1.6225],\n",
            "        [1.0000, 1.6415],\n",
            "        [1.0000, 1.6291],\n",
            "        [1.0000, 1.6403],\n",
            "        [1.5825, 1.0000],\n",
            "        [1.5170, 1.0000],\n",
            "        [1.5836, 1.0000],\n",
            "        [1.6232, 1.0000],\n",
            "        [1.5823, 1.0000],\n",
            "        [1.5639, 1.0000],\n",
            "        [1.5542, 1.0000],\n",
            "        [1.5684, 1.0000],\n",
            "        [1.5358, 1.0000],\n",
            "        [1.5621, 1.0000],\n",
            "        [1.0000, 1.5796],\n",
            "        [1.0000, 1.5600],\n",
            "        [1.0000, 1.5542],\n",
            "        [1.0000, 1.6312],\n",
            "        [1.0000, 1.6051],\n",
            "        [1.0000, 1.6386],\n",
            "        [1.0000, 1.5935],\n",
            "        [1.0000, 1.6184],\n",
            "        [1.0000, 1.6311],\n",
            "        [1.5616, 1.0000],\n",
            "        [1.5403, 1.0000],\n",
            "        [1.6152, 1.0000],\n",
            "        [1.5692, 1.0000],\n",
            "        [1.5447, 1.0000],\n",
            "        [1.5904, 1.0000],\n",
            "        [1.5987, 1.0000],\n",
            "        [1.6049, 1.0000],\n",
            "        [1.5992, 1.0000],\n",
            "        [1.6183, 1.0000],\n",
            "        [1.0000, 1.5193],\n",
            "        [1.0000, 1.5477],\n",
            "        [1.0000, 1.5439],\n",
            "        [1.0000, 1.4597],\n",
            "        [1.0000, 1.4815],\n",
            "        [1.0000, 1.4963],\n",
            "        [1.0000, 1.5189],\n",
            "        [1.0000, 1.6094],\n",
            "        [1.0000, 1.6374],\n",
            "        [1.0000, 1.6037],\n",
            "        [1.6093, 1.0000],\n",
            "        [1.6167, 1.0000],\n",
            "        [1.5692, 1.0000],\n",
            "        [1.6274, 1.0000],\n",
            "        [1.5397, 1.0000],\n",
            "        [1.5280, 1.0000],\n",
            "        [1.5787, 1.0000],\n",
            "        [1.6280, 1.0000],\n",
            "        [1.5995, 1.0000],\n",
            "        [1.6059, 1.0000],\n",
            "        [1.0000, 1.6490],\n",
            "        [1.0000, 1.5419],\n",
            "        [1.0000, 1.6357],\n",
            "        [1.0000, 1.5937],\n",
            "        [1.0000, 1.6199],\n",
            "        [1.0000, 1.6235],\n",
            "        [1.0000, 1.5866],\n",
            "        [1.0000, 1.5679],\n",
            "        [1.0000, 1.6591],\n",
            "        [1.5233, 1.0000],\n",
            "        [1.6050, 1.0000],\n",
            "        [1.5749, 1.0000],\n",
            "        [1.4998, 1.0000],\n",
            "        [1.2869, 1.0000],\n",
            "        [1.6049, 1.0000],\n",
            "        [1.6297, 1.0000],\n",
            "        [1.5823, 1.0000],\n",
            "        [1.2869, 1.0000],\n",
            "        [1.5970, 1.0000],\n",
            "        [1.5431, 1.0000],\n",
            "        [1.5842, 1.0000],\n",
            "        [1.5487, 1.0000],\n",
            "        [1.5779, 1.0000],\n",
            "        [1.5999, 1.0000],\n",
            "        [1.6234, 1.0000],\n",
            "        [1.0000, 1.6111],\n",
            "        [1.0000, 1.5888],\n",
            "        [1.0000, 1.6437],\n",
            "        [1.0000, 1.6483],\n",
            "        [1.0000, 1.6430],\n",
            "        [1.0000, 1.6416],\n",
            "        [1.0000, 1.6233],\n",
            "        [1.0000, 1.5970],\n",
            "        [1.0000, 1.6328],\n",
            "        [1.5103, 1.0000],\n",
            "        [1.5551, 1.0000],\n",
            "        [1.6041, 1.0000],\n",
            "        [1.5609, 1.0000],\n",
            "        [1.5943, 1.0000],\n",
            "        [1.5226, 1.0000],\n",
            "        [1.5674, 1.0000],\n",
            "        [1.6118, 1.0000],\n",
            "        [1.5629, 1.0000],\n",
            "        [1.5946, 1.0000],\n",
            "        [1.0000, 1.6454],\n",
            "        [1.0000, 1.5466],\n",
            "        [1.0000, 1.6769],\n",
            "        [1.0000, 1.5379],\n",
            "        [1.0000, 1.5643],\n",
            "        [1.0000, 1.6033],\n",
            "        [1.0000, 1.6818],\n",
            "        [1.0000, 1.6405],\n",
            "        [1.0000, 1.5818],\n",
            "        [1.6048, 1.0000],\n",
            "        [1.5878, 1.0000],\n",
            "        [1.5364, 1.0000],\n",
            "        [1.6239, 1.0000],\n",
            "        [1.6119, 1.0000],\n",
            "        [1.5886, 1.0000],\n",
            "        [1.5996, 1.0000],\n",
            "        [1.5929, 1.0000],\n",
            "        [1.6088, 1.0000],\n",
            "        [1.0000, 1.6020],\n",
            "        [1.0000, 1.5549],\n",
            "        [1.0000, 1.5527],\n",
            "        [1.0000, 1.5088],\n",
            "        [1.0000, 1.7188],\n",
            "        [1.0000, 1.6348],\n",
            "        [1.0000, 1.6253],\n",
            "        [1.0000, 1.6076],\n",
            "        [1.0000, 1.6152],\n",
            "        [1.0000, 1.5334],\n",
            "        [1.5583, 1.0000],\n",
            "        [1.5495, 1.0000],\n",
            "        [1.5929, 1.0000],\n",
            "        [1.6204, 1.0000],\n",
            "        [1.5713, 1.0000],\n",
            "        [1.5255, 1.0000],\n",
            "        [1.6165, 1.0000],\n",
            "        [1.6139, 1.0000],\n",
            "        [1.6120, 1.0000],\n",
            "        [1.0000, 1.5895],\n",
            "        [1.0000, 1.6271],\n",
            "        [1.0000, 1.6274],\n",
            "        [1.0000, 1.6573],\n",
            "        [1.0000, 1.5974],\n",
            "        [1.0000, 1.6456],\n",
            "        [1.0000, 1.6180],\n",
            "        [1.0000, 1.6400],\n",
            "        [1.6306, 1.0000],\n",
            "        [1.4877, 1.0000],\n",
            "        [1.5007, 1.0000],\n",
            "        [1.5878, 1.0000],\n",
            "        [1.6244, 1.0000],\n",
            "        [1.6247, 1.0000],\n",
            "        [1.6124, 1.0000],\n",
            "        [1.4875, 1.0000],\n",
            "        [1.5200, 1.0000],\n",
            "        [1.5758, 1.0000],\n",
            "        [1.0000, 1.6409],\n",
            "        [1.0000, 1.4404],\n",
            "        [1.0000, 1.5398],\n",
            "        [1.0000, 1.0843],\n",
            "        [1.0000, 1.4857],\n",
            "        [1.0000, 1.6391],\n",
            "        [1.0000, 0.9821],\n",
            "        [1.0000, 1.5400],\n",
            "        [1.5246, 1.0000],\n",
            "        [1.4681, 1.0000],\n",
            "        [1.5296, 1.0000],\n",
            "        [1.6243, 1.0000],\n",
            "        [1.5026, 1.0000],\n",
            "        [1.6367, 1.0000],\n",
            "        [1.5720, 1.0000],\n",
            "        [1.4864, 1.0000],\n",
            "        [1.5280, 1.0000],\n",
            "        [1.5441, 1.0000]])\n",
            "class_layer.bias\n",
            "tensor([1.0604, 0.9396])\n"
          ]
        }
      ],
      "source": [
        "print_model_features(model)"
      ]
    },
    {
      "cell_type": "code",
      "execution_count": null,
      "metadata": {
        "colab": {
          "base_uri": "https://localhost:8080/"
        },
        "id": "Y90VH3xzsTEd",
        "outputId": "dcdc3910-5cb7-461e-bc34-95657799ed14"
      },
      "outputs": [
        {
          "output_type": "execute_result",
          "data": {
            "text/plain": [
              "521"
            ]
          },
          "metadata": {},
          "execution_count": 43
        }
      ],
      "source": [
        "sum(p.numel() for p in model.parameters() if p.requires_grad)"
      ]
    },
    {
      "cell_type": "markdown",
      "metadata": {
        "id": "cT0y7FUq2FNC"
      },
      "source": [
        "####TODO testing here"
      ]
    },
    {
      "cell_type": "code",
      "execution_count": null,
      "metadata": {
        "id": "awqOomGo1orp"
      },
      "outputs": [],
      "source": [
        "# for regression only. for classification is different\n",
        "#feature_activations, case_activations, predicted_number\n",
        "model.eval()\n",
        "case_activations, output, predicted_class = model(X_test)"
      ]
    },
    {
      "cell_type": "code",
      "execution_count": null,
      "metadata": {
        "id": "S94m-mPsZ-tY"
      },
      "outputs": [],
      "source": [
        "top_case_indices = torch.topk(case_activations, 5, dim=1)[1]"
      ]
    },
    {
      "cell_type": "code",
      "execution_count": null,
      "metadata": {
        "id": "I5h3V73UaI3L",
        "colab": {
          "base_uri": "https://localhost:8080/"
        },
        "outputId": "87a547d9-d951-4a59-dc1f-e022cd251837"
      },
      "outputs": [
        {
          "output_type": "execute_result",
          "data": {
            "text/plain": [
              "tensor([[64, 67, 66, 65, 68],\n",
              "        [ 5, 66, 68, 67, 64],\n",
              "        [ 1, 66, 68, 67, 63],\n",
              "        [64, 67, 66, 65, 68],\n",
              "        [10,  9, 66, 67, 64],\n",
              "        [30, 65, 67, 66, 69],\n",
              "        [64, 67, 66, 65, 68],\n",
              "        [34, 40, 66, 67, 65],\n",
              "        [64, 67, 66, 65, 68],\n",
              "        [57, 65, 67, 66, 68],\n",
              "        [64, 67, 66, 65, 68]])"
            ]
          },
          "metadata": {},
          "execution_count": 66
        }
      ],
      "source": [
        "top_case_indices"
      ]
    },
    {
      "cell_type": "code",
      "execution_count": null,
      "metadata": {
        "id": "jFkiqBp91san",
        "colab": {
          "base_uri": "https://localhost:8080/"
        },
        "outputId": "ad6f701c-3da9-40ba-b629-60b9f29a5a84"
      },
      "outputs": [
        {
          "output_type": "execute_result",
          "data": {
            "text/plain": [
              "tensor([0, 0, 0, 0, 1, 0, 0, 0, 0, 0, 0])"
            ]
          },
          "metadata": {},
          "execution_count": 67
        }
      ],
      "source": [
        "predicted_class"
      ]
    },
    {
      "cell_type": "code",
      "execution_count": null,
      "metadata": {
        "id": "E7o4dGeF1uEA",
        "colab": {
          "base_uri": "https://localhost:8080/"
        },
        "outputId": "e223482e-8bfb-4fe5-8b47-a1ac40a1a3cc"
      },
      "outputs": [
        {
          "output_type": "execute_result",
          "data": {
            "text/plain": [
              "tensor([0, 0, 0, 1, 1, 1, 1, 0, 1, 0, 0])"
            ]
          },
          "metadata": {},
          "execution_count": 63
        }
      ],
      "source": [
        "y_test"
      ]
    },
    {
      "cell_type": "code",
      "execution_count": null,
      "metadata": {
        "id": "hIMYkbGc-Gv0",
        "colab": {
          "base_uri": "https://localhost:8080/"
        },
        "outputId": "b6e24c86-9588-48ad-b3d1-1d305a3745d1"
      },
      "outputs": [
        {
          "output_type": "execute_result",
          "data": {
            "text/plain": [
              "array([17,  1,  1,  1,  2,  7,  8,  8, 10, 11, 11, 12, 13, 13, 14, 14, 16,\n",
              "       17, 14, 19, 20, 21, 22, 22, 23, 23, 24, 25, 27, 28, 29, 30, 32, 32,\n",
              "       33,  4, 37, 38, 38,  4])"
            ]
          },
          "metadata": {},
          "execution_count": 331
        }
      ],
      "source": [
        "knn.predict(X_test)"
      ]
    },
    {
      "cell_type": "code",
      "execution_count": null,
      "metadata": {
        "id": "FClgau3yY32o"
      },
      "outputs": [],
      "source": [
        "# X_test[0,0]"
      ]
    },
    {
      "cell_type": "code",
      "execution_count": null,
      "metadata": {
        "id": "jJc1HOGxrdEJ"
      },
      "outputs": [],
      "source": [
        "# case_activations, output, predicted_class = model(X_test[120].unsqueeze(0))"
      ]
    },
    {
      "cell_type": "code",
      "execution_count": null,
      "metadata": {
        "id": "-jwdhc0IalI-"
      },
      "outputs": [],
      "source": [
        "# case_activations[0].nonzero()"
      ]
    },
    {
      "cell_type": "code",
      "execution_count": null,
      "metadata": {
        "id": "yv7b51l1ankc"
      },
      "outputs": [],
      "source": [
        "# case_activations[0].nonzero()"
      ]
    },
    {
      "cell_type": "code",
      "execution_count": null,
      "metadata": {
        "id": "lYqw4PIa0OO2"
      },
      "outputs": [],
      "source": [
        "# predicted_class"
      ]
    },
    {
      "cell_type": "code",
      "execution_count": null,
      "metadata": {
        "id": "VD0QdQ7a6Ov5"
      },
      "outputs": [],
      "source": [
        "# y_test"
      ]
    },
    {
      "cell_type": "code",
      "execution_count": null,
      "metadata": {
        "id": "CoHcFKWfrh35"
      },
      "outputs": [],
      "source": [
        "# knn_predict = knn.predict(X_test)"
      ]
    },
    {
      "cell_type": "code",
      "execution_count": null,
      "metadata": {
        "id": "7A07T05e8rzT"
      },
      "outputs": [],
      "source": [
        "# prompt: show where there is the difference between predicted_class and knn_predict\n",
        "\n",
        "# (predicted_class != torch.tensor(knn_predict)).nonzero(as_tuple=True)\n"
      ]
    },
    {
      "cell_type": "code",
      "execution_count": null,
      "metadata": {
        "id": "6q6RszGcsKRg"
      },
      "outputs": [],
      "source": [
        "# knn.predict(X_test[120].unsqueeze(0))"
      ]
    },
    {
      "cell_type": "markdown",
      "metadata": {
        "id": "UklELrXlZNvm"
      },
      "source": [
        "###Accuracies"
      ]
    },
    {
      "cell_type": "code",
      "execution_count": null,
      "metadata": {
        "colab": {
          "base_uri": "https://localhost:8080/"
        },
        "id": "7DAHjmSILFnV",
        "outputId": "3c536002-9eca-4a8f-e125-d5566c15c12a"
      },
      "outputs": [
        {
          "output_type": "stream",
          "name": "stdout",
          "text": [
            "[0.45454545454545453, 0.5454545454545454, 0.45454545454545453, 0.5454545454545454, 0.6363636363636364, 0.7272727272727273, 0.5454545454545454, 0.6363636363636364, 0.36363636363636365, 0.8181818181818182]\n"
          ]
        }
      ],
      "source": [
        "print(accuracies)"
      ]
    },
    {
      "cell_type": "code",
      "execution_count": null,
      "metadata": {
        "colab": {
          "base_uri": "https://localhost:8080/"
        },
        "id": "GThviV3f3w6h",
        "outputId": "ee49fe7f-6cbe-474d-a213-3a7ec20ac49f"
      },
      "outputs": [
        {
          "output_type": "stream",
          "name": "stdout",
          "text": [
            "[0.45454545454545453, 0.6363636363636364, 0.2727272727272727, 0.36363636363636365, 0.45454545454545453, 0.2727272727272727, 0.2727272727272727, 0.36363636363636365, 0.18181818181818182, 0.36363636363636365]\n"
          ]
        }
      ],
      "source": [
        "print(knn_accuracies)"
      ]
    },
    {
      "cell_type": "code",
      "execution_count": null,
      "metadata": {
        "colab": {
          "base_uri": "https://localhost:8080/"
        },
        "id": "10AORGQInY-G",
        "outputId": "1b73996c-0372-4fd1-bc04-c8293fde76cc"
      },
      "outputs": [
        {
          "output_type": "stream",
          "name": "stdout",
          "text": [
            "0.8727272727272727\n",
            "0.3181818181818182\n",
            "nan\n"
          ]
        }
      ],
      "source": [
        "# For classification\n",
        "print(np.mean(accuracies))\n",
        "print(np.mean(knn_accuracies))\n",
        "print(np.mean(klmnn_accuracies))\n"
      ]
    },
    {
      "cell_type": "code",
      "execution_count": null,
      "metadata": {
        "colab": {
          "base_uri": "https://localhost:8080/",
          "height": 193
        },
        "id": "nllY5LQDDKse",
        "outputId": "cdb338fd-b5c4-4505-f717-7fc5127d34b1"
      },
      "outputs": [
        {
          "output_type": "error",
          "ename": "TypeError",
          "evalue": "expected Tensor as element 0 in argument 0, but got numpy.float64",
          "traceback": [
            "\u001b[0;31m---------------------------------------------------------------------------\u001b[0m",
            "\u001b[0;31mTypeError\u001b[0m                                 Traceback (most recent call last)",
            "\u001b[0;32m<ipython-input-81-6f1f73685118>\u001b[0m in \u001b[0;36m<cell line: 2>\u001b[0;34m()\u001b[0m\n\u001b[1;32m      1\u001b[0m \u001b[0;31m# For regression\u001b[0m\u001b[0;34m\u001b[0m\u001b[0;34m\u001b[0m\u001b[0m\n\u001b[0;32m----> 2\u001b[0;31m \u001b[0mprint\u001b[0m\u001b[0;34m(\u001b[0m\u001b[0mtorch\u001b[0m\u001b[0;34m.\u001b[0m\u001b[0mmean\u001b[0m\u001b[0;34m(\u001b[0m \u001b[0mtorch\u001b[0m\u001b[0;34m.\u001b[0m\u001b[0mstack\u001b[0m\u001b[0;34m(\u001b[0m\u001b[0maccuracies\u001b[0m\u001b[0;34m,\u001b[0m \u001b[0mdim\u001b[0m\u001b[0;34m=\u001b[0m\u001b[0;36m0\u001b[0m\u001b[0;34m)\u001b[0m\u001b[0;34m)\u001b[0m\u001b[0;34m)\u001b[0m\u001b[0;34m\u001b[0m\u001b[0;34m\u001b[0m\u001b[0m\n\u001b[0m\u001b[1;32m      3\u001b[0m \u001b[0mprint\u001b[0m\u001b[0;34m(\u001b[0m\u001b[0mnp\u001b[0m\u001b[0;34m.\u001b[0m\u001b[0mmean\u001b[0m\u001b[0;34m(\u001b[0m\u001b[0mtop_k_average_accuracies\u001b[0m\u001b[0;34m)\u001b[0m\u001b[0;34m)\u001b[0m\u001b[0;34m\u001b[0m\u001b[0;34m\u001b[0m\u001b[0m\n\u001b[1;32m      4\u001b[0m \u001b[0mprint\u001b[0m\u001b[0;34m(\u001b[0m\u001b[0mnp\u001b[0m\u001b[0;34m.\u001b[0m\u001b[0mmean\u001b[0m\u001b[0;34m(\u001b[0m\u001b[0mknn_accuracies\u001b[0m\u001b[0;34m)\u001b[0m\u001b[0;34m)\u001b[0m\u001b[0;34m\u001b[0m\u001b[0;34m\u001b[0m\u001b[0m\n",
            "\u001b[0;31mTypeError\u001b[0m: expected Tensor as element 0 in argument 0, but got numpy.float64"
          ]
        }
      ],
      "source": [
        "# For regression\n",
        "print(torch.mean( torch.stack(accuracies, dim=0)))\n",
        "print(np.mean(top_k_average_accuracies))\n",
        "print(np.mean(knn_accuracies))\n"
      ]
    },
    {
      "cell_type": "code",
      "execution_count": null,
      "metadata": {
        "id": "KVHtGRsrUu7H"
      },
      "outputs": [],
      "source": [
        "# prompt: get the number of unique values in the list of tensor y_train\n",
        "\n",
        "print(torch.unique(y_train).shape[0])\n"
      ]
    },
    {
      "cell_type": "code",
      "execution_count": null,
      "metadata": {
        "id": "-Ub7LFE5UdDP"
      },
      "outputs": [],
      "source": [
        "torch.unique(y_train)"
      ]
    },
    {
      "cell_type": "markdown",
      "metadata": {
        "id": "1qeV7IHLDpRR"
      },
      "source": [
        "##Results, classification, zebra\n",
        "\n"
      ]
    },
    {
      "cell_type": "markdown",
      "metadata": {
        "id": "AzEwyfuOGElJ"
      },
      "source": [
        "we are using 110 points"
      ]
    },
    {
      "cell_type": "markdown",
      "metadata": {
        "id": "XDn2UR_hDs2_"
      },
      "source": [
        "```\n",
        "training_epochs = 1000\n",
        "learning_rate = 0.01\n",
        "criterion = torch.nn.CrossEntropyLoss()\n",
        "batch_size = 136\n",
        "\n",
        "fa_weight_sharing_within_segment = True\n",
        "fa_weight_sharing_between_segment = True\n",
        "ca_weight_sharing = True\n",
        "top_case_enabled = True\n",
        "top_k = 5\n",
        "class_weight_sharing = True\n",
        "\n",
        "patience = 40\n",
        "```\n",
        "```\n",
        "123\n",
        "# For classification\n",
        "print(np.mean(accuracies))\n",
        "print(np.mean(knn_accuracies))\n",
        "\n",
        "output\n",
        "0.9090909090909092\n",
        "0.36363636363636365\n",
        "```"
      ]
    },
    {
      "cell_type": "markdown",
      "metadata": {
        "id": "99OeX0wUD5EG"
      },
      "source": [
        "```\n",
        "training_epochs = 1000\n",
        "learning_rate = 0.01\n",
        "criterion = torch.nn.CrossEntropyLoss()\n",
        "batch_size = 136\n",
        "\n",
        "fa_weight_sharing_within_segment = True\n",
        "fa_weight_sharing_between_segment = True\n",
        "ca_weight_sharing = False\n",
        "top_case_enabled = True\n",
        "top_k = 5\n",
        "class_weight_sharing = True\n",
        "\n",
        "patience = 40\n",
        "```\n",
        "```\n",
        "123\n",
        "# For classification\n",
        "print(np.mean(accuracies))\n",
        "print(np.mean(knn_accuracies))\n",
        "\n",
        "output\n",
        "0.8727272727272727\n",
        "0.3181818181818182\n",
        "```"
      ]
    },
    {
      "cell_type": "markdown",
      "metadata": {
        "id": "jxMcxPBaE4T1"
      },
      "source": [
        "```\n",
        "training_epochs = 1000\n",
        "learning_rate = 0.01\n",
        "criterion = torch.nn.CrossEntropyLoss()\n",
        "batch_size = 136\n",
        "\n",
        "fa_weight_sharing_within_segment = True\n",
        "fa_weight_sharing_between_segment = True\n",
        "ca_weight_sharing = False\n",
        "top_case_enabled = False\n",
        "top_k = 5\n",
        "class_weight_sharing = True\n",
        "\n",
        "patience = 40\n",
        "```\n",
        "```\n",
        "123\n",
        "# For classification\n",
        "print(np.mean(accuracies))\n",
        "print(np.mean(knn_accuracies))\n",
        "\n",
        "output\n",
        "0.8727272727272727\n",
        "0.34545454545454546\n",
        "```"
      ]
    },
    {
      "cell_type": "markdown",
      "metadata": {
        "id": "0xBV-JBRFnsH"
      },
      "source": [
        "```\n",
        "training_epochs = 1000\n",
        "learning_rate = 0.01\n",
        "criterion = torch.nn.CrossEntropyLoss()\n",
        "batch_size = 136\n",
        "\n",
        "fa_weight_sharing_within_segment = True\n",
        "fa_weight_sharing_between_segment = True\n",
        "ca_weight_sharing = True\n",
        "top_case_enabled = False\n",
        "top_k = 5\n",
        "class_weight_sharing = True\n",
        "\n",
        "patience = 40\n",
        "```\n",
        "```\n",
        "123\n",
        "# For classification\n",
        "print(np.mean(accuracies))\n",
        "print(np.mean(knn_accuracies))\n",
        "\n",
        "output\n",
        "0.9181818181818182\n",
        "0.3090909090909091\n",
        "```"
      ]
    },
    {
      "cell_type": "markdown",
      "metadata": {
        "id": "tSOsMVN0q5oO"
      },
      "source": [
        "##Results, classification, double zebra"
      ]
    },
    {
      "cell_type": "markdown",
      "metadata": {
        "id": "p4NG5pN4rJKs"
      },
      "source": [
        "```\n",
        "training_epochs = 1000\n",
        "learning_rate = 0.01\n",
        "criterion = torch.nn.CrossEntropyLoss()\n",
        "batch_size = 100\n",
        "\n",
        "fa_weight_sharing_within_segment = True\n",
        "fa_weight_sharing_between_segment = True\n",
        "ca_weight_sharing = True\n",
        "top_case_enabled = True\n",
        "top_k = 5\n",
        "class_weight_sharing = True\n",
        "\n",
        "patience = 40\n",
        "```\n",
        "```\n",
        "123\n",
        "# For classification\n",
        "print(np.mean(accuracies))\n",
        "print(np.mean(knn_accuracies))\n",
        "\n",
        "output\n",
        "0.85\n",
        "0.36818181818181817\n",
        "```"
      ]
    },
    {
      "cell_type": "markdown",
      "metadata": {
        "id": "CM0I_QD7s00D"
      },
      "source": [
        "```\n",
        "training_epochs = 1000\n",
        "learning_rate = 0.01\n",
        "criterion = torch.nn.CrossEntropyLoss()\n",
        "batch_size = 100\n",
        "\n",
        "fa_weight_sharing_within_segment = True\n",
        "fa_weight_sharing_between_segment = False\n",
        "ca_weight_sharing = True\n",
        "top_case_enabled = True\n",
        "top_k = 5\n",
        "class_weight_sharing = True\n",
        "\n",
        "patience = 40\n",
        "```\n",
        "```\n",
        "123\n",
        "# For classification\n",
        "print(np.mean(accuracies))\n",
        "print(np.mean(knn_accuracies))\n",
        "\n",
        "output\n",
        "0.9727272727272729\n",
        "0.39545454545454545\n",
        "```"
      ]
    },
    {
      "cell_type": "markdown",
      "metadata": {
        "id": "3FkVw9gg2qi6"
      },
      "source": [
        "```\n",
        "training_epochs = 1000\n",
        "learning_rate = 0.01\n",
        "criterion = torch.nn.CrossEntropyLoss()\n",
        "batch_size = 100\n",
        "\n",
        "fa_weight_sharing_within_segment = True\n",
        "fa_weight_sharing_between_segment = True\n",
        "ca_weight_sharing = False\n",
        "top_case_enabled = True\n",
        "top_k = 5\n",
        "class_weight_sharing = True\n",
        "\n",
        "patience = 40\n",
        "```\n",
        "\n",
        "case weighting can compensate!! Even\n",
        "\n",
        "```\n",
        "123\n",
        "# For classification\n",
        "print(np.mean(accuracies))\n",
        "print(np.mean(knn_accuracies))\n",
        "\n",
        "output\n",
        "0.9681818181818181\n",
        "0.36818181818181817\n",
        "```"
      ]
    },
    {
      "cell_type": "markdown",
      "metadata": {
        "id": "yv1COulNQdAY"
      },
      "source": [
        "##Results, classification, fetch_olivetti_faces"
      ]
    },
    {
      "cell_type": "markdown",
      "metadata": {
        "id": "Ggj0rN4XQhBt"
      },
      "source": [
        "```\n",
        "training_epochs = 1000\n",
        "learning_rate = 0.01\n",
        "criterion = torch.nn.CrossEntropyLoss()\n",
        "batch_size = 136\n",
        "\n",
        "fa_weight_sharing_within_segment = True\n",
        "fa_weight_sharing_between_segment = True\n",
        "ca_weight_sharing = True\n",
        "top_case_enabled = True\n",
        "top_k = 5\n",
        "class_weight_sharing = True\n",
        "\n",
        "patience = 40\n",
        "```\n",
        "```\n",
        "0s\n",
        "123\n",
        "# For classificationprint(np.mean(accuracies))\n",
        "print(np.mean(knn_accuracies))\n",
        "\n",
        "output\n",
        "0.8625\n",
        "0.85\n",
        "```"
      ]
    },
    {
      "cell_type": "markdown",
      "metadata": {
        "id": "x1C9EQRsHflK"
      },
      "source": [
        "```\n",
        "training_epochs = 1000\n",
        "learning_rate = 0.01\n",
        "criterion = torch.nn.CrossEntropyLoss()\n",
        "batch_size = 136\n",
        "\n",
        "fa_weight_sharing_within_segment = True\n",
        "fa_weight_sharing_between_segment = True\n",
        "ca_weight_sharing = False\n",
        "top_case_enabled = True\n",
        "top_k = 5\n",
        "class_weight_sharing = True\n",
        "\n",
        "patience = 40\n",
        "```\n",
        "```\n",
        "123\n",
        "# For classificationprint(np.mean(accuracies))\n",
        "print(np.mean(knn_accuracies))\n",
        "\n",
        "output\n",
        "0.9349999999999998\n",
        "0.85\n",
        "```"
      ]
    },
    {
      "cell_type": "markdown",
      "metadata": {
        "id": "w7RU-RRcDC6F"
      },
      "source": [
        "```\n",
        "training_epochs = 1000\n",
        "learning_rate = 0.01\n",
        "criterion = torch.nn.CrossEntropyLoss()\n",
        "batch_size = 136\n",
        "\n",
        "fa_weight_sharing_within_segment = True\n",
        "fa_weight_sharing_between_segment = True\n",
        "ca_weight_sharing = False\n",
        "top_case_enabled = False\n",
        "top_k = 5\n",
        "class_weight_sharing = True\n",
        "\n",
        "patience = 40\n",
        "```\n",
        "```\n",
        "123\n",
        "# For classification\n",
        "print(np.mean(accuracies))\n",
        "print(np.mean(knn_accuracies))\n",
        "\n",
        "output\n",
        "0.9875\n",
        "0.8875\n",
        "```"
      ]
    },
    {
      "cell_type": "markdown",
      "metadata": {
        "id": "wCYyxPiJ3sl7"
      },
      "source": [
        "##Results, classification, digits"
      ]
    },
    {
      "cell_type": "markdown",
      "metadata": {
        "id": "vJnfWHP1j57Y"
      },
      "source": [
        "```\n",
        "training_epochs = 1000\n",
        "learning_rate = 0.01\n",
        "criterion = torch.nn.CrossEntropyLoss()\n",
        "batch_size = 300\n",
        "\n",
        "fa_weight_sharing_within_segment = True\n",
        "fa_weight_sharing_between_segment = True\n",
        "ca_weight_sharing = True\n",
        "top_case_enabled = True\n",
        "top_k = 5\n",
        "class_weight_sharing = True\n",
        "\n",
        "patience = 40\n",
        "```\n",
        "During this run, we noticed that the training stopped pretty fast after patience. If patience is 40, we often stop before 50. This means that this data set is actually easy.\n",
        "```\n",
        "123\n",
        "# For classification\n",
        "print(np.mean(accuracies))\n",
        "print(np.mean(knn_accuracies))\n",
        "output\n",
        "0.9833022967101179\n",
        "0.9872004965859714\n",
        "```"
      ]
    },
    {
      "cell_type": "markdown",
      "metadata": {
        "id": "rkXc8OnvMI2m"
      },
      "source": [
        "```\n",
        "training_epochs = 1000\n",
        "learning_rate = 0.01\n",
        "criterion = torch.nn.CrossEntropyLoss()\n",
        "batch_size = 300\n",
        "\n",
        "fa_weight_sharing_within_segment = True\n",
        "fa_weight_sharing_between_segment = True\n",
        "ca_weight_sharing = True\n",
        "top_case_enabled = False\n",
        "top_k = 5\n",
        "class_weight_sharing = True\n",
        "\n",
        "patience = 40\n",
        "```\n",
        "```\n",
        "0.9872036002482931\n",
        "0.9872098075729362\n",
        "```"
      ]
    },
    {
      "cell_type": "markdown",
      "metadata": {
        "id": "Q0ts8a5_o_gP"
      },
      "source": [
        "```\n",
        "training_epochs = 1000\n",
        "learning_rate = 0.01\n",
        "criterion = torch.nn.CrossEntropyLoss()\n",
        "batch_size = 300\n",
        "\n",
        "fa_weight_sharing_within_segment = True\n",
        "fa_weight_sharing_between_segment = True\n",
        "ca_weight_sharing = False\n",
        "top_case_enabled = False\n",
        "top_k = 5\n",
        "class_weight_sharing = True\n",
        "\n",
        "patience = 40\n",
        "```\n",
        "```\n",
        "# For classification\n",
        "print(np.mean(accuracies))\n",
        "print(np.mean(knn_accuracies))\n",
        "0.988\n",
        "0.985\n",
        "```"
      ]
    },
    {
      "cell_type": "markdown",
      "metadata": {
        "id": "_srOl9RDC4E_"
      },
      "source": [
        "##Results, classification, iris"
      ]
    },
    {
      "cell_type": "markdown",
      "metadata": {
        "id": "_d87QjdBtP7w"
      },
      "source": [
        "```\n",
        "training_epochs = 1000\n",
        "learning_rate = 0.01\n",
        "criterion = torch.nn.CrossEntropyLoss()\n",
        "batch_size = 300\n",
        "\n",
        "fa_weight_sharing_within_segment = True\n",
        "fa_weight_sharing_between_segment = True\n",
        "ca_weight_sharing = True\n",
        "top_case_enabled = True\n",
        "top_k = 5\n",
        "class_weight_sharing = True\n",
        "\n",
        "patience = 40\n",
        "```\n",
        "\n",
        "```\n",
        "123\n",
        "# For classification\n",
        "print(np.mean(accuracies))\n",
        "print(np.mean(knn_accuracies))\n",
        "output\n",
        "0.9266666666666667\n",
        "0.9666666666666668\n",
        "```"
      ]
    },
    {
      "cell_type": "markdown",
      "metadata": {
        "id": "ivz0QCjhzpqM"
      },
      "source": [
        "```\n",
        "training_epochs = 1000\n",
        "learning_rate = 0.01\n",
        "criterion = torch.nn.CrossEntropyLoss()\n",
        "batch_size = 300\n",
        "\n",
        "fa_weight_sharing_within_segment = True\n",
        "fa_weight_sharing_between_segment = True\n",
        "ca_weight_sharing = True\n",
        "top_case_enabled = False\n",
        "top_k = 5\n",
        "class_weight_sharing = True\n",
        "\n",
        "patience = 40\n",
        "```\n",
        "```\n",
        "123\n",
        "# For classification\n",
        "print(np.mean(accuracies))\n",
        "print(np.mean(knn_accuracies))\n",
        "output\n",
        "0.9666666666666668\n",
        "0.96\n",
        "```\n"
      ]
    },
    {
      "cell_type": "markdown",
      "metadata": {
        "id": "FJ02ethFJ0B0"
      },
      "source": [
        "```\n",
        "training_epochs = 1000\n",
        "learning_rate = 0.01\n",
        "criterion = torch.nn.CrossEntropyLoss()\n",
        "batch_size = 300\n",
        "\n",
        "fa_weight_sharing_within_segment = True\n",
        "fa_weight_sharing_between_segment = True\n",
        "ca_weight_sharing = False\n",
        "top_case_enabled = False\n",
        "top_k = 5\n",
        "class_weight_sharing = True\n",
        "\n",
        "patience = 40\n",
        "```\n",
        "```\n",
        "123\n",
        "# For classification\n",
        "print(np.mean(accuracies))\n",
        "print(np.mean(knn_accuracies))\n",
        "output\n",
        "0.96\n",
        "0.9666666666666668\n",
        "```"
      ]
    },
    {
      "cell_type": "markdown",
      "metadata": {
        "id": "oqSg9--skYJy"
      },
      "source": [
        "```\n",
        "training_epochs = 1000\n",
        "learning_rate = 0.01\n",
        "criterion = torch.nn.CrossEntropyLoss()\n",
        "batch_size = 300\n",
        "\n",
        "fa_weight_sharing_within_segment = False\n",
        "fa_weight_sharing_between_segment = True\n",
        "ca_weight_sharing = True\n",
        "top_case_enabled = True\n",
        "top_k = 5\n",
        "class_weight_sharing = True\n",
        "\n",
        "patience = 40\n",
        "```\n",
        "```\n",
        "123\n",
        "# For classification\n",
        "print(np.mean(accuracies))\n",
        "print(np.mean(knn_accuracies))\n",
        "output\n",
        "0.9533333333333334\n",
        "0.96\n",
        "```"
      ]
    },
    {
      "cell_type": "markdown",
      "metadata": {
        "id": "pp1OFAQOziaS"
      },
      "source": [
        "##Results, classification, wine"
      ]
    },
    {
      "cell_type": "markdown",
      "metadata": {
        "id": "j-vxACVlzk1u"
      },
      "source": [
        "```\n",
        "training_epochs = 1000\n",
        "learning_rate = 0.01\n",
        "criterion = torch.nn.CrossEntropyLoss()\n",
        "batch_size = 300\n",
        "\n",
        "fa_weight_sharing_within_segment = True\n",
        "fa_weight_sharing_between_segment = True\n",
        "ca_weight_sharing = True\n",
        "top_case_enabled = True\n",
        "top_k = 5\n",
        "class_weight_sharing = True\n",
        "\n",
        "patience = 40\n",
        "```\n",
        "```\n",
        "123\n",
        "# For classificationprint(np.mean(accuracies))print(np.mean(knn_accuracies))\n",
        "\n",
        "output\n",
        "0.961111111111111\n",
        "0.6803921568627451\n",
        "```\n",
        "old\n",
        "```\n",
        "123\n",
        "# For classification\n",
        "print(np.mean(accuracies))\n",
        "print(np.mean(knn_accuracies))\n",
        "output\n",
        "0.8663398692810457\n",
        "0.6980392156862746\n",
        "```\n"
      ]
    },
    {
      "cell_type": "markdown",
      "metadata": {
        "id": "OI9xXzSz0yyL"
      },
      "source": [
        "```\n",
        "training_epochs = 1000\n",
        "learning_rate = 0.01\n",
        "criterion = torch.nn.CrossEntropyLoss()\n",
        "batch_size = 300\n",
        "\n",
        "fa_weight_sharing_within_segment = True\n",
        "fa_weight_sharing_between_segment = True\n",
        "ca_weight_sharing = True\n",
        "top_case_enabled = False\n",
        "top_k = 5\n",
        "class_weight_sharing = True\n",
        "\n",
        "patience = 40\n",
        "```\n",
        "new\n",
        "```\n",
        "123\n",
        "# For classification\n",
        "print(np.mean(accuracies))\n",
        "print(np.mean(knn_accuracies))\n",
        "\n",
        "output\n",
        "0.9944444444444445\n",
        "0.6839869281045752\n",
        "```\n",
        "\n",
        "old\n",
        "```\n",
        "123\n",
        "# For classification\n",
        "print(np.mean(accuracies))\n",
        "print(np.mean(knn_accuracies))\n",
        "output\n",
        "0.8052287581699347\n",
        "0.684640522875817\n",
        "```"
      ]
    },
    {
      "cell_type": "markdown",
      "metadata": {
        "id": "FRgzE4jl1E_v"
      },
      "source": [
        "```\n",
        "training_epochs = 1000\n",
        "learning_rate = 0.01\n",
        "criterion = torch.nn.CrossEntropyLoss()\n",
        "batch_size = 300\n",
        "\n",
        "fa_weight_sharing_within_segment = True\n",
        "fa_weight_sharing_between_segment = True\n",
        "ca_weight_sharing = False\n",
        "top_case_enabled = True\n",
        "top_k = 5\n",
        "class_weight_sharing = True\n",
        "\n",
        "patience = 40\n",
        "```\n",
        "new\n",
        "```\n",
        "123\n",
        "# For classification\n",
        "print(np.mean(accuracies))\n",
        "print(np.mean(knn_accuracies))\n",
        "\n",
        "output\n",
        "0.9666666666666666\n",
        "0.7026143790849673\n",
        "```\n",
        "\n",
        "old\n",
        "```\n",
        "123\n",
        "# For classification\n",
        "print(np.mean(accuracies))\n",
        "print(np.mean(knn_accuracies))\n",
        "output\n",
        "0.6781045751633987\n",
        "0.6915032679738562\n",
        "```\n",
        "This result is to be expected. As we don't share weighting, topk may not work because different cases can be trained during training. They do not work collectively as well during testing, as different set of cases could be retrieved."
      ]
    },
    {
      "cell_type": "markdown",
      "metadata": {
        "id": "ASjRV9422nzQ"
      },
      "source": [
        "```\n",
        "training_epochs = 1000\n",
        "learning_rate = 0.01\n",
        "criterion = torch.nn.CrossEntropyLoss()\n",
        "batch_size = 300\n",
        "\n",
        "fa_weight_sharing_within_segment = True\n",
        "fa_weight_sharing_between_segment = True\n",
        "ca_weight_sharing = False\n",
        "top_case_enabled = False\n",
        "top_k = 5\n",
        "class_weight_sharing = True\n",
        "\n",
        "patience = 40\n",
        "```\n",
        "new\n",
        "```\n",
        "123\n",
        "# For classification\n",
        "print(np.mean(accuracies))\n",
        "print(np.mean(knn_accuracies))\n",
        "\n",
        "output\n",
        "0.9833333333333334\n",
        "0.7189542483660131\n",
        "```\n",
        "\n",
        "\n",
        "old\n",
        "```\n",
        "123\n",
        "# For classification\n",
        "print(np.mean(accuracies))\n",
        "print(np.mean(knn_accuracies))\n",
        "output\n",
        "0.6970588235294117\n",
        "0.696078431372549\n",
        "```\n",
        "It seems that, weight sharing is really good for this data set."
      ]
    },
    {
      "cell_type": "markdown",
      "metadata": {
        "id": "VQ7e2l7lX6Es"
      },
      "source": [
        "##Results, classification, breast cancer"
      ]
    },
    {
      "cell_type": "markdown",
      "metadata": {
        "id": "G6Dz9gwyzLiR"
      },
      "source": [
        "I reran things below. Something wasn't right with the kNN"
      ]
    },
    {
      "cell_type": "markdown",
      "metadata": {
        "id": "6YrhxmJ3lxVr"
      },
      "source": [
        "```\n",
        "training_epochs = 1000\n",
        "learning_rate = 0.01\n",
        "criterion = torch.nn.CrossEntropyLoss()\n",
        "batch_size = 136\n",
        "\n",
        "fa_weight_sharing_within_segment = True\n",
        "fa_weight_sharing_between_segment = True\n",
        "ca_weight_sharing = True\n",
        "top_case_enabled = True\n",
        "top_k = 5\n",
        "class_weight_sharing = True\n",
        "\n",
        "patience = 40\n",
        "```\n",
        "```\n",
        "123\n",
        "# For classification\n",
        "print(np.mean(accuracies))\n",
        "print(np.mean(knn_accuracies))\n",
        "output\n",
        "0.9455513784461151\n",
        "0.4514411027568922\n",
        "```\n",
        "????\n",
        "Old result below, it is so different from our new one?\n",
        "```\n",
        "123\n",
        "# For classification\n",
        "print(np.mean(accuracies))\n",
        "print(np.mean(knn_accuracies))\n",
        "output\n",
        "0.9104323308270675\n",
        "0.9297932330827068\n",
        "```"
      ]
    },
    {
      "cell_type": "markdown",
      "metadata": {
        "id": "xmQz3W1fqkOL"
      },
      "source": [
        "```\n",
        "training_epochs = 1000\n",
        "learning_rate = 0.01\n",
        "criterion = torch.nn.CrossEntropyLoss()\n",
        "batch_size = 136\n",
        "\n",
        "fa_weight_sharing_within_segment = True\n",
        "fa_weight_sharing_between_segment = True\n",
        "ca_weight_sharing = True\n",
        "top_case_enabled = False\n",
        "top_k = 5\n",
        "class_weight_sharing = True\n",
        "\n",
        "patience = 40\n",
        "```\n",
        "```\n",
        "123\n",
        "# For classification\n",
        "print(np.mean(accuracies))\n",
        "print(np.mean(knn_accuracies))\n",
        "output\n",
        "0.9420112781954886\n",
        "0.47092731829573936\n",
        "```\n",
        "This 0.47 is probably something going wrong... We can ignore this one and use other knn accuracies"
      ]
    },
    {
      "cell_type": "markdown",
      "metadata": {
        "id": "SFEv9cn6rnhS"
      },
      "source": [
        "\n",
        "\n",
        "```\n",
        "training_epochs = 1000\n",
        "learning_rate = 0.01\n",
        "criterion = torch.nn.CrossEntropyLoss()\n",
        "batch_size = 136\n",
        "\n",
        "fa_weight_sharing_within_segment = True\n",
        "fa_weight_sharing_between_segment = True\n",
        "ca_weight_sharing = False\n",
        "top_case_enabled = True\n",
        "top_k = 5\n",
        "class_weight_sharing = True\n",
        "\n",
        "patience = 40\n",
        "```\n",
        "```\n",
        "123\n",
        "# For classification\n",
        "print(np.mean(accuracies))\n",
        "print(np.mean(knn_accuracies))\n",
        "output\n",
        "0.9227130325814535\n",
        "0.9332706766917293\n",
        "```"
      ]
    },
    {
      "cell_type": "markdown",
      "metadata": {
        "id": "TfLJaow_rq36"
      },
      "source": [
        "```\n",
        "training_epochs = 1000\n",
        "learning_rate = 0.01\n",
        "criterion = torch.nn.CrossEntropyLoss()\n",
        "batch_size = 136\n",
        "\n",
        "fa_weight_sharing_within_segment = True\n",
        "fa_weight_sharing_between_segment = True\n",
        "ca_weight_sharing = False\n",
        "top_case_enabled = False\n",
        "top_k = 5\n",
        "class_weight_sharing = True\n",
        "\n",
        "patience = 40\n",
        "```\n",
        "```\n",
        "123\n",
        "# For classification\n",
        "print(np.mean(accuracies))\n",
        "print(np.mean(knn_accuracies))\n",
        "output\n",
        "0.9595551378446114\n",
        "0.9332080200501254\n",
        "```"
      ]
    },
    {
      "cell_type": "markdown",
      "metadata": {
        "id": "Ox8LsmRb5DnI"
      },
      "source": [
        "##Results, regression, Diabetes"
      ]
    },
    {
      "cell_type": "markdown",
      "metadata": {
        "id": "WiyPBzOA15nV"
      },
      "source": [
        "DOING, continue rerun my experiments from here"
      ]
    },
    {
      "cell_type": "markdown",
      "metadata": {
        "id": "OnS97fLj5Kj7"
      },
      "source": [
        "loss is MSE"
      ]
    },
    {
      "cell_type": "markdown",
      "metadata": {
        "id": "SGQbG9nj5FqQ"
      },
      "source": [
        "```\n",
        "For the vanilla neural network\n",
        "\n",
        "Average loss on the test set: 5937.172802734375\n",
        "```\n",
        "\n",
        "This is a bad neural net as it only outputs a single number as output\n",
        "\n",
        "I am not sure why. I also tried training with batch but no good result`\n",
        "\n",
        "This neural network should be powerful enough as it has about 900 parameters"
      ]
    },
    {
      "cell_type": "markdown",
      "metadata": {
        "id": "HNvHmRF_D1ul"
      },
      "source": [
        "```\n",
        "training_epochs = 1000\n",
        "learning_rate = 0.01\n",
        "criterion = torch.nn.MSELoss()\n",
        "batch_size = 100\n",
        "\n",
        "fa_weight_sharing_within_segment = True\n",
        "fa_weight_sharing_between_segment = True\n",
        "ca_weight_sharing = True\n",
        "top_case_enabled = True\n",
        "top_k = 5\n",
        "class_weight_sharing = True\n",
        "nn_cdh_enabled = False\n",
        "\n",
        "patience = 40\n",
        "```\n",
        "```\n",
        "# For regressionprint(torch.mean( torch.stack(accuracies, dim=0)))\n",
        "print(np.mean(top_k_average_accuracies))\n",
        "print(np.mean(knn_accuracies))\n",
        "\n",
        "output\n",
        "tensor(6001.3232, grad_fn=<MeanBackward0>)\n",
        "3944.142\n",
        "3665.2056\n",
        "```"
      ]
    },
    {
      "cell_type": "markdown",
      "metadata": {
        "id": "LvLNHcb9GKqJ"
      },
      "source": [
        "Here we see that our model performs worse than baseline knn. I think it's because top k is enabled.\n",
        "\n",
        "Let's turn off top k and see what happens."
      ]
    },
    {
      "cell_type": "markdown",
      "metadata": {
        "id": "pwKD02lLXNcr"
      },
      "source": [
        "```\n",
        "training_epochs = 1000\n",
        "learning_rate = 0.01\n",
        "criterion = torch.nn.MSELoss()\n",
        "batch_size = 100\n",
        "\n",
        "fa_weight_sharing_within_segment = True\n",
        "fa_weight_sharing_between_segment = True\n",
        "ca_weight_sharing = True\n",
        "top_case_enabled = False\n",
        "top_k = 5\n",
        "class_weight_sharing = True\n",
        "nn_cdh_enabled = False\n",
        "\n",
        "patience = 40\n",
        "```\n",
        "\n",
        "```\n",
        "12345\n",
        "# For regressionprint(torch.mean( torch.stack(accuracies, dim=0)))\n",
        "print(np.mean(top_k_average_accuracies))print(np.mean(knn_accuracies))\n",
        "\n",
        "output\n",
        "tensor(3819.3308, grad_fn=<MeanBackward0>)\n",
        "4752.0566\n",
        "3813.1926\n",
        "```"
      ]
    },
    {
      "cell_type": "markdown",
      "metadata": {
        "id": "o2BEzJkmhlZc"
      },
      "source": [
        "Turning off ca_weight_sharing"
      ]
    },
    {
      "cell_type": "markdown",
      "metadata": {
        "id": "y0_FoDeMhtLt"
      },
      "source": [
        "```\n",
        "training_epochs = 1000\n",
        "learning_rate = 0.01\n",
        "criterion = torch.nn.MSELoss()\n",
        "batch_size = 100\n",
        "\n",
        "fa_weight_sharing_within_segment = True\n",
        "fa_weight_sharing_between_segment = True\n",
        "ca_weight_sharing = False\n",
        "top_case_enabled = False\n",
        "top_k = 5\n",
        "class_weight_sharing = True\n",
        "nn_cdh_enabled = False\n",
        "\n",
        "patience = 40\n",
        "```\n",
        "```\n",
        "12345\n",
        "# For regression\n",
        "print(torch.mean( torch.stack(accuracies, dim=0)))\n",
        "print(np.mean(top_k_average_accuracies))\n",
        "print(np.mean(knn_accuracies))\n",
        "\n",
        "output\n",
        "tensor(3560.3840, grad_fn=<MeanBackward0>)\n",
        "5768.119\n",
        "3647.5903\n",
        "```"
      ]
    },
    {
      "cell_type": "markdown",
      "metadata": {
        "id": "1_6SF2ysoNuF"
      },
      "source": [
        "```\n",
        "1234\n",
        "print(torch.mean( torch.stack(accuracies, dim=0)))\n",
        "print(np.mean(top_k_average_accuracies))\n",
        "print(np.mean(knn_accuracies))\n",
        "\n",
        "output\n",
        "tensor(3385.0386, grad_fn=<MeanBackward0>)\n",
        "5738.933\n",
        "3572.9805\n",
        "```"
      ]
    },
    {
      "cell_type": "markdown",
      "metadata": {
        "id": "m4rIyA5RWxac"
      },
      "source": [
        "##Results, regression, California\n",
        "\n",
        "All the leaves are brown ~\n",
        "\n"
      ]
    },
    {
      "cell_type": "markdown",
      "metadata": {
        "id": "LUSW7u59VumL"
      },
      "source": [
        "California Housing Dataset"
      ]
    },
    {
      "cell_type": "markdown",
      "metadata": {
        "id": "H_-P0DljcmNQ"
      },
      "source": [
        "```\n",
        "For the vanilla neural network\n",
        "\n",
        "Loss on the test set: 1.3838589191436768\n",
        "```"
      ]
    },
    {
      "cell_type": "markdown",
      "metadata": {
        "id": "vD86mIVQW4tJ"
      },
      "source": [
        "```\n",
        "training_epochs = 1000\n",
        "learning_rate = 0.01\n",
        "criterion = torch.nn.MSELoss()\n",
        "batch_size = 100\n",
        "\n",
        "fa_weight_sharing_within_segment = True\n",
        "fa_weight_sharing_between_segment = True\n",
        "ca_weight_sharing = True\n",
        "top_case_enabled = True\n",
        "top_k = 5\n",
        "\n",
        "class_weight_sharing = True\n",
        "nn_cdh_enabled = False\n",
        "\n",
        "patience = 40\n",
        "```\n",
        "```\n",
        "print(torch.mean( torch.stack(accuracies, dim=0)))\n",
        "print(np.mean(top_k_average_accuracies))\n",
        "print(np.mean(knn_accuracies))\n",
        "\n",
        "tensor(0.8763, grad_fn=<MeanBackward0>)\n",
        "0.7351894\n",
        "1.4575317\n",
        "```"
      ]
    },
    {
      "cell_type": "markdown",
      "metadata": {
        "id": "PYMXym3iMigp"
      },
      "source": [
        "```\n",
        "training_epochs = 1000\n",
        "learning_rate = 0.01\n",
        "criterion = torch.nn.MSELoss()\n",
        "batch_size = 100\n",
        "\n",
        "fa_weight_sharing_within_segment = True\n",
        "fa_weight_sharing_between_segment = True\n",
        "ca_weight_sharing = True\n",
        "top_case_enabled = False\n",
        "top_k = 5\n",
        "class_weight_sharing = True\n",
        "nn_cdh_enabled = False\n",
        "\n",
        "patience = 40\n",
        "```\n",
        "\n",
        "```\n",
        "12345\n",
        "# For regressionprint(torch.mean( torch.stack(accuracies, dim=0)))\n",
        "print(np.mean(top_k_average_accuracies))\n",
        "print(np.mean(knn_accuracies))\n",
        "\n",
        "account_circle\n",
        "tensor(0.8593, grad_fn=<MeanBackward0>)\n",
        "0.8837114\n",
        "1.4449631\n",
        "```\n"
      ]
    },
    {
      "cell_type": "markdown",
      "metadata": {
        "id": "JXdfL9-aN15y"
      },
      "source": [
        "```\n",
        "training_epochs = 1000\n",
        "learning_rate = 0.01\n",
        "criterion = torch.nn.MSELoss()\n",
        "batch_size = 100\n",
        "\n",
        "fa_weight_sharing_within_segment = True\n",
        "fa_weight_sharing_between_segment = True\n",
        "ca_weight_sharing = False\n",
        "top_case_enabled = False\n",
        "top_k = 5\n",
        "class_weight_sharing = True\n",
        "nn_cdh_enabled = False\n",
        "\n",
        "patience = 40\n",
        "```\n",
        "```\n",
        "# For regressionprint(torch.mean( torch.stack(accuracies, dim=0)))\n",
        "print(np.mean(top_k_average_accuracies))\n",
        "print(np.mean(knn_accuracies))\n",
        "\n",
        "output\n",
        "tensor(0.6832, grad_fn=<MeanBackward0>)\n",
        "1.179338\n",
        "1.448509\n",
        "```"
      ]
    },
    {
      "cell_type": "markdown",
      "metadata": {
        "id": "Ak6-DEZeZxcb"
      },
      "source": [
        "#Interesting notes  "
      ]
    },
    {
      "cell_type": "markdown",
      "metadata": {
        "id": "oGpEt98hZzzJ"
      },
      "source": [
        "There are lots and lots of design decisions to make for your neural network. Here I list a few:\n",
        "\n",
        "*   For activation functions in each layer, do you use relu (only positive), or leakyRelu (to avoid dead neuron)\n",
        "*   For certain weights, do you want them to be positive only?\n",
        "*   For case->class activation, do you do a ``torch.topk`` to only allow a few top cases to activate or all cases to activate?\n",
        "\n"
      ]
    },
    {
      "cell_type": "markdown",
      "metadata": {
        "id": "jzavJN1pNh-y"
      },
      "source": [
        "#Tensor operation broadcasting experiment"
      ]
    },
    {
      "cell_type": "markdown",
      "metadata": {
        "id": "QkFyuBTFNamy"
      },
      "source": [
        "The above code relies on the broadcasting feature of pytorch tensor operations:\n",
        "\n",
        "PyTorch broadcasts the smaller tensor (tensor2) along the missing dimensions so that its shape matches that of the larger tensor (tensor1). The element-wise multiplication is then performed as usual.\n",
        "\n",
        "Keep in mind that broadcasting has some rules, and the dimensions of the tensors need to be compatible. The trailing dimensions of the tensors must either be the same or one of them should be 1. If a dimension is missing in one of the tensors, PyTorch considers it to be of size 1 for the purpose of broadcasting. If broadcasting cannot be done, PyTorch will raise a RuntimeError."
      ]
    },
    {
      "cell_type": "code",
      "execution_count": null,
      "metadata": {
        "id": "N_u4VvM4MPAf"
      },
      "outputs": [],
      "source": [
        "tensor_1 = torch.randn(1)\n",
        "tensor_2 = torch.randn(10,5)\n",
        "tensor_3 = torch.randn(10,5)"
      ]
    },
    {
      "cell_type": "code",
      "execution_count": null,
      "metadata": {
        "id": "3wWjRKRlnPA7"
      },
      "outputs": [],
      "source": [
        "# result = torch.matmul(tensor_2, tensor_3)\n",
        "result = tensor_2 * tensor_3"
      ]
    },
    {
      "cell_type": "code",
      "execution_count": null,
      "metadata": {
        "id": "k-nboj_-nYzk"
      },
      "outputs": [],
      "source": [
        "result.shape"
      ]
    },
    {
      "cell_type": "code",
      "execution_count": null,
      "metadata": {
        "id": "kM9C_MKBMaLh"
      },
      "outputs": [],
      "source": [
        "print(tensor_1)\n",
        "print(tensor_2)\n",
        "print(tensor_3)"
      ]
    },
    {
      "cell_type": "code",
      "execution_count": null,
      "metadata": {
        "id": "n5TOI7qIMrsh"
      },
      "outputs": [],
      "source": [
        "tensor_2* tensor_3"
      ]
    },
    {
      "cell_type": "code",
      "execution_count": null,
      "metadata": {
        "id": "WU6XNBTHNHh4"
      },
      "outputs": [],
      "source": [
        "tensor_1 * tensor_3"
      ]
    },
    {
      "cell_type": "code",
      "execution_count": null,
      "metadata": {
        "id": "og0Vd1GdMCcG"
      },
      "outputs": [],
      "source": [
        "tensor1 = torch.tensor([5.3712e-01, 1.6094e-01, -8.2879e-02, 7.0379e-01, -1.9436e-01,\n",
        "                        -8.6414e-02, -1.1221e+00, 1.7594e+00, -6.0423e-01, 1.9192e-02])"
      ]
    },
    {
      "cell_type": "code",
      "execution_count": null,
      "metadata": {
        "id": "hSuD7F5BNsat"
      },
      "outputs": [],
      "source": [
        "torch.matmul(tensor1, tensor1)"
      ]
    },
    {
      "cell_type": "code",
      "execution_count": null,
      "metadata": {
        "id": "mcbrjZMhMJKF"
      },
      "outputs": [],
      "source": [
        "tensor2.shape"
      ]
    },
    {
      "cell_type": "code",
      "execution_count": null,
      "metadata": {
        "id": "KJgs8II-Lm05"
      },
      "outputs": [],
      "source": [
        "import torch\n",
        "\n",
        "# Define the 1D tensor\n",
        "tensor1 = torch.tensor([[5.3712e-01, 1.6094e-01, -8.2879e-02, 7.0379e-01, -1.9436e-01,\n",
        "                        -8.6414e-02, -1.1221e+00, 1.7594e+00, -6.0423e-01, 1.9192e-02]])\n",
        "\n",
        "# Define the column vector (2D tensor)\n",
        "tensor2 = torch.tensor([[0.1390],\n",
        "                        [0.0275],\n",
        "                        [-0.5462],\n",
        "                        [-1.9431],\n",
        "                        [-0.0524],\n",
        "                        [0.9949],\n",
        "                        [-2.7876],\n",
        "                        [0.3611],\n",
        "                        [0.0308],\n",
        "                        [0.0524]])\n",
        "\n",
        "# Element-wise multiplication\n",
        "result = torch.matmul(tensor1 , tensor2)\n",
        "\n",
        "\n",
        "\n",
        "# Alternatively, you can use the * operator\n",
        "# result = tensor1 * tensor2.squeeze()\n",
        "\n",
        "print(result)\n"
      ]
    },
    {
      "cell_type": "code",
      "execution_count": null,
      "metadata": {
        "id": "MXEY0twgLP9K"
      },
      "outputs": [],
      "source": [
        "torch.matmul(tensor_2, tensor_3)"
      ]
    },
    {
      "cell_type": "code",
      "execution_count": null,
      "metadata": {
        "id": "9yjIqbApsCLk"
      },
      "outputs": [],
      "source": [
        "torch.matmul(tensor_3, tensor_2)"
      ]
    }
  ],
  "metadata": {
    "accelerator": "GPU",
    "colab": {
      "collapsed_sections": [
        "Z6BE0VHTogJo",
        "hdMkoZr_KgZX",
        "f2NnlWpVWqn6"
      ],
      "provenance": [],
      "machine_shape": "hm",
      "toc_visible": true,
      "include_colab_link": true
    },
    "kernelspec": {
      "display_name": "Python 3",
      "name": "python3"
    },
    "language_info": {
      "name": "python"
    }
  },
  "nbformat": 4,
  "nbformat_minor": 0
}